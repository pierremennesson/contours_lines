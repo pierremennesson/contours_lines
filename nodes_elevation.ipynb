{
 "cells": [
  {
   "cell_type": "code",
   "execution_count": 1,
   "id": "91cb1570-0726-4199-86ee-4590d33ab05f",
   "metadata": {},
   "outputs": [],
   "source": [
    "%load_ext autoreload\n",
    "%autoreload 2\n",
    "%reload_ext autoreload\n",
    "import mysql.connector\n",
    "import networkx as nx\n",
    "import geopandas as gpd\n",
    "import pandas as pd\n",
    "from shapely.geometry import Polygon,MultiPolygon,LineString,MultiLineString,LinearRing,Point\n",
    "from shapely import symmetric_difference\n",
    "from shapely.ops import nearest_points\n",
    "from shapely.wkt import loads\n",
    "import scipy\n",
    "import time\n",
    "import numpy as np\n",
    "import random\n",
    "from networkx.drawing.nx_pydot import graphviz_layout\n",
    "import matplotlib.pyplot as plt\n",
    "import osmnx as ox\n",
    "import glob\n",
    "from itertools import combinations,product\n",
    "from copy import deepcopy\n",
    "import os\n",
    "from lib_contour_lines import *\n",
    "import mysql.connector\n"
   ]
  },
  {
   "cell_type": "code",
   "execution_count": 2,
   "id": "c9f989f5-f6ac-4235-9d4e-b8e678dcdf12",
   "metadata": {},
   "outputs": [
    {
     "data": {
      "text/plain": [
       "2"
      ]
     },
     "execution_count": 2,
     "metadata": {},
     "output_type": "execute_result"
    }
   ],
   "source": [
    "\n",
    "cnx = mysql.connector.connect(user='spirz', \n",
    "                              password='this_is_my_PASSWORD_m8',\n",
    "                              host='localhost',\n",
    "                              database='dem_from_contours_lines',\n",
    "                              autocommit=True)\n",
    "cursor = cnx.cursor(buffered=True,dictionary=True)\n",
    "contours_lines_table_name='contours_lines'\n",
    "tree_edges_table_name=\"tree_edges\"\n",
    "osm_nodes_table_name=\"osm_nodes\"\n",
    "osm_intersections_table_name=\"osm_intersections\"\n",
    "2"
   ]
  },
  {
   "cell_type": "code",
   "execution_count": 3,
   "id": "fafb598b-0ea8-45d5-8e37-13886b3c388b",
   "metadata": {},
   "outputs": [
    {
     "name": "stdout",
     "output_type": "stream",
     "text": [
      "0.6398584842681885\n"
     ]
    }
   ],
   "source": [
    "t1=time.time()\n",
    "G=build_graph(cursor)\n",
    "t2=time.time()\n",
    "print(t2-t1)"
   ]
  },
  {
   "cell_type": "code",
   "execution_count": 9,
   "id": "96ae45d5-55e3-4684-9d24-e45c16165174",
   "metadata": {},
   "outputs": [
    {
     "name": "stdout",
     "output_type": "stream",
     "text": [
      "1.5327253341674805\n"
     ]
    }
   ],
   "source": [
    "t1=time.time()\n",
    "cmd=\"SELECT osm_id,contour_line_id,ST_asText(geometry) AS geometry FROM %s WHERE contour_line_id IS NOT NULL\"%osm_nodes_table_name\n",
    "cursor.execute(cmd)\n",
    "nodes_data=pd.DataFrame(cursor.fetchall())\n",
    "nodes_data['geometry']=nodes_data['geometry'].apply(lambda pt:loads(pt))\n",
    "nodes_data=nodes_data.set_index('osm_id',drop=False)\n",
    "nodes_data=gpd.GeoDataFrame(nodes_data,geometry='geometry',crs='epsg:4326')\n",
    "nodes_data['old_geometry']=nodes_data['geometry'].copy()\n",
    "crs=nodes_data.estimate_utm_crs()\n",
    "nodes_data=nodes_data.to_crs(crs)\n",
    "nodes_data['depth']=nodes_data['contour_line_id'].apply(lambda contour_line_id:G.nodes()[contour_line_id]['depth'])\n",
    "t2=time.time()\n",
    "print(t2-t1)"
   ]
  },
  {
   "cell_type": "code",
   "execution_count": null,
   "id": "5c83df65-123c-41f4-9491-0ca92dcac9b7",
   "metadata": {},
   "outputs": [
    {
     "name": "stdout",
     "output_type": "stream",
     "text": [
      "sorted\n",
      "607 neighbors\n",
      "setting up df took 0.796401\n"
     ]
    },
    {
     "name": "stderr",
     "output_type": "stream",
     "text": [
      "/home/pierre/anaconda3/conda/envs/pygmt/lib/python3.11/site-packages/shapely/linear.py:90: RuntimeWarning: invalid value encountered in line_locate_point\n",
      "  return lib.line_locate_point(line, other)\n"
     ]
    }
   ],
   "source": [
    "max_nb_neighbors=float('inf')\n",
    "t1=time.time()\n",
    "nodes_data['elevation']=None\n",
    "contour_line_ids=nodes_data['contour_line_id'].unique()\n",
    "contour_lines_ids=sorted(contour_line_ids,key=lambda contour_line_id:len(list(G.neighbors(contour_line_id))))\n",
    "contour_lines_ids=contour_lines_ids[::-1]\n",
    "print('sorted')\n",
    "for k,root_contour_line_id in enumerate(contour_lines_ids):\n",
    "    if (k+1)%10==0:\n",
    "        print('%i/%i'%(k+1,len(contour_line_ids)))\n",
    "    neighbor_contour_line_ids=list(G.neighbors(root_contour_line_id))\n",
    "    print('%i neighbors'%len(neighbor_contour_line_ids))\n",
    "    if 0<len(neighbor_contour_line_ids)<max_nb_neighbors:\n",
    "        t3=time.time()\n",
    "        local_contours_line_ids=[root_contour_line_id]+neighbor_contour_line_ids\n",
    "        local_contour_data=get_nodes_data(cursor,local_contours_line_ids)\n",
    "        local_contour_data=local_contour_data.to_crs(crs)\n",
    "        local_contour_data=local_contour_data.set_index('id')\n",
    "        t4=time.time()\n",
    "        print('setting up df took %f'%(t4-t3))\n",
    "        local_nodes_data=nodes_data[nodes_data.contour_line_id==root_contour_line_id].copy()\n",
    "        local_nodes_data['elevation']=local_nodes_data['geometry'].apply(lambda osm_pt:get_osm_node_elevation(osm_pt,local_contour_data))\n",
    "        nodes_data.loc[nodes_data.contour_line_id==root_contour_line_id,'elevation']=local_nodes_data.loc[:,'elevation']\n",
    "    \n",
    "        t5=time.time()\n",
    "        print('finding affine basis took %f'%(t5-t4))\n",
    "        print('intermediate time %f'%(t5-t1))\n",
    "t2=time.time()\n",
    "print(t2-t1)"
   ]
  },
  {
   "cell_type": "code",
   "execution_count": 7,
   "id": "04933ac7-af50-4ccf-8e06-0e658e4bdd3e",
   "metadata": {},
   "outputs": [
    {
     "data": {
      "text/plain": [
       "(-2.4193548387096797, 3.03846418619785, 3.3380884450784833, 4.0)"
      ]
     },
     "execution_count": 7,
     "metadata": {},
     "output_type": "execute_result"
    }
   ],
   "source": [
    "nodes_data=nodes_data[nodes_data.elevation==nodes_data.elevation]\n",
    "diffs=nodes_data['elevation']-nodes_data['contour_line_id'].apply(lambda node:G.nodes()[node]['elevation'])\n",
    "np.min(diffs),np.mean(diffs),np.median(diffs),np.max(diffs)\n",
    "                                                                  "
   ]
  },
  {
   "cell_type": "code",
   "execution_count": 10,
   "id": "943e0621-cc8a-4bc2-aa52-1455f1e5e244",
   "metadata": {},
   "outputs": [
    {
     "data": {
      "text/plain": [
       "83512"
      ]
     },
     "execution_count": 10,
     "metadata": {},
     "output_type": "execute_result"
    }
   ],
   "source": [
    "len(nodes_data)"
   ]
  },
  {
   "cell_type": "code",
   "execution_count": null,
   "id": "8f380e96-9a7c-4484-944a-0de801e35afc",
   "metadata": {},
   "outputs": [],
   "source": []
  }
 ],
 "metadata": {
  "kernelspec": {
   "display_name": "pygmt",
   "language": "python",
   "name": "pygmt"
  },
  "language_info": {
   "codemirror_mode": {
    "name": "ipython",
    "version": 3
   },
   "file_extension": ".py",
   "mimetype": "text/x-python",
   "name": "python",
   "nbconvert_exporter": "python",
   "pygments_lexer": "ipython3",
   "version": "3.11.5"
  }
 },
 "nbformat": 4,
 "nbformat_minor": 5
}
