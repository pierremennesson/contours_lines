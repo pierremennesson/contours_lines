{
 "cells": [
  {
   "cell_type": "code",
   "execution_count": 1,
   "id": "91cb1570-0726-4199-86ee-4590d33ab05f",
   "metadata": {},
   "outputs": [],
   "source": [
    "%load_ext autoreload\n",
    "%autoreload 2\n",
    "%reload_ext autoreload\n",
    "import mysql.connector\n",
    "import networkx as nx\n",
    "import geopandas as gpd\n",
    "import pandas as pd\n",
    "from shapely.geometry import Polygon,MultiPolygon,LineString,MultiLineString,LinearRing,Point\n",
    "from shapely import symmetric_difference\n",
    "from shapely.ops import nearest_points\n",
    "from shapely.wkt import loads\n",
    "import scipy\n",
    "import time\n",
    "import numpy as np\n",
    "import random\n",
    "from networkx.drawing.nx_pydot import graphviz_layout\n",
    "import matplotlib.pyplot as plt\n",
    "import osmnx as ox\n",
    "import glob\n",
    "from itertools import combinations,product\n",
    "from copy import deepcopy\n",
    "import os\n",
    "from lib_contour_lines import *\n",
    "import mysql.connector\n"
   ]
  },
  {
   "cell_type": "code",
   "execution_count": 2,
   "id": "c9f989f5-f6ac-4235-9d4e-b8e678dcdf12",
   "metadata": {},
   "outputs": [
    {
     "data": {
      "text/plain": [
       "2"
      ]
     },
     "execution_count": 2,
     "metadata": {},
     "output_type": "execute_result"
    }
   ],
   "source": [
    "\n",
    "cnx = mysql.connector.connect(user='spirz', \n",
    "                              password='this_is_my_PASSWORD_m8',\n",
    "                              host='localhost',\n",
    "                              database='dem_from_contours_lines',\n",
    "                              autocommit=True)\n",
    "cursor = cnx.cursor(buffered=True,dictionary=True)\n",
    "contours_lines_table_name='contours_lines'\n",
    "tree_edges_table_name=\"tree_edges\"\n",
    "osm_nodes_table_name=\"osm_nodes\"\n",
    "osm_intersections_table_name=\"osm_intersections\"\n",
    "2"
   ]
  },
  {
   "cell_type": "code",
   "execution_count": 18,
   "id": "96ae45d5-55e3-4684-9d24-e45c16165174",
   "metadata": {},
   "outputs": [],
   "source": [
    "cmd=\"SELECT osm_id,contour_line_id FROM %s\"%osm_nodes_table_name\n",
    "cursor.execute(cmd)\n",
    "nodes_data=pd.DataFrame(cursor.fetchall())"
   ]
  },
  {
   "cell_type": "code",
   "execution_count": 19,
   "id": "685f1177-765b-49b0-8d5c-4aaf7ec51fbc",
   "metadata": {},
   "outputs": [
    {
     "data": {
      "text/html": [
       "<div>\n",
       "<style scoped>\n",
       "    .dataframe tbody tr th:only-of-type {\n",
       "        vertical-align: middle;\n",
       "    }\n",
       "\n",
       "    .dataframe tbody tr th {\n",
       "        vertical-align: top;\n",
       "    }\n",
       "\n",
       "    .dataframe thead th {\n",
       "        text-align: right;\n",
       "    }\n",
       "</style>\n",
       "<table border=\"1\" class=\"dataframe\">\n",
       "  <thead>\n",
       "    <tr style=\"text-align: right;\">\n",
       "      <th></th>\n",
       "      <th>osm_id</th>\n",
       "      <th>contour_line_id</th>\n",
       "    </tr>\n",
       "  </thead>\n",
       "  <tbody>\n",
       "    <tr>\n",
       "      <th>0</th>\n",
       "      <td>1243805918</td>\n",
       "      <td>580</td>\n",
       "    </tr>\n",
       "    <tr>\n",
       "      <th>1</th>\n",
       "      <td>3510978185</td>\n",
       "      <td>580</td>\n",
       "    </tr>\n",
       "    <tr>\n",
       "      <th>2</th>\n",
       "      <td>3510978187</td>\n",
       "      <td>580</td>\n",
       "    </tr>\n",
       "    <tr>\n",
       "      <th>3</th>\n",
       "      <td>5880263938</td>\n",
       "      <td>580</td>\n",
       "    </tr>\n",
       "    <tr>\n",
       "      <th>4</th>\n",
       "      <td>10087242750</td>\n",
       "      <td>580</td>\n",
       "    </tr>\n",
       "    <tr>\n",
       "      <th>...</th>\n",
       "      <td>...</td>\n",
       "      <td>...</td>\n",
       "    </tr>\n",
       "    <tr>\n",
       "      <th>17430</th>\n",
       "      <td>301196406</td>\n",
       "      <td>115213</td>\n",
       "    </tr>\n",
       "    <tr>\n",
       "      <th>17431</th>\n",
       "      <td>294934188</td>\n",
       "      <td>115402</td>\n",
       "    </tr>\n",
       "    <tr>\n",
       "      <th>17432</th>\n",
       "      <td>294934059</td>\n",
       "      <td>115430</td>\n",
       "    </tr>\n",
       "    <tr>\n",
       "      <th>17433</th>\n",
       "      <td>10703146602</td>\n",
       "      <td>115480</td>\n",
       "    </tr>\n",
       "    <tr>\n",
       "      <th>17434</th>\n",
       "      <td>943065370</td>\n",
       "      <td>115533</td>\n",
       "    </tr>\n",
       "  </tbody>\n",
       "</table>\n",
       "<p>17435 rows × 2 columns</p>\n",
       "</div>"
      ],
      "text/plain": [
       "            osm_id  contour_line_id\n",
       "0       1243805918              580\n",
       "1       3510978185              580\n",
       "2       3510978187              580\n",
       "3       5880263938              580\n",
       "4      10087242750              580\n",
       "...            ...              ...\n",
       "17430    301196406           115213\n",
       "17431    294934188           115402\n",
       "17432    294934059           115430\n",
       "17433  10703146602           115480\n",
       "17434    943065370           115533\n",
       "\n",
       "[17435 rows x 2 columns]"
      ]
     },
     "execution_count": 19,
     "metadata": {},
     "output_type": "execute_result"
    }
   ],
   "source": [
    "nodes_data"
   ]
  },
  {
   "cell_type": "code",
   "execution_count": 4,
   "id": "505e11cd-6b02-4422-bf40-ea3a6bce899d",
   "metadata": {},
   "outputs": [
    {
     "data": {
      "text/plain": [
       "2"
      ]
     },
     "execution_count": 4,
     "metadata": {},
     "output_type": "execute_result"
    }
   ],
   "source": [
    "CREATE_TABLES=True\n",
    "if CREATE_TABLES:\n",
    "    cmd=\"\"\"CREATE TABLE `%s`(\n",
    "    `osm_id` BIGINT NOT NULL,\n",
    "    `contour_line_id` INT NOT NULL,\n",
    "    `elevation` FLOAT,\n",
    "\n",
    "    FOREIGN KEY (contour_line_id) REFERENCES %s(id),\n",
    "    PRIMARY KEY (osm_id)\n",
    "    );\n",
    "        \"\"\"%(osm_nodes_table_name,contours_lines_table_name)\n",
    "    \n",
    "    cursor.execute(cmd)\n",
    "\n",
    "\n",
    "\n",
    "    \n",
    "    cmd=\"\"\"CREATE TABLE `%s`(\n",
    "        `osm_begin` BIGINT NOT NULL,\n",
    "        `osm_end` BIGINT NOT NULL,\n",
    "        `osm_key` INT NOT NULL,\n",
    "        `contour_line_id` INT NOT NULL,\n",
    "        `edge_coordinate` FLOAT NOT NULL,\n",
    "        `elevation` FLOAT NOT NULL,\n",
    "\n",
    "        FOREIGN KEY (osm_begin) REFERENCES %s(osm_id),\n",
    "        FOREIGN KEY (osm_end) REFERENCES %s(osm_id),\n",
    "        FOREIGN KEY (contour_line_id) REFERENCES %s(id),\n",
    "        PRIMARY KEY (osm_begin,osm_end,osm_key,edge_coordinate)\n",
    "        \n",
    "\n",
    "          )\n",
    "          ENGINE=InnoDB;\n",
    "        \"\"\"%(osm_intersections_table_name,osm_nodes_table_name,osm_nodes_table_name,contours_lines_table_name)\n",
    "    cursor.execute(cmd)\n",
    "    \n",
    "\n",
    "2"
   ]
  },
  {
   "cell_type": "code",
   "execution_count": null,
   "id": "442f733f-9d26-4bff-88dc-c9f089b29fbe",
   "metadata": {},
   "outputs": [],
   "source": []
  }
 ],
 "metadata": {
  "kernelspec": {
   "display_name": "pygmt",
   "language": "python",
   "name": "pygmt"
  },
  "language_info": {
   "codemirror_mode": {
    "name": "ipython",
    "version": 3
   },
   "file_extension": ".py",
   "mimetype": "text/x-python",
   "name": "python",
   "nbconvert_exporter": "python",
   "pygments_lexer": "ipython3",
   "version": "3.11.5"
  }
 },
 "nbformat": 4,
 "nbformat_minor": 5
}
