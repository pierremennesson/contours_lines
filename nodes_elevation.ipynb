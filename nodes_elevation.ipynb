{
 "cells": [
  {
   "cell_type": "code",
   "execution_count": 1,
   "id": "91cb1570-0726-4199-86ee-4590d33ab05f",
   "metadata": {},
   "outputs": [],
   "source": [
    "%load_ext autoreload\n",
    "%autoreload 2\n",
    "%reload_ext autoreload\n",
    "import mysql.connector\n",
    "import networkx as nx\n",
    "import geopandas as gpd\n",
    "import pandas as pd\n",
    "from shapely.geometry import Polygon,MultiPolygon,LineString,MultiLineString,LinearRing,Point\n",
    "from shapely import symmetric_difference\n",
    "from shapely.ops import nearest_points\n",
    "from shapely.wkt import loads\n",
    "import scipy\n",
    "import time\n",
    "import numpy as np\n",
    "import random\n",
    "from networkx.drawing.nx_pydot import graphviz_layout\n",
    "import matplotlib.pyplot as plt\n",
    "import osmnx as ox\n",
    "import glob\n",
    "from itertools import combinations,product\n",
    "from copy import deepcopy\n",
    "import os\n",
    "from lib_contour_lines import *\n",
    "import mysql.connector\n"
   ]
  },
  {
   "cell_type": "code",
   "execution_count": 2,
   "id": "c9f989f5-f6ac-4235-9d4e-b8e678dcdf12",
   "metadata": {},
   "outputs": [
    {
     "data": {
      "text/plain": [
       "2"
      ]
     },
     "execution_count": 2,
     "metadata": {},
     "output_type": "execute_result"
    }
   ],
   "source": [
    "\n",
    "cnx = mysql.connector.connect(user='spirz', \n",
    "                              password='this_is_my_PASSWORD_m8',\n",
    "                              host='localhost',\n",
    "                              database='dem_from_contours_lines',\n",
    "                              autocommit=True)\n",
    "cursor = cnx.cursor(buffered=True,dictionary=True)\n",
    "contours_lines_table_name='contours_lines'\n",
    "tree_edges_table_name=\"tree_edges\"\n",
    "osm_nodes_table_name=\"osm_nodes\"\n",
    "osm_intersections_table_name=\"osm_intersections\"\n",
    "2"
   ]
  },
  {
   "cell_type": "code",
   "execution_count": 3,
   "id": "fafb598b-0ea8-45d5-8e37-13886b3c388b",
   "metadata": {},
   "outputs": [
    {
     "name": "stdout",
     "output_type": "stream",
     "text": [
      "0.9450118541717529\n"
     ]
    }
   ],
   "source": [
    "t1=time.time()\n",
    "G=build_graph(cursor)\n",
    "t2=time.time()\n",
    "print(t2-t1)"
   ]
  },
  {
   "cell_type": "code",
   "execution_count": 4,
   "id": "96ae45d5-55e3-4684-9d24-e45c16165174",
   "metadata": {},
   "outputs": [
    {
     "name": "stdout",
     "output_type": "stream",
     "text": [
      "0.49240541458129883\n"
     ]
    }
   ],
   "source": [
    "t1=time.time()\n",
    "cmd=\"SELECT osm_id,contour_line_id,ST_asText(geometry) AS geometry FROM %s WHERE contour_line_id IS NOT NULL\"%osm_nodes_table_name\n",
    "cursor.execute(cmd)\n",
    "nodes_data=pd.DataFrame(cursor.fetchall())\n",
    "nodes_data['geometry']=nodes_data['geometry'].apply(lambda pt:loads(pt))\n",
    "nodes_data=nodes_data.set_index('osm_id',drop=False)\n",
    "nodes_data=gpd.GeoDataFrame(nodes_data,geometry='geometry',crs='epsg:4326')\n",
    "nodes_data['old_geometry']=nodes_data['geometry'].copy()\n",
    "crs=nodes_data.estimate_utm_crs()\n",
    "nodes_data=nodes_data.to_crs(crs)\n",
    "nodes_data['depth']=nodes_data['contour_line_id'].apply(lambda contour_line_id:G.nodes()[contour_line_id]['depth'])\n",
    "t2=time.time()\n",
    "print(t2-t1)"
   ]
  },
  {
   "cell_type": "code",
   "execution_count": 5,
   "id": "20ca0982-5779-484e-846e-ebc1ac22062c",
   "metadata": {},
   "outputs": [
    {
     "data": {
      "text/plain": [
       "17433"
      ]
     },
     "execution_count": 5,
     "metadata": {},
     "output_type": "execute_result"
    }
   ],
   "source": [
    "len(nodes_data)"
   ]
  },
  {
   "cell_type": "code",
   "execution_count": 6,
   "id": "5c83df65-123c-41f4-9491-0ca92dcac9b7",
   "metadata": {},
   "outputs": [
    {
     "name": "stdout",
     "output_type": "stream",
     "text": [
      "sorted\n",
      "607 neighbors\n",
      "setting up df took 0.696422\n"
     ]
    },
    {
     "name": "stderr",
     "output_type": "stream",
     "text": [
      "/home/pierre/anaconda3/conda/envs/pygmt/lib/python3.11/site-packages/shapely/linear.py:90: RuntimeWarning: invalid value encountered in line_locate_point\n",
      "  return lib.line_locate_point(line, other)\n"
     ]
    },
    {
     "name": "stdout",
     "output_type": "stream",
     "text": [
      "finding affine basis took 35.487742\n",
      "intermediate time 36.186804\n",
      "228 neighbors\n",
      "setting up df took 0.845675\n"
     ]
    },
    {
     "name": "stderr",
     "output_type": "stream",
     "text": [
      "/home/pierre/anaconda3/conda/envs/pygmt/lib/python3.11/site-packages/shapely/linear.py:90: RuntimeWarning: invalid value encountered in line_locate_point\n",
      "  return lib.line_locate_point(line, other)\n"
     ]
    },
    {
     "name": "stdout",
     "output_type": "stream",
     "text": [
      "finding affine basis took 29.925716\n",
      "intermediate time 66.958275\n",
      "205 neighbors\n",
      "setting up df took 0.923965\n"
     ]
    },
    {
     "name": "stderr",
     "output_type": "stream",
     "text": [
      "/home/pierre/anaconda3/conda/envs/pygmt/lib/python3.11/site-packages/shapely/linear.py:90: RuntimeWarning: invalid value encountered in line_locate_point\n",
      "  return lib.line_locate_point(line, other)\n"
     ]
    },
    {
     "name": "stdout",
     "output_type": "stream",
     "text": [
      "finding affine basis took 26.040377\n",
      "intermediate time 93.922701\n",
      "187 neighbors\n",
      "setting up df took 0.932689\n"
     ]
    },
    {
     "name": "stderr",
     "output_type": "stream",
     "text": [
      "/home/pierre/anaconda3/conda/envs/pygmt/lib/python3.11/site-packages/shapely/linear.py:90: RuntimeWarning: invalid value encountered in line_locate_point\n",
      "  return lib.line_locate_point(line, other)\n"
     ]
    },
    {
     "name": "stdout",
     "output_type": "stream",
     "text": [
      "finding affine basis took 21.082389\n",
      "intermediate time 115.937844\n",
      "184 neighbors\n",
      "setting up df took 0.973685\n"
     ]
    },
    {
     "name": "stderr",
     "output_type": "stream",
     "text": [
      "/home/pierre/anaconda3/conda/envs/pygmt/lib/python3.11/site-packages/shapely/linear.py:90: RuntimeWarning: invalid value encountered in line_locate_point\n",
      "  return lib.line_locate_point(line, other)\n"
     ]
    },
    {
     "name": "stdout",
     "output_type": "stream",
     "text": [
      "finding affine basis took 23.679102\n",
      "intermediate time 140.590729\n",
      "174 neighbors\n",
      "setting up df took 1.028915\n"
     ]
    },
    {
     "name": "stderr",
     "output_type": "stream",
     "text": [
      "/home/pierre/anaconda3/conda/envs/pygmt/lib/python3.11/site-packages/shapely/linear.py:90: RuntimeWarning: invalid value encountered in line_locate_point\n",
      "  return lib.line_locate_point(line, other)\n"
     ]
    },
    {
     "name": "stdout",
     "output_type": "stream",
     "text": [
      "finding affine basis took 19.652545\n",
      "intermediate time 161.272259\n",
      "172 neighbors\n",
      "setting up df took 1.089250\n"
     ]
    },
    {
     "name": "stderr",
     "output_type": "stream",
     "text": [
      "/home/pierre/anaconda3/conda/envs/pygmt/lib/python3.11/site-packages/shapely/linear.py:90: RuntimeWarning: invalid value encountered in line_locate_point\n",
      "  return lib.line_locate_point(line, other)\n"
     ]
    },
    {
     "name": "stdout",
     "output_type": "stream",
     "text": [
      "finding affine basis took 14.069143\n",
      "intermediate time 176.430717\n",
      "168 neighbors\n",
      "setting up df took 1.012787\n"
     ]
    },
    {
     "name": "stderr",
     "output_type": "stream",
     "text": [
      "/home/pierre/anaconda3/conda/envs/pygmt/lib/python3.11/site-packages/shapely/linear.py:90: RuntimeWarning: invalid value encountered in line_locate_point\n",
      "  return lib.line_locate_point(line, other)\n"
     ]
    },
    {
     "name": "stdout",
     "output_type": "stream",
     "text": [
      "finding affine basis took 16.331222\n",
      "intermediate time 193.774803\n",
      "157 neighbors\n",
      "setting up df took 1.216506\n"
     ]
    },
    {
     "name": "stderr",
     "output_type": "stream",
     "text": [
      "/home/pierre/anaconda3/conda/envs/pygmt/lib/python3.11/site-packages/shapely/linear.py:90: RuntimeWarning: invalid value encountered in line_locate_point\n",
      "  return lib.line_locate_point(line, other)\n"
     ]
    },
    {
     "name": "stdout",
     "output_type": "stream",
     "text": [
      "finding affine basis took 9.680537\n",
      "intermediate time 204.671923\n",
      "10/971\n",
      "151 neighbors\n",
      "setting up df took 1.135044\n"
     ]
    },
    {
     "name": "stderr",
     "output_type": "stream",
     "text": [
      "/home/pierre/anaconda3/conda/envs/pygmt/lib/python3.11/site-packages/shapely/linear.py:90: RuntimeWarning: invalid value encountered in line_locate_point\n",
      "  return lib.line_locate_point(line, other)\n"
     ]
    },
    {
     "name": "stdout",
     "output_type": "stream",
     "text": [
      "finding affine basis took 14.461101\n",
      "intermediate time 220.268147\n",
      "149 neighbors\n",
      "setting up df took 1.200669\n"
     ]
    },
    {
     "name": "stderr",
     "output_type": "stream",
     "text": [
      "/home/pierre/anaconda3/conda/envs/pygmt/lib/python3.11/site-packages/shapely/linear.py:90: RuntimeWarning: invalid value encountered in line_locate_point\n",
      "  return lib.line_locate_point(line, other)\n"
     ]
    },
    {
     "name": "stdout",
     "output_type": "stream",
     "text": [
      "finding affine basis took 12.315442\n",
      "intermediate time 233.784325\n",
      "143 neighbors\n",
      "setting up df took 1.282344\n"
     ]
    },
    {
     "name": "stderr",
     "output_type": "stream",
     "text": [
      "/home/pierre/anaconda3/conda/envs/pygmt/lib/python3.11/site-packages/shapely/linear.py:90: RuntimeWarning: invalid value encountered in line_locate_point\n",
      "  return lib.line_locate_point(line, other)\n"
     ]
    },
    {
     "name": "stdout",
     "output_type": "stream",
     "text": [
      "finding affine basis took 10.361850\n",
      "intermediate time 245.428639\n",
      "141 neighbors\n",
      "setting up df took 1.059503\n"
     ]
    },
    {
     "name": "stderr",
     "output_type": "stream",
     "text": [
      "/home/pierre/anaconda3/conda/envs/pygmt/lib/python3.11/site-packages/shapely/linear.py:90: RuntimeWarning: invalid value encountered in line_locate_point\n",
      "  return lib.line_locate_point(line, other)\n"
     ]
    },
    {
     "name": "stdout",
     "output_type": "stream",
     "text": [
      "finding affine basis took 15.497833\n",
      "intermediate time 261.986037\n",
      "136 neighbors\n",
      "setting up df took 1.307766\n"
     ]
    },
    {
     "name": "stderr",
     "output_type": "stream",
     "text": [
      "/home/pierre/anaconda3/conda/envs/pygmt/lib/python3.11/site-packages/shapely/linear.py:90: RuntimeWarning: invalid value encountered in line_locate_point\n",
      "  return lib.line_locate_point(line, other)\n"
     ]
    },
    {
     "name": "stdout",
     "output_type": "stream",
     "text": [
      "finding affine basis took 7.416980\n",
      "intermediate time 270.710855\n",
      "135 neighbors\n",
      "setting up df took 1.174326\n"
     ]
    },
    {
     "name": "stderr",
     "output_type": "stream",
     "text": [
      "/home/pierre/anaconda3/conda/envs/pygmt/lib/python3.11/site-packages/shapely/linear.py:90: RuntimeWarning: invalid value encountered in line_locate_point\n",
      "  return lib.line_locate_point(line, other)\n"
     ]
    },
    {
     "name": "stdout",
     "output_type": "stream",
     "text": [
      "finding affine basis took 5.296231\n",
      "intermediate time 277.181480\n",
      "127 neighbors\n",
      "setting up df took 1.140667\n"
     ]
    },
    {
     "name": "stderr",
     "output_type": "stream",
     "text": [
      "/home/pierre/anaconda3/conda/envs/pygmt/lib/python3.11/site-packages/shapely/linear.py:90: RuntimeWarning: invalid value encountered in line_locate_point\n",
      "  return lib.line_locate_point(line, other)\n"
     ]
    },
    {
     "name": "stdout",
     "output_type": "stream",
     "text": [
      "finding affine basis took 6.359137\n",
      "intermediate time 284.681419\n",
      "127 neighbors\n",
      "setting up df took 1.171682\n"
     ]
    },
    {
     "name": "stderr",
     "output_type": "stream",
     "text": [
      "/home/pierre/anaconda3/conda/envs/pygmt/lib/python3.11/site-packages/shapely/linear.py:90: RuntimeWarning: invalid value encountered in line_locate_point\n",
      "  return lib.line_locate_point(line, other)\n"
     ]
    },
    {
     "name": "stdout",
     "output_type": "stream",
     "text": [
      "finding affine basis took 12.211900\n",
      "intermediate time 298.065063\n",
      "124 neighbors\n",
      "setting up df took 1.153061\n"
     ]
    },
    {
     "name": "stderr",
     "output_type": "stream",
     "text": [
      "/home/pierre/anaconda3/conda/envs/pygmt/lib/python3.11/site-packages/shapely/linear.py:90: RuntimeWarning: invalid value encountered in line_locate_point\n",
      "  return lib.line_locate_point(line, other)\n"
     ]
    },
    {
     "name": "stdout",
     "output_type": "stream",
     "text": [
      "finding affine basis took 6.859057\n",
      "intermediate time 306.077295\n",
      "109 neighbors\n",
      "setting up df took 1.137159\n"
     ]
    },
    {
     "name": "stderr",
     "output_type": "stream",
     "text": [
      "/home/pierre/anaconda3/conda/envs/pygmt/lib/python3.11/site-packages/shapely/linear.py:90: RuntimeWarning: invalid value encountered in line_locate_point\n",
      "  return lib.line_locate_point(line, other)\n"
     ]
    },
    {
     "name": "stdout",
     "output_type": "stream",
     "text": [
      "finding affine basis took 4.343421\n",
      "intermediate time 311.557958\n",
      "20/971\n",
      "105 neighbors\n",
      "setting up df took 1.151535\n"
     ]
    },
    {
     "name": "stderr",
     "output_type": "stream",
     "text": [
      "/home/pierre/anaconda3/conda/envs/pygmt/lib/python3.11/site-packages/shapely/linear.py:90: RuntimeWarning: invalid value encountered in line_locate_point\n",
      "  return lib.line_locate_point(line, other)\n"
     ]
    },
    {
     "name": "stdout",
     "output_type": "stream",
     "text": [
      "finding affine basis took 4.309811\n",
      "intermediate time 317.019367\n",
      "105 neighbors\n",
      "setting up df took 1.092777\n"
     ]
    },
    {
     "name": "stderr",
     "output_type": "stream",
     "text": [
      "/home/pierre/anaconda3/conda/envs/pygmt/lib/python3.11/site-packages/shapely/linear.py:90: RuntimeWarning: invalid value encountered in line_locate_point\n",
      "  return lib.line_locate_point(line, other)\n"
     ]
    },
    {
     "name": "stdout",
     "output_type": "stream",
     "text": [
      "finding affine basis took 2.655657\n",
      "intermediate time 320.767898\n",
      "101 neighbors\n",
      "setting up df took 1.055867\n"
     ]
    },
    {
     "name": "stderr",
     "output_type": "stream",
     "text": [
      "/home/pierre/anaconda3/conda/envs/pygmt/lib/python3.11/site-packages/shapely/linear.py:90: RuntimeWarning: invalid value encountered in line_locate_point\n",
      "  return lib.line_locate_point(line, other)\n"
     ]
    },
    {
     "name": "stdout",
     "output_type": "stream",
     "text": [
      "finding affine basis took 2.809258\n",
      "intermediate time 324.633129\n",
      "89 neighbors\n",
      "setting up df took 1.099839\n"
     ]
    },
    {
     "name": "stderr",
     "output_type": "stream",
     "text": [
      "/home/pierre/anaconda3/conda/envs/pygmt/lib/python3.11/site-packages/shapely/linear.py:90: RuntimeWarning: invalid value encountered in line_locate_point\n",
      "  return lib.line_locate_point(line, other)\n"
     ]
    },
    {
     "name": "stdout",
     "output_type": "stream",
     "text": [
      "finding affine basis took 4.030921\n",
      "intermediate time 329.763949\n",
      "86 neighbors\n",
      "setting up df took 1.067952\n"
     ]
    },
    {
     "name": "stderr",
     "output_type": "stream",
     "text": [
      "/home/pierre/anaconda3/conda/envs/pygmt/lib/python3.11/site-packages/shapely/linear.py:90: RuntimeWarning: invalid value encountered in line_locate_point\n",
      "  return lib.line_locate_point(line, other)\n"
     ]
    },
    {
     "name": "stdout",
     "output_type": "stream",
     "text": [
      "finding affine basis took 2.740384\n",
      "intermediate time 333.572351\n",
      "81 neighbors\n",
      "setting up df took 1.079453\n"
     ]
    },
    {
     "name": "stderr",
     "output_type": "stream",
     "text": [
      "/home/pierre/anaconda3/conda/envs/pygmt/lib/python3.11/site-packages/shapely/linear.py:90: RuntimeWarning: invalid value encountered in line_locate_point\n",
      "  return lib.line_locate_point(line, other)\n"
     ]
    },
    {
     "name": "stdout",
     "output_type": "stream",
     "text": [
      "finding affine basis took 1.760152\n",
      "intermediate time 336.412017\n",
      "81 neighbors\n",
      "setting up df took 1.070117\n"
     ]
    },
    {
     "name": "stderr",
     "output_type": "stream",
     "text": [
      "/home/pierre/anaconda3/conda/envs/pygmt/lib/python3.11/site-packages/shapely/linear.py:90: RuntimeWarning: invalid value encountered in line_locate_point\n",
      "  return lib.line_locate_point(line, other)\n"
     ]
    },
    {
     "name": "stdout",
     "output_type": "stream",
     "text": [
      "finding affine basis took 2.561189\n",
      "intermediate time 340.043385\n",
      "76 neighbors\n",
      "setting up df took 1.066067\n"
     ]
    },
    {
     "name": "stderr",
     "output_type": "stream",
     "text": [
      "/home/pierre/anaconda3/conda/envs/pygmt/lib/python3.11/site-packages/shapely/linear.py:90: RuntimeWarning: invalid value encountered in line_locate_point\n",
      "  return lib.line_locate_point(line, other)\n"
     ]
    },
    {
     "name": "stdout",
     "output_type": "stream",
     "text": [
      "finding affine basis took 2.371828\n",
      "intermediate time 343.481362\n",
      "73 neighbors\n",
      "setting up df took 1.048556\n"
     ]
    },
    {
     "name": "stderr",
     "output_type": "stream",
     "text": [
      "/home/pierre/anaconda3/conda/envs/pygmt/lib/python3.11/site-packages/shapely/linear.py:90: RuntimeWarning: invalid value encountered in line_locate_point\n",
      "  return lib.line_locate_point(line, other)\n"
     ]
    },
    {
     "name": "stdout",
     "output_type": "stream",
     "text": [
      "finding affine basis took 1.651209\n",
      "intermediate time 346.181193\n",
      "72 neighbors\n",
      "setting up df took 1.105145\n"
     ]
    },
    {
     "name": "stderr",
     "output_type": "stream",
     "text": [
      "/home/pierre/anaconda3/conda/envs/pygmt/lib/python3.11/site-packages/shapely/linear.py:90: RuntimeWarning: invalid value encountered in line_locate_point\n",
      "  return lib.line_locate_point(line, other)\n"
     ]
    },
    {
     "name": "stdout",
     "output_type": "stream",
     "text": [
      "finding affine basis took 1.795277\n",
      "intermediate time 349.081674\n",
      "30/971\n",
      "71 neighbors\n",
      "setting up df took 1.070834\n"
     ]
    },
    {
     "name": "stderr",
     "output_type": "stream",
     "text": [
      "/home/pierre/anaconda3/conda/envs/pygmt/lib/python3.11/site-packages/shapely/linear.py:90: RuntimeWarning: invalid value encountered in line_locate_point\n",
      "  return lib.line_locate_point(line, other)\n"
     ]
    },
    {
     "name": "stdout",
     "output_type": "stream",
     "text": [
      "finding affine basis took 1.504996\n",
      "intermediate time 351.657566\n",
      "70 neighbors\n",
      "setting up df took 1.076178\n"
     ]
    },
    {
     "name": "stderr",
     "output_type": "stream",
     "text": [
      "/home/pierre/anaconda3/conda/envs/pygmt/lib/python3.11/site-packages/shapely/linear.py:90: RuntimeWarning: invalid value encountered in line_locate_point\n",
      "  return lib.line_locate_point(line, other)\n"
     ]
    },
    {
     "name": "stdout",
     "output_type": "stream",
     "text": [
      "finding affine basis took 1.986614\n",
      "intermediate time 354.720419\n",
      "69 neighbors\n",
      "setting up df took 1.082053\n"
     ]
    },
    {
     "name": "stderr",
     "output_type": "stream",
     "text": [
      "/home/pierre/anaconda3/conda/envs/pygmt/lib/python3.11/site-packages/shapely/linear.py:90: RuntimeWarning: invalid value encountered in line_locate_point\n",
      "  return lib.line_locate_point(line, other)\n"
     ]
    },
    {
     "name": "stdout",
     "output_type": "stream",
     "text": [
      "finding affine basis took 1.753214\n",
      "intermediate time 357.555746\n",
      "68 neighbors\n",
      "setting up df took 1.057909\n"
     ]
    },
    {
     "name": "stderr",
     "output_type": "stream",
     "text": [
      "/home/pierre/anaconda3/conda/envs/pygmt/lib/python3.11/site-packages/shapely/linear.py:90: RuntimeWarning: invalid value encountered in line_locate_point\n",
      "  return lib.line_locate_point(line, other)\n"
     ]
    },
    {
     "name": "stdout",
     "output_type": "stream",
     "text": [
      "finding affine basis took 1.753412\n",
      "intermediate time 360.367148\n",
      "68 neighbors\n",
      "setting up df took 1.046339\n"
     ]
    },
    {
     "name": "stderr",
     "output_type": "stream",
     "text": [
      "/home/pierre/anaconda3/conda/envs/pygmt/lib/python3.11/site-packages/shapely/linear.py:90: RuntimeWarning: invalid value encountered in line_locate_point\n",
      "  return lib.line_locate_point(line, other)\n"
     ]
    },
    {
     "name": "stdout",
     "output_type": "stream",
     "text": [
      "finding affine basis took 1.802874\n",
      "intermediate time 363.216653\n",
      "64 neighbors\n",
      "setting up df took 1.046300\n"
     ]
    },
    {
     "name": "stderr",
     "output_type": "stream",
     "text": [
      "/home/pierre/anaconda3/conda/envs/pygmt/lib/python3.11/site-packages/shapely/linear.py:90: RuntimeWarning: invalid value encountered in line_locate_point\n",
      "  return lib.line_locate_point(line, other)\n"
     ]
    },
    {
     "name": "stdout",
     "output_type": "stream",
     "text": [
      "finding affine basis took 1.411300\n",
      "intermediate time 365.674313\n",
      "59 neighbors\n",
      "setting up df took 1.062107\n"
     ]
    },
    {
     "name": "stderr",
     "output_type": "stream",
     "text": [
      "/home/pierre/anaconda3/conda/envs/pygmt/lib/python3.11/site-packages/shapely/linear.py:90: RuntimeWarning: invalid value encountered in line_locate_point\n",
      "  return lib.line_locate_point(line, other)\n"
     ]
    },
    {
     "name": "stdout",
     "output_type": "stream",
     "text": [
      "finding affine basis took 1.992333\n",
      "intermediate time 368.728811\n",
      "59 neighbors\n",
      "setting up df took 1.179915\n"
     ]
    },
    {
     "name": "stderr",
     "output_type": "stream",
     "text": [
      "/home/pierre/anaconda3/conda/envs/pygmt/lib/python3.11/site-packages/shapely/linear.py:90: RuntimeWarning: invalid value encountered in line_locate_point\n",
      "  return lib.line_locate_point(line, other)\n"
     ]
    },
    {
     "name": "stdout",
     "output_type": "stream",
     "text": [
      "finding affine basis took 1.948767\n",
      "intermediate time 371.857558\n",
      "59 neighbors\n",
      "setting up df took 1.200823\n"
     ]
    },
    {
     "name": "stderr",
     "output_type": "stream",
     "text": [
      "/home/pierre/anaconda3/conda/envs/pygmt/lib/python3.11/site-packages/shapely/linear.py:90: RuntimeWarning: invalid value encountered in line_locate_point\n",
      "  return lib.line_locate_point(line, other)\n"
     ]
    },
    {
     "name": "stdout",
     "output_type": "stream",
     "text": [
      "finding affine basis took 2.475835\n",
      "intermediate time 375.534327\n",
      "56 neighbors\n",
      "setting up df took 1.143329\n"
     ]
    },
    {
     "name": "stderr",
     "output_type": "stream",
     "text": [
      "/home/pierre/anaconda3/conda/envs/pygmt/lib/python3.11/site-packages/shapely/linear.py:90: RuntimeWarning: invalid value encountered in line_locate_point\n",
      "  return lib.line_locate_point(line, other)\n"
     ]
    },
    {
     "name": "stdout",
     "output_type": "stream",
     "text": [
      "finding affine basis took 1.387862\n",
      "intermediate time 378.065578\n",
      "40/971\n",
      "53 neighbors\n",
      "setting up df took 1.016810\n"
     ]
    },
    {
     "name": "stderr",
     "output_type": "stream",
     "text": [
      "/home/pierre/anaconda3/conda/envs/pygmt/lib/python3.11/site-packages/shapely/linear.py:90: RuntimeWarning: invalid value encountered in line_locate_point\n",
      "  return lib.line_locate_point(line, other)\n"
     ]
    },
    {
     "name": "stdout",
     "output_type": "stream",
     "text": [
      "finding affine basis took 2.115277\n",
      "intermediate time 381.197727\n",
      "53 neighbors\n",
      "setting up df took 1.072989\n"
     ]
    },
    {
     "name": "stderr",
     "output_type": "stream",
     "text": [
      "/home/pierre/anaconda3/conda/envs/pygmt/lib/python3.11/site-packages/shapely/linear.py:90: RuntimeWarning: invalid value encountered in line_locate_point\n",
      "  return lib.line_locate_point(line, other)\n"
     ]
    },
    {
     "name": "stdout",
     "output_type": "stream",
     "text": [
      "finding affine basis took 1.317677\n",
      "intermediate time 383.588458\n",
      "50 neighbors\n",
      "setting up df took 1.119650\n"
     ]
    },
    {
     "name": "stderr",
     "output_type": "stream",
     "text": [
      "/home/pierre/anaconda3/conda/envs/pygmt/lib/python3.11/site-packages/shapely/linear.py:90: RuntimeWarning: invalid value encountered in line_locate_point\n",
      "  return lib.line_locate_point(line, other)\n"
     ]
    },
    {
     "name": "stdout",
     "output_type": "stream",
     "text": [
      "finding affine basis took 1.766749\n",
      "intermediate time 386.474924\n",
      "48 neighbors\n",
      "setting up df took 1.455325\n"
     ]
    },
    {
     "name": "stderr",
     "output_type": "stream",
     "text": [
      "/home/pierre/anaconda3/conda/envs/pygmt/lib/python3.11/site-packages/shapely/linear.py:90: RuntimeWarning: invalid value encountered in line_locate_point\n",
      "  return lib.line_locate_point(line, other)\n"
     ]
    },
    {
     "name": "stdout",
     "output_type": "stream",
     "text": [
      "finding affine basis took 2.430254\n",
      "intermediate time 390.360569\n",
      "47 neighbors\n",
      "setting up df took 1.285870\n"
     ]
    },
    {
     "name": "stderr",
     "output_type": "stream",
     "text": [
      "/home/pierre/anaconda3/conda/envs/pygmt/lib/python3.11/site-packages/shapely/linear.py:90: RuntimeWarning: invalid value encountered in line_locate_point\n",
      "  return lib.line_locate_point(line, other)\n"
     ]
    },
    {
     "name": "stdout",
     "output_type": "stream",
     "text": [
      "finding affine basis took 1.670155\n",
      "intermediate time 393.316732\n",
      "47 neighbors\n",
      "setting up df took 1.167181\n"
     ]
    },
    {
     "name": "stderr",
     "output_type": "stream",
     "text": [
      "/home/pierre/anaconda3/conda/envs/pygmt/lib/python3.11/site-packages/shapely/linear.py:90: RuntimeWarning: invalid value encountered in line_locate_point\n",
      "  return lib.line_locate_point(line, other)\n"
     ]
    },
    {
     "name": "stdout",
     "output_type": "stream",
     "text": [
      "finding affine basis took 2.398450\n",
      "intermediate time 396.882423\n",
      "45 neighbors\n",
      "setting up df took 1.060149\n"
     ]
    },
    {
     "name": "stderr",
     "output_type": "stream",
     "text": [
      "/home/pierre/anaconda3/conda/envs/pygmt/lib/python3.11/site-packages/shapely/linear.py:90: RuntimeWarning: invalid value encountered in line_locate_point\n",
      "  return lib.line_locate_point(line, other)\n"
     ]
    },
    {
     "name": "stdout",
     "output_type": "stream",
     "text": [
      "finding affine basis took 2.257817\n",
      "intermediate time 400.200507\n",
      "44 neighbors\n",
      "setting up df took 1.274661\n"
     ]
    },
    {
     "name": "stderr",
     "output_type": "stream",
     "text": [
      "/home/pierre/anaconda3/conda/envs/pygmt/lib/python3.11/site-packages/shapely/linear.py:90: RuntimeWarning: invalid value encountered in line_locate_point\n",
      "  return lib.line_locate_point(line, other)\n"
     ]
    },
    {
     "name": "stdout",
     "output_type": "stream",
     "text": [
      "finding affine basis took 1.779173\n",
      "intermediate time 403.254419\n",
      "44 neighbors\n",
      "setting up df took 1.145049\n"
     ]
    },
    {
     "name": "stderr",
     "output_type": "stream",
     "text": [
      "/home/pierre/anaconda3/conda/envs/pygmt/lib/python3.11/site-packages/shapely/linear.py:90: RuntimeWarning: invalid value encountered in line_locate_point\n",
      "  return lib.line_locate_point(line, other)\n"
     ]
    },
    {
     "name": "stdout",
     "output_type": "stream",
     "text": [
      "finding affine basis took 1.391909\n",
      "intermediate time 405.791437\n",
      "44 neighbors\n",
      "setting up df took 1.077012\n"
     ]
    },
    {
     "name": "stderr",
     "output_type": "stream",
     "text": [
      "/home/pierre/anaconda3/conda/envs/pygmt/lib/python3.11/site-packages/shapely/linear.py:90: RuntimeWarning: invalid value encountered in line_locate_point\n",
      "  return lib.line_locate_point(line, other)\n"
     ]
    },
    {
     "name": "stdout",
     "output_type": "stream",
     "text": [
      "finding affine basis took 1.501045\n",
      "intermediate time 408.369552\n",
      "50/971\n",
      "44 neighbors\n",
      "setting up df took 1.141909\n"
     ]
    },
    {
     "name": "stderr",
     "output_type": "stream",
     "text": [
      "/home/pierre/anaconda3/conda/envs/pygmt/lib/python3.11/site-packages/shapely/linear.py:90: RuntimeWarning: invalid value encountered in line_locate_point\n",
      "  return lib.line_locate_point(line, other)\n"
     ]
    },
    {
     "name": "stdout",
     "output_type": "stream",
     "text": [
      "finding affine basis took 1.619351\n",
      "intermediate time 411.130885\n",
      "43 neighbors\n",
      "setting up df took 1.060095\n"
     ]
    },
    {
     "name": "stderr",
     "output_type": "stream",
     "text": [
      "/home/pierre/anaconda3/conda/envs/pygmt/lib/python3.11/site-packages/shapely/linear.py:90: RuntimeWarning: invalid value encountered in line_locate_point\n",
      "  return lib.line_locate_point(line, other)\n"
     ]
    },
    {
     "name": "stdout",
     "output_type": "stream",
     "text": [
      "finding affine basis took 1.247055\n",
      "intermediate time 413.438101\n",
      "42 neighbors\n",
      "setting up df took 1.057345\n"
     ]
    },
    {
     "name": "stderr",
     "output_type": "stream",
     "text": [
      "/home/pierre/anaconda3/conda/envs/pygmt/lib/python3.11/site-packages/shapely/linear.py:90: RuntimeWarning: invalid value encountered in line_locate_point\n",
      "  return lib.line_locate_point(line, other)\n"
     ]
    },
    {
     "name": "stdout",
     "output_type": "stream",
     "text": [
      "finding affine basis took 1.196559\n",
      "intermediate time 415.692070\n",
      "41 neighbors\n",
      "setting up df took 1.133713\n"
     ]
    },
    {
     "name": "stderr",
     "output_type": "stream",
     "text": [
      "/home/pierre/anaconda3/conda/envs/pygmt/lib/python3.11/site-packages/shapely/linear.py:90: RuntimeWarning: invalid value encountered in line_locate_point\n",
      "  return lib.line_locate_point(line, other)\n"
     ]
    },
    {
     "name": "stdout",
     "output_type": "stream",
     "text": [
      "finding affine basis took 1.134064\n",
      "intermediate time 417.959941\n",
      "41 neighbors\n",
      "setting up df took 1.048881\n"
     ]
    },
    {
     "name": "stderr",
     "output_type": "stream",
     "text": [
      "/home/pierre/anaconda3/conda/envs/pygmt/lib/python3.11/site-packages/shapely/linear.py:90: RuntimeWarning: invalid value encountered in line_locate_point\n",
      "  return lib.line_locate_point(line, other)\n"
     ]
    },
    {
     "name": "stdout",
     "output_type": "stream",
     "text": [
      "finding affine basis took 1.735629\n",
      "intermediate time 420.744534\n",
      "41 neighbors\n",
      "setting up df took 1.029893\n"
     ]
    },
    {
     "name": "stderr",
     "output_type": "stream",
     "text": [
      "/home/pierre/anaconda3/conda/envs/pygmt/lib/python3.11/site-packages/shapely/linear.py:90: RuntimeWarning: invalid value encountered in line_locate_point\n",
      "  return lib.line_locate_point(line, other)\n"
     ]
    },
    {
     "name": "stdout",
     "output_type": "stream",
     "text": [
      "finding affine basis took 1.735921\n",
      "intermediate time 423.510425\n",
      "41 neighbors\n",
      "setting up df took 1.045254\n"
     ]
    },
    {
     "name": "stderr",
     "output_type": "stream",
     "text": [
      "/home/pierre/anaconda3/conda/envs/pygmt/lib/python3.11/site-packages/shapely/linear.py:90: RuntimeWarning: invalid value encountered in line_locate_point\n",
      "  return lib.line_locate_point(line, other)\n"
     ]
    },
    {
     "name": "stdout",
     "output_type": "stream",
     "text": [
      "finding affine basis took 1.262989\n",
      "intermediate time 425.818729\n",
      "41 neighbors\n",
      "setting up df took 1.104749\n"
     ]
    },
    {
     "name": "stderr",
     "output_type": "stream",
     "text": [
      "/home/pierre/anaconda3/conda/envs/pygmt/lib/python3.11/site-packages/shapely/linear.py:90: RuntimeWarning: invalid value encountered in line_locate_point\n",
      "  return lib.line_locate_point(line, other)\n"
     ]
    },
    {
     "name": "stdout",
     "output_type": "stream",
     "text": [
      "finding affine basis took 0.982485\n",
      "intermediate time 427.906039\n",
      "40 neighbors\n",
      "setting up df took 1.043596\n"
     ]
    },
    {
     "name": "stderr",
     "output_type": "stream",
     "text": [
      "/home/pierre/anaconda3/conda/envs/pygmt/lib/python3.11/site-packages/shapely/linear.py:90: RuntimeWarning: invalid value encountered in line_locate_point\n",
      "  return lib.line_locate_point(line, other)\n"
     ]
    },
    {
     "name": "stdout",
     "output_type": "stream",
     "text": [
      "finding affine basis took 1.230889\n",
      "intermediate time 430.180597\n",
      "40 neighbors\n",
      "setting up df took 1.141893\n"
     ]
    },
    {
     "name": "stderr",
     "output_type": "stream",
     "text": [
      "/home/pierre/anaconda3/conda/envs/pygmt/lib/python3.11/site-packages/shapely/linear.py:90: RuntimeWarning: invalid value encountered in line_locate_point\n",
      "  return lib.line_locate_point(line, other)\n"
     ]
    },
    {
     "name": "stdout",
     "output_type": "stream",
     "text": [
      "finding affine basis took 1.648594\n",
      "intermediate time 432.971141\n",
      "60/971\n",
      "40 neighbors\n",
      "setting up df took 1.059641\n"
     ]
    },
    {
     "name": "stderr",
     "output_type": "stream",
     "text": [
      "/home/pierre/anaconda3/conda/envs/pygmt/lib/python3.11/site-packages/shapely/linear.py:90: RuntimeWarning: invalid value encountered in line_locate_point\n",
      "  return lib.line_locate_point(line, other)\n"
     ]
    },
    {
     "name": "stdout",
     "output_type": "stream",
     "text": [
      "finding affine basis took 1.776244\n",
      "intermediate time 435.807089\n",
      "40 neighbors\n",
      "setting up df took 1.069851\n"
     ]
    },
    {
     "name": "stderr",
     "output_type": "stream",
     "text": [
      "/home/pierre/anaconda3/conda/envs/pygmt/lib/python3.11/site-packages/shapely/linear.py:90: RuntimeWarning: invalid value encountered in line_locate_point\n",
      "  return lib.line_locate_point(line, other)\n"
     ]
    },
    {
     "name": "stdout",
     "output_type": "stream",
     "text": [
      "finding affine basis took 1.379170\n",
      "intermediate time 438.256169\n",
      "39 neighbors\n",
      "setting up df took 0.915108\n"
     ]
    },
    {
     "name": "stderr",
     "output_type": "stream",
     "text": [
      "/home/pierre/anaconda3/conda/envs/pygmt/lib/python3.11/site-packages/shapely/linear.py:90: RuntimeWarning: invalid value encountered in line_locate_point\n",
      "  return lib.line_locate_point(line, other)\n"
     ]
    },
    {
     "name": "stdout",
     "output_type": "stream",
     "text": [
      "finding affine basis took 0.737311\n",
      "intermediate time 439.908689\n",
      "39 neighbors\n",
      "setting up df took 1.094996\n"
     ]
    },
    {
     "name": "stderr",
     "output_type": "stream",
     "text": [
      "/home/pierre/anaconda3/conda/envs/pygmt/lib/python3.11/site-packages/shapely/linear.py:90: RuntimeWarning: invalid value encountered in line_locate_point\n",
      "  return lib.line_locate_point(line, other)\n"
     ]
    },
    {
     "name": "stdout",
     "output_type": "stream",
     "text": [
      "finding affine basis took 1.139658\n",
      "intermediate time 442.143403\n",
      "39 neighbors\n",
      "setting up df took 1.044508\n"
     ]
    },
    {
     "name": "stderr",
     "output_type": "stream",
     "text": [
      "/home/pierre/anaconda3/conda/envs/pygmt/lib/python3.11/site-packages/shapely/linear.py:90: RuntimeWarning: invalid value encountered in line_locate_point\n",
      "  return lib.line_locate_point(line, other)\n"
     ]
    },
    {
     "name": "stdout",
     "output_type": "stream",
     "text": [
      "finding affine basis took 1.272996\n",
      "intermediate time 444.460970\n",
      "39 neighbors\n",
      "setting up df took 1.090796\n"
     ]
    },
    {
     "name": "stderr",
     "output_type": "stream",
     "text": [
      "/home/pierre/anaconda3/conda/envs/pygmt/lib/python3.11/site-packages/shapely/linear.py:90: RuntimeWarning: invalid value encountered in line_locate_point\n",
      "  return lib.line_locate_point(line, other)\n"
     ]
    },
    {
     "name": "stdout",
     "output_type": "stream",
     "text": [
      "finding affine basis took 1.445316\n",
      "intermediate time 446.997167\n",
      "38 neighbors\n",
      "setting up df took 1.196096\n"
     ]
    },
    {
     "name": "stderr",
     "output_type": "stream",
     "text": [
      "/home/pierre/anaconda3/conda/envs/pygmt/lib/python3.11/site-packages/shapely/linear.py:90: RuntimeWarning: invalid value encountered in line_locate_point\n",
      "  return lib.line_locate_point(line, other)\n"
     ]
    },
    {
     "name": "stdout",
     "output_type": "stream",
     "text": [
      "finding affine basis took 1.244468\n",
      "intermediate time 449.437789\n",
      "38 neighbors\n",
      "setting up df took 1.357885\n"
     ]
    },
    {
     "name": "stderr",
     "output_type": "stream",
     "text": [
      "/home/pierre/anaconda3/conda/envs/pygmt/lib/python3.11/site-packages/shapely/linear.py:90: RuntimeWarning: invalid value encountered in line_locate_point\n",
      "  return lib.line_locate_point(line, other)\n"
     ]
    },
    {
     "name": "stdout",
     "output_type": "stream",
     "text": [
      "finding affine basis took 1.128060\n",
      "intermediate time 451.923793\n",
      "38 neighbors\n",
      "setting up df took 1.106527\n"
     ]
    },
    {
     "name": "stderr",
     "output_type": "stream",
     "text": [
      "/home/pierre/anaconda3/conda/envs/pygmt/lib/python3.11/site-packages/shapely/linear.py:90: RuntimeWarning: invalid value encountered in line_locate_point\n",
      "  return lib.line_locate_point(line, other)\n"
     ]
    },
    {
     "name": "stdout",
     "output_type": "stream",
     "text": [
      "finding affine basis took 1.520020\n",
      "intermediate time 454.550423\n",
      "37 neighbors\n",
      "setting up df took 1.093055\n"
     ]
    },
    {
     "name": "stderr",
     "output_type": "stream",
     "text": [
      "/home/pierre/anaconda3/conda/envs/pygmt/lib/python3.11/site-packages/shapely/linear.py:90: RuntimeWarning: invalid value encountered in line_locate_point\n",
      "  return lib.line_locate_point(line, other)\n"
     ]
    },
    {
     "name": "stdout",
     "output_type": "stream",
     "text": [
      "finding affine basis took 1.796018\n",
      "intermediate time 457.439563\n",
      "70/971\n",
      "36 neighbors\n",
      "setting up df took 1.151248\n"
     ]
    },
    {
     "name": "stderr",
     "output_type": "stream",
     "text": [
      "/home/pierre/anaconda3/conda/envs/pygmt/lib/python3.11/site-packages/shapely/linear.py:90: RuntimeWarning: invalid value encountered in line_locate_point\n",
      "  return lib.line_locate_point(line, other)\n"
     ]
    },
    {
     "name": "stdout",
     "output_type": "stream",
     "text": [
      "finding affine basis took 1.661854\n",
      "intermediate time 460.252729\n",
      "36 neighbors\n",
      "setting up df took 1.055605\n"
     ]
    },
    {
     "name": "stderr",
     "output_type": "stream",
     "text": [
      "/home/pierre/anaconda3/conda/envs/pygmt/lib/python3.11/site-packages/shapely/linear.py:90: RuntimeWarning: invalid value encountered in line_locate_point\n",
      "  return lib.line_locate_point(line, other)\n"
     ]
    },
    {
     "name": "stdout",
     "output_type": "stream",
     "text": [
      "finding affine basis took 1.392708\n",
      "intermediate time 462.701139\n",
      "36 neighbors\n",
      "setting up df took 1.100307\n"
     ]
    },
    {
     "name": "stderr",
     "output_type": "stream",
     "text": [
      "/home/pierre/anaconda3/conda/envs/pygmt/lib/python3.11/site-packages/shapely/linear.py:90: RuntimeWarning: invalid value encountered in line_locate_point\n",
      "  return lib.line_locate_point(line, other)\n"
     ]
    },
    {
     "name": "stdout",
     "output_type": "stream",
     "text": [
      "finding affine basis took 1.718845\n",
      "intermediate time 465.520377\n",
      "36 neighbors\n",
      "setting up df took 1.203310\n"
     ]
    },
    {
     "name": "stderr",
     "output_type": "stream",
     "text": [
      "/home/pierre/anaconda3/conda/envs/pygmt/lib/python3.11/site-packages/shapely/linear.py:90: RuntimeWarning: invalid value encountered in line_locate_point\n",
      "  return lib.line_locate_point(line, other)\n"
     ]
    },
    {
     "name": "stdout",
     "output_type": "stream",
     "text": [
      "finding affine basis took 1.271217\n",
      "intermediate time 467.994967\n",
      "35 neighbors\n",
      "setting up df took 1.082338\n"
     ]
    },
    {
     "name": "stderr",
     "output_type": "stream",
     "text": [
      "/home/pierre/anaconda3/conda/envs/pygmt/lib/python3.11/site-packages/shapely/linear.py:90: RuntimeWarning: invalid value encountered in line_locate_point\n",
      "  return lib.line_locate_point(line, other)\n"
     ]
    },
    {
     "name": "stdout",
     "output_type": "stream",
     "text": [
      "finding affine basis took 1.011892\n",
      "intermediate time 470.089283\n",
      "35 neighbors\n",
      "setting up df took 1.085307\n"
     ]
    },
    {
     "name": "stderr",
     "output_type": "stream",
     "text": [
      "/home/pierre/anaconda3/conda/envs/pygmt/lib/python3.11/site-packages/shapely/linear.py:90: RuntimeWarning: invalid value encountered in line_locate_point\n",
      "  return lib.line_locate_point(line, other)\n"
     ]
    },
    {
     "name": "stdout",
     "output_type": "stream",
     "text": [
      "finding affine basis took 1.353569\n",
      "intermediate time 472.528245\n",
      "35 neighbors\n",
      "setting up df took 1.053420\n"
     ]
    },
    {
     "name": "stderr",
     "output_type": "stream",
     "text": [
      "/home/pierre/anaconda3/conda/envs/pygmt/lib/python3.11/site-packages/shapely/linear.py:90: RuntimeWarning: invalid value encountered in line_locate_point\n",
      "  return lib.line_locate_point(line, other)\n"
     ]
    },
    {
     "name": "stdout",
     "output_type": "stream",
     "text": [
      "finding affine basis took 1.254972\n",
      "intermediate time 474.836758\n",
      "35 neighbors\n",
      "setting up df took 1.074248\n"
     ]
    },
    {
     "name": "stderr",
     "output_type": "stream",
     "text": [
      "/home/pierre/anaconda3/conda/envs/pygmt/lib/python3.11/site-packages/shapely/linear.py:90: RuntimeWarning: invalid value encountered in line_locate_point\n",
      "  return lib.line_locate_point(line, other)\n"
     ]
    },
    {
     "name": "stdout",
     "output_type": "stream",
     "text": [
      "finding affine basis took 1.483799\n",
      "intermediate time 477.394911\n",
      "35 neighbors\n",
      "setting up df took 1.028674\n"
     ]
    },
    {
     "name": "stderr",
     "output_type": "stream",
     "text": [
      "/home/pierre/anaconda3/conda/envs/pygmt/lib/python3.11/site-packages/shapely/linear.py:90: RuntimeWarning: invalid value encountered in line_locate_point\n",
      "  return lib.line_locate_point(line, other)\n"
     ]
    },
    {
     "name": "stdout",
     "output_type": "stream",
     "text": [
      "finding affine basis took 1.835104\n",
      "intermediate time 480.258752\n",
      "35 neighbors\n",
      "setting up df took 1.101748\n"
     ]
    },
    {
     "name": "stderr",
     "output_type": "stream",
     "text": [
      "/home/pierre/anaconda3/conda/envs/pygmt/lib/python3.11/site-packages/shapely/linear.py:90: RuntimeWarning: invalid value encountered in line_locate_point\n",
      "  return lib.line_locate_point(line, other)\n"
     ]
    },
    {
     "name": "stdout",
     "output_type": "stream",
     "text": [
      "finding affine basis took 1.057888\n",
      "intermediate time 482.418449\n",
      "80/971\n",
      "34 neighbors\n",
      "setting up df took 1.106629\n"
     ]
    },
    {
     "name": "stderr",
     "output_type": "stream",
     "text": [
      "/home/pierre/anaconda3/conda/envs/pygmt/lib/python3.11/site-packages/shapely/linear.py:90: RuntimeWarning: invalid value encountered in line_locate_point\n",
      "  return lib.line_locate_point(line, other)\n"
     ]
    },
    {
     "name": "stdout",
     "output_type": "stream",
     "text": [
      "finding affine basis took 1.353038\n",
      "intermediate time 484.878243\n",
      "34 neighbors\n",
      "setting up df took 0.712532\n"
     ]
    },
    {
     "name": "stderr",
     "output_type": "stream",
     "text": [
      "/home/pierre/anaconda3/conda/envs/pygmt/lib/python3.11/site-packages/shapely/linear.py:90: RuntimeWarning: invalid value encountered in line_locate_point\n",
      "  return lib.line_locate_point(line, other)\n"
     ]
    },
    {
     "name": "stdout",
     "output_type": "stream",
     "text": [
      "finding affine basis took 0.589595\n",
      "intermediate time 486.180427\n",
      "34 neighbors\n",
      "setting up df took 1.061171\n"
     ]
    },
    {
     "name": "stderr",
     "output_type": "stream",
     "text": [
      "/home/pierre/anaconda3/conda/envs/pygmt/lib/python3.11/site-packages/shapely/linear.py:90: RuntimeWarning: invalid value encountered in line_locate_point\n",
      "  return lib.line_locate_point(line, other)\n"
     ]
    },
    {
     "name": "stdout",
     "output_type": "stream",
     "text": [
      "finding affine basis took 1.391149\n",
      "intermediate time 488.632805\n",
      "34 neighbors\n",
      "setting up df took 1.213154\n"
     ]
    },
    {
     "name": "stderr",
     "output_type": "stream",
     "text": [
      "/home/pierre/anaconda3/conda/envs/pygmt/lib/python3.11/site-packages/shapely/linear.py:90: RuntimeWarning: invalid value encountered in line_locate_point\n",
      "  return lib.line_locate_point(line, other)\n"
     ]
    },
    {
     "name": "stdout",
     "output_type": "stream",
     "text": [
      "finding affine basis took 1.464482\n",
      "intermediate time 491.310515\n",
      "34 neighbors\n",
      "setting up df took 1.092423\n"
     ]
    },
    {
     "name": "stderr",
     "output_type": "stream",
     "text": [
      "/home/pierre/anaconda3/conda/envs/pygmt/lib/python3.11/site-packages/shapely/linear.py:90: RuntimeWarning: invalid value encountered in line_locate_point\n",
      "  return lib.line_locate_point(line, other)\n"
     ]
    },
    {
     "name": "stdout",
     "output_type": "stream",
     "text": [
      "finding affine basis took 1.995368\n",
      "intermediate time 494.398420\n",
      "33 neighbors\n",
      "setting up df took 1.251384\n"
     ]
    },
    {
     "name": "stderr",
     "output_type": "stream",
     "text": [
      "/home/pierre/anaconda3/conda/envs/pygmt/lib/python3.11/site-packages/shapely/linear.py:90: RuntimeWarning: invalid value encountered in line_locate_point\n",
      "  return lib.line_locate_point(line, other)\n"
     ]
    },
    {
     "name": "stdout",
     "output_type": "stream",
     "text": [
      "finding affine basis took 1.370890\n",
      "intermediate time 497.020752\n",
      "33 neighbors\n",
      "setting up df took 1.344264\n"
     ]
    },
    {
     "name": "stderr",
     "output_type": "stream",
     "text": [
      "/home/pierre/anaconda3/conda/envs/pygmt/lib/python3.11/site-packages/shapely/linear.py:90: RuntimeWarning: invalid value encountered in line_locate_point\n",
      "  return lib.line_locate_point(line, other)\n"
     ]
    },
    {
     "name": "stdout",
     "output_type": "stream",
     "text": [
      "finding affine basis took 1.289062\n",
      "intermediate time 499.654179\n",
      "33 neighbors\n",
      "setting up df took 1.339165\n"
     ]
    },
    {
     "name": "stderr",
     "output_type": "stream",
     "text": [
      "/home/pierre/anaconda3/conda/envs/pygmt/lib/python3.11/site-packages/shapely/linear.py:90: RuntimeWarning: invalid value encountered in line_locate_point\n",
      "  return lib.line_locate_point(line, other)\n"
     ]
    },
    {
     "name": "stdout",
     "output_type": "stream",
     "text": [
      "finding affine basis took 1.302820\n",
      "intermediate time 502.296232\n",
      "32 neighbors\n",
      "setting up df took 0.759913\n"
     ]
    },
    {
     "name": "stderr",
     "output_type": "stream",
     "text": [
      "/home/pierre/anaconda3/conda/envs/pygmt/lib/python3.11/site-packages/shapely/linear.py:90: RuntimeWarning: invalid value encountered in line_locate_point\n",
      "  return lib.line_locate_point(line, other)\n"
     ]
    },
    {
     "name": "stdout",
     "output_type": "stream",
     "text": [
      "finding affine basis took 0.295405\n",
      "intermediate time 503.351671\n",
      "32 neighbors\n",
      "setting up df took 0.965243\n"
     ]
    },
    {
     "name": "stderr",
     "output_type": "stream",
     "text": [
      "/home/pierre/anaconda3/conda/envs/pygmt/lib/python3.11/site-packages/shapely/linear.py:90: RuntimeWarning: invalid value encountered in line_locate_point\n",
      "  return lib.line_locate_point(line, other)\n"
     ]
    },
    {
     "name": "stdout",
     "output_type": "stream",
     "text": [
      "finding affine basis took 1.002505\n",
      "intermediate time 505.319484\n",
      "90/971\n",
      "32 neighbors\n",
      "setting up df took 1.028588\n"
     ]
    },
    {
     "name": "stderr",
     "output_type": "stream",
     "text": [
      "/home/pierre/anaconda3/conda/envs/pygmt/lib/python3.11/site-packages/shapely/linear.py:90: RuntimeWarning: invalid value encountered in line_locate_point\n",
      "  return lib.line_locate_point(line, other)\n"
     ]
    },
    {
     "name": "stdout",
     "output_type": "stream",
     "text": [
      "finding affine basis took 1.117077\n",
      "intermediate time 507.465208\n",
      "32 neighbors\n",
      "setting up df took 0.791405\n"
     ]
    },
    {
     "name": "stderr",
     "output_type": "stream",
     "text": [
      "/home/pierre/anaconda3/conda/envs/pygmt/lib/python3.11/site-packages/shapely/linear.py:90: RuntimeWarning: invalid value encountered in line_locate_point\n",
      "  return lib.line_locate_point(line, other)\n"
     ]
    },
    {
     "name": "stdout",
     "output_type": "stream",
     "text": [
      "finding affine basis took 0.418848\n",
      "intermediate time 508.675523\n",
      "32 neighbors\n",
      "setting up df took 1.158874\n"
     ]
    },
    {
     "name": "stderr",
     "output_type": "stream",
     "text": [
      "/home/pierre/anaconda3/conda/envs/pygmt/lib/python3.11/site-packages/shapely/linear.py:90: RuntimeWarning: invalid value encountered in line_locate_point\n",
      "  return lib.line_locate_point(line, other)\n"
     ]
    },
    {
     "name": "stdout",
     "output_type": "stream",
     "text": [
      "finding affine basis took 1.194812\n",
      "intermediate time 511.029272\n",
      "31 neighbors\n",
      "setting up df took 0.939301\n"
     ]
    },
    {
     "name": "stderr",
     "output_type": "stream",
     "text": [
      "/home/pierre/anaconda3/conda/envs/pygmt/lib/python3.11/site-packages/shapely/linear.py:90: RuntimeWarning: invalid value encountered in line_locate_point\n",
      "  return lib.line_locate_point(line, other)\n"
     ]
    },
    {
     "name": "stdout",
     "output_type": "stream",
     "text": [
      "finding affine basis took 0.432091\n",
      "intermediate time 512.400730\n",
      "30 neighbors\n",
      "setting up df took 1.011826\n"
     ]
    },
    {
     "name": "stderr",
     "output_type": "stream",
     "text": [
      "/home/pierre/anaconda3/conda/envs/pygmt/lib/python3.11/site-packages/shapely/linear.py:90: RuntimeWarning: invalid value encountered in line_locate_point\n",
      "  return lib.line_locate_point(line, other)\n"
     ]
    },
    {
     "name": "stdout",
     "output_type": "stream",
     "text": [
      "finding affine basis took 1.755991\n",
      "intermediate time 515.168653\n",
      "30 neighbors\n",
      "setting up df took 1.348840\n"
     ]
    },
    {
     "name": "stderr",
     "output_type": "stream",
     "text": [
      "/home/pierre/anaconda3/conda/envs/pygmt/lib/python3.11/site-packages/shapely/linear.py:90: RuntimeWarning: invalid value encountered in line_locate_point\n",
      "  return lib.line_locate_point(line, other)\n"
     ]
    },
    {
     "name": "stdout",
     "output_type": "stream",
     "text": [
      "finding affine basis took 1.280318\n",
      "intermediate time 517.797899\n",
      "29 neighbors\n",
      "setting up df took 0.897965\n"
     ]
    },
    {
     "name": "stderr",
     "output_type": "stream",
     "text": [
      "/home/pierre/anaconda3/conda/envs/pygmt/lib/python3.11/site-packages/shapely/linear.py:90: RuntimeWarning: invalid value encountered in line_locate_point\n",
      "  return lib.line_locate_point(line, other)\n"
     ]
    },
    {
     "name": "stdout",
     "output_type": "stream",
     "text": [
      "finding affine basis took 0.471617\n",
      "intermediate time 519.167543\n",
      "29 neighbors\n",
      "setting up df took 0.930220\n"
     ]
    },
    {
     "name": "stderr",
     "output_type": "stream",
     "text": [
      "/home/pierre/anaconda3/conda/envs/pygmt/lib/python3.11/site-packages/shapely/linear.py:90: RuntimeWarning: invalid value encountered in line_locate_point\n",
      "  return lib.line_locate_point(line, other)\n"
     ]
    },
    {
     "name": "stdout",
     "output_type": "stream",
     "text": [
      "finding affine basis took 0.881630\n",
      "intermediate time 520.979465\n",
      "29 neighbors\n",
      "setting up df took 1.094923\n"
     ]
    },
    {
     "name": "stderr",
     "output_type": "stream",
     "text": [
      "/home/pierre/anaconda3/conda/envs/pygmt/lib/python3.11/site-packages/shapely/linear.py:90: RuntimeWarning: invalid value encountered in line_locate_point\n",
      "  return lib.line_locate_point(line, other)\n"
     ]
    },
    {
     "name": "stdout",
     "output_type": "stream",
     "text": [
      "finding affine basis took 1.383869\n",
      "intermediate time 523.458324\n",
      "29 neighbors\n",
      "setting up df took 1.103301\n"
     ]
    },
    {
     "name": "stderr",
     "output_type": "stream",
     "text": [
      "/home/pierre/anaconda3/conda/envs/pygmt/lib/python3.11/site-packages/shapely/linear.py:90: RuntimeWarning: invalid value encountered in line_locate_point\n",
      "  return lib.line_locate_point(line, other)\n"
     ]
    },
    {
     "name": "stdout",
     "output_type": "stream",
     "text": [
      "finding affine basis took 1.382849\n",
      "intermediate time 525.944538\n",
      "100/971\n",
      "29 neighbors\n",
      "setting up df took 1.014558\n"
     ]
    },
    {
     "name": "stderr",
     "output_type": "stream",
     "text": [
      "/home/pierre/anaconda3/conda/envs/pygmt/lib/python3.11/site-packages/shapely/linear.py:90: RuntimeWarning: invalid value encountered in line_locate_point\n",
      "  return lib.line_locate_point(line, other)\n"
     ]
    },
    {
     "name": "stdout",
     "output_type": "stream",
     "text": [
      "finding affine basis took 1.021019\n",
      "intermediate time 527.980183\n",
      "29 neighbors\n",
      "setting up df took 1.105712\n"
     ]
    },
    {
     "name": "stderr",
     "output_type": "stream",
     "text": [
      "/home/pierre/anaconda3/conda/envs/pygmt/lib/python3.11/site-packages/shapely/linear.py:90: RuntimeWarning: invalid value encountered in line_locate_point\n",
      "  return lib.line_locate_point(line, other)\n"
     ]
    },
    {
     "name": "stdout",
     "output_type": "stream",
     "text": [
      "finding affine basis took 1.196150\n",
      "intermediate time 530.282136\n",
      "29 neighbors\n",
      "setting up df took 0.945972\n"
     ]
    },
    {
     "name": "stderr",
     "output_type": "stream",
     "text": [
      "/home/pierre/anaconda3/conda/envs/pygmt/lib/python3.11/site-packages/shapely/linear.py:90: RuntimeWarning: invalid value encountered in line_locate_point\n",
      "  return lib.line_locate_point(line, other)\n"
     ]
    },
    {
     "name": "stdout",
     "output_type": "stream",
     "text": [
      "finding affine basis took 1.022696\n",
      "intermediate time 532.250868\n",
      "28 neighbors\n",
      "setting up df took 0.809437\n"
     ]
    },
    {
     "name": "stderr",
     "output_type": "stream",
     "text": [
      "/home/pierre/anaconda3/conda/envs/pygmt/lib/python3.11/site-packages/shapely/linear.py:90: RuntimeWarning: invalid value encountered in line_locate_point\n",
      "  return lib.line_locate_point(line, other)\n"
     ]
    },
    {
     "name": "stdout",
     "output_type": "stream",
     "text": [
      "finding affine basis took 0.445677\n",
      "intermediate time 533.506048\n",
      "28 neighbors\n",
      "setting up df took 0.633286\n",
      "finding affine basis took 0.201743\n",
      "intermediate time 534.341141\n",
      "28 neighbors\n"
     ]
    },
    {
     "name": "stderr",
     "output_type": "stream",
     "text": [
      "/home/pierre/anaconda3/conda/envs/pygmt/lib/python3.11/site-packages/shapely/linear.py:90: RuntimeWarning: invalid value encountered in line_locate_point\n",
      "  return lib.line_locate_point(line, other)\n"
     ]
    },
    {
     "name": "stdout",
     "output_type": "stream",
     "text": [
      "setting up df took 0.572510\n"
     ]
    },
    {
     "name": "stderr",
     "output_type": "stream",
     "text": [
      "/home/pierre/anaconda3/conda/envs/pygmt/lib/python3.11/site-packages/shapely/linear.py:90: RuntimeWarning: invalid value encountered in line_locate_point\n",
      "  return lib.line_locate_point(line, other)\n"
     ]
    },
    {
     "name": "stdout",
     "output_type": "stream",
     "text": [
      "finding affine basis took 0.371464\n",
      "intermediate time 535.285147\n",
      "27 neighbors\n",
      "setting up df took 0.591694\n",
      "finding affine basis took 0.041636\n",
      "intermediate time 535.918539\n",
      "27 neighbors\n"
     ]
    },
    {
     "name": "stderr",
     "output_type": "stream",
     "text": [
      "/home/pierre/anaconda3/conda/envs/pygmt/lib/python3.11/site-packages/shapely/linear.py:90: RuntimeWarning: invalid value encountered in line_locate_point\n",
      "  return lib.line_locate_point(line, other)\n"
     ]
    },
    {
     "name": "stdout",
     "output_type": "stream",
     "text": [
      "setting up df took 0.642487\n"
     ]
    },
    {
     "name": "stderr",
     "output_type": "stream",
     "text": [
      "/home/pierre/anaconda3/conda/envs/pygmt/lib/python3.11/site-packages/shapely/linear.py:90: RuntimeWarning: invalid value encountered in line_locate_point\n",
      "  return lib.line_locate_point(line, other)\n"
     ]
    },
    {
     "name": "stdout",
     "output_type": "stream",
     "text": [
      "finding affine basis took 0.222994\n",
      "intermediate time 536.784050\n",
      "27 neighbors\n",
      "setting up df took 0.858221\n"
     ]
    },
    {
     "name": "stderr",
     "output_type": "stream",
     "text": [
      "/home/pierre/anaconda3/conda/envs/pygmt/lib/python3.11/site-packages/shapely/linear.py:90: RuntimeWarning: invalid value encountered in line_locate_point\n",
      "  return lib.line_locate_point(line, other)\n"
     ]
    },
    {
     "name": "stdout",
     "output_type": "stream",
     "text": [
      "finding affine basis took 0.483109\n",
      "intermediate time 538.125445\n",
      "27 neighbors\n",
      "setting up df took 0.592798\n",
      "finding affine basis took 0.187008\n",
      "intermediate time 538.905316\n",
      "110/971\n",
      "27 neighbors\n"
     ]
    },
    {
     "name": "stderr",
     "output_type": "stream",
     "text": [
      "/home/pierre/anaconda3/conda/envs/pygmt/lib/python3.11/site-packages/shapely/linear.py:90: RuntimeWarning: invalid value encountered in line_locate_point\n",
      "  return lib.line_locate_point(line, other)\n"
     ]
    },
    {
     "name": "stdout",
     "output_type": "stream",
     "text": [
      "setting up df took 0.961965\n"
     ]
    },
    {
     "name": "stderr",
     "output_type": "stream",
     "text": [
      "/home/pierre/anaconda3/conda/envs/pygmt/lib/python3.11/site-packages/shapely/linear.py:90: RuntimeWarning: invalid value encountered in line_locate_point\n",
      "  return lib.line_locate_point(line, other)\n"
     ]
    },
    {
     "name": "stdout",
     "output_type": "stream",
     "text": [
      "finding affine basis took 1.262229\n",
      "intermediate time 541.129547\n",
      "27 neighbors\n",
      "setting up df took 0.962754\n"
     ]
    },
    {
     "name": "stderr",
     "output_type": "stream",
     "text": [
      "/home/pierre/anaconda3/conda/envs/pygmt/lib/python3.11/site-packages/shapely/linear.py:90: RuntimeWarning: invalid value encountered in line_locate_point\n",
      "  return lib.line_locate_point(line, other)\n"
     ]
    },
    {
     "name": "stdout",
     "output_type": "stream",
     "text": [
      "finding affine basis took 1.280882\n",
      "intermediate time 543.373246\n",
      "26 neighbors\n",
      "setting up df took 0.588795\n",
      "finding affine basis took 0.128834\n",
      "intermediate time 544.090938\n",
      "26 neighbors\n"
     ]
    },
    {
     "name": "stderr",
     "output_type": "stream",
     "text": [
      "/home/pierre/anaconda3/conda/envs/pygmt/lib/python3.11/site-packages/shapely/linear.py:90: RuntimeWarning: invalid value encountered in line_locate_point\n",
      "  return lib.line_locate_point(line, other)\n"
     ]
    },
    {
     "name": "stdout",
     "output_type": "stream",
     "text": [
      "setting up df took 0.865727\n"
     ]
    },
    {
     "name": "stderr",
     "output_type": "stream",
     "text": [
      "/home/pierre/anaconda3/conda/envs/pygmt/lib/python3.11/site-packages/shapely/linear.py:90: RuntimeWarning: invalid value encountered in line_locate_point\n",
      "  return lib.line_locate_point(line, other)\n"
     ]
    },
    {
     "name": "stdout",
     "output_type": "stream",
     "text": [
      "finding affine basis took 0.591490\n",
      "intermediate time 545.548188\n",
      "26 neighbors\n",
      "setting up df took 0.804450\n"
     ]
    },
    {
     "name": "stderr",
     "output_type": "stream",
     "text": [
      "/home/pierre/anaconda3/conda/envs/pygmt/lib/python3.11/site-packages/shapely/linear.py:90: RuntimeWarning: invalid value encountered in line_locate_point\n",
      "  return lib.line_locate_point(line, other)\n"
     ]
    },
    {
     "name": "stdout",
     "output_type": "stream",
     "text": [
      "finding affine basis took 0.524408\n",
      "intermediate time 546.877110\n",
      "26 neighbors\n",
      "setting up df took 0.816015\n"
     ]
    },
    {
     "name": "stderr",
     "output_type": "stream",
     "text": [
      "/home/pierre/anaconda3/conda/envs/pygmt/lib/python3.11/site-packages/shapely/linear.py:90: RuntimeWarning: invalid value encountered in line_locate_point\n",
      "  return lib.line_locate_point(line, other)\n"
     ]
    },
    {
     "name": "stdout",
     "output_type": "stream",
     "text": [
      "finding affine basis took 0.451284\n",
      "intermediate time 548.144472\n",
      "26 neighbors\n",
      "setting up df took 0.819943\n"
     ]
    },
    {
     "name": "stderr",
     "output_type": "stream",
     "text": [
      "/home/pierre/anaconda3/conda/envs/pygmt/lib/python3.11/site-packages/shapely/linear.py:90: RuntimeWarning: invalid value encountered in line_locate_point\n",
      "  return lib.line_locate_point(line, other)\n"
     ]
    },
    {
     "name": "stdout",
     "output_type": "stream",
     "text": [
      "finding affine basis took 0.470953\n",
      "intermediate time 549.435433\n",
      "25 neighbors\n",
      "setting up df took 0.565750\n"
     ]
    },
    {
     "name": "stderr",
     "output_type": "stream",
     "text": [
      "/home/pierre/anaconda3/conda/envs/pygmt/lib/python3.11/site-packages/shapely/linear.py:90: RuntimeWarning: invalid value encountered in line_locate_point\n",
      "  return lib.line_locate_point(line, other)\n"
     ]
    },
    {
     "name": "stdout",
     "output_type": "stream",
     "text": [
      "finding affine basis took 0.258421\n",
      "intermediate time 550.259670\n",
      "25 neighbors\n",
      "setting up df took 0.811372\n"
     ]
    },
    {
     "name": "stderr",
     "output_type": "stream",
     "text": [
      "/home/pierre/anaconda3/conda/envs/pygmt/lib/python3.11/site-packages/shapely/linear.py:90: RuntimeWarning: invalid value encountered in line_locate_point\n",
      "  return lib.line_locate_point(line, other)\n"
     ]
    },
    {
     "name": "stdout",
     "output_type": "stream",
     "text": [
      "finding affine basis took 0.440212\n",
      "intermediate time 551.511348\n",
      "25 neighbors\n",
      "setting up df took 0.933072\n"
     ]
    },
    {
     "name": "stderr",
     "output_type": "stream",
     "text": [
      "/home/pierre/anaconda3/conda/envs/pygmt/lib/python3.11/site-packages/shapely/linear.py:90: RuntimeWarning: invalid value encountered in line_locate_point\n",
      "  return lib.line_locate_point(line, other)\n"
     ]
    },
    {
     "name": "stdout",
     "output_type": "stream",
     "text": [
      "finding affine basis took 0.915687\n",
      "intermediate time 553.360170\n",
      "120/971\n",
      "25 neighbors\n",
      "setting up df took 0.578364\n"
     ]
    },
    {
     "name": "stderr",
     "output_type": "stream",
     "text": [
      "/home/pierre/anaconda3/conda/envs/pygmt/lib/python3.11/site-packages/shapely/linear.py:90: RuntimeWarning: invalid value encountered in line_locate_point\n",
      "  return lib.line_locate_point(line, other)\n"
     ]
    },
    {
     "name": "stdout",
     "output_type": "stream",
     "text": [
      "finding affine basis took 0.309535\n",
      "intermediate time 554.248137\n",
      "24 neighbors\n",
      "setting up df took 0.608044\n"
     ]
    },
    {
     "name": "stderr",
     "output_type": "stream",
     "text": [
      "/home/pierre/anaconda3/conda/envs/pygmt/lib/python3.11/site-packages/shapely/linear.py:90: RuntimeWarning: invalid value encountered in line_locate_point\n",
      "  return lib.line_locate_point(line, other)\n"
     ]
    },
    {
     "name": "stdout",
     "output_type": "stream",
     "text": [
      "finding affine basis took 0.259175\n",
      "intermediate time 555.115415\n",
      "24 neighbors\n",
      "setting up df took 0.858342\n"
     ]
    },
    {
     "name": "stderr",
     "output_type": "stream",
     "text": [
      "/home/pierre/anaconda3/conda/envs/pygmt/lib/python3.11/site-packages/shapely/linear.py:90: RuntimeWarning: invalid value encountered in line_locate_point\n",
      "  return lib.line_locate_point(line, other)\n"
     ]
    },
    {
     "name": "stdout",
     "output_type": "stream",
     "text": [
      "finding affine basis took 0.458980\n",
      "intermediate time 556.432801\n",
      "23 neighbors\n",
      "setting up df took 0.510522\n",
      "finding affine basis took 0.051922\n",
      "intermediate time 556.995309\n",
      "23 neighbors\n"
     ]
    },
    {
     "name": "stderr",
     "output_type": "stream",
     "text": [
      "/home/pierre/anaconda3/conda/envs/pygmt/lib/python3.11/site-packages/shapely/linear.py:90: RuntimeWarning: invalid value encountered in line_locate_point\n",
      "  return lib.line_locate_point(line, other)\n"
     ]
    },
    {
     "name": "stdout",
     "output_type": "stream",
     "text": [
      "setting up df took 0.807612\n"
     ]
    },
    {
     "name": "stderr",
     "output_type": "stream",
     "text": [
      "/home/pierre/anaconda3/conda/envs/pygmt/lib/python3.11/site-packages/shapely/linear.py:90: RuntimeWarning: invalid value encountered in line_locate_point\n",
      "  return lib.line_locate_point(line, other)\n"
     ]
    },
    {
     "name": "stdout",
     "output_type": "stream",
     "text": [
      "finding affine basis took 0.556670\n",
      "intermediate time 558.359620\n",
      "23 neighbors\n",
      "setting up df took 0.613986\n",
      "finding affine basis took 0.190378\n",
      "intermediate time 559.164046\n",
      "23 neighbors\n"
     ]
    },
    {
     "name": "stderr",
     "output_type": "stream",
     "text": [
      "/home/pierre/anaconda3/conda/envs/pygmt/lib/python3.11/site-packages/shapely/linear.py:90: RuntimeWarning: invalid value encountered in line_locate_point\n",
      "  return lib.line_locate_point(line, other)\n"
     ]
    },
    {
     "name": "stdout",
     "output_type": "stream",
     "text": [
      "setting up df took 0.592092\n",
      "finding affine basis took 0.168725\n",
      "intermediate time 559.924895\n",
      "23 neighbors\n"
     ]
    },
    {
     "name": "stderr",
     "output_type": "stream",
     "text": [
      "/home/pierre/anaconda3/conda/envs/pygmt/lib/python3.11/site-packages/shapely/linear.py:90: RuntimeWarning: invalid value encountered in line_locate_point\n",
      "  return lib.line_locate_point(line, other)\n"
     ]
    },
    {
     "name": "stdout",
     "output_type": "stream",
     "text": [
      "setting up df took 0.605294\n",
      "finding affine basis took 0.172635\n",
      "intermediate time 560.702857\n",
      "22 neighbors\n"
     ]
    },
    {
     "name": "stderr",
     "output_type": "stream",
     "text": [
      "/home/pierre/anaconda3/conda/envs/pygmt/lib/python3.11/site-packages/shapely/linear.py:90: RuntimeWarning: invalid value encountered in line_locate_point\n",
      "  return lib.line_locate_point(line, other)\n"
     ]
    },
    {
     "name": "stdout",
     "output_type": "stream",
     "text": [
      "setting up df took 0.599570\n",
      "finding affine basis took 0.076935\n",
      "intermediate time 561.379393\n",
      "22 neighbors\n"
     ]
    },
    {
     "name": "stderr",
     "output_type": "stream",
     "text": [
      "/home/pierre/anaconda3/conda/envs/pygmt/lib/python3.11/site-packages/shapely/linear.py:90: RuntimeWarning: invalid value encountered in line_locate_point\n",
      "  return lib.line_locate_point(line, other)\n"
     ]
    },
    {
     "name": "stdout",
     "output_type": "stream",
     "text": [
      "setting up df took 0.610043\n",
      "finding affine basis took 0.074811\n",
      "intermediate time 562.064277\n",
      "130/971\n",
      "22 neighbors\n"
     ]
    },
    {
     "name": "stderr",
     "output_type": "stream",
     "text": [
      "/home/pierre/anaconda3/conda/envs/pygmt/lib/python3.11/site-packages/shapely/linear.py:90: RuntimeWarning: invalid value encountered in line_locate_point\n",
      "  return lib.line_locate_point(line, other)\n"
     ]
    },
    {
     "name": "stdout",
     "output_type": "stream",
     "text": [
      "setting up df took 0.602917\n"
     ]
    },
    {
     "name": "stderr",
     "output_type": "stream",
     "text": [
      "/home/pierre/anaconda3/conda/envs/pygmt/lib/python3.11/site-packages/shapely/linear.py:90: RuntimeWarning: invalid value encountered in line_locate_point\n",
      "  return lib.line_locate_point(line, other)\n"
     ]
    },
    {
     "name": "stdout",
     "output_type": "stream",
     "text": [
      "finding affine basis took 0.219288\n",
      "intermediate time 562.886538\n",
      "22 neighbors\n",
      "setting up df took 0.557572\n",
      "finding affine basis took 0.148027\n",
      "intermediate time 563.592194\n",
      "22 neighbors\n"
     ]
    },
    {
     "name": "stderr",
     "output_type": "stream",
     "text": [
      "/home/pierre/anaconda3/conda/envs/pygmt/lib/python3.11/site-packages/shapely/linear.py:90: RuntimeWarning: invalid value encountered in line_locate_point\n",
      "  return lib.line_locate_point(line, other)\n"
     ]
    },
    {
     "name": "stdout",
     "output_type": "stream",
     "text": [
      "setting up df took 0.575600\n"
     ]
    },
    {
     "name": "stderr",
     "output_type": "stream",
     "text": [
      "/home/pierre/anaconda3/conda/envs/pygmt/lib/python3.11/site-packages/shapely/linear.py:90: RuntimeWarning: invalid value encountered in line_locate_point\n",
      "  return lib.line_locate_point(line, other)\n"
     ]
    },
    {
     "name": "stdout",
     "output_type": "stream",
     "text": [
      "finding affine basis took 0.335445\n",
      "intermediate time 564.503273\n",
      "22 neighbors\n",
      "setting up df took 0.601027\n"
     ]
    },
    {
     "name": "stderr",
     "output_type": "stream",
     "text": [
      "/home/pierre/anaconda3/conda/envs/pygmt/lib/python3.11/site-packages/shapely/linear.py:90: RuntimeWarning: invalid value encountered in line_locate_point\n",
      "  return lib.line_locate_point(line, other)\n"
     ]
    },
    {
     "name": "stdout",
     "output_type": "stream",
     "text": [
      "finding affine basis took 0.314552\n",
      "intermediate time 565.418914\n",
      "22 neighbors\n",
      "setting up df took 0.622785\n"
     ]
    },
    {
     "name": "stderr",
     "output_type": "stream",
     "text": [
      "/home/pierre/anaconda3/conda/envs/pygmt/lib/python3.11/site-packages/shapely/linear.py:90: RuntimeWarning: invalid value encountered in line_locate_point\n",
      "  return lib.line_locate_point(line, other)\n"
     ]
    },
    {
     "name": "stdout",
     "output_type": "stream",
     "text": [
      "finding affine basis took 0.228725\n",
      "intermediate time 566.270489\n",
      "21 neighbors\n",
      "setting up df took 0.623463\n",
      "finding affine basis took 0.194146\n",
      "intermediate time 567.088161\n",
      "21 neighbors\n"
     ]
    },
    {
     "name": "stderr",
     "output_type": "stream",
     "text": [
      "/home/pierre/anaconda3/conda/envs/pygmt/lib/python3.11/site-packages/shapely/linear.py:90: RuntimeWarning: invalid value encountered in line_locate_point\n",
      "  return lib.line_locate_point(line, other)\n"
     ]
    },
    {
     "name": "stdout",
     "output_type": "stream",
     "text": [
      "setting up df took 0.517954\n",
      "finding affine basis took 0.170765\n",
      "intermediate time 567.776912\n",
      "21 neighbors\n"
     ]
    },
    {
     "name": "stderr",
     "output_type": "stream",
     "text": [
      "/home/pierre/anaconda3/conda/envs/pygmt/lib/python3.11/site-packages/shapely/linear.py:90: RuntimeWarning: invalid value encountered in line_locate_point\n",
      "  return lib.line_locate_point(line, other)\n"
     ]
    },
    {
     "name": "stdout",
     "output_type": "stream",
     "text": [
      "setting up df took 0.610916\n"
     ]
    },
    {
     "name": "stderr",
     "output_type": "stream",
     "text": [
      "/home/pierre/anaconda3/conda/envs/pygmt/lib/python3.11/site-packages/shapely/linear.py:90: RuntimeWarning: invalid value encountered in line_locate_point\n",
      "  return lib.line_locate_point(line, other)\n"
     ]
    },
    {
     "name": "stdout",
     "output_type": "stream",
     "text": [
      "finding affine basis took 0.239962\n",
      "intermediate time 568.627821\n",
      "21 neighbors\n",
      "setting up df took 0.593511\n",
      "finding affine basis took 0.195153\n",
      "intermediate time 569.416549\n",
      "21 neighbors\n"
     ]
    },
    {
     "name": "stderr",
     "output_type": "stream",
     "text": [
      "/home/pierre/anaconda3/conda/envs/pygmt/lib/python3.11/site-packages/shapely/linear.py:90: RuntimeWarning: invalid value encountered in line_locate_point\n",
      "  return lib.line_locate_point(line, other)\n"
     ]
    },
    {
     "name": "stdout",
     "output_type": "stream",
     "text": [
      "setting up df took 0.605217\n",
      "finding affine basis took 0.198724\n",
      "intermediate time 570.220521\n",
      "140/971\n",
      "20 neighbors\n"
     ]
    },
    {
     "name": "stderr",
     "output_type": "stream",
     "text": [
      "/home/pierre/anaconda3/conda/envs/pygmt/lib/python3.11/site-packages/shapely/linear.py:90: RuntimeWarning: invalid value encountered in line_locate_point\n",
      "  return lib.line_locate_point(line, other)\n"
     ]
    },
    {
     "name": "stdout",
     "output_type": "stream",
     "text": [
      "setting up df took 0.569974\n",
      "finding affine basis took 0.078093\n",
      "intermediate time 570.868648\n",
      "20 neighbors\n"
     ]
    },
    {
     "name": "stderr",
     "output_type": "stream",
     "text": [
      "/home/pierre/anaconda3/conda/envs/pygmt/lib/python3.11/site-packages/shapely/linear.py:90: RuntimeWarning: invalid value encountered in line_locate_point\n",
      "  return lib.line_locate_point(line, other)\n"
     ]
    },
    {
     "name": "stdout",
     "output_type": "stream",
     "text": [
      "setting up df took 0.620782\n",
      "finding affine basis took 0.111717\n",
      "intermediate time 571.601180\n",
      "20 neighbors\n"
     ]
    },
    {
     "name": "stderr",
     "output_type": "stream",
     "text": [
      "/home/pierre/anaconda3/conda/envs/pygmt/lib/python3.11/site-packages/shapely/linear.py:90: RuntimeWarning: invalid value encountered in line_locate_point\n",
      "  return lib.line_locate_point(line, other)\n"
     ]
    },
    {
     "name": "stdout",
     "output_type": "stream",
     "text": [
      "setting up df took 0.608313\n"
     ]
    },
    {
     "name": "stderr",
     "output_type": "stream",
     "text": [
      "/home/pierre/anaconda3/conda/envs/pygmt/lib/python3.11/site-packages/shapely/linear.py:90: RuntimeWarning: invalid value encountered in line_locate_point\n",
      "  return lib.line_locate_point(line, other)\n"
     ]
    },
    {
     "name": "stdout",
     "output_type": "stream",
     "text": [
      "finding affine basis took 0.356992\n",
      "intermediate time 572.566517\n",
      "20 neighbors\n",
      "setting up df took 0.556970\n"
     ]
    },
    {
     "name": "stderr",
     "output_type": "stream",
     "text": [
      "/home/pierre/anaconda3/conda/envs/pygmt/lib/python3.11/site-packages/shapely/linear.py:90: RuntimeWarning: invalid value encountered in line_locate_point\n",
      "  return lib.line_locate_point(line, other)\n"
     ]
    },
    {
     "name": "stdout",
     "output_type": "stream",
     "text": [
      "finding affine basis took 0.259122\n",
      "intermediate time 573.382684\n",
      "19 neighbors\n",
      "setting up df took 0.496752\n",
      "finding affine basis took 0.016001\n",
      "intermediate time 573.895500\n",
      "19 neighbors\n"
     ]
    },
    {
     "name": "stderr",
     "output_type": "stream",
     "text": [
      "/home/pierre/anaconda3/conda/envs/pygmt/lib/python3.11/site-packages/shapely/linear.py:90: RuntimeWarning: invalid value encountered in line_locate_point\n",
      "  return lib.line_locate_point(line, other)\n"
     ]
    },
    {
     "name": "stdout",
     "output_type": "stream",
     "text": [
      "setting up df took 0.580970\n",
      "finding affine basis took 0.035036\n",
      "intermediate time 574.511532\n",
      "19 neighbors\n"
     ]
    },
    {
     "name": "stderr",
     "output_type": "stream",
     "text": [
      "/home/pierre/anaconda3/conda/envs/pygmt/lib/python3.11/site-packages/shapely/linear.py:90: RuntimeWarning: invalid value encountered in line_locate_point\n",
      "  return lib.line_locate_point(line, other)\n"
     ]
    },
    {
     "name": "stdout",
     "output_type": "stream",
     "text": [
      "setting up df took 0.632222\n",
      "finding affine basis took 0.178255\n",
      "intermediate time 575.322039\n",
      "19 neighbors\n"
     ]
    },
    {
     "name": "stderr",
     "output_type": "stream",
     "text": [
      "/home/pierre/anaconda3/conda/envs/pygmt/lib/python3.11/site-packages/shapely/linear.py:90: RuntimeWarning: invalid value encountered in line_locate_point\n",
      "  return lib.line_locate_point(line, other)\n"
     ]
    },
    {
     "name": "stdout",
     "output_type": "stream",
     "text": [
      "setting up df took 0.651610\n",
      "finding affine basis took 0.177544\n",
      "intermediate time 576.151226\n",
      "19 neighbors\n"
     ]
    },
    {
     "name": "stderr",
     "output_type": "stream",
     "text": [
      "/home/pierre/anaconda3/conda/envs/pygmt/lib/python3.11/site-packages/shapely/linear.py:90: RuntimeWarning: invalid value encountered in line_locate_point\n",
      "  return lib.line_locate_point(line, other)\n"
     ]
    },
    {
     "name": "stdout",
     "output_type": "stream",
     "text": [
      "setting up df took 0.575181\n",
      "finding affine basis took 0.097001\n",
      "intermediate time 576.823440\n",
      "19 neighbors\n"
     ]
    },
    {
     "name": "stderr",
     "output_type": "stream",
     "text": [
      "/home/pierre/anaconda3/conda/envs/pygmt/lib/python3.11/site-packages/shapely/linear.py:90: RuntimeWarning: invalid value encountered in line_locate_point\n",
      "  return lib.line_locate_point(line, other)\n"
     ]
    },
    {
     "name": "stdout",
     "output_type": "stream",
     "text": [
      "setting up df took 0.479348\n",
      "finding affine basis took 0.026976\n",
      "intermediate time 577.329798\n",
      "150/971\n",
      "19 neighbors\n"
     ]
    },
    {
     "name": "stderr",
     "output_type": "stream",
     "text": [
      "/home/pierre/anaconda3/conda/envs/pygmt/lib/python3.11/site-packages/shapely/linear.py:90: RuntimeWarning: invalid value encountered in line_locate_point\n",
      "  return lib.line_locate_point(line, other)\n"
     ]
    },
    {
     "name": "stdout",
     "output_type": "stream",
     "text": [
      "setting up df took 0.623435\n",
      "finding affine basis took 0.171669\n",
      "intermediate time 578.124934\n",
      "18 neighbors\n"
     ]
    },
    {
     "name": "stderr",
     "output_type": "stream",
     "text": [
      "/home/pierre/anaconda3/conda/envs/pygmt/lib/python3.11/site-packages/shapely/linear.py:90: RuntimeWarning: invalid value encountered in line_locate_point\n",
      "  return lib.line_locate_point(line, other)\n"
     ]
    },
    {
     "name": "stdout",
     "output_type": "stream",
     "text": [
      "setting up df took 0.579098\n",
      "finding affine basis took 0.132998\n",
      "intermediate time 578.837061\n",
      "18 neighbors\n"
     ]
    },
    {
     "name": "stderr",
     "output_type": "stream",
     "text": [
      "/home/pierre/anaconda3/conda/envs/pygmt/lib/python3.11/site-packages/shapely/linear.py:90: RuntimeWarning: invalid value encountered in line_locate_point\n",
      "  return lib.line_locate_point(line, other)\n"
     ]
    },
    {
     "name": "stdout",
     "output_type": "stream",
     "text": [
      "setting up df took 0.590065\n",
      "finding affine basis took 0.154621\n",
      "intermediate time 579.581779\n",
      "18 neighbors\n"
     ]
    },
    {
     "name": "stderr",
     "output_type": "stream",
     "text": [
      "/home/pierre/anaconda3/conda/envs/pygmt/lib/python3.11/site-packages/shapely/linear.py:90: RuntimeWarning: invalid value encountered in line_locate_point\n",
      "  return lib.line_locate_point(line, other)\n"
     ]
    },
    {
     "name": "stdout",
     "output_type": "stream",
     "text": [
      "setting up df took 0.653673\n"
     ]
    },
    {
     "name": "stderr",
     "output_type": "stream",
     "text": [
      "/home/pierre/anaconda3/conda/envs/pygmt/lib/python3.11/site-packages/shapely/linear.py:90: RuntimeWarning: invalid value encountered in line_locate_point\n",
      "  return lib.line_locate_point(line, other)\n"
     ]
    },
    {
     "name": "stdout",
     "output_type": "stream",
     "text": [
      "finding affine basis took 0.252550\n",
      "intermediate time 580.488036\n",
      "18 neighbors\n",
      "setting up df took 0.611995\n"
     ]
    },
    {
     "name": "stderr",
     "output_type": "stream",
     "text": [
      "/home/pierre/anaconda3/conda/envs/pygmt/lib/python3.11/site-packages/shapely/linear.py:90: RuntimeWarning: invalid value encountered in line_locate_point\n",
      "  return lib.line_locate_point(line, other)\n"
     ]
    },
    {
     "name": "stdout",
     "output_type": "stream",
     "text": [
      "finding affine basis took 0.535702\n",
      "intermediate time 581.635796\n",
      "17 neighbors\n",
      "setting up df took 0.596926\n"
     ]
    },
    {
     "name": "stderr",
     "output_type": "stream",
     "text": [
      "/home/pierre/anaconda3/conda/envs/pygmt/lib/python3.11/site-packages/shapely/linear.py:90: RuntimeWarning: invalid value encountered in line_locate_point\n",
      "  return lib.line_locate_point(line, other)\n"
     ]
    },
    {
     "name": "stdout",
     "output_type": "stream",
     "text": [
      "finding affine basis took 0.392149\n",
      "intermediate time 582.624933\n",
      "17 neighbors\n",
      "setting up df took 0.500452\n",
      "finding affine basis took 0.060383\n",
      "intermediate time 583.185830\n",
      "17 neighbors\n"
     ]
    },
    {
     "name": "stderr",
     "output_type": "stream",
     "text": [
      "/home/pierre/anaconda3/conda/envs/pygmt/lib/python3.11/site-packages/shapely/linear.py:90: RuntimeWarning: invalid value encountered in line_locate_point\n",
      "  return lib.line_locate_point(line, other)\n"
     ]
    },
    {
     "name": "stdout",
     "output_type": "stream",
     "text": [
      "setting up df took 0.511483\n",
      "finding affine basis took 0.192168\n",
      "intermediate time 583.889511\n",
      "17 neighbors\n"
     ]
    },
    {
     "name": "stderr",
     "output_type": "stream",
     "text": [
      "/home/pierre/anaconda3/conda/envs/pygmt/lib/python3.11/site-packages/shapely/linear.py:90: RuntimeWarning: invalid value encountered in line_locate_point\n",
      "  return lib.line_locate_point(line, other)\n"
     ]
    },
    {
     "name": "stdout",
     "output_type": "stream",
     "text": [
      "setting up df took 0.520660\n"
     ]
    },
    {
     "name": "stderr",
     "output_type": "stream",
     "text": [
      "/home/pierre/anaconda3/conda/envs/pygmt/lib/python3.11/site-packages/shapely/linear.py:90: RuntimeWarning: invalid value encountered in line_locate_point\n",
      "  return lib.line_locate_point(line, other)\n"
     ]
    },
    {
     "name": "stdout",
     "output_type": "stream",
     "text": [
      "finding affine basis took 0.216218\n",
      "intermediate time 584.626421\n",
      "17 neighbors\n",
      "setting up df took 0.567301\n",
      "finding affine basis took 0.132530\n",
      "intermediate time 585.326308\n",
      "160/971\n",
      "17 neighbors\n"
     ]
    },
    {
     "name": "stderr",
     "output_type": "stream",
     "text": [
      "/home/pierre/anaconda3/conda/envs/pygmt/lib/python3.11/site-packages/shapely/linear.py:90: RuntimeWarning: invalid value encountered in line_locate_point\n",
      "  return lib.line_locate_point(line, other)\n"
     ]
    },
    {
     "name": "stdout",
     "output_type": "stream",
     "text": [
      "setting up df took 0.469970\n",
      "finding affine basis took 0.065845\n",
      "intermediate time 585.862189\n",
      "16 neighbors\n"
     ]
    },
    {
     "name": "stderr",
     "output_type": "stream",
     "text": [
      "/home/pierre/anaconda3/conda/envs/pygmt/lib/python3.11/site-packages/shapely/linear.py:90: RuntimeWarning: invalid value encountered in line_locate_point\n",
      "  return lib.line_locate_point(line, other)\n"
     ]
    },
    {
     "name": "stdout",
     "output_type": "stream",
     "text": [
      "setting up df took 0.493483\n",
      "finding affine basis took 0.073617\n",
      "intermediate time 586.429319\n",
      "16 neighbors\n"
     ]
    },
    {
     "name": "stderr",
     "output_type": "stream",
     "text": [
      "/home/pierre/anaconda3/conda/envs/pygmt/lib/python3.11/site-packages/shapely/linear.py:90: RuntimeWarning: invalid value encountered in line_locate_point\n",
      "  return lib.line_locate_point(line, other)\n"
     ]
    },
    {
     "name": "stdout",
     "output_type": "stream",
     "text": [
      "setting up df took 0.582004\n",
      "finding affine basis took 0.114723\n",
      "intermediate time 587.126077\n",
      "16 neighbors\n"
     ]
    },
    {
     "name": "stderr",
     "output_type": "stream",
     "text": [
      "/home/pierre/anaconda3/conda/envs/pygmt/lib/python3.11/site-packages/shapely/linear.py:90: RuntimeWarning: invalid value encountered in line_locate_point\n",
      "  return lib.line_locate_point(line, other)\n"
     ]
    },
    {
     "name": "stdout",
     "output_type": "stream",
     "text": [
      "setting up df took 0.797374\n"
     ]
    },
    {
     "name": "stderr",
     "output_type": "stream",
     "text": [
      "/home/pierre/anaconda3/conda/envs/pygmt/lib/python3.11/site-packages/shapely/linear.py:90: RuntimeWarning: invalid value encountered in line_locate_point\n",
      "  return lib.line_locate_point(line, other)\n"
     ]
    },
    {
     "name": "stdout",
     "output_type": "stream",
     "text": [
      "finding affine basis took 0.421285\n",
      "intermediate time 588.344767\n",
      "16 neighbors\n",
      "setting up df took 0.491316\n",
      "finding affine basis took 0.027250\n",
      "intermediate time 588.863393\n",
      "16 neighbors\n"
     ]
    },
    {
     "name": "stderr",
     "output_type": "stream",
     "text": [
      "/home/pierre/anaconda3/conda/envs/pygmt/lib/python3.11/site-packages/shapely/linear.py:90: RuntimeWarning: invalid value encountered in line_locate_point\n",
      "  return lib.line_locate_point(line, other)\n"
     ]
    },
    {
     "name": "stdout",
     "output_type": "stream",
     "text": [
      "setting up df took 0.616916\n"
     ]
    },
    {
     "name": "stderr",
     "output_type": "stream",
     "text": [
      "/home/pierre/anaconda3/conda/envs/pygmt/lib/python3.11/site-packages/shapely/linear.py:90: RuntimeWarning: invalid value encountered in line_locate_point\n",
      "  return lib.line_locate_point(line, other)\n"
     ]
    },
    {
     "name": "stdout",
     "output_type": "stream",
     "text": [
      "finding affine basis took 0.324581\n",
      "intermediate time 589.804918\n",
      "15 neighbors\n",
      "setting up df took 0.498376\n",
      "finding affine basis took 0.016074\n",
      "intermediate time 590.319429\n",
      "15 neighbors\n"
     ]
    },
    {
     "name": "stderr",
     "output_type": "stream",
     "text": [
      "/home/pierre/anaconda3/conda/envs/pygmt/lib/python3.11/site-packages/shapely/linear.py:90: RuntimeWarning: invalid value encountered in line_locate_point\n",
      "  return lib.line_locate_point(line, other)\n"
     ]
    },
    {
     "name": "stdout",
     "output_type": "stream",
     "text": [
      "setting up df took 0.496141\n",
      "finding affine basis took 0.014575\n",
      "intermediate time 590.830173\n",
      "15 neighbors\n"
     ]
    },
    {
     "name": "stderr",
     "output_type": "stream",
     "text": [
      "/home/pierre/anaconda3/conda/envs/pygmt/lib/python3.11/site-packages/shapely/linear.py:90: RuntimeWarning: invalid value encountered in line_locate_point\n",
      "  return lib.line_locate_point(line, other)\n"
     ]
    },
    {
     "name": "stdout",
     "output_type": "stream",
     "text": [
      "setting up df took 0.496089\n",
      "finding affine basis took 0.052034\n",
      "intermediate time 591.378322\n",
      "15 neighbors\n"
     ]
    },
    {
     "name": "stderr",
     "output_type": "stream",
     "text": [
      "/home/pierre/anaconda3/conda/envs/pygmt/lib/python3.11/site-packages/shapely/linear.py:90: RuntimeWarning: invalid value encountered in line_locate_point\n",
      "  return lib.line_locate_point(line, other)\n"
     ]
    },
    {
     "name": "stdout",
     "output_type": "stream",
     "text": [
      "setting up df took 0.568219\n",
      "finding affine basis took 0.145036\n",
      "intermediate time 592.091608\n",
      "170/971\n",
      "15 neighbors\n"
     ]
    },
    {
     "name": "stderr",
     "output_type": "stream",
     "text": [
      "/home/pierre/anaconda3/conda/envs/pygmt/lib/python3.11/site-packages/shapely/linear.py:90: RuntimeWarning: invalid value encountered in line_locate_point\n",
      "  return lib.line_locate_point(line, other)\n"
     ]
    },
    {
     "name": "stdout",
     "output_type": "stream",
     "text": [
      "setting up df took 0.621109\n"
     ]
    },
    {
     "name": "stderr",
     "output_type": "stream",
     "text": [
      "/home/pierre/anaconda3/conda/envs/pygmt/lib/python3.11/site-packages/shapely/linear.py:90: RuntimeWarning: invalid value encountered in line_locate_point\n",
      "  return lib.line_locate_point(line, other)\n"
     ]
    },
    {
     "name": "stdout",
     "output_type": "stream",
     "text": [
      "finding affine basis took 0.321282\n",
      "intermediate time 593.034034\n",
      "15 neighbors\n",
      "setting up df took 0.587254\n",
      "finding affine basis took 0.126043\n",
      "intermediate time 593.747393\n",
      "15 neighbors\n"
     ]
    },
    {
     "name": "stderr",
     "output_type": "stream",
     "text": [
      "/home/pierre/anaconda3/conda/envs/pygmt/lib/python3.11/site-packages/shapely/linear.py:90: RuntimeWarning: invalid value encountered in line_locate_point\n",
      "  return lib.line_locate_point(line, other)\n"
     ]
    },
    {
     "name": "stdout",
     "output_type": "stream",
     "text": [
      "setting up df took 0.589280\n"
     ]
    },
    {
     "name": "stderr",
     "output_type": "stream",
     "text": [
      "/home/pierre/anaconda3/conda/envs/pygmt/lib/python3.11/site-packages/shapely/linear.py:90: RuntimeWarning: invalid value encountered in line_locate_point\n",
      "  return lib.line_locate_point(line, other)\n"
     ]
    },
    {
     "name": "stdout",
     "output_type": "stream",
     "text": [
      "finding affine basis took 0.329120\n",
      "intermediate time 594.665824\n",
      "15 neighbors\n",
      "setting up df took 0.563907\n"
     ]
    },
    {
     "name": "stderr",
     "output_type": "stream",
     "text": [
      "/home/pierre/anaconda3/conda/envs/pygmt/lib/python3.11/site-packages/shapely/linear.py:90: RuntimeWarning: invalid value encountered in line_locate_point\n",
      "  return lib.line_locate_point(line, other)\n"
     ]
    },
    {
     "name": "stdout",
     "output_type": "stream",
     "text": [
      "finding affine basis took 0.236176\n",
      "intermediate time 595.466007\n",
      "15 neighbors\n",
      "setting up df took 0.509046\n",
      "finding affine basis took 0.201092\n",
      "intermediate time 596.176208\n",
      "15 neighbors\n"
     ]
    },
    {
     "name": "stderr",
     "output_type": "stream",
     "text": [
      "/home/pierre/anaconda3/conda/envs/pygmt/lib/python3.11/site-packages/shapely/linear.py:90: RuntimeWarning: invalid value encountered in line_locate_point\n",
      "  return lib.line_locate_point(line, other)\n"
     ]
    },
    {
     "name": "stdout",
     "output_type": "stream",
     "text": [
      "setting up df took 0.499625\n"
     ]
    },
    {
     "name": "stderr",
     "output_type": "stream",
     "text": [
      "/home/pierre/anaconda3/conda/envs/pygmt/lib/python3.11/site-packages/shapely/linear.py:90: RuntimeWarning: invalid value encountered in line_locate_point\n",
      "  return lib.line_locate_point(line, other)\n"
     ]
    },
    {
     "name": "stdout",
     "output_type": "stream",
     "text": [
      "finding affine basis took 0.269713\n",
      "intermediate time 596.945608\n",
      "14 neighbors\n",
      "setting up df took 0.482277\n",
      "finding affine basis took 0.013343\n",
      "intermediate time 597.441289\n",
      "14 neighbors\n",
      "setting up df took 0.096805\n",
      "finding affine basis took 0.007967\n",
      "intermediate time 597.546085\n",
      "14 neighbors\n"
     ]
    },
    {
     "name": "stderr",
     "output_type": "stream",
     "text": [
      "/home/pierre/anaconda3/conda/envs/pygmt/lib/python3.11/site-packages/shapely/linear.py:90: RuntimeWarning: invalid value encountered in line_locate_point\n",
      "  return lib.line_locate_point(line, other)\n"
     ]
    },
    {
     "name": "stdout",
     "output_type": "stream",
     "text": [
      "setting up df took 0.506099\n",
      "finding affine basis took 0.159137\n",
      "intermediate time 598.211349\n",
      "14 neighbors\n"
     ]
    },
    {
     "name": "stderr",
     "output_type": "stream",
     "text": [
      "/home/pierre/anaconda3/conda/envs/pygmt/lib/python3.11/site-packages/shapely/linear.py:90: RuntimeWarning: invalid value encountered in line_locate_point\n",
      "  return lib.line_locate_point(line, other)\n"
     ]
    },
    {
     "name": "stdout",
     "output_type": "stream",
     "text": [
      "setting up df took 0.498434\n",
      "finding affine basis took 0.069192\n",
      "intermediate time 598.779006\n",
      "180/971\n",
      "14 neighbors\n"
     ]
    },
    {
     "name": "stderr",
     "output_type": "stream",
     "text": [
      "/home/pierre/anaconda3/conda/envs/pygmt/lib/python3.11/site-packages/shapely/linear.py:90: RuntimeWarning: invalid value encountered in line_locate_point\n",
      "  return lib.line_locate_point(line, other)\n"
     ]
    },
    {
     "name": "stdout",
     "output_type": "stream",
     "text": [
      "setting up df took 0.488243\n",
      "finding affine basis took 0.047377\n",
      "intermediate time 599.314664\n",
      "14 neighbors\n"
     ]
    },
    {
     "name": "stderr",
     "output_type": "stream",
     "text": [
      "/home/pierre/anaconda3/conda/envs/pygmt/lib/python3.11/site-packages/shapely/linear.py:90: RuntimeWarning: invalid value encountered in line_locate_point\n",
      "  return lib.line_locate_point(line, other)\n"
     ]
    },
    {
     "name": "stdout",
     "output_type": "stream",
     "text": [
      "setting up df took 0.497892\n",
      "finding affine basis took 0.069792\n",
      "intermediate time 599.882379\n",
      "14 neighbors\n"
     ]
    },
    {
     "name": "stderr",
     "output_type": "stream",
     "text": [
      "/home/pierre/anaconda3/conda/envs/pygmt/lib/python3.11/site-packages/shapely/linear.py:90: RuntimeWarning: invalid value encountered in line_locate_point\n",
      "  return lib.line_locate_point(line, other)\n"
     ]
    },
    {
     "name": "stdout",
     "output_type": "stream",
     "text": [
      "setting up df took 0.508987\n",
      "finding affine basis took 0.096495\n",
      "intermediate time 600.487889\n",
      "14 neighbors\n"
     ]
    },
    {
     "name": "stderr",
     "output_type": "stream",
     "text": [
      "/home/pierre/anaconda3/conda/envs/pygmt/lib/python3.11/site-packages/shapely/linear.py:90: RuntimeWarning: invalid value encountered in line_locate_point\n",
      "  return lib.line_locate_point(line, other)\n"
     ]
    },
    {
     "name": "stdout",
     "output_type": "stream",
     "text": [
      "setting up df took 0.488924\n",
      "finding affine basis took 0.113359\n",
      "intermediate time 601.090202\n",
      "14 neighbors\n"
     ]
    },
    {
     "name": "stderr",
     "output_type": "stream",
     "text": [
      "/home/pierre/anaconda3/conda/envs/pygmt/lib/python3.11/site-packages/shapely/linear.py:90: RuntimeWarning: invalid value encountered in line_locate_point\n",
      "  return lib.line_locate_point(line, other)\n"
     ]
    },
    {
     "name": "stdout",
     "output_type": "stream",
     "text": [
      "setting up df took 0.482579\n",
      "finding affine basis took 0.026105\n",
      "intermediate time 601.598917\n",
      "14 neighbors\n"
     ]
    },
    {
     "name": "stderr",
     "output_type": "stream",
     "text": [
      "/home/pierre/anaconda3/conda/envs/pygmt/lib/python3.11/site-packages/shapely/linear.py:90: RuntimeWarning: invalid value encountered in line_locate_point\n",
      "  return lib.line_locate_point(line, other)\n"
     ]
    },
    {
     "name": "stdout",
     "output_type": "stream",
     "text": [
      "setting up df took 0.593959\n"
     ]
    },
    {
     "name": "stderr",
     "output_type": "stream",
     "text": [
      "/home/pierre/anaconda3/conda/envs/pygmt/lib/python3.11/site-packages/shapely/linear.py:90: RuntimeWarning: invalid value encountered in line_locate_point\n",
      "  return lib.line_locate_point(line, other)\n"
     ]
    },
    {
     "name": "stdout",
     "output_type": "stream",
     "text": [
      "finding affine basis took 0.249705\n",
      "intermediate time 602.442611\n",
      "14 neighbors\n",
      "setting up df took 0.588546\n"
     ]
    },
    {
     "name": "stderr",
     "output_type": "stream",
     "text": [
      "/home/pierre/anaconda3/conda/envs/pygmt/lib/python3.11/site-packages/shapely/linear.py:90: RuntimeWarning: invalid value encountered in line_locate_point\n",
      "  return lib.line_locate_point(line, other)\n"
     ]
    },
    {
     "name": "stdout",
     "output_type": "stream",
     "text": [
      "finding affine basis took 0.350761\n",
      "intermediate time 603.381980\n",
      "13 neighbors\n",
      "setting up df took 0.462527\n",
      "finding affine basis took 0.016000\n",
      "intermediate time 603.860567\n",
      "13 neighbors\n"
     ]
    },
    {
     "name": "stderr",
     "output_type": "stream",
     "text": [
      "/home/pierre/anaconda3/conda/envs/pygmt/lib/python3.11/site-packages/shapely/linear.py:90: RuntimeWarning: invalid value encountered in line_locate_point\n",
      "  return lib.line_locate_point(line, other)\n"
     ]
    },
    {
     "name": "stdout",
     "output_type": "stream",
     "text": [
      "setting up df took 0.644285\n"
     ]
    },
    {
     "name": "stderr",
     "output_type": "stream",
     "text": [
      "/home/pierre/anaconda3/conda/envs/pygmt/lib/python3.11/site-packages/shapely/linear.py:90: RuntimeWarning: invalid value encountered in line_locate_point\n",
      "  return lib.line_locate_point(line, other)\n"
     ]
    },
    {
     "name": "stdout",
     "output_type": "stream",
     "text": [
      "finding affine basis took 0.269722\n",
      "intermediate time 604.774601\n",
      "12 neighbors\n",
      "setting up df took 0.451584\n",
      "finding affine basis took 0.015442\n",
      "intermediate time 605.241689\n",
      "190/971\n",
      "12 neighbors\n"
     ]
    },
    {
     "name": "stderr",
     "output_type": "stream",
     "text": [
      "/home/pierre/anaconda3/conda/envs/pygmt/lib/python3.11/site-packages/shapely/linear.py:90: RuntimeWarning: invalid value encountered in line_locate_point\n",
      "  return lib.line_locate_point(line, other)\n"
     ]
    },
    {
     "name": "stdout",
     "output_type": "stream",
     "text": [
      "setting up df took 0.465238\n",
      "finding affine basis took 0.015228\n",
      "intermediate time 605.722186\n",
      "12 neighbors\n"
     ]
    },
    {
     "name": "stderr",
     "output_type": "stream",
     "text": [
      "/home/pierre/anaconda3/conda/envs/pygmt/lib/python3.11/site-packages/shapely/linear.py:90: RuntimeWarning: invalid value encountered in line_locate_point\n",
      "  return lib.line_locate_point(line, other)\n"
     ]
    },
    {
     "name": "stdout",
     "output_type": "stream",
     "text": [
      "setting up df took 0.443956\n",
      "finding affine basis took 0.014921\n",
      "intermediate time 606.181088\n",
      "12 neighbors\n"
     ]
    },
    {
     "name": "stderr",
     "output_type": "stream",
     "text": [
      "/home/pierre/anaconda3/conda/envs/pygmt/lib/python3.11/site-packages/shapely/linear.py:90: RuntimeWarning: invalid value encountered in line_locate_point\n",
      "  return lib.line_locate_point(line, other)\n"
     ]
    },
    {
     "name": "stdout",
     "output_type": "stream",
     "text": [
      "setting up df took 0.475666\n",
      "finding affine basis took 0.023531\n",
      "intermediate time 606.680310\n",
      "12 neighbors\n"
     ]
    },
    {
     "name": "stderr",
     "output_type": "stream",
     "text": [
      "/home/pierre/anaconda3/conda/envs/pygmt/lib/python3.11/site-packages/shapely/linear.py:90: RuntimeWarning: invalid value encountered in line_locate_point\n",
      "  return lib.line_locate_point(line, other)\n"
     ]
    },
    {
     "name": "stdout",
     "output_type": "stream",
     "text": [
      "setting up df took 0.457112\n",
      "finding affine basis took 0.030354\n",
      "intermediate time 607.167803\n",
      "12 neighbors\n"
     ]
    },
    {
     "name": "stderr",
     "output_type": "stream",
     "text": [
      "/home/pierre/anaconda3/conda/envs/pygmt/lib/python3.11/site-packages/shapely/linear.py:90: RuntimeWarning: invalid value encountered in line_locate_point\n",
      "  return lib.line_locate_point(line, other)\n"
     ]
    },
    {
     "name": "stdout",
     "output_type": "stream",
     "text": [
      "setting up df took 0.449975\n",
      "finding affine basis took 0.051507\n",
      "intermediate time 607.669314\n",
      "12 neighbors\n"
     ]
    },
    {
     "name": "stderr",
     "output_type": "stream",
     "text": [
      "/home/pierre/anaconda3/conda/envs/pygmt/lib/python3.11/site-packages/shapely/linear.py:90: RuntimeWarning: invalid value encountered in line_locate_point\n",
      "  return lib.line_locate_point(line, other)\n"
     ]
    },
    {
     "name": "stdout",
     "output_type": "stream",
     "text": [
      "setting up df took 0.504818\n",
      "finding affine basis took 0.199333\n",
      "intermediate time 608.373497\n",
      "12 neighbors\n"
     ]
    },
    {
     "name": "stderr",
     "output_type": "stream",
     "text": [
      "/home/pierre/anaconda3/conda/envs/pygmt/lib/python3.11/site-packages/shapely/linear.py:90: RuntimeWarning: invalid value encountered in line_locate_point\n",
      "  return lib.line_locate_point(line, other)\n"
     ]
    },
    {
     "name": "stdout",
     "output_type": "stream",
     "text": [
      "setting up df took 0.499890\n",
      "finding affine basis took 0.030369\n",
      "intermediate time 608.903788\n",
      "11 neighbors\n"
     ]
    },
    {
     "name": "stderr",
     "output_type": "stream",
     "text": [
      "/home/pierre/anaconda3/conda/envs/pygmt/lib/python3.11/site-packages/shapely/linear.py:90: RuntimeWarning: invalid value encountered in line_locate_point\n",
      "  return lib.line_locate_point(line, other)\n"
     ]
    },
    {
     "name": "stdout",
     "output_type": "stream",
     "text": [
      "setting up df took 0.564907\n"
     ]
    },
    {
     "name": "stderr",
     "output_type": "stream",
     "text": [
      "/home/pierre/anaconda3/conda/envs/pygmt/lib/python3.11/site-packages/shapely/linear.py:90: RuntimeWarning: invalid value encountered in line_locate_point\n",
      "  return lib.line_locate_point(line, other)\n"
     ]
    },
    {
     "name": "stdout",
     "output_type": "stream",
     "text": [
      "finding affine basis took 0.400695\n",
      "intermediate time 609.869419\n",
      "11 neighbors\n",
      "setting up df took 0.486259\n",
      "finding affine basis took 0.015030\n",
      "intermediate time 610.370767\n",
      "11 neighbors\n"
     ]
    },
    {
     "name": "stderr",
     "output_type": "stream",
     "text": [
      "/home/pierre/anaconda3/conda/envs/pygmt/lib/python3.11/site-packages/shapely/linear.py:90: RuntimeWarning: invalid value encountered in line_locate_point\n",
      "  return lib.line_locate_point(line, other)\n"
     ]
    },
    {
     "name": "stdout",
     "output_type": "stream",
     "text": [
      "setting up df took 0.571568\n",
      "finding affine basis took 0.188862\n",
      "intermediate time 611.131224\n",
      "200/971\n",
      "11 neighbors\n"
     ]
    },
    {
     "name": "stderr",
     "output_type": "stream",
     "text": [
      "/home/pierre/anaconda3/conda/envs/pygmt/lib/python3.11/site-packages/shapely/linear.py:90: RuntimeWarning: invalid value encountered in line_locate_point\n",
      "  return lib.line_locate_point(line, other)\n"
     ]
    },
    {
     "name": "stdout",
     "output_type": "stream",
     "text": [
      "setting up df took 0.458829\n",
      "finding affine basis took 0.015442\n",
      "intermediate time 611.605529\n",
      "11 neighbors\n"
     ]
    },
    {
     "name": "stderr",
     "output_type": "stream",
     "text": [
      "/home/pierre/anaconda3/conda/envs/pygmt/lib/python3.11/site-packages/shapely/linear.py:90: RuntimeWarning: invalid value encountered in line_locate_point\n",
      "  return lib.line_locate_point(line, other)\n"
     ]
    },
    {
     "name": "stdout",
     "output_type": "stream",
     "text": [
      "setting up df took 0.599408\n",
      "finding affine basis took 0.172451\n",
      "intermediate time 612.377415\n",
      "10 neighbors\n"
     ]
    },
    {
     "name": "stderr",
     "output_type": "stream",
     "text": [
      "/home/pierre/anaconda3/conda/envs/pygmt/lib/python3.11/site-packages/shapely/linear.py:90: RuntimeWarning: invalid value encountered in line_locate_point\n",
      "  return lib.line_locate_point(line, other)\n"
     ]
    },
    {
     "name": "stdout",
     "output_type": "stream",
     "text": [
      "setting up df took 0.152349\n",
      "finding affine basis took 0.062435\n",
      "intermediate time 612.592231\n",
      "10 neighbors\n",
      "setting up df took 0.073952\n",
      "finding affine basis took 0.013481\n",
      "intermediate time 612.679690\n",
      "9 neighbors\n"
     ]
    },
    {
     "name": "stderr",
     "output_type": "stream",
     "text": [
      "/home/pierre/anaconda3/conda/envs/pygmt/lib/python3.11/site-packages/shapely/linear.py:90: RuntimeWarning: invalid value encountered in line_locate_point\n",
      "  return lib.line_locate_point(line, other)\n"
     ]
    },
    {
     "name": "stdout",
     "output_type": "stream",
     "text": [
      "setting up df took 0.490205\n",
      "finding affine basis took 0.051902\n",
      "intermediate time 613.221827\n",
      "9 neighbors\n",
      "setting up df took 0.144626\n"
     ]
    },
    {
     "name": "stderr",
     "output_type": "stream",
     "text": [
      "/home/pierre/anaconda3/conda/envs/pygmt/lib/python3.11/site-packages/shapely/linear.py:90: RuntimeWarning: invalid value encountered in line_locate_point\n",
      "  return lib.line_locate_point(line, other)\n",
      "/home/pierre/anaconda3/conda/envs/pygmt/lib/python3.11/site-packages/shapely/linear.py:90: RuntimeWarning: invalid value encountered in line_locate_point\n",
      "  return lib.line_locate_point(line, other)\n"
     ]
    },
    {
     "name": "stdout",
     "output_type": "stream",
     "text": [
      "finding affine basis took 0.027374\n",
      "intermediate time 613.393855\n",
      "9 neighbors\n",
      "setting up df took 0.609974\n",
      "finding affine basis took 0.138131\n",
      "intermediate time 614.142022\n",
      "9 neighbors\n",
      "setting up df took 0.017618\n",
      "finding affine basis took 0.003758\n",
      "intermediate time 614.163430\n",
      "8 neighbors\n"
     ]
    },
    {
     "name": "stderr",
     "output_type": "stream",
     "text": [
      "/home/pierre/anaconda3/conda/envs/pygmt/lib/python3.11/site-packages/shapely/linear.py:90: RuntimeWarning: invalid value encountered in line_locate_point\n",
      "  return lib.line_locate_point(line, other)\n"
     ]
    },
    {
     "name": "stdout",
     "output_type": "stream",
     "text": [
      "setting up df took 0.450114\n",
      "finding affine basis took 0.028104\n",
      "intermediate time 614.641673\n",
      "8 neighbors\n"
     ]
    },
    {
     "name": "stderr",
     "output_type": "stream",
     "text": [
      "/home/pierre/anaconda3/conda/envs/pygmt/lib/python3.11/site-packages/shapely/linear.py:90: RuntimeWarning: invalid value encountered in line_locate_point\n",
      "  return lib.line_locate_point(line, other)\n"
     ]
    },
    {
     "name": "stdout",
     "output_type": "stream",
     "text": [
      "setting up df took 0.447449\n",
      "finding affine basis took 0.027180\n",
      "intermediate time 615.116330\n",
      "210/971\n",
      "8 neighbors\n",
      "setting up df took 0.041869\n",
      "finding affine basis took 0.003557\n",
      "intermediate time 615.161788\n",
      "8 neighbors\n",
      "setting up df took 0.063652\n",
      "finding affine basis took 0.010264\n",
      "intermediate time 615.235731\n",
      "8 neighbors\n"
     ]
    },
    {
     "name": "stderr",
     "output_type": "stream",
     "text": [
      "/home/pierre/anaconda3/conda/envs/pygmt/lib/python3.11/site-packages/shapely/linear.py:90: RuntimeWarning: invalid value encountered in line_locate_point\n",
      "  return lib.line_locate_point(line, other)\n"
     ]
    },
    {
     "name": "stdout",
     "output_type": "stream",
     "text": [
      "setting up df took 0.443528\n",
      "finding affine basis took 0.012886\n",
      "intermediate time 615.692171\n",
      "7 neighbors\n"
     ]
    },
    {
     "name": "stderr",
     "output_type": "stream",
     "text": [
      "/home/pierre/anaconda3/conda/envs/pygmt/lib/python3.11/site-packages/shapely/linear.py:90: RuntimeWarning: invalid value encountered in line_locate_point\n",
      "  return lib.line_locate_point(line, other)\n"
     ]
    },
    {
     "name": "stdout",
     "output_type": "stream",
     "text": [
      "setting up df took 0.475851\n",
      "finding affine basis took 0.024043\n",
      "intermediate time 616.192091\n",
      "7 neighbors\n",
      "setting up df took 0.169571\n"
     ]
    },
    {
     "name": "stderr",
     "output_type": "stream",
     "text": [
      "/home/pierre/anaconda3/conda/envs/pygmt/lib/python3.11/site-packages/shapely/linear.py:90: RuntimeWarning: invalid value encountered in line_locate_point\n",
      "  return lib.line_locate_point(line, other)\n",
      "/home/pierre/anaconda3/conda/envs/pygmt/lib/python3.11/site-packages/shapely/linear.py:90: RuntimeWarning: invalid value encountered in line_locate_point\n",
      "  return lib.line_locate_point(line, other)\n"
     ]
    },
    {
     "name": "stdout",
     "output_type": "stream",
     "text": [
      "finding affine basis took 0.049827\n",
      "intermediate time 616.411516\n",
      "7 neighbors\n",
      "setting up df took 0.023387\n",
      "finding affine basis took 0.003926\n",
      "intermediate time 616.438887\n",
      "7 neighbors\n",
      "setting up df took 0.113432\n",
      "finding affine basis took 0.030923\n",
      "intermediate time 616.583268\n",
      "7 neighbors\n"
     ]
    },
    {
     "name": "stderr",
     "output_type": "stream",
     "text": [
      "/home/pierre/anaconda3/conda/envs/pygmt/lib/python3.11/site-packages/shapely/linear.py:90: RuntimeWarning: invalid value encountered in line_locate_point\n",
      "  return lib.line_locate_point(line, other)\n"
     ]
    },
    {
     "name": "stdout",
     "output_type": "stream",
     "text": [
      "setting up df took 0.063666\n",
      "finding affine basis took 0.009422\n",
      "intermediate time 616.656382\n",
      "7 neighbors\n",
      "setting up df took 0.495539\n",
      "finding affine basis took 0.051616\n",
      "intermediate time 617.203564\n",
      "7 neighbors\n",
      "setting up df took 0.020933\n",
      "finding affine basis took 0.008057\n",
      "intermediate time 617.232583\n",
      "220/971\n",
      "6 neighbors\n",
      "setting up df took 0.005623\n",
      "finding affine basis took 0.002690\n",
      "intermediate time 617.240923\n",
      "6 neighbors\n"
     ]
    },
    {
     "name": "stderr",
     "output_type": "stream",
     "text": [
      "/home/pierre/anaconda3/conda/envs/pygmt/lib/python3.11/site-packages/shapely/linear.py:90: RuntimeWarning: invalid value encountered in line_locate_point\n",
      "  return lib.line_locate_point(line, other)\n"
     ]
    },
    {
     "name": "stdout",
     "output_type": "stream",
     "text": [
      "setting up df took 0.155904\n",
      "finding affine basis took 0.023752\n",
      "intermediate time 617.420604\n",
      "6 neighbors\n",
      "setting up df took 0.163365\n"
     ]
    },
    {
     "name": "stderr",
     "output_type": "stream",
     "text": [
      "/home/pierre/anaconda3/conda/envs/pygmt/lib/python3.11/site-packages/shapely/linear.py:90: RuntimeWarning: invalid value encountered in line_locate_point\n",
      "  return lib.line_locate_point(line, other)\n",
      "/home/pierre/anaconda3/conda/envs/pygmt/lib/python3.11/site-packages/shapely/linear.py:90: RuntimeWarning: invalid value encountered in line_locate_point\n",
      "  return lib.line_locate_point(line, other)\n"
     ]
    },
    {
     "name": "stdout",
     "output_type": "stream",
     "text": [
      "finding affine basis took 0.052292\n",
      "intermediate time 617.636286\n",
      "6 neighbors\n",
      "setting up df took 0.117695\n",
      "finding affine basis took 0.015653\n",
      "intermediate time 617.769696\n",
      "6 neighbors\n"
     ]
    },
    {
     "name": "stderr",
     "output_type": "stream",
     "text": [
      "/home/pierre/anaconda3/conda/envs/pygmt/lib/python3.11/site-packages/shapely/linear.py:90: RuntimeWarning: invalid value encountered in line_locate_point\n",
      "  return lib.line_locate_point(line, other)\n",
      "/home/pierre/anaconda3/conda/envs/pygmt/lib/python3.11/site-packages/shapely/linear.py:90: RuntimeWarning: invalid value encountered in line_locate_point\n",
      "  return lib.line_locate_point(line, other)\n"
     ]
    },
    {
     "name": "stdout",
     "output_type": "stream",
     "text": [
      "setting up df took 0.120657\n",
      "finding affine basis took 0.019122\n",
      "intermediate time 617.909501\n",
      "6 neighbors\n",
      "setting up df took 0.128862\n",
      "finding affine basis took 0.034435\n",
      "intermediate time 618.072824\n",
      "6 neighbors\n"
     ]
    },
    {
     "name": "stderr",
     "output_type": "stream",
     "text": [
      "/home/pierre/anaconda3/conda/envs/pygmt/lib/python3.11/site-packages/shapely/linear.py:90: RuntimeWarning: invalid value encountered in line_locate_point\n",
      "  return lib.line_locate_point(line, other)\n",
      "/home/pierre/anaconda3/conda/envs/pygmt/lib/python3.11/site-packages/shapely/linear.py:90: RuntimeWarning: invalid value encountered in line_locate_point\n",
      "  return lib.line_locate_point(line, other)\n"
     ]
    },
    {
     "name": "stdout",
     "output_type": "stream",
     "text": [
      "setting up df took 0.157904\n",
      "finding affine basis took 0.035897\n",
      "intermediate time 618.266651\n",
      "6 neighbors\n",
      "setting up df took 0.021051\n",
      "finding affine basis took 0.002974\n",
      "intermediate time 618.290709\n",
      "6 neighbors\n",
      "setting up df took 0.054576\n",
      "finding affine basis took 0.008719\n",
      "intermediate time 618.354031\n",
      "6 neighbors\n",
      "setting up df took 0.160351\n",
      "finding affine basis took 0.046566\n",
      "intermediate time 618.560976\n",
      "230/971\n",
      "6 neighbors\n",
      "setting up df took 0.064029\n",
      "finding affine basis took 0.010836\n",
      "intermediate time 618.635901\n",
      "6 neighbors\n",
      "setting up df took 0.015931\n",
      "finding affine basis took 0.006105\n",
      "intermediate time 618.657964\n",
      "6 neighbors\n"
     ]
    },
    {
     "name": "stderr",
     "output_type": "stream",
     "text": [
      "/home/pierre/anaconda3/conda/envs/pygmt/lib/python3.11/site-packages/shapely/linear.py:90: RuntimeWarning: invalid value encountered in line_locate_point\n",
      "  return lib.line_locate_point(line, other)\n"
     ]
    },
    {
     "name": "stdout",
     "output_type": "stream",
     "text": [
      "setting up df took 0.109762\n",
      "finding affine basis took 0.016169\n",
      "intermediate time 618.783922\n",
      "6 neighbors\n",
      "setting up df took 0.134808\n",
      "finding affine basis took 0.017280\n",
      "intermediate time 618.936043\n",
      "5 neighbors\n"
     ]
    },
    {
     "name": "stderr",
     "output_type": "stream",
     "text": [
      "/home/pierre/anaconda3/conda/envs/pygmt/lib/python3.11/site-packages/shapely/linear.py:90: RuntimeWarning: invalid value encountered in line_locate_point\n",
      "  return lib.line_locate_point(line, other)\n",
      "/home/pierre/anaconda3/conda/envs/pygmt/lib/python3.11/site-packages/shapely/linear.py:90: RuntimeWarning: invalid value encountered in line_locate_point\n",
      "  return lib.line_locate_point(line, other)\n"
     ]
    },
    {
     "name": "stdout",
     "output_type": "stream",
     "text": [
      "setting up df took 0.190840\n",
      "finding affine basis took 0.061234\n",
      "intermediate time 619.188142\n",
      "5 neighbors\n",
      "setting up df took 0.060472\n",
      "finding affine basis took 0.012131\n",
      "intermediate time 619.260780\n",
      "5 neighbors\n"
     ]
    },
    {
     "name": "stderr",
     "output_type": "stream",
     "text": [
      "/home/pierre/anaconda3/conda/envs/pygmt/lib/python3.11/site-packages/shapely/linear.py:90: RuntimeWarning: invalid value encountered in line_locate_point\n",
      "  return lib.line_locate_point(line, other)\n"
     ]
    },
    {
     "name": "stdout",
     "output_type": "stream",
     "text": [
      "setting up df took 0.120416\n",
      "finding affine basis took 0.008924\n",
      "intermediate time 619.390147\n",
      "5 neighbors\n",
      "setting up df took 0.124204\n",
      "finding affine basis took 0.028744\n",
      "intermediate time 619.543120\n",
      "5 neighbors\n"
     ]
    },
    {
     "name": "stderr",
     "output_type": "stream",
     "text": [
      "/home/pierre/anaconda3/conda/envs/pygmt/lib/python3.11/site-packages/shapely/linear.py:90: RuntimeWarning: invalid value encountered in line_locate_point\n",
      "  return lib.line_locate_point(line, other)\n",
      "/home/pierre/anaconda3/conda/envs/pygmt/lib/python3.11/site-packages/shapely/linear.py:90: RuntimeWarning: invalid value encountered in line_locate_point\n",
      "  return lib.line_locate_point(line, other)\n"
     ]
    },
    {
     "name": "stdout",
     "output_type": "stream",
     "text": [
      "setting up df took 0.178602\n",
      "finding affine basis took 0.056458\n",
      "intermediate time 619.778211\n",
      "5 neighbors\n"
     ]
    },
    {
     "name": "stderr",
     "output_type": "stream",
     "text": [
      "/home/pierre/anaconda3/conda/envs/pygmt/lib/python3.11/site-packages/shapely/linear.py:90: RuntimeWarning: invalid value encountered in line_locate_point\n",
      "  return lib.line_locate_point(line, other)\n"
     ]
    },
    {
     "name": "stdout",
     "output_type": "stream",
     "text": [
      "setting up df took 0.152097\n",
      "finding affine basis took 0.052562\n",
      "intermediate time 619.982894\n",
      "240/971\n",
      "5 neighbors\n",
      "setting up df took 0.014279\n",
      "finding affine basis took 0.004061\n",
      "intermediate time 620.001268\n",
      "5 neighbors\n"
     ]
    },
    {
     "name": "stderr",
     "output_type": "stream",
     "text": [
      "/home/pierre/anaconda3/conda/envs/pygmt/lib/python3.11/site-packages/shapely/linear.py:90: RuntimeWarning: invalid value encountered in line_locate_point\n",
      "  return lib.line_locate_point(line, other)\n"
     ]
    },
    {
     "name": "stdout",
     "output_type": "stream",
     "text": [
      "setting up df took 0.151124\n",
      "finding affine basis took 0.037645\n",
      "intermediate time 620.190062\n",
      "5 neighbors\n",
      "setting up df took 0.026329\n",
      "finding affine basis took 0.005100\n",
      "intermediate time 620.221527\n",
      "5 neighbors\n",
      "setting up df took 0.111920\n"
     ]
    },
    {
     "name": "stderr",
     "output_type": "stream",
     "text": [
      "/home/pierre/anaconda3/conda/envs/pygmt/lib/python3.11/site-packages/shapely/linear.py:90: RuntimeWarning: invalid value encountered in line_locate_point\n",
      "  return lib.line_locate_point(line, other)\n",
      "/home/pierre/anaconda3/conda/envs/pygmt/lib/python3.11/site-packages/shapely/linear.py:90: RuntimeWarning: invalid value encountered in line_locate_point\n",
      "  return lib.line_locate_point(line, other)\n"
     ]
    },
    {
     "name": "stdout",
     "output_type": "stream",
     "text": [
      "finding affine basis took 0.033288\n",
      "intermediate time 620.366772\n",
      "5 neighbors\n",
      "setting up df took 0.149616\n",
      "finding affine basis took 0.035975\n",
      "intermediate time 620.552421\n",
      "5 neighbors\n"
     ]
    },
    {
     "name": "stderr",
     "output_type": "stream",
     "text": [
      "/home/pierre/anaconda3/conda/envs/pygmt/lib/python3.11/site-packages/shapely/linear.py:90: RuntimeWarning: invalid value encountered in line_locate_point\n",
      "  return lib.line_locate_point(line, other)\n"
     ]
    },
    {
     "name": "stdout",
     "output_type": "stream",
     "text": [
      "setting up df took 0.164851\n",
      "finding affine basis took 0.041336\n",
      "intermediate time 620.758634\n",
      "5 neighbors\n",
      "setting up df took 0.074432\n",
      "finding affine basis took 0.009185\n",
      "intermediate time 620.842284\n",
      "5 neighbors\n"
     ]
    },
    {
     "name": "stderr",
     "output_type": "stream",
     "text": [
      "/home/pierre/anaconda3/conda/envs/pygmt/lib/python3.11/site-packages/shapely/linear.py:90: RuntimeWarning: invalid value encountered in line_locate_point\n",
      "  return lib.line_locate_point(line, other)\n",
      "/home/pierre/anaconda3/conda/envs/pygmt/lib/python3.11/site-packages/shapely/linear.py:90: RuntimeWarning: invalid value encountered in line_locate_point\n",
      "  return lib.line_locate_point(line, other)\n"
     ]
    },
    {
     "name": "stdout",
     "output_type": "stream",
     "text": [
      "setting up df took 0.171813\n",
      "finding affine basis took 0.070694\n",
      "intermediate time 621.084816\n",
      "5 neighbors\n"
     ]
    },
    {
     "name": "stderr",
     "output_type": "stream",
     "text": [
      "/home/pierre/anaconda3/conda/envs/pygmt/lib/python3.11/site-packages/shapely/linear.py:90: RuntimeWarning: invalid value encountered in line_locate_point\n",
      "  return lib.line_locate_point(line, other)\n"
     ]
    },
    {
     "name": "stdout",
     "output_type": "stream",
     "text": [
      "setting up df took 0.168501\n",
      "finding affine basis took 0.083310\n",
      "intermediate time 621.336653\n",
      "5 neighbors\n"
     ]
    },
    {
     "name": "stderr",
     "output_type": "stream",
     "text": [
      "/home/pierre/anaconda3/conda/envs/pygmt/lib/python3.11/site-packages/shapely/linear.py:90: RuntimeWarning: invalid value encountered in line_locate_point\n",
      "  return lib.line_locate_point(line, other)\n"
     ]
    },
    {
     "name": "stdout",
     "output_type": "stream",
     "text": [
      "setting up df took 0.251230\n",
      "finding affine basis took 0.007416\n",
      "intermediate time 621.595322\n",
      "250/971\n",
      "5 neighbors\n",
      "setting up df took 0.027668\n",
      "finding affine basis took 0.003074\n",
      "intermediate time 621.626092\n",
      "5 neighbors\n",
      "setting up df took 0.008796\n",
      "finding affine basis took 0.006435\n",
      "intermediate time 621.641349\n",
      "5 neighbors\n",
      "setting up df took 0.011384\n",
      "finding affine basis took 0.002842\n",
      "intermediate time 621.655601\n",
      "5 neighbors\n",
      "setting up df took 0.008519\n",
      "finding affine basis took 0.003086\n",
      "intermediate time 621.667231\n",
      "4 neighbors\n",
      "setting up df took 0.039645\n",
      "finding affine basis took 0.003708\n",
      "intermediate time 621.710609\n",
      "4 neighbors\n",
      "setting up df took 0.016549\n",
      "finding affine basis took 0.003080\n",
      "intermediate time 621.730262\n",
      "4 neighbors\n",
      "setting up df took 0.055872\n",
      "finding affine basis took 0.003720\n",
      "intermediate time 621.789882\n",
      "4 neighbors\n"
     ]
    },
    {
     "name": "stderr",
     "output_type": "stream",
     "text": [
      "/home/pierre/anaconda3/conda/envs/pygmt/lib/python3.11/site-packages/shapely/linear.py:90: RuntimeWarning: invalid value encountered in line_locate_point\n",
      "  return lib.line_locate_point(line, other)\n",
      "/home/pierre/anaconda3/conda/envs/pygmt/lib/python3.11/site-packages/shapely/linear.py:90: RuntimeWarning: invalid value encountered in line_locate_point\n",
      "  return lib.line_locate_point(line, other)\n",
      "/home/pierre/anaconda3/conda/envs/pygmt/lib/python3.11/site-packages/shapely/linear.py:90: RuntimeWarning: invalid value encountered in line_locate_point\n",
      "  return lib.line_locate_point(line, other)\n"
     ]
    },
    {
     "name": "stdout",
     "output_type": "stream",
     "text": [
      "setting up df took 0.070780\n",
      "finding affine basis took 0.004576\n",
      "intermediate time 621.865267\n",
      "4 neighbors\n",
      "setting up df took 0.066714\n",
      "finding affine basis took 0.004016\n",
      "intermediate time 621.936021\n",
      "4 neighbors\n",
      "setting up df took 0.008137\n",
      "finding affine basis took 0.004460\n",
      "intermediate time 621.948642\n",
      "260/971\n",
      "4 neighbors\n",
      "setting up df took 0.053469\n",
      "finding affine basis took 0.005170\n",
      "intermediate time 622.007310\n",
      "4 neighbors\n"
     ]
    },
    {
     "name": "stderr",
     "output_type": "stream",
     "text": [
      "/home/pierre/anaconda3/conda/envs/pygmt/lib/python3.11/site-packages/shapely/linear.py:90: RuntimeWarning: invalid value encountered in line_locate_point\n",
      "  return lib.line_locate_point(line, other)\n",
      "/home/pierre/anaconda3/conda/envs/pygmt/lib/python3.11/site-packages/shapely/linear.py:90: RuntimeWarning: invalid value encountered in line_locate_point\n",
      "  return lib.line_locate_point(line, other)\n"
     ]
    },
    {
     "name": "stdout",
     "output_type": "stream",
     "text": [
      "setting up df took 0.088978\n",
      "finding affine basis took 0.007413\n",
      "intermediate time 622.103729\n",
      "4 neighbors\n",
      "setting up df took 0.005094\n",
      "finding affine basis took 0.002723\n",
      "intermediate time 622.111570\n",
      "4 neighbors\n",
      "setting up df took 0.161144\n",
      "finding affine basis took 0.017622\n",
      "intermediate time 622.290363\n",
      "4 neighbors\n"
     ]
    },
    {
     "name": "stderr",
     "output_type": "stream",
     "text": [
      "/home/pierre/anaconda3/conda/envs/pygmt/lib/python3.11/site-packages/shapely/linear.py:90: RuntimeWarning: invalid value encountered in line_locate_point\n",
      "  return lib.line_locate_point(line, other)\n",
      "/home/pierre/anaconda3/conda/envs/pygmt/lib/python3.11/site-packages/shapely/linear.py:90: RuntimeWarning: invalid value encountered in line_locate_point\n",
      "  return lib.line_locate_point(line, other)\n"
     ]
    },
    {
     "name": "stdout",
     "output_type": "stream",
     "text": [
      "setting up df took 0.015649\n",
      "finding affine basis took 0.003370\n",
      "intermediate time 622.309407\n",
      "4 neighbors\n",
      "setting up df took 0.044690\n",
      "finding affine basis took 0.003670\n",
      "intermediate time 622.357798\n",
      "4 neighbors\n",
      "setting up df took 0.017350\n",
      "finding affine basis took 0.002928\n",
      "intermediate time 622.378104\n",
      "4 neighbors\n",
      "setting up df took 0.156389\n",
      "finding affine basis took 0.038868\n",
      "intermediate time 622.573388\n",
      "4 neighbors\n"
     ]
    },
    {
     "name": "stderr",
     "output_type": "stream",
     "text": [
      "/home/pierre/anaconda3/conda/envs/pygmt/lib/python3.11/site-packages/shapely/linear.py:90: RuntimeWarning: invalid value encountered in line_locate_point\n",
      "  return lib.line_locate_point(line, other)\n"
     ]
    },
    {
     "name": "stdout",
     "output_type": "stream",
     "text": [
      "setting up df took 0.197629\n",
      "finding affine basis took 0.035289\n",
      "intermediate time 622.806332\n",
      "4 neighbors\n",
      "setting up df took 0.070275\n",
      "finding affine basis took 0.007756\n",
      "intermediate time 622.884390\n",
      "270/971\n",
      "4 neighbors\n"
     ]
    },
    {
     "name": "stderr",
     "output_type": "stream",
     "text": [
      "/home/pierre/anaconda3/conda/envs/pygmt/lib/python3.11/site-packages/shapely/linear.py:90: RuntimeWarning: invalid value encountered in line_locate_point\n",
      "  return lib.line_locate_point(line, other)\n",
      "/home/pierre/anaconda3/conda/envs/pygmt/lib/python3.11/site-packages/shapely/linear.py:90: RuntimeWarning: invalid value encountered in line_locate_point\n",
      "  return lib.line_locate_point(line, other)\n"
     ]
    },
    {
     "name": "stdout",
     "output_type": "stream",
     "text": [
      "setting up df took 0.162983\n",
      "finding affine basis took 0.045928\n",
      "intermediate time 623.093330\n",
      "4 neighbors\n"
     ]
    },
    {
     "name": "stderr",
     "output_type": "stream",
     "text": [
      "/home/pierre/anaconda3/conda/envs/pygmt/lib/python3.11/site-packages/shapely/linear.py:90: RuntimeWarning: invalid value encountered in line_locate_point\n",
      "  return lib.line_locate_point(line, other)\n"
     ]
    },
    {
     "name": "stdout",
     "output_type": "stream",
     "text": [
      "setting up df took 0.196938\n",
      "finding affine basis took 0.027575\n",
      "intermediate time 623.317869\n",
      "4 neighbors\n"
     ]
    },
    {
     "name": "stderr",
     "output_type": "stream",
     "text": [
      "/home/pierre/anaconda3/conda/envs/pygmt/lib/python3.11/site-packages/shapely/linear.py:90: RuntimeWarning: invalid value encountered in line_locate_point\n",
      "  return lib.line_locate_point(line, other)\n"
     ]
    },
    {
     "name": "stdout",
     "output_type": "stream",
     "text": [
      "setting up df took 0.227530\n",
      "finding affine basis took 0.008512\n",
      "intermediate time 623.553937\n",
      "4 neighbors\n",
      "setting up df took 0.013390\n",
      "finding affine basis took 0.004419\n",
      "intermediate time 623.571769\n",
      "4 neighbors\n",
      "setting up df took 0.163313\n"
     ]
    },
    {
     "name": "stderr",
     "output_type": "stream",
     "text": [
      "/home/pierre/anaconda3/conda/envs/pygmt/lib/python3.11/site-packages/shapely/linear.py:90: RuntimeWarning: invalid value encountered in line_locate_point\n",
      "  return lib.line_locate_point(line, other)\n",
      "/home/pierre/anaconda3/conda/envs/pygmt/lib/python3.11/site-packages/shapely/linear.py:90: RuntimeWarning: invalid value encountered in line_locate_point\n",
      "  return lib.line_locate_point(line, other)\n"
     ]
    },
    {
     "name": "stdout",
     "output_type": "stream",
     "text": [
      "finding affine basis took 0.041441\n",
      "intermediate time 623.776548\n",
      "4 neighbors\n",
      "setting up df took 0.075812\n",
      "finding affine basis took 0.014743\n",
      "intermediate time 623.867174\n",
      "4 neighbors\n",
      "setting up df took 0.096330\n",
      "finding affine basis took 0.007345\n",
      "intermediate time 623.970872\n",
      "4 neighbors\n"
     ]
    },
    {
     "name": "stderr",
     "output_type": "stream",
     "text": [
      "/home/pierre/anaconda3/conda/envs/pygmt/lib/python3.11/site-packages/shapely/linear.py:90: RuntimeWarning: invalid value encountered in line_locate_point\n",
      "  return lib.line_locate_point(line, other)\n",
      "/home/pierre/anaconda3/conda/envs/pygmt/lib/python3.11/site-packages/shapely/linear.py:90: RuntimeWarning: invalid value encountered in line_locate_point\n",
      "  return lib.line_locate_point(line, other)\n"
     ]
    },
    {
     "name": "stdout",
     "output_type": "stream",
     "text": [
      "setting up df took 0.059112\n",
      "finding affine basis took 0.013709\n",
      "intermediate time 624.043718\n",
      "4 neighbors\n",
      "setting up df took 0.054155\n",
      "finding affine basis took 0.004646\n",
      "intermediate time 624.102544\n",
      "4 neighbors\n",
      "setting up df took 0.016260\n",
      "finding affine basis took 0.002984\n",
      "intermediate time 624.121816\n",
      "280/971\n",
      "4 neighbors\n",
      "setting up df took 0.015378\n",
      "finding affine basis took 0.005260\n",
      "intermediate time 624.142484\n",
      "4 neighbors\n",
      "setting up df took 0.023194\n",
      "finding affine basis took 0.003711\n",
      "intermediate time 624.169416\n",
      "4 neighbors\n",
      "setting up df took 0.062328\n"
     ]
    },
    {
     "name": "stderr",
     "output_type": "stream",
     "text": [
      "/home/pierre/anaconda3/conda/envs/pygmt/lib/python3.11/site-packages/shapely/linear.py:90: RuntimeWarning: invalid value encountered in line_locate_point\n",
      "  return lib.line_locate_point(line, other)\n",
      "/home/pierre/anaconda3/conda/envs/pygmt/lib/python3.11/site-packages/shapely/linear.py:90: RuntimeWarning: invalid value encountered in line_locate_point\n",
      "  return lib.line_locate_point(line, other)\n"
     ]
    },
    {
     "name": "stdout",
     "output_type": "stream",
     "text": [
      "finding affine basis took 0.005475\n",
      "intermediate time 624.237246\n",
      "4 neighbors\n",
      "setting up df took 0.010379\n",
      "finding affine basis took 0.002848\n",
      "intermediate time 624.250526\n",
      "4 neighbors\n",
      "setting up df took 0.075570\n",
      "finding affine basis took 0.006871\n",
      "intermediate time 624.333010\n",
      "4 neighbors\n",
      "setting up df took 0.016747\n",
      "finding affine basis took 0.006361\n",
      "intermediate time 624.356143\n",
      "3 neighbors\n",
      "setting up df took 0.007500\n",
      "finding affine basis took 0.002722\n",
      "intermediate time 624.366393\n",
      "3 neighbors\n",
      "setting up df took 0.021319\n",
      "finding affine basis took 0.003719\n",
      "intermediate time 624.391458\n",
      "3 neighbors\n",
      "setting up df took 0.071228\n",
      "finding affine basis took 0.004873\n",
      "intermediate time 624.467585\n",
      "3 neighbors\n",
      "setting up df took 0.068617\n",
      "finding affine basis took 0.006084\n",
      "intermediate time 624.542312\n",
      "290/971\n",
      "3 neighbors\n",
      "setting up df took 0.013419\n",
      "finding affine basis took 0.003148\n",
      "intermediate time 624.558909\n",
      "3 neighbors\n",
      "setting up df took 0.073399\n",
      "finding affine basis took 0.006421\n",
      "intermediate time 624.638755\n",
      "3 neighbors\n",
      "setting up df took 0.006385\n",
      "finding affine basis took 0.002880\n",
      "intermediate time 624.648045\n",
      "3 neighbors\n",
      "setting up df took 0.008442\n",
      "finding affine basis took 0.002702\n",
      "intermediate time 624.659214\n",
      "3 neighbors\n"
     ]
    },
    {
     "name": "stderr",
     "output_type": "stream",
     "text": [
      "/home/pierre/anaconda3/conda/envs/pygmt/lib/python3.11/site-packages/shapely/linear.py:90: RuntimeWarning: invalid value encountered in line_locate_point\n",
      "  return lib.line_locate_point(line, other)\n",
      "/home/pierre/anaconda3/conda/envs/pygmt/lib/python3.11/site-packages/shapely/linear.py:90: RuntimeWarning: invalid value encountered in line_locate_point\n",
      "  return lib.line_locate_point(line, other)\n",
      "/home/pierre/anaconda3/conda/envs/pygmt/lib/python3.11/site-packages/shapely/linear.py:90: RuntimeWarning: invalid value encountered in line_locate_point\n",
      "  return lib.line_locate_point(line, other)\n"
     ]
    },
    {
     "name": "stdout",
     "output_type": "stream",
     "text": [
      "setting up df took 0.008533\n",
      "finding affine basis took 0.003288\n",
      "intermediate time 624.671060\n",
      "3 neighbors\n",
      "setting up df took 0.005727\n",
      "finding affine basis took 0.003130\n",
      "intermediate time 624.679948\n",
      "3 neighbors\n",
      "setting up df took 0.066859\n",
      "finding affine basis took 0.005493\n",
      "intermediate time 624.752328\n",
      "3 neighbors\n",
      "setting up df took 0.005712\n",
      "finding affine basis took 0.002985\n",
      "intermediate time 624.761051\n",
      "3 neighbors\n",
      "setting up df took 0.007637\n",
      "finding affine basis took 0.003011\n",
      "intermediate time 624.771724\n",
      "3 neighbors\n",
      "setting up df took 0.006620\n",
      "finding affine basis took 0.002959\n",
      "intermediate time 624.781326\n",
      "300/971\n",
      "3 neighbors\n",
      "setting up df took 0.007534\n",
      "finding affine basis took 0.003081\n",
      "intermediate time 624.791979\n",
      "3 neighbors\n",
      "setting up df took 0.004971\n",
      "finding affine basis took 0.003631\n",
      "intermediate time 624.800608\n",
      "3 neighbors\n",
      "setting up df took 0.007148\n",
      "finding affine basis took 0.004669\n",
      "intermediate time 624.812451\n",
      "3 neighbors\n",
      "setting up df took 0.015590\n",
      "finding affine basis took 0.003402\n",
      "intermediate time 624.831475\n",
      "3 neighbors\n",
      "setting up df took 0.009966\n",
      "finding affine basis took 0.002816\n",
      "intermediate time 624.844286\n",
      "3 neighbors\n",
      "setting up df took 0.004729\n",
      "finding affine basis took 0.003029\n",
      "intermediate time 624.852071\n",
      "3 neighbors\n",
      "setting up df took 0.006075\n",
      "finding affine basis took 0.002712\n",
      "intermediate time 624.860884\n",
      "3 neighbors\n"
     ]
    },
    {
     "name": "stderr",
     "output_type": "stream",
     "text": [
      "/home/pierre/anaconda3/conda/envs/pygmt/lib/python3.11/site-packages/shapely/linear.py:90: RuntimeWarning: invalid value encountered in line_locate_point\n",
      "  return lib.line_locate_point(line, other)\n",
      "/home/pierre/anaconda3/conda/envs/pygmt/lib/python3.11/site-packages/shapely/linear.py:90: RuntimeWarning: invalid value encountered in line_locate_point\n",
      "  return lib.line_locate_point(line, other)\n"
     ]
    },
    {
     "name": "stdout",
     "output_type": "stream",
     "text": [
      "setting up df took 0.101441\n",
      "finding affine basis took 0.009382\n",
      "intermediate time 624.971733\n",
      "3 neighbors\n",
      "setting up df took 0.025022\n",
      "finding affine basis took 0.004698\n",
      "intermediate time 625.001479\n",
      "3 neighbors\n",
      "setting up df took 0.083480\n",
      "finding affine basis took 0.008627\n",
      "intermediate time 625.093624\n",
      "310/971\n",
      "3 neighbors\n"
     ]
    },
    {
     "name": "stderr",
     "output_type": "stream",
     "text": [
      "/home/pierre/anaconda3/conda/envs/pygmt/lib/python3.11/site-packages/shapely/linear.py:90: RuntimeWarning: invalid value encountered in line_locate_point\n",
      "  return lib.line_locate_point(line, other)\n",
      "/home/pierre/anaconda3/conda/envs/pygmt/lib/python3.11/site-packages/shapely/linear.py:90: RuntimeWarning: invalid value encountered in line_locate_point\n",
      "  return lib.line_locate_point(line, other)\n"
     ]
    },
    {
     "name": "stdout",
     "output_type": "stream",
     "text": [
      "setting up df took 0.109148\n",
      "finding affine basis took 0.014053\n",
      "intermediate time 625.216853\n",
      "3 neighbors\n",
      "setting up df took 0.014585\n",
      "finding affine basis took 0.002873\n",
      "intermediate time 625.234339\n",
      "3 neighbors\n",
      "setting up df took 0.007723\n",
      "finding affine basis took 0.003004\n",
      "intermediate time 625.245091\n",
      "3 neighbors\n",
      "setting up df took 0.011816\n",
      "finding affine basis took 0.002781\n",
      "intermediate time 625.259712\n",
      "3 neighbors\n",
      "setting up df took 0.101784\n",
      "finding affine basis took 0.024059\n",
      "intermediate time 625.385580\n",
      "3 neighbors\n"
     ]
    },
    {
     "name": "stderr",
     "output_type": "stream",
     "text": [
      "/home/pierre/anaconda3/conda/envs/pygmt/lib/python3.11/site-packages/shapely/linear.py:90: RuntimeWarning: invalid value encountered in line_locate_point\n",
      "  return lib.line_locate_point(line, other)\n",
      "/home/pierre/anaconda3/conda/envs/pygmt/lib/python3.11/site-packages/shapely/linear.py:90: RuntimeWarning: invalid value encountered in line_locate_point\n",
      "  return lib.line_locate_point(line, other)\n"
     ]
    },
    {
     "name": "stdout",
     "output_type": "stream",
     "text": [
      "setting up df took 0.045622\n",
      "finding affine basis took 0.003816\n",
      "intermediate time 625.435046\n",
      "3 neighbors\n",
      "setting up df took 0.150402\n",
      "finding affine basis took 0.035656\n",
      "intermediate time 625.621129\n",
      "3 neighbors\n"
     ]
    },
    {
     "name": "stderr",
     "output_type": "stream",
     "text": [
      "/home/pierre/anaconda3/conda/envs/pygmt/lib/python3.11/site-packages/shapely/linear.py:90: RuntimeWarning: invalid value encountered in line_locate_point\n",
      "  return lib.line_locate_point(line, other)\n",
      "/home/pierre/anaconda3/conda/envs/pygmt/lib/python3.11/site-packages/shapely/linear.py:90: RuntimeWarning: invalid value encountered in line_locate_point\n",
      "  return lib.line_locate_point(line, other)\n"
     ]
    },
    {
     "name": "stdout",
     "output_type": "stream",
     "text": [
      "setting up df took 0.143921\n",
      "finding affine basis took 0.023930\n",
      "intermediate time 625.789004\n",
      "3 neighbors\n",
      "setting up df took 0.005504\n",
      "finding affine basis took 0.002684\n",
      "intermediate time 625.797216\n",
      "3 neighbors\n",
      "setting up df took 0.017860\n",
      "finding affine basis took 0.005879\n",
      "intermediate time 625.820979\n",
      "320/971\n",
      "3 neighbors\n",
      "setting up df took 0.033614\n",
      "finding affine basis took 0.005433\n",
      "intermediate time 625.860056\n",
      "3 neighbors\n",
      "setting up df took 0.005579\n",
      "finding affine basis took 0.002591\n",
      "intermediate time 625.868253\n",
      "3 neighbors\n",
      "setting up df took 0.005403\n",
      "finding affine basis took 0.003785\n",
      "intermediate time 625.877465\n",
      "3 neighbors\n"
     ]
    },
    {
     "name": "stderr",
     "output_type": "stream",
     "text": [
      "/home/pierre/anaconda3/conda/envs/pygmt/lib/python3.11/site-packages/shapely/linear.py:90: RuntimeWarning: invalid value encountered in line_locate_point\n",
      "  return lib.line_locate_point(line, other)\n"
     ]
    },
    {
     "name": "stdout",
     "output_type": "stream",
     "text": [
      "setting up df took 0.112032\n",
      "finding affine basis took 0.015666\n",
      "intermediate time 626.005187\n",
      "3 neighbors\n",
      "setting up df took 0.020760\n",
      "finding affine basis took 0.003280\n",
      "intermediate time 626.029253\n",
      "3 neighbors\n",
      "setting up df took 0.023102\n",
      "finding affine basis took 0.004946\n",
      "intermediate time 626.057327\n",
      "3 neighbors\n",
      "setting up df took 0.017800\n",
      "finding affine basis took 0.005340\n",
      "intermediate time 626.080492\n",
      "3 neighbors\n",
      "setting up df took 0.012861\n",
      "finding affine basis took 0.002792\n",
      "intermediate time 626.096172\n",
      "3 neighbors\n",
      "setting up df took 0.007726\n",
      "finding affine basis took 0.002937\n",
      "intermediate time 626.106861\n",
      "3 neighbors\n",
      "setting up df took 0.007886\n",
      "finding affine basis took 0.002967\n",
      "intermediate time 626.117738\n",
      "330/971\n",
      "3 neighbors\n",
      "setting up df took 0.059183\n",
      "finding affine basis took 0.005594\n",
      "intermediate time 626.182543\n",
      "3 neighbors\n"
     ]
    },
    {
     "name": "stderr",
     "output_type": "stream",
     "text": [
      "/home/pierre/anaconda3/conda/envs/pygmt/lib/python3.11/site-packages/shapely/linear.py:90: RuntimeWarning: invalid value encountered in line_locate_point\n",
      "  return lib.line_locate_point(line, other)\n",
      "/home/pierre/anaconda3/conda/envs/pygmt/lib/python3.11/site-packages/shapely/linear.py:90: RuntimeWarning: invalid value encountered in line_locate_point\n",
      "  return lib.line_locate_point(line, other)\n"
     ]
    },
    {
     "name": "stdout",
     "output_type": "stream",
     "text": [
      "setting up df took 0.107402\n",
      "finding affine basis took 0.018703\n",
      "intermediate time 626.308672\n",
      "3 neighbors\n",
      "setting up df took 0.071190\n",
      "finding affine basis took 0.010460\n",
      "intermediate time 626.390347\n",
      "3 neighbors\n"
     ]
    },
    {
     "name": "stderr",
     "output_type": "stream",
     "text": [
      "/home/pierre/anaconda3/conda/envs/pygmt/lib/python3.11/site-packages/shapely/linear.py:90: RuntimeWarning: invalid value encountered in line_locate_point\n",
      "  return lib.line_locate_point(line, other)\n",
      "/home/pierre/anaconda3/conda/envs/pygmt/lib/python3.11/site-packages/shapely/linear.py:90: RuntimeWarning: invalid value encountered in line_locate_point\n",
      "  return lib.line_locate_point(line, other)\n"
     ]
    },
    {
     "name": "stdout",
     "output_type": "stream",
     "text": [
      "setting up df took 0.112983\n",
      "finding affine basis took 0.027128\n",
      "intermediate time 626.530482\n",
      "3 neighbors\n",
      "setting up df took 0.060916\n",
      "finding affine basis took 0.008179\n",
      "intermediate time 626.599604\n",
      "3 neighbors\n",
      "setting up df took 0.006926\n",
      "finding affine basis took 0.002628\n",
      "intermediate time 626.609183\n",
      "3 neighbors\n",
      "setting up df took 0.004818\n",
      "finding affine basis took 0.002783\n",
      "intermediate time 626.616809\n",
      "3 neighbors\n"
     ]
    },
    {
     "name": "stderr",
     "output_type": "stream",
     "text": [
      "/home/pierre/anaconda3/conda/envs/pygmt/lib/python3.11/site-packages/shapely/linear.py:90: RuntimeWarning: invalid value encountered in line_locate_point\n",
      "  return lib.line_locate_point(line, other)\n"
     ]
    },
    {
     "name": "stdout",
     "output_type": "stream",
     "text": [
      "setting up df took 0.161572\n",
      "finding affine basis took 0.030376\n",
      "intermediate time 626.808781\n",
      "3 neighbors\n",
      "setting up df took 0.029215\n",
      "finding affine basis took 0.005019\n",
      "intermediate time 626.843040\n",
      "3 neighbors\n",
      "setting up df took 0.006684\n",
      "finding affine basis took 0.003305\n",
      "intermediate time 626.853063\n",
      "340/971\n",
      "3 neighbors\n",
      "setting up df took 0.010913\n",
      "finding affine basis took 0.002819\n",
      "intermediate time 626.866825\n",
      "3 neighbors\n",
      "setting up df took 0.060869\n",
      "finding affine basis took 0.008325\n",
      "intermediate time 626.936045\n",
      "3 neighbors\n",
      "setting up df took 0.008471\n",
      "finding affine basis took 0.002927\n",
      "intermediate time 626.947471\n",
      "3 neighbors\n",
      "setting up df took 0.006571\n",
      "finding affine basis took 0.002784\n",
      "intermediate time 626.956851\n",
      "3 neighbors\n",
      "setting up df took 0.011250\n",
      "finding affine basis took 0.004026\n",
      "intermediate time 626.972151\n",
      "3 neighbors\n"
     ]
    },
    {
     "name": "stderr",
     "output_type": "stream",
     "text": [
      "/home/pierre/anaconda3/conda/envs/pygmt/lib/python3.11/site-packages/shapely/linear.py:90: RuntimeWarning: invalid value encountered in line_locate_point\n",
      "  return lib.line_locate_point(line, other)\n"
     ]
    },
    {
     "name": "stdout",
     "output_type": "stream",
     "text": [
      "setting up df took 0.054903\n",
      "finding affine basis took 0.003675\n",
      "intermediate time 627.030753\n",
      "3 neighbors\n",
      "setting up df took 0.053072\n",
      "finding affine basis took 0.003646\n",
      "intermediate time 627.087497\n",
      "3 neighbors\n",
      "setting up df took 0.054174\n",
      "finding affine basis took 0.007305\n",
      "intermediate time 627.149004\n",
      "3 neighbors\n",
      "setting up df took 0.008737\n",
      "finding affine basis took 0.007340\n",
      "intermediate time 627.165106\n",
      "3 neighbors\n",
      "setting up df took 0.022148\n",
      "finding affine basis took 0.008524\n",
      "intermediate time 627.195803\n",
      "350/971\n",
      "3 neighbors\n",
      "setting up df took 0.005841\n",
      "finding affine basis took 0.002604\n",
      "intermediate time 627.204278\n",
      "3 neighbors\n",
      "setting up df took 0.151877\n",
      "finding affine basis took 0.047263\n",
      "intermediate time 627.403442\n",
      "3 neighbors\n",
      "setting up df took 0.050757\n",
      "finding affine basis took 0.013995\n",
      "intermediate time 627.468218\n",
      "3 neighbors\n",
      "setting up df took 0.023544\n",
      "finding affine basis took 0.006231\n",
      "intermediate time 627.498020\n",
      "3 neighbors\n",
      "setting up df took 0.006296\n",
      "finding affine basis took 0.008037\n",
      "intermediate time 627.512379\n",
      "2 neighbors\n",
      "setting up df took 0.004412\n",
      "finding affine basis took 0.002580\n",
      "intermediate time 627.519395\n",
      "2 neighbors\n",
      "setting up df took 0.008125\n",
      "finding affine basis took 0.002602\n",
      "intermediate time 627.530147\n",
      "2 neighbors\n",
      "setting up df took 0.015970\n",
      "finding affine basis took 0.002831\n",
      "intermediate time 627.548972\n",
      "2 neighbors\n",
      "setting up df took 0.007224\n",
      "finding affine basis took 0.002615\n",
      "intermediate time 627.558836\n",
      "2 neighbors\n"
     ]
    },
    {
     "name": "stderr",
     "output_type": "stream",
     "text": [
      "/home/pierre/anaconda3/conda/envs/pygmt/lib/python3.11/site-packages/shapely/linear.py:90: RuntimeWarning: invalid value encountered in line_locate_point\n",
      "  return lib.line_locate_point(line, other)\n"
     ]
    },
    {
     "name": "stdout",
     "output_type": "stream",
     "text": [
      "setting up df took 0.005032\n",
      "finding affine basis took 0.003212\n",
      "intermediate time 627.567105\n",
      "360/971\n",
      "2 neighbors\n",
      "setting up df took 0.005247\n",
      "finding affine basis took 0.002787\n",
      "intermediate time 627.575172\n",
      "2 neighbors\n",
      "setting up df took 0.007984\n",
      "finding affine basis took 0.002776\n",
      "intermediate time 627.585963\n",
      "2 neighbors\n",
      "setting up df took 0.009102\n",
      "finding affine basis took 0.002754\n",
      "intermediate time 627.597846\n",
      "2 neighbors\n",
      "setting up df took 0.070902\n",
      "finding affine basis took 0.004478\n",
      "intermediate time 627.673250\n",
      "2 neighbors\n",
      "setting up df took 0.054976\n",
      "finding affine basis took 0.003629\n",
      "intermediate time 627.731880\n",
      "2 neighbors\n",
      "setting up df took 0.006676\n",
      "finding affine basis took 0.002662\n",
      "intermediate time 627.741246\n",
      "2 neighbors\n"
     ]
    },
    {
     "name": "stderr",
     "output_type": "stream",
     "text": [
      "/home/pierre/anaconda3/conda/envs/pygmt/lib/python3.11/site-packages/shapely/linear.py:90: RuntimeWarning: invalid value encountered in line_locate_point\n",
      "  return lib.line_locate_point(line, other)\n"
     ]
    },
    {
     "name": "stdout",
     "output_type": "stream",
     "text": [
      "setting up df took 0.054690\n",
      "finding affine basis took 0.004129\n",
      "intermediate time 627.800092\n",
      "2 neighbors\n",
      "setting up df took 0.005042\n",
      "finding affine basis took 0.002617\n",
      "intermediate time 627.807777\n",
      "2 neighbors\n",
      "setting up df took 0.020213\n",
      "finding affine basis took 0.003108\n",
      "intermediate time 627.831122\n",
      "2 neighbors\n",
      "setting up df took 0.005018\n",
      "finding affine basis took 0.002566\n",
      "intermediate time 627.838731\n",
      "370/971\n",
      "2 neighbors\n",
      "setting up df took 0.008193\n",
      "finding affine basis took 0.002659\n",
      "intermediate time 627.849610\n",
      "2 neighbors\n",
      "setting up df took 0.004907\n",
      "finding affine basis took 0.002842\n",
      "intermediate time 627.857383\n",
      "2 neighbors\n",
      "setting up df took 0.006300\n",
      "finding affine basis took 0.002588\n",
      "intermediate time 627.866294\n",
      "2 neighbors\n",
      "setting up df took 0.007734\n",
      "finding affine basis took 0.003042\n",
      "intermediate time 627.877094\n",
      "2 neighbors\n",
      "setting up df took 0.005111\n",
      "finding affine basis took 0.002660\n",
      "intermediate time 627.884896\n",
      "2 neighbors\n",
      "setting up df took 0.015375\n",
      "finding affine basis took 0.002920\n",
      "intermediate time 627.903218\n",
      "2 neighbors\n",
      "setting up df took 0.004678\n",
      "finding affine basis took 0.002612\n",
      "intermediate time 627.910533\n",
      "2 neighbors\n",
      "setting up df took 0.004850\n",
      "finding affine basis took 0.002531\n",
      "intermediate time 627.917938\n",
      "2 neighbors\n",
      "setting up df took 0.004256\n",
      "finding affine basis took 0.002590\n",
      "intermediate time 627.924809\n",
      "2 neighbors\n",
      "setting up df took 0.005463\n",
      "finding affine basis took 0.002762\n",
      "intermediate time 627.933058\n",
      "380/971\n",
      "2 neighbors\n",
      "setting up df took 0.005348\n",
      "finding affine basis took 0.002555\n",
      "intermediate time 627.940989\n",
      "2 neighbors\n",
      "setting up df took 0.007090\n",
      "finding affine basis took 0.002844\n",
      "intermediate time 627.950946\n",
      "2 neighbors\n",
      "setting up df took 0.005405\n",
      "finding affine basis took 0.002567\n",
      "intermediate time 627.958942\n",
      "2 neighbors\n",
      "setting up df took 0.004258\n",
      "finding affine basis took 0.002526\n",
      "intermediate time 627.965750\n",
      "2 neighbors\n",
      "setting up df took 0.004465\n",
      "finding affine basis took 0.002706\n",
      "intermediate time 627.972944\n",
      "2 neighbors\n"
     ]
    },
    {
     "name": "stderr",
     "output_type": "stream",
     "text": [
      "/home/pierre/anaconda3/conda/envs/pygmt/lib/python3.11/site-packages/shapely/linear.py:90: RuntimeWarning: invalid value encountered in line_locate_point\n",
      "  return lib.line_locate_point(line, other)\n"
     ]
    },
    {
     "name": "stdout",
     "output_type": "stream",
     "text": [
      "setting up df took 0.056320\n",
      "finding affine basis took 0.003654\n",
      "intermediate time 628.032941\n",
      "2 neighbors\n",
      "setting up df took 0.052689\n",
      "finding affine basis took 0.005657\n",
      "intermediate time 628.091313\n",
      "2 neighbors\n",
      "setting up df took 0.059360\n",
      "finding affine basis took 0.014198\n",
      "intermediate time 628.164898\n",
      "2 neighbors\n",
      "setting up df took 0.051476\n",
      "finding affine basis took 0.007324\n",
      "intermediate time 628.223728\n",
      "2 neighbors\n",
      "setting up df took 0.090701\n",
      "finding affine basis took 0.005837\n",
      "intermediate time 628.320293\n",
      "390/971\n",
      "2 neighbors\n",
      "setting up df took 0.053088\n",
      "finding affine basis took 0.006769\n",
      "intermediate time 628.380181\n",
      "2 neighbors\n",
      "setting up df took 0.023152\n",
      "finding affine basis took 0.002902\n",
      "intermediate time 628.406260\n",
      "2 neighbors\n",
      "setting up df took 0.016943\n",
      "finding affine basis took 0.003451\n",
      "intermediate time 628.426682\n",
      "2 neighbors\n",
      "setting up df took 0.005480\n",
      "finding affine basis took 0.002577\n",
      "intermediate time 628.434765\n",
      "2 neighbors\n",
      "setting up df took 0.005260\n",
      "finding affine basis took 0.002548\n",
      "intermediate time 628.442596\n",
      "2 neighbors\n",
      "setting up df took 0.005617\n",
      "finding affine basis took 0.002573\n",
      "intermediate time 628.450808\n",
      "2 neighbors\n",
      "setting up df took 0.013067\n",
      "finding affine basis took 0.003233\n",
      "intermediate time 628.467132\n",
      "2 neighbors\n",
      "setting up df took 0.007120\n",
      "finding affine basis took 0.002854\n",
      "intermediate time 628.477129\n",
      "2 neighbors\n",
      "setting up df took 0.006047\n",
      "finding affine basis took 0.003523\n",
      "intermediate time 628.486724\n",
      "2 neighbors\n",
      "setting up df took 0.056704\n",
      "finding affine basis took 0.004875\n",
      "intermediate time 628.548329\n",
      "400/971\n",
      "2 neighbors\n",
      "setting up df took 0.009930\n",
      "finding affine basis took 0.003079\n",
      "intermediate time 628.561368\n",
      "2 neighbors\n",
      "setting up df took 0.004938\n",
      "finding affine basis took 0.002993\n",
      "intermediate time 628.569331\n",
      "2 neighbors\n",
      "setting up df took 0.007115\n",
      "finding affine basis took 0.002974\n",
      "intermediate time 628.579444\n",
      "2 neighbors\n",
      "setting up df took 0.007578\n",
      "finding affine basis took 0.002714\n",
      "intermediate time 628.589764\n",
      "2 neighbors\n",
      "setting up df took 0.010683\n",
      "finding affine basis took 0.003415\n",
      "intermediate time 628.603886\n",
      "2 neighbors\n",
      "setting up df took 0.009993\n",
      "finding affine basis took 0.003042\n",
      "intermediate time 628.616945\n",
      "2 neighbors\n",
      "setting up df took 0.004354\n",
      "finding affine basis took 0.002888\n",
      "intermediate time 628.624212\n",
      "2 neighbors\n",
      "setting up df took 0.004856\n",
      "finding affine basis took 0.002951\n",
      "intermediate time 628.632043\n",
      "2 neighbors\n",
      "setting up df took 0.024653\n",
      "finding affine basis took 0.003894\n",
      "intermediate time 628.660620\n",
      "2 neighbors\n",
      "setting up df took 0.007396\n",
      "finding affine basis took 0.002868\n",
      "intermediate time 628.670909\n",
      "410/971\n",
      "2 neighbors\n",
      "setting up df took 0.004530\n",
      "finding affine basis took 0.002690\n",
      "intermediate time 628.678156\n",
      "2 neighbors\n",
      "setting up df took 0.004445\n",
      "finding affine basis took 0.003229\n",
      "intermediate time 628.685854\n",
      "2 neighbors\n",
      "setting up df took 0.006262\n",
      "finding affine basis took 0.004956\n",
      "intermediate time 628.697096\n",
      "2 neighbors\n",
      "setting up df took 0.009764\n",
      "finding affine basis took 0.002916\n",
      "intermediate time 628.709800\n",
      "2 neighbors\n",
      "setting up df took 0.005123\n",
      "finding affine basis took 0.002905\n",
      "intermediate time 628.717851\n",
      "2 neighbors\n",
      "setting up df took 0.009401\n",
      "finding affine basis took 0.002650\n",
      "intermediate time 628.729928\n",
      "2 neighbors\n"
     ]
    },
    {
     "name": "stderr",
     "output_type": "stream",
     "text": [
      "/home/pierre/anaconda3/conda/envs/pygmt/lib/python3.11/site-packages/shapely/linear.py:90: RuntimeWarning: invalid value encountered in line_locate_point\n",
      "  return lib.line_locate_point(line, other)\n"
     ]
    },
    {
     "name": "stdout",
     "output_type": "stream",
     "text": [
      "setting up df took 0.054480\n",
      "finding affine basis took 0.005000\n",
      "intermediate time 628.789434\n",
      "2 neighbors\n",
      "setting up df took 0.013484\n",
      "finding affine basis took 0.003720\n",
      "intermediate time 628.806663\n",
      "2 neighbors\n",
      "setting up df took 0.011878\n",
      "finding affine basis took 0.002826\n",
      "intermediate time 628.821393\n",
      "2 neighbors\n",
      "setting up df took 0.109831\n",
      "finding affine basis took 0.012746\n",
      "intermediate time 628.943994\n",
      "420/971\n",
      "2 neighbors\n"
     ]
    },
    {
     "name": "stderr",
     "output_type": "stream",
     "text": [
      "/home/pierre/anaconda3/conda/envs/pygmt/lib/python3.11/site-packages/shapely/linear.py:90: RuntimeWarning: invalid value encountered in line_locate_point\n",
      "  return lib.line_locate_point(line, other)\n",
      "/home/pierre/anaconda3/conda/envs/pygmt/lib/python3.11/site-packages/shapely/linear.py:90: RuntimeWarning: invalid value encountered in line_locate_point\n",
      "  return lib.line_locate_point(line, other)\n",
      "/home/pierre/anaconda3/conda/envs/pygmt/lib/python3.11/site-packages/shapely/linear.py:90: RuntimeWarning: invalid value encountered in line_locate_point\n",
      "  return lib.line_locate_point(line, other)\n"
     ]
    },
    {
     "name": "stdout",
     "output_type": "stream",
     "text": [
      "setting up df took 0.090556\n",
      "finding affine basis took 0.003941\n",
      "intermediate time 629.038520\n",
      "2 neighbors\n",
      "setting up df took 0.005035\n",
      "finding affine basis took 0.002713\n",
      "intermediate time 629.046291\n",
      "2 neighbors\n",
      "setting up df took 0.070363\n",
      "finding affine basis took 0.005878\n",
      "intermediate time 629.122555\n",
      "2 neighbors\n",
      "setting up df took 0.071879\n",
      "finding affine basis took 0.007363\n",
      "intermediate time 629.201822\n",
      "2 neighbors\n"
     ]
    },
    {
     "name": "stderr",
     "output_type": "stream",
     "text": [
      "/home/pierre/anaconda3/conda/envs/pygmt/lib/python3.11/site-packages/shapely/linear.py:90: RuntimeWarning: invalid value encountered in line_locate_point\n",
      "  return lib.line_locate_point(line, other)\n",
      "/home/pierre/anaconda3/conda/envs/pygmt/lib/python3.11/site-packages/shapely/linear.py:90: RuntimeWarning: invalid value encountered in line_locate_point\n",
      "  return lib.line_locate_point(line, other)\n"
     ]
    },
    {
     "name": "stdout",
     "output_type": "stream",
     "text": [
      "setting up df took 0.160676\n",
      "finding affine basis took 0.027482\n",
      "intermediate time 629.390003\n",
      "2 neighbors\n",
      "setting up df took 0.158998\n",
      "finding affine basis took 0.016409\n",
      "intermediate time 629.565436\n",
      "2 neighbors\n"
     ]
    },
    {
     "name": "stderr",
     "output_type": "stream",
     "text": [
      "/home/pierre/anaconda3/conda/envs/pygmt/lib/python3.11/site-packages/shapely/linear.py:90: RuntimeWarning: invalid value encountered in line_locate_point\n",
      "  return lib.line_locate_point(line, other)\n"
     ]
    },
    {
     "name": "stdout",
     "output_type": "stream",
     "text": [
      "setting up df took 0.023438\n",
      "finding affine basis took 0.004353\n",
      "intermediate time 629.593252\n",
      "2 neighbors\n",
      "setting up df took 0.004735\n",
      "finding affine basis took 0.002625\n",
      "intermediate time 629.600637\n",
      "2 neighbors\n",
      "setting up df took 0.021257\n",
      "finding affine basis took 0.005462\n",
      "intermediate time 629.627379\n",
      "2 neighbors\n",
      "setting up df took 0.005739\n",
      "finding affine basis took 0.002959\n",
      "intermediate time 629.636102\n",
      "430/971\n",
      "2 neighbors\n",
      "setting up df took 0.015778\n",
      "finding affine basis took 0.003725\n",
      "intermediate time 629.655634\n",
      "2 neighbors\n",
      "setting up df took 0.005174\n",
      "finding affine basis took 0.002616\n",
      "intermediate time 629.663451\n",
      "2 neighbors\n",
      "setting up df took 0.010909\n",
      "finding affine basis took 0.002696\n",
      "intermediate time 629.677078\n",
      "2 neighbors\n",
      "setting up df took 0.013270\n",
      "finding affine basis took 0.003512\n",
      "intermediate time 629.693884\n",
      "2 neighbors\n",
      "setting up df took 0.007485\n",
      "finding affine basis took 0.002937\n",
      "intermediate time 629.704331\n",
      "2 neighbors\n",
      "setting up df took 0.005877\n",
      "finding affine basis took 0.002777\n",
      "intermediate time 629.713011\n",
      "2 neighbors\n",
      "setting up df took 0.013630\n",
      "finding affine basis took 0.003952\n",
      "intermediate time 629.730618\n",
      "2 neighbors\n",
      "setting up df took 0.009226\n",
      "finding affine basis took 0.003252\n",
      "intermediate time 629.743123\n",
      "2 neighbors\n",
      "setting up df took 0.017503\n",
      "finding affine basis took 0.004367\n",
      "intermediate time 629.765020\n",
      "2 neighbors\n",
      "setting up df took 0.014825\n",
      "finding affine basis took 0.003714\n",
      "intermediate time 629.783591\n",
      "440/971\n",
      "2 neighbors\n",
      "setting up df took 0.014125\n",
      "finding affine basis took 0.003362\n",
      "intermediate time 629.801108\n",
      "2 neighbors\n",
      "setting up df took 0.005000\n",
      "finding affine basis took 0.002833\n",
      "intermediate time 629.808970\n",
      "2 neighbors\n",
      "setting up df took 0.014751\n",
      "finding affine basis took 0.002903\n",
      "intermediate time 629.826648\n",
      "2 neighbors\n",
      "setting up df took 0.009637\n",
      "finding affine basis took 0.002759\n",
      "intermediate time 629.839070\n",
      "2 neighbors\n",
      "setting up df took 0.006524\n",
      "finding affine basis took 0.003091\n",
      "intermediate time 629.848713\n",
      "2 neighbors\n",
      "setting up df took 0.013143\n",
      "finding affine basis took 0.003430\n",
      "intermediate time 629.865310\n",
      "2 neighbors\n",
      "setting up df took 0.006304\n",
      "finding affine basis took 0.002799\n",
      "intermediate time 629.874436\n",
      "2 neighbors\n",
      "setting up df took 0.005020\n",
      "finding affine basis took 0.002722\n",
      "intermediate time 629.882203\n",
      "2 neighbors\n",
      "setting up df took 0.006190\n",
      "finding affine basis took 0.003795\n",
      "intermediate time 629.892211\n",
      "2 neighbors\n",
      "setting up df took 0.012284\n",
      "finding affine basis took 0.003526\n",
      "intermediate time 629.908045\n",
      "450/971\n",
      "2 neighbors\n",
      "setting up df took 0.006560\n",
      "finding affine basis took 0.003696\n",
      "intermediate time 629.918331\n",
      "2 neighbors\n",
      "setting up df took 0.005225\n",
      "finding affine basis took 0.002844\n",
      "intermediate time 629.926423\n",
      "2 neighbors\n",
      "setting up df took 0.005865\n",
      "finding affine basis took 0.002807\n",
      "intermediate time 629.935119\n",
      "2 neighbors\n",
      "setting up df took 0.055663\n",
      "finding affine basis took 0.008299\n",
      "intermediate time 629.999106\n",
      "2 neighbors\n"
     ]
    },
    {
     "name": "stderr",
     "output_type": "stream",
     "text": [
      "/home/pierre/anaconda3/conda/envs/pygmt/lib/python3.11/site-packages/shapely/linear.py:90: RuntimeWarning: invalid value encountered in line_locate_point\n",
      "  return lib.line_locate_point(line, other)\n"
     ]
    },
    {
     "name": "stdout",
     "output_type": "stream",
     "text": [
      "setting up df took 0.052876\n",
      "finding affine basis took 0.010396\n",
      "intermediate time 630.062405\n",
      "2 neighbors\n",
      "setting up df took 0.054574\n",
      "finding affine basis took 0.010878\n",
      "intermediate time 630.127883\n",
      "2 neighbors\n",
      "setting up df took 0.025046\n",
      "finding affine basis took 0.005952\n",
      "intermediate time 630.158906\n",
      "2 neighbors\n",
      "setting up df took 0.079278\n",
      "finding affine basis took 0.008441\n",
      "intermediate time 630.246663\n",
      "2 neighbors\n",
      "setting up df took 0.005162\n",
      "finding affine basis took 0.002608\n",
      "intermediate time 630.254458\n",
      "2 neighbors\n"
     ]
    },
    {
     "name": "stderr",
     "output_type": "stream",
     "text": [
      "/home/pierre/anaconda3/conda/envs/pygmt/lib/python3.11/site-packages/shapely/linear.py:90: RuntimeWarning: invalid value encountered in line_locate_point\n",
      "  return lib.line_locate_point(line, other)\n",
      "/home/pierre/anaconda3/conda/envs/pygmt/lib/python3.11/site-packages/shapely/linear.py:90: RuntimeWarning: invalid value encountered in line_locate_point\n",
      "  return lib.line_locate_point(line, other)\n"
     ]
    },
    {
     "name": "stdout",
     "output_type": "stream",
     "text": [
      "setting up df took 0.007735\n",
      "finding affine basis took 0.003020\n",
      "intermediate time 630.265237\n",
      "460/971\n",
      "2 neighbors\n",
      "setting up df took 0.006188\n",
      "finding affine basis took 0.002898\n",
      "intermediate time 630.274354\n",
      "2 neighbors\n",
      "setting up df took 0.006496\n",
      "finding affine basis took 0.002880\n",
      "intermediate time 630.283756\n",
      "2 neighbors\n",
      "setting up df took 0.006714\n",
      "finding affine basis took 0.002606\n",
      "intermediate time 630.293102\n",
      "2 neighbors\n",
      "setting up df took 0.007635\n",
      "finding affine basis took 0.002711\n",
      "intermediate time 630.303473\n",
      "2 neighbors\n",
      "setting up df took 0.005608\n",
      "finding affine basis took 0.002672\n",
      "intermediate time 630.311778\n",
      "2 neighbors\n",
      "setting up df took 0.012141\n",
      "finding affine basis took 0.004276\n",
      "intermediate time 630.328221\n",
      "2 neighbors\n",
      "setting up df took 0.016340\n",
      "finding affine basis took 0.003347\n",
      "intermediate time 630.347934\n",
      "2 neighbors\n",
      "setting up df took 0.014779\n",
      "finding affine basis took 0.002906\n",
      "intermediate time 630.365645\n",
      "2 neighbors\n",
      "setting up df took 0.016053\n",
      "finding affine basis took 0.002914\n",
      "intermediate time 630.384640\n",
      "2 neighbors\n",
      "setting up df took 0.135609\n",
      "finding affine basis took 0.011661\n",
      "intermediate time 630.531934\n",
      "470/971\n",
      "2 neighbors\n",
      "setting up df took 0.014151\n",
      "finding affine basis took 0.002681\n",
      "intermediate time 630.548794\n",
      "2 neighbors\n",
      "setting up df took 0.006211\n",
      "finding affine basis took 0.003440\n",
      "intermediate time 630.558469\n",
      "2 neighbors\n",
      "setting up df took 0.004619\n",
      "finding affine basis took 0.002602\n",
      "intermediate time 630.565714\n",
      "2 neighbors\n",
      "setting up df took 0.005106\n",
      "finding affine basis took 0.003811\n",
      "intermediate time 630.574656\n",
      "2 neighbors\n",
      "setting up df took 0.005237\n",
      "finding affine basis took 0.002973\n",
      "intermediate time 630.582890\n",
      "2 neighbors\n",
      "setting up df took 0.005151\n",
      "finding affine basis took 0.002811\n",
      "intermediate time 630.590875\n",
      "2 neighbors\n",
      "setting up df took 0.005105\n",
      "finding affine basis took 0.003723\n",
      "intermediate time 630.599728\n",
      "2 neighbors\n",
      "setting up df took 0.008128\n",
      "finding affine basis took 0.003467\n",
      "intermediate time 630.611346\n",
      "2 neighbors\n",
      "setting up df took 0.004269\n",
      "finding affine basis took 0.002605\n",
      "intermediate time 630.618244\n",
      "2 neighbors\n",
      "setting up df took 0.005408\n",
      "finding affine basis took 0.004332\n",
      "intermediate time 630.628009\n",
      "480/971\n",
      "2 neighbors\n",
      "setting up df took 0.005917\n",
      "finding affine basis took 0.002670\n",
      "intermediate time 630.636624\n",
      "2 neighbors\n",
      "setting up df took 0.005187\n",
      "finding affine basis took 0.003433\n",
      "intermediate time 630.645271\n",
      "2 neighbors\n",
      "setting up df took 0.053965\n",
      "finding affine basis took 0.003618\n",
      "intermediate time 630.702879\n",
      "2 neighbors\n"
     ]
    },
    {
     "name": "stderr",
     "output_type": "stream",
     "text": [
      "/home/pierre/anaconda3/conda/envs/pygmt/lib/python3.11/site-packages/shapely/linear.py:90: RuntimeWarning: invalid value encountered in line_locate_point\n",
      "  return lib.line_locate_point(line, other)\n"
     ]
    },
    {
     "name": "stdout",
     "output_type": "stream",
     "text": [
      "setting up df took 0.057824\n",
      "finding affine basis took 0.003839\n",
      "intermediate time 630.764568\n",
      "2 neighbors\n",
      "setting up df took 0.054536\n",
      "finding affine basis took 0.004704\n",
      "intermediate time 630.823851\n",
      "2 neighbors\n",
      "setting up df took 0.004822\n",
      "finding affine basis took 0.002599\n",
      "intermediate time 630.831299\n",
      "2 neighbors\n",
      "setting up df took 0.008391\n",
      "finding affine basis took 0.004021\n",
      "intermediate time 630.843733\n",
      "2 neighbors\n",
      "setting up df took 0.007033\n",
      "finding affine basis took 0.006978\n",
      "intermediate time 630.857769\n",
      "2 neighbors\n",
      "setting up df took 0.096615\n",
      "finding affine basis took 0.007370\n",
      "intermediate time 630.961777\n",
      "2 neighbors\n"
     ]
    },
    {
     "name": "stderr",
     "output_type": "stream",
     "text": [
      "/home/pierre/anaconda3/conda/envs/pygmt/lib/python3.11/site-packages/shapely/linear.py:90: RuntimeWarning: invalid value encountered in line_locate_point\n",
      "  return lib.line_locate_point(line, other)\n"
     ]
    },
    {
     "name": "stdout",
     "output_type": "stream",
     "text": [
      "setting up df took 0.005705\n",
      "finding affine basis took 0.003437\n",
      "intermediate time 630.970944\n",
      "490/971\n",
      "1 neighbors\n",
      "setting up df took 0.005434\n",
      "finding affine basis took 0.002636\n",
      "intermediate time 630.979065\n",
      "1 neighbors\n",
      "setting up df took 0.004580\n",
      "finding affine basis took 0.002591\n",
      "intermediate time 630.986261\n",
      "1 neighbors\n",
      "setting up df took 0.006054\n",
      "finding affine basis took 0.002667\n",
      "intermediate time 630.995008\n",
      "1 neighbors\n",
      "setting up df took 0.023665\n",
      "finding affine basis took 0.002877\n",
      "intermediate time 631.021576\n",
      "1 neighbors\n",
      "setting up df took 0.010406\n",
      "finding affine basis took 0.002720\n",
      "intermediate time 631.034727\n",
      "1 neighbors\n",
      "setting up df took 0.006812\n",
      "finding affine basis took 0.002575\n",
      "intermediate time 631.044139\n",
      "1 neighbors\n",
      "setting up df took 0.004629\n",
      "finding affine basis took 0.002516\n",
      "intermediate time 631.051306\n",
      "1 neighbors\n",
      "setting up df took 0.004562\n",
      "finding affine basis took 0.002507\n",
      "intermediate time 631.058398\n",
      "1 neighbors\n",
      "setting up df took 0.010391\n",
      "finding affine basis took 0.002681\n",
      "intermediate time 631.071493\n",
      "1 neighbors\n",
      "setting up df took 0.010503\n",
      "finding affine basis took 0.002712\n",
      "intermediate time 631.084733\n",
      "500/971\n",
      "1 neighbors\n",
      "setting up df took 0.006914\n",
      "finding affine basis took 0.002582\n",
      "intermediate time 631.094255\n",
      "1 neighbors\n",
      "setting up df took 0.004182\n",
      "finding affine basis took 0.002508\n",
      "intermediate time 631.100969\n",
      "1 neighbors\n",
      "setting up df took 0.007768\n",
      "finding affine basis took 0.002591\n",
      "intermediate time 631.111351\n",
      "1 neighbors\n",
      "setting up df took 0.004751\n",
      "finding affine basis took 0.002559\n",
      "intermediate time 631.118683\n",
      "1 neighbors\n",
      "setting up df took 0.004502\n",
      "finding affine basis took 0.002517\n",
      "intermediate time 631.125727\n",
      "1 neighbors\n",
      "setting up df took 0.006373\n",
      "finding affine basis took 0.002574\n",
      "intermediate time 631.134697\n",
      "1 neighbors\n",
      "setting up df took 0.004245\n",
      "finding affine basis took 0.002541\n",
      "intermediate time 631.141508\n",
      "1 neighbors\n",
      "setting up df took 0.006212\n",
      "finding affine basis took 0.002575\n",
      "intermediate time 631.150316\n",
      "1 neighbors\n",
      "setting up df took 0.009543\n",
      "finding affine basis took 0.002960\n",
      "intermediate time 631.162843\n",
      "1 neighbors\n",
      "setting up df took 0.004677\n",
      "finding affine basis took 0.003132\n",
      "intermediate time 631.170682\n",
      "510/971\n",
      "1 neighbors\n",
      "setting up df took 0.005186\n",
      "finding affine basis took 0.002910\n",
      "intermediate time 631.178827\n",
      "1 neighbors\n",
      "setting up df took 0.004849\n",
      "finding affine basis took 0.002754\n",
      "intermediate time 631.186458\n",
      "1 neighbors\n",
      "setting up df took 0.004601\n",
      "finding affine basis took 0.002622\n",
      "intermediate time 631.193706\n",
      "1 neighbors\n",
      "setting up df took 0.004255\n",
      "finding affine basis took 0.002599\n",
      "intermediate time 631.200584\n",
      "1 neighbors\n",
      "setting up df took 0.008835\n",
      "finding affine basis took 0.002769\n",
      "intermediate time 631.212213\n",
      "1 neighbors\n",
      "setting up df took 0.013045\n",
      "finding affine basis took 0.002859\n",
      "intermediate time 631.228143\n",
      "1 neighbors\n",
      "setting up df took 0.004544\n",
      "finding affine basis took 0.002573\n",
      "intermediate time 631.235285\n",
      "1 neighbors\n",
      "setting up df took 0.013323\n",
      "finding affine basis took 0.002677\n",
      "intermediate time 631.251309\n",
      "1 neighbors\n",
      "setting up df took 0.007895\n",
      "finding affine basis took 0.002703\n",
      "intermediate time 631.261932\n",
      "1 neighbors\n",
      "setting up df took 0.004171\n",
      "finding affine basis took 0.002567\n",
      "intermediate time 631.268695\n",
      "520/971\n",
      "1 neighbors\n",
      "setting up df took 0.014412\n",
      "finding affine basis took 0.002746\n",
      "intermediate time 631.285881\n",
      "1 neighbors\n",
      "setting up df took 0.004110\n",
      "finding affine basis took 0.002502\n",
      "intermediate time 631.292517\n",
      "1 neighbors\n",
      "setting up df took 0.004369\n",
      "finding affine basis took 0.002503\n",
      "intermediate time 631.299411\n",
      "1 neighbors\n",
      "setting up df took 0.004937\n",
      "finding affine basis took 0.002542\n",
      "intermediate time 631.306913\n",
      "1 neighbors\n",
      "setting up df took 0.119443\n",
      "finding affine basis took 0.004922\n",
      "intermediate time 631.431302\n",
      "1 neighbors\n",
      "setting up df took 0.074774\n",
      "finding affine basis took 0.004269\n",
      "intermediate time 631.510371\n",
      "1 neighbors\n",
      "setting up df took 0.010104\n",
      "finding affine basis took 0.002950\n",
      "intermediate time 631.523449\n",
      "1 neighbors\n",
      "setting up df took 0.004537\n",
      "finding affine basis took 0.002593\n",
      "intermediate time 631.530607\n",
      "1 neighbors\n",
      "setting up df took 0.004378\n",
      "finding affine basis took 0.002552\n",
      "intermediate time 631.537561\n",
      "1 neighbors\n",
      "setting up df took 0.004157\n",
      "finding affine basis took 0.002760\n",
      "intermediate time 631.544500\n",
      "530/971\n",
      "1 neighbors\n",
      "setting up df took 0.004042\n",
      "finding affine basis took 0.002629\n",
      "intermediate time 631.551197\n",
      "1 neighbors\n",
      "setting up df took 0.003971\n",
      "finding affine basis took 0.002482\n",
      "intermediate time 631.557672\n",
      "1 neighbors\n",
      "setting up df took 0.004660\n",
      "finding affine basis took 0.002536\n",
      "intermediate time 631.564889\n",
      "1 neighbors\n",
      "setting up df took 0.004236\n",
      "finding affine basis took 0.002546\n",
      "intermediate time 631.571694\n",
      "1 neighbors\n",
      "setting up df took 0.004114\n",
      "finding affine basis took 0.002484\n",
      "intermediate time 631.578316\n",
      "1 neighbors\n",
      "setting up df took 0.004310\n",
      "finding affine basis took 0.002493\n",
      "intermediate time 631.585141\n",
      "1 neighbors\n",
      "setting up df took 0.004052\n",
      "finding affine basis took 0.002486\n",
      "intermediate time 631.591702\n",
      "1 neighbors\n"
     ]
    },
    {
     "name": "stderr",
     "output_type": "stream",
     "text": [
      "/home/pierre/anaconda3/conda/envs/pygmt/lib/python3.11/site-packages/shapely/linear.py:90: RuntimeWarning: invalid value encountered in line_locate_point\n",
      "  return lib.line_locate_point(line, other)\n",
      "/home/pierre/anaconda3/conda/envs/pygmt/lib/python3.11/site-packages/shapely/linear.py:90: RuntimeWarning: invalid value encountered in line_locate_point\n",
      "  return lib.line_locate_point(line, other)\n"
     ]
    },
    {
     "name": "stdout",
     "output_type": "stream",
     "text": [
      "setting up df took 0.054201\n",
      "finding affine basis took 0.003772\n",
      "intermediate time 631.649698\n",
      "1 neighbors\n",
      "setting up df took 0.004609\n",
      "finding affine basis took 0.002805\n",
      "intermediate time 631.657141\n",
      "1 neighbors\n",
      "setting up df took 0.004420\n",
      "finding affine basis took 0.002591\n",
      "intermediate time 631.664175\n",
      "540/971\n",
      "1 neighbors\n",
      "setting up df took 0.011894\n",
      "finding affine basis took 0.002853\n",
      "intermediate time 631.678950\n",
      "1 neighbors\n",
      "setting up df took 0.014060\n",
      "finding affine basis took 0.003114\n",
      "intermediate time 631.696147\n",
      "1 neighbors\n",
      "setting up df took 0.004816\n",
      "finding affine basis took 0.002538\n",
      "intermediate time 631.703528\n",
      "1 neighbors\n",
      "setting up df took 0.004739\n",
      "finding affine basis took 0.002589\n",
      "intermediate time 631.710879\n",
      "1 neighbors\n",
      "setting up df took 0.004057\n",
      "finding affine basis took 0.002509\n",
      "intermediate time 631.717468\n",
      "1 neighbors\n",
      "setting up df took 0.004890\n",
      "finding affine basis took 0.002580\n",
      "intermediate time 631.724962\n",
      "1 neighbors\n",
      "setting up df took 0.005903\n",
      "finding affine basis took 0.002647\n",
      "intermediate time 631.733536\n",
      "1 neighbors\n",
      "setting up df took 0.015219\n",
      "finding affine basis took 0.003228\n",
      "intermediate time 631.752008\n",
      "1 neighbors\n",
      "setting up df took 0.004644\n",
      "finding affine basis took 0.002555\n",
      "intermediate time 631.759231\n",
      "1 neighbors\n",
      "setting up df took 0.005509\n",
      "finding affine basis took 0.002553\n",
      "intermediate time 631.767317\n",
      "550/971\n",
      "1 neighbors\n",
      "setting up df took 0.005282\n",
      "finding affine basis took 0.002518\n",
      "intermediate time 631.775144\n",
      "1 neighbors\n",
      "setting up df took 0.004583\n",
      "finding affine basis took 0.002525\n",
      "intermediate time 631.782275\n",
      "1 neighbors\n",
      "setting up df took 0.007082\n",
      "finding affine basis took 0.002589\n",
      "intermediate time 631.791971\n",
      "1 neighbors\n",
      "setting up df took 0.006176\n",
      "finding affine basis took 0.002663\n",
      "intermediate time 631.800835\n",
      "1 neighbors\n",
      "setting up df took 0.005732\n",
      "finding affine basis took 0.002645\n",
      "intermediate time 631.809237\n",
      "1 neighbors\n",
      "setting up df took 0.008209\n",
      "finding affine basis took 0.002739\n",
      "intermediate time 631.820209\n",
      "1 neighbors\n",
      "setting up df took 0.004697\n",
      "finding affine basis took 0.002623\n",
      "intermediate time 631.827552\n",
      "1 neighbors\n",
      "setting up df took 0.004121\n",
      "finding affine basis took 0.002490\n",
      "intermediate time 631.834188\n",
      "1 neighbors\n",
      "setting up df took 0.004041\n",
      "finding affine basis took 0.002499\n",
      "intermediate time 631.840751\n",
      "1 neighbors\n",
      "setting up df took 0.006199\n",
      "finding affine basis took 0.002577\n",
      "intermediate time 631.849550\n",
      "560/971\n",
      "1 neighbors\n"
     ]
    },
    {
     "name": "stderr",
     "output_type": "stream",
     "text": [
      "/home/pierre/anaconda3/conda/envs/pygmt/lib/python3.11/site-packages/shapely/linear.py:90: RuntimeWarning: invalid value encountered in line_locate_point\n",
      "  return lib.line_locate_point(line, other)\n",
      "/home/pierre/anaconda3/conda/envs/pygmt/lib/python3.11/site-packages/shapely/linear.py:90: RuntimeWarning: invalid value encountered in line_locate_point\n",
      "  return lib.line_locate_point(line, other)\n",
      "/home/pierre/anaconda3/conda/envs/pygmt/lib/python3.11/site-packages/shapely/linear.py:90: RuntimeWarning: invalid value encountered in line_locate_point\n",
      "  return lib.line_locate_point(line, other)\n"
     ]
    },
    {
     "name": "stdout",
     "output_type": "stream",
     "text": [
      "setting up df took 0.005414\n",
      "finding affine basis took 0.003248\n",
      "intermediate time 631.858240\n",
      "1 neighbors\n",
      "setting up df took 0.004972\n",
      "finding affine basis took 0.002877\n",
      "intermediate time 631.866118\n",
      "1 neighbors\n",
      "setting up df took 0.004503\n",
      "finding affine basis took 0.002706\n",
      "intermediate time 631.873353\n",
      "1 neighbors\n",
      "setting up df took 0.004981\n",
      "finding affine basis took 0.002582\n",
      "intermediate time 631.880941\n",
      "1 neighbors\n",
      "setting up df took 0.005139\n",
      "finding affine basis took 0.003235\n",
      "intermediate time 631.889338\n",
      "1 neighbors\n",
      "setting up df took 0.004197\n",
      "finding affine basis took 0.002833\n",
      "intermediate time 631.896391\n",
      "1 neighbors\n",
      "setting up df took 0.008070\n",
      "finding affine basis took 0.002684\n",
      "intermediate time 631.907169\n",
      "1 neighbors\n",
      "setting up df took 0.004467\n",
      "finding affine basis took 0.002710\n",
      "intermediate time 631.914371\n",
      "1 neighbors\n",
      "setting up df took 0.012525\n",
      "finding affine basis took 0.002756\n",
      "intermediate time 631.929675\n",
      "1 neighbors\n",
      "setting up df took 0.008447\n",
      "finding affine basis took 0.002689\n",
      "intermediate time 631.940836\n",
      "570/971\n",
      "1 neighbors\n",
      "setting up df took 0.004171\n",
      "finding affine basis took 0.002516\n",
      "intermediate time 631.947551\n",
      "1 neighbors\n",
      "setting up df took 0.004064\n",
      "finding affine basis took 0.002488\n",
      "intermediate time 631.954125\n",
      "1 neighbors\n",
      "setting up df took 0.007482\n",
      "finding affine basis took 0.002603\n",
      "intermediate time 631.964234\n",
      "1 neighbors\n",
      "setting up df took 0.010297\n",
      "finding affine basis took 0.002661\n",
      "intermediate time 631.977215\n",
      "1 neighbors\n",
      "setting up df took 0.008064\n",
      "finding affine basis took 0.002681\n",
      "intermediate time 631.987984\n",
      "1 neighbors\n",
      "setting up df took 0.007780\n",
      "finding affine basis took 0.002613\n",
      "intermediate time 631.998401\n",
      "1 neighbors\n",
      "setting up df took 0.007471\n",
      "finding affine basis took 0.002600\n",
      "intermediate time 632.008498\n",
      "1 neighbors\n",
      "setting up df took 0.004097\n",
      "finding affine basis took 0.002502\n",
      "intermediate time 632.015121\n",
      "1 neighbors\n",
      "setting up df took 0.004174\n",
      "finding affine basis took 0.002534\n",
      "intermediate time 632.021852\n",
      "1 neighbors\n",
      "setting up df took 0.004212\n",
      "finding affine basis took 0.002508\n",
      "intermediate time 632.028596\n",
      "580/971\n",
      "1 neighbors\n",
      "setting up df took 0.005231\n",
      "finding affine basis took 0.002706\n",
      "intermediate time 632.036559\n",
      "1 neighbors\n",
      "setting up df took 0.006582\n",
      "finding affine basis took 0.002553\n",
      "intermediate time 632.045717\n",
      "1 neighbors\n",
      "setting up df took 0.004762\n",
      "finding affine basis took 0.002824\n",
      "intermediate time 632.053325\n",
      "1 neighbors\n",
      "setting up df took 0.003987\n",
      "finding affine basis took 0.002665\n",
      "intermediate time 632.059999\n",
      "1 neighbors\n",
      "setting up df took 0.005236\n",
      "finding affine basis took 0.002972\n",
      "intermediate time 632.068230\n",
      "1 neighbors\n",
      "setting up df took 0.005165\n",
      "finding affine basis took 0.002918\n",
      "intermediate time 632.076340\n",
      "1 neighbors\n",
      "setting up df took 0.007661\n",
      "finding affine basis took 0.002706\n",
      "intermediate time 632.086731\n",
      "1 neighbors\n",
      "setting up df took 0.005846\n",
      "finding affine basis took 0.002612\n",
      "intermediate time 632.095213\n",
      "1 neighbors\n",
      "setting up df took 0.004337\n",
      "finding affine basis took 0.002713\n",
      "intermediate time 632.102288\n",
      "1 neighbors\n",
      "setting up df took 0.004174\n",
      "finding affine basis took 0.002568\n",
      "intermediate time 632.109055\n",
      "590/971\n",
      "1 neighbors\n",
      "setting up df took 0.004253\n",
      "finding affine basis took 0.002633\n",
      "intermediate time 632.115968\n",
      "1 neighbors\n",
      "setting up df took 0.004208\n",
      "finding affine basis took 0.002627\n",
      "intermediate time 632.122826\n",
      "1 neighbors\n",
      "setting up df took 0.004518\n",
      "finding affine basis took 0.002494\n",
      "intermediate time 632.129861\n",
      "1 neighbors\n",
      "setting up df took 0.004539\n",
      "finding affine basis took 0.002495\n",
      "intermediate time 632.136918\n",
      "1 neighbors\n",
      "setting up df took 0.004139\n",
      "finding affine basis took 0.002486\n",
      "intermediate time 632.143566\n",
      "1 neighbors\n",
      "setting up df took 0.004110\n",
      "finding affine basis took 0.002872\n",
      "intermediate time 632.150571\n",
      "1 neighbors\n",
      "setting up df took 0.004236\n",
      "finding affine basis took 0.002535\n",
      "intermediate time 632.157367\n",
      "1 neighbors\n",
      "setting up df took 0.007316\n",
      "finding affine basis took 0.002582\n",
      "intermediate time 632.167288\n",
      "1 neighbors\n",
      "setting up df took 0.004040\n",
      "finding affine basis took 0.002861\n",
      "intermediate time 632.174213\n",
      "1 neighbors\n",
      "setting up df took 0.004090\n",
      "finding affine basis took 0.002618\n",
      "intermediate time 632.180944\n",
      "600/971\n",
      "1 neighbors\n",
      "setting up df took 0.015189\n",
      "finding affine basis took 0.002787\n",
      "intermediate time 632.198949\n",
      "1 neighbors\n",
      "setting up df took 0.004148\n",
      "finding affine basis took 0.002488\n",
      "intermediate time 632.205610\n",
      "1 neighbors\n",
      "setting up df took 0.004623\n",
      "finding affine basis took 0.002609\n",
      "intermediate time 632.212865\n",
      "1 neighbors\n",
      "setting up df took 0.012833\n",
      "finding affine basis took 0.002755\n",
      "intermediate time 632.228476\n",
      "1 neighbors\n",
      "setting up df took 0.062941\n",
      "finding affine basis took 0.004130\n",
      "intermediate time 632.295571\n",
      "1 neighbors\n",
      "setting up df took 0.005557\n",
      "finding affine basis took 0.002660\n",
      "intermediate time 632.303810\n",
      "1 neighbors\n",
      "setting up df took 0.004361\n",
      "finding affine basis took 0.002697\n",
      "intermediate time 632.310892\n",
      "1 neighbors\n",
      "setting up df took 0.005561\n",
      "finding affine basis took 0.002603\n",
      "intermediate time 632.319078\n",
      "1 neighbors\n",
      "setting up df took 0.004936\n",
      "finding affine basis took 0.002552\n",
      "intermediate time 632.326589\n",
      "1 neighbors\n",
      "setting up df took 0.006353\n",
      "finding affine basis took 0.002924\n",
      "intermediate time 632.335890\n",
      "610/971\n",
      "1 neighbors\n",
      "setting up df took 0.004051\n",
      "finding affine basis took 0.002618\n",
      "intermediate time 632.342585\n",
      "1 neighbors\n",
      "setting up df took 0.061973\n",
      "finding affine basis took 0.003866\n",
      "intermediate time 632.408448\n",
      "1 neighbors\n",
      "setting up df took 0.063601\n",
      "finding affine basis took 0.003888\n",
      "intermediate time 632.475962\n",
      "1 neighbors\n",
      "setting up df took 0.007629\n",
      "finding affine basis took 0.002606\n",
      "intermediate time 632.486222\n",
      "1 neighbors\n"
     ]
    },
    {
     "name": "stderr",
     "output_type": "stream",
     "text": [
      "/home/pierre/anaconda3/conda/envs/pygmt/lib/python3.11/site-packages/shapely/linear.py:90: RuntimeWarning: invalid value encountered in line_locate_point\n",
      "  return lib.line_locate_point(line, other)\n",
      "/home/pierre/anaconda3/conda/envs/pygmt/lib/python3.11/site-packages/shapely/linear.py:90: RuntimeWarning: invalid value encountered in line_locate_point\n",
      "  return lib.line_locate_point(line, other)\n",
      "/home/pierre/anaconda3/conda/envs/pygmt/lib/python3.11/site-packages/shapely/linear.py:90: RuntimeWarning: invalid value encountered in line_locate_point\n",
      "  return lib.line_locate_point(line, other)\n"
     ]
    },
    {
     "name": "stdout",
     "output_type": "stream",
     "text": [
      "setting up df took 0.054538\n",
      "finding affine basis took 0.004222\n",
      "intermediate time 632.545006\n",
      "1 neighbors\n",
      "setting up df took 0.052422\n",
      "finding affine basis took 0.005054\n",
      "intermediate time 632.602507\n",
      "1 neighbors\n",
      "setting up df took 0.013391\n",
      "finding affine basis took 0.002727\n",
      "intermediate time 632.618653\n",
      "1 neighbors\n",
      "setting up df took 0.004864\n",
      "finding affine basis took 0.002592\n",
      "intermediate time 632.626134\n",
      "1 neighbors\n",
      "setting up df took 0.010366\n",
      "finding affine basis took 0.004053\n",
      "intermediate time 632.640576\n",
      "1 neighbors\n",
      "setting up df took 0.009665\n",
      "finding affine basis took 0.002666\n",
      "intermediate time 632.652931\n",
      "620/971\n",
      "1 neighbors\n",
      "setting up df took 0.004353\n",
      "finding affine basis took 0.002509\n",
      "intermediate time 632.659822\n",
      "1 neighbors\n",
      "setting up df took 0.004122\n",
      "finding affine basis took 0.002498\n",
      "intermediate time 632.666465\n",
      "1 neighbors\n",
      "setting up df took 0.004702\n",
      "finding affine basis took 0.002616\n",
      "intermediate time 632.673807\n",
      "1 neighbors\n",
      "setting up df took 0.004667\n",
      "finding affine basis took 0.002546\n",
      "intermediate time 632.681044\n",
      "1 neighbors\n",
      "setting up df took 0.013834\n",
      "finding affine basis took 0.002875\n",
      "intermediate time 632.697777\n",
      "1 neighbors\n",
      "setting up df took 0.055296\n",
      "finding affine basis took 0.011418\n",
      "intermediate time 632.764516\n",
      "1 neighbors\n",
      "setting up df took 0.006165\n",
      "finding affine basis took 0.002660\n",
      "intermediate time 632.773368\n",
      "1 neighbors\n",
      "setting up df took 0.005808\n",
      "finding affine basis took 0.002615\n",
      "intermediate time 632.781815\n",
      "1 neighbors\n",
      "setting up df took 0.005696\n",
      "finding affine basis took 0.002709\n",
      "intermediate time 632.790244\n",
      "1 neighbors\n",
      "setting up df took 0.004717\n",
      "finding affine basis took 0.002558\n",
      "intermediate time 632.797541\n",
      "630/971\n",
      "1 neighbors\n",
      "setting up df took 0.059297\n",
      "finding affine basis took 0.003951\n",
      "intermediate time 632.860816\n",
      "1 neighbors\n",
      "setting up df took 0.004581\n",
      "finding affine basis took 0.002564\n",
      "intermediate time 632.867985\n",
      "1 neighbors\n",
      "setting up df took 0.004308\n",
      "finding affine basis took 0.002485\n",
      "intermediate time 632.874800\n",
      "1 neighbors\n",
      "setting up df took 0.004601\n",
      "finding affine basis took 0.002500\n",
      "intermediate time 632.881923\n",
      "1 neighbors\n",
      "setting up df took 0.004735\n",
      "finding affine basis took 0.002507\n",
      "intermediate time 632.889188\n",
      "1 neighbors\n",
      "setting up df took 0.004153\n",
      "finding affine basis took 0.002534\n",
      "intermediate time 632.895898\n",
      "1 neighbors\n",
      "setting up df took 0.004009\n",
      "finding affine basis took 0.002480\n",
      "intermediate time 632.902409\n",
      "1 neighbors\n",
      "setting up df took 0.005746\n",
      "finding affine basis took 0.002525\n",
      "intermediate time 632.910704\n",
      "1 neighbors\n",
      "setting up df took 0.004198\n",
      "finding affine basis took 0.002633\n",
      "intermediate time 632.917557\n",
      "1 neighbors\n",
      "setting up df took 0.010405\n",
      "finding affine basis took 0.002671\n",
      "intermediate time 632.930656\n",
      "640/971\n",
      "1 neighbors\n",
      "setting up df took 0.004635\n",
      "finding affine basis took 0.002514\n",
      "intermediate time 632.937835\n",
      "1 neighbors\n",
      "setting up df took 0.004035\n",
      "finding affine basis took 0.002510\n",
      "intermediate time 632.944403\n",
      "1 neighbors\n",
      "setting up df took 0.006931\n",
      "finding affine basis took 0.002587\n",
      "intermediate time 632.953944\n",
      "1 neighbors\n"
     ]
    },
    {
     "name": "stderr",
     "output_type": "stream",
     "text": [
      "/home/pierre/anaconda3/conda/envs/pygmt/lib/python3.11/site-packages/shapely/linear.py:90: RuntimeWarning: invalid value encountered in line_locate_point\n",
      "  return lib.line_locate_point(line, other)\n",
      "/home/pierre/anaconda3/conda/envs/pygmt/lib/python3.11/site-packages/shapely/linear.py:90: RuntimeWarning: invalid value encountered in line_locate_point\n",
      "  return lib.line_locate_point(line, other)\n"
     ]
    },
    {
     "name": "stdout",
     "output_type": "stream",
     "text": [
      "setting up df took 0.004898\n",
      "finding affine basis took 0.003339\n",
      "intermediate time 632.962204\n",
      "1 neighbors\n",
      "setting up df took 0.004443\n",
      "finding affine basis took 0.002622\n",
      "intermediate time 632.969299\n",
      "1 neighbors\n",
      "setting up df took 0.004294\n",
      "finding affine basis took 0.002609\n",
      "intermediate time 632.976230\n",
      "1 neighbors\n",
      "setting up df took 0.007741\n",
      "finding affine basis took 0.002719\n",
      "intermediate time 632.986717\n",
      "1 neighbors\n",
      "setting up df took 0.008341\n",
      "finding affine basis took 0.002677\n",
      "intermediate time 632.997759\n",
      "1 neighbors\n",
      "setting up df took 0.004960\n",
      "finding affine basis took 0.002524\n",
      "intermediate time 633.005265\n",
      "1 neighbors\n",
      "setting up df took 0.005431\n",
      "finding affine basis took 0.002662\n",
      "intermediate time 633.013382\n",
      "650/971\n",
      "1 neighbors\n",
      "setting up df took 0.004395\n",
      "finding affine basis took 0.002501\n",
      "intermediate time 633.020303\n",
      "1 neighbors\n",
      "setting up df took 0.004170\n",
      "finding affine basis took 0.002543\n",
      "intermediate time 633.027040\n",
      "1 neighbors\n",
      "setting up df took 0.005084\n",
      "finding affine basis took 0.002496\n",
      "intermediate time 633.034645\n",
      "1 neighbors\n",
      "setting up df took 0.063328\n",
      "finding affine basis took 0.004314\n",
      "intermediate time 633.102310\n",
      "1 neighbors\n",
      "setting up df took 0.004442\n",
      "finding affine basis took 0.002515\n",
      "intermediate time 633.109292\n",
      "1 neighbors\n",
      "setting up df took 0.007635\n",
      "finding affine basis took 0.002673\n",
      "intermediate time 633.119625\n",
      "1 neighbors\n",
      "setting up df took 0.007456\n",
      "finding affine basis took 0.002581\n",
      "intermediate time 633.129685\n",
      "1 neighbors\n",
      "setting up df took 0.007880\n",
      "finding affine basis took 0.002842\n",
      "intermediate time 633.140432\n",
      "1 neighbors\n",
      "setting up df took 0.006005\n",
      "finding affine basis took 0.002878\n",
      "intermediate time 633.149339\n",
      "1 neighbors\n",
      "setting up df took 0.005841\n",
      "finding affine basis took 0.002562\n",
      "intermediate time 633.157767\n",
      "660/971\n",
      "1 neighbors\n"
     ]
    },
    {
     "name": "stderr",
     "output_type": "stream",
     "text": [
      "/home/pierre/anaconda3/conda/envs/pygmt/lib/python3.11/site-packages/shapely/linear.py:90: RuntimeWarning: invalid value encountered in line_locate_point\n",
      "  return lib.line_locate_point(line, other)\n",
      "/home/pierre/anaconda3/conda/envs/pygmt/lib/python3.11/site-packages/shapely/linear.py:90: RuntimeWarning: invalid value encountered in line_locate_point\n",
      "  return lib.line_locate_point(line, other)\n",
      "/home/pierre/anaconda3/conda/envs/pygmt/lib/python3.11/site-packages/shapely/linear.py:90: RuntimeWarning: invalid value encountered in line_locate_point\n",
      "  return lib.line_locate_point(line, other)\n",
      "/home/pierre/anaconda3/conda/envs/pygmt/lib/python3.11/site-packages/shapely/linear.py:90: RuntimeWarning: invalid value encountered in line_locate_point\n",
      "  return lib.line_locate_point(line, other)\n",
      "/home/pierre/anaconda3/conda/envs/pygmt/lib/python3.11/site-packages/shapely/linear.py:90: RuntimeWarning: invalid value encountered in line_locate_point\n",
      "  return lib.line_locate_point(line, other)\n"
     ]
    },
    {
     "name": "stdout",
     "output_type": "stream",
     "text": [
      "setting up df took 0.004631\n",
      "finding affine basis took 0.003340\n",
      "intermediate time 633.165764\n",
      "1 neighbors\n",
      "setting up df took 0.005629\n",
      "finding affine basis took 0.003122\n",
      "intermediate time 633.174544\n",
      "1 neighbors\n",
      "setting up df took 0.007811\n",
      "finding affine basis took 0.002694\n",
      "intermediate time 633.185075\n",
      "1 neighbors\n",
      "setting up df took 0.007334\n",
      "finding affine basis took 0.003070\n",
      "intermediate time 633.195502\n",
      "1 neighbors\n",
      "setting up df took 0.006668\n",
      "finding affine basis took 0.002594\n",
      "intermediate time 633.204787\n",
      "1 neighbors\n",
      "setting up df took 0.006585\n",
      "finding affine basis took 0.002620\n",
      "intermediate time 633.214015\n",
      "1 neighbors\n",
      "setting up df took 0.013249\n",
      "finding affine basis took 0.002787\n",
      "intermediate time 633.230073\n",
      "1 neighbors\n",
      "setting up df took 0.004411\n",
      "finding affine basis took 0.002647\n",
      "intermediate time 633.237156\n",
      "1 neighbors\n",
      "setting up df took 0.004112\n",
      "finding affine basis took 0.002505\n",
      "intermediate time 633.243795\n",
      "1 neighbors\n",
      "setting up df took 0.004839\n",
      "finding affine basis took 0.002495\n",
      "intermediate time 633.251152\n",
      "670/971\n",
      "1 neighbors\n",
      "setting up df took 0.004805\n",
      "finding affine basis took 0.002747\n",
      "intermediate time 633.258731\n",
      "1 neighbors\n",
      "setting up df took 0.004108\n",
      "finding affine basis took 0.002486\n",
      "intermediate time 633.265348\n",
      "1 neighbors\n",
      "setting up df took 0.007481\n",
      "finding affine basis took 0.002584\n",
      "intermediate time 633.275436\n",
      "1 neighbors\n",
      "setting up df took 0.006721\n",
      "finding affine basis took 0.002587\n",
      "intermediate time 633.284767\n",
      "1 neighbors\n",
      "setting up df took 0.004198\n",
      "finding affine basis took 0.002493\n",
      "intermediate time 633.291483\n",
      "1 neighbors\n",
      "setting up df took 0.053241\n",
      "finding affine basis took 0.012279\n",
      "intermediate time 633.357026\n",
      "1 neighbors\n",
      "setting up df took 0.004741\n",
      "finding affine basis took 0.002877\n",
      "intermediate time 633.364672\n",
      "1 neighbors\n",
      "setting up df took 0.005243\n",
      "finding affine basis took 0.002728\n",
      "intermediate time 633.372701\n",
      "1 neighbors\n",
      "setting up df took 0.004660\n",
      "finding affine basis took 0.002742\n",
      "intermediate time 633.380132\n",
      "1 neighbors\n",
      "setting up df took 0.010052\n",
      "finding affine basis took 0.002818\n",
      "intermediate time 633.393026\n",
      "680/971\n",
      "1 neighbors\n",
      "setting up df took 0.005769\n",
      "finding affine basis took 0.002790\n",
      "intermediate time 633.401616\n",
      "1 neighbors\n",
      "setting up df took 0.004910\n",
      "finding affine basis took 0.002581\n",
      "intermediate time 633.409131\n",
      "1 neighbors\n",
      "setting up df took 0.004730\n",
      "finding affine basis took 0.002580\n",
      "intermediate time 633.416466\n",
      "1 neighbors\n",
      "setting up df took 0.005604\n",
      "finding affine basis took 0.002574\n",
      "intermediate time 633.424668\n",
      "1 neighbors\n",
      "setting up df took 0.004490\n",
      "finding affine basis took 0.002504\n",
      "intermediate time 633.431684\n",
      "1 neighbors\n",
      "setting up df took 0.004299\n",
      "finding affine basis took 0.002763\n",
      "intermediate time 633.438769\n",
      "1 neighbors\n",
      "setting up df took 0.011171\n",
      "finding affine basis took 0.002715\n",
      "intermediate time 633.452679\n",
      "1 neighbors\n",
      "setting up df took 0.004108\n",
      "finding affine basis took 0.002636\n",
      "intermediate time 633.459448\n",
      "1 neighbors\n",
      "setting up df took 0.004148\n",
      "finding affine basis took 0.003001\n",
      "intermediate time 633.466620\n",
      "1 neighbors\n",
      "setting up df took 0.004276\n",
      "finding affine basis took 0.002698\n",
      "intermediate time 633.473618\n",
      "690/971\n",
      "1 neighbors\n",
      "setting up df took 0.004565\n",
      "finding affine basis took 0.002505\n",
      "intermediate time 633.480715\n",
      "1 neighbors\n",
      "setting up df took 0.004038\n",
      "finding affine basis took 0.002628\n",
      "intermediate time 633.487404\n",
      "1 neighbors\n",
      "setting up df took 0.004022\n",
      "finding affine basis took 0.002481\n",
      "intermediate time 633.493932\n",
      "1 neighbors\n",
      "setting up df took 0.004078\n",
      "finding affine basis took 0.002739\n",
      "intermediate time 633.500771\n",
      "1 neighbors\n",
      "setting up df took 0.004330\n",
      "finding affine basis took 0.003134\n",
      "intermediate time 633.508257\n",
      "1 neighbors\n",
      "setting up df took 0.011073\n",
      "finding affine basis took 0.003008\n",
      "intermediate time 633.522361\n",
      "1 neighbors\n",
      "setting up df took 0.011953\n",
      "finding affine basis took 0.003037\n",
      "intermediate time 633.537382\n",
      "1 neighbors\n",
      "setting up df took 0.004456\n",
      "finding affine basis took 0.002618\n",
      "intermediate time 633.544482\n",
      "1 neighbors\n",
      "setting up df took 0.004687\n",
      "finding affine basis took 0.002571\n",
      "intermediate time 633.551765\n",
      "1 neighbors\n",
      "setting up df took 0.008046\n",
      "finding affine basis took 0.002872\n",
      "intermediate time 633.562706\n",
      "700/971\n",
      "1 neighbors\n"
     ]
    },
    {
     "name": "stderr",
     "output_type": "stream",
     "text": [
      "/home/pierre/anaconda3/conda/envs/pygmt/lib/python3.11/site-packages/shapely/linear.py:90: RuntimeWarning: invalid value encountered in line_locate_point\n",
      "  return lib.line_locate_point(line, other)\n",
      "/home/pierre/anaconda3/conda/envs/pygmt/lib/python3.11/site-packages/shapely/linear.py:90: RuntimeWarning: invalid value encountered in line_locate_point\n",
      "  return lib.line_locate_point(line, other)\n",
      "/home/pierre/anaconda3/conda/envs/pygmt/lib/python3.11/site-packages/shapely/linear.py:90: RuntimeWarning: invalid value encountered in line_locate_point\n",
      "  return lib.line_locate_point(line, other)\n"
     ]
    },
    {
     "name": "stdout",
     "output_type": "stream",
     "text": [
      "setting up df took 0.012979\n",
      "finding affine basis took 0.003230\n",
      "intermediate time 633.578941\n",
      "1 neighbors\n",
      "setting up df took 0.004613\n",
      "finding affine basis took 0.002774\n",
      "intermediate time 633.586352\n",
      "1 neighbors\n",
      "setting up df took 0.006444\n",
      "finding affine basis took 0.002666\n",
      "intermediate time 633.595488\n",
      "1 neighbors\n",
      "setting up df took 0.115040\n",
      "finding affine basis took 0.026582\n",
      "intermediate time 633.737133\n",
      "1 neighbors\n",
      "setting up df took 0.012682\n",
      "finding affine basis took 0.002635\n",
      "intermediate time 633.752480\n",
      "1 neighbors\n",
      "setting up df took 0.005256\n",
      "finding affine basis took 0.002811\n",
      "intermediate time 633.760571\n",
      "1 neighbors\n",
      "setting up df took 0.004964\n",
      "finding affine basis took 0.002905\n",
      "intermediate time 633.768466\n",
      "1 neighbors\n",
      "setting up df took 0.006434\n",
      "finding affine basis took 0.002865\n",
      "intermediate time 633.777796\n",
      "1 neighbors\n",
      "setting up df took 0.020092\n",
      "finding affine basis took 0.004040\n",
      "intermediate time 633.801954\n",
      "1 neighbors\n",
      "setting up df took 0.013549\n",
      "finding affine basis took 0.003232\n",
      "intermediate time 633.818760\n",
      "710/971\n",
      "1 neighbors\n",
      "setting up df took 0.005022\n",
      "finding affine basis took 0.002585\n",
      "intermediate time 633.826396\n",
      "1 neighbors\n",
      "setting up df took 0.004267\n",
      "finding affine basis took 0.002710\n",
      "intermediate time 633.833396\n",
      "1 neighbors\n",
      "setting up df took 0.005022\n",
      "finding affine basis took 0.002508\n",
      "intermediate time 633.840950\n",
      "1 neighbors\n",
      "setting up df took 0.030123\n",
      "finding affine basis took 0.003354\n",
      "intermediate time 633.874450\n",
      "1 neighbors\n",
      "setting up df took 0.006670\n",
      "finding affine basis took 0.003214\n",
      "intermediate time 633.884357\n",
      "1 neighbors\n",
      "setting up df took 0.005104\n",
      "finding affine basis took 0.002554\n",
      "intermediate time 633.892038\n",
      "1 neighbors\n",
      "setting up df took 0.070195\n",
      "finding affine basis took 0.004249\n",
      "intermediate time 633.966506\n",
      "1 neighbors\n",
      "setting up df took 0.004359\n",
      "finding affine basis took 0.002505\n",
      "intermediate time 633.973394\n",
      "1 neighbors\n",
      "setting up df took 0.004741\n",
      "finding affine basis took 0.002523\n",
      "intermediate time 633.980682\n",
      "1 neighbors\n",
      "setting up df took 0.004876\n",
      "finding affine basis took 0.002558\n",
      "intermediate time 633.988140\n",
      "720/971\n",
      "1 neighbors\n"
     ]
    },
    {
     "name": "stderr",
     "output_type": "stream",
     "text": [
      "/home/pierre/anaconda3/conda/envs/pygmt/lib/python3.11/site-packages/shapely/linear.py:90: RuntimeWarning: invalid value encountered in line_locate_point\n",
      "  return lib.line_locate_point(line, other)\n",
      "/home/pierre/anaconda3/conda/envs/pygmt/lib/python3.11/site-packages/shapely/linear.py:90: RuntimeWarning: invalid value encountered in line_locate_point\n",
      "  return lib.line_locate_point(line, other)\n",
      "/home/pierre/anaconda3/conda/envs/pygmt/lib/python3.11/site-packages/shapely/linear.py:90: RuntimeWarning: invalid value encountered in line_locate_point\n",
      "  return lib.line_locate_point(line, other)\n"
     ]
    },
    {
     "name": "stdout",
     "output_type": "stream",
     "text": [
      "setting up df took 0.070454\n",
      "finding affine basis took 0.006823\n",
      "intermediate time 634.065445\n",
      "1 neighbors\n",
      "setting up df took 0.115623\n",
      "finding affine basis took 0.011533\n",
      "intermediate time 634.192626\n",
      "1 neighbors\n",
      "setting up df took 0.005073\n",
      "finding affine basis took 0.002532\n",
      "intermediate time 634.200257\n",
      "1 neighbors\n",
      "setting up df took 0.004996\n",
      "finding affine basis took 0.002948\n",
      "intermediate time 634.208225\n",
      "1 neighbors\n",
      "setting up df took 0.004199\n",
      "finding affine basis took 0.002640\n",
      "intermediate time 634.215086\n",
      "1 neighbors\n",
      "setting up df took 0.004018\n",
      "finding affine basis took 0.002468\n",
      "intermediate time 634.221596\n",
      "1 neighbors\n",
      "setting up df took 0.013860\n",
      "finding affine basis took 0.003683\n",
      "intermediate time 634.239161\n",
      "1 neighbors\n",
      "setting up df took 0.004233\n",
      "finding affine basis took 0.002629\n",
      "intermediate time 634.246049\n",
      "1 neighbors\n"
     ]
    },
    {
     "name": "stderr",
     "output_type": "stream",
     "text": [
      "/home/pierre/anaconda3/conda/envs/pygmt/lib/python3.11/site-packages/shapely/linear.py:90: RuntimeWarning: invalid value encountered in line_locate_point\n",
      "  return lib.line_locate_point(line, other)\n"
     ]
    },
    {
     "name": "stdout",
     "output_type": "stream",
     "text": [
      "setting up df took 0.021887\n",
      "finding affine basis took 0.003419\n",
      "intermediate time 634.271376\n",
      "1 neighbors\n",
      "setting up df took 0.004927\n",
      "finding affine basis took 0.002719\n",
      "intermediate time 634.279047\n",
      "730/971\n",
      "1 neighbors\n",
      "setting up df took 0.005455\n",
      "finding affine basis took 0.002636\n",
      "intermediate time 634.287165\n",
      "1 neighbors\n",
      "setting up df took 0.004521\n",
      "finding affine basis took 0.002732\n",
      "intermediate time 634.294444\n",
      "1 neighbors\n",
      "setting up df took 0.010792\n",
      "finding affine basis took 0.002743\n",
      "intermediate time 634.308003\n",
      "1 neighbors\n",
      "setting up df took 0.010583\n",
      "finding affine basis took 0.002745\n",
      "intermediate time 634.321358\n",
      "1 neighbors\n",
      "setting up df took 0.009244\n",
      "finding affine basis took 0.002706\n",
      "intermediate time 634.333334\n",
      "1 neighbors\n",
      "setting up df took 0.004306\n",
      "finding affine basis took 0.002651\n",
      "intermediate time 634.340317\n",
      "1 neighbors\n",
      "setting up df took 0.112898\n",
      "finding affine basis took 0.015985\n",
      "intermediate time 634.469224\n",
      "1 neighbors\n"
     ]
    },
    {
     "name": "stderr",
     "output_type": "stream",
     "text": [
      "/home/pierre/anaconda3/conda/envs/pygmt/lib/python3.11/site-packages/shapely/linear.py:90: RuntimeWarning: invalid value encountered in line_locate_point\n",
      "  return lib.line_locate_point(line, other)\n"
     ]
    },
    {
     "name": "stdout",
     "output_type": "stream",
     "text": [
      "setting up df took 0.014217\n",
      "finding affine basis took 0.002915\n",
      "intermediate time 634.486382\n",
      "1 neighbors\n",
      "setting up df took 0.021186\n",
      "finding affine basis took 0.002928\n",
      "intermediate time 634.510520\n",
      "1 neighbors\n",
      "setting up df took 0.006277\n",
      "finding affine basis took 0.002654\n",
      "intermediate time 634.519477\n",
      "740/971\n",
      "1 neighbors\n",
      "setting up df took 0.005661\n",
      "finding affine basis took 0.002627\n",
      "intermediate time 634.527793\n",
      "1 neighbors\n",
      "setting up df took 0.005938\n",
      "finding affine basis took 0.002673\n",
      "intermediate time 634.536428\n",
      "1 neighbors\n",
      "setting up df took 0.008137\n",
      "finding affine basis took 0.002677\n",
      "intermediate time 634.547268\n",
      "1 neighbors\n",
      "setting up df took 0.005662\n",
      "finding affine basis took 0.002610\n",
      "intermediate time 634.555565\n",
      "1 neighbors\n",
      "setting up df took 0.007879\n",
      "finding affine basis took 0.002675\n",
      "intermediate time 634.566142\n",
      "1 neighbors\n",
      "setting up df took 0.012950\n",
      "finding affine basis took 0.003550\n",
      "intermediate time 634.582665\n",
      "1 neighbors\n",
      "setting up df took 0.004374\n",
      "finding affine basis took 0.002554\n",
      "intermediate time 634.589616\n",
      "1 neighbors\n",
      "setting up df took 0.004715\n",
      "finding affine basis took 0.002527\n",
      "intermediate time 634.596883\n",
      "1 neighbors\n",
      "setting up df took 0.004079\n",
      "finding affine basis took 0.002505\n",
      "intermediate time 634.603509\n",
      "1 neighbors\n",
      "setting up df took 0.004170\n",
      "finding affine basis took 0.002465\n",
      "intermediate time 634.610167\n",
      "750/971\n",
      "1 neighbors\n",
      "setting up df took 0.004637\n",
      "finding affine basis took 0.002796\n",
      "intermediate time 634.617627\n",
      "1 neighbors\n",
      "setting up df took 0.005164\n",
      "finding affine basis took 0.002528\n",
      "intermediate time 634.625341\n",
      "1 neighbors\n",
      "setting up df took 0.108274\n",
      "finding affine basis took 0.015127\n",
      "intermediate time 634.748765\n",
      "1 neighbors\n",
      "setting up df took 0.007391\n",
      "finding affine basis took 0.002645\n",
      "intermediate time 634.758829\n",
      "1 neighbors\n",
      "setting up df took 0.005640\n",
      "finding affine basis took 0.002639\n",
      "intermediate time 634.767132\n",
      "1 neighbors\n",
      "setting up df took 0.005791\n",
      "finding affine basis took 0.002601\n",
      "intermediate time 634.775549\n",
      "1 neighbors\n",
      "setting up df took 0.005827\n",
      "finding affine basis took 0.002767\n",
      "intermediate time 634.784167\n",
      "1 neighbors\n",
      "setting up df took 0.005604\n",
      "finding affine basis took 0.002691\n",
      "intermediate time 634.792485\n",
      "1 neighbors\n",
      "setting up df took 0.004827\n",
      "finding affine basis took 0.002488\n",
      "intermediate time 634.799823\n",
      "1 neighbors\n",
      "setting up df took 0.006846\n",
      "finding affine basis took 0.002656\n",
      "intermediate time 634.809347\n",
      "760/971\n",
      "1 neighbors\n",
      "setting up df took 0.007451\n",
      "finding affine basis took 0.003478\n",
      "intermediate time 634.820304\n",
      "1 neighbors\n",
      "setting up df took 0.007580\n",
      "finding affine basis took 0.002609\n",
      "intermediate time 634.830518\n",
      "1 neighbors\n",
      "setting up df took 0.007050\n",
      "finding affine basis took 0.002808\n",
      "intermediate time 634.840400\n",
      "1 neighbors\n",
      "setting up df took 0.007860\n",
      "finding affine basis took 0.002599\n",
      "intermediate time 634.850884\n",
      "1 neighbors\n",
      "setting up df took 0.007640\n",
      "finding affine basis took 0.002599\n",
      "intermediate time 634.861150\n",
      "1 neighbors\n",
      "setting up df took 0.007685\n",
      "finding affine basis took 0.002594\n",
      "intermediate time 634.871451\n",
      "1 neighbors\n",
      "setting up df took 0.007512\n",
      "finding affine basis took 0.003041\n",
      "intermediate time 634.882030\n",
      "1 neighbors\n",
      "setting up df took 0.015018\n",
      "finding affine basis took 0.003239\n",
      "intermediate time 634.900311\n",
      "1 neighbors\n",
      "setting up df took 0.013508\n",
      "finding affine basis took 0.003182\n",
      "intermediate time 634.917025\n",
      "1 neighbors\n",
      "setting up df took 0.014185\n",
      "finding affine basis took 0.003558\n",
      "intermediate time 634.934792\n",
      "770/971\n",
      "1 neighbors\n"
     ]
    },
    {
     "name": "stderr",
     "output_type": "stream",
     "text": [
      "/home/pierre/anaconda3/conda/envs/pygmt/lib/python3.11/site-packages/shapely/linear.py:90: RuntimeWarning: invalid value encountered in line_locate_point\n",
      "  return lib.line_locate_point(line, other)\n"
     ]
    },
    {
     "name": "stdout",
     "output_type": "stream",
     "text": [
      "setting up df took 0.015428\n",
      "finding affine basis took 0.003537\n",
      "intermediate time 634.953785\n",
      "1 neighbors\n",
      "setting up df took 0.004687\n",
      "finding affine basis took 0.002604\n",
      "intermediate time 634.961101\n",
      "1 neighbors\n",
      "setting up df took 0.012112\n",
      "finding affine basis took 0.003370\n",
      "intermediate time 634.976606\n",
      "1 neighbors\n",
      "setting up df took 0.005342\n",
      "finding affine basis took 0.002616\n",
      "intermediate time 634.984588\n",
      "1 neighbors\n",
      "setting up df took 0.004757\n",
      "finding affine basis took 0.002584\n",
      "intermediate time 634.991953\n",
      "1 neighbors\n",
      "setting up df took 0.005162\n",
      "finding affine basis took 0.002635\n",
      "intermediate time 634.999774\n",
      "1 neighbors\n",
      "setting up df took 0.005120\n",
      "finding affine basis took 0.002942\n",
      "intermediate time 635.007860\n",
      "1 neighbors\n",
      "setting up df took 0.004061\n",
      "finding affine basis took 0.002613\n",
      "intermediate time 635.014558\n",
      "1 neighbors\n",
      "setting up df took 0.005093\n",
      "finding affine basis took 0.002706\n",
      "intermediate time 635.022380\n",
      "1 neighbors\n",
      "setting up df took 0.004130\n",
      "finding affine basis took 0.002540\n",
      "intermediate time 635.029073\n",
      "780/971\n",
      "1 neighbors\n",
      "setting up df took 0.004720\n",
      "finding affine basis took 0.002807\n",
      "intermediate time 635.036627\n",
      "1 neighbors\n",
      "setting up df took 0.005168\n",
      "finding affine basis took 0.002833\n",
      "intermediate time 635.044651\n",
      "1 neighbors\n",
      "setting up df took 0.005493\n",
      "finding affine basis took 0.004884\n",
      "intermediate time 635.055053\n",
      "1 neighbors\n",
      "setting up df took 0.005507\n",
      "finding affine basis took 0.004627\n",
      "intermediate time 635.065209\n",
      "1 neighbors\n",
      "setting up df took 0.004299\n",
      "finding affine basis took 0.002543\n",
      "intermediate time 635.072076\n",
      "1 neighbors\n",
      "setting up df took 0.004357\n",
      "finding affine basis took 0.002499\n",
      "intermediate time 635.078957\n",
      "1 neighbors\n",
      "setting up df took 0.005651\n",
      "finding affine basis took 0.002729\n",
      "intermediate time 635.087371\n",
      "1 neighbors\n",
      "setting up df took 0.005112\n",
      "finding affine basis took 0.002639\n",
      "intermediate time 635.095145\n",
      "1 neighbors\n",
      "setting up df took 0.006122\n",
      "finding affine basis took 0.002574\n",
      "intermediate time 635.103865\n",
      "1 neighbors\n",
      "setting up df took 0.005663\n",
      "finding affine basis took 0.002882\n",
      "intermediate time 635.112434\n",
      "790/971\n",
      "1 neighbors\n",
      "setting up df took 0.004122\n",
      "finding affine basis took 0.002509\n",
      "intermediate time 635.119091\n",
      "1 neighbors\n",
      "setting up df took 0.006792\n",
      "finding affine basis took 0.002624\n",
      "intermediate time 635.128530\n",
      "1 neighbors\n",
      "setting up df took 0.004470\n",
      "finding affine basis took 0.002564\n",
      "intermediate time 635.135586\n",
      "1 neighbors\n",
      "setting up df took 0.006367\n",
      "finding affine basis took 0.003119\n",
      "intermediate time 635.145095\n",
      "1 neighbors\n",
      "setting up df took 0.008592\n"
     ]
    },
    {
     "name": "stderr",
     "output_type": "stream",
     "text": [
      "/home/pierre/anaconda3/conda/envs/pygmt/lib/python3.11/site-packages/shapely/linear.py:90: RuntimeWarning: invalid value encountered in line_locate_point\n",
      "  return lib.line_locate_point(line, other)\n"
     ]
    },
    {
     "name": "stdout",
     "output_type": "stream",
     "text": [
      "finding affine basis took 0.003332\n",
      "intermediate time 635.157043\n",
      "1 neighbors\n",
      "setting up df took 0.005978\n",
      "finding affine basis took 0.002703\n",
      "intermediate time 635.165777\n",
      "1 neighbors\n",
      "setting up df took 0.006081\n",
      "finding affine basis took 0.003391\n",
      "intermediate time 635.175275\n",
      "1 neighbors\n",
      "setting up df took 0.008802\n",
      "finding affine basis took 0.002857\n",
      "intermediate time 635.186959\n",
      "1 neighbors\n",
      "setting up df took 0.005989\n",
      "finding affine basis took 0.002812\n",
      "intermediate time 635.195795\n",
      "1 neighbors\n",
      "setting up df took 0.005402\n",
      "finding affine basis took 0.002594\n",
      "intermediate time 635.203817\n",
      "800/971\n",
      "1 neighbors\n",
      "setting up df took 0.005747\n",
      "finding affine basis took 0.003013\n",
      "intermediate time 635.212605\n",
      "1 neighbors\n",
      "setting up df took 0.004465\n",
      "finding affine basis took 0.002557\n",
      "intermediate time 635.219649\n",
      "1 neighbors\n",
      "setting up df took 0.160043\n",
      "finding affine basis took 0.051388\n",
      "intermediate time 635.431102\n",
      "1 neighbors\n",
      "setting up df took 0.004383\n",
      "finding affine basis took 0.003132\n",
      "intermediate time 635.438643\n",
      "1 neighbors\n",
      "setting up df took 0.051451\n",
      "finding affine basis took 0.016945\n",
      "intermediate time 635.507064\n",
      "1 neighbors\n",
      "setting up df took 0.004850\n",
      "finding affine basis took 0.002555\n",
      "intermediate time 635.514522\n",
      "1 neighbors\n",
      "setting up df took 0.009821\n",
      "finding affine basis took 0.002776\n",
      "intermediate time 635.527143\n",
      "1 neighbors\n",
      "setting up df took 0.012796\n",
      "finding affine basis took 0.002713\n",
      "intermediate time 635.542679\n",
      "1 neighbors\n",
      "setting up df took 0.007925\n",
      "finding affine basis took 0.002739\n",
      "intermediate time 635.553369\n",
      "1 neighbors\n",
      "setting up df took 0.021281\n",
      "finding affine basis took 0.006467\n",
      "intermediate time 635.581142\n",
      "810/971\n",
      "1 neighbors\n"
     ]
    },
    {
     "name": "stderr",
     "output_type": "stream",
     "text": [
      "/home/pierre/anaconda3/conda/envs/pygmt/lib/python3.11/site-packages/shapely/linear.py:90: RuntimeWarning: invalid value encountered in line_locate_point\n",
      "  return lib.line_locate_point(line, other)\n"
     ]
    },
    {
     "name": "stdout",
     "output_type": "stream",
     "text": [
      "setting up df took 0.016549\n",
      "finding affine basis took 0.003103\n",
      "intermediate time 635.600824\n",
      "1 neighbors\n",
      "setting up df took 0.007577\n",
      "finding affine basis took 0.002668\n",
      "intermediate time 635.611092\n",
      "1 neighbors\n",
      "setting up df took 0.007451\n",
      "finding affine basis took 0.002642\n",
      "intermediate time 635.621209\n",
      "1 neighbors\n",
      "setting up df took 0.007365\n",
      "finding affine basis took 0.003189\n",
      "intermediate time 635.631788\n",
      "1 neighbors\n",
      "setting up df took 0.007715\n",
      "finding affine basis took 0.002669\n",
      "intermediate time 635.642195\n",
      "1 neighbors\n",
      "setting up df took 0.036067\n",
      "finding affine basis took 0.003412\n",
      "intermediate time 635.681699\n",
      "1 neighbors\n",
      "setting up df took 0.034972\n",
      "finding affine basis took 0.003423\n",
      "intermediate time 635.720119\n",
      "1 neighbors\n",
      "setting up df took 0.004926\n",
      "finding affine basis took 0.002536\n",
      "intermediate time 635.727620\n",
      "1 neighbors\n",
      "setting up df took 0.004631\n",
      "finding affine basis took 0.002518\n",
      "intermediate time 635.734792\n",
      "1 neighbors\n",
      "setting up df took 0.006760\n",
      "finding affine basis took 0.002727\n",
      "intermediate time 635.744303\n",
      "820/971\n",
      "1 neighbors\n",
      "setting up df took 0.004762\n",
      "finding affine basis took 0.003264\n",
      "intermediate time 635.752356\n",
      "1 neighbors\n",
      "setting up df took 0.004115\n",
      "finding affine basis took 0.002633\n",
      "intermediate time 635.759126\n",
      "1 neighbors\n",
      "setting up df took 0.004048\n",
      "finding affine basis took 0.002474\n",
      "intermediate time 635.765672\n",
      "1 neighbors\n",
      "setting up df took 0.004520\n",
      "finding affine basis took 0.002545\n",
      "intermediate time 635.772759\n",
      "1 neighbors\n",
      "setting up df took 0.005174\n",
      "finding affine basis took 0.002602\n",
      "intermediate time 635.780559\n",
      "1 neighbors\n",
      "setting up df took 0.011816\n",
      "finding affine basis took 0.006828\n",
      "intermediate time 635.799226\n",
      "1 neighbors\n"
     ]
    },
    {
     "name": "stderr",
     "output_type": "stream",
     "text": [
      "/home/pierre/anaconda3/conda/envs/pygmt/lib/python3.11/site-packages/shapely/linear.py:90: RuntimeWarning: invalid value encountered in line_locate_point\n",
      "  return lib.line_locate_point(line, other)\n",
      "/home/pierre/anaconda3/conda/envs/pygmt/lib/python3.11/site-packages/shapely/linear.py:90: RuntimeWarning: invalid value encountered in line_locate_point\n",
      "  return lib.line_locate_point(line, other)\n",
      "/home/pierre/anaconda3/conda/envs/pygmt/lib/python3.11/site-packages/shapely/linear.py:90: RuntimeWarning: invalid value encountered in line_locate_point\n",
      "  return lib.line_locate_point(line, other)\n"
     ]
    },
    {
     "name": "stdout",
     "output_type": "stream",
     "text": [
      "setting up df took 0.005291\n",
      "finding affine basis took 0.003253\n",
      "intermediate time 635.807796\n",
      "1 neighbors\n",
      "setting up df took 0.005006\n",
      "finding affine basis took 0.003116\n",
      "intermediate time 635.815948\n",
      "1 neighbors\n",
      "setting up df took 0.005248\n",
      "finding affine basis took 0.002723\n",
      "intermediate time 635.823948\n",
      "1 neighbors\n",
      "setting up df took 0.055017\n",
      "finding affine basis took 0.004662\n",
      "intermediate time 635.883653\n",
      "830/971\n",
      "1 neighbors\n",
      "setting up df took 0.062182\n",
      "finding affine basis took 0.005600\n",
      "intermediate time 635.951467\n",
      "1 neighbors\n",
      "setting up df took 0.005762\n",
      "finding affine basis took 0.002550\n",
      "intermediate time 635.959805\n",
      "1 neighbors\n",
      "setting up df took 0.004367\n",
      "finding affine basis took 0.002777\n",
      "intermediate time 635.966973\n",
      "1 neighbors\n",
      "setting up df took 0.004123\n",
      "finding affine basis took 0.002471\n",
      "intermediate time 635.973607\n",
      "1 neighbors\n",
      "setting up df took 0.006153\n",
      "finding affine basis took 0.003788\n",
      "intermediate time 635.983571\n",
      "1 neighbors\n",
      "setting up df took 0.005719\n",
      "finding affine basis took 0.002580\n",
      "intermediate time 635.991893\n",
      "0 neighbors\n",
      "0 neighbors\n",
      "0 neighbors\n",
      "0 neighbors\n",
      "840/971\n",
      "0 neighbors\n",
      "0 neighbors\n",
      "0 neighbors\n",
      "0 neighbors\n",
      "0 neighbors\n",
      "0 neighbors\n",
      "0 neighbors\n",
      "0 neighbors\n",
      "0 neighbors\n",
      "0 neighbors\n",
      "850/971\n",
      "0 neighbors\n",
      "0 neighbors\n",
      "0 neighbors\n",
      "0 neighbors\n",
      "0 neighbors\n",
      "0 neighbors\n",
      "0 neighbors\n",
      "0 neighbors\n",
      "0 neighbors\n",
      "0 neighbors\n",
      "860/971\n",
      "0 neighbors\n",
      "0 neighbors\n",
      "0 neighbors\n",
      "0 neighbors\n",
      "0 neighbors\n",
      "0 neighbors\n",
      "0 neighbors\n",
      "0 neighbors\n",
      "0 neighbors\n",
      "0 neighbors\n",
      "870/971\n",
      "0 neighbors\n",
      "0 neighbors\n",
      "0 neighbors\n",
      "0 neighbors\n",
      "0 neighbors\n",
      "0 neighbors\n",
      "0 neighbors\n",
      "0 neighbors\n",
      "0 neighbors\n",
      "0 neighbors\n",
      "880/971\n",
      "0 neighbors\n",
      "0 neighbors\n",
      "0 neighbors\n",
      "0 neighbors\n",
      "0 neighbors\n",
      "0 neighbors\n",
      "0 neighbors\n",
      "0 neighbors\n",
      "0 neighbors\n",
      "0 neighbors\n",
      "890/971\n",
      "0 neighbors\n",
      "0 neighbors\n",
      "0 neighbors\n",
      "0 neighbors\n",
      "0 neighbors\n",
      "0 neighbors\n",
      "0 neighbors\n",
      "0 neighbors\n",
      "0 neighbors\n",
      "0 neighbors\n",
      "900/971\n",
      "0 neighbors\n",
      "0 neighbors\n",
      "0 neighbors\n",
      "0 neighbors\n",
      "0 neighbors\n",
      "0 neighbors\n",
      "0 neighbors\n",
      "0 neighbors\n",
      "0 neighbors\n",
      "0 neighbors\n",
      "910/971\n",
      "0 neighbors\n",
      "0 neighbors\n",
      "0 neighbors\n",
      "0 neighbors\n",
      "0 neighbors\n",
      "0 neighbors\n",
      "0 neighbors\n",
      "0 neighbors\n",
      "0 neighbors\n",
      "0 neighbors\n",
      "920/971\n",
      "0 neighbors\n",
      "0 neighbors\n",
      "0 neighbors\n",
      "0 neighbors\n",
      "0 neighbors\n",
      "0 neighbors\n",
      "0 neighbors\n",
      "0 neighbors\n",
      "0 neighbors\n",
      "0 neighbors\n",
      "930/971\n",
      "0 neighbors\n",
      "0 neighbors\n",
      "0 neighbors\n",
      "0 neighbors\n",
      "0 neighbors\n",
      "0 neighbors\n",
      "0 neighbors\n",
      "0 neighbors\n",
      "0 neighbors\n",
      "0 neighbors\n",
      "940/971\n",
      "0 neighbors\n",
      "0 neighbors\n",
      "0 neighbors\n",
      "0 neighbors\n",
      "0 neighbors\n",
      "0 neighbors\n",
      "0 neighbors\n",
      "0 neighbors\n",
      "0 neighbors\n",
      "0 neighbors\n",
      "950/971\n",
      "0 neighbors\n",
      "0 neighbors\n",
      "0 neighbors\n",
      "0 neighbors\n",
      "0 neighbors\n",
      "0 neighbors\n",
      "0 neighbors\n",
      "0 neighbors\n",
      "0 neighbors\n",
      "0 neighbors\n",
      "960/971\n",
      "0 neighbors\n",
      "0 neighbors\n",
      "0 neighbors\n",
      "0 neighbors\n",
      "0 neighbors\n",
      "0 neighbors\n",
      "0 neighbors\n",
      "0 neighbors\n",
      "0 neighbors\n",
      "0 neighbors\n",
      "970/971\n",
      "0 neighbors\n",
      "0 neighbors\n",
      "635.9925622940063\n"
     ]
    },
    {
     "name": "stderr",
     "output_type": "stream",
     "text": [
      "/home/pierre/anaconda3/conda/envs/pygmt/lib/python3.11/site-packages/shapely/linear.py:90: RuntimeWarning: invalid value encountered in line_locate_point\n",
      "  return lib.line_locate_point(line, other)\n"
     ]
    }
   ],
   "source": [
    "max_nb_neighbors=float('inf')\n",
    "t1=time.time()\n",
    "nodes_data['elevation']=None\n",
    "contour_line_ids=nodes_data['contour_line_id'].unique()\n",
    "contour_lines_ids=sorted(contour_line_ids,key=lambda contour_line_id:len(list(G.neighbors(contour_line_id))))\n",
    "contour_lines_ids=contour_lines_ids[::-1]\n",
    "print('sorted')\n",
    "for k,root_contour_line_id in enumerate(contour_lines_ids):\n",
    "    if (k+1)%10==0:\n",
    "        print('%i/%i'%(k+1,len(contour_line_ids)))\n",
    "    neighbor_contour_line_ids=list(G.neighbors(root_contour_line_id))\n",
    "    print('%i neighbors'%len(neighbor_contour_line_ids))\n",
    "    if 0<len(neighbor_contour_line_ids)<max_nb_neighbors:\n",
    "        t3=time.time()\n",
    "        local_contours_line_ids=[root_contour_line_id]+neighbor_contour_line_ids\n",
    "        local_contour_data=get_nodes_data(cursor,local_contours_line_ids)\n",
    "        local_contour_data=local_contour_data.to_crs(crs)\n",
    "        local_contour_data=local_contour_data.set_index('id')\n",
    "        t4=time.time()\n",
    "        print('setting up df took %f'%(t4-t3))\n",
    "        local_nodes_data=nodes_data[nodes_data.contour_line_id==root_contour_line_id].copy()\n",
    "        local_nodes_data['elevation']=local_nodes_data['geometry'].apply(lambda osm_pt:get_osm_node_elevation(osm_pt,local_contour_data))\n",
    "        nodes_data.loc[nodes_data.contour_line_id==root_contour_line_id,'elevation']=local_nodes_data.loc[:,'elevation']\n",
    "    \n",
    "        t5=time.time()\n",
    "        print('finding affine basis took %f'%(t5-t4))\n",
    "        print('intermediate time %f'%(t5-t1))\n",
    "t2=time.time()\n",
    "print(t2-t1)"
   ]
  },
  {
   "cell_type": "code",
   "execution_count": 10,
   "id": "04933ac7-af50-4ccf-8e06-0e658e4bdd3e",
   "metadata": {},
   "outputs": [
    {
     "data": {
      "text/plain": [
       "(-0.4596825749848179, 2.514590478087124, 2.5335205308406734, 4.999915106494939)"
      ]
     },
     "execution_count": 10,
     "metadata": {},
     "output_type": "execute_result"
    }
   ],
   "source": [
    "nodes_data=nodes_data[nodes_data.elevation==nodes_data.elevation]\n",
    "diffs=nodes_data['elevation']-nodes_data['contour_line_id'].apply(lambda node:G.nodes()[node]['elevation'])\n",
    "np.min(diffs),np.mean(diffs),np.median(diffs),np.max(diffs)\n",
    "                                                                  "
   ]
  },
  {
   "cell_type": "code",
   "execution_count": 11,
   "id": "943e0621-cc8a-4bc2-aa52-1455f1e5e244",
   "metadata": {},
   "outputs": [
    {
     "name": "stdout",
     "output_type": "stream",
     "text": [
      "0.8259708881378174\n"
     ]
    },
    {
     "data": {
      "text/plain": [
       "2"
      ]
     },
     "execution_count": 11,
     "metadata": {},
     "output_type": "execute_result"
    }
   ],
   "source": [
    "UPDATE_ELEVATION=True\n",
    "if UPDATE_ELEVATION:\n",
    "    t1=time.time()\n",
    "    cmd=\"\"\"CREATE TEMPORARY TABLE temp (\n",
    "    `osm_id` BIGINT NOT NULL,\n",
    "    `elevation` FLOAT NOT NULL\n",
    "\n",
    "    );\"\"\"\n",
    "    cursor.execute(cmd)\n",
    "\n",
    "    cmd=\"INSERT INTO temp(`osm_id`,`elevation`) VALUES %s\"%',\\n'.join(['(%i,%f)'%(osm_id,row['elevation']) for osm_id,row in nodes_data.iterrows()])\n",
    "    cursor.execute(cmd)\n",
    "\n",
    "    cmd=\"\"\" UPDATE %s JOIN temp\n",
    "    ON %s.osm_id=temp.osm_id\n",
    "    SET %s.elevation=temp.elevation\n",
    "\n",
    "    ;\"\"\"%(osm_nodes_table_name,osm_nodes_table_name,osm_nodes_table_name)\n",
    "    cursor.execute(cmd)\n",
    "    \n",
    "    cmd=\"DROP TABLE temp\"\n",
    "    cursor.execute(cmd)\n",
    "    t2=time.time()\n",
    "    print(t2-t1)\n",
    "2"
   ]
  },
  {
   "cell_type": "code",
   "execution_count": null,
   "id": "4c11e59f-c900-48e9-8306-c3e5333ce724",
   "metadata": {},
   "outputs": [],
   "source": []
  }
 ],
 "metadata": {
  "kernelspec": {
   "display_name": "pygmt",
   "language": "python",
   "name": "pygmt"
  },
  "language_info": {
   "codemirror_mode": {
    "name": "ipython",
    "version": 3
   },
   "file_extension": ".py",
   "mimetype": "text/x-python",
   "name": "python",
   "nbconvert_exporter": "python",
   "pygments_lexer": "ipython3",
   "version": "3.11.5"
  }
 },
 "nbformat": 4,
 "nbformat_minor": 5
}
