{
 "cells": [
  {
   "cell_type": "code",
   "execution_count": 1,
   "id": "91cb1570-0726-4199-86ee-4590d33ab05f",
   "metadata": {},
   "outputs": [],
   "source": [
    "%load_ext autoreload\n",
    "%autoreload 2\n",
    "%reload_ext autoreload\n",
    "import mysql.connector\n",
    "import networkx as nx\n",
    "import geopandas as gpd\n",
    "import pandas as pd\n",
    "from shapely.geometry import Polygon,MultiPolygon,LineString,MultiLineString,LinearRing,Point\n",
    "from shapely import symmetric_difference\n",
    "from shapely.ops import nearest_points\n",
    "from shapely.wkt import loads\n",
    "import scipy\n",
    "import time\n",
    "import numpy as np\n",
    "import random\n",
    "from networkx.drawing.nx_pydot import graphviz_layout\n",
    "import matplotlib.pyplot as plt\n",
    "import osmnx as ox\n",
    "import glob\n",
    "from itertools import combinations,product\n",
    "from copy import deepcopy\n",
    "import os\n",
    "from lib_contour_lines import *\n",
    "import mysql.connector\n"
   ]
  },
  {
   "cell_type": "code",
   "execution_count": 2,
   "id": "c9f989f5-f6ac-4235-9d4e-b8e678dcdf12",
   "metadata": {},
   "outputs": [
    {
     "data": {
      "text/plain": [
       "2"
      ]
     },
     "execution_count": 2,
     "metadata": {},
     "output_type": "execute_result"
    }
   ],
   "source": [
    "\n",
    "cnx = mysql.connector.connect(user='spirz', \n",
    "                              password='this_is_my_PASSWORD_m8',\n",
    "                              host='localhost',\n",
    "                              database='dem_from_contours_lines',\n",
    "                              autocommit=True)\n",
    "cursor = cnx.cursor(buffered=True,dictionary=True)\n",
    "contours_lines_table_name='contours_lines'\n",
    "###\n",
    "tree_edges_table_name=\"tree_edges\"\n",
    "####\n",
    "osm_nodes_table_name=\"osm_nodes\"\n",
    "osm_edges_table_name=\"osm_edges\"\n",
    "intersections_table_name=\"intersections\"\n",
    "2"
   ]
  },
  {
   "cell_type": "code",
   "execution_count": 3,
   "id": "13c7aa8a-510d-46a6-b24f-62cd7931020f",
   "metadata": {},
   "outputs": [
    {
     "data": {
      "text/plain": [
       "2"
      ]
     },
     "execution_count": 3,
     "metadata": {},
     "output_type": "execute_result"
    }
   ],
   "source": [
    "DELETE_TABLES=True\n",
    "if DELETE_TABLES:\n",
    "    cmd=\"\"\"DROP TABLE IF EXISTS `%s`\"\"\"%intersections_table_name\n",
    "    cursor.execute(cmd)\n",
    "    cmd=\"\"\"DROP TABLE IF EXISTS `%s`\"\"\"%osm_edges_table_name\n",
    "    cursor.execute(cmd)\n",
    "    cmd=\"\"\"DROP TABLE IF EXISTS `%s`\"\"\"%osm_nodes_table_name\n",
    "    cursor.execute(cmd)\n",
    "\n",
    "2"
   ]
  },
  {
   "cell_type": "code",
   "execution_count": 4,
   "id": "505e11cd-6b02-4422-bf40-ea3a6bce899d",
   "metadata": {},
   "outputs": [
    {
     "data": {
      "text/plain": [
       "2"
      ]
     },
     "execution_count": 4,
     "metadata": {},
     "output_type": "execute_result"
    }
   ],
   "source": [
    "CREATE_TABLES=True\n",
    "if CREATE_TABLES:\n",
    "    cmd=\"\"\"CREATE TABLE `%s`(\n",
    "    `osm_id` BIGINT NOT NULL,\n",
    "    `geometry` POINT NOT NULL,\n",
    "    `elevation` FLOAT,\n",
    "\n",
    "    PRIMARY KEY (osm_id)\n",
    "    );\n",
    "        \"\"\"%osm_nodes_table_name\n",
    "    \n",
    "    cursor.execute(cmd)\n",
    "\n",
    "    cmd=\"\"\"CREATE TABLE `%s`(\n",
    "    `osm_begin` BIGINT NOT NULL,\n",
    "    `osm_end` BIGINT NOT NULL,\n",
    "    `osm_key` INT NOT NULL,\n",
    "    `length` FLOAT NOT NULL,\n",
    "    `intersects` BOOLEAN,\n",
    "\n",
    "\n",
    "    FOREIGN KEY (osm_begin) REFERENCES %s(osm_id),\n",
    "    FOREIGN KEY (osm_end) REFERENCES %s(osm_id),\n",
    "    PRIMARY KEY (osm_begin,osm_end,osm_key)\n",
    "\n",
    "    );\n",
    "        \"\"\"%(osm_edges_table_name,osm_nodes_table_name,osm_nodes_table_name)\n",
    "    \n",
    "    cursor.execute(cmd)\n",
    "\n",
    "    \n",
    "    cmd=\"\"\"CREATE TABLE `%s`(\n",
    "        `id` INT NOT NULL AUTO_INCREMENT,\n",
    "        `osm_begin` BIGINT NOT NULL,\n",
    "        `osm_end` BIGINT NOT NULL,\n",
    "        `osm_key` INT NOT NULL,\n",
    "        `edge_coordinate` FLOAT NOT NULL,\n",
    "        `geometry` POINT NOT NULL,\n",
    "        `elevation` FLOAT NOT NULL,\n",
    "\n",
    "        FOREIGN KEY (osm_begin,osm_end,osm_key) REFERENCES %s(osm_begin,osm_end,osm_key),\n",
    "        UNIQUE (osm_begin,osm_end,osm_key,edge_coordinate),\n",
    "        PRIMARY KEY (id)\n",
    "\n",
    "          )\n",
    "          ENGINE=InnoDB;\n",
    "        \"\"\"%(intersections_table_name,osm_edges_table_name)\n",
    "    cursor.execute(cmd)\n",
    "    \n",
    "\n",
    "2"
   ]
  },
  {
   "cell_type": "code",
   "execution_count": 5,
   "id": "2120ff12-8df1-4ba5-9b25-1d5dc32820ac",
   "metadata": {},
   "outputs": [
    {
     "name": "stdout",
     "output_type": "stream",
     "text": [
      "0.7025086879730225\n"
     ]
    }
   ],
   "source": [
    "t1=time.time()\n",
    "G_contour=build_graph(cursor)\n",
    "max_depth=np.max([data['depth'] for _,data in G_contour.nodes(data=True)])\n",
    "t2=time.time()\n",
    "print(t2-t1)"
   ]
  },
  {
   "cell_type": "code",
   "execution_count": 7,
   "id": "bcd5eea0-29be-42b5-9aa4-5d2f765ae358",
   "metadata": {},
   "outputs": [
    {
     "name": "stdout",
     "output_type": "stream",
     "text": [
      "70.84442138671875\n"
     ]
    },
    {
     "data": {
      "text/plain": [
       "(17435, 20543)"
      ]
     },
     "execution_count": 7,
     "metadata": {},
     "output_type": "execute_result"
    }
   ],
   "source": [
    "t1=time.time()\n",
    "place_name='Corse, France'\n",
    "G_osm=ox.graph_from_place(place_name,network_type='drive')\n",
    "loops=[edge for edge in G_osm.edges() if edge[0]==edge[1]]\n",
    "G_osm.remove_edges_from(loops)\n",
    "G_osm=to_multi_graph(G_osm)\n",
    "osm_crs=ox.graph_to_gdfs(G_osm,edges=False).estimate_utm_crs()\n",
    "G_osm=ox.project_graph(G_osm,to_crs=osm_crs)\n",
    "add_missing_geometries(G_osm)\n",
    "t2=time.time()\n",
    "print(t2-t1)\n",
    "len(G_osm.nodes()),len(G_osm.edges())"
   ]
  },
  {
   "cell_type": "code",
   "execution_count": 8,
   "id": "4f2a5240-02d2-44e9-9610-34d75105d710",
   "metadata": {},
   "outputs": [
    {
     "name": "stdout",
     "output_type": "stream",
     "text": [
      "1.185530662536621\n"
     ]
    },
    {
     "data": {
      "text/html": [
       "<div>\n",
       "<style scoped>\n",
       "    .dataframe tbody tr th:only-of-type {\n",
       "        vertical-align: middle;\n",
       "    }\n",
       "\n",
       "    .dataframe tbody tr th {\n",
       "        vertical-align: top;\n",
       "    }\n",
       "\n",
       "    .dataframe thead th {\n",
       "        text-align: right;\n",
       "    }\n",
       "</style>\n",
       "<table border=\"1\" class=\"dataframe\">\n",
       "  <thead>\n",
       "    <tr style=\"text-align: right;\">\n",
       "      <th></th>\n",
       "      <th>edge</th>\n",
       "      <th>geometry</th>\n",
       "      <th>number_of_points</th>\n",
       "      <th>id_edge</th>\n",
       "    </tr>\n",
       "  </thead>\n",
       "  <tbody>\n",
       "    <tr>\n",
       "      <th>0</th>\n",
       "      <td>(14468319, 15905397, 0)</td>\n",
       "      <td>LINESTRING (525532.710 4599879.701, 525543.715...</td>\n",
       "      <td>82</td>\n",
       "      <td>0</td>\n",
       "    </tr>\n",
       "    <tr>\n",
       "      <th>1</th>\n",
       "      <td>(14468319, 1434053206, 0)</td>\n",
       "      <td>LINESTRING (525532.710 4599879.701, 525519.651...</td>\n",
       "      <td>4</td>\n",
       "      <td>1</td>\n",
       "    </tr>\n",
       "    <tr>\n",
       "      <th>2</th>\n",
       "      <td>(14468319, 1434053161, 0)</td>\n",
       "      <td>LINESTRING (525532.710 4599879.701, 525532.752...</td>\n",
       "      <td>20</td>\n",
       "      <td>2</td>\n",
       "    </tr>\n",
       "    <tr>\n",
       "      <th>3</th>\n",
       "      <td>(15905397, 1976904946, 0)</td>\n",
       "      <td>LINESTRING (526252.098 4600660.017, 526286.419...</td>\n",
       "      <td>12</td>\n",
       "      <td>3</td>\n",
       "    </tr>\n",
       "    <tr>\n",
       "      <th>4</th>\n",
       "      <td>(15905397, 1976906939, 0)</td>\n",
       "      <td>LINESTRING (526252.098 4600660.017, 526253.327...</td>\n",
       "      <td>7</td>\n",
       "      <td>4</td>\n",
       "    </tr>\n",
       "    <tr>\n",
       "      <th>...</th>\n",
       "      <td>...</td>\n",
       "      <td>...</td>\n",
       "      <td>...</td>\n",
       "      <td>...</td>\n",
       "    </tr>\n",
       "    <tr>\n",
       "      <th>20538</th>\n",
       "      <td>(9744995304, 9744995311, 0)</td>\n",
       "      <td>LINESTRING (496541.756 4720170.475, 496521.473...</td>\n",
       "      <td>2</td>\n",
       "      <td>20538</td>\n",
       "    </tr>\n",
       "    <tr>\n",
       "      <th>20539</th>\n",
       "      <td>(9744995304, 9744995310, 0)</td>\n",
       "      <td>LINESTRING (496541.756 4720170.475, 496558.928...</td>\n",
       "      <td>7</td>\n",
       "      <td>20539</td>\n",
       "    </tr>\n",
       "    <tr>\n",
       "      <th>20540</th>\n",
       "      <td>(9964974606, 9964974609, 0)</td>\n",
       "      <td>LINESTRING (494174.708 4719764.250, 494163.668...</td>\n",
       "      <td>4</td>\n",
       "      <td>20540</td>\n",
       "    </tr>\n",
       "    <tr>\n",
       "      <th>20541</th>\n",
       "      <td>(9964974610, 9964974611, 0)</td>\n",
       "      <td>LINESTRING (494100.379 4719512.527, 494038.489...</td>\n",
       "      <td>2</td>\n",
       "      <td>20541</td>\n",
       "    </tr>\n",
       "    <tr>\n",
       "      <th>20542</th>\n",
       "      <td>(11329589123, 11329589133, 0)</td>\n",
       "      <td>LINESTRING (493598.201 4718833.478, 493587.298...</td>\n",
       "      <td>11</td>\n",
       "      <td>20542</td>\n",
       "    </tr>\n",
       "  </tbody>\n",
       "</table>\n",
       "<p>20543 rows × 4 columns</p>\n",
       "</div>"
      ],
      "text/plain": [
       "                                edge  \\\n",
       "0            (14468319, 15905397, 0)   \n",
       "1          (14468319, 1434053206, 0)   \n",
       "2          (14468319, 1434053161, 0)   \n",
       "3          (15905397, 1976904946, 0)   \n",
       "4          (15905397, 1976906939, 0)   \n",
       "...                              ...   \n",
       "20538    (9744995304, 9744995311, 0)   \n",
       "20539    (9744995304, 9744995310, 0)   \n",
       "20540    (9964974606, 9964974609, 0)   \n",
       "20541    (9964974610, 9964974611, 0)   \n",
       "20542  (11329589123, 11329589133, 0)   \n",
       "\n",
       "                                                geometry  number_of_points  \\\n",
       "0      LINESTRING (525532.710 4599879.701, 525543.715...                82   \n",
       "1      LINESTRING (525532.710 4599879.701, 525519.651...                 4   \n",
       "2      LINESTRING (525532.710 4599879.701, 525532.752...                20   \n",
       "3      LINESTRING (526252.098 4600660.017, 526286.419...                12   \n",
       "4      LINESTRING (526252.098 4600660.017, 526253.327...                 7   \n",
       "...                                                  ...               ...   \n",
       "20538  LINESTRING (496541.756 4720170.475, 496521.473...                 2   \n",
       "20539  LINESTRING (496541.756 4720170.475, 496558.928...                 7   \n",
       "20540  LINESTRING (494174.708 4719764.250, 494163.668...                 4   \n",
       "20541  LINESTRING (494100.379 4719512.527, 494038.489...                 2   \n",
       "20542  LINESTRING (493598.201 4718833.478, 493587.298...                11   \n",
       "\n",
       "       id_edge  \n",
       "0            0  \n",
       "1            1  \n",
       "2            2  \n",
       "3            3  \n",
       "4            4  \n",
       "...        ...  \n",
       "20538    20538  \n",
       "20539    20539  \n",
       "20540    20540  \n",
       "20541    20541  \n",
       "20542    20542  \n",
       "\n",
       "[20543 rows x 4 columns]"
      ]
     },
     "execution_count": 8,
     "metadata": {},
     "output_type": "execute_result"
    }
   ],
   "source": [
    "t1=time.time()\n",
    "osm_edges_df=ox.graph_to_gdfs(G_osm,nodes=False,edges=True)\n",
    "osm_edges_df['edge']=osm_edges_df.index\n",
    "osm_edges_df=osm_edges_df.loc[:,['edge','geometry']]\n",
    "osm_edges_df['number_of_points']=osm_edges_df['geometry'].apply(lambda ls:len(ls.coords))\n",
    "osm_edges_df=osm_edges_df.set_index(np.arange(len(osm_edges_df)))\n",
    "osm_edges_df['id_edge']=osm_edges_df.index\n",
    "t2=time.time()\n",
    "print(t2-t1)\n",
    "osm_edges_df"
   ]
  },
  {
   "cell_type": "code",
   "execution_count": 9,
   "id": "23dbc805-740c-44f6-9e6c-f9341ede8526",
   "metadata": {
    "scrolled": true
   },
   "outputs": [
    {
     "name": "stdout",
     "output_type": "stream",
     "text": [
      "520<depth<=540 :0.113115 \n",
      "500<depth<=520 :0.123181 \n",
      "480<depth<=500 :0.216537 \n",
      "460<depth<=480 :0.290162 \n",
      "440<depth<=460 :0.465818 \n",
      "420<depth<=440 :0.814117 \n",
      "400<depth<=420 :1.193299 \n",
      "380<depth<=400 :1.724385 \n",
      "360<depth<=380 :2.106341 \n",
      "340<depth<=360 :2.484623 \n",
      "320<depth<=340 :2.956741 \n",
      "300<depth<=320 :3.692122 \n",
      "280<depth<=300 :4.273626 \n",
      "260<depth<=280 :4.890149 \n",
      "240<depth<=260 :5.390230 \n",
      "220<depth<=240 :6.539578 \n",
      "200<depth<=220 :9.137563 \n",
      "180<depth<=200 :10.474735 \n",
      "160<depth<=180 :13.282854 \n",
      "140<depth<=160 :14.816630 \n",
      "120<depth<=140 :18.219492 \n",
      "100<depth<=120 :22.554154 \n",
      "80<depth<=100 :30.766063 \n",
      "60<depth<=80 :33.395840 \n",
      "40<depth<=60 :35.797612 \n",
      "20<depth<=40 :41.018673 \n",
      "0<depth<=20 :64.664481 \n",
      "total : 331.407835 1\n"
     ]
    }
   ],
   "source": [
    "t1=time.time()\n",
    "intersection,depth=decreasing_depth_intersections(osm_edges_df,osm_crs,G_contour,cursor,max_depth,depth_step=20,max_delta_time_total=float('inf'),max_delta_time_per_level=float('inf'))\n",
    "t2=time.time()\n",
    "print('total : %f'%(t2-t1),depth)"
   ]
  },
  {
   "cell_type": "code",
   "execution_count": 10,
   "id": "4c0e4049-cd74-4b60-986b-4c00fbeaed45",
   "metadata": {},
   "outputs": [
    {
     "name": "stdout",
     "output_type": "stream",
     "text": [
      "12.351086854934692\n"
     ]
    }
   ],
   "source": [
    "ADD_OSM_DATA=True\n",
    "if ADD_OSM_DATA:\n",
    "    t1=time.time()\n",
    "    edges=osm_edges_df['edge']\n",
    "    osm_nodes_data=nx.edge_subgraph(G_osm,edges).nodes(data=True)\n",
    "    \n",
    "    string_list=',\\n'.join(['(%i,ST_GeomFromText(\\'%s\\'))'%(node,Point(data['lon'],data['lat']).wkt) for node,data in osm_nodes_data])\n",
    "    cmd=\"INSERT IGNORE INTO %s(osm_id,geometry) VALUES %s;\"%(osm_nodes_table_name,string_list)\n",
    "    cursor.execute(cmd)\n",
    "\n",
    "    intersecting_edges=intersection['edge'].unique()\n",
    "    string_list=',\\n'.join(['(%i,%i,%i,%f,TRUE)'%(edge[0],edge[1],edge[2],G_osm.get_edge_data(*edge)['length']) for edge in intersecting_edges])\n",
    "    cmd=\"INSERT INTO %s(osm_begin,osm_end,osm_key,length,intersects) VALUES %s;\"%(osm_edges_table_name,string_list)\n",
    "    cursor.execute(cmd)\n",
    "\n",
    "    inside_edges=set(edges).difference(intersecting_edges)\n",
    "\n",
    "    string_list=',\\n'.join(['(%i,%i,%i,%f,False)'%(edge[0],edge[1],edge[2],G_osm.get_edge_data(*edge)['length']) for edge in inside_edges])\n",
    "    cmd=\"INSERT INTO %s(osm_begin,osm_end,osm_key,length,intersects) VALUES %s;\"%(osm_edges_table_name,string_list)\n",
    "    cursor.execute(cmd)\n",
    "\n",
    "    intersection=intersection.to_crs('epsg:4326')\n",
    "    string_list=',\\n'.join(['(%i,%i,%i,%f,%f,ST_GeomFromText(\\'%s\\'))'%(row['edge'][0],row['edge'][1],row['edge'][2],row['edge_coordinate'],row['elevation'],row['geometry'].wkt)  for _,row in intersection.iterrows()])\n",
    "    cmd=\"INSERT INTO %s (`osm_begin`,`osm_end`,`osm_key`,`edge_coordinate`,`elevation`,`geometry`) VALUES %s;\"%(intersections_table_name,string_list)\n",
    "    cursor.execute(cmd)\n",
    "    \n",
    "    t2=time.time()\n",
    "    print(t2-t1)"
   ]
  },
  {
   "cell_type": "code",
   "execution_count": null,
   "id": "e8531304-8597-4a30-9460-4d3b55146a61",
   "metadata": {},
   "outputs": [],
   "source": []
  },
  {
   "cell_type": "code",
   "execution_count": null,
   "id": "c8a57ff9-96c3-4989-bc9c-451cc28d8b2d",
   "metadata": {},
   "outputs": [],
   "source": []
  },
  {
   "cell_type": "code",
   "execution_count": null,
   "id": "692d7b66-5d36-48bf-8104-df13fbd7da53",
   "metadata": {},
   "outputs": [],
   "source": []
  }
 ],
 "metadata": {
  "kernelspec": {
   "display_name": "pygmt",
   "language": "python",
   "name": "pygmt"
  },
  "language_info": {
   "codemirror_mode": {
    "name": "ipython",
    "version": 3
   },
   "file_extension": ".py",
   "mimetype": "text/x-python",
   "name": "python",
   "nbconvert_exporter": "python",
   "pygments_lexer": "ipython3",
   "version": "3.11.5"
  }
 },
 "nbformat": 4,
 "nbformat_minor": 5
}
