{
 "cells": [
  {
   "cell_type": "code",
   "execution_count": 1,
   "id": "91cb1570-0726-4199-86ee-4590d33ab05f",
   "metadata": {},
   "outputs": [],
   "source": [
    "%load_ext autoreload\n",
    "%autoreload 2\n",
    "%reload_ext autoreload\n",
    "import mysql.connector\n",
    "import networkx as nx\n",
    "import geopandas as gpd\n",
    "import pandas as pd\n",
    "from shapely.geometry import Polygon,MultiPolygon,LineString,MultiLineString,LinearRing,Point\n",
    "from shapely import symmetric_difference\n",
    "from shapely.ops import nearest_points\n",
    "from shapely.wkt import loads\n",
    "import scipy\n",
    "import time\n",
    "import numpy as np\n",
    "import random\n",
    "from networkx.drawing.nx_pydot import graphviz_layout\n",
    "import matplotlib.pyplot as plt\n",
    "import osmnx as ox\n",
    "import glob\n",
    "from itertools import combinations,product\n",
    "from copy import deepcopy\n",
    "import os\n",
    "from lib_contour_lines import *\n",
    "import mysql.connector\n"
   ]
  },
  {
   "cell_type": "code",
   "execution_count": 2,
   "id": "c9f989f5-f6ac-4235-9d4e-b8e678dcdf12",
   "metadata": {},
   "outputs": [
    {
     "data": {
      "text/plain": [
       "2"
      ]
     },
     "execution_count": 2,
     "metadata": {},
     "output_type": "execute_result"
    }
   ],
   "source": [
    "\n",
    "cnx = mysql.connector.connect(user='spirz', \n",
    "                              password='this_is_my_PASSWORD_m8',\n",
    "                              host='localhost',\n",
    "                              database='dem_from_contours_lines',\n",
    "                              autocommit=True)\n",
    "cursor = cnx.cursor(buffered=True,dictionary=True)\n",
    "contours_lines_table_name='contours_lines'\n",
    "tree_edges_table_name=\"tree_edges\"\n",
    "osm_nodes_table_name=\"osm_nodes\"\n",
    "osm_intersections_table_name=\"osm_intersections\"\n",
    "2"
   ]
  },
  {
   "cell_type": "code",
   "execution_count": 3,
   "id": "13c7aa8a-510d-46a6-b24f-62cd7931020f",
   "metadata": {},
   "outputs": [
    {
     "data": {
      "text/plain": [
       "2"
      ]
     },
     "execution_count": 3,
     "metadata": {},
     "output_type": "execute_result"
    }
   ],
   "source": [
    "DELETE_TABLES=True\n",
    "if DELETE_TABLES:\n",
    "    try:\n",
    "        cmd=\"\"\"DROP TABLE `%s`\"\"\"%osm_intersections_table_name\n",
    "        cursor.execute(cmd)\n",
    "    except Exception as e:\n",
    "        print(e)\n",
    "        pass\n",
    "    cmd=\"\"\"DROP TABLE `%s`\"\"\"%osm_nodes_table_name\n",
    "    cursor.execute(cmd)\n",
    "2"
   ]
  },
  {
   "cell_type": "code",
   "execution_count": 4,
   "id": "505e11cd-6b02-4422-bf40-ea3a6bce899d",
   "metadata": {},
   "outputs": [
    {
     "data": {
      "text/plain": [
       "2"
      ]
     },
     "execution_count": 4,
     "metadata": {},
     "output_type": "execute_result"
    }
   ],
   "source": [
    "CREATE_TABLES=True\n",
    "if CREATE_TABLES:\n",
    "    cmd=\"\"\"CREATE TABLE `%s`(\n",
    "    `osm_id` BIGINT NOT NULL,\n",
    "    `contour_line_id` INT NOT NULL,\n",
    "    `geometry` POINT NOT NULL,\n",
    "    `elevation` FLOAT,\n",
    "\n",
    "    FOREIGN KEY (contour_line_id) REFERENCES %s(id),\n",
    "    PRIMARY KEY (osm_id)\n",
    "    );\n",
    "        \"\"\"%(osm_nodes_table_name,contours_lines_table_name)\n",
    "    \n",
    "    cursor.execute(cmd)\n",
    "\n",
    "\n",
    "\n",
    "    \n",
    "    cmd=\"\"\"CREATE TABLE `%s`(\n",
    "        `osm_begin` BIGINT NOT NULL,\n",
    "        `osm_end` BIGINT NOT NULL,\n",
    "        `osm_key` INT NOT NULL,\n",
    "        `contour_line_id` INT NOT NULL,\n",
    "        `edge_coordinate` FLOAT NOT NULL,\n",
    "        `geometry` POINT NOT NULL,\n",
    "        `elevation` FLOAT NOT NULL,\n",
    "\n",
    "        FOREIGN KEY (osm_begin) REFERENCES %s(osm_id),\n",
    "        FOREIGN KEY (osm_end) REFERENCES %s(osm_id),\n",
    "        FOREIGN KEY (contour_line_id) REFERENCES %s(id),\n",
    "        PRIMARY KEY (osm_begin,osm_end,osm_key,edge_coordinate)\n",
    "        \n",
    "\n",
    "          )\n",
    "          ENGINE=InnoDB;\n",
    "        \"\"\"%(osm_intersections_table_name,osm_nodes_table_name,osm_nodes_table_name,contours_lines_table_name)\n",
    "    cursor.execute(cmd)\n",
    "    \n",
    "\n",
    "2"
   ]
  },
  {
   "cell_type": "code",
   "execution_count": 5,
   "id": "2120ff12-8df1-4ba5-9b25-1d5dc32820ac",
   "metadata": {},
   "outputs": [
    {
     "name": "stdout",
     "output_type": "stream",
     "text": [
      "0.6121253967285156\n"
     ]
    }
   ],
   "source": [
    "t1=time.time()\n",
    "G=build_graph(cursor)\n",
    "max_depth=np.max([data['depth'] for _,data in G.nodes(data=True)])\n",
    "t2=time.time()\n",
    "print(t2-t1)"
   ]
  },
  {
   "cell_type": "code",
   "execution_count": 6,
   "id": "bcd5eea0-29be-42b5-9aa4-5d2f765ae358",
   "metadata": {},
   "outputs": [
    {
     "name": "stdout",
     "output_type": "stream",
     "text": [
      "60.47334599494934\n"
     ]
    },
    {
     "data": {
      "text/plain": [
       "(17435, 20792)"
      ]
     },
     "execution_count": 6,
     "metadata": {},
     "output_type": "execute_result"
    }
   ],
   "source": [
    "t1=time.time()\n",
    "place_name='Corse, France'\n",
    "G_osm=ox.graph_from_place(place_name,network_type='drive')\n",
    "G_osm=to_multi_graph(G_osm)\n",
    "osm_crs=ox.graph_to_gdfs(G_osm,edges=False).estimate_utm_crs()\n",
    "G_osm=ox.project_graph(G_osm,to_crs=osm_crs)\n",
    "add_missing_geometries(G_osm)\n",
    "t2=time.time()\n",
    "print(t2-t1)\n",
    "len(G_osm.nodes()),len(G_osm.edges())"
   ]
  },
  {
   "cell_type": "code",
   "execution_count": 7,
   "id": "4f2a5240-02d2-44e9-9610-34d75105d710",
   "metadata": {},
   "outputs": [
    {
     "name": "stdout",
     "output_type": "stream",
     "text": [
      "0.3445167541503906\n"
     ]
    },
    {
     "data": {
      "text/html": [
       "<div>\n",
       "<style scoped>\n",
       "    .dataframe tbody tr th:only-of-type {\n",
       "        vertical-align: middle;\n",
       "    }\n",
       "\n",
       "    .dataframe tbody tr th {\n",
       "        vertical-align: top;\n",
       "    }\n",
       "\n",
       "    .dataframe thead th {\n",
       "        text-align: right;\n",
       "    }\n",
       "</style>\n",
       "<table border=\"1\" class=\"dataframe\">\n",
       "  <thead>\n",
       "    <tr style=\"text-align: right;\">\n",
       "      <th></th>\n",
       "      <th>edge</th>\n",
       "      <th>geometry</th>\n",
       "      <th>number_of_points</th>\n",
       "      <th>id_edge</th>\n",
       "    </tr>\n",
       "  </thead>\n",
       "  <tbody>\n",
       "    <tr>\n",
       "      <th>0</th>\n",
       "      <td>(14468319, 15905397, 0)</td>\n",
       "      <td>LINESTRING (525532.710 4599879.701, 525543.715...</td>\n",
       "      <td>82</td>\n",
       "      <td>0</td>\n",
       "    </tr>\n",
       "    <tr>\n",
       "      <th>1</th>\n",
       "      <td>(14468319, 1434053206, 0)</td>\n",
       "      <td>LINESTRING (525532.710 4599879.701, 525519.651...</td>\n",
       "      <td>4</td>\n",
       "      <td>1</td>\n",
       "    </tr>\n",
       "    <tr>\n",
       "      <th>2</th>\n",
       "      <td>(14468319, 1434053161, 0)</td>\n",
       "      <td>LINESTRING (525532.710 4599879.701, 525532.752...</td>\n",
       "      <td>20</td>\n",
       "      <td>2</td>\n",
       "    </tr>\n",
       "    <tr>\n",
       "      <th>3</th>\n",
       "      <td>(15905397, 1976904946, 0)</td>\n",
       "      <td>LINESTRING (526252.098 4600660.017, 526286.419...</td>\n",
       "      <td>12</td>\n",
       "      <td>3</td>\n",
       "    </tr>\n",
       "    <tr>\n",
       "      <th>4</th>\n",
       "      <td>(15905397, 1976906939, 0)</td>\n",
       "      <td>LINESTRING (526252.098 4600660.017, 526253.327...</td>\n",
       "      <td>7</td>\n",
       "      <td>4</td>\n",
       "    </tr>\n",
       "    <tr>\n",
       "      <th>...</th>\n",
       "      <td>...</td>\n",
       "      <td>...</td>\n",
       "      <td>...</td>\n",
       "      <td>...</td>\n",
       "    </tr>\n",
       "    <tr>\n",
       "      <th>20787</th>\n",
       "      <td>(9744995304, 9744995311, 0)</td>\n",
       "      <td>LINESTRING (496541.756 4720170.475, 496521.473...</td>\n",
       "      <td>2</td>\n",
       "      <td>20787</td>\n",
       "    </tr>\n",
       "    <tr>\n",
       "      <th>20788</th>\n",
       "      <td>(9744995304, 9744995310, 0)</td>\n",
       "      <td>LINESTRING (496541.756 4720170.475, 496558.928...</td>\n",
       "      <td>7</td>\n",
       "      <td>20788</td>\n",
       "    </tr>\n",
       "    <tr>\n",
       "      <th>20789</th>\n",
       "      <td>(9964974606, 9964974609, 0)</td>\n",
       "      <td>LINESTRING (494174.708 4719764.250, 494163.668...</td>\n",
       "      <td>4</td>\n",
       "      <td>20789</td>\n",
       "    </tr>\n",
       "    <tr>\n",
       "      <th>20790</th>\n",
       "      <td>(9964974610, 9964974611, 0)</td>\n",
       "      <td>LINESTRING (494100.379 4719512.527, 494038.489...</td>\n",
       "      <td>2</td>\n",
       "      <td>20790</td>\n",
       "    </tr>\n",
       "    <tr>\n",
       "      <th>20791</th>\n",
       "      <td>(11329589123, 11329589133, 0)</td>\n",
       "      <td>LINESTRING (493598.201 4718833.478, 493587.298...</td>\n",
       "      <td>11</td>\n",
       "      <td>20791</td>\n",
       "    </tr>\n",
       "  </tbody>\n",
       "</table>\n",
       "<p>20792 rows × 4 columns</p>\n",
       "</div>"
      ],
      "text/plain": [
       "                                edge  \\\n",
       "0            (14468319, 15905397, 0)   \n",
       "1          (14468319, 1434053206, 0)   \n",
       "2          (14468319, 1434053161, 0)   \n",
       "3          (15905397, 1976904946, 0)   \n",
       "4          (15905397, 1976906939, 0)   \n",
       "...                              ...   \n",
       "20787    (9744995304, 9744995311, 0)   \n",
       "20788    (9744995304, 9744995310, 0)   \n",
       "20789    (9964974606, 9964974609, 0)   \n",
       "20790    (9964974610, 9964974611, 0)   \n",
       "20791  (11329589123, 11329589133, 0)   \n",
       "\n",
       "                                                geometry  number_of_points  \\\n",
       "0      LINESTRING (525532.710 4599879.701, 525543.715...                82   \n",
       "1      LINESTRING (525532.710 4599879.701, 525519.651...                 4   \n",
       "2      LINESTRING (525532.710 4599879.701, 525532.752...                20   \n",
       "3      LINESTRING (526252.098 4600660.017, 526286.419...                12   \n",
       "4      LINESTRING (526252.098 4600660.017, 526253.327...                 7   \n",
       "...                                                  ...               ...   \n",
       "20787  LINESTRING (496541.756 4720170.475, 496521.473...                 2   \n",
       "20788  LINESTRING (496541.756 4720170.475, 496558.928...                 7   \n",
       "20789  LINESTRING (494174.708 4719764.250, 494163.668...                 4   \n",
       "20790  LINESTRING (494100.379 4719512.527, 494038.489...                 2   \n",
       "20791  LINESTRING (493598.201 4718833.478, 493587.298...                11   \n",
       "\n",
       "       id_edge  \n",
       "0            0  \n",
       "1            1  \n",
       "2            2  \n",
       "3            3  \n",
       "4            4  \n",
       "...        ...  \n",
       "20787    20787  \n",
       "20788    20788  \n",
       "20789    20789  \n",
       "20790    20790  \n",
       "20791    20791  \n",
       "\n",
       "[20792 rows x 4 columns]"
      ]
     },
     "execution_count": 7,
     "metadata": {},
     "output_type": "execute_result"
    }
   ],
   "source": [
    "t1=time.time()\n",
    "osm_edges_df=ox.graph_to_gdfs(G_osm,nodes=False,edges=True)\n",
    "osm_edges_df['edge']=osm_edges_df.index\n",
    "osm_edges_df=osm_edges_df.loc[:,['edge','geometry']]\n",
    "osm_edges_df['number_of_points']=osm_edges_df['geometry'].apply(lambda ls:len(ls.coords))\n",
    "#osm_edges_df=osm_edges_df.sort_values(by='length')\n",
    "osm_edges_df=osm_edges_df.set_index(np.arange(len(osm_edges_df)))\n",
    "osm_edges_df['id_edge']=osm_edges_df.index\n",
    "t2=time.time()\n",
    "print(t2-t1)\n",
    "osm_edges_df"
   ]
  },
  {
   "cell_type": "code",
   "execution_count": 8,
   "id": "23dbc805-740c-44f6-9e6c-f9341ede8526",
   "metadata": {
    "scrolled": true
   },
   "outputs": [
    {
     "name": "stdout",
     "output_type": "stream",
     "text": [
      "520<depth<=540 :0.086315 \n",
      "500<depth<=520 :0.099884 \n",
      "480<depth<=500 :0.176940 \n",
      "460<depth<=480 :0.296732 \n",
      "440<depth<=460 :0.419210 \n",
      "420<depth<=440 :0.681155 \n",
      "400<depth<=420 :1.012450 \n",
      "380<depth<=400 :1.468972 \n",
      "360<depth<=380 :1.909815 \n",
      "340<depth<=360 :2.339547 \n",
      "320<depth<=340 :2.782692 \n",
      "300<depth<=320 :3.213533 \n",
      "280<depth<=300 :3.753667 \n",
      "260<depth<=280 :4.361969 \n",
      "240<depth<=260 :5.022591 \n",
      "220<depth<=240 :6.075754 \n",
      "200<depth<=220 :7.207507 \n",
      "180<depth<=200 :8.609208 \n",
      "160<depth<=180 :11.326426 \n",
      "140<depth<=160 :12.605253 \n",
      "120<depth<=140 :14.737996 \n",
      "100<depth<=120 :18.016814 \n",
      "80<depth<=100 :24.630134 \n",
      "60<depth<=80 :27.030424 \n",
      "40<depth<=60 :27.530057 \n",
      "20<depth<=40 :32.127861 \n",
      "0<depth<=20 :48.924159 \n",
      "total : 266.452796 1\n"
     ]
    }
   ],
   "source": [
    "t1=time.time()\n",
    "intersection,depth=decreasing_depth_intersections(osm_edges_df,osm_crs,G,cursor,max_depth,depth_step=20,max_delta_time_total=float('inf'),max_delta_time_per_level=float('inf'))\n",
    "t2=time.time()\n",
    "print('total : %f'%(t2-t1),depth)"
   ]
  },
  {
   "cell_type": "code",
   "execution_count": 9,
   "id": "e71128f1-0281-4098-b232-400c23fabcb7",
   "metadata": {},
   "outputs": [
    {
     "name": "stdout",
     "output_type": "stream",
     "text": [
      "18.44852566719055\n"
     ]
    }
   ],
   "source": [
    "t1=time.time()\n",
    "pre_osm_nodes_to_contours={}\n",
    "for edge,df in intersection.groupby('edge'):\n",
    "    df=df.sort_values('edge_coordinate')\n",
    "    u,v=edge[:2]\n",
    "    if not u in pre_osm_nodes_to_contours:\n",
    "        pre_osm_nodes_to_contours[u]={df.iloc[0]['id']}\n",
    "    else:\n",
    "        pre_osm_nodes_to_contours[u].add(df.iloc[0]['id'])\n",
    "    if not v in pre_osm_nodes_to_contours:\n",
    "        pre_osm_nodes_to_contours[v]={df.iloc[-1]['id']}\n",
    "    else:\n",
    "        pre_osm_nodes_to_contours[v].add(df.iloc[-1]['id'])\n",
    "t2=time.time()\n",
    "print(t2-t1)"
   ]
  },
  {
   "cell_type": "code",
   "execution_count": 10,
   "id": "861b1adb-a18a-485b-9d6d-bd929ef88e2b",
   "metadata": {},
   "outputs": [
    {
     "name": "stdout",
     "output_type": "stream",
     "text": [
      "0.033653974533081055\n"
     ]
    }
   ],
   "source": [
    "t1=time.time()\n",
    "G_osm.remove_edges_from(intersection['edge'].unique())\n",
    "t2=time.time()\n",
    "print(t2-t1)"
   ]
  },
  {
   "cell_type": "code",
   "execution_count": 34,
   "id": "df7abac1-8857-4c0a-8c84-96eeb521d28f",
   "metadata": {},
   "outputs": [
    {
     "name": "stdout",
     "output_type": "stream",
     "text": [
      "0.15581655502319336\n"
     ]
    }
   ],
   "source": [
    "t1=time.time()\n",
    "CC=list(nx.connected_components(nx.Graph(G_osm)))\n",
    "pre_CC_to_contours={}\n",
    "for k,cc in enumerate(CC):\n",
    "    contours_ids=set()\n",
    "    for osm_node in cc:\n",
    "        if osm_node in pre_osm_nodes_to_contours:\n",
    "            contours_ids=contours_ids.union(pre_osm_nodes_to_contours[osm_node])\n",
    "    pre_CC_to_contours[k]=contours_ids\n",
    "\n",
    "t2=time.time()\n",
    "print(t2-t1)"
   ]
  },
  {
   "cell_type": "code",
   "execution_count": 35,
   "id": "723a6650-be58-40e9-93d0-b4e63cb64af1",
   "metadata": {},
   "outputs": [
    {
     "name": "stdout",
     "output_type": "stream",
     "text": [
      "0.059218645095825195\n"
     ]
    }
   ],
   "source": [
    "t1=time.time()\n",
    "CC_to_contours={}\n",
    "ambiguous_CC={}\n",
    "for k,contour_ids in pre_CC_to_contours.items():\n",
    "    if len(contour_ids)>1:\n",
    "        id_1,id_2=list(contour_ids)[:2]\n",
    "        if id_2 in G.neighbors(id_1):\n",
    "            CC_to_contours[k]=id_1\n",
    "        elif id_1 in G.neighbors(id_2):\n",
    "            CC_to_contours[k]=id_2\n",
    "        else:\n",
    "            predecessors=list(G.predecessors(id_2))\n",
    "            if len(predecessors)>0:\n",
    "                CC_to_contours[k]=predecessors[0]\n",
    "            else:\n",
    "                print('component is outside')\n",
    "\n",
    "    else:\n",
    "        ambiguous_CC[k]=list(contour_ids)[0]\n",
    "\n",
    "t2=time.time()\n",
    "print(t2-t1)"
   ]
  },
  {
   "cell_type": "code",
   "execution_count": 36,
   "id": "a1b70302-c2d3-471b-ad51-650b6bb6219a",
   "metadata": {},
   "outputs": [
    {
     "name": "stdout",
     "output_type": "stream",
     "text": [
      "0/834 : getting df : 4.469101, check intersections : 36.506065\n",
      "20/834 : getting df : 1.042049, check intersections : 5.593218\n",
      "40/834 : getting df : 3.374355, check intersections : 5.027795\n",
      "60/834 : getting df : 3.773641, check intersections : 12.359719\n",
      "80/834 : getting df : 2.662596, check intersections : 1.213182\n",
      "100/834 : getting df : 2.904058, check intersections : 6.164931\n",
      "120/834 : getting df : 1.824402, check intersections : 2.762881\n",
      "140/834 : getting df : 4.394578, check intersections : 3.463489\n",
      "160/834 : getting df : 1.719041, check intersections : 0.942913\n",
      "180/834 : getting df : 3.573067, check intersections : 1.410736\n",
      "200/834 : getting df : 5.173798, check intersections : 4.010985\n",
      "220/834 : getting df : 2.471097, check intersections : 3.085901\n",
      "240/834 : getting df : 3.983142, check intersections : 3.250366\n",
      "260/834 : getting df : 2.805376, check intersections : 0.949894\n",
      "280/834 : getting df : 2.785835, check intersections : 2.716578\n",
      "300/834 : getting df : 3.733400, check intersections : 2.539403\n",
      "320/834 : getting df : 3.872701, check intersections : 2.294797\n",
      "340/834 : getting df : 2.957258, check intersections : 0.971057\n",
      "360/834 : getting df : 4.975890, check intersections : 3.618916\n",
      "380/834 : getting df : 2.866701, check intersections : 2.372043\n",
      "400/834 : getting df : 2.316505, check intersections : 1.917136\n",
      "420/834 : getting df : 0.755461, check intersections : 0.123335\n",
      "440/834 : getting df : 2.890653, check intersections : 1.254581\n",
      "460/834 : getting df : 1.235782, check intersections : 0.869050\n",
      "480/834 : getting df : 1.912098, check intersections : 0.877500\n",
      "500/834 : getting df : 0.806093, check intersections : 0.967307\n",
      "520/834 : getting df : 0.955698, check intersections : 0.596984\n",
      "component is outside\n",
      "component is outside\n",
      "540/834 : getting df : 0.496116, check intersections : 0.062753\n",
      "560/834 : getting df : 0.137736, check intersections : 0.013207\n",
      "580/834 : getting df : 0.020856, check intersections : 0.008084\n",
      "600/834 : getting df : 0.023569, check intersections : 0.008070\n",
      "620/834 : getting df : 0.041395, check intersections : 0.009214\n",
      "640/834 : getting df : 0.053949, check intersections : 0.009396\n",
      "660/834 : getting df : 0.043902, check intersections : 0.008795\n",
      "680/834 : getting df : 0.014514, check intersections : 0.007596\n",
      "700/834 : getting df : 0.329991, check intersections : 0.028188\n",
      "720/834 : getting df : 0.017376, check intersections : 0.008040\n",
      "740/834 : getting df : 0.025326, check intersections : 0.007343\n",
      "760/834 : getting df : 0.336104, check intersections : 0.036993\n",
      "780/834 : getting df : 0.256963, check intersections : 0.022907\n",
      "800/834 : getting df : 1.663030, check intersections : 0.143618\n",
      "820/834 : getting df : 0.910471, check intersections : 0.051432\n",
      "188.91504168510437\n"
     ]
    }
   ],
   "source": [
    "contour_id_bunch_size=20\n",
    "\n",
    "t1=time.time()\n",
    "ambiguous_CC=pd.DataFrame([{'id_cc':k,'ambiguous_id_contour':v} for k,v in ambiguous_CC.items()])\n",
    "ambiguous_contours_ids=ambiguous_CC['ambiguous_id_contour'].unique()\n",
    "for i in range(0,len(ambiguous_contours_ids),contour_id_bunch_size):\n",
    "    t3=time.time()\n",
    "    ambiguous_contours_df=get_nodes_data(cursor,ambiguous_contours_ids[i:min(i+contour_id_bunch_size,len(ambiguous_contours_ids))])\n",
    "    ambiguous_contours_df=ambiguous_contours_df.set_index('id')\n",
    "    ambiguous_contours_df=ambiguous_contours_df.to_crs(osm_crs)\n",
    "    ambiguous_contours_df['geometry']=ambiguous_contours_df['geometry'].apply(lambda ls:Polygon(ls))\n",
    "    t4=time.time()\n",
    "    for ambiguous_id_contour,row in ambiguous_contours_df.iterrows():\n",
    "        polygon=row['geometry']\n",
    "        for id_cc in ambiguous_CC[ambiguous_CC.ambiguous_id_contour==ambiguous_id_contour]['id_cc']:\n",
    "            osm_node=random.choice(list(CC[id_cc]))\n",
    "            datum=G_osm.nodes()[osm_node]\n",
    "            pt=Point(datum['x'],datum['y'])\n",
    "            if pt.within(polygon):\n",
    "                CC_to_contours[id_cc]=ambiguous_id_contour\n",
    "            else:\n",
    "                predecessors=list(G.predecessors(ambiguous_id_contour))\n",
    "                if len(predecessors)>0:\n",
    "                    CC_to_contours[id_cc]=predecessors[0]\n",
    "                else:\n",
    "                    print('component is outside')\n",
    "    t5=time.time()\n",
    "    print('%i/%i : getting df : %f, check intersections : %f'%(i,len(ambiguous_contours_ids),t4-t3,t5-t4))\n",
    "\n",
    "t2=time.time()\n",
    "print(t2-t1)"
   ]
  },
  {
   "cell_type": "code",
   "execution_count": 37,
   "id": "065b8cb8-0f90-4e8f-8fac-5536375441ff",
   "metadata": {},
   "outputs": [
    {
     "data": {
      "text/plain": [
       "(10864, 10866)"
      ]
     },
     "execution_count": 37,
     "metadata": {},
     "output_type": "execute_result"
    }
   ],
   "source": [
    "len(CC_to_contours),len(CC)"
   ]
  },
  {
   "cell_type": "code",
   "execution_count": 40,
   "id": "0c4712ad-96dc-468c-8c3b-26fc09019fa9",
   "metadata": {},
   "outputs": [
    {
     "name": "stdout",
     "output_type": "stream",
     "text": [
      "0.17849254608154297\n"
     ]
    }
   ],
   "source": [
    "t1=time.time()\n",
    "inside_osm_nodes_data,outside_osm_nodes_data={},{}\n",
    "for k,cc in enumerate(CC):\n",
    "    if k in CC_to_contours:\n",
    "        for osm_node in cc:\n",
    "            inside_osm_nodes_data[osm_node]={'contour_line_id':CC_to_contours[k],'geometry':Point(G_osm.nodes()[osm_node]['lon'],G_osm.nodes()[osm_node]['lat'])}\n",
    "    else:\n",
    "        for osm_node in cc:\n",
    "            outside_osm_nodes_data[osm_node]={'geometry':Point(G_osm.nodes()[osm_node]['lon'],G_osm.nodes()[osm_node]['lat'])}\n",
    "        \n",
    "t2=time.time()\n",
    "print(t2-t1)"
   ]
  },
  {
   "cell_type": "code",
   "execution_count": 30,
   "id": "386acf1b-b61b-4b1a-a279-9a28c4c73155",
   "metadata": {},
   "outputs": [
    {
     "name": "stdout",
     "output_type": "stream",
     "text": [
      "141.03420782089233\n"
     ]
    }
   ],
   "source": [
    "ADD_OSM_DATA=True\n",
    "if ADD_OSM_DATA:\n",
    "    \n",
    "    t1=time.time()\n",
    "    string_list=',\\n'.join(['(%i,%i,ST_GeomFromText(\\'%s\\'))'%(osm_id,d['contour_line_id'],d['geometry'].wkt) for osm_id,d in osm_nodes_data_with_contours.items()])\n",
    "    cmd=\"INSERT INTO %s (`osm_id`,`contour_line_id`,`geometry`) VALUES %s;\"%(osm_nodes_table_name,string_list)\n",
    "    cursor.execute(cmd)\n",
    "\n",
    "    string_list=',\\n'.join(['(%i,%i,ST_GeomFromText(\\'%s\\'))'%(osm_id,,d['geometry'].wkt) for osm_id,d in osm_nodes_data_without_contours.items()])\n",
    "    cmd=\"INSERT INTO %s (`osm_id`,`geometry`) VALUES %s;\"%(osm_nodes_table_name,string_list)\n",
    "    cursor.execute(cmd)\n",
    "    \n",
    "    intersection=intersection.to_crs('epsg:4326')\n",
    "    string_list=',\\n'.join(['(%i,%i,%i,%i,%f,%f,ST_GeomFromText(\\'%s\\'))'%(row['id'],row['edge'][0],row['edge'][1],row['edge'][2],row['edge_coordinate'],row['elevation'],row['geometry'].wkt)  for _,row in intersection.iterrows()])\n",
    "    cmd=\"INSERT INTO %s (`contour_line_id`,`osm_begin`,`osm_end`,`osm_key`,`edge_coordinate`,`elevation`,`geometry`) VALUES %s;\"%(osm_intersections_table_name,string_list)\n",
    "    cursor.execute(cmd)\n",
    "    t2=time.time()\n",
    "    print(t2-t1)"
   ]
  },
  {
   "cell_type": "code",
   "execution_count": null,
   "id": "245cdb51-ea44-4338-8879-8a46a3b24262",
   "metadata": {},
   "outputs": [],
   "source": []
  }
 ],
 "metadata": {
  "kernelspec": {
   "display_name": "pygmt",
   "language": "python",
   "name": "pygmt"
  },
  "language_info": {
   "codemirror_mode": {
    "name": "ipython",
    "version": 3
   },
   "file_extension": ".py",
   "mimetype": "text/x-python",
   "name": "python",
   "nbconvert_exporter": "python",
   "pygments_lexer": "ipython3",
   "version": "3.11.5"
  }
 },
 "nbformat": 4,
 "nbformat_minor": 5
}
