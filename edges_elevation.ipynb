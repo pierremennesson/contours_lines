{
 "cells": [
  {
   "cell_type": "code",
   "execution_count": 5,
   "id": "91cb1570-0726-4199-86ee-4590d33ab05f",
   "metadata": {},
   "outputs": [
    {
     "name": "stdout",
     "output_type": "stream",
     "text": [
      "The autoreload extension is already loaded. To reload it, use:\n",
      "  %reload_ext autoreload\n"
     ]
    }
   ],
   "source": [
    "%load_ext autoreload\n",
    "%autoreload 2\n",
    "%reload_ext autoreload\n",
    "import mysql.connector\n",
    "import networkx as nx\n",
    "import geopandas as gpd\n",
    "import pandas as pd\n",
    "from shapely.geometry import Polygon,MultiPolygon,LineString,MultiLineString,LinearRing,Point\n",
    "from shapely import symmetric_difference\n",
    "from shapely.ops import nearest_points\n",
    "from shapely.wkt import loads\n",
    "import scipy\n",
    "import time\n",
    "import numpy as np\n",
    "import random\n",
    "from networkx.drawing.nx_pydot import graphviz_layout\n",
    "import matplotlib.pyplot as plt\n",
    "import osmnx as ox\n",
    "import glob\n",
    "from itertools import combinations,product\n",
    "from copy import deepcopy\n",
    "import os\n",
    "from lib_contour_lines import *\n",
    "import mysql.connector\n"
   ]
  },
  {
   "cell_type": "code",
   "execution_count": 6,
   "id": "c9f989f5-f6ac-4235-9d4e-b8e678dcdf12",
   "metadata": {},
   "outputs": [
    {
     "data": {
      "text/plain": [
       "2"
      ]
     },
     "execution_count": 6,
     "metadata": {},
     "output_type": "execute_result"
    }
   ],
   "source": [
    "\n",
    "user='spirz'\n",
    "password='this_is_my_PASSWORD_m8'\n",
    "host='localhost'\n",
    "database='dem_from_contours_lines'\n",
    "contours_lines_table_name='contours_lines'\n",
    "osm_nodes_table_name=\"osm_nodes\"\n",
    "osm_edges_table_name=\"osm_edges\"\n",
    "intersections_table_name=\"intersections\"\n",
    "\n",
    "\n",
    "2"
   ]
  },
  {
   "cell_type": "code",
   "execution_count": 7,
   "id": "1386e286-2824-44d1-8a05-0aa13aa5d3e6",
   "metadata": {},
   "outputs": [
    {
     "data": {
      "text/plain": [
       "2"
      ]
     },
     "execution_count": 7,
     "metadata": {},
     "output_type": "execute_result"
    }
   ],
   "source": [
    "DBM=DataBaseManager(user=user,password=password,host=host,database=database,\n",
    "            contours_lines_table_name=contours_lines_table_name,\n",
    "            osm_nodes_table_name=osm_nodes_table_name,\n",
    "            osm_edges_table_name=osm_edges_table_name,\n",
    "            intersections_table_name=intersections_table_name)\n",
    "2"
   ]
  },
  {
   "cell_type": "code",
   "execution_count": 8,
   "id": "06ce65d7-9830-4551-9cee-9274be8a0ac6",
   "metadata": {},
   "outputs": [
    {
     "name": "stdout",
     "output_type": "stream",
     "text": [
      "0.3249506950378418\n"
     ]
    }
   ],
   "source": [
    "t1=time.time()\n",
    "DBM.create_tables_v2()\n",
    "t2=time.time()\n",
    "print(t2-t1)"
   ]
  },
  {
   "cell_type": "code",
   "execution_count": 9,
   "id": "bcd5eea0-29be-42b5-9aa4-5d2f765ae358",
   "metadata": {},
   "outputs": [
    {
     "name": "stdout",
     "output_type": "stream",
     "text": [
      "57.80548858642578\n"
     ]
    }
   ],
   "source": [
    "t1=time.time()\n",
    "place_name='Corse, France'\n",
    "G_osm=ox.graph_from_place(place_name,network_type='drive')\n",
    "\n",
    "t2=time.time()\n",
    "print(t2-t1)\n"
   ]
  },
  {
   "cell_type": "code",
   "execution_count": 10,
   "id": "790c0b0a-d7e2-471b-b912-df9b13c84ea4",
   "metadata": {},
   "outputs": [
    {
     "name": "stdout",
     "output_type": "stream",
     "text": [
      "10.765629291534424\n"
     ]
    }
   ],
   "source": [
    "t1=time.time()\n",
    "G_osm,osm_crs=preprocess_osm_graph(G_osm)\n",
    "t2=time.time()\n",
    "print(t2-t1)"
   ]
  },
  {
   "cell_type": "code",
   "execution_count": 11,
   "id": "4c0e4049-cd74-4b60-986b-4c00fbeaed45",
   "metadata": {},
   "outputs": [
    {
     "name": "stdout",
     "output_type": "stream",
     "text": [
      "0.000000<=elevation<50.000000 :26.046103 \n",
      "50.000000<=elevation<100.000000 :27.379635 \n",
      "100.000000<=elevation<150.000000 :19.476253 \n",
      "150.000000<=elevation<200.000000 :17.374332 \n",
      "200.000000<=elevation<250.000000 :14.727903 \n",
      "250.000000<=elevation<300.000000 :14.602582 \n",
      "300.000000<=elevation<350.000000 :14.450834 \n",
      "350.000000<=elevation<400.000000 :13.899521 \n",
      "400.000000<=elevation<450.000000 :13.407706 \n",
      "450.000000<=elevation<500.000000 :13.203072 \n",
      "500.000000<=elevation<550.000000 :11.298123 \n",
      "550.000000<=elevation<600.000000 :8.982699 \n",
      "600.000000<=elevation<650.000000 :8.246095 \n",
      "650.000000<=elevation<700.000000 :7.586236 \n",
      "700.000000<=elevation<750.000000 :7.162674 \n",
      "750.000000<=elevation<800.000000 :6.524789 \n",
      "800.000000<=elevation<850.000000 :6.096663 \n",
      "850.000000<=elevation<900.000000 :5.372213 \n",
      "900.000000<=elevation<950.000000 :4.703198 \n",
      "950.000000<=elevation<1000.000000 :4.317149 \n",
      "1000.000000<=elevation<1050.000000 :4.038009 \n",
      "1050.000000<=elevation<1100.000000 :3.853096 \n",
      "1100.000000<=elevation<1150.000000 :3.590838 \n",
      "1150.000000<=elevation<1200.000000 :3.246483 \n",
      "1200.000000<=elevation<1250.000000 :2.965772 \n",
      "1250.000000<=elevation<1300.000000 :2.622680 \n",
      "1300.000000<=elevation<1350.000000 :2.421202 \n",
      "1350.000000<=elevation<1400.000000 :2.302604 \n",
      "1400.000000<=elevation<1450.000000 :2.194100 \n",
      "1450.000000<=elevation<1500.000000 :1.958176 \n",
      "1500.000000<=elevation<1550.000000 :1.879166 \n",
      "1550.000000<=elevation<1600.000000 :1.892035 \n",
      "1600.000000<=elevation<1650.000000 :1.585318 \n",
      "1650.000000<=elevation<1700.000000 :1.360437 \n",
      "1700.000000<=elevation<1750.000000 :1.372435 \n",
      "1750.000000<=elevation<1800.000000 :1.203906 \n",
      "1800.000000<=elevation<1850.000000 :1.157943 \n",
      "1850.000000<=elevation<1900.000000 :0.951072 \n",
      "1900.000000<=elevation<1950.000000 :0.861522 \n",
      "1950.000000<=elevation<2000.000000 :0.722382 \n",
      "2000.000000<=elevation<2050.000000 :0.661117 \n",
      "2050.000000<=elevation<2100.000000 :0.570809 \n",
      "2100.000000<=elevation<2150.000000 :0.434558 \n",
      "2150.000000<=elevation<2200.000000 :0.379289 \n",
      "2200.000000<=elevation<2250.000000 :0.299334 \n",
      "2250.000000<=elevation<2300.000000 :0.231286 \n",
      "2300.000000<=elevation<2350.000000 :0.225231 \n",
      "2350.000000<=elevation<2400.000000 :0.175325 \n",
      "2400.000000<=elevation<2450.000000 :0.145130 \n",
      "2450.000000<=elevation<2500.000000 :0.112196 \n",
      "2500.000000<=elevation<2550.000000 :0.094614 \n",
      "2550.000000<=elevation<2600.000000 :0.085105 \n",
      "2600.000000<=elevation<2650.000000 :0.072186 \n",
      "304.00636315345764\n"
     ]
    },
    {
     "data": {
      "text/plain": [
       "2"
      ]
     },
     "execution_count": 11,
     "metadata": {},
     "output_type": "execute_result"
    }
   ],
   "source": [
    "ADD_OSM_DATA=True\n",
    "if ADD_OSM_DATA:\n",
    "    t1=time.time()\n",
    "    DBM.compute_all_intersections(G_osm,osm_crs)    \n",
    "    t2=time.time()\n",
    "    print(t2-t1)\n",
    "2"
   ]
  },
  {
   "cell_type": "code",
   "execution_count": 8,
   "id": "7904dc0e-9d90-4468-807f-aa9ce7372fe0",
   "metadata": {},
   "outputs": [
    {
     "data": {
      "text/plain": [
       "638.7775819301605"
      ]
     },
     "execution_count": 8,
     "metadata": {},
     "output_type": "execute_result"
    }
   ],
   "source": [
    "638.7775819301605"
   ]
  }
 ],
 "metadata": {
  "kernelspec": {
   "display_name": "pygmt",
   "language": "python",
   "name": "pygmt"
  },
  "language_info": {
   "codemirror_mode": {
    "name": "ipython",
    "version": 3
   },
   "file_extension": ".py",
   "mimetype": "text/x-python",
   "name": "python",
   "nbconvert_exporter": "python",
   "pygments_lexer": "ipython3",
   "version": "3.11.5"
  }
 },
 "nbformat": 4,
 "nbformat_minor": 5
}
