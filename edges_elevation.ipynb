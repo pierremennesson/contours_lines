{
 "cells": [
  {
   "cell_type": "code",
   "execution_count": 1,
   "id": "91cb1570-0726-4199-86ee-4590d33ab05f",
   "metadata": {},
   "outputs": [],
   "source": [
    "%load_ext autoreload\n",
    "%autoreload 2\n",
    "%reload_ext autoreload\n",
    "import mysql.connector\n",
    "import networkx as nx\n",
    "import geopandas as gpd\n",
    "import pandas as pd\n",
    "from shapely.geometry import Polygon,MultiPolygon,LineString,MultiLineString,LinearRing,Point\n",
    "from shapely import symmetric_difference\n",
    "from shapely.ops import nearest_points\n",
    "from shapely.wkt import loads\n",
    "import scipy\n",
    "import time\n",
    "import numpy as np\n",
    "import random\n",
    "from networkx.drawing.nx_pydot import graphviz_layout\n",
    "import matplotlib.pyplot as plt\n",
    "import osmnx as ox\n",
    "import glob\n",
    "from itertools import combinations,product\n",
    "from copy import deepcopy\n",
    "import os\n",
    "from lib_contour_lines import *\n",
    "import mysql.connector\n"
   ]
  },
  {
   "cell_type": "code",
   "execution_count": 2,
   "id": "c9f989f5-f6ac-4235-9d4e-b8e678dcdf12",
   "metadata": {},
   "outputs": [
    {
     "data": {
      "text/plain": [
       "2"
      ]
     },
     "execution_count": 2,
     "metadata": {},
     "output_type": "execute_result"
    }
   ],
   "source": [
    "\n",
    "cnx = mysql.connector.connect(user='spirz', \n",
    "                              password='this_is_my_PASSWORD_m8',\n",
    "                              host='localhost',\n",
    "                              database='dem_from_contours_lines',\n",
    "                              autocommit=True)\n",
    "cursor = cnx.cursor(buffered=True,dictionary=True)\n",
    "contours_lines_table_name='contours_lines'\n",
    "tree_edges_table_name=\"tree_edges\"\n",
    "osm_nodes_table_name=\"osm_nodes\"\n",
    "osm_intersections_table_name=\"osm_intersections\"\n",
    "2"
   ]
  },
  {
   "cell_type": "code",
   "execution_count": 3,
   "id": "13c7aa8a-510d-46a6-b24f-62cd7931020f",
   "metadata": {},
   "outputs": [
    {
     "data": {
      "text/plain": [
       "2"
      ]
     },
     "execution_count": 3,
     "metadata": {},
     "output_type": "execute_result"
    }
   ],
   "source": [
    "DELETE_TABLES=True\n",
    "if DELETE_TABLES:\n",
    "    try:\n",
    "        cmd=\"\"\"DROP TABLE `%s`\"\"\"%osm_intersections_table_name\n",
    "        cursor.execute(cmd)\n",
    "    except Exception as e:\n",
    "        print(e)\n",
    "        pass\n",
    "    cmd=\"\"\"DROP TABLE `%s`\"\"\"%osm_nodes_table_name\n",
    "    cursor.execute(cmd)\n",
    "2"
   ]
  },
  {
   "cell_type": "code",
   "execution_count": 4,
   "id": "505e11cd-6b02-4422-bf40-ea3a6bce899d",
   "metadata": {},
   "outputs": [
    {
     "data": {
      "text/plain": [
       "2"
      ]
     },
     "execution_count": 4,
     "metadata": {},
     "output_type": "execute_result"
    }
   ],
   "source": [
    "CREATE_TABLES=True\n",
    "if CREATE_TABLES:\n",
    "    cmd=\"\"\"CREATE TABLE `%s`(\n",
    "    `osm_id` BIGINT NOT NULL,\n",
    "    `contour_line_id` INT,\n",
    "    `geometry` POINT NOT NULL,\n",
    "    `elevation` FLOAT,\n",
    "\n",
    "    FOREIGN KEY (contour_line_id) REFERENCES %s(id),\n",
    "    PRIMARY KEY (osm_id)\n",
    "    );\n",
    "        \"\"\"%(osm_nodes_table_name,contours_lines_table_name)\n",
    "    \n",
    "    cursor.execute(cmd)\n",
    "\n",
    "\n",
    "\n",
    "    \n",
    "    cmd=\"\"\"CREATE TABLE `%s`(\n",
    "        `osm_begin` BIGINT NOT NULL,\n",
    "        `osm_end` BIGINT NOT NULL,\n",
    "        `osm_key` INT NOT NULL,\n",
    "        `contour_line_id` INT NOT NULL,\n",
    "        `edge_coordinate` FLOAT NOT NULL,\n",
    "        `geometry` POINT NOT NULL,\n",
    "        `elevation` FLOAT NOT NULL,\n",
    "\n",
    "        FOREIGN KEY (osm_begin) REFERENCES %s(osm_id),\n",
    "        FOREIGN KEY (osm_end) REFERENCES %s(osm_id),\n",
    "        FOREIGN KEY (contour_line_id) REFERENCES %s(id),\n",
    "        PRIMARY KEY (osm_begin,osm_end,osm_key,edge_coordinate)\n",
    "        \n",
    "\n",
    "          )\n",
    "          ENGINE=InnoDB;\n",
    "        \"\"\"%(osm_intersections_table_name,osm_nodes_table_name,osm_nodes_table_name,contours_lines_table_name)\n",
    "    cursor.execute(cmd)\n",
    "    \n",
    "\n",
    "2"
   ]
  },
  {
   "cell_type": "code",
   "execution_count": 5,
   "id": "2120ff12-8df1-4ba5-9b25-1d5dc32820ac",
   "metadata": {},
   "outputs": [
    {
     "name": "stdout",
     "output_type": "stream",
     "text": [
      "0.6394138336181641\n"
     ]
    }
   ],
   "source": [
    "t1=time.time()\n",
    "G=build_graph(cursor)\n",
    "max_depth=np.max([data['depth'] for _,data in G.nodes(data=True)])\n",
    "t2=time.time()\n",
    "print(t2-t1)"
   ]
  },
  {
   "cell_type": "code",
   "execution_count": 6,
   "id": "bcd5eea0-29be-42b5-9aa4-5d2f765ae358",
   "metadata": {},
   "outputs": [
    {
     "name": "stdout",
     "output_type": "stream",
     "text": [
      "540.1164090633392\n"
     ]
    },
    {
     "data": {
      "text/plain": [
       "(83574, 102644)"
      ]
     },
     "execution_count": 6,
     "metadata": {},
     "output_type": "execute_result"
    }
   ],
   "source": [
    "t1=time.time()\n",
    "place_name='Corse, France'\n",
    "G_osm=ox.graph_from_place(place_name,network_type='all_private')\n",
    "G_osm=to_multi_graph(G_osm)\n",
    "osm_crs=ox.graph_to_gdfs(G_osm,edges=False).estimate_utm_crs()\n",
    "G_osm=ox.project_graph(G_osm,to_crs=osm_crs)\n",
    "add_missing_geometries(G_osm)\n",
    "t2=time.time()\n",
    "print(t2-t1)\n",
    "len(G_osm.nodes()),len(G_osm.edges())"
   ]
  },
  {
   "cell_type": "code",
   "execution_count": 7,
   "id": "4f2a5240-02d2-44e9-9610-34d75105d710",
   "metadata": {},
   "outputs": [
    {
     "name": "stdout",
     "output_type": "stream",
     "text": [
      "2.900575637817383\n"
     ]
    },
    {
     "data": {
      "text/html": [
       "<div>\n",
       "<style scoped>\n",
       "    .dataframe tbody tr th:only-of-type {\n",
       "        vertical-align: middle;\n",
       "    }\n",
       "\n",
       "    .dataframe tbody tr th {\n",
       "        vertical-align: top;\n",
       "    }\n",
       "\n",
       "    .dataframe thead th {\n",
       "        text-align: right;\n",
       "    }\n",
       "</style>\n",
       "<table border=\"1\" class=\"dataframe\">\n",
       "  <thead>\n",
       "    <tr style=\"text-align: right;\">\n",
       "      <th></th>\n",
       "      <th>edge</th>\n",
       "      <th>geometry</th>\n",
       "      <th>number_of_points</th>\n",
       "      <th>id_edge</th>\n",
       "    </tr>\n",
       "  </thead>\n",
       "  <tbody>\n",
       "    <tr>\n",
       "      <th>0</th>\n",
       "      <td>(14468318, 15905423, 0)</td>\n",
       "      <td>LINESTRING (525561.716 4599894.093, 525588.264...</td>\n",
       "      <td>5</td>\n",
       "      <td>0</td>\n",
       "    </tr>\n",
       "    <tr>\n",
       "      <th>1</th>\n",
       "      <td>(14468318, 510388434, 0)</td>\n",
       "      <td>LINESTRING (525561.716 4599894.093, 525576.103...</td>\n",
       "      <td>3</td>\n",
       "      <td>1</td>\n",
       "    </tr>\n",
       "    <tr>\n",
       "      <th>2</th>\n",
       "      <td>(14468318, 5857486694, 0)</td>\n",
       "      <td>LINESTRING (525561.716 4599894.093, 525551.015...</td>\n",
       "      <td>3</td>\n",
       "      <td>2</td>\n",
       "    </tr>\n",
       "    <tr>\n",
       "      <th>3</th>\n",
       "      <td>(510388434, 1434053246, 0)</td>\n",
       "      <td>LINESTRING (525589.280 4599947.781, 525609.009...</td>\n",
       "      <td>8</td>\n",
       "      <td>3</td>\n",
       "    </tr>\n",
       "    <tr>\n",
       "      <th>4</th>\n",
       "      <td>(510388434, 1434053223, 0)</td>\n",
       "      <td>LINESTRING (525589.280 4599947.781, 525578.049...</td>\n",
       "      <td>8</td>\n",
       "      <td>4</td>\n",
       "    </tr>\n",
       "    <tr>\n",
       "      <th>...</th>\n",
       "      <td>...</td>\n",
       "      <td>...</td>\n",
       "      <td>...</td>\n",
       "      <td>...</td>\n",
       "    </tr>\n",
       "    <tr>\n",
       "      <th>102639</th>\n",
       "      <td>(11304366184, 11304366185, 0)</td>\n",
       "      <td>LINESTRING (494097.672 4719579.054, 494140.238...</td>\n",
       "      <td>2</td>\n",
       "      <td>102639</td>\n",
       "    </tr>\n",
       "    <tr>\n",
       "      <th>102640</th>\n",
       "      <td>(11304366184, 11304366187, 0)</td>\n",
       "      <td>LINESTRING (494097.672 4719579.054, 494085.250...</td>\n",
       "      <td>3</td>\n",
       "      <td>102640</td>\n",
       "    </tr>\n",
       "    <tr>\n",
       "      <th>102641</th>\n",
       "      <td>(11304366220, 11304366221, 0)</td>\n",
       "      <td>LINESTRING (494208.672 4719716.551, 494192.415...</td>\n",
       "      <td>2</td>\n",
       "      <td>102641</td>\n",
       "    </tr>\n",
       "    <tr>\n",
       "      <th>102642</th>\n",
       "      <td>(11304366220, 11304366222, 0)</td>\n",
       "      <td>LINESTRING (494208.672 4719716.551, 494237.383...</td>\n",
       "      <td>2</td>\n",
       "      <td>102642</td>\n",
       "    </tr>\n",
       "    <tr>\n",
       "      <th>102643</th>\n",
       "      <td>(11329589123, 11329589133, 0)</td>\n",
       "      <td>LINESTRING (493598.201 4718833.478, 493587.298...</td>\n",
       "      <td>11</td>\n",
       "      <td>102643</td>\n",
       "    </tr>\n",
       "  </tbody>\n",
       "</table>\n",
       "<p>102644 rows × 4 columns</p>\n",
       "</div>"
      ],
      "text/plain": [
       "                                 edge  \\\n",
       "0             (14468318, 15905423, 0)   \n",
       "1            (14468318, 510388434, 0)   \n",
       "2           (14468318, 5857486694, 0)   \n",
       "3          (510388434, 1434053246, 0)   \n",
       "4          (510388434, 1434053223, 0)   \n",
       "...                               ...   \n",
       "102639  (11304366184, 11304366185, 0)   \n",
       "102640  (11304366184, 11304366187, 0)   \n",
       "102641  (11304366220, 11304366221, 0)   \n",
       "102642  (11304366220, 11304366222, 0)   \n",
       "102643  (11329589123, 11329589133, 0)   \n",
       "\n",
       "                                                 geometry  number_of_points  \\\n",
       "0       LINESTRING (525561.716 4599894.093, 525588.264...                 5   \n",
       "1       LINESTRING (525561.716 4599894.093, 525576.103...                 3   \n",
       "2       LINESTRING (525561.716 4599894.093, 525551.015...                 3   \n",
       "3       LINESTRING (525589.280 4599947.781, 525609.009...                 8   \n",
       "4       LINESTRING (525589.280 4599947.781, 525578.049...                 8   \n",
       "...                                                   ...               ...   \n",
       "102639  LINESTRING (494097.672 4719579.054, 494140.238...                 2   \n",
       "102640  LINESTRING (494097.672 4719579.054, 494085.250...                 3   \n",
       "102641  LINESTRING (494208.672 4719716.551, 494192.415...                 2   \n",
       "102642  LINESTRING (494208.672 4719716.551, 494237.383...                 2   \n",
       "102643  LINESTRING (493598.201 4718833.478, 493587.298...                11   \n",
       "\n",
       "        id_edge  \n",
       "0             0  \n",
       "1             1  \n",
       "2             2  \n",
       "3             3  \n",
       "4             4  \n",
       "...         ...  \n",
       "102639   102639  \n",
       "102640   102640  \n",
       "102641   102641  \n",
       "102642   102642  \n",
       "102643   102643  \n",
       "\n",
       "[102644 rows x 4 columns]"
      ]
     },
     "execution_count": 7,
     "metadata": {},
     "output_type": "execute_result"
    }
   ],
   "source": [
    "t1=time.time()\n",
    "osm_edges_df=ox.graph_to_gdfs(G_osm,nodes=False,edges=True)\n",
    "osm_edges_df['edge']=osm_edges_df.index\n",
    "osm_edges_df=osm_edges_df.loc[:,['edge','geometry']]\n",
    "osm_edges_df['number_of_points']=osm_edges_df['geometry'].apply(lambda ls:len(ls.coords))\n",
    "#osm_edges_df=osm_edges_df.sort_values(by='length')\n",
    "osm_edges_df=osm_edges_df.set_index(np.arange(len(osm_edges_df)))\n",
    "osm_edges_df['id_edge']=osm_edges_df.index\n",
    "t2=time.time()\n",
    "print(t2-t1)\n",
    "osm_edges_df"
   ]
  },
  {
   "cell_type": "code",
   "execution_count": 8,
   "id": "23dbc805-740c-44f6-9e6c-f9341ede8526",
   "metadata": {
    "scrolled": true
   },
   "outputs": [
    {
     "name": "stdout",
     "output_type": "stream",
     "text": [
      "520<depth<=540 :0.591641 \n",
      "500<depth<=520 :0.321242 \n",
      "480<depth<=500 :0.397195 \n",
      "460<depth<=480 :0.517075 \n",
      "440<depth<=460 :0.713617 \n",
      "420<depth<=440 :1.040093 \n",
      "400<depth<=420 :1.465574 \n",
      "380<depth<=400 :1.971526 \n",
      "360<depth<=380 :2.536559 \n",
      "340<depth<=360 :2.976114 \n",
      "320<depth<=340 :3.496291 \n",
      "300<depth<=320 :4.410798 \n",
      "280<depth<=300 :5.412817 \n",
      "260<depth<=280 :6.398170 \n",
      "240<depth<=260 :7.579466 \n",
      "220<depth<=240 :12.080304 \n",
      "200<depth<=220 :14.664861 \n",
      "180<depth<=200 :18.078570 \n",
      "160<depth<=180 :22.152777 \n",
      "140<depth<=160 :26.535479 \n",
      "120<depth<=140 :31.580522 \n",
      "100<depth<=120 :43.252684 \n",
      "80<depth<=100 :62.257083 \n",
      "60<depth<=80 :68.682474 \n",
      "40<depth<=60 :70.869755 \n",
      "20<depth<=40 :84.430694 \n",
      "0<depth<=20 :133.674651 \n",
      "total : 628.097715 1\n"
     ]
    }
   ],
   "source": [
    "t1=time.time()\n",
    "intersection,depth=decreasing_depth_intersections(osm_edges_df,osm_crs,G,cursor,max_depth,depth_step=20,max_delta_time_total=float('inf'),max_delta_time_per_level=float('inf'))\n",
    "t2=time.time()\n",
    "print('total : %f'%(t2-t1),depth)"
   ]
  },
  {
   "cell_type": "code",
   "execution_count": 9,
   "id": "e71128f1-0281-4098-b232-400c23fabcb7",
   "metadata": {},
   "outputs": [
    {
     "name": "stdout",
     "output_type": "stream",
     "text": [
      "87.76856279373169\n"
     ]
    }
   ],
   "source": [
    "t1=time.time()\n",
    "pre_osm_nodes_to_contours={}\n",
    "for edge,df in intersection.groupby('edge'):\n",
    "    df=df.sort_values('edge_coordinate')\n",
    "    u,v=edge[:2]\n",
    "    if not u in pre_osm_nodes_to_contours:\n",
    "        pre_osm_nodes_to_contours[u]={df.iloc[0]['id']}\n",
    "    else:\n",
    "        pre_osm_nodes_to_contours[u].add(df.iloc[0]['id'])\n",
    "    if not v in pre_osm_nodes_to_contours:\n",
    "        pre_osm_nodes_to_contours[v]={df.iloc[-1]['id']}\n",
    "    else:\n",
    "        pre_osm_nodes_to_contours[v].add(df.iloc[-1]['id'])\n",
    "t2=time.time()\n",
    "print(t2-t1)"
   ]
  },
  {
   "cell_type": "code",
   "execution_count": 10,
   "id": "861b1adb-a18a-485b-9d6d-bd929ef88e2b",
   "metadata": {},
   "outputs": [
    {
     "name": "stdout",
     "output_type": "stream",
     "text": [
      "0.1915590763092041\n"
     ]
    }
   ],
   "source": [
    "t1=time.time()\n",
    "G_osm.remove_edges_from(intersection['edge'].unique())\n",
    "t2=time.time()\n",
    "print(t2-t1)"
   ]
  },
  {
   "cell_type": "code",
   "execution_count": 11,
   "id": "df7abac1-8857-4c0a-8c84-96eeb521d28f",
   "metadata": {},
   "outputs": [
    {
     "name": "stdout",
     "output_type": "stream",
     "text": [
      "0.6267440319061279\n"
     ]
    }
   ],
   "source": [
    "t1=time.time()\n",
    "CC=list(nx.connected_components(nx.Graph(G_osm)))\n",
    "pre_CC_to_contours={}\n",
    "for k,cc in enumerate(CC):\n",
    "    contours_ids=set()\n",
    "    for osm_node in cc:\n",
    "        if osm_node in pre_osm_nodes_to_contours:\n",
    "            contours_ids=contours_ids.union(pre_osm_nodes_to_contours[osm_node])\n",
    "    pre_CC_to_contours[k]=contours_ids\n",
    "\n",
    "t2=time.time()\n",
    "print(t2-t1)"
   ]
  },
  {
   "cell_type": "code",
   "execution_count": 12,
   "id": "723a6650-be58-40e9-93d0-b4e63cb64af1",
   "metadata": {},
   "outputs": [
    {
     "name": "stdout",
     "output_type": "stream",
     "text": [
      "0.17174339294433594\n"
     ]
    }
   ],
   "source": [
    "t1=time.time()\n",
    "CC_to_contours={}\n",
    "ambiguous_CC={}\n",
    "for k,contour_ids in pre_CC_to_contours.items():\n",
    "    if len(contour_ids)>1:\n",
    "        id_1,id_2=list(contour_ids)[:2]\n",
    "        if id_2 in G.neighbors(id_1):\n",
    "            CC_to_contours[k]=id_1\n",
    "        elif id_1 in G.neighbors(id_2):\n",
    "            CC_to_contours[k]=id_2\n",
    "        else:\n",
    "            predecessors=list(G.predecessors(id_2))\n",
    "            if len(predecessors)>0:\n",
    "                CC_to_contours[k]=predecessors[0]\n",
    "            else:\n",
    "                print('component is outside with %is point'%len(list(CC[k])))\n",
    "\n",
    "    else:\n",
    "        ambiguous_CC[k]=list(contour_ids)[0]\n",
    "\n",
    "t2=time.time()\n",
    "print(t2-t1)"
   ]
  },
  {
   "cell_type": "code",
   "execution_count": 13,
   "id": "a1b70302-c2d3-471b-ad51-650b6bb6219a",
   "metadata": {},
   "outputs": [
    {
     "name": "stdout",
     "output_type": "stream",
     "text": [
      "0/2851 : getting df : 3.721984, check intersections : 124.260568\n",
      "20/2851 : getting df : 1.447107, check intersections : 35.462979\n",
      "40/2851 : getting df : 2.200999, check intersections : 8.388868\n",
      "60/2851 : getting df : 3.787316, check intersections : 33.716295\n",
      "80/2851 : getting df : 3.821769, check intersections : 40.810629\n",
      "100/2851 : getting df : 2.323462, check intersections : 11.104965\n",
      "120/2851 : getting df : 4.975245, check intersections : 6.789270\n",
      "140/2851 : getting df : 0.017891, check intersections : 0.009356\n",
      "160/2851 : getting df : 1.871022, check intersections : 14.747087\n",
      "component is outside\n",
      "component is outside\n",
      "component is outside\n",
      "component is outside\n",
      "component is outside\n",
      "component is outside\n",
      "component is outside\n",
      "component is outside\n",
      "component is outside\n",
      "component is outside\n",
      "component is outside\n",
      "component is outside\n",
      "component is outside\n",
      "component is outside\n",
      "component is outside\n",
      "component is outside\n",
      "component is outside\n",
      "component is outside\n",
      "component is outside\n",
      "component is outside\n",
      "component is outside\n",
      "component is outside\n",
      "component is outside\n",
      "component is outside\n",
      "component is outside\n",
      "component is outside\n",
      "component is outside\n",
      "component is outside\n",
      "component is outside\n",
      "component is outside\n",
      "component is outside\n",
      "component is outside\n",
      "component is outside\n",
      "component is outside\n",
      "component is outside\n",
      "component is outside\n",
      "component is outside\n",
      "component is outside\n",
      "component is outside\n",
      "component is outside\n",
      "component is outside\n",
      "component is outside\n",
      "component is outside\n",
      "component is outside\n",
      "component is outside\n",
      "component is outside\n",
      "component is outside\n",
      "component is outside\n",
      "component is outside\n",
      "component is outside\n",
      "component is outside\n",
      "component is outside\n",
      "component is outside\n",
      "component is outside\n",
      "180/2851 : getting df : 1.747226, check intersections : 5.164310\n",
      "200/2851 : getting df : 1.837676, check intersections : 7.423404\n",
      "220/2851 : getting df : 1.921607, check intersections : 6.091617\n",
      "240/2851 : getting df : 1.032374, check intersections : 2.706054\n",
      "260/2851 : getting df : 3.035197, check intersections : 7.595930\n",
      "280/2851 : getting df : 1.260749, check intersections : 2.073521\n",
      "300/2851 : getting df : 1.957515, check intersections : 4.537896\n",
      "320/2851 : getting df : 0.735163, check intersections : 1.004515\n",
      "340/2851 : getting df : 0.421479, check intersections : 0.804814\n",
      "360/2851 : getting df : 2.174404, check intersections : 1.672838\n",
      "380/2851 : getting df : 0.090274, check intersections : 0.015205\n",
      "400/2851 : getting df : 0.058414, check intersections : 0.009864\n",
      "420/2851 : getting df : 1.350909, check intersections : 0.987633\n",
      "440/2851 : getting df : 4.196228, check intersections : 15.464150\n",
      "460/2851 : getting df : 2.091556, check intersections : 9.505831\n",
      "480/2851 : getting df : 0.528080, check intersections : 0.409119\n",
      "500/2851 : getting df : 0.492533, check intersections : 1.516865\n",
      "520/2851 : getting df : 0.105150, check intersections : 0.018200\n",
      "540/2851 : getting df : 2.636836, check intersections : 9.648219\n",
      "560/2851 : getting df : 2.916311, check intersections : 6.117164\n",
      "580/2851 : getting df : 3.083058, check intersections : 7.420597\n",
      "600/2851 : getting df : 1.606662, check intersections : 3.782010\n",
      "620/2851 : getting df : 2.095199, check intersections : 5.911176\n",
      "640/2851 : getting df : 3.555394, check intersections : 14.917092\n",
      "660/2851 : getting df : 2.679195, check intersections : 5.404603\n",
      "680/2851 : getting df : 0.021102, check intersections : 0.007788\n",
      "700/2851 : getting df : 1.326627, check intersections : 3.066137\n",
      "720/2851 : getting df : 0.873208, check intersections : 2.693455\n",
      "740/2851 : getting df : 0.015799, check intersections : 0.007113\n",
      "760/2851 : getting df : 0.019509, check intersections : 0.007259\n",
      "780/2851 : getting df : 0.030242, check intersections : 0.007543\n",
      "800/2851 : getting df : 0.475500, check intersections : 0.173062\n",
      "820/2851 : getting df : 1.009249, check intersections : 1.746282\n",
      "840/2851 : getting df : 0.699052, check intersections : 1.081563\n",
      "860/2851 : getting df : 0.463416, check intersections : 2.654007\n",
      "880/2851 : getting df : 0.059524, check intersections : 0.011844\n",
      "900/2851 : getting df : 1.621016, check intersections : 1.591561\n",
      "920/2851 : getting df : 0.895222, check intersections : 0.164943\n",
      "940/2851 : getting df : 0.907580, check intersections : 0.270468\n",
      "960/2851 : getting df : 0.202887, check intersections : 0.016948\n",
      "980/2851 : getting df : 1.899219, check intersections : 0.406281\n",
      "1000/2851 : getting df : 0.933003, check intersections : 0.226404\n",
      "1020/2851 : getting df : 0.582681, check intersections : 0.099103\n",
      "1040/2851 : getting df : 0.826866, check intersections : 0.233146\n",
      "1060/2851 : getting df : 0.027365, check intersections : 0.007586\n",
      "1080/2851 : getting df : 0.834006, check intersections : 0.080556\n",
      "1100/2851 : getting df : 0.321975, check intersections : 0.027587\n",
      "1120/2851 : getting df : 0.083633, check intersections : 0.009999\n",
      "1140/2851 : getting df : 0.289346, check intersections : 0.053394\n",
      "1160/2851 : getting df : 0.661542, check intersections : 0.059244\n",
      "1180/2851 : getting df : 0.189754, check intersections : 0.018045\n",
      "1200/2851 : getting df : 0.408230, check intersections : 0.046876\n",
      "1220/2851 : getting df : 0.233036, check intersections : 0.018459\n",
      "1240/2851 : getting df : 0.453294, check intersections : 0.139211\n",
      "1260/2851 : getting df : 0.681152, check intersections : 0.191684\n",
      "1280/2851 : getting df : 0.816983, check intersections : 0.175508\n",
      "1300/2851 : getting df : 0.508262, check intersections : 0.197551\n",
      "1320/2851 : getting df : 0.555060, check intersections : 0.147115\n",
      "1340/2851 : getting df : 0.582596, check intersections : 0.196054\n",
      "1360/2851 : getting df : 0.642148, check intersections : 0.207342\n",
      "1380/2851 : getting df : 0.125001, check intersections : 0.015278\n",
      "1400/2851 : getting df : 0.153641, check intersections : 0.058802\n",
      "1420/2851 : getting df : 0.151673, check intersections : 0.036711\n",
      "1440/2851 : getting df : 0.273321, check intersections : 0.030473\n",
      "1460/2851 : getting df : 0.151992, check intersections : 0.013516\n",
      "1480/2851 : getting df : 0.099560, check intersections : 0.010918\n",
      "1500/2851 : getting df : 0.246068, check intersections : 0.024002\n",
      "1520/2851 : getting df : 0.310458, check intersections : 0.029418\n",
      "1540/2851 : getting df : 0.226464, check intersections : 0.015677\n",
      "1560/2851 : getting df : 0.151167, check intersections : 0.013315\n",
      "1580/2851 : getting df : 0.400281, check intersections : 0.052119\n",
      "1600/2851 : getting df : 0.165804, check intersections : 0.012770\n",
      "1620/2851 : getting df : 0.022078, check intersections : 0.008159\n",
      "1640/2851 : getting df : 0.061632, check intersections : 0.008711\n",
      "1660/2851 : getting df : 0.092557, check intersections : 0.011963\n",
      "1680/2851 : getting df : 0.021422, check intersections : 0.008473\n",
      "1700/2851 : getting df : 0.180741, check intersections : 0.020728\n",
      "1720/2851 : getting df : 0.131389, check intersections : 0.021742\n",
      "1740/2851 : getting df : 0.129304, check intersections : 0.023159\n",
      "1760/2851 : getting df : 0.215255, check intersections : 0.018226\n",
      "1780/2851 : getting df : 0.124043, check intersections : 0.011518\n",
      "1800/2851 : getting df : 0.082298, check intersections : 0.010177\n",
      "1820/2851 : getting df : 0.101681, check intersections : 0.013871\n",
      "1840/2851 : getting df : 0.084788, check intersections : 0.014368\n",
      "1860/2851 : getting df : 0.126923, check intersections : 0.011317\n",
      "1880/2851 : getting df : 0.144947, check intersections : 0.012121\n",
      "1900/2851 : getting df : 0.018834, check intersections : 0.008110\n",
      "1920/2851 : getting df : 0.032279, check intersections : 0.008634\n",
      "1940/2851 : getting df : 0.023156, check intersections : 0.008593\n",
      "1960/2851 : getting df : 0.020158, check intersections : 0.007299\n",
      "1980/2851 : getting df : 0.023524, check intersections : 0.007983\n",
      "2000/2851 : getting df : 0.020352, check intersections : 0.007255\n",
      "2020/2851 : getting df : 0.023913, check intersections : 0.007970\n",
      "2040/2851 : getting df : 0.030923, check intersections : 0.007954\n",
      "2060/2851 : getting df : 0.017022, check intersections : 0.007043\n",
      "2080/2851 : getting df : 0.023681, check intersections : 0.007173\n",
      "2100/2851 : getting df : 0.015592, check intersections : 0.006908\n",
      "2120/2851 : getting df : 0.026787, check intersections : 0.007788\n",
      "2140/2851 : getting df : 0.016373, check intersections : 0.007058\n",
      "2160/2851 : getting df : 0.034861, check intersections : 0.010037\n",
      "2180/2851 : getting df : 0.053500, check intersections : 0.013429\n",
      "2200/2851 : getting df : 0.038680, check intersections : 0.008345\n",
      "2220/2851 : getting df : 0.034865, check intersections : 0.010587\n",
      "2240/2851 : getting df : 0.012838, check intersections : 0.007365\n",
      "2260/2851 : getting df : 0.139594, check intersections : 0.018557\n",
      "2280/2851 : getting df : 0.013318, check intersections : 0.007278\n",
      "2300/2851 : getting df : 0.145753, check intersections : 0.013015\n",
      "2320/2851 : getting df : 0.013223, check intersections : 0.007575\n",
      "2340/2851 : getting df : 0.015347, check intersections : 0.007215\n",
      "2360/2851 : getting df : 0.027443, check intersections : 0.008268\n",
      "2380/2851 : getting df : 0.026104, check intersections : 0.008062\n",
      "2400/2851 : getting df : 0.025674, check intersections : 0.007516\n",
      "2420/2851 : getting df : 0.013151, check intersections : 0.006956\n",
      "2440/2851 : getting df : 0.013980, check intersections : 0.006983\n",
      "2460/2851 : getting df : 0.230024, check intersections : 0.028166\n",
      "2480/2851 : getting df : 0.027852, check intersections : 0.008093\n",
      "2500/2851 : getting df : 0.022231, check intersections : 0.007774\n",
      "2520/2851 : getting df : 0.014643, check intersections : 0.007131\n",
      "2540/2851 : getting df : 0.039517, check intersections : 0.008005\n",
      "2560/2851 : getting df : 0.020930, check intersections : 0.007396\n",
      "2580/2851 : getting df : 0.036448, check intersections : 0.009613\n",
      "2600/2851 : getting df : 0.254446, check intersections : 0.028313\n",
      "2620/2851 : getting df : 0.266587, check intersections : 0.023525\n",
      "2640/2851 : getting df : 0.618389, check intersections : 0.051139\n",
      "2660/2851 : getting df : 0.216536, check intersections : 0.020969\n",
      "2680/2851 : getting df : 0.240235, check intersections : 0.022910\n",
      "2700/2851 : getting df : 0.766071, check intersections : 0.056899\n",
      "2720/2851 : getting df : 0.235136, check intersections : 0.028072\n",
      "2740/2851 : getting df : 0.010991, check intersections : 0.006743\n",
      "2760/2851 : getting df : 0.576503, check intersections : 0.032962\n",
      "2780/2851 : getting df : 0.162135, check intersections : 0.014175\n",
      "2800/2851 : getting df : 0.292005, check intersections : 0.020715\n",
      "2820/2851 : getting df : 0.012558, check intersections : 0.007414\n",
      "2840/2851 : getting df : 0.011701, check intersections : 0.003871\n",
      "509.5900592803955\n"
     ]
    }
   ],
   "source": [
    "contour_id_bunch_size=20\n",
    "\n",
    "t1=time.time()\n",
    "ambiguous_CC=pd.DataFrame([{'id_cc':k,'ambiguous_id_contour':v} for k,v in ambiguous_CC.items()])\n",
    "ambiguous_contours_ids=ambiguous_CC['ambiguous_id_contour'].unique()\n",
    "for i in range(0,len(ambiguous_contours_ids),contour_id_bunch_size):\n",
    "    t3=time.time()\n",
    "    ambiguous_contours_df=get_nodes_data(cursor,ambiguous_contours_ids[i:min(i+contour_id_bunch_size,len(ambiguous_contours_ids))])\n",
    "    ambiguous_contours_df=ambiguous_contours_df.set_index('id')\n",
    "    ambiguous_contours_df=ambiguous_contours_df.to_crs(osm_crs)\n",
    "    ambiguous_contours_df['geometry']=ambiguous_contours_df['geometry'].apply(lambda ls:Polygon(ls))\n",
    "    t4=time.time()\n",
    "    for ambiguous_id_contour,row in ambiguous_contours_df.iterrows():\n",
    "        polygon=row['geometry']\n",
    "        for id_cc in ambiguous_CC[ambiguous_CC.ambiguous_id_contour==ambiguous_id_contour]['id_cc']:\n",
    "            osm_node=random.choice(list(CC[id_cc]))\n",
    "            datum=G_osm.nodes()[osm_node]\n",
    "            pt=Point(datum['x'],datum['y'])\n",
    "            if pt.within(polygon):\n",
    "                CC_to_contours[id_cc]=ambiguous_id_contour\n",
    "            else:\n",
    "                predecessors=list(G.predecessors(ambiguous_id_contour))\n",
    "                if len(predecessors)>0:\n",
    "                    CC_to_contours[id_cc]=predecessors[0]\n",
    "                else:\n",
    "                    print('component is outside with %is point'%len(list(CC[id_CC])))\n",
    "    t5=time.time()\n",
    "    print('%i/%i : getting df : %f, check intersections : %f'%(i,len(ambiguous_contours_ids),t4-t3,t5-t4))\n",
    "\n",
    "t2=time.time()\n",
    "print(t2-t1)"
   ]
  },
  {
   "cell_type": "code",
   "execution_count": 14,
   "id": "065b8cb8-0f90-4e8f-8fac-5536375441ff",
   "metadata": {},
   "outputs": [
    {
     "data": {
      "text/plain": [
       "(47902, 47956)"
      ]
     },
     "execution_count": 14,
     "metadata": {},
     "output_type": "execute_result"
    }
   ],
   "source": [
    "len(CC_to_contours),len(CC)"
   ]
  },
  {
   "cell_type": "code",
   "execution_count": 18,
   "id": "1b0154b6-7eab-4589-9d0b-4d96cfb26c0c",
   "metadata": {},
   "outputs": [
    {
     "name": "stdout",
     "output_type": "stream",
     "text": [
      "41.5301905 9.2728831\n",
      "41.5305635 9.2731909\n",
      "41.4775328 9.0748836\n",
      "41.4499807 9.0937934\n",
      "41.587229 9.2913172\n",
      "41.4600246 9.052059\n",
      "41.4666776 9.0592359\n",
      "41.4688175 9.0620369\n",
      "41.4701004 9.073313\n",
      "41.6810498 9.3746155\n",
      "41.4668663 9.0712934\n",
      "41.4697894 9.0714213\n",
      "41.3766895 9.2219834\n",
      "41.4017307 9.2457815\n",
      "41.6214817 9.3378132\n",
      "41.474989 9.0714937\n",
      "42.1282959 9.5167255\n",
      "42.3399849 9.541435\n",
      "42.3944158 9.5352665\n",
      "42.5132181 9.532137\n",
      "42.2166717 9.5540146\n",
      "42.7110945 9.4550221\n",
      "42.709843 9.4550448\n",
      "42.7098926 9.4550557\n",
      "42.7098778 9.4550509\n",
      "42.9480988 9.3563024\n",
      "42.8118385 9.4898728\n",
      "42.7114388 9.4549472\n",
      "42.6412356 9.4516211\n",
      "42.9540119 9.3468103\n",
      "42.6804785 9.2831791\n",
      "42.7095239 9.4557542\n",
      "42.7424684 9.462366\n",
      "42.6942027 9.4541162\n",
      "42.7067666 9.4544419\n",
      "42.70873 9.4545467\n",
      "41.6772597 8.8986156\n",
      "41.5215998 8.8602052\n",
      "41.541995 8.8512057\n",
      "41.4783947 9.0140419\n",
      "41.5484707 8.8327691\n",
      "41.7071524 8.7947009\n",
      "41.7070999 8.7946934\n",
      "41.6771324 8.9061865\n",
      "41.7073942 8.7953865\n",
      "41.9179995 8.7415315\n",
      "41.9187432 8.740309\n",
      "41.9184306 8.7408173\n",
      "41.9183342 8.7409741\n",
      "41.9181355 8.7412972\n",
      "41.9186432 8.7404717\n",
      "41.9185294 8.7406568\n",
      "41.8428661 8.7660181\n",
      "41.9325798 8.7553658\n",
      "42.1120529 8.6879432\n",
      "41.888409 8.7974055\n",
      "42.1110091 8.7012376\n",
      "42.1119692 8.688359\n",
      "42.261892 8.6772551\n",
      "42.349648 8.613301\n",
      "42.3495808 8.6133282\n",
      "42.4153877 8.6449863\n"
     ]
    }
   ],
   "source": [
    "for elem in outside_osm_nodes_data.values():\n",
    "    pt=elem['geometry']\n",
    "    print(pt.y,pt.x)"
   ]
  },
  {
   "cell_type": "code",
   "execution_count": 15,
   "id": "0c4712ad-96dc-468c-8c3b-26fc09019fa9",
   "metadata": {},
   "outputs": [
    {
     "name": "stdout",
     "output_type": "stream",
     "text": [
      "0.9615380764007568\n"
     ]
    }
   ],
   "source": [
    "t1=time.time()\n",
    "inside_osm_nodes_data,outside_osm_nodes_data={},{}\n",
    "for k,cc in enumerate(CC):\n",
    "    if k in CC_to_contours:\n",
    "        for osm_node in cc:\n",
    "            inside_osm_nodes_data[osm_node]={'contour_line_id':CC_to_contours[k],'geometry':Point(G_osm.nodes()[osm_node]['lon'],G_osm.nodes()[osm_node]['lat'])}\n",
    "    else:\n",
    "        for osm_node in cc:\n",
    "            outside_osm_nodes_data[osm_node]={'geometry':Point(G_osm.nodes()[osm_node]['lon'],G_osm.nodes()[osm_node]['lat'])}\n",
    "        \n",
    "t2=time.time()\n",
    "print(t2-t1)"
   ]
  },
  {
   "cell_type": "code",
   "execution_count": 16,
   "id": "386acf1b-b61b-4b1a-a279-9a28c4c73155",
   "metadata": {},
   "outputs": [
    {
     "name": "stdout",
     "output_type": "stream",
     "text": [
      "48.428051233291626\n"
     ]
    }
   ],
   "source": [
    "ADD_OSM_DATA=True\n",
    "if ADD_OSM_DATA:\n",
    "    \n",
    "    t1=time.time()\n",
    "    string_list=',\\n'.join(['(%i,%i,ST_GeomFromText(\\'%s\\'))'%(osm_id,d['contour_line_id'],d['geometry'].wkt) for osm_id,d in inside_osm_nodes_data.items()])\n",
    "    cmd=\"INSERT INTO %s (`osm_id`,`contour_line_id`,`geometry`) VALUES %s;\"%(osm_nodes_table_name,string_list)\n",
    "    cursor.execute(cmd)\n",
    "\n",
    "    string_list=',\\n'.join(['(%i,ST_GeomFromText(\\'%s\\'))'%(osm_id,d['geometry'].wkt) for osm_id,d in outside_osm_nodes_data.items()])\n",
    "    cmd=\"INSERT INTO %s (`osm_id`,`geometry`) VALUES %s;\"%(osm_nodes_table_name,string_list)\n",
    "    cursor.execute(cmd)\n",
    "    \n",
    "    intersection=intersection.to_crs('epsg:4326')\n",
    "    string_list=',\\n'.join(['(%i,%i,%i,%i,%f,%f,ST_GeomFromText(\\'%s\\'))'%(row['id'],row['edge'][0],row['edge'][1],row['edge'][2],row['edge_coordinate'],row['elevation'],row['geometry'].wkt)  for _,row in intersection.iterrows()])\n",
    "    cmd=\"INSERT INTO %s (`contour_line_id`,`osm_begin`,`osm_end`,`osm_key`,`edge_coordinate`,`elevation`,`geometry`) VALUES %s;\"%(osm_intersections_table_name,string_list)\n",
    "    cursor.execute(cmd)\n",
    "    t2=time.time()\n",
    "    print(t2-t1)"
   ]
  },
  {
   "cell_type": "code",
   "execution_count": null,
   "id": "245cdb51-ea44-4338-8879-8a46a3b24262",
   "metadata": {},
   "outputs": [],
   "source": []
  }
 ],
 "metadata": {
  "kernelspec": {
   "display_name": "pygmt",
   "language": "python",
   "name": "pygmt"
  },
  "language_info": {
   "codemirror_mode": {
    "name": "ipython",
    "version": 3
   },
   "file_extension": ".py",
   "mimetype": "text/x-python",
   "name": "python",
   "nbconvert_exporter": "python",
   "pygments_lexer": "ipython3",
   "version": "3.11.5"
  }
 },
 "nbformat": 4,
 "nbformat_minor": 5
}
