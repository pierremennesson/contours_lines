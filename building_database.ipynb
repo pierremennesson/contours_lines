{
 "cells": [
  {
   "cell_type": "code",
   "execution_count": 1,
   "id": "91cb1570-0726-4199-86ee-4590d33ab05f",
   "metadata": {},
   "outputs": [],
   "source": [
    "%load_ext autoreload\n",
    "%autoreload 2\n",
    "%reload_ext autoreload\n",
    "import mysql.connector\n",
    "import networkx as nx\n",
    "import geopandas as gpd\n",
    "import pandas as pd\n",
    "from shapely.geometry import Polygon,MultiPolygon,LineString,MultiLineString,LinearRing,Point\n",
    "from shapely import symmetric_difference\n",
    "from shapely.ops import nearest_points\n",
    "from shapely.wkt import loads\n",
    "import scipy\n",
    "import time\n",
    "import numpy as np\n",
    "import random\n",
    "from networkx.drawing.nx_pydot import graphviz_layout\n",
    "import matplotlib.pyplot as plt\n",
    "import osmnx as ox\n",
    "import glob\n",
    "from itertools import combinations,product\n",
    "from copy import deepcopy\n",
    "import os\n",
    "from lib_contour_lines import DataBaseManager,add_merged_contours_lines_multiprocess\n",
    "import mysql.connector\n"
   ]
  },
  {
   "cell_type": "code",
   "execution_count": 2,
   "id": "8f6c4a42-bdfc-4354-abd3-f98595305194",
   "metadata": {},
   "outputs": [],
   "source": [
    "#set global net_buffer_length=1000000; \n",
    "#set global max_allowed_packet=1000000000;"
   ]
  },
  {
   "cell_type": "code",
   "execution_count": 3,
   "id": "c9f989f5-f6ac-4235-9d4e-b8e678dcdf12",
   "metadata": {},
   "outputs": [
    {
     "data": {
      "text/plain": [
       "2"
      ]
     },
     "execution_count": 3,
     "metadata": {},
     "output_type": "execute_result"
    }
   ],
   "source": [
    "\n",
    "user='spirz'\n",
    "password='this_is_my_PASSWORD_m8'\n",
    "host='localhost'\n",
    "database='dem_from_contours_lines'\n",
    "contours_lines_table_name='contours_lines'\n",
    "osm_nodes_table_name=\"osm_nodes\"\n",
    "osm_edges_table_name=\"osm_edges\"\n",
    "intersections_table_name=\"intersections\"\n",
    "2"
   ]
  },
  {
   "cell_type": "code",
   "execution_count": 4,
   "id": "cbe2326d-5654-4c9b-8fc5-257f9303553b",
   "metadata": {},
   "outputs": [],
   "source": [
    "file_paths=glob.glob('contours_lines_corse/*.shp')\n",
    "elevation_column=\"ALTITUDE\""
   ]
  },
  {
   "cell_type": "code",
   "execution_count": 5,
   "id": "8d1ad180-3834-43ac-8445-70efffb3c853",
   "metadata": {},
   "outputs": [
    {
     "data": {
      "text/plain": [
       "11"
      ]
     },
     "execution_count": 5,
     "metadata": {},
     "output_type": "execute_result"
    }
   ],
   "source": [
    "len(file_paths)"
   ]
  },
  {
   "cell_type": "code",
   "execution_count": 6,
   "id": "bc8f7cef-afc3-4b65-bc38-e4567106be74",
   "metadata": {},
   "outputs": [
    {
     "data": {
      "text/plain": [
       "2"
      ]
     },
     "execution_count": 6,
     "metadata": {},
     "output_type": "execute_result"
    }
   ],
   "source": [
    "DBM=DataBaseManager(user=user,password=password,host=host,database=database,\n",
    "            contours_lines_table_name=contours_lines_table_name,\n",
    "            osm_nodes_table_name=osm_nodes_table_name,\n",
    "            osm_edges_table_name=osm_edges_table_name,\n",
    "            intersections_table_name=intersections_table_name)\n",
    "2"
   ]
  },
  {
   "cell_type": "code",
   "execution_count": 8,
   "id": "a9f0afdb-77b5-4803-927f-fde70ab4730a",
   "metadata": {},
   "outputs": [
    {
     "data": {
      "text/plain": [
       "6905"
      ]
     },
     "execution_count": 8,
     "metadata": {},
     "output_type": "execute_result"
    }
   ],
   "source": [
    "DBM.execute(\"SELECT id FROM %s WHERE NOT is_closed\"%contours_lines_table_name)\n",
    "len(DBM.cursor.fetchall())"
   ]
  },
  {
   "cell_type": "markdown",
   "id": "210cc514-7596-414e-acab-ec5b8f7c7bab",
   "metadata": {},
   "source": [
    "51410 closed\n",
    "53778"
   ]
  },
  {
   "cell_type": "code",
   "execution_count": 9,
   "id": "ac43991a-2323-4666-94a6-3cd45ec7b304",
   "metadata": {},
   "outputs": [
    {
     "name": "stdout",
     "output_type": "stream",
     "text": [
      "0.28765249252319336\n"
     ]
    }
   ],
   "source": [
    "DELETE_TABLES=True\n",
    "if DELETE_TABLES:\n",
    "    t1=time.time()\n",
    "    DBM.delete_tables()\n",
    "    t2=time.time()\n",
    "    print(t2-t1)"
   ]
  },
  {
   "cell_type": "code",
   "execution_count": 10,
   "id": "2a438d85-2878-4cb2-a3d8-15740304657a",
   "metadata": {},
   "outputs": [
    {
     "name": "stdout",
     "output_type": "stream",
     "text": [
      "0.06378173828125\n"
     ]
    }
   ],
   "source": [
    "CREATE_TABLES=True\n",
    "if CREATE_TABLES:\n",
    "    t1=time.time()\n",
    "    DBM.create_tables_v1()\n",
    "    t2=time.time()\n",
    "    print(t2-t1)    \n",
    "\n"
   ]
  },
  {
   "cell_type": "code",
   "execution_count": null,
   "id": "0b983511-3268-475d-bff5-1b9bde1a7d62",
   "metadata": {},
   "outputs": [
    {
     "name": "stdout",
     "output_type": "stream",
     "text": [
      "file  1/11\n",
      "reading file took 12.844422578811646\n",
      "preprocess df took 3.225516\n",
      "inserting 10158 rows took 17.987822\n",
      "comparing 0 pairs took 0.664915\n",
      "file  2/11\n",
      "reading file took 18.549926280975342\n",
      "preprocess df took 4.706886\n"
     ]
    }
   ],
   "source": [
    "#ASSUME GEODATAFRAMES ARE IN UTM COORDINATES\n",
    "GENERATE=True\n",
    "if GENERATE:\n",
    "    t1=time.time()\n",
    "    DBM.add_contour_lines_to_database(file_paths,elevation_column=elevation_column)\n",
    "    t2=time.time()\n",
    "    print(t2-t1)\n",
    "2"
   ]
  },
  {
   "cell_type": "code",
   "execution_count": null,
   "id": "90971cc9-cf54-48c1-9354-01b69ba006a3",
   "metadata": {},
   "outputs": [],
   "source": [
    "700.4467239379883"
   ]
  },
  {
   "cell_type": "code",
   "execution_count": 10,
   "id": "f05a56ed-35c7-40d6-8d83-bad4bda4e31d",
   "metadata": {
    "scrolled": true
   },
   "outputs": [
    {
     "name": "stdout",
     "output_type": "stream",
     "text": [
      "7 cpus working\n",
      "elevation 10/77\n",
      "elevation 10/77\n",
      "elevation 10/77\n",
      "elevation 10/77\n",
      "elevation 10/78\n",
      "elevation 10/77\n",
      "elevation 10/77\n",
      "elevation 20/77elevation 20/77\n",
      "\n",
      "elevation 20/77\n",
      "elevation 20/77\n",
      "elevation 20/77\n",
      "elevation 20/78\n",
      "elevation 20/77\n",
      "elevation 30/77elevation 30/77\n",
      "\n",
      "elevation 30/77\n",
      "elevation 30/77\n",
      "elevation 30/77\n",
      "elevation 30/77\n",
      "elevation 30/78\n",
      "elevation 40/77\n",
      "elevation 40/77\n",
      "elevation 40/77\n",
      "elevation 40/77\n",
      "elevation 40/77\n",
      "elevation 40/78\n",
      "elevation 40/77\n",
      "elevation 50/77\n",
      "elevation 50/77\n",
      "elevation 50/77\n",
      "elevation 50/77\n",
      "elevation 50/77\n",
      "elevation 50/78\n",
      "elevation 50/77\n",
      "elevation 60/77\n",
      "elevation 60/77\n",
      "elevation 60/77\n",
      "elevation 60/77\n",
      "elevation 60/77\n",
      "elevation 60/77\n",
      "elevation 60/78\n",
      "elevation 70/77\n",
      "elevation 70/77\n",
      "elevation 70/77\n",
      "elevation 70/77\n",
      "elevation 70/77\n",
      "elevation 70/77\n",
      "elevation 70/78\n",
      "1053.968792438507\n"
     ]
    }
   ],
   "source": [
    "t1=time.time()\n",
    "add_merged_contours_lines_multiprocess(nb_cpu=None)\n",
    "t2=time.time()\n",
    "print(t2-t1)"
   ]
  },
  {
   "cell_type": "code",
   "execution_count": null,
   "id": "1649dc26-bc59-4bf7-8707-b5273e437027",
   "metadata": {
    "scrolled": true
   },
   "outputs": [],
   "source": [
    "MERGE=True\n",
    "if MERGE:\n",
    "    t1=time.time()\n",
    "    DBM.add_merged_contours_lines()\n",
    "    t2=time.time()\n",
    "    print(t2-t1)\n",
    "2"
   ]
  },
  {
   "cell_type": "code",
   "execution_count": null,
   "id": "033decfc-92c8-434e-98bd-85becc72b979",
   "metadata": {},
   "outputs": [],
   "source": []
  }
 ],
 "metadata": {
  "kernelspec": {
   "display_name": "pygmt",
   "language": "python",
   "name": "pygmt"
  },
  "language_info": {
   "codemirror_mode": {
    "name": "ipython",
    "version": 3
   },
   "file_extension": ".py",
   "mimetype": "text/x-python",
   "name": "python",
   "nbconvert_exporter": "python",
   "pygments_lexer": "ipython3",
   "version": "3.11.5"
  }
 },
 "nbformat": 4,
 "nbformat_minor": 5
}
