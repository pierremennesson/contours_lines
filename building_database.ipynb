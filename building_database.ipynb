{
 "cells": [
  {
   "cell_type": "code",
   "execution_count": 1,
   "id": "91cb1570-0726-4199-86ee-4590d33ab05f",
   "metadata": {},
   "outputs": [],
   "source": [
    "%load_ext autoreload\n",
    "%autoreload 2\n",
    "%reload_ext autoreload\n",
    "import mysql.connector\n",
    "import networkx as nx\n",
    "import geopandas as gpd\n",
    "import pandas as pd\n",
    "from shapely.geometry import Polygon,MultiPolygon,LineString,MultiLineString,LinearRing,Point\n",
    "from shapely import symmetric_difference\n",
    "from shapely.ops import nearest_points\n",
    "from shapely.wkt import loads\n",
    "import scipy\n",
    "import time\n",
    "import numpy as np\n",
    "import random\n",
    "from networkx.drawing.nx_pydot import graphviz_layout\n",
    "import matplotlib.pyplot as plt\n",
    "import osmnx as ox\n",
    "import glob\n",
    "from itertools import combinations,product\n",
    "from copy import deepcopy\n",
    "import os\n",
    "from lib_contour_lines import DataBaseManager\n",
    "import mysql.connector\n"
   ]
  },
  {
   "cell_type": "code",
   "execution_count": 2,
   "id": "8f6c4a42-bdfc-4354-abd3-f98595305194",
   "metadata": {},
   "outputs": [],
   "source": [
    "#set global net_buffer_length=1000000; \n",
    "#set global max_allowed_packet=1000000000;"
   ]
  },
  {
   "cell_type": "code",
   "execution_count": 3,
   "id": "c9f989f5-f6ac-4235-9d4e-b8e678dcdf12",
   "metadata": {},
   "outputs": [
    {
     "data": {
      "text/plain": [
       "2"
      ]
     },
     "execution_count": 3,
     "metadata": {},
     "output_type": "execute_result"
    }
   ],
   "source": [
    "\n",
    "user='spirz'\n",
    "password='this_is_my_PASSWORD_m8'\n",
    "host='localhost'\n",
    "database='dem_from_contours_lines'\n",
    "contours_lines_table_name='contours_lines'\n",
    "osm_nodes_table_name=\"osm_nodes\"\n",
    "osm_edges_table_name=\"osm_edges\"\n",
    "intersections_table_name=\"intersections\"\n",
    "2"
   ]
  },
  {
   "cell_type": "code",
   "execution_count": 9,
   "id": "cbe2326d-5654-4c9b-8fc5-257f9303553b",
   "metadata": {},
   "outputs": [],
   "source": [
    "file_paths=glob.glob('COURBE_1-0__SHP_LAMB93_D02B_2021-01-01/COURBE/1_DONNEES_LIVRAISON_2021-01-01/COURBE_1-0_SHP_LAMB93_D02B_2021/*.shp')\n",
    "file_paths+=glob.glob('COURBE_1-0__SHP_LAMB93_D02A_2021-01-01/COURBE/1_DONNEES_LIVRAISON_2021-01-01/COURBE_1-0_SHP_LAMB93_D02A_2021/*.shp')\n",
    "elevation_column=\"ALTITUDE\""
   ]
  },
  {
   "cell_type": "code",
   "execution_count": 5,
   "id": "bc8f7cef-afc3-4b65-bc38-e4567106be74",
   "metadata": {},
   "outputs": [
    {
     "data": {
      "text/plain": [
       "2"
      ]
     },
     "execution_count": 5,
     "metadata": {},
     "output_type": "execute_result"
    }
   ],
   "source": [
    "DBM=DataBaseManager(user=user,password=password,host=host,database=database,\n",
    "            contours_lines_table_name=contours_lines_table_name,\n",
    "            osm_nodes_table_name=osm_nodes_table_name,\n",
    "            osm_edges_table_name=osm_edges_table_name,\n",
    "            intersections_table_name=intersections_table_name)\n",
    "2"
   ]
  },
  {
   "cell_type": "code",
   "execution_count": 6,
   "id": "ac43991a-2323-4666-94a6-3cd45ec7b304",
   "metadata": {},
   "outputs": [
    {
     "name": "stdout",
     "output_type": "stream",
     "text": [
      "0.4051549434661865\n"
     ]
    }
   ],
   "source": [
    "DELETE_TABLES=True\n",
    "if DELETE_TABLES:\n",
    "    t1=time.time()\n",
    "    DBM.delete_tables()\n",
    "    t2=time.time()\n",
    "    print(t2-t1)"
   ]
  },
  {
   "cell_type": "code",
   "execution_count": 7,
   "id": "2a438d85-2878-4cb2-a3d8-15740304657a",
   "metadata": {},
   "outputs": [
    {
     "name": "stdout",
     "output_type": "stream",
     "text": [
      "0.04703712463378906\n"
     ]
    }
   ],
   "source": [
    "CREATE_TABLES=True\n",
    "if CREATE_TABLES:\n",
    "    t1=time.time()\n",
    "    DBM.create_tables_v1()\n",
    "    t2=time.time()\n",
    "    print(t2-t1)    \n",
    "\n"
   ]
  },
  {
   "cell_type": "code",
   "execution_count": 10,
   "id": "0b983511-3268-475d-bff5-1b9bde1a7d62",
   "metadata": {},
   "outputs": [
    {
     "name": "stdout",
     "output_type": "stream",
     "text": [
      "file  5/16\n",
      "file  10/16\n",
      "file  15/16\n",
      "752.8876059055328\n"
     ]
    },
    {
     "data": {
      "text/plain": [
       "2"
      ]
     },
     "execution_count": 10,
     "metadata": {},
     "output_type": "execute_result"
    }
   ],
   "source": [
    "#ASSUME GEODATAFRAMES ARE IN UTM COORDINATES\n",
    "GENERATE=True\n",
    "if GENERATE:\n",
    "    t1=time.time()\n",
    "    DBM.add_contour_lines_to_database(file_paths,elevation_column=elevation_column)\n",
    "    t2=time.time()\n",
    "    print(t2-t1)\n",
    "2"
   ]
  },
  {
   "cell_type": "code",
   "execution_count": 11,
   "id": "1649dc26-bc59-4bf7-8707-b5273e437027",
   "metadata": {
    "scrolled": true
   },
   "outputs": [
    {
     "name": "stdout",
     "output_type": "stream",
     "text": [
      "elevation 10/540\n",
      "elevation 20/540\n",
      "elevation 30/540\n",
      "elevation 40/540\n",
      "elevation 50/540\n",
      "elevation 60/540\n",
      "elevation 70/540\n",
      "elevation 80/540\n",
      "elevation 90/540\n",
      "elevation 100/540\n",
      "elevation 110/540\n",
      "elevation 120/540\n",
      "elevation 130/540\n",
      "elevation 140/540\n",
      "elevation 150/540\n",
      "elevation 160/540\n",
      "elevation 170/540\n",
      "elevation 180/540\n",
      "elevation 190/540\n",
      "elevation 200/540\n",
      "elevation 210/540\n",
      "elevation 220/540\n",
      "elevation 230/540\n",
      "elevation 240/540\n",
      "elevation 250/540\n",
      "elevation 260/540\n",
      "elevation 270/540\n",
      "elevation 280/540\n",
      "elevation 290/540\n",
      "elevation 300/540\n",
      "elevation 310/540\n",
      "elevation 320/540\n",
      "elevation 330/540\n",
      "elevation 340/540\n",
      "elevation 350/540\n",
      "elevation 360/540\n",
      "elevation 370/540\n",
      "elevation 380/540\n",
      "elevation 390/540\n",
      "elevation 400/540\n",
      "elevation 410/540\n",
      "elevation 420/540\n",
      "elevation 430/540\n",
      "elevation 440/540\n",
      "elevation 450/540\n",
      "elevation 460/540\n",
      "elevation 470/540\n",
      "elevation 480/540\n",
      "elevation 490/540\n",
      "elevation 500/540\n",
      "elevation 510/540\n",
      "elevation 520/540\n",
      "elevation 530/540\n",
      "elevation 540/540\n",
      "1032.9010336399078\n"
     ]
    },
    {
     "data": {
      "text/plain": [
       "2"
      ]
     },
     "execution_count": 11,
     "metadata": {},
     "output_type": "execute_result"
    }
   ],
   "source": [
    "MERGE=True\n",
    "if MERGE:\n",
    "    t1=time.time()\n",
    "    DBM.add_merged_contours_lines()\n",
    "    t2=time.time()\n",
    "    print(t2-t1)\n",
    "2"
   ]
  },
  {
   "cell_type": "code",
   "execution_count": null,
   "id": "033decfc-92c8-434e-98bd-85becc72b979",
   "metadata": {},
   "outputs": [],
   "source": []
  }
 ],
 "metadata": {
  "kernelspec": {
   "display_name": "pygmt",
   "language": "python",
   "name": "pygmt"
  },
  "language_info": {
   "codemirror_mode": {
    "name": "ipython",
    "version": 3
   },
   "file_extension": ".py",
   "mimetype": "text/x-python",
   "name": "python",
   "nbconvert_exporter": "python",
   "pygments_lexer": "ipython3",
   "version": "3.11.5"
  }
 },
 "nbformat": 4,
 "nbformat_minor": 5
}
