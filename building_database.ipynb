{
 "cells": [
  {
   "cell_type": "code",
   "execution_count": 1,
   "id": "91cb1570-0726-4199-86ee-4590d33ab05f",
   "metadata": {},
   "outputs": [],
   "source": [
    "%load_ext autoreload\n",
    "%autoreload 2\n",
    "%reload_ext autoreload\n",
    "import mysql.connector\n",
    "import networkx as nx\n",
    "import geopandas as gpd\n",
    "import pandas as pd\n",
    "from shapely.geometry import Polygon,MultiPolygon,LineString,MultiLineString,LinearRing,Point\n",
    "from shapely import symmetric_difference\n",
    "from shapely.ops import nearest_points\n",
    "from shapely.wkt import loads\n",
    "import scipy\n",
    "import time\n",
    "import numpy as np\n",
    "import random\n",
    "from networkx.drawing.nx_pydot import graphviz_layout\n",
    "import matplotlib.pyplot as plt\n",
    "import osmnx as ox\n",
    "import glob\n",
    "from itertools import combinations,product\n",
    "from copy import deepcopy\n",
    "import os\n",
    "from lib_contour_lines import *\n",
    "import mysql.connector\n"
   ]
  },
  {
   "cell_type": "code",
   "execution_count": 2,
   "id": "8f6c4a42-bdfc-4354-abd3-f98595305194",
   "metadata": {},
   "outputs": [],
   "source": [
    "#set global net_buffer_length=1000000; \n",
    "#set global max_allowed_packet=1000000000;"
   ]
  },
  {
   "cell_type": "code",
   "execution_count": 3,
   "id": "c9f989f5-f6ac-4235-9d4e-b8e678dcdf12",
   "metadata": {},
   "outputs": [
    {
     "data": {
      "text/plain": [
       "2"
      ]
     },
     "execution_count": 3,
     "metadata": {},
     "output_type": "execute_result"
    }
   ],
   "source": [
    "\n",
    "cnx = mysql.connector.connect(user='spirz', \n",
    "                              password='this_is_my_PASSWORD_m8',\n",
    "                              host='localhost',\n",
    "                              database='dem_from_contours_lines',\n",
    "                              autocommit=True)\n",
    "cursor = cnx.cursor(buffered=True,dictionary=True)\n",
    "contours_lines_table_name='contours_lines'\n",
    "tree_edges_table_name=\"tree_edges\"\n",
    "2"
   ]
  },
  {
   "cell_type": "code",
   "execution_count": 4,
   "id": "ac43991a-2323-4666-94a6-3cd45ec7b304",
   "metadata": {},
   "outputs": [
    {
     "data": {
      "text/plain": [
       "2"
      ]
     },
     "execution_count": 4,
     "metadata": {},
     "output_type": "execute_result"
    }
   ],
   "source": [
    "DELETE_TABLES=False\n",
    "if DELETE_TABLES:\n",
    "    try:\n",
    "        cmd=\"\"\"DROP TABLE `%s`\"\"\"%tree_edges_table_name\n",
    "        cursor.execute(cmd)\n",
    "    except:\n",
    "        pass\n",
    "    cmd=\"\"\"DROP TABLE `%s`\"\"\"%contours_lines_table_name\n",
    "    cursor.execute(cmd)\n",
    "2"
   ]
  },
  {
   "cell_type": "code",
   "execution_count": 5,
   "id": "2a438d85-2878-4cb2-a3d8-15740304657a",
   "metadata": {},
   "outputs": [
    {
     "data": {
      "text/plain": [
       "2"
      ]
     },
     "execution_count": 5,
     "metadata": {},
     "output_type": "execute_result"
    }
   ],
   "source": [
    "CREATE_TABLE=False\n",
    "if CREATE_TABLE:\n",
    "    cmd=\"\"\"CREATE TABLE `%s`(\n",
    "          `id` INT NOT NULL AUTO_INCREMENT,\n",
    "          `source` INT,\n",
    "          `is_closed` BOOLEAN NOT NULL,\n",
    "          `elevation` FLOAT NOT NULL,\n",
    "          `length` FLOAT,\n",
    "          `number_points` FLOAT,\n",
    "          `geometry` LINESTRING NOT NULL,\n",
    "          PRIMARY KEY (id)\n",
    "          )\n",
    "          ENGINE=InnoDB;\n",
    "        \"\"\"%contours_lines_table_name\n",
    "    cursor.execute(cmd)\n",
    "2"
   ]
  },
  {
   "cell_type": "code",
   "execution_count": 6,
   "id": "0b983511-3268-475d-bff5-1b9bde1a7d62",
   "metadata": {},
   "outputs": [
    {
     "data": {
      "text/plain": [
       "2"
      ]
     },
     "execution_count": 6,
     "metadata": {},
     "output_type": "execute_result"
    }
   ],
   "source": [
    "#ASSUME GEODATAFRAMES ARE IN UTM COORDINATES\n",
    "GENERATE=False\n",
    "if GENERATE:\n",
    "    t1=time.time()\n",
    "    file_paths=glob.glob('COURBE_1-0__SHP_LAMB93_D02A_2021-01-01/COURBE/1_DONNEES_LIVRAISON_2021-01-01/COURBE_1-0_SHP_LAMB93_D02A_2021/*.shp')\n",
    "    file_paths+=glob.glob('COURBE_1-0__SHP_LAMB93_D02B_2021-01-01/COURBE/1_DONNEES_LIVRAISON_2021-01-01/COURBE_1-0_SHP_LAMB93_D02B_2021/*.shp')\n",
    "\n",
    "    for k,file_path in enumerate(file_paths[:]):\n",
    "        print(file_path)\n",
    "        df=gpd.read_file(file_path) \n",
    "        df['elevation']=df['ALTITUDE']\n",
    "        add_contour_lines_to_database(df,cursor,source=k)\n",
    "        t3=time.time()\n",
    "        cmd=\"\"\"SELECT c1.id AS id_1,ST_asText(c1.geometry) AS border_1,c2.id AS id_2,ST_asText(c2.geometry) AS border_2 FROM\n",
    "        (SELECT * FROM %s WHERE source!=%i) AS c1\n",
    "        JOIN (SELECT * FROM %s WHERE source=%i) AS c2\n",
    "        ON c1.elevation=c2.elevation AND c1.length=c2.length\n",
    "        \n",
    "        ;\n",
    "        \n",
    "        \"\"\"%(contours_lines_table_name,k,contours_lines_table_name,k)\n",
    "        cursor.execute(cmd)\n",
    "        L=cursor.fetchall()\n",
    "        t4=time.time()\n",
    "        print('getting pairs took %f'%(t4-t3))\n",
    "        bad_ids=[elem['id_2'] for elem in L if loads(elem['border_1'])==loads(elem['border_2'])]\n",
    "\n",
    "        t5=time.time()\n",
    "        print('comparing pairs took %f'%(t5-t4))\n",
    "        if len(bad_ids)>0:\n",
    "            bad_ids_string='(%s)'%', '.join([str(bad_id) for bad_id in bad_ids])\n",
    "            cmd=\"DELETE FROM %s WHERE id IN %s\"%(contours_lines_table_name,bad_ids_string)\n",
    "            cursor.execute(cmd)\n",
    "            t6=time.time()\n",
    "            print('deleting took %f'%(t6-t5))\n",
    "\n",
    "\n",
    "        \n",
    "\n",
    "\n",
    "    t2=time.time()\n",
    "    print(t2-t1)\n",
    "2"
   ]
  },
  {
   "cell_type": "code",
   "execution_count": 7,
   "id": "7c8e8b0c-d6d8-44fc-81fe-1c35980c1eb8",
   "metadata": {},
   "outputs": [
    {
     "name": "stdout",
     "output_type": "stream",
     "text": [
      "0.10340261459350586\n"
     ]
    }
   ],
   "source": [
    "t1=time.time()\n",
    "cmd=\"SELECT DISTINCT elevation FROM %s ORDER BY elevation\"%contours_lines_table_name\n",
    "cmd=cursor.execute(cmd)\n",
    "elevations=np.array([elem['elevation'] for elem in cursor.fetchall()])\n",
    "t2=time.time()\n",
    "print(t2-t1)"
   ]
  },
  {
   "cell_type": "code",
   "execution_count": 8,
   "id": "1649dc26-bc59-4bf7-8707-b5273e437027",
   "metadata": {
    "scrolled": true
   },
   "outputs": [
    {
     "data": {
      "text/plain": [
       "2"
      ]
     },
     "execution_count": 8,
     "metadata": {},
     "output_type": "execute_result"
    }
   ],
   "source": [
    "MERGE=False\n",
    "if MERGE:\n",
    "    t1=time.time()\n",
    "    for level in elevations:\n",
    "        print(level)\n",
    "        level_open_contours_df=get_level_contours_df(cursor,level,contours_lines_table_name,is_closed=False)\n",
    "        if level_open_contours_df is not None:\n",
    "            crs=level_open_contours_df.estimate_utm_crs()\n",
    "            level_open_contours_df=level_open_contours_df.to_crs(crs)\n",
    "            merged_contours_lines=get_contour_lines_from_elevation_df(level_open_contours_df)\n",
    "            if len(merged_contours_lines)>0:\n",
    "                merged_contours_df=gpd.GeoDataFrame([{'geometry':ls} for ls in merged_contours_lines],geometry='geometry',crs=crs)\n",
    "                merged_contours_df['elevation']=level\n",
    "                add_contour_lines_to_database(merged_contours_df,cursor,is_closed=True)\n",
    "\n",
    "                cursor.execute(cmd)\n",
    "    t2=time.time()\n",
    "    print(t2-t1)\n",
    "2"
   ]
  },
  {
   "cell_type": "code",
   "execution_count": 9,
   "id": "8eeb2b73-e528-4058-aead-b58bdeef4d64",
   "metadata": {},
   "outputs": [
    {
     "data": {
      "text/plain": [
       "2"
      ]
     },
     "execution_count": 9,
     "metadata": {},
     "output_type": "execute_result"
    }
   ],
   "source": [
    "DELETE_EDGE_TABLE=False\n",
    "if DELETE_EDGE_TABLE:\n",
    "    cmd=\"\"\"DROP TABLE `%s`\"\"\"%tree_edges_table_name\n",
    "    cursor.execute(cmd)\n",
    "2"
   ]
  },
  {
   "cell_type": "code",
   "execution_count": 10,
   "id": "196e5898-830e-442e-a475-fbe74b10bae4",
   "metadata": {
    "scrolled": true
   },
   "outputs": [],
   "source": [
    "COMPUTE_TREE=False\n",
    "tree_edges_table_name=\"tree_edges\"\n",
    "\n",
    "if COMPUTE_TREE:\n",
    "    t1=time.time()\n",
    "    edges=[]\n",
    "    for k,level in enumerate(elevations):\n",
    "        print(level)\n",
    "        nearby_levels=[level]\n",
    "        if k!=0:\n",
    "            nearby_levels.append(elevations[k-1])\n",
    "        if k!=len(elevations)-1:\n",
    "            nearby_levels.append(elevations[k+1])\n",
    "            \n",
    "        polys_df=get_level_contours_df(cursor,level,contours_lines_table_name,is_closed=True)\n",
    "        if polys_df is not None:\n",
    "            polys_df['geometry']=polys_df['geometry'].apply(lambda ls:Polygon(ls))\n",
    "            crs=polys_df.estimate_utm_crs()\n",
    "            polys_df=polys_df.to_crs(crs)\n",
    "            polys_df['area']=polys_df['geometry'].apply(lambda poly:poly.area)\n",
    "\n",
    "            points_dfs=[get_level_contours_df(cursor,nearby_level,contours_lines_table_name,is_closed=True) for nearby_level in nearby_levels]\n",
    "            points_dfs=[df for df in points_dfs if df is not None]\n",
    "            if len(points_dfs)>0:\n",
    "                points_df=pd.concat(points_dfs)\n",
    "                points_df=points_df.to_crs(crs)\n",
    "                points_df['area']=points_df['geometry'].apply(lambda ls:Polygon(ls).area)\n",
    "                points_df['geometry']=points_df['geometry'].apply(lambda ls:ls.representative_point())\n",
    "\n",
    "                inter=gpd.overlay(polys_df,points_df,keep_geom_type=False)\n",
    "                inter=inter[inter.id_1!=inter.id_2]\n",
    "                \n",
    "                edges+=list(zip(inter['id_1'],inter['id_2'],inter['area_1']-inter['area_2']))\n",
    "\n",
    "    G=nx.DiGraph()\n",
    "    G.add_edges_from([(u,v,{'weight':area_diff}) for u,v,area_diff in edges])\n",
    "    for node in G.nodes():\n",
    "        in_edges=[(u,v,d) for u,v,d in G.in_edges(node,data=True) if u!=v]\n",
    "        if len(in_edges)>1:\n",
    "            in_edges=sorted(in_edges,key=lambda edge:edge[2]['weight'])\n",
    "            for u,v,_ in in_edges[1:]:\n",
    "                G.remove_edge(u,v)\n",
    "    tree_edges=G.edges()\n",
    "\n",
    "    cmd=\"\"\"CREATE TABLE `%s`(\n",
    "    `begin` INT NOT NULL,\n",
    "    `end` INT NOT NULL,\n",
    "    FOREIGN KEY (begin) REFERENCES %s(id),\n",
    "    FOREIGN KEY (end) REFERENCES %s(id) ,\n",
    "    PRIMARY KEY (begin,end)\n",
    "    );\n",
    "        \"\"\"%(tree_edges_table_name,contours_lines_table_name,contours_lines_table_name)\n",
    "    \n",
    "    cursor.execute(cmd)\n",
    "    \n",
    "    string_list=',\\n'.join(['(%i,%i)'%(u,v) for (u,v) in tree_edges])\n",
    "    cmd=\"\"\"INSERT INTO %s (`begin`,`end`) VALUES %s;\"\"\"%(tree_edges_table_name,string_list)\n",
    "    cursor.execute(cmd)\n",
    "    \n",
    "    t2=time.time()\n",
    "    print(t2-t1)"
   ]
  }
 ],
 "metadata": {
  "kernelspec": {
   "display_name": "pygmt",
   "language": "python",
   "name": "pygmt"
  },
  "language_info": {
   "codemirror_mode": {
    "name": "ipython",
    "version": 3
   },
   "file_extension": ".py",
   "mimetype": "text/x-python",
   "name": "python",
   "nbconvert_exporter": "python",
   "pygments_lexer": "ipython3",
   "version": "3.11.5"
  }
 },
 "nbformat": 4,
 "nbformat_minor": 5
}
