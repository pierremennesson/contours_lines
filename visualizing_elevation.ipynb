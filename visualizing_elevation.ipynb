{
 "cells": [
  {
   "cell_type": "code",
   "execution_count": 2,
   "id": "91cb1570-0726-4199-86ee-4590d33ab05f",
   "metadata": {},
   "outputs": [],
   "source": [
    "%load_ext autoreload\n",
    "%autoreload 2\n",
    "%reload_ext autoreload\n",
    "import mysql.connector\n",
    "import networkx as nx\n",
    "import geopandas as gpd\n",
    "import pandas as pd\n",
    "from shapely.geometry import Polygon,MultiPolygon,LineString,MultiLineString,LinearRing,Point\n",
    "from shapely import symmetric_difference\n",
    "from shapely.ops import nearest_points\n",
    "from shapely.wkt import loads\n",
    "import scipy\n",
    "import time\n",
    "import numpy as np\n",
    "import random\n",
    "from networkx.drawing.nx_pydot import graphviz_layout\n",
    "import matplotlib.pyplot as plt\n",
    "import osmnx as ox\n",
    "import glob\n",
    "from itertools import combinations,product\n",
    "from copy import deepcopy\n",
    "import os\n",
    "from lib_contour_lines import *\n",
    "import mysql.connector\n"
   ]
  },
  {
   "cell_type": "code",
   "execution_count": 3,
   "id": "c9f989f5-f6ac-4235-9d4e-b8e678dcdf12",
   "metadata": {},
   "outputs": [
    {
     "data": {
      "text/plain": [
       "2"
      ]
     },
     "execution_count": 3,
     "metadata": {},
     "output_type": "execute_result"
    }
   ],
   "source": [
    "\n",
    "cnx = mysql.connector.connect(user='spirz', \n",
    "                              password='this_is_my_PASSWORD_m8',\n",
    "                              host='localhost',\n",
    "                              database='dem_from_contours_lines',\n",
    "                              autocommit=True)\n",
    "cursor = cnx.cursor(buffered=True,dictionary=True)\n",
    "contours_lines_table_name='contours_lines'\n",
    "tree_edges_table_name=\"tree_edges\"\n",
    "osm_nodes_table_name=\"osm_nodes\"\n",
    "osm_intersections_table_name=\"osm_intersections\"\n",
    "2"
   ]
  },
  {
   "cell_type": "code",
   "execution_count": 8,
   "id": "09158d38-6ca3-46b8-b55e-e3903a5d96e6",
   "metadata": {},
   "outputs": [
    {
     "name": "stdout",
     "output_type": "stream",
     "text": [
      "87.40194582939148\n"
     ]
    },
    {
     "data": {
      "text/plain": [
       "(17435, 37758)"
      ]
     },
     "execution_count": 8,
     "metadata": {},
     "output_type": "execute_result"
    }
   ],
   "source": [
    "t1=time.time()\n",
    "place_name='Corse, France'\n",
    "G_osm=ox.graph_from_place(place_name,network_type='drive')\n",
    "\n",
    "t2=time.time()\n",
    "print(t2-t1)\n",
    "len(G_osm.nodes()),len(G_osm.edges())"
   ]
  },
  {
   "cell_type": "code",
   "execution_count": 6,
   "id": "e8841806-f5e5-4bbc-b561-5453eae72528",
   "metadata": {},
   "outputs": [
    {
     "name": "stdout",
     "output_type": "stream",
     "text": [
      "0.43584537506103516\n"
     ]
    }
   ],
   "source": [
    "t1=time.time()\n",
    "cmd=\"SELECT * FROM %s\"%osm_intersections_table_name\n",
    "cursor.execute(cmd)\n",
    "intersection=pd.DataFrame(cursor.fetchall())\n",
    "t2=time.time()\n",
    "print(t2-t1)"
   ]
  },
  {
   "cell_type": "code",
   "execution_count": 19,
   "id": "42dfb93f-5a9a-40fe-97a6-eaf00e661459",
   "metadata": {},
   "outputs": [
    {
     "data": {
      "text/plain": [
       "array([(14468319, 15905397, 0), (14468319, 1434053161, 0),\n",
       "       (14468319, 1434053206, 0), ..., (11291956061, 11291956068, 0),\n",
       "       (11291956068, 11291961272, 0), (11329589123, 11329589133, 0)],\n",
       "      dtype=object)"
      ]
     },
     "execution_count": 19,
     "metadata": {},
     "output_type": "execute_result"
    }
   ],
   "source": [
    "intersection['edge']=intersection.apply(lambda row: (row['osm_begin'],row['osm_end'],row['osm_key']),axis=1)\n",
    "edges=intersection['edge'].unique()\n",
    "edges"
   ]
  },
  {
   "cell_type": "code",
   "execution_count": 24,
   "id": "4deddbb4-578b-4bbe-86d6-5bab28879069",
   "metadata": {},
   "outputs": [
    {
     "data": {
      "text/html": [
       "<div>\n",
       "<style scoped>\n",
       "    .dataframe tbody tr th:only-of-type {\n",
       "        vertical-align: middle;\n",
       "    }\n",
       "\n",
       "    .dataframe tbody tr th {\n",
       "        vertical-align: top;\n",
       "    }\n",
       "\n",
       "    .dataframe thead th {\n",
       "        text-align: right;\n",
       "    }\n",
       "</style>\n",
       "<table border=\"1\" class=\"dataframe\">\n",
       "  <thead>\n",
       "    <tr style=\"text-align: right;\">\n",
       "      <th></th>\n",
       "      <th>osm_begin</th>\n",
       "      <th>osm_end</th>\n",
       "      <th>osm_key</th>\n",
       "      <th>contour_line_id</th>\n",
       "      <th>edge_coordinate</th>\n",
       "      <th>elevation</th>\n",
       "      <th>edge</th>\n",
       "    </tr>\n",
       "  </thead>\n",
       "  <tbody>\n",
       "    <tr>\n",
       "      <th>80567</th>\n",
       "      <td>6138194033</td>\n",
       "      <td>6138194037</td>\n",
       "      <td>0</td>\n",
       "      <td>113962</td>\n",
       "      <td>16.1543</td>\n",
       "      <td>360.0</td>\n",
       "      <td>(6138194033, 6138194037, 0)</td>\n",
       "    </tr>\n",
       "    <tr>\n",
       "      <th>80568</th>\n",
       "      <td>6138194033</td>\n",
       "      <td>6138194037</td>\n",
       "      <td>0</td>\n",
       "      <td>113960</td>\n",
       "      <td>38.1009</td>\n",
       "      <td>355.0</td>\n",
       "      <td>(6138194033, 6138194037, 0)</td>\n",
       "    </tr>\n",
       "  </tbody>\n",
       "</table>\n",
       "</div>"
      ],
      "text/plain": [
       "        osm_begin     osm_end  osm_key  contour_line_id  edge_coordinate  \\\n",
       "80567  6138194033  6138194037        0           113962          16.1543   \n",
       "80568  6138194033  6138194037        0           113960          38.1009   \n",
       "\n",
       "       elevation                         edge  \n",
       "80567      360.0  (6138194033, 6138194037, 0)  \n",
       "80568      355.0  (6138194033, 6138194037, 0)  "
      ]
     },
     "execution_count": 24,
     "metadata": {},
     "output_type": "execute_result"
    }
   ],
   "source": [
    "edge=random.choice(edges)\n",
    "edge_df=intersection[intersection.edge==edge]\n",
    "edge_df"
   ]
  },
  {
   "cell_type": "code",
   "execution_count": null,
   "id": "30f42e37-4473-4757-9ab8-d6bc4a7caf4a",
   "metadata": {},
   "outputs": [],
   "source": []
  }
 ],
 "metadata": {
  "kernelspec": {
   "display_name": "pygmt",
   "language": "python",
   "name": "pygmt"
  },
  "language_info": {
   "codemirror_mode": {
    "name": "ipython",
    "version": 3
   },
   "file_extension": ".py",
   "mimetype": "text/x-python",
   "name": "python",
   "nbconvert_exporter": "python",
   "pygments_lexer": "ipython3",
   "version": "3.11.5"
  }
 },
 "nbformat": 4,
 "nbformat_minor": 5
}
