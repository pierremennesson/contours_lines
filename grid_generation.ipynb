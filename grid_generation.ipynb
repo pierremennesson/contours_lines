{
 "cells": [
  {
   "cell_type": "code",
   "execution_count": 1,
   "id": "91cb1570-0726-4199-86ee-4590d33ab05f",
   "metadata": {},
   "outputs": [],
   "source": [
    "%load_ext autoreload\n",
    "%autoreload 2\n",
    "%reload_ext autoreload\n",
    "import mysql.connector\n",
    "import networkx as nx\n",
    "import geopandas as gpd\n",
    "import pandas as pd\n",
    "from shapely.geometry import Polygon,MultiPolygon,LineString,MultiLineString,LinearRing,Point\n",
    "from shapely import symmetric_difference\n",
    "from shapely.ops import nearest_points\n",
    "from shapely.wkt import loads\n",
    "import scipy\n",
    "import time\n",
    "import numpy as np\n",
    "import random\n",
    "from networkx.drawing.nx_pydot import graphviz_layout\n",
    "import matplotlib.pyplot as plt\n",
    "import osmnx as ox\n",
    "import glob\n",
    "from itertools import combinations,product\n",
    "from copy import deepcopy\n",
    "import os\n",
    "from lib_contour_lines import *\n",
    "import mysql.connector\n"
   ]
  },
  {
   "cell_type": "code",
   "execution_count": 2,
   "id": "c9f989f5-f6ac-4235-9d4e-b8e678dcdf12",
   "metadata": {},
   "outputs": [
    {
     "data": {
      "text/plain": [
       "2"
      ]
     },
     "execution_count": 2,
     "metadata": {},
     "output_type": "execute_result"
    }
   ],
   "source": [
    "\n",
    "cnx = mysql.connector.connect(user='spirz', \n",
    "                              password='this_is_my_PASSWORD_m8',\n",
    "                              host='localhost',\n",
    "                              database='dem_from_contours_lines',\n",
    "                              autocommit=True)\n",
    "cursor = cnx.cursor(buffered=True,dictionary=True)\n",
    "contours_lines_table_name='contours_lines'\n",
    "grid_nodes_table_name=\"grid_nodes\"\n",
    "grid_edges_table_name=\"grid_edges\"\n",
    "intersections_table_name=\"intersections_grid\"\n",
    "2"
   ]
  },
  {
   "cell_type": "code",
   "execution_count": 3,
   "id": "13c7aa8a-510d-46a6-b24f-62cd7931020f",
   "metadata": {},
   "outputs": [
    {
     "data": {
      "text/plain": [
       "2"
      ]
     },
     "execution_count": 3,
     "metadata": {},
     "output_type": "execute_result"
    }
   ],
   "source": [
    "DELETE_TABLES=True\n",
    "if DELETE_TABLES:\n",
    "    cmd=\"\"\"DROP TABLE IF EXISTS `%s`\"\"\"%intersections_table_name\n",
    "    cursor.execute(cmd)\n",
    "    cmd=\"\"\"DROP TABLE IF EXISTS `%s`\"\"\"%grid_edges_table_name\n",
    "    cursor.execute(cmd)\n",
    "    cmd=\"\"\"DROP TABLE IF EXISTS `%s`\"\"\"%grid_nodes_table_name\n",
    "    cursor.execute(cmd)\n",
    "\n",
    "2"
   ]
  },
  {
   "cell_type": "code",
   "execution_count": 4,
   "id": "505e11cd-6b02-4422-bf40-ea3a6bce899d",
   "metadata": {},
   "outputs": [
    {
     "data": {
      "text/plain": [
       "2"
      ]
     },
     "execution_count": 4,
     "metadata": {},
     "output_type": "execute_result"
    }
   ],
   "source": [
    "CREATE_TABLES=True\n",
    "if CREATE_TABLES:\n",
    "    cmd=\"\"\"CREATE TABLE `%s`(\n",
    "    `index_x` INT NOT NULL,\n",
    "    `index_y` INT NOT NULL,\n",
    "    `geometry` POINT NOT NULL,\n",
    "    `elevation` FLOAT,\n",
    "    PRIMARY KEY (index_x,index_y)\n",
    "    );\n",
    "        \"\"\"%grid_nodes_table_name\n",
    "    \n",
    "    cursor.execute(cmd)\n",
    "\n",
    "    cmd=\"\"\"CREATE TABLE `%s`(\n",
    "    `index_x_begin` INT NOT NULL,\n",
    "    `index_y_begin` INT NOT NULL,\n",
    "    `index_x_end` INT NOT NULL,\n",
    "    `index_y_end` INT NOT NULL,\n",
    "    `length` FLOAT NOT NULL,\n",
    "    `intersects` BOOLEAN,\n",
    "\n",
    "\n",
    "    FOREIGN KEY (index_x_begin,index_y_begin) REFERENCES %s(index_x,index_y),\n",
    "    FOREIGN KEY (index_x_end,index_y_end) REFERENCES %s(index_x,index_y),\n",
    "    PRIMARY KEY (index_x_begin,index_y_begin,index_x_end,index_y_end)\n",
    "\n",
    "    );\n",
    "        \"\"\"%(grid_edges_table_name,grid_nodes_table_name,grid_nodes_table_name)\n",
    "    \n",
    "    cursor.execute(cmd)\n",
    "\n",
    "    \n",
    "\n",
    "    cmd=\"\"\"CREATE TABLE `%s`(\n",
    "        `id` INT NOT NULL AUTO_INCREMENT,\n",
    "        `index_x_begin` INT NOT NULL,\n",
    "        `index_y_begin` INT NOT NULL,\n",
    "        `index_x_end` INT NOT NULL,\n",
    "        `index_y_end` INT NOT NULL,\n",
    "        `edge_coordinate` FLOAT NOT NULL,\n",
    "        `geometry` POINT NOT NULL,\n",
    "        `elevation` FLOAT NOT NULL,\n",
    "\n",
    "        FOREIGN KEY (index_x_begin,index_y_begin,index_x_end,index_y_end) REFERENCES %s(index_x_begin,index_y_begin,index_x_end,index_y_end),\n",
    "        UNIQUE (index_x_begin,index_y_begin,index_x_end,index_y_end,edge_coordinate),\n",
    "        PRIMARY KEY (id)\n",
    "\n",
    "          )\n",
    "          ENGINE=InnoDB;\n",
    "        \"\"\"%(intersections_table_name,grid_edges_table_name)\n",
    "    cursor.execute(cmd)\n",
    "\n",
    "2"
   ]
  },
  {
   "cell_type": "code",
   "execution_count": 5,
   "id": "bcd5eea0-29be-42b5-9aa4-5d2f765ae358",
   "metadata": {},
   "outputs": [
    {
     "name": "stdout",
     "output_type": "stream",
     "text": [
      "0.5657474994659424\n"
     ]
    }
   ],
   "source": [
    "t1=time.time()\n",
    "place_name='Corse, France'\n",
    "area=ox.geocode_to_gdf(place_name)\n",
    "crs=area.estimate_utm_crs()\n",
    "area=area.to_crs(crs)\n",
    "t2=time.time()\n",
    "print(t2-t1)\n"
   ]
  },
  {
   "cell_type": "code",
   "execution_count": 6,
   "id": "63a10aec-9527-4da1-8fe6-50ddf18f1c94",
   "metadata": {},
   "outputs": [
    {
     "name": "stdout",
     "output_type": "stream",
     "text": [
      "44.890350341796875\n",
      "58.69277501106262\n",
      "242.5453281402588\n",
      "245.09686017036438\n"
     ]
    }
   ],
   "source": [
    "step,simplify_coeff=50,1000\n",
    "poly=area.iloc[0]['geometry']\n",
    "t1=time.time()\n",
    "coords=np.array(poly.boundary.coords)\n",
    "x_min,x_max,y_min,y_max=np.min(coords[:,0]),np.max(coords[:,0]),np.min(coords[:,1]),np.max(coords[:,1])\n",
    "X,Y=np.arange(x_min,x_max,step),np.arange(y_min,y_max,step)\n",
    "points_df=[{'index_x':i,'index_y':j,'geometry':Point(x,y)} for i,x in enumerate(X) for j,y in enumerate(Y)]\n",
    "t2=time.time()\n",
    "print(t2-t1)\n",
    "points_df=gpd.GeoDataFrame(points_df,geometry='geometry',crs=crs)\n",
    "t2=time.time()\n",
    "print(t2-t1)\n",
    "points_df=points_df[points_df['geometry'].within(poly.simplify(simplify_coeff))]\n",
    "t2=time.time()\n",
    "print(t2-t1)\n",
    "points_df=points_df.set_index(pd.MultiIndex.from_tuples(zip(points_df['index_x'],points_df['index_y'])))\n",
    "t2=time.time()\n",
    "print(t2-t1)"
   ]
  },
  {
   "cell_type": "code",
   "execution_count": null,
   "id": "cb5a20b5-70c9-4dab-80e5-bd51183240d7",
   "metadata": {},
   "outputs": [],
   "source": [
    "t1=time.time()\n",
    "edges_df=[]\n",
    "for i,j in points_df.index:\n",
    "    if (i+1,j) in points_df.index:\n",
    "        edges_df.append({'begin':(i,j),'end':(i+1,j),'geometry':LineString([points_df.loc[i,j]['geometry'],points_df.loc[i+1,j]['geometry']])})\n",
    "    if (i,j+1) in points_df.index:\n",
    "        edges_df.append({'begin':(i,j),'end':(i,j+1),'geometry':LineString([points_df.loc[i,j]['geometry'],points_df.loc[i,j+1]['geometry']])})\n",
    "    \n",
    "    \n",
    "t2=time.time()\n",
    "print(t2-t1)    \n",
    "edges_df=gpd.GeoDataFrame(edges_df,geometry='geometry',crs=crs)\n",
    "t2=time.time()\n",
    "print(t2-t1)\n",
    "edges_df=edges_df.set_index(np.arange(len(edges_df)))\n",
    "edges_df['id_edge']=edges_df.index\n",
    "edges_df['edge']=edges_df.apply(lambda row:(row['begin'],row['end']),axis=1)\n",
    "edges_df['length']=step\n",
    "t2=time.time()\n",
    "print(t2-t1)"
   ]
  },
  {
   "cell_type": "code",
   "execution_count": null,
   "id": "80cc35e8-605b-42c7-b35e-5a6e84e7028c",
   "metadata": {},
   "outputs": [],
   "source": [
    "t1=time.time()\n",
    "intersection=increasing_elevations_intersections(edges_df,crs,cursor)\n",
    "t2=time.time()\n",
    "print('total : %f'%(t2-t1))"
   ]
  },
  {
   "cell_type": "code",
   "execution_count": null,
   "id": "4c0e4049-cd74-4b60-986b-4c00fbeaed45",
   "metadata": {},
   "outputs": [],
   "source": [
    "ADD_GRID_DATA=True\n",
    "if ADD_GRID_DATA:\n",
    "    t1=time.time()\n",
    "    edges=edges_df['edge']\n",
    "    points_df=points_df.to_crs('epsg:4326')\n",
    "    \n",
    "    \n",
    "    string_list=',\\n'.join(['(%i,%i,ST_GeomFromText(\\'%s\\'))'%(index_x,index_y,row['geometry'].wkt) for (index_x,index_y),row in points_df.iterrows()])\n",
    "    cmd=\"INSERT IGNORE INTO %s(index_x,index_y,geometry) VALUES %s;\"%(grid_nodes_table_name,string_list)\n",
    "    cursor.execute(cmd)\n",
    "\n",
    "    \n",
    "    intersecting_edges=intersection['edge'].unique()\n",
    "    string_list=',\\n'.join(['(%i,%i,%i,%i,%f,TRUE)'%(edge[0][0],edge[0][1],edge[1][0],edge[1][1],step) for edge in intersecting_edges])\n",
    "    cmd=\"INSERT INTO %s(index_x_begin,index_y_begin,index_x_end,index_y_end,length,intersects) VALUES %s;\"%(grid_edges_table_name,string_list)\n",
    "    cursor.execute(cmd)\n",
    "\n",
    "    inside_edges=set(edges).difference(intersecting_edges)\n",
    "\n",
    "    string_list=',\\n'.join(['(%i,%i,%i,%i,%f,FALSE)'%(edge[0][0],edge[0][1],edge[1][0],edge[1][1],step) for edge in inside_edges])\n",
    "    cmd=\"INSERT INTO %s(index_x_begin,index_y_begin,index_x_end,index_y_end,length,intersects) VALUES %s;\"%(grid_edges_table_name,string_list)\n",
    "    cursor.execute(cmd)\n",
    "\n",
    "    intersection=intersection.to_crs('epsg:4326')\n",
    "\n",
    "    string_list=',\\n'.join(['(%i,%i,%i,%i,%f,%f,ST_GeomFromText(\\'%s\\'))'%(row['edge'][0][0],row['edge'][0][1],row['edge'][1][0],row['edge'][1][1],row['edge_coordinate'],row['elevation'],row['geometry'].wkt)  for _,row in intersection.iterrows()])\n",
    "    cmd=\"INSERT INTO %s (index_x_begin,index_y_begin,index_x_end,index_y_end,edge_coordinate,elevation,geometry) VALUES %s;\"%(intersections_table_name,string_list)\n",
    "    cursor.execute(cmd)\n",
    "    \n",
    "    t2=time.time()\n",
    "    print(t2-t1)\n",
    "2"
   ]
  },
  {
   "cell_type": "code",
   "execution_count": null,
   "id": "7fe93972-c875-4c33-bad9-cde0f8b87659",
   "metadata": {},
   "outputs": [],
   "source": []
  }
 ],
 "metadata": {
  "kernelspec": {
   "display_name": "pygmt",
   "language": "python",
   "name": "pygmt"
  },
  "language_info": {
   "codemirror_mode": {
    "name": "ipython",
    "version": 3
   },
   "file_extension": ".py",
   "mimetype": "text/x-python",
   "name": "python",
   "nbconvert_exporter": "python",
   "pygments_lexer": "ipython3",
   "version": "3.11.5"
  }
 },
 "nbformat": 4,
 "nbformat_minor": 5
}
