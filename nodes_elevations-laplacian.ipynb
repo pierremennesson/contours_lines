{
 "cells": [
  {
   "cell_type": "code",
   "execution_count": 1,
   "id": "91cb1570-0726-4199-86ee-4590d33ab05f",
   "metadata": {},
   "outputs": [],
   "source": [
    "%load_ext autoreload\n",
    "%autoreload 2\n",
    "%reload_ext autoreload\n",
    "import mysql.connector\n",
    "import networkx as nx\n",
    "import geopandas as gpd\n",
    "import pandas as pd\n",
    "from shapely.geometry import Polygon,MultiPolygon,LineString,MultiLineString,LinearRing,Point\n",
    "from shapely import symmetric_difference\n",
    "from shapely.ops import nearest_points\n",
    "from shapely.wkt import loads\n",
    "import scipy\n",
    "import time\n",
    "import numpy as np\n",
    "import random\n",
    "from networkx.drawing.nx_pydot import graphviz_layout\n",
    "import matplotlib.pyplot as plt\n",
    "import osmnx as ox\n",
    "import glob\n",
    "from itertools import combinations,product\n",
    "from copy import deepcopy\n",
    "import os\n",
    "from lib_contour_lines import *\n",
    "import mysql.connector\n",
    "from scipy.optimize import minimize\n",
    "\n"
   ]
  },
  {
   "cell_type": "code",
   "execution_count": 2,
   "id": "c9f989f5-f6ac-4235-9d4e-b8e678dcdf12",
   "metadata": {},
   "outputs": [
    {
     "data": {
      "text/plain": [
       "2"
      ]
     },
     "execution_count": 2,
     "metadata": {},
     "output_type": "execute_result"
    }
   ],
   "source": [
    "\n",
    "cnx = mysql.connector.connect(user='spirz', \n",
    "                              password='this_is_my_PASSWORD_m8',\n",
    "                              host='localhost',\n",
    "                              database='dem_from_contours_lines',\n",
    "                              autocommit=True)\n",
    "cursor = cnx.cursor(buffered=True,dictionary=True)\n",
    "osm_nodes_table_name=\"osm_nodes\"\n",
    "osm_edges_table_name=\"osm_edges\"\n",
    "intersections_table_name=\"intersections\"\n",
    "2"
   ]
  },
  {
   "cell_type": "code",
   "execution_count": 3,
   "id": "e3b02c28-e1be-4327-b56e-d846f91c84fb",
   "metadata": {},
   "outputs": [
    {
     "name": "stdout",
     "output_type": "stream",
     "text": [
      "0.12796306610107422\n"
     ]
    }
   ],
   "source": [
    "t1=time.time()\n",
    "G_osm=nx.MultiGraph()\n",
    "cmd=\"SELECT osm_begin,osm_end,osm_key,length FROM %s WHERE NOT intersects\"%osm_edges_table_name\n",
    "cursor.execute(cmd)\n",
    "G_osm.add_edges_from([(elem['osm_begin'],elem['osm_end'],elem['osm_key'],{'length':elem['length']}) for elem in cursor.fetchall()])\n",
    "cmd=\"SELECT osm_id,ST_asText(geometry) AS geometry FROM %s WHERE osm_id IN %s\"%(osm_nodes_table_name,str(tuple(G_osm.nodes())))\n",
    "cursor.execute(cmd)\n",
    "data={elem['osm_id']:{'geometry':loads(elem['geometry'])} for elem in cursor.fetchall()}\n",
    "nx.set_node_attributes(G_osm,{node:{'x':datum['geometry'].x,'y':datum['geometry'].y} for node,datum in data.items()})\n",
    "t2=time.time()\n",
    "print(t2-t1)"
   ]
  },
  {
   "cell_type": "code",
   "execution_count": 4,
   "id": "a538d676-99d7-4ef1-b306-6be9c25cc2be",
   "metadata": {},
   "outputs": [
    {
     "data": {
      "image/png": "[encoded data removed]",
      "text/plain": [
       "<Figure size 640x480 with 1 Axes>"
      ]
     },
     "metadata": {},
     "output_type": "display_data"
    }
   ],
   "source": [
    "pos={node:(datum['x'],datum['y']) for node,datum in G_osm.nodes(data=True)}\n",
    "nx.draw(G_osm,pos=pos,node_size=1)"
   ]
  },
  {
   "cell_type": "code",
   "execution_count": 5,
   "id": "af3f768a-8470-45a2-857e-189c474b3415",
   "metadata": {},
   "outputs": [
    {
     "name": "stdout",
     "output_type": "stream",
     "text": [
      "4558 4011 1062 487\n"
     ]
    }
   ],
   "source": [
    "print(len(G_osm.nodes()),len(G_osm.edges()),len(list(nx.connected_components(nx.Graph(G_osm)))),len(nx.cycle_basis(nx.Graph(G_osm))))"
   ]
  },
  {
   "cell_type": "code",
   "execution_count": 6,
   "id": "a29e6248-35c8-4800-a201-4a969328e585",
   "metadata": {},
   "outputs": [
    {
     "name": "stdout",
     "output_type": "stream",
     "text": [
      "1.335256576538086\n"
     ]
    }
   ],
   "source": [
    "t1=time.time()\n",
    "k=0\n",
    "\n",
    "true_osm_nodes=tuple(G_osm.nodes())\n",
    "cmd=\"SELECT osm_begin,osm_end,osm_key,edge_coordinate,elevation,ST_asText(geometry) AS geometry FROM %s WHERE osm_begin IN %s\"%(intersections_table_name,str(true_osm_nodes))\n",
    "cursor.execute(cmd)\n",
    "intersection=pd.DataFrame(cursor.fetchall())\n",
    "intersection['geometry']=intersection['geometry'].apply(lambda pt:loads(pt))\n",
    "\n",
    "for (osm_begin,osm_end,osm_key),df in intersection.groupby(['osm_begin','osm_end','osm_key']):\n",
    "    df=df.sort_values('edge_coordinate')\n",
    "    row=df.iloc[0]\n",
    "    neighbor_pt,neighbor_elevation,length=row['geometry'],row['elevation'],row['edge_coordinate']\n",
    "    G_osm.add_node((osm_begin,k),x=neighbor_pt.x,y=neighbor_pt.y,elevation=neighbor_elevation)\n",
    "    G_osm.add_edge(osm_begin,(osm_begin,k),length=length)\n",
    "    k+=1\n",
    "\n",
    "cmd=\"SELECT osm_begin,osm_end,osm_key,length FROM %s WHERE osm_end IN %s\"%(osm_edges_table_name,str(true_osm_nodes))\n",
    "cursor.execute(cmd)\n",
    "lengths={(elem['osm_begin'],elem['osm_end'],elem['osm_key']):elem['length'] for elem in cursor.fetchall()}\n",
    "\n",
    "cmd=\"SELECT osm_begin,osm_end,osm_key,edge_coordinate,elevation,ST_asText(geometry) AS geometry FROM %s WHERE (osm_begin,osm_end,osm_key) IN %s\"%(intersections_table_name,str(tuple(lengths.keys())))\n",
    "cursor.execute(cmd)\n",
    "intersection=pd.DataFrame(cursor.fetchall())\n",
    "intersection['geometry']=intersection['geometry'].apply(lambda pt:loads(pt))\n",
    "\n",
    "for (osm_begin,osm_end,osm_key),df in intersection.groupby(['osm_begin','osm_end','osm_key']):\n",
    "    df=df.sort_values('edge_coordinate')\n",
    "    row=df.iloc[-1]\n",
    "    neighbor_pt,neighbor_elevation,length=row['geometry'],row['elevation'],lengths[(osm_begin,osm_end,osm_key)]-row['edge_coordinate']\n",
    "    G_osm.add_node((osm_end,k),x=neighbor_pt.x,y=neighbor_pt.y,elevation=neighbor_elevation)\n",
    "    G_osm.add_edge((osm_end,k),osm_end,length=length)\n",
    "    k+=1\n",
    "\n",
    "t2=time.time()\n",
    "print(t2-t1)"
   ]
  },
  {
   "cell_type": "code",
   "execution_count": 7,
   "id": "d3ed9778-6e09-4d36-a521-92c6fcaa5a05",
   "metadata": {},
   "outputs": [
    {
     "name": "stdout",
     "output_type": "stream",
     "text": [
      "0.08122062683105469\n"
     ]
    }
   ],
   "source": [
    "t1=time.time()\n",
    "CC=sorted(list(nx.connected_components(nx.Graph(G_osm))),key=len)\n",
    "t2=time.time()\n",
    "print(t2-t1)"
   ]
  },
  {
   "cell_type": "code",
   "execution_count": 8,
   "id": "c465e717-8de1-4e37-8252-7cdd394a1420",
   "metadata": {},
   "outputs": [
    {
     "data": {
      "text/plain": [
       "191"
      ]
     },
     "execution_count": 8,
     "metadata": {},
     "output_type": "execute_result"
    }
   ],
   "source": [
    "count=0\n",
    "for cc in CC:\n",
    "    nodes=list(cc)\n",
    "    variable_indexes=[k for k,node in enumerate(nodes) if not(isinstance(node,tuple))]\n",
    "    constant_indexes=[k for k,node in enumerate(nodes) if isinstance(node,tuple)]\n",
    "    elevations=[G_osm.nodes()[nodes[k]]['elevation'] for k in constant_indexes]\n",
    "    if len(set(elevations))==1:\n",
    "        count+=1\n",
    "count"
   ]
  },
  {
   "cell_type": "code",
   "execution_count": 9,
   "id": "24f70c50-85b8-4248-bd15-f53005364876",
   "metadata": {},
   "outputs": [
    {
     "data": {
      "image/png": "[encoded data removed]",
      "text/plain": [
       "<Figure size 640x480 with 1 Axes>"
      ]
     },
     "metadata": {},
     "output_type": "display_data"
    }
   ],
   "source": [
    "cc=CC[-1]\n",
    "sub_G_osm=nx.subgraph(G_osm,cc).copy()\n",
    "\n",
    "pos={node:(datum['x'],datum['y']) for node,datum in sub_G_osm.nodes(data=True)}\n",
    "node_color=['r' if isinstance(node,tuple)  else 'b' for node in sub_G_osm.nodes()]\n",
    "nx.draw(sub_G_osm,pos=pos,node_color=node_color,node_size=10)"
   ]
  },
  {
   "cell_type": "code",
   "execution_count": 10,
   "id": "83907fe0-d617-477b-9ed4-4ce230059a1c",
   "metadata": {},
   "outputs": [
    {
     "data": {
      "text/plain": [
       "[5.0, 5.0, 5.0, 0.0]"
      ]
     },
     "execution_count": 10,
     "metadata": {},
     "output_type": "execute_result"
    }
   ],
   "source": [
    "[data['elevation'] for node,data in sub_G_osm.nodes(data=True) if isinstance(node,tuple)]"
   ]
  },
  {
   "cell_type": "code",
   "execution_count": 11,
   "id": "b6b9a777-dd75-40b6-87ce-0321a2e52afe",
   "metadata": {},
   "outputs": [
    {
     "data": {
      "image/png": "[encoded data removed]",
      "text/plain": [
       "<Figure size 640x480 with 1 Axes>"
      ]
     },
     "metadata": {},
     "output_type": "display_data"
    }
   ],
   "source": [
    "colors=['b','m','r','y','k']\n",
    "nodes,estimated_elevations=estimate_elevations_from_laplacian(sub_G_osm)\n",
    "sub_G_osm=nx.subgraph(sub_G_osm,nodes)\n",
    "integer_elevations=list(np.round(estimated_elevations-np.min(estimated_elevations)).astype('int'))\n",
    "node_color=[colors[integer_elevation%len(colors)] for integer_elevation in integer_elevations]\n",
    "nx.draw(sub_G_osm,pos=pos,node_color=node_color,node_size=1)"
   ]
  },
  {
   "cell_type": "code",
   "execution_count": 12,
   "id": "658c23a8-f667-41d7-bf8b-6d2791365abc",
   "metadata": {},
   "outputs": [
    {
     "data": {
      "text/plain": [
       "array([0.75467969, 1.88960756, 4.15513704, 1.88977267, 1.88923561,\n",
       "       4.17078165, 4.17745346, 4.82414024, 4.10867282, 4.15522571,\n",
       "       4.1551112 , 2.28035802, 1.89025778, 1.89037448, 2.28072636,\n",
       "       4.53313344, 2.16529314, 4.82361483, 2.16533549, 1.30756535,\n",
       "       4.16913696, 4.58372022, 4.15591264, 4.15608603, 4.53242357,\n",
       "       1.30713208, 4.26358114, 4.5329263 , 4.53263531, 4.15574912,\n",
       "       4.2699215 , 4.15597305, 4.269963  , 4.53251747, 4.15597622,\n",
       "       4.15599442, 4.49306797, 4.49386677, 4.49391147, 4.4931943 ,\n",
       "       4.12932576, 4.49267823, 4.26267375, 0.78359209, 1.00352705,\n",
       "       4.26417106, 1.00316065, 4.16647237, 4.16688623, 4.1561471 ,\n",
       "       4.99934165, 2.16540574, 4.15621826, 2.16508662, 2.16579829,\n",
       "       2.05606046, 4.16708177, 4.16702919, 4.16716239, 4.16703084,\n",
       "       2.16584187, 2.05626776, 2.692722  , 2.69272091, 3.69398756,\n",
       "       3.69370153, 3.69251888, 3.69403304, 4.53246314, 3.69393519,\n",
       "       4.81099321, 3.69356474, 3.69340016, 4.58393451, 4.49413761,\n",
       "       4.14114297, 4.14270891, 4.14557025, 4.16129061, 4.15179462,\n",
       "       4.14877863, 4.1525352 , 0.77221335, 2.61907698, 2.61911015,\n",
       "       2.61930802, 2.55026688, 2.5504456 , 4.18624753, 4.23989428,\n",
       "       4.28069889, 0.77251854, 4.26168452, 3.69338749, 4.26317549,\n",
       "       2.61842588, 4.26285198, 4.26265896, 4.26230709, 4.26200895,\n",
       "       4.25737535, 4.25724019, 4.16490861, 4.16269415, 4.16504875,\n",
       "       4.13437461, 4.13631248, 4.2632608 , 4.26374473, 1.8898374 ])"
      ]
     },
     "execution_count": 12,
     "metadata": {},
     "output_type": "execute_result"
    }
   ],
   "source": [
    "estimated_elevations"
   ]
  },
  {
   "cell_type": "code",
   "execution_count": 13,
   "id": "d20ec391-d9d5-4ca4-af0a-371e073d9e72",
   "metadata": {},
   "outputs": [
    {
     "data": {
      "text/plain": [
       "[361.26762162, 361.21161157, 364.95555839, 361.18834282, 361.21026962]"
      ]
     },
     "execution_count": 13,
     "metadata": {},
     "output_type": "execute_result"
    }
   ],
   "source": [
    "[361.26762162, 361.21161157, 364.95555839, 361.18834282,\n",
    "       361.21026962]"
   ]
  },
  {
   "cell_type": "code",
   "execution_count": 14,
   "id": "7e30f70d-7078-4dc0-a528-30101388360c",
   "metadata": {},
   "outputs": [
    {
     "name": "stdout",
     "output_type": "stream",
     "text": [
      "only one available elevation\n",
      "only one available elevation\n",
      "only one available elevation\n",
      "only one available elevation\n",
      "only one available elevation\n",
      "only one available elevation\n",
      "only one available elevation\n",
      "only one available elevation\n",
      "only one available elevation\n",
      "only one available elevation\n",
      "only one available elevation\n",
      "only one available elevation\n",
      "only one available elevation\n",
      "only one available elevation\n",
      "only one available elevation\n",
      "only one available elevation\n",
      "only one available elevation\n",
      "only one available elevation\n",
      "only one available elevation\n",
      "only one available elevation\n",
      "only one available elevation\n",
      "only one available elevation\n",
      "only one available elevation\n",
      "only one available elevation\n",
      "only one available elevation\n",
      "only one available elevation\n",
      "only one available elevation\n",
      "only one available elevation\n",
      "only one available elevation\n",
      "only one available elevation\n",
      "only one available elevation\n",
      "only one available elevation\n",
      "only one available elevation\n",
      "only one available elevation\n",
      "only one available elevation\n",
      "only one available elevation\n",
      "only one available elevation\n",
      "only one available elevation\n",
      "only one available elevation\n",
      "only one available elevation\n",
      "only one available elevation\n",
      "only one available elevation\n",
      "only one available elevation\n",
      "only one available elevation\n",
      "only one available elevation\n",
      "only one available elevation\n",
      "only one available elevation\n",
      "only one available elevation\n",
      "only one available elevation\n",
      "only one available elevation\n",
      "only one available elevation\n",
      "only one available elevation\n",
      "only one available elevation\n",
      "only one available elevation\n",
      "only one available elevation\n",
      "only one available elevation\n",
      "only one available elevation\n",
      "only one available elevation\n",
      "only one available elevation\n",
      "only one available elevation\n",
      "only one available elevation\n",
      "only one available elevation\n",
      "only one available elevation\n",
      "only one available elevation\n",
      "only one available elevation\n",
      "only one available elevation\n",
      "only one available elevation\n",
      "only one available elevation\n",
      "only one available elevation\n",
      "only one available elevation\n",
      "only one available elevation\n",
      "only one available elevation\n",
      "only one available elevation\n",
      "only one available elevation\n",
      "only one available elevation\n",
      "only one available elevation\n",
      "only one available elevation\n",
      "only one available elevation\n",
      "only one available elevation\n",
      "only one available elevation\n",
      "only one available elevation\n",
      "only one available elevation\n",
      "only one available elevation\n",
      "only one available elevation\n",
      "only one available elevation\n",
      "only one available elevation\n",
      "only one available elevation\n",
      "only one available elevation\n",
      "only one available elevation\n",
      "only one available elevation\n",
      "only one available elevation\n",
      "only one available elevation\n",
      "only one available elevation\n",
      "only one available elevation\n",
      "only one available elevation\n",
      "only one available elevation\n",
      "only one available elevation\n",
      "only one available elevation\n",
      "only one available elevation\n",
      "only one available elevation\n",
      "only one available elevation\n",
      "only one available elevation\n",
      "only one available elevation\n",
      "only one available elevation\n",
      "only one available elevation\n",
      "only one available elevation\n",
      "only one available elevation\n",
      "only one available elevation\n",
      "only one available elevation\n",
      "only one available elevation\n",
      "only one available elevation\n",
      "only one available elevation\n",
      "only one available elevation\n",
      "Desired error not necessarily achieved due to precision loss.\n",
      "Desired error not necessarily achieved due to precision loss.\n",
      "only one available elevation\n",
      "only one available elevation\n",
      "only one available elevation\n",
      "Desired error not necessarily achieved due to precision loss.\n",
      "Desired error not necessarily achieved due to precision loss.\n",
      "only one available elevation\n",
      "only one available elevation\n",
      "only one available elevation\n",
      "only one available elevation\n",
      "Desired error not necessarily achieved due to precision loss.\n",
      "only one available elevation\n",
      "Desired error not necessarily achieved due to precision loss.\n",
      "only one available elevation\n",
      "Desired error not necessarily achieved due to precision loss.\n",
      "only one available elevation\n",
      "Desired error not necessarily achieved due to precision loss.\n",
      "only one available elevation\n",
      "only one available elevation\n",
      "only one available elevation\n",
      "only one available elevation\n",
      "only one available elevation\n",
      "only one available elevation\n",
      "only one available elevation\n",
      "only one available elevation\n",
      "only one available elevation\n",
      "only one available elevation\n",
      "only one available elevation\n",
      "only one available elevation\n",
      "only one available elevation\n",
      "only one available elevation\n",
      "only one available elevation\n",
      "only one available elevation\n",
      "only one available elevation\n",
      "only one available elevation\n",
      "only one available elevation\n",
      "only one available elevation\n",
      "only one available elevation\n",
      "only one available elevation\n",
      "only one available elevation\n",
      "only one available elevation\n",
      "only one available elevation\n",
      "Desired error not necessarily achieved due to precision loss.\n",
      "only one available elevation\n",
      "Desired error not necessarily achieved due to precision loss.\n",
      "only one available elevation\n",
      "only one available elevation\n",
      "only one available elevation\n",
      "only one available elevation\n",
      "only one available elevation\n",
      "Desired error not necessarily achieved due to precision loss.\n",
      "only one available elevation\n",
      "Desired error not necessarily achieved due to precision loss.\n",
      "Desired error not necessarily achieved due to precision loss.\n",
      "only one available elevation\n",
      "Desired error not necessarily achieved due to precision loss.\n",
      "Desired error not necessarily achieved due to precision loss.\n",
      "Desired error not necessarily achieved due to precision loss.\n",
      "Desired error not necessarily achieved due to precision loss.\n",
      "only one available elevation\n",
      "Desired error not necessarily achieved due to precision loss.\n",
      "Desired error not necessarily achieved due to precision loss.\n",
      "only one available elevation\n",
      "only one available elevation\n",
      "only one available elevation\n",
      "only one available elevation\n",
      "only one available elevation\n",
      "only one available elevation\n",
      "Desired error not necessarily achieved due to precision loss.\n",
      "only one available elevation\n",
      "only one available elevation\n",
      "Desired error not necessarily achieved due to precision loss.\n",
      "only one available elevation\n",
      "only one available elevation\n",
      "only one available elevation\n",
      "only one available elevation\n",
      "only one available elevation\n",
      "Desired error not necessarily achieved due to precision loss.\n",
      "only one available elevation\n",
      "only one available elevation\n",
      "Desired error not necessarily achieved due to precision loss.\n",
      "Desired error not necessarily achieved due to precision loss.\n",
      "Desired error not necessarily achieved due to precision loss.\n",
      "only one available elevation\n",
      "only one available elevation\n",
      "Desired error not necessarily achieved due to precision loss.\n",
      "Desired error not necessarily achieved due to precision loss.\n",
      "only one available elevation\n",
      "only one available elevation\n",
      "Desired error not necessarily achieved due to precision loss.\n",
      "only one available elevation\n",
      "only one available elevation\n",
      "Desired error not necessarily achieved due to precision loss.\n",
      "only one available elevation\n",
      "Desired error not necessarily achieved due to precision loss.\n",
      "Desired error not necessarily achieved due to precision loss.\n",
      "only one available elevation\n",
      "only one available elevation\n",
      "Desired error not necessarily achieved due to precision loss.\n",
      "Desired error not necessarily achieved due to precision loss.\n",
      "only one available elevation\n",
      "only one available elevation\n",
      "only one available elevation\n",
      "Desired error not necessarily achieved due to precision loss.\n",
      "only one available elevation\n",
      "Desired error not necessarily achieved due to precision loss.\n",
      "Desired error not necessarily achieved due to precision loss.\n",
      "Desired error not necessarily achieved due to precision loss.\n",
      "only one available elevation\n",
      "Desired error not necessarily achieved due to precision loss.\n",
      "only one available elevation\n",
      "only one available elevation\n",
      "Desired error not necessarily achieved due to precision loss.\n",
      "Desired error not necessarily achieved due to precision loss.\n",
      "only one available elevation\n",
      "only one available elevation\n",
      "only one available elevation\n",
      "25.592583894729614\n"
     ]
    }
   ],
   "source": [
    "UPDATE_ELEVATION=True\n",
    "if UPDATE_ELEVATION:\n",
    "    t1=time.time()\n",
    "\n",
    "    for cc in CC:\n",
    "        sub_G_osm=nx.subgraph(G_osm,cc)\n",
    "        output=estimate_elevations_from_laplacian(sub_G_osm)\n",
    "        if output is not None:\n",
    "            nodes,estimated_elevations=output\n",
    "            \n",
    "        cmd=\"\"\"CREATE TEMPORARY TABLE temp (\n",
    "        `osm_id` BIGINT NOT NULL,\n",
    "        `elevation` FLOAT NOT NULL\n",
    "    \n",
    "        );\"\"\"\n",
    "        cursor.execute(cmd)\n",
    "    \n",
    "        cmd=\"INSERT INTO temp(`osm_id`,`elevation`) VALUES %s\"%',\\n'.join(['(%i,%f)'%(node,elevation) for node,elevation in zip(nodes,estimated_elevations)])\n",
    "        cursor.execute(cmd)\n",
    "    \n",
    "        cmd=\"\"\" UPDATE %s JOIN temp\n",
    "        ON %s.osm_id=temp.osm_id\n",
    "        SET %s.elevation=temp.elevation\n",
    "    \n",
    "        ;\"\"\"%(osm_nodes_table_name,osm_nodes_table_name,osm_nodes_table_name)\n",
    "        cursor.execute(cmd)\n",
    "        \n",
    "        cmd=\"DROP TABLE temp\"\n",
    "        cursor.execute(cmd)\n",
    "    t2=time.time()\n",
    "    print(t2-t1)\n",
    "\n",
    "\n",
    "\n"
   ]
  },
  {
   "cell_type": "code",
   "execution_count": null,
   "id": "2c45c187-4feb-4e05-ba2a-bacc47b4323f",
   "metadata": {},
   "outputs": [],
   "source": []
  }
 ],
 "metadata": {
  "kernelspec": {
   "display_name": "pygmt",
   "language": "python",
   "name": "pygmt"
  },
  "language_info": {
   "codemirror_mode": {
    "name": "ipython",
    "version": 3
   },
   "file_extension": ".py",
   "mimetype": "text/x-python",
   "name": "python",
   "nbconvert_exporter": "python",
   "pygments_lexer": "ipython3",
   "version": "3.11.5"
  }
 },
 "nbformat": 4,
 "nbformat_minor": 5
}
