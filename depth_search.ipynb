{
 "cells": [
  {
   "cell_type": "code",
   "execution_count": 1,
   "id": "91cb1570-0726-4199-86ee-4590d33ab05f",
   "metadata": {},
   "outputs": [],
   "source": [
    "%load_ext autoreload\n",
    "%autoreload 2\n",
    "%reload_ext autoreload\n",
    "import mysql.connector\n",
    "import networkx as nx\n",
    "import geopandas as gpd\n",
    "import pandas as pd\n",
    "from shapely.geometry import Polygon,MultiPolygon,LineString,MultiLineString,LinearRing,Point\n",
    "from shapely import symmetric_difference\n",
    "from shapely.ops import nearest_points\n",
    "from shapely.wkt import loads\n",
    "import scipy\n",
    "import time\n",
    "import numpy as np\n",
    "import random\n",
    "from networkx.drawing.nx_pydot import graphviz_layout\n",
    "import matplotlib.pyplot as plt\n",
    "import osmnx as ox\n",
    "import glob\n",
    "from itertools import combinations,product\n",
    "from copy import deepcopy\n",
    "import os\n",
    "from lib_contour_lines import *\n",
    "import mysql.connector\n"
   ]
  },
  {
   "cell_type": "code",
   "execution_count": 2,
   "id": "c9f989f5-f6ac-4235-9d4e-b8e678dcdf12",
   "metadata": {},
   "outputs": [
    {
     "data": {
      "text/plain": [
       "2"
      ]
     },
     "execution_count": 2,
     "metadata": {},
     "output_type": "execute_result"
    }
   ],
   "source": [
    "\n",
    "cnx = mysql.connector.connect(user='spirz', \n",
    "                              password='this_is_my_PASSWORD_m8',\n",
    "                              host='localhost',\n",
    "                              database='dem_from_contours_lines',\n",
    "                              autocommit=True)\n",
    "cursor = cnx.cursor(buffered=True,dictionary=True)\n",
    "contours_lines_table_name='contours_lines'\n",
    "tree_edges_table_name=\"tree_edges\"\n",
    "osm_nodes_table_name=\"osm_nodes\"\n",
    "osm_intersections_table_name=\"osm_intersections\"\n",
    "2"
   ]
  },
  {
   "cell_type": "code",
   "execution_count": 16,
   "id": "13c7aa8a-510d-46a6-b24f-62cd7931020f",
   "metadata": {},
   "outputs": [
    {
     "data": {
      "text/plain": [
       "2"
      ]
     },
     "execution_count": 16,
     "metadata": {},
     "output_type": "execute_result"
    }
   ],
   "source": [
    "DELETE_TABLES=True\n",
    "if DELETE_TABLES:\n",
    "    try:\n",
    "        cmd=\"\"\"DROP TABLE `%s`\"\"\"%osm_intersections_table_name\n",
    "        cursor.execute(cmd)\n",
    "    except Exception as e:\n",
    "        print(e)\n",
    "        pass\n",
    "    cmd=\"\"\"DROP TABLE `%s`\"\"\"%osm_nodes_table_name\n",
    "    cursor.execute(cmd)\n",
    "2"
   ]
  },
  {
   "cell_type": "code",
   "execution_count": 17,
   "id": "505e11cd-6b02-4422-bf40-ea3a6bce899d",
   "metadata": {},
   "outputs": [
    {
     "data": {
      "text/plain": [
       "2"
      ]
     },
     "execution_count": 17,
     "metadata": {},
     "output_type": "execute_result"
    }
   ],
   "source": [
    "CREATE_TABLES=True\n",
    "if CREATE_TABLES:\n",
    "    cmd=\"\"\"CREATE TABLE `%s`(\n",
    "    `osm_id` BIGINT NOT NULL,\n",
    "    `contour_line_id` INT NOT NULL,\n",
    "    `elevation` FLOAT,\n",
    "\n",
    "    FOREIGN KEY (contour_line_id) REFERENCES %s(id),\n",
    "    PRIMARY KEY (osm_id)\n",
    "    );\n",
    "        \"\"\"%(osm_nodes_table_name,contours_lines_table_name)\n",
    "    \n",
    "    cursor.execute(cmd)\n",
    "\n",
    "\n",
    "\n",
    "    \n",
    "    cmd=\"\"\"CREATE TABLE `%s`(\n",
    "        `osm_begin` BIGINT NOT NULL,\n",
    "        `osm_end` BIGINT NOT NULL,\n",
    "        `osm_key` INT NOT NULL,\n",
    "        `contour_line_id` INT NOT NULL,\n",
    "        `edge_coordinate` FLOAT NOT NULL,\n",
    "        `elevation` FLOAT NOT NULL,\n",
    "\n",
    "        FOREIGN KEY (osm_begin) REFERENCES %s(osm_id),\n",
    "        FOREIGN KEY (osm_end) REFERENCES %s(osm_id),\n",
    "        FOREIGN KEY (contour_line_id) REFERENCES %s(id),\n",
    "        PRIMARY KEY (osm_begin,osm_end,osm_key,edge_coordinate)\n",
    "        \n",
    "\n",
    "          )\n",
    "          ENGINE=InnoDB;\n",
    "        \"\"\"%(osm_intersections_table_name,osm_nodes_table_name,osm_nodes_table_name,contours_lines_table_name)\n",
    "    cursor.execute(cmd)\n",
    "    \n",
    "\n",
    "2"
   ]
  },
  {
   "cell_type": "code",
   "execution_count": 5,
   "id": "2120ff12-8df1-4ba5-9b25-1d5dc32820ac",
   "metadata": {},
   "outputs": [
    {
     "name": "stdout",
     "output_type": "stream",
     "text": [
      "0.940648078918457\n"
     ]
    }
   ],
   "source": [
    "t1=time.time()\n",
    "G=build_graph(cursor)\n",
    "max_depth=np.max([data['depth'] for _,data in G.nodes(data=True)])\n",
    "t2=time.time()\n",
    "print(t2-t1)"
   ]
  },
  {
   "cell_type": "code",
   "execution_count": 6,
   "id": "bcd5eea0-29be-42b5-9aa4-5d2f765ae358",
   "metadata": {},
   "outputs": [
    {
     "name": "stdout",
     "output_type": "stream",
     "text": [
      "67.59827899932861\n"
     ]
    },
    {
     "data": {
      "text/plain": [
       "(17435, 20792)"
      ]
     },
     "execution_count": 6,
     "metadata": {},
     "output_type": "execute_result"
    }
   ],
   "source": [
    "t1=time.time()\n",
    "place_name='Corse, France'\n",
    "G_osm=ox.graph_from_place(place_name,network_type='drive')\n",
    "G_osm=to_multi_graph(G_osm)\n",
    "osm_crs=ox.graph_to_gdfs(G_osm,edges=False).estimate_utm_crs()\n",
    "G_osm=ox.project_graph(G_osm,to_crs=osm_crs)\n",
    "add_missing_geometries(G_osm)\n",
    "t2=time.time()\n",
    "print(t2-t1)\n",
    "len(G_osm.nodes()),len(G_osm.edges())"
   ]
  },
  {
   "cell_type": "code",
   "execution_count": 7,
   "id": "4f2a5240-02d2-44e9-9610-34d75105d710",
   "metadata": {},
   "outputs": [
    {
     "name": "stdout",
     "output_type": "stream",
     "text": [
      "0.40482306480407715\n"
     ]
    },
    {
     "data": {
      "text/html": [
       "<div>\n",
       "<style scoped>\n",
       "    .dataframe tbody tr th:only-of-type {\n",
       "        vertical-align: middle;\n",
       "    }\n",
       "\n",
       "    .dataframe tbody tr th {\n",
       "        vertical-align: top;\n",
       "    }\n",
       "\n",
       "    .dataframe thead th {\n",
       "        text-align: right;\n",
       "    }\n",
       "</style>\n",
       "<table border=\"1\" class=\"dataframe\">\n",
       "  <thead>\n",
       "    <tr style=\"text-align: right;\">\n",
       "      <th></th>\n",
       "      <th>edge</th>\n",
       "      <th>geometry</th>\n",
       "      <th>length</th>\n",
       "      <th>number_of_points</th>\n",
       "    </tr>\n",
       "  </thead>\n",
       "  <tbody>\n",
       "    <tr>\n",
       "      <th>0</th>\n",
       "      <td>(3228062295, 4575394776, 0)</td>\n",
       "      <td>LINESTRING (536149.291 4707866.081, 536149.100...</td>\n",
       "      <td>1.140</td>\n",
       "      <td>2</td>\n",
       "    </tr>\n",
       "    <tr>\n",
       "      <th>1</th>\n",
       "      <td>(8322586073, 8322586072, 0)</td>\n",
       "      <td>LINESTRING (535461.183 4720987.574, 535462.311...</td>\n",
       "      <td>1.410</td>\n",
       "      <td>2</td>\n",
       "    </tr>\n",
       "    <tr>\n",
       "      <th>2</th>\n",
       "      <td>(9015392280, 9022366875, 0)</td>\n",
       "      <td>LINESTRING (479087.515 4643413.911, 479086.898...</td>\n",
       "      <td>1.478</td>\n",
       "      <td>2</td>\n",
       "    </tr>\n",
       "    <tr>\n",
       "      <th>3</th>\n",
       "      <td>(1798092110, 10807186012, 0)</td>\n",
       "      <td>LINESTRING (535396.472 4721724.923, 535397.887...</td>\n",
       "      <td>1.821</td>\n",
       "      <td>2</td>\n",
       "    </tr>\n",
       "    <tr>\n",
       "      <th>4</th>\n",
       "      <td>(10758881318, 344189032, 0)</td>\n",
       "      <td>LINESTRING (516965.588 4701096.308, 516967.429...</td>\n",
       "      <td>1.852</td>\n",
       "      <td>2</td>\n",
       "    </tr>\n",
       "    <tr>\n",
       "      <th>...</th>\n",
       "      <td>...</td>\n",
       "      <td>...</td>\n",
       "      <td>...</td>\n",
       "      <td>...</td>\n",
       "    </tr>\n",
       "    <tr>\n",
       "      <th>20787</th>\n",
       "      <td>(498564206, 498565647, 0)</td>\n",
       "      <td>LINESTRING (497333.270 4598859.449, 497336.639...</td>\n",
       "      <td>19370.256</td>\n",
       "      <td>602</td>\n",
       "    </tr>\n",
       "    <tr>\n",
       "      <th>20788</th>\n",
       "      <td>(1373773448, 3102090356, 0)</td>\n",
       "      <td>LINESTRING (515361.514 4646505.379, 515333.106...</td>\n",
       "      <td>20568.484</td>\n",
       "      <td>850</td>\n",
       "    </tr>\n",
       "    <tr>\n",
       "      <th>20789</th>\n",
       "      <td>(60608128, 297444509, 0)</td>\n",
       "      <td>LINESTRING (470534.042 4685576.155, 470528.651...</td>\n",
       "      <td>23348.990</td>\n",
       "      <td>1069</td>\n",
       "    </tr>\n",
       "    <tr>\n",
       "      <th>20790</th>\n",
       "      <td>(283719550, 498407678, 0)</td>\n",
       "      <td>LINESTRING (485161.514 4677932.541, 485167.944...</td>\n",
       "      <td>29491.401</td>\n",
       "      <td>1304</td>\n",
       "    </tr>\n",
       "    <tr>\n",
       "      <th>20791</th>\n",
       "      <td>(299425080, 1438738345, 0)</td>\n",
       "      <td>LINESTRING (515812.382 4623664.427, 515812.947...</td>\n",
       "      <td>35721.949</td>\n",
       "      <td>2411</td>\n",
       "    </tr>\n",
       "  </tbody>\n",
       "</table>\n",
       "<p>20792 rows × 4 columns</p>\n",
       "</div>"
      ],
      "text/plain": [
       "                               edge  \\\n",
       "0       (3228062295, 4575394776, 0)   \n",
       "1       (8322586073, 8322586072, 0)   \n",
       "2       (9015392280, 9022366875, 0)   \n",
       "3      (1798092110, 10807186012, 0)   \n",
       "4       (10758881318, 344189032, 0)   \n",
       "...                             ...   \n",
       "20787     (498564206, 498565647, 0)   \n",
       "20788   (1373773448, 3102090356, 0)   \n",
       "20789      (60608128, 297444509, 0)   \n",
       "20790     (283719550, 498407678, 0)   \n",
       "20791    (299425080, 1438738345, 0)   \n",
       "\n",
       "                                                geometry     length  \\\n",
       "0      LINESTRING (536149.291 4707866.081, 536149.100...      1.140   \n",
       "1      LINESTRING (535461.183 4720987.574, 535462.311...      1.410   \n",
       "2      LINESTRING (479087.515 4643413.911, 479086.898...      1.478   \n",
       "3      LINESTRING (535396.472 4721724.923, 535397.887...      1.821   \n",
       "4      LINESTRING (516965.588 4701096.308, 516967.429...      1.852   \n",
       "...                                                  ...        ...   \n",
       "20787  LINESTRING (497333.270 4598859.449, 497336.639...  19370.256   \n",
       "20788  LINESTRING (515361.514 4646505.379, 515333.106...  20568.484   \n",
       "20789  LINESTRING (470534.042 4685576.155, 470528.651...  23348.990   \n",
       "20790  LINESTRING (485161.514 4677932.541, 485167.944...  29491.401   \n",
       "20791  LINESTRING (515812.382 4623664.427, 515812.947...  35721.949   \n",
       "\n",
       "       number_of_points  \n",
       "0                     2  \n",
       "1                     2  \n",
       "2                     2  \n",
       "3                     2  \n",
       "4                     2  \n",
       "...                 ...  \n",
       "20787               602  \n",
       "20788               850  \n",
       "20789              1069  \n",
       "20790              1304  \n",
       "20791              2411  \n",
       "\n",
       "[20792 rows x 4 columns]"
      ]
     },
     "execution_count": 7,
     "metadata": {},
     "output_type": "execute_result"
    }
   ],
   "source": [
    "t1=time.time()\n",
    "osm_edges_df=ox.graph_to_gdfs(G_osm,nodes=False,edges=True)\n",
    "osm_edges_df['edge']=osm_edges_df.index\n",
    "osm_edges_df=osm_edges_df.loc[:,['edge','geometry','length']]\n",
    "osm_edges_df['number_of_points']=osm_edges_df['geometry'].apply(lambda ls:len(ls.coords))\n",
    "osm_edges_df=osm_edges_df.sort_values(by='length')\n",
    "osm_edges_df=osm_edges_df.set_index(np.arange(len(osm_edges_df)))\n",
    "t2=time.time()\n",
    "print(t2-t1)\n",
    "osm_edges_df"
   ]
  },
  {
   "cell_type": "code",
   "execution_count": 8,
   "id": "23dbc805-740c-44f6-9e6c-f9341ede8526",
   "metadata": {
    "scrolled": true
   },
   "outputs": [
    {
     "name": "stdout",
     "output_type": "stream",
     "text": [
      "520<depth<=540 :0.066226\n",
      "500<depth<=520 :0.128716\n",
      "480<depth<=500 :0.180478\n",
      "460<depth<=480 :0.304476\n",
      "440<depth<=460 :0.434397\n",
      "420<depth<=440 :0.728540\n",
      "400<depth<=420 :1.180438\n",
      "380<depth<=400 :1.709708\n",
      "360<depth<=380 :1.962698\n",
      "340<depth<=360 :2.442300\n",
      "320<depth<=340 :2.772994\n",
      "300<depth<=320 :3.449058\n",
      "280<depth<=300 :4.102990\n",
      "260<depth<=280 :5.365866\n",
      "240<depth<=260 :5.489183\n",
      "220<depth<=240 :7.324142\n",
      "200<depth<=220 :8.362483\n",
      "180<depth<=200 :10.420251\n",
      "160<depth<=180 :13.679251\n",
      "140<depth<=160 :13.238813\n",
      "120<depth<=140 :15.587888\n",
      "100<depth<=120 :18.483980\n",
      "80<depth<=100 :24.498045\n",
      "60<depth<=80 :29.596426\n",
      "40<depth<=60 :26.732352\n",
      "20<depth<=40 :30.859074\n",
      "0<depth<=20 :45.343333\n",
      "total : 274.449279 1\n"
     ]
    }
   ],
   "source": [
    "t1=time.time()\n",
    "intersection,depth=decreasing_depth_intersections(osm_edges_df,osm_crs,G,cursor,max_depth,depth_step=20)\n",
    "t2=time.time()\n",
    "print('total : %f'%(t2-t1),depth)"
   ]
  },
  {
   "cell_type": "code",
   "execution_count": 9,
   "id": "286cea43-a7d1-43c1-8281-8194312737a5",
   "metadata": {},
   "outputs": [
    {
     "name": "stdout",
     "output_type": "stream",
     "text": [
      "109.16170978546143\n"
     ]
    }
   ],
   "source": [
    "intersection['edge_coordinate']=None\n",
    "t1=time.time()\n",
    "for edge,df in intersection.groupby('edge'):\n",
    "    ls=osm_edges_df[osm_edges_df.edge==edge].iloc[0]['geometry']\n",
    "    df['edge_coordinate']=df['geometry'].apply(lambda pt:ls.project(pt))\n",
    "    intersection.loc[intersection.edge==edge,'edge_coordinate']=df['edge_coordinate']\n",
    "t2=time.time()\n",
    "print(t2-t1)"
   ]
  },
  {
   "cell_type": "code",
   "execution_count": 10,
   "id": "e71128f1-0281-4098-b232-400c23fabcb7",
   "metadata": {},
   "outputs": [
    {
     "name": "stdout",
     "output_type": "stream",
     "text": [
      "18.351147174835205\n"
     ]
    }
   ],
   "source": [
    "t1=time.time()\n",
    "pre_osm_nodes_to_contours={}\n",
    "for edge,df in intersection.groupby('edge'):\n",
    "    df=df.sort_values('edge_coordinate')\n",
    "    u,v=edge[:2]\n",
    "    if not u in pre_osm_nodes_to_contours:\n",
    "        pre_osm_nodes_to_contours[u]={df.iloc[0]['id']}\n",
    "    else:\n",
    "        pre_osm_nodes_to_contours[u].add(df.iloc[0]['id'])\n",
    "    if not v in pre_osm_nodes_to_contours:\n",
    "        pre_osm_nodes_to_contours[v]={df.iloc[-1]['id']}\n",
    "    else:\n",
    "        pre_osm_nodes_to_contours[v].add(df.iloc[-1]['id'])\n",
    "t2=time.time()\n",
    "print(t2-t1)"
   ]
  },
  {
   "cell_type": "code",
   "execution_count": 11,
   "id": "68e2f6c1-4164-4efb-9d00-bc7b842df5d8",
   "metadata": {},
   "outputs": [
    {
     "name": "stdout",
     "output_type": "stream",
     "text": [
      "0.028282880783081055\n"
     ]
    }
   ],
   "source": [
    "t1=time.time()\n",
    "osm_nodes_to_contours={}\n",
    "ambiguous_osm_nodes_to_contours={}\n",
    "for osm_node,contour_ids in pre_osm_nodes_to_contours.items():\n",
    "    if len(contour_ids)>1:\n",
    "        id_1,id_2=list(contour_ids)[:2]\n",
    "        if id_2 in G.neighbors(id_1):\n",
    "            osm_nodes_to_contours[osm_node]=id_1\n",
    "        else:\n",
    "            predecessors=list(G.predecessors(id_2))\n",
    "            contour_id=id_2 if len(predecessors)==0 else predecessors[0]\n",
    "            osm_nodes_to_contours[osm_node]=contour_id\n",
    "    else:\n",
    "        ambiguous_osm_nodes_to_contours[osm_node]=list(contour_ids)[0]\n",
    "t2=time.time()\n",
    "print(t2-t1)"
   ]
  },
  {
   "cell_type": "code",
   "execution_count": 13,
   "id": "be06b420-063c-498f-be39-49d66e2dad58",
   "metadata": {},
   "outputs": [
    {
     "name": "stdout",
     "output_type": "stream",
     "text": [
      "df ready, took 86.377027\n",
      "ambiguities removed, took 202.619630\n"
     ]
    }
   ],
   "source": [
    "t1=time.time()\n",
    "ambiguous_contours_df=get_nodes_data(cursor,set(ambiguous_osm_nodes_to_contours.values()))\n",
    "ambiguous_contours_df=ambiguous_contours_df.set_index('id')\n",
    "ambiguous_contours_df=ambiguous_contours_df.to_crs(osm_crs)\n",
    "ambiguous_contours_df['geometry']=ambiguous_contours_df['geometry'].apply(lambda ls:Polygon(ls))\n",
    "t2=time.time()\n",
    "print('df ready, took %f'%(t2-t1))\n",
    "for osm_node,id_contour in ambiguous_osm_nodes_to_contours.items():\n",
    "    datum=G_osm.nodes()[osm_node]\n",
    "    pt=Point(datum['x'],datum['y'])\n",
    "    if pt.within(ambiguous_contours_df.loc[id_contour]['geometry']):\n",
    "        osm_nodes_to_contours[osm_node]=id_contour\n",
    "    else:\n",
    "        predecessors=list(G.predecessors(id_contour))\n",
    "        id_contour=id_contour if len(predecessors)==0 else predecessors[0]\n",
    "        osm_nodes_to_contours[osm_node]=id_contour\n",
    "\n",
    "t3=time.time()\n",
    "print('ambiguities removed, took %f'%(t3-t2))"
   ]
  },
  {
   "cell_type": "code",
   "execution_count": 18,
   "id": "386acf1b-b61b-4b1a-a279-9a28c4c73155",
   "metadata": {},
   "outputs": [
    {
     "name": "stdout",
     "output_type": "stream",
     "text": [
      "8.75727105140686\n"
     ]
    }
   ],
   "source": [
    "ADD_OSM_DATA=True\n",
    "if ADD_OSM_DATA:\n",
    "    t1=time.time()\n",
    "    string_list=',\\n'.join([str((u,v)) for u,v in osm_nodes_to_contours.items()])\n",
    "    cmd=\"INSERT INTO %s (`osm_id`,`contour_line_id`) VALUES %s;\"%(osm_nodes_table_name,string_list)\n",
    "    cursor.execute(cmd)\n",
    "\n",
    "    string_list=',\\n'.join(['(%i,%i,%i,%i,%f,%f)'%(row['id'],row['edge'][0],row['edge'][1],row['edge'][2],row['edge_coordinate'],row['elevation'])  for _,row in intersection.iterrows()])\n",
    "\n",
    "    cmd=\"INSERT INTO %s (`contour_line_id`,`osm_begin`,`osm_end`,`osm_key`,`edge_coordinate`,`elevation`) VALUES %s;\"%(osm_intersections_table_name,string_list)\n",
    "    cursor.execute(cmd)\n",
    "    t2=time.time()\n",
    "    print(t2-t1)"
   ]
  },
  {
   "cell_type": "code",
   "execution_count": null,
   "id": "09f02d74-6587-4a16-aa4f-3f0d5e258002",
   "metadata": {},
   "outputs": [],
   "source": []
  }
 ],
 "metadata": {
  "kernelspec": {
   "display_name": "pygmt",
   "language": "python",
   "name": "pygmt"
  },
  "language_info": {
   "codemirror_mode": {
    "name": "ipython",
    "version": 3
   },
   "file_extension": ".py",
   "mimetype": "text/x-python",
   "name": "python",
   "nbconvert_exporter": "python",
   "pygments_lexer": "ipython3",
   "version": "3.11.5"
  }
 },
 "nbformat": 4,
 "nbformat_minor": 5
}
