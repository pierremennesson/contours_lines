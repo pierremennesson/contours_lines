{
 "cells": [
  {
   "cell_type": "code",
   "execution_count": 1,
   "id": "91cb1570-0726-4199-86ee-4590d33ab05f",
   "metadata": {},
   "outputs": [],
   "source": [
    "%load_ext autoreload\n",
    "%autoreload 2\n",
    "%reload_ext autoreload\n",
    "import mysql.connector\n",
    "import networkx as nx\n",
    "import geopandas as gpd\n",
    "import pandas as pd\n",
    "from shapely.geometry import Polygon,MultiPolygon,LineString,MultiLineString,LinearRing,Point\n",
    "from shapely import symmetric_difference\n",
    "from shapely.ops import nearest_points\n",
    "from shapely.wkt import loads\n",
    "import scipy\n",
    "import time\n",
    "import numpy as np\n",
    "import random\n",
    "from networkx.drawing.nx_pydot import graphviz_layout\n",
    "import matplotlib.pyplot as plt\n",
    "import osmnx as ox\n",
    "import glob\n",
    "from itertools import combinations,product\n",
    "from copy import deepcopy\n",
    "import os\n",
    "from lib_contour_lines import *\n",
    "import mysql.connector\n"
   ]
  },
  {
   "cell_type": "code",
   "execution_count": 12,
   "id": "c9f989f5-f6ac-4235-9d4e-b8e678dcdf12",
   "metadata": {},
   "outputs": [
    {
     "data": {
      "text/plain": [
       "2"
      ]
     },
     "execution_count": 12,
     "metadata": {},
     "output_type": "execute_result"
    }
   ],
   "source": [
    "\n",
    "cnx = mysql.connector.connect(user='spirz', \n",
    "                              password='this_is_my_PASSWORD_m8',\n",
    "                              host='localhost',\n",
    "                              database='dem_from_contours_lines',\n",
    "                              autocommit=True)\n",
    "cursor = cnx.cursor(buffered=True,dictionary=True)\n",
    "contours_lines_table_name='contours_lines'\n",
    "tree_edges_table_name=\"tree_edges\"\n",
    "osm_nodes_table_name=\"osm_nodes\"\n",
    "osm_intersections_table_name=\"osm_intersections\"\n",
    "2"
   ]
  },
  {
   "cell_type": "code",
   "execution_count": 11,
   "id": "13c7aa8a-510d-46a6-b24f-62cd7931020f",
   "metadata": {},
   "outputs": [
    {
     "name": "stdout",
     "output_type": "stream",
     "text": [
      "Unread result found\n"
     ]
    },
    {
     "ename": "InternalError",
     "evalue": "Unread result found",
     "output_type": "error",
     "traceback": [
      "\u001b[0;31m---------------------------------------------------------------------------\u001b[0m",
      "\u001b[0;31mInternalError\u001b[0m                             Traceback (most recent call last)",
      "Cell \u001b[0;32mIn[11], line 10\u001b[0m\n\u001b[1;32m      8\u001b[0m         \u001b[38;5;28;01mpass\u001b[39;00m\n\u001b[1;32m      9\u001b[0m     cmd\u001b[38;5;241m=\u001b[39m\u001b[38;5;124m\"\"\"\u001b[39m\u001b[38;5;124mDROP TABLE `\u001b[39m\u001b[38;5;132;01m%s\u001b[39;00m\u001b[38;5;124m`\u001b[39m\u001b[38;5;124m\"\"\"\u001b[39m\u001b[38;5;241m%\u001b[39mosm_nodes_table_name\n\u001b[0;32m---> 10\u001b[0m     \u001b[43mcursor\u001b[49m\u001b[38;5;241;43m.\u001b[39;49m\u001b[43mexecute\u001b[49m\u001b[43m(\u001b[49m\u001b[43mcmd\u001b[49m\u001b[43m)\u001b[49m\n\u001b[1;32m     11\u001b[0m \u001b[38;5;241m2\u001b[39m\n",
      "File \u001b[0;32m~/anaconda3/conda/envs/pygmt/lib/python3.11/site-packages/mysql/connector/cursor_cext.py:303\u001b[0m, in \u001b[0;36mCMySQLCursor.execute\u001b[0;34m(self, operation, params, multi)\u001b[0m\n\u001b[1;32m    301\u001b[0m \u001b[38;5;28;01mexcept\u001b[39;00m (ProgrammingError, \u001b[38;5;167;01mReferenceError\u001b[39;00m) \u001b[38;5;28;01mas\u001b[39;00m err:\n\u001b[1;32m    302\u001b[0m     \u001b[38;5;28;01mraise\u001b[39;00m ProgrammingError(\u001b[38;5;124m\"\u001b[39m\u001b[38;5;124mCursor is not connected\u001b[39m\u001b[38;5;124m\"\u001b[39m, \u001b[38;5;241m2055\u001b[39m) \u001b[38;5;28;01mfrom\u001b[39;00m \u001b[38;5;21;01merr\u001b[39;00m\n\u001b[0;32m--> 303\u001b[0m \u001b[38;5;28;43mself\u001b[39;49m\u001b[38;5;241;43m.\u001b[39;49m\u001b[43m_cnx\u001b[49m\u001b[38;5;241;43m.\u001b[39;49m\u001b[43mhandle_unread_result\u001b[49m\u001b[43m(\u001b[49m\u001b[43m)\u001b[49m\n\u001b[1;32m    305\u001b[0m stmt \u001b[38;5;241m=\u001b[39m \u001b[38;5;124m\"\u001b[39m\u001b[38;5;124m\"\u001b[39m\n\u001b[1;32m    306\u001b[0m \u001b[38;5;28mself\u001b[39m\u001b[38;5;241m.\u001b[39mreset()\n",
      "File \u001b[0;32m~/anaconda3/conda/envs/pygmt/lib/python3.11/site-packages/mysql/connector/connection_cext.py:961\u001b[0m, in \u001b[0;36mCMySQLConnection.handle_unread_result\u001b[0;34m(self, prepared)\u001b[0m\n\u001b[1;32m    959\u001b[0m     \u001b[38;5;28mself\u001b[39m\u001b[38;5;241m.\u001b[39mconsume_results()\n\u001b[1;32m    960\u001b[0m \u001b[38;5;28;01melif\u001b[39;00m unread_result:\n\u001b[0;32m--> 961\u001b[0m     \u001b[38;5;28;01mraise\u001b[39;00m InternalError(\u001b[38;5;124m\"\u001b[39m\u001b[38;5;124mUnread result found\u001b[39m\u001b[38;5;124m\"\u001b[39m)\n",
      "\u001b[0;31mInternalError\u001b[0m: Unread result found"
     ]
    }
   ],
   "source": [
    "DELETE_TABLES=True\n",
    "if DELETE_TABLES:\n",
    "    try:\n",
    "        cmd=\"\"\"DROP TABLE `%s`\"\"\"%osm_intersections_table_name\n",
    "        cursor.execute(cmd)\n",
    "    except Exception as e:\n",
    "        print(e)\n",
    "        pass\n",
    "    cmd=\"\"\"DROP TABLE `%s`\"\"\"%osm_nodes_table_name\n",
    "    cursor.execute(cmd)\n",
    "2"
   ]
  },
  {
   "cell_type": "code",
   "execution_count": 4,
   "id": "505e11cd-6b02-4422-bf40-ea3a6bce899d",
   "metadata": {},
   "outputs": [
    {
     "data": {
      "text/plain": [
       "2"
      ]
     },
     "execution_count": 4,
     "metadata": {},
     "output_type": "execute_result"
    }
   ],
   "source": [
    "CREATE_TABLES=True\n",
    "if CREATE_TABLES:\n",
    "    cmd=\"\"\"CREATE TABLE `%s`(\n",
    "    `osm_id` BIGINT NOT NULL,\n",
    "    `contour_line_id` INT NOT NULL,\n",
    "    `elevation` FLOAT,\n",
    "\n",
    "    FOREIGN KEY (contour_line_id) REFERENCES %s(id),\n",
    "    PRIMARY KEY (osm_id)\n",
    "    );\n",
    "        \"\"\"%(osm_nodes_table_name,contours_lines_table_name)\n",
    "    \n",
    "    cursor.execute(cmd)\n",
    "\n",
    "\n",
    "\n",
    "    \n",
    "    cmd=\"\"\"CREATE TABLE `%s`(\n",
    "        `osm_begin` BIGINT NOT NULL,\n",
    "        `osm_end` BIGINT NOT NULL,\n",
    "        `osm_key` INT NOT NULL,\n",
    "        `contour_line_id` INT NOT NULL,\n",
    "        `edge_coordinate` FLOAT NOT NULL,\n",
    "        `elevation` FLOAT NOT NULL,\n",
    "\n",
    "        FOREIGN KEY (osm_begin) REFERENCES %s(osm_id),\n",
    "        FOREIGN KEY (osm_end) REFERENCES %s(osm_id),\n",
    "        FOREIGN KEY (contour_line_id) REFERENCES %s(id),\n",
    "        PRIMARY KEY (osm_begin,osm_end,osm_key,edge_coordinate)\n",
    "        \n",
    "\n",
    "          )\n",
    "          ENGINE=InnoDB;\n",
    "        \"\"\"%(osm_intersections_table_name,osm_nodes_table_name,osm_nodes_table_name,contours_lines_table_name)\n",
    "    cursor.execute(cmd)\n",
    "    \n",
    "\n",
    "2"
   ]
  },
  {
   "cell_type": "code",
   "execution_count": 5,
   "id": "8d08c7a3-0a18-4c57-9b98-6f1857a14a4c",
   "metadata": {},
   "outputs": [],
   "source": [
    "t=time.time()"
   ]
  },
  {
   "cell_type": "code",
   "execution_count": 6,
   "id": "2120ff12-8df1-4ba5-9b25-1d5dc32820ac",
   "metadata": {},
   "outputs": [
    {
     "name": "stdout",
     "output_type": "stream",
     "text": [
      "0.6856567859649658\n"
     ]
    }
   ],
   "source": [
    "t1=time.time()\n",
    "G=build_graph(cursor)\n",
    "max_depth=np.max([data['depth'] for _,data in G.nodes(data=True)])\n",
    "t2=time.time()\n",
    "print(t2-t1)"
   ]
  },
  {
   "cell_type": "code",
   "execution_count": 7,
   "id": "bcd5eea0-29be-42b5-9aa4-5d2f765ae358",
   "metadata": {},
   "outputs": [
    {
     "name": "stdout",
     "output_type": "stream",
     "text": [
      "553.6356892585754\n"
     ]
    },
    {
     "data": {
      "text/plain": [
       "(83574, 102644)"
      ]
     },
     "execution_count": 7,
     "metadata": {},
     "output_type": "execute_result"
    }
   ],
   "source": [
    "t1=time.time()\n",
    "place_name='Corse, France'\n",
    "G_osm=ox.graph_from_place(place_name,network_type='all_private')\n",
    "G_osm=to_multi_graph(G_osm)\n",
    "osm_crs=ox.graph_to_gdfs(G_osm,edges=False).estimate_utm_crs()\n",
    "G_osm=ox.project_graph(G_osm,to_crs=osm_crs)\n",
    "add_missing_geometries(G_osm)\n",
    "t2=time.time()\n",
    "print(t2-t1)\n",
    "len(G_osm.nodes()),len(G_osm.edges())"
   ]
  },
  {
   "cell_type": "code",
   "execution_count": 8,
   "id": "4f2a5240-02d2-44e9-9610-34d75105d710",
   "metadata": {},
   "outputs": [
    {
     "name": "stdout",
     "output_type": "stream",
     "text": [
      "2.9538686275482178\n"
     ]
    },
    {
     "data": {
      "text/html": [
       "<div>\n",
       "<style scoped>\n",
       "    .dataframe tbody tr th:only-of-type {\n",
       "        vertical-align: middle;\n",
       "    }\n",
       "\n",
       "    .dataframe tbody tr th {\n",
       "        vertical-align: top;\n",
       "    }\n",
       "\n",
       "    .dataframe thead th {\n",
       "        text-align: right;\n",
       "    }\n",
       "</style>\n",
       "<table border=\"1\" class=\"dataframe\">\n",
       "  <thead>\n",
       "    <tr style=\"text-align: right;\">\n",
       "      <th></th>\n",
       "      <th>edge</th>\n",
       "      <th>geometry</th>\n",
       "      <th>length</th>\n",
       "      <th>number_of_points</th>\n",
       "    </tr>\n",
       "  </thead>\n",
       "  <tbody>\n",
       "    <tr>\n",
       "      <th>0</th>\n",
       "      <td>(3703607370, 3703607388, 0)</td>\n",
       "      <td>LINESTRING (539398.556 4710781.746, 539398.400...</td>\n",
       "      <td>0.156</td>\n",
       "      <td>2</td>\n",
       "    </tr>\n",
       "    <tr>\n",
       "      <th>1</th>\n",
       "      <td>(3694079844, 3694079836, 0)</td>\n",
       "      <td>LINESTRING (539391.686 4710743.675, 539391.464...</td>\n",
       "      <td>0.221</td>\n",
       "      <td>2</td>\n",
       "    </tr>\n",
       "    <tr>\n",
       "      <th>2</th>\n",
       "      <td>(2339806071, 8947372900, 0)</td>\n",
       "      <td>LINESTRING (482028.447 4620777.742, 482028.288...</td>\n",
       "      <td>0.222</td>\n",
       "      <td>2</td>\n",
       "    </tr>\n",
       "    <tr>\n",
       "      <th>3</th>\n",
       "      <td>(5695187353, 6418221376, 0)</td>\n",
       "      <td>LINESTRING (512478.298 4666698.070, 512478.415...</td>\n",
       "      <td>0.332</td>\n",
       "      <td>2</td>\n",
       "    </tr>\n",
       "    <tr>\n",
       "      <th>4</th>\n",
       "      <td>(7825637697, 7825637699, 0)</td>\n",
       "      <td>LINESTRING (516231.708 4611051.794, 516232.108...</td>\n",
       "      <td>0.486</td>\n",
       "      <td>2</td>\n",
       "    </tr>\n",
       "    <tr>\n",
       "      <th>...</th>\n",
       "      <td>...</td>\n",
       "      <td>...</td>\n",
       "      <td>...</td>\n",
       "      <td>...</td>\n",
       "    </tr>\n",
       "    <tr>\n",
       "      <th>102639</th>\n",
       "      <td>(4339981243, 10792988043, 0)</td>\n",
       "      <td>LINESTRING (500339.153 4645123.664, 500337.141...</td>\n",
       "      <td>9160.843</td>\n",
       "      <td>197</td>\n",
       "    </tr>\n",
       "    <tr>\n",
       "      <th>102640</th>\n",
       "      <td>(1038302195, 2311673701, 0)</td>\n",
       "      <td>LINESTRING (511142.530 4600708.022, 511071.497...</td>\n",
       "      <td>9741.848</td>\n",
       "      <td>226</td>\n",
       "    </tr>\n",
       "    <tr>\n",
       "      <th>102641</th>\n",
       "      <td>(411225727, 411226080, 0)</td>\n",
       "      <td>LINESTRING (501360.704 4683640.750, 501314.472...</td>\n",
       "      <td>10112.537</td>\n",
       "      <td>358</td>\n",
       "    </tr>\n",
       "    <tr>\n",
       "      <th>102642</th>\n",
       "      <td>(335643757, 3526675295, 0)</td>\n",
       "      <td>LINESTRING (484773.804 4697381.558, 484762.634...</td>\n",
       "      <td>10606.654</td>\n",
       "      <td>470</td>\n",
       "    </tr>\n",
       "    <tr>\n",
       "      <th>102643</th>\n",
       "      <td>(420186437, 420186958, 0)</td>\n",
       "      <td>LINESTRING (482728.082 4674990.473, 482719.896...</td>\n",
       "      <td>14732.800</td>\n",
       "      <td>595</td>\n",
       "    </tr>\n",
       "  </tbody>\n",
       "</table>\n",
       "<p>102644 rows × 4 columns</p>\n",
       "</div>"
      ],
      "text/plain": [
       "                                edge  \\\n",
       "0        (3703607370, 3703607388, 0)   \n",
       "1        (3694079844, 3694079836, 0)   \n",
       "2        (2339806071, 8947372900, 0)   \n",
       "3        (5695187353, 6418221376, 0)   \n",
       "4        (7825637697, 7825637699, 0)   \n",
       "...                              ...   \n",
       "102639  (4339981243, 10792988043, 0)   \n",
       "102640   (1038302195, 2311673701, 0)   \n",
       "102641     (411225727, 411226080, 0)   \n",
       "102642    (335643757, 3526675295, 0)   \n",
       "102643     (420186437, 420186958, 0)   \n",
       "\n",
       "                                                 geometry     length  \\\n",
       "0       LINESTRING (539398.556 4710781.746, 539398.400...      0.156   \n",
       "1       LINESTRING (539391.686 4710743.675, 539391.464...      0.221   \n",
       "2       LINESTRING (482028.447 4620777.742, 482028.288...      0.222   \n",
       "3       LINESTRING (512478.298 4666698.070, 512478.415...      0.332   \n",
       "4       LINESTRING (516231.708 4611051.794, 516232.108...      0.486   \n",
       "...                                                   ...        ...   \n",
       "102639  LINESTRING (500339.153 4645123.664, 500337.141...   9160.843   \n",
       "102640  LINESTRING (511142.530 4600708.022, 511071.497...   9741.848   \n",
       "102641  LINESTRING (501360.704 4683640.750, 501314.472...  10112.537   \n",
       "102642  LINESTRING (484773.804 4697381.558, 484762.634...  10606.654   \n",
       "102643  LINESTRING (482728.082 4674990.473, 482719.896...  14732.800   \n",
       "\n",
       "        number_of_points  \n",
       "0                      2  \n",
       "1                      2  \n",
       "2                      2  \n",
       "3                      2  \n",
       "4                      2  \n",
       "...                  ...  \n",
       "102639               197  \n",
       "102640               226  \n",
       "102641               358  \n",
       "102642               470  \n",
       "102643               595  \n",
       "\n",
       "[102644 rows x 4 columns]"
      ]
     },
     "execution_count": 8,
     "metadata": {},
     "output_type": "execute_result"
    }
   ],
   "source": [
    "t1=time.time()\n",
    "osm_edges_df=ox.graph_to_gdfs(G_osm,nodes=False,edges=True)\n",
    "osm_edges_df['edge']=osm_edges_df.index\n",
    "osm_edges_df=osm_edges_df.loc[:,['edge','geometry','length']]\n",
    "osm_edges_df['number_of_points']=osm_edges_df['geometry'].apply(lambda ls:len(ls.coords))\n",
    "osm_edges_df=osm_edges_df.sort_values(by='length')\n",
    "osm_edges_df=osm_edges_df.set_index(np.arange(len(osm_edges_df)))\n",
    "t2=time.time()\n",
    "print(t2-t1)\n",
    "osm_edges_df"
   ]
  },
  {
   "cell_type": "code",
   "execution_count": 13,
   "id": "23dbc805-740c-44f6-9e6c-f9341ede8526",
   "metadata": {
    "scrolled": true
   },
   "outputs": [
    {
     "name": "stdout",
     "output_type": "stream",
     "text": [
      "520<depth<=540 :0.365381\n",
      "500<depth<=520 :0.401291\n",
      "480<depth<=500 :0.480981\n",
      "460<depth<=480 :0.587238\n",
      "440<depth<=460 :0.826297\n",
      "420<depth<=440 :1.031117\n",
      "400<depth<=420 :1.429726\n",
      "380<depth<=400 :1.930458\n",
      "360<depth<=380 :2.469012\n",
      "340<depth<=360 :2.929211\n",
      "320<depth<=340 :3.633399\n",
      "300<depth<=320 :4.328937\n",
      "280<depth<=300 :5.279547\n",
      "260<depth<=280 :6.212221\n",
      "240<depth<=260 :7.391432\n",
      "220<depth<=240 :11.414310\n",
      "200<depth<=220 :14.010498\n",
      "180<depth<=200 :16.871232\n",
      "160<depth<=180 :21.994266\n",
      "140<depth<=160 :25.885676\n",
      "120<depth<=140 :30.262393\n",
      "100<depth<=120 :45.649025\n",
      "80<depth<=100 :61.572524\n",
      "60<depth<=80 :68.173871\n",
      "40<depth<=60 :70.274724\n",
      "20<depth<=40 :81.955644\n",
      "0<depth<=20 :133.819916\n",
      "total : 621.190440 1\n"
     ]
    }
   ],
   "source": [
    "t1=time.time()\n",
    "intersection,depth=decreasing_depth_intersections(osm_edges_df,osm_crs,G,cursor,max_depth,depth_step=20,max_delta_time_total=float('inf'),max_delta_time_per_level=float('inf'))\n",
    "t2=time.time()\n",
    "print('total : %f'%(t2-t1),depth)"
   ]
  },
  {
   "cell_type": "code",
   "execution_count": null,
   "id": "286cea43-a7d1-43c1-8281-8194312737a5",
   "metadata": {},
   "outputs": [],
   "source": [
    "intersection['edge_coordinate']=None\n",
    "t1=time.time()\n",
    "for edge,df in intersection.groupby('edge'):\n",
    "    ls=osm_edges_df[osm_edges_df.edge==edge].iloc[0]['geometry']\n",
    "    df['edge_coordinate']=df['geometry'].apply(lambda pt:ls.project(pt))\n",
    "    intersection.loc[intersection.edge==edge,'edge_coordinate']=df['edge_coordinate']\n",
    "t2=time.time()\n",
    "print(t2-t1)"
   ]
  },
  {
   "cell_type": "code",
   "execution_count": null,
   "id": "e71128f1-0281-4098-b232-400c23fabcb7",
   "metadata": {},
   "outputs": [],
   "source": [
    "t1=time.time()\n",
    "pre_osm_nodes_to_contours={}\n",
    "for edge,df in intersection.groupby('edge'):\n",
    "    df=df.sort_values('edge_coordinate')\n",
    "    u,v=edge[:2]\n",
    "    if not u in pre_osm_nodes_to_contours:\n",
    "        pre_osm_nodes_to_contours[u]={df.iloc[0]['id']}\n",
    "    else:\n",
    "        pre_osm_nodes_to_contours[u].add(df.iloc[0]['id'])\n",
    "    if not v in pre_osm_nodes_to_contours:\n",
    "        pre_osm_nodes_to_contours[v]={df.iloc[-1]['id']}\n",
    "    else:\n",
    "        pre_osm_nodes_to_contours[v].add(df.iloc[-1]['id'])\n",
    "t2=time.time()\n",
    "print(t2-t1)"
   ]
  },
  {
   "cell_type": "code",
   "execution_count": null,
   "id": "68e2f6c1-4164-4efb-9d00-bc7b842df5d8",
   "metadata": {},
   "outputs": [],
   "source": [
    "t1=time.time()\n",
    "osm_nodes_to_contours={}\n",
    "ambiguous_osm_nodes_to_contours={}\n",
    "for osm_node,contour_ids in pre_osm_nodes_to_contours.items():\n",
    "    if len(contour_ids)>1:\n",
    "        id_1,id_2=list(contour_ids)[:2]\n",
    "        if id_2 in G.neighbors(id_1):\n",
    "            osm_nodes_to_contours[osm_node]=id_1\n",
    "        else:\n",
    "            predecessors=list(G.predecessors(id_2))\n",
    "            contour_id=id_2 if len(predecessors)==0 else predecessors[0]\n",
    "            osm_nodes_to_contours[osm_node]=contour_id\n",
    "    else:\n",
    "        ambiguous_osm_nodes_to_contours[osm_node]=list(contour_ids)[0]\n",
    "t2=time.time()\n",
    "print(t2-t1)"
   ]
  },
  {
   "cell_type": "code",
   "execution_count": null,
   "id": "be06b420-063c-498f-be39-49d66e2dad58",
   "metadata": {},
   "outputs": [],
   "source": [
    "t1=time.time()\n",
    "ambiguous_contours_df=get_nodes_data(cursor,set(ambiguous_osm_nodes_to_contours.values()))\n",
    "ambiguous_contours_df=ambiguous_contours_df.set_index('id')\n",
    "ambiguous_contours_df=ambiguous_contours_df.to_crs(osm_crs)\n",
    "ambiguous_contours_df['geometry']=ambiguous_contours_df['geometry'].apply(lambda ls:Polygon(ls))\n",
    "t2=time.time()\n",
    "print('df ready, took %f'%(t2-t1))\n",
    "for osm_node,id_contour in ambiguous_osm_nodes_to_contours.items():\n",
    "    datum=G_osm.nodes()[osm_node]\n",
    "    pt=Point(datum['x'],datum['y'])\n",
    "    if pt.within(ambiguous_contours_df.loc[id_contour]['geometry']):\n",
    "        osm_nodes_to_contours[osm_node]=id_contour\n",
    "    else:\n",
    "        predecessors=list(G.predecessors(id_contour))\n",
    "        id_contour=id_contour if len(predecessors)==0 else predecessors[0]\n",
    "        osm_nodes_to_contours[osm_node]=id_contour\n",
    "\n",
    "t3=time.time()\n",
    "print('ambiguities removed, took %f'%(t3-t2))"
   ]
  },
  {
   "cell_type": "code",
   "execution_count": null,
   "id": "386acf1b-b61b-4b1a-a279-9a28c4c73155",
   "metadata": {},
   "outputs": [],
   "source": [
    "ADD_OSM_DATA=True\n",
    "if ADD_OSM_DATA:\n",
    "    t1=time.time()\n",
    "    string_list=',\\n'.join([str((u,v)) for u,v in osm_nodes_to_contours.items()])\n",
    "    cmd=\"INSERT INTO %s (`osm_id`,`contour_line_id`) VALUES %s;\"%(osm_nodes_table_name,string_list)\n",
    "    cursor.execute(cmd)\n",
    "\n",
    "    string_list=',\\n'.join(['(%i,%i,%i,%i,%f,%f)'%(row['id'],row['edge'][0],row['edge'][1],row['edge'][2],row['edge_coordinate'],row['elevation'])  for _,row in intersection.iterrows()])\n",
    "\n",
    "    cmd=\"INSERT INTO %s (`contour_line_id`,`osm_begin`,`osm_end`,`osm_key`,`edge_coordinate`,`elevation`) VALUES %s;\"%(osm_intersections_table_name,string_list)\n",
    "    cursor.execute(cmd)\n",
    "    t2=time.time()\n",
    "    print(t2-t1)"
   ]
  },
  {
   "cell_type": "code",
   "execution_count": null,
   "id": "09f02d74-6587-4a16-aa4f-3f0d5e258002",
   "metadata": {},
   "outputs": [],
   "source": [
    "tt=time.time()\n",
    "print(tt-t)"
   ]
  },
  {
   "cell_type": "code",
   "execution_count": null,
   "id": "442f733f-9d26-4bff-88dc-c9f089b29fbe",
   "metadata": {},
   "outputs": [],
   "source": []
  }
 ],
 "metadata": {
  "kernelspec": {
   "display_name": "pygmt",
   "language": "python",
   "name": "pygmt"
  },
  "language_info": {
   "codemirror_mode": {
    "name": "ipython",
    "version": 3
   },
   "file_extension": ".py",
   "mimetype": "text/x-python",
   "name": "python",
   "nbconvert_exporter": "python",
   "pygments_lexer": "ipython3",
   "version": "3.11.5"
  }
 },
 "nbformat": 4,
 "nbformat_minor": 5
}
