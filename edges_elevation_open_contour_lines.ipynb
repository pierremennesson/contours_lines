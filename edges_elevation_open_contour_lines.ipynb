{
 "cells": [
  {
   "cell_type": "code",
   "execution_count": 1,
   "id": "91cb1570-0726-4199-86ee-4590d33ab05f",
   "metadata": {},
   "outputs": [],
   "source": [
    "%load_ext autoreload\n",
    "%autoreload 2\n",
    "%reload_ext autoreload\n",
    "import mysql.connector\n",
    "import networkx as nx\n",
    "import geopandas as gpd\n",
    "import pandas as pd\n",
    "from shapely.geometry import Polygon,MultiPolygon,LineString,MultiLineString,LinearRing,Point\n",
    "from shapely import symmetric_difference\n",
    "from shapely.ops import nearest_points\n",
    "from shapely.wkt import loads\n",
    "import scipy\n",
    "import time\n",
    "import numpy as np\n",
    "import random\n",
    "from networkx.drawing.nx_pydot import graphviz_layout\n",
    "import matplotlib.pyplot as plt\n",
    "import osmnx as ox\n",
    "import glob\n",
    "from itertools import combinations,product\n",
    "from copy import deepcopy\n",
    "import os\n",
    "from lib_contour_lines import *\n",
    "import mysql.connector\n"
   ]
  },
  {
   "cell_type": "code",
   "execution_count": 2,
   "id": "c9f989f5-f6ac-4235-9d4e-b8e678dcdf12",
   "metadata": {},
   "outputs": [
    {
     "data": {
      "text/plain": [
       "2"
      ]
     },
     "execution_count": 2,
     "metadata": {},
     "output_type": "execute_result"
    }
   ],
   "source": [
    "\n",
    "cnx = mysql.connector.connect(user='spirz', \n",
    "                              password='this_is_my_PASSWORD_m8',\n",
    "                              host='localhost',\n",
    "                              database='dem_from_contours_lines',\n",
    "                              autocommit=True)\n",
    "cursor = cnx.cursor(buffered=True,dictionary=True)\n",
    "contours_lines_table_name='contours_lines'\n",
    "osm_nodes_table_name=\"osm_nodes\"\n",
    "osm_edges_table_name=\"osm_edges\"\n",
    "intersections_table_name=\"intersections\"\n",
    "2"
   ]
  },
  {
   "cell_type": "code",
   "execution_count": 3,
   "id": "bcd5eea0-29be-42b5-9aa4-5d2f765ae358",
   "metadata": {},
   "outputs": [
    {
     "name": "stdout",
     "output_type": "stream",
     "text": [
      "56.739688873291016\n"
     ]
    }
   ],
   "source": [
    "t1=time.time()\n",
    "place_name='Corse, France'\n",
    "G_osm=ox.graph_from_place(place_name,network_type='drive')\n",
    "\n",
    "t2=time.time()\n",
    "print(t2-t1)\n"
   ]
  },
  {
   "cell_type": "code",
   "execution_count": 4,
   "id": "e553c5d3-76c9-46f5-a080-e2d2fc6696c3",
   "metadata": {},
   "outputs": [
    {
     "data": {
      "text/plain": [
       "2"
      ]
     },
     "execution_count": 4,
     "metadata": {},
     "output_type": "execute_result"
    }
   ],
   "source": [
    "DELETE_TABLES=True\n",
    "if DELETE_TABLES:\n",
    "    delete_tables(cursor,table_names=[\"intersections\",\"osm_edges\",\"osm_nodes\"])\n",
    "2"
   ]
  },
  {
   "cell_type": "code",
   "execution_count": 5,
   "id": "4ffd277c-6cad-4545-b53b-bf31ea5accd9",
   "metadata": {},
   "outputs": [
    {
     "data": {
      "text/plain": [
       "2"
      ]
     },
     "execution_count": 5,
     "metadata": {},
     "output_type": "execute_result"
    }
   ],
   "source": [
    "CREATE_TABLES=True\n",
    "if CREATE_TABLES:\n",
    "    create_tables_v2(cursor,contours_lines_table_name='contours_lines',osm_nodes_table_name=\"osm_nodes\",osm_edges_table_name=\"osm_edges\",intersections_table_name=\"intersections\")\n",
    "2"
   ]
  },
  {
   "cell_type": "code",
   "execution_count": 6,
   "id": "790c0b0a-d7e2-471b-b912-df9b13c84ea4",
   "metadata": {},
   "outputs": [
    {
     "name": "stdout",
     "output_type": "stream",
     "text": [
      "12.665990114212036\n"
     ]
    }
   ],
   "source": [
    "t1=time.time()\n",
    "G_osm,osm_crs=preprocess_osm_graph(G_osm)\n",
    "t2=time.time()\n",
    "print(t2-t1)"
   ]
  },
  {
   "cell_type": "code",
   "execution_count": 7,
   "id": "4c0e4049-cd74-4b60-986b-4c00fbeaed45",
   "metadata": {},
   "outputs": [
    {
     "name": "stdout",
     "output_type": "stream",
     "text": [
      "0.000000<=elevation<50.000000 :26.643717 \n",
      "50.000000<=elevation<100.000000 :25.397292 \n",
      "100.000000<=elevation<150.000000 :17.586095 \n",
      "150.000000<=elevation<200.000000 :16.437946 \n",
      "200.000000<=elevation<250.000000 :16.355820 \n",
      "250.000000<=elevation<300.000000 :15.279205 \n",
      "300.000000<=elevation<350.000000 :15.416771 \n",
      "350.000000<=elevation<400.000000 :15.021826 \n",
      "400.000000<=elevation<450.000000 :16.461648 \n",
      "450.000000<=elevation<500.000000 :12.816448 \n",
      "500.000000<=elevation<550.000000 :10.917080 \n",
      "550.000000<=elevation<600.000000 :9.135464 \n",
      "600.000000<=elevation<650.000000 :8.800387 \n",
      "650.000000<=elevation<700.000000 :7.820996 \n",
      "700.000000<=elevation<750.000000 :7.153443 \n",
      "750.000000<=elevation<800.000000 :6.588936 \n",
      "800.000000<=elevation<850.000000 :6.127492 \n",
      "850.000000<=elevation<900.000000 :5.563487 \n",
      "900.000000<=elevation<950.000000 :4.912424 \n",
      "950.000000<=elevation<1000.000000 :4.487072 \n",
      "1000.000000<=elevation<1050.000000 :4.095056 \n",
      "1050.000000<=elevation<1100.000000 :3.895736 \n",
      "1100.000000<=elevation<1150.000000 :3.570344 \n",
      "1150.000000<=elevation<1200.000000 :3.087085 \n",
      "1200.000000<=elevation<1250.000000 :2.800343 \n",
      "1250.000000<=elevation<1300.000000 :2.734770 \n",
      "1300.000000<=elevation<1350.000000 :2.529727 \n",
      "1350.000000<=elevation<1400.000000 :2.369368 \n",
      "1400.000000<=elevation<1450.000000 :2.220026 \n",
      "1450.000000<=elevation<1500.000000 :2.005085 \n",
      "1500.000000<=elevation<1550.000000 :1.822735 \n",
      "1550.000000<=elevation<1600.000000 :1.730336 \n",
      "1600.000000<=elevation<1650.000000 :1.563787 \n",
      "1650.000000<=elevation<1700.000000 :1.414140 \n",
      "1700.000000<=elevation<1750.000000 :1.256042 \n",
      "1750.000000<=elevation<1800.000000 :1.158561 \n",
      "1800.000000<=elevation<1850.000000 :1.007946 \n",
      "1850.000000<=elevation<1900.000000 :0.941975 \n",
      "1900.000000<=elevation<1950.000000 :0.857230 \n",
      "1950.000000<=elevation<2000.000000 :0.719120 \n",
      "2000.000000<=elevation<2050.000000 :0.598498 \n",
      "2050.000000<=elevation<2100.000000 :0.497877 \n",
      "2100.000000<=elevation<2150.000000 :0.439567 \n",
      "2150.000000<=elevation<2200.000000 :0.364236 \n",
      "2200.000000<=elevation<2250.000000 :0.300635 \n",
      "2250.000000<=elevation<2300.000000 :0.224062 \n",
      "2300.000000<=elevation<2350.000000 :0.187981 \n",
      "2350.000000<=elevation<2400.000000 :0.172911 \n",
      "2400.000000<=elevation<2450.000000 :0.137122 \n",
      "2450.000000<=elevation<2500.000000 :0.129195 \n",
      "2500.000000<=elevation<2550.000000 :0.094564 \n",
      "2550.000000<=elevation<2600.000000 :0.077943 \n",
      "2600.000000<=elevation<2650.000000 :0.069250 \n",
      "0.000000<=elevation<50.000000 :5.899261 \n",
      "50.000000<=elevation<100.000000 :7.289179 \n",
      "100.000000<=elevation<150.000000 :6.447299 \n",
      "150.000000<=elevation<200.000000 :6.186495 \n",
      "200.000000<=elevation<250.000000 :6.200219 \n",
      "250.000000<=elevation<300.000000 :6.281225 \n",
      "300.000000<=elevation<350.000000 :5.981895 \n",
      "350.000000<=elevation<400.000000 :6.417800 \n",
      "400.000000<=elevation<450.000000 :6.057901 \n",
      "450.000000<=elevation<500.000000 :6.142774 \n",
      "500.000000<=elevation<550.000000 :5.825747 \n",
      "550.000000<=elevation<600.000000 :5.669763 \n",
      "600.000000<=elevation<650.000000 :5.412732 \n",
      "650.000000<=elevation<700.000000 :5.170961 \n",
      "700.000000<=elevation<750.000000 :4.796684 \n",
      "750.000000<=elevation<800.000000 :5.033629 \n",
      "800.000000<=elevation<850.000000 :4.914405 \n",
      "850.000000<=elevation<900.000000 :4.406252 \n",
      "900.000000<=elevation<950.000000 :4.000896 \n",
      "950.000000<=elevation<1000.000000 :3.818998 \n",
      "1000.000000<=elevation<1050.000000 :3.676729 \n",
      "1050.000000<=elevation<1100.000000 :3.534159 \n",
      "1100.000000<=elevation<1150.000000 :3.231823 \n",
      "1150.000000<=elevation<1200.000000 :2.845472 \n",
      "1200.000000<=elevation<1250.000000 :2.768035 \n",
      "1250.000000<=elevation<1300.000000 :2.594303 \n",
      "1300.000000<=elevation<1350.000000 :2.365103 \n",
      "1350.000000<=elevation<1400.000000 :2.161868 \n",
      "1400.000000<=elevation<1450.000000 :2.119393 \n",
      "1450.000000<=elevation<1500.000000 :1.928539 \n",
      "1500.000000<=elevation<1550.000000 :1.865898 \n",
      "1550.000000<=elevation<1600.000000 :1.699542 \n",
      "1600.000000<=elevation<1650.000000 :1.551931 \n",
      "1650.000000<=elevation<1700.000000 :1.432614 \n",
      "1700.000000<=elevation<1750.000000 :1.267858 \n",
      "1750.000000<=elevation<1800.000000 :1.140564 \n",
      "1800.000000<=elevation<1850.000000 :1.058084 \n",
      "1850.000000<=elevation<1900.000000 :0.923653 \n",
      "1900.000000<=elevation<1950.000000 :0.860378 \n",
      "1950.000000<=elevation<2000.000000 :0.735037 \n",
      "2000.000000<=elevation<2050.000000 :0.596000 \n",
      "2050.000000<=elevation<2100.000000 :0.550250 \n",
      "2100.000000<=elevation<2150.000000 :0.470624 \n",
      "2150.000000<=elevation<2200.000000 :0.366815 \n",
      "2200.000000<=elevation<2250.000000 :0.278668 \n",
      "2250.000000<=elevation<2300.000000 :0.199366 \n",
      "2300.000000<=elevation<2350.000000 :0.169056 \n",
      "2350.000000<=elevation<2400.000000 :0.158099 \n",
      "2400.000000<=elevation<2450.000000 :0.124309 \n",
      "2450.000000<=elevation<2500.000000 :0.096132 \n",
      "2500.000000<=elevation<2550.000000 :0.069359 \n",
      "2550.000000<=elevation<2600.000000 :0.061292 \n",
      "2600.000000<=elevation<2650.000000 :0.048627 \n",
      "464.10649037361145\n"
     ]
    },
    {
     "data": {
      "text/plain": [
       "2"
      ]
     },
     "execution_count": 7,
     "metadata": {},
     "output_type": "execute_result"
    }
   ],
   "source": [
    "ADD_OSM_DATA=True\n",
    "if ADD_OSM_DATA:\n",
    "    t1=time.time()\n",
    "    compute_all_intersections(G_osm,osm_crs,cursor)    \n",
    "    t2=time.time()\n",
    "    print(t2-t1)\n",
    "2"
   ]
  },
  {
   "cell_type": "code",
   "execution_count": 8,
   "id": "7904dc0e-9d90-4468-807f-aa9ce7372fe0",
   "metadata": {},
   "outputs": [
    {
     "data": {
      "text/plain": [
       "638.7775819301605"
      ]
     },
     "execution_count": 8,
     "metadata": {},
     "output_type": "execute_result"
    }
   ],
   "source": [
    "638.7775819301605"
   ]
  }
 ],
 "metadata": {
  "kernelspec": {
   "display_name": "pygmt",
   "language": "python",
   "name": "pygmt"
  },
  "language_info": {
   "codemirror_mode": {
    "name": "ipython",
    "version": 3
   },
   "file_extension": ".py",
   "mimetype": "text/x-python",
   "name": "python",
   "nbconvert_exporter": "python",
   "pygments_lexer": "ipython3",
   "version": "3.11.5"
  }
 },
 "nbformat": 4,
 "nbformat_minor": 5
}
