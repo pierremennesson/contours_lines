{
 "cells": [
  {
   "cell_type": "code",
   "execution_count": 13,
   "id": "91cb1570-0726-4199-86ee-4590d33ab05f",
   "metadata": {},
   "outputs": [
    {
     "name": "stdout",
     "output_type": "stream",
     "text": [
      "The autoreload extension is already loaded. To reload it, use:\n",
      "  %reload_ext autoreload\n"
     ]
    }
   ],
   "source": [
    "%load_ext autoreload\n",
    "%autoreload 2\n",
    "%reload_ext autoreload\n",
    "import mysql.connector\n",
    "import networkx as nx\n",
    "import geopandas as gpd\n",
    "import pandas as pd\n",
    "from shapely.geometry import Polygon,MultiPolygon,LineString,MultiLineString,LinearRing,Point\n",
    "from shapely import symmetric_difference\n",
    "from shapely.ops import nearest_points\n",
    "from shapely.wkt import loads\n",
    "import scipy\n",
    "import time\n",
    "import numpy as np\n",
    "import random\n",
    "from networkx.drawing.nx_pydot import graphviz_layout\n",
    "import matplotlib.pyplot as plt\n",
    "import osmnx as ox\n",
    "import glob\n",
    "from itertools import combinations,product\n",
    "from copy import deepcopy\n",
    "import os\n",
    "from lib_contour_lines import *\n",
    "import mysql.connector\n"
   ]
  },
  {
   "cell_type": "code",
   "execution_count": 14,
   "id": "c9f989f5-f6ac-4235-9d4e-b8e678dcdf12",
   "metadata": {},
   "outputs": [
    {
     "data": {
      "text/plain": [
       "2"
      ]
     },
     "execution_count": 14,
     "metadata": {},
     "output_type": "execute_result"
    }
   ],
   "source": [
    "\n",
    "cnx = mysql.connector.connect(user='spirz', \n",
    "                              password='this_is_my_PASSWORD_m8',\n",
    "                              host='localhost',\n",
    "                              database='dem_from_contours_lines',\n",
    "                              autocommit=True)\n",
    "cursor = cnx.cursor(buffered=True,dictionary=True)\n",
    "contours_lines_table_name='contours_lines'\n",
    "###\n",
    "tree_edges_table_name=\"tree_edges\"\n",
    "####\n",
    "osm_nodes_table_name=\"osm_nodes\"\n",
    "osm_edges_table_name=\"osm_edges\"\n",
    "intersections_table_name=\"intersections\"\n",
    "2"
   ]
  },
  {
   "cell_type": "code",
   "execution_count": 15,
   "id": "13c7aa8a-510d-46a6-b24f-62cd7931020f",
   "metadata": {},
   "outputs": [
    {
     "data": {
      "text/plain": [
       "2"
      ]
     },
     "execution_count": 15,
     "metadata": {},
     "output_type": "execute_result"
    }
   ],
   "source": [
    "DELETE_TABLES=True\n",
    "if DELETE_TABLES:\n",
    "    cmd=\"\"\"DROP TABLE IF EXISTS `%s`\"\"\"%intersections_table_name\n",
    "    cursor.execute(cmd)\n",
    "    cmd=\"\"\"DROP TABLE IF EXISTS `%s`\"\"\"%osm_edges_table_name\n",
    "    cursor.execute(cmd)\n",
    "    cmd=\"\"\"DROP TABLE IF EXISTS `%s`\"\"\"%osm_nodes_table_name\n",
    "    cursor.execute(cmd)\n",
    "\n",
    "2"
   ]
  },
  {
   "cell_type": "code",
   "execution_count": 16,
   "id": "505e11cd-6b02-4422-bf40-ea3a6bce899d",
   "metadata": {},
   "outputs": [
    {
     "data": {
      "text/plain": [
       "2"
      ]
     },
     "execution_count": 16,
     "metadata": {},
     "output_type": "execute_result"
    }
   ],
   "source": [
    "CREATE_TABLES=True\n",
    "if CREATE_TABLES:\n",
    "    cmd=\"\"\"CREATE TABLE `%s`(\n",
    "    `osm_id` BIGINT NOT NULL,\n",
    "    `geometry` POINT NOT NULL,\n",
    "    `elevation` FLOAT,\n",
    "\n",
    "    PRIMARY KEY (osm_id)\n",
    "    );\n",
    "        \"\"\"%osm_nodes_table_name\n",
    "    \n",
    "    cursor.execute(cmd)\n",
    "\n",
    "    cmd=\"\"\"CREATE TABLE `%s`(\n",
    "    `osm_begin` BIGINT NOT NULL,\n",
    "    `osm_end` BIGINT NOT NULL,\n",
    "    `osm_key` INT NOT NULL,\n",
    "    `length` FLOAT NOT NULL,\n",
    "    `intersects` BOOLEAN,\n",
    "\n",
    "\n",
    "    FOREIGN KEY (osm_begin) REFERENCES %s(osm_id),\n",
    "    FOREIGN KEY (osm_end) REFERENCES %s(osm_id),\n",
    "    PRIMARY KEY (osm_begin,osm_end,osm_key)\n",
    "\n",
    "    );\n",
    "        \"\"\"%(osm_edges_table_name,osm_nodes_table_name,osm_nodes_table_name)\n",
    "    \n",
    "    cursor.execute(cmd)\n",
    "\n",
    "    \n",
    "    cmd=\"\"\"CREATE TABLE `%s`(\n",
    "        `id` INT NOT NULL AUTO_INCREMENT,\n",
    "        `osm_begin` BIGINT NOT NULL,\n",
    "        `osm_end` BIGINT NOT NULL,\n",
    "        `osm_key` INT NOT NULL,\n",
    "        `edge_coordinate` FLOAT NOT NULL,\n",
    "        `geometry` POINT NOT NULL,\n",
    "        `elevation` FLOAT NOT NULL,\n",
    "\n",
    "        FOREIGN KEY (osm_begin,osm_end,osm_key) REFERENCES %s(osm_begin,osm_end,osm_key),\n",
    "        UNIQUE (osm_begin,osm_end,osm_key,edge_coordinate),\n",
    "        PRIMARY KEY (id)\n",
    "\n",
    "          )\n",
    "          ENGINE=InnoDB;\n",
    "        \"\"\"%(intersections_table_name,osm_edges_table_name)\n",
    "    cursor.execute(cmd)\n",
    "    \n",
    "\n",
    "2"
   ]
  },
  {
   "cell_type": "code",
   "execution_count": 17,
   "id": "bcd5eea0-29be-42b5-9aa4-5d2f765ae358",
   "metadata": {},
   "outputs": [
    {
     "name": "stdout",
     "output_type": "stream",
     "text": [
      "71.47761225700378\n"
     ]
    },
    {
     "data": {
      "text/plain": [
       "(17435, 20543)"
      ]
     },
     "execution_count": 17,
     "metadata": {},
     "output_type": "execute_result"
    }
   ],
   "source": [
    "t1=time.time()\n",
    "place_name='Corse, France'\n",
    "G_osm=ox.graph_from_place(place_name,network_type='drive')\n",
    "loops=[edge for edge in G_osm.edges() if edge[0]==edge[1]]\n",
    "G_osm.remove_edges_from(loops)\n",
    "G_osm=to_multi_graph(G_osm)\n",
    "osm_crs=ox.graph_to_gdfs(G_osm,edges=False).estimate_utm_crs()\n",
    "G_osm=ox.project_graph(G_osm,to_crs=osm_crs)\n",
    "add_missing_geometries(G_osm)\n",
    "t2=time.time()\n",
    "print(t2-t1)\n",
    "len(G_osm.nodes()),len(G_osm.edges())"
   ]
  },
  {
   "cell_type": "code",
   "execution_count": 18,
   "id": "4f2a5240-02d2-44e9-9610-34d75105d710",
   "metadata": {},
   "outputs": [
    {
     "name": "stdout",
     "output_type": "stream",
     "text": [
      "0.37842583656311035\n"
     ]
    },
    {
     "data": {
      "text/html": [
       "<div>\n",
       "<style scoped>\n",
       "    .dataframe tbody tr th:only-of-type {\n",
       "        vertical-align: middle;\n",
       "    }\n",
       "\n",
       "    .dataframe tbody tr th {\n",
       "        vertical-align: top;\n",
       "    }\n",
       "\n",
       "    .dataframe thead th {\n",
       "        text-align: right;\n",
       "    }\n",
       "</style>\n",
       "<table border=\"1\" class=\"dataframe\">\n",
       "  <thead>\n",
       "    <tr style=\"text-align: right;\">\n",
       "      <th></th>\n",
       "      <th>edge</th>\n",
       "      <th>geometry</th>\n",
       "      <th>number_of_points</th>\n",
       "      <th>id_edge</th>\n",
       "    </tr>\n",
       "  </thead>\n",
       "  <tbody>\n",
       "    <tr>\n",
       "      <th>0</th>\n",
       "      <td>(14468319, 15905397, 0)</td>\n",
       "      <td>LINESTRING (525532.710 4599879.701, 525543.715...</td>\n",
       "      <td>82</td>\n",
       "      <td>0</td>\n",
       "    </tr>\n",
       "    <tr>\n",
       "      <th>1</th>\n",
       "      <td>(14468319, 1434053206, 0)</td>\n",
       "      <td>LINESTRING (525532.710 4599879.701, 525519.651...</td>\n",
       "      <td>4</td>\n",
       "      <td>1</td>\n",
       "    </tr>\n",
       "    <tr>\n",
       "      <th>2</th>\n",
       "      <td>(14468319, 1434053161, 0)</td>\n",
       "      <td>LINESTRING (525532.710 4599879.701, 525532.752...</td>\n",
       "      <td>20</td>\n",
       "      <td>2</td>\n",
       "    </tr>\n",
       "    <tr>\n",
       "      <th>3</th>\n",
       "      <td>(15905397, 1976904946, 0)</td>\n",
       "      <td>LINESTRING (526252.098 4600660.017, 526286.419...</td>\n",
       "      <td>12</td>\n",
       "      <td>3</td>\n",
       "    </tr>\n",
       "    <tr>\n",
       "      <th>4</th>\n",
       "      <td>(15905397, 1976906939, 0)</td>\n",
       "      <td>LINESTRING (526252.098 4600660.017, 526253.327...</td>\n",
       "      <td>7</td>\n",
       "      <td>4</td>\n",
       "    </tr>\n",
       "    <tr>\n",
       "      <th>...</th>\n",
       "      <td>...</td>\n",
       "      <td>...</td>\n",
       "      <td>...</td>\n",
       "      <td>...</td>\n",
       "    </tr>\n",
       "    <tr>\n",
       "      <th>20538</th>\n",
       "      <td>(9744995304, 9744995311, 0)</td>\n",
       "      <td>LINESTRING (496541.756 4720170.475, 496521.473...</td>\n",
       "      <td>2</td>\n",
       "      <td>20538</td>\n",
       "    </tr>\n",
       "    <tr>\n",
       "      <th>20539</th>\n",
       "      <td>(9744995304, 9744995310, 0)</td>\n",
       "      <td>LINESTRING (496541.756 4720170.475, 496558.928...</td>\n",
       "      <td>7</td>\n",
       "      <td>20539</td>\n",
       "    </tr>\n",
       "    <tr>\n",
       "      <th>20540</th>\n",
       "      <td>(9964974606, 9964974609, 0)</td>\n",
       "      <td>LINESTRING (494174.708 4719764.250, 494163.668...</td>\n",
       "      <td>4</td>\n",
       "      <td>20540</td>\n",
       "    </tr>\n",
       "    <tr>\n",
       "      <th>20541</th>\n",
       "      <td>(9964974610, 9964974611, 0)</td>\n",
       "      <td>LINESTRING (494100.379 4719512.527, 494038.489...</td>\n",
       "      <td>2</td>\n",
       "      <td>20541</td>\n",
       "    </tr>\n",
       "    <tr>\n",
       "      <th>20542</th>\n",
       "      <td>(11329589123, 11329589133, 0)</td>\n",
       "      <td>LINESTRING (493598.201 4718833.478, 493587.298...</td>\n",
       "      <td>11</td>\n",
       "      <td>20542</td>\n",
       "    </tr>\n",
       "  </tbody>\n",
       "</table>\n",
       "<p>20543 rows × 4 columns</p>\n",
       "</div>"
      ],
      "text/plain": [
       "                                edge  \\\n",
       "0            (14468319, 15905397, 0)   \n",
       "1          (14468319, 1434053206, 0)   \n",
       "2          (14468319, 1434053161, 0)   \n",
       "3          (15905397, 1976904946, 0)   \n",
       "4          (15905397, 1976906939, 0)   \n",
       "...                              ...   \n",
       "20538    (9744995304, 9744995311, 0)   \n",
       "20539    (9744995304, 9744995310, 0)   \n",
       "20540    (9964974606, 9964974609, 0)   \n",
       "20541    (9964974610, 9964974611, 0)   \n",
       "20542  (11329589123, 11329589133, 0)   \n",
       "\n",
       "                                                geometry  number_of_points  \\\n",
       "0      LINESTRING (525532.710 4599879.701, 525543.715...                82   \n",
       "1      LINESTRING (525532.710 4599879.701, 525519.651...                 4   \n",
       "2      LINESTRING (525532.710 4599879.701, 525532.752...                20   \n",
       "3      LINESTRING (526252.098 4600660.017, 526286.419...                12   \n",
       "4      LINESTRING (526252.098 4600660.017, 526253.327...                 7   \n",
       "...                                                  ...               ...   \n",
       "20538  LINESTRING (496541.756 4720170.475, 496521.473...                 2   \n",
       "20539  LINESTRING (496541.756 4720170.475, 496558.928...                 7   \n",
       "20540  LINESTRING (494174.708 4719764.250, 494163.668...                 4   \n",
       "20541  LINESTRING (494100.379 4719512.527, 494038.489...                 2   \n",
       "20542  LINESTRING (493598.201 4718833.478, 493587.298...                11   \n",
       "\n",
       "       id_edge  \n",
       "0            0  \n",
       "1            1  \n",
       "2            2  \n",
       "3            3  \n",
       "4            4  \n",
       "...        ...  \n",
       "20538    20538  \n",
       "20539    20539  \n",
       "20540    20540  \n",
       "20541    20541  \n",
       "20542    20542  \n",
       "\n",
       "[20543 rows x 4 columns]"
      ]
     },
     "execution_count": 18,
     "metadata": {},
     "output_type": "execute_result"
    }
   ],
   "source": [
    "t1=time.time()\n",
    "osm_edges_df=ox.graph_to_gdfs(G_osm,nodes=False,edges=True)\n",
    "osm_edges_df['edge']=osm_edges_df.index\n",
    "osm_edges_df=osm_edges_df.loc[:,['edge','geometry']]\n",
    "osm_edges_df['number_of_points']=osm_edges_df['geometry'].apply(lambda ls:len(ls.coords))\n",
    "osm_edges_df=osm_edges_df.set_index(np.arange(len(osm_edges_df)))\n",
    "osm_edges_df['id_edge']=osm_edges_df.index\n",
    "t2=time.time()\n",
    "print(t2-t1)\n",
    "osm_edges_df"
   ]
  },
  {
   "cell_type": "code",
   "execution_count": 19,
   "id": "80cc35e8-605b-42c7-b35e-5a6e84e7028c",
   "metadata": {},
   "outputs": [
    {
     "name": "stdout",
     "output_type": "stream",
     "text": [
      "0.000000<=elevation<50.000000 :28.626975 \n",
      "50.000000<=elevation<100.000000 :25.879143 \n",
      "100.000000<=elevation<150.000000 :17.958982 \n",
      "150.000000<=elevation<200.000000 :16.332238 \n",
      "200.000000<=elevation<250.000000 :14.629966 \n",
      "250.000000<=elevation<300.000000 :14.004121 \n",
      "300.000000<=elevation<350.000000 :13.782105 \n",
      "350.000000<=elevation<400.000000 :13.621201 \n",
      "400.000000<=elevation<450.000000 :13.349376 \n",
      "450.000000<=elevation<500.000000 :14.026862 \n",
      "500.000000<=elevation<550.000000 :12.181399 \n",
      "550.000000<=elevation<600.000000 :9.424916 \n",
      "600.000000<=elevation<650.000000 :8.676356 \n",
      "650.000000<=elevation<700.000000 :8.202727 \n",
      "700.000000<=elevation<750.000000 :7.396882 \n",
      "750.000000<=elevation<800.000000 :6.964261 \n",
      "800.000000<=elevation<850.000000 :6.619977 \n",
      "850.000000<=elevation<900.000000 :5.901978 \n",
      "900.000000<=elevation<950.000000 :5.095436 \n",
      "950.000000<=elevation<1000.000000 :4.601361 \n",
      "1000.000000<=elevation<1050.000000 :4.421775 \n",
      "1050.000000<=elevation<1100.000000 :3.921535 \n",
      "1100.000000<=elevation<1150.000000 :3.849644 \n",
      "1150.000000<=elevation<1200.000000 :3.234886 \n",
      "1200.000000<=elevation<1250.000000 :2.943609 \n",
      "1250.000000<=elevation<1300.000000 :2.899772 \n",
      "1300.000000<=elevation<1350.000000 :2.608065 \n",
      "1350.000000<=elevation<1400.000000 :2.438311 \n",
      "1400.000000<=elevation<1450.000000 :2.195025 \n",
      "1450.000000<=elevation<1500.000000 :2.045650 \n",
      "1500.000000<=elevation<1550.000000 :1.954229 \n",
      "1550.000000<=elevation<1600.000000 :1.807163 \n",
      "1600.000000<=elevation<1650.000000 :1.570609 \n",
      "1650.000000<=elevation<1700.000000 :1.407822 \n",
      "1700.000000<=elevation<1750.000000 :1.301918 \n",
      "1750.000000<=elevation<1800.000000 :1.214968 \n",
      "1800.000000<=elevation<1850.000000 :1.091789 \n",
      "1850.000000<=elevation<1900.000000 :1.002913 \n",
      "1900.000000<=elevation<1950.000000 :0.867588 \n",
      "1950.000000<=elevation<2000.000000 :0.736920 \n",
      "2000.000000<=elevation<2050.000000 :0.618003 \n",
      "2050.000000<=elevation<2100.000000 :0.540725 \n",
      "2100.000000<=elevation<2150.000000 :0.444105 \n",
      "2150.000000<=elevation<2200.000000 :0.371004 \n",
      "2200.000000<=elevation<2250.000000 :0.301537 \n",
      "2250.000000<=elevation<2300.000000 :0.232053 \n",
      "2300.000000<=elevation<2350.000000 :0.196086 \n",
      "2350.000000<=elevation<2400.000000 :0.174516 \n",
      "2400.000000<=elevation<2450.000000 :0.148467 \n",
      "2450.000000<=elevation<2500.000000 :0.130481 \n",
      "2500.000000<=elevation<2550.000000 :0.110869 \n",
      "2550.000000<=elevation<2600.000000 :0.093968 \n",
      "2600.000000<=elevation<2650.000000 :0.087727 \n",
      "total : 294.387266\n"
     ]
    }
   ],
   "source": [
    "t1=time.time()\n",
    "intersection=increasing_elevations_intersections(osm_edges_df,osm_crs,cursor)\n",
    "t2=time.time()\n",
    "print('total : %f'%(t2-t1))"
   ]
  },
  {
   "cell_type": "code",
   "execution_count": 20,
   "id": "43d48802-f2e2-4223-a15a-b1c6bb7b499b",
   "metadata": {},
   "outputs": [
    {
     "data": {
      "text/plain": [
       "84783"
      ]
     },
     "execution_count": 20,
     "metadata": {},
     "output_type": "execute_result"
    }
   ],
   "source": [
    "len(intersection)"
   ]
  },
  {
   "cell_type": "code",
   "execution_count": 21,
   "id": "f8ce40ce-892d-4e51-8086-e945d91bed9e",
   "metadata": {},
   "outputs": [
    {
     "data": {
      "text/plain": [
       "84783"
      ]
     },
     "execution_count": 21,
     "metadata": {},
     "output_type": "execute_result"
    }
   ],
   "source": [
    "84783"
   ]
  },
  {
   "cell_type": "code",
   "execution_count": 22,
   "id": "25aa8a6e-6fc7-4e3a-a156-72f7401ecdf3",
   "metadata": {},
   "outputs": [
    {
     "data": {
      "text/plain": [
       "162992"
      ]
     },
     "execution_count": 22,
     "metadata": {},
     "output_type": "execute_result"
    }
   ],
   "source": [
    "162992"
   ]
  },
  {
   "cell_type": "code",
   "execution_count": 23,
   "id": "4c0e4049-cd74-4b60-986b-4c00fbeaed45",
   "metadata": {},
   "outputs": [
    {
     "name": "stdout",
     "output_type": "stream",
     "text": [
      "11.875648021697998\n"
     ]
    },
    {
     "data": {
      "text/plain": [
       "2"
      ]
     },
     "execution_count": 23,
     "metadata": {},
     "output_type": "execute_result"
    }
   ],
   "source": [
    "ADD_OSM_DATA=True\n",
    "if ADD_OSM_DATA:\n",
    "    t1=time.time()\n",
    "    edges=osm_edges_df['edge']\n",
    "    osm_nodes_data=nx.edge_subgraph(G_osm,edges).nodes(data=True)\n",
    "    \n",
    "    string_list=',\\n'.join(['(%i,ST_GeomFromText(\\'%s\\'))'%(node,Point(data['lon'],data['lat']).wkt) for node,data in osm_nodes_data])\n",
    "    cmd=\"INSERT IGNORE INTO %s(osm_id,geometry) VALUES %s;\"%(osm_nodes_table_name,string_list)\n",
    "    cursor.execute(cmd)\n",
    "\n",
    "    intersecting_edges=intersection['edge'].unique()\n",
    "    string_list=',\\n'.join(['(%i,%i,%i,%f,TRUE)'%(edge[0],edge[1],edge[2],G_osm.get_edge_data(*edge)['length']) for edge in intersecting_edges])\n",
    "    cmd=\"INSERT INTO %s(osm_begin,osm_end,osm_key,length,intersects) VALUES %s;\"%(osm_edges_table_name,string_list)\n",
    "    cursor.execute(cmd)\n",
    "\n",
    "    inside_edges=set(edges).difference(intersecting_edges)\n",
    "\n",
    "    string_list=',\\n'.join(['(%i,%i,%i,%f,False)'%(edge[0],edge[1],edge[2],G_osm.get_edge_data(*edge)['length']) for edge in inside_edges])\n",
    "    cmd=\"INSERT INTO %s(osm_begin,osm_end,osm_key,length,intersects) VALUES %s;\"%(osm_edges_table_name,string_list)\n",
    "    cursor.execute(cmd)\n",
    "\n",
    "\n",
    "    ###\n",
    "\n",
    "\n",
    "    ###SOLVE IGNORE\n",
    "\n",
    "\n",
    "\n",
    "\n",
    "    ###\n",
    "    intersection=intersection.to_crs('epsg:4326')\n",
    "#    step=10000\n",
    "#    for k in range(0,len(intersection)):\n",
    "#        sub_intersection=intersecion.iloc[k:min(len(intersection,k+step)]\n",
    "    string_list=',\\n'.join(['(%i,%i,%i,%f,%f,ST_GeomFromText(\\'%s\\'))'%(row['edge'][0],row['edge'][1],row['edge'][2],row['edge_coordinate'],row['elevation'],row['geometry'].wkt)  for _,row in intersection.iterrows()])\n",
    "    cmd=\"INSERT INTO %s (`osm_begin`,`osm_end`,`osm_key`,`edge_coordinate`,`elevation`,`geometry`) VALUES %s;\"%(intersections_table_name,string_list)\n",
    "    cursor.execute(cmd)\n",
    "    \n",
    "    t2=time.time()\n",
    "    print(t2-t1)\n",
    "2"
   ]
  },
  {
   "cell_type": "code",
   "execution_count": 12,
   "id": "e8531304-8597-4a30-9460-4d3b55146a61",
   "metadata": {},
   "outputs": [
    {
     "data": {
      "text/plain": [
       "84783"
      ]
     },
     "execution_count": 12,
     "metadata": {},
     "output_type": "execute_result"
    }
   ],
   "source": [
    "len(intersection)"
   ]
  },
  {
   "cell_type": "code",
   "execution_count": null,
   "id": "2ff01b3f-d5c3-44bf-9853-9a0b99f9ea60",
   "metadata": {},
   "outputs": [],
   "source": []
  }
 ],
 "metadata": {
  "kernelspec": {
   "display_name": "pygmt",
   "language": "python",
   "name": "pygmt"
  },
  "language_info": {
   "codemirror_mode": {
    "name": "ipython",
    "version": 3
   },
   "file_extension": ".py",
   "mimetype": "text/x-python",
   "name": "python",
   "nbconvert_exporter": "python",
   "pygments_lexer": "ipython3",
   "version": "3.11.5"
  }
 },
 "nbformat": 4,
 "nbformat_minor": 5
}
