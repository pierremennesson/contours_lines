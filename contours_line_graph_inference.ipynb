{
 "cells": [
  {
   "cell_type": "code",
   "execution_count": 2,
   "id": "91cb1570-0726-4199-86ee-4590d33ab05f",
   "metadata": {},
   "outputs": [
    {
     "name": "stdout",
     "output_type": "stream",
     "text": [
      "The autoreload extension is already loaded. To reload it, use:\n",
      "  %reload_ext autoreload\n"
     ]
    }
   ],
   "source": [
    "%load_ext autoreload\n",
    "%autoreload 2\n",
    "%reload_ext autoreload\n",
    "import mysql.connector\n",
    "import networkx as nx\n",
    "import geopandas as gpd\n",
    "import pandas as pd\n",
    "from shapely.geometry import Polygon,MultiPolygon,LineString,MultiLineString,LinearRing,Point\n",
    "from shapely import symmetric_difference\n",
    "from shapely.ops import nearest_points\n",
    "from shapely.wkt import loads\n",
    "import scipy\n",
    "import time\n",
    "import numpy as np\n",
    "import random\n",
    "from networkx.drawing.nx_pydot import graphviz_layout\n",
    "import matplotlib.pyplot as plt\n",
    "import osmnx as ox\n",
    "import glob\n",
    "from itertools import combinations,product\n",
    "from copy import deepcopy\n",
    "import os\n",
    "from lib_contour_lines import *\n",
    "import mysql.connector\n",
    "from scipy.optimize import minimize\n",
    "\n"
   ]
  },
  {
   "cell_type": "code",
   "execution_count": 3,
   "id": "c9f989f5-f6ac-4235-9d4e-b8e678dcdf12",
   "metadata": {},
   "outputs": [
    {
     "data": {
      "text/plain": [
       "2"
      ]
     },
     "execution_count": 3,
     "metadata": {},
     "output_type": "execute_result"
    }
   ],
   "source": [
    "\n",
    "user='spirz'\n",
    "password='this_is_my_PASSWORD_m8'\n",
    "host='localhost'\n",
    "database='dem_from_contours_lines'\n",
    "contours_lines_table_name='contours_lines'\n",
    "osm_nodes_table_name=\"osm_nodes\"\n",
    "osm_edges_table_name=\"osm_edges\"\n",
    "intersections_table_name=\"intersections\"\n",
    "\n",
    "\n",
    "2"
   ]
  },
  {
   "cell_type": "code",
   "execution_count": 4,
   "id": "2f5d459b-ad47-411e-b8d1-f255d3145cdb",
   "metadata": {},
   "outputs": [
    {
     "data": {
      "text/plain": [
       "2"
      ]
     },
     "execution_count": 4,
     "metadata": {},
     "output_type": "execute_result"
    }
   ],
   "source": [
    "DBM=DataBaseManager(user=user,password=password,host=host,database=database,\n",
    "            contours_lines_table_name=contours_lines_table_name,\n",
    "            osm_nodes_table_name=osm_nodes_table_name,\n",
    "            osm_edges_table_name=osm_edges_table_name,\n",
    "            intersections_table_name=intersections_table_name)\n",
    "2"
   ]
  },
  {
   "cell_type": "code",
   "execution_count": 5,
   "id": "e3b02c28-e1be-4327-b56e-d846f91c84fb",
   "metadata": {},
   "outputs": [
    {
     "name": "stdout",
     "output_type": "stream",
     "text": [
      "9.89059329032898\n"
     ]
    }
   ],
   "source": [
    "t1=time.time()\n",
    "G_contours,df=DBM.build_contour_graph()\n",
    "t2=time.time()\n",
    "print(t2-t1)"
   ]
  },
  {
   "cell_type": "code",
   "execution_count": 6,
   "id": "2c45c187-4feb-4e05-ba2a-bacc47b4323f",
   "metadata": {},
   "outputs": [
    {
     "data": {
      "text/plain": [
       "(2604, 3622, 101, 1119)"
      ]
     },
     "execution_count": 6,
     "metadata": {},
     "output_type": "execute_result"
    }
   ],
   "source": [
    "len(G_contours.nodes()),len(G_contours.edges()),len(list(nx.connected_components(G_contours))),len(nx.cycle_basis(G_contours))"
   ]
  },
  {
   "cell_type": "code",
   "execution_count": null,
   "id": "c4345b3e-308e-4a27-ab2d-e8af3fa5d9af",
   "metadata": {},
   "outputs": [],
   "source": []
  }
 ],
 "metadata": {
  "kernelspec": {
   "display_name": "pygmt",
   "language": "python",
   "name": "pygmt"
  },
  "language_info": {
   "codemirror_mode": {
    "name": "ipython",
    "version": 3
   },
   "file_extension": ".py",
   "mimetype": "text/x-python",
   "name": "python",
   "nbconvert_exporter": "python",
   "pygments_lexer": "ipython3",
   "version": "3.11.5"
  }
 },
 "nbformat": 4,
 "nbformat_minor": 5
}
