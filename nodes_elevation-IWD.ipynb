{
 "cells": [
  {
   "cell_type": "code",
   "execution_count": 1,
   "id": "91cb1570-0726-4199-86ee-4590d33ab05f",
   "metadata": {},
   "outputs": [],
   "source": [
    "%load_ext autoreload\n",
    "%autoreload 2\n",
    "%reload_ext autoreload\n",
    "import mysql.connector\n",
    "import networkx as nx\n",
    "import geopandas as gpd\n",
    "import pandas as pd\n",
    "from shapely.geometry import Polygon,MultiPolygon,LineString,MultiLineString,LinearRing,Point\n",
    "from shapely import symmetric_difference\n",
    "from shapely.ops import nearest_points\n",
    "from shapely.wkt import loads\n",
    "import scipy\n",
    "import time\n",
    "import numpy as np\n",
    "import random\n",
    "from networkx.drawing.nx_pydot import graphviz_layout\n",
    "import matplotlib.pyplot as plt\n",
    "import osmnx as ox\n",
    "import glob\n",
    "from itertools import combinations,product\n",
    "from copy import deepcopy\n",
    "import os\n",
    "from lib_contour_lines import *\n",
    "import mysql.connector\n"
   ]
  },
  {
   "cell_type": "code",
   "execution_count": 2,
   "id": "c9f989f5-f6ac-4235-9d4e-b8e678dcdf12",
   "metadata": {},
   "outputs": [
    {
     "data": {
      "text/plain": [
       "2"
      ]
     },
     "execution_count": 2,
     "metadata": {},
     "output_type": "execute_result"
    }
   ],
   "source": [
    "\n",
    "cnx = mysql.connector.connect(user='spirz', \n",
    "                              password='this_is_my_PASSWORD_m8',\n",
    "                              host='localhost',\n",
    "                              database='dem_from_contours_lines',\n",
    "                              autocommit=True)\n",
    "cursor = cnx.cursor(buffered=True,dictionary=True)\n",
    "contours_lines_table_name='contours_lines'\n",
    "tree_edges_table_name=\"tree_edges\"\n",
    "osm_nodes_table_name=\"osm_nodes\"\n",
    "osm_intersections_table_name=\"osm_intersections\"\n",
    "2"
   ]
  },
  {
   "cell_type": "code",
   "execution_count": 3,
   "id": "fafb598b-0ea8-45d5-8e37-13886b3c388b",
   "metadata": {},
   "outputs": [
    {
     "name": "stdout",
     "output_type": "stream",
     "text": [
      "1.4359159469604492\n"
     ]
    }
   ],
   "source": [
    "t1=time.time()\n",
    "G=build_graph(cursor)\n",
    "t2=time.time()\n",
    "print(t2-t1)"
   ]
  },
  {
   "cell_type": "code",
   "execution_count": 4,
   "id": "96ae45d5-55e3-4684-9d24-e45c16165174",
   "metadata": {},
   "outputs": [
    {
     "name": "stdout",
     "output_type": "stream",
     "text": [
      "0.49356961250305176\n"
     ]
    }
   ],
   "source": [
    "t1=time.time()\n",
    "cmd=\"SELECT osm_id,contour_line_id,ST_asText(geometry) AS geometry FROM %s WHERE contour_line_id IS NOT NULL\"%osm_nodes_table_name\n",
    "cursor.execute(cmd)\n",
    "nodes_data=pd.DataFrame(cursor.fetchall())\n",
    "nodes_data['geometry']=nodes_data['geometry'].apply(lambda pt:loads(pt))\n",
    "nodes_data=nodes_data.set_index('osm_id',drop=False)\n",
    "nodes_data=gpd.GeoDataFrame(nodes_data,geometry='geometry',crs='epsg:4326')\n",
    "nodes_data['old_geometry']=nodes_data['geometry'].copy()\n",
    "crs=nodes_data.estimate_utm_crs()\n",
    "nodes_data=nodes_data.to_crs(crs)\n",
    "nodes_data['depth']=nodes_data['contour_line_id'].apply(lambda contour_line_id:G.nodes()[contour_line_id]['depth'])\n",
    "t2=time.time()\n",
    "print(t2-t1)"
   ]
  },
  {
   "cell_type": "code",
   "execution_count": 5,
   "id": "20ca0982-5779-484e-846e-ebc1ac22062c",
   "metadata": {},
   "outputs": [
    {
     "data": {
      "text/plain": [
       "17433"
      ]
     },
     "execution_count": 5,
     "metadata": {},
     "output_type": "execute_result"
    }
   ],
   "source": [
    "len(nodes_data)"
   ]
  },
  {
   "cell_type": "code",
   "execution_count": 6,
   "id": "5c83df65-123c-41f4-9491-0ca92dcac9b7",
   "metadata": {},
   "outputs": [
    {
     "name": "stdout",
     "output_type": "stream",
     "text": [
      "sorted\n",
      "607 neighbors\n",
      "setting up df took 0.691638\n"
     ]
    },
    {
     "name": "stderr",
     "output_type": "stream",
     "text": [
      "/home/pierre/anaconda3/conda/envs/pygmt/lib/python3.11/site-packages/shapely/linear.py:90: RuntimeWarning: invalid value encountered in line_locate_point\n",
      "  return lib.line_locate_point(line, other)\n"
     ]
    },
    {
     "name": "stdout",
     "output_type": "stream",
     "text": [
      "finding affine basis took 34.247826\n",
      "intermediate time 34.950515\n",
      "228 neighbors\n",
      "setting up df took 0.813902\n"
     ]
    },
    {
     "name": "stderr",
     "output_type": "stream",
     "text": [
      "/home/pierre/anaconda3/conda/envs/pygmt/lib/python3.11/site-packages/shapely/linear.py:90: RuntimeWarning: invalid value encountered in line_locate_point\n",
      "  return lib.line_locate_point(line, other)\n"
     ]
    },
    {
     "name": "stdout",
     "output_type": "stream",
     "text": [
      "finding affine basis took 31.999556\n",
      "intermediate time 67.764047\n",
      "205 neighbors\n",
      "setting up df took 0.876482\n"
     ]
    },
    {
     "name": "stderr",
     "output_type": "stream",
     "text": [
      "/home/pierre/anaconda3/conda/envs/pygmt/lib/python3.11/site-packages/shapely/linear.py:90: RuntimeWarning: invalid value encountered in line_locate_point\n",
      "  return lib.line_locate_point(line, other)\n"
     ]
    },
    {
     "name": "stdout",
     "output_type": "stream",
     "text": [
      "finding affine basis took 26.145788\n",
      "intermediate time 94.786391\n",
      "187 neighbors\n",
      "setting up df took 0.925969\n"
     ]
    },
    {
     "name": "stderr",
     "output_type": "stream",
     "text": [
      "/home/pierre/anaconda3/conda/envs/pygmt/lib/python3.11/site-packages/shapely/linear.py:90: RuntimeWarning: invalid value encountered in line_locate_point\n",
      "  return lib.line_locate_point(line, other)\n"
     ]
    },
    {
     "name": "stdout",
     "output_type": "stream",
     "text": [
      "finding affine basis took 20.677830\n",
      "intermediate time 116.390260\n",
      "184 neighbors\n",
      "setting up df took 0.954816\n"
     ]
    },
    {
     "name": "stderr",
     "output_type": "stream",
     "text": [
      "/home/pierre/anaconda3/conda/envs/pygmt/lib/python3.11/site-packages/shapely/linear.py:90: RuntimeWarning: invalid value encountered in line_locate_point\n",
      "  return lib.line_locate_point(line, other)\n"
     ]
    },
    {
     "name": "stdout",
     "output_type": "stream",
     "text": [
      "finding affine basis took 23.122189\n",
      "intermediate time 140.467339\n",
      "174 neighbors\n",
      "setting up df took 1.035594\n"
     ]
    },
    {
     "name": "stderr",
     "output_type": "stream",
     "text": [
      "/home/pierre/anaconda3/conda/envs/pygmt/lib/python3.11/site-packages/shapely/linear.py:90: RuntimeWarning: invalid value encountered in line_locate_point\n",
      "  return lib.line_locate_point(line, other)\n"
     ]
    },
    {
     "name": "stdout",
     "output_type": "stream",
     "text": [
      "finding affine basis took 19.984719\n",
      "intermediate time 161.487715\n",
      "172 neighbors\n",
      "setting up df took 1.092947\n"
     ]
    },
    {
     "name": "stderr",
     "output_type": "stream",
     "text": [
      "/home/pierre/anaconda3/conda/envs/pygmt/lib/python3.11/site-packages/shapely/linear.py:90: RuntimeWarning: invalid value encountered in line_locate_point\n",
      "  return lib.line_locate_point(line, other)\n"
     ]
    },
    {
     "name": "stdout",
     "output_type": "stream",
     "text": [
      "finding affine basis took 14.256952\n",
      "intermediate time 176.837679\n",
      "168 neighbors\n",
      "setting up df took 1.030795\n"
     ]
    },
    {
     "name": "stderr",
     "output_type": "stream",
     "text": [
      "/home/pierre/anaconda3/conda/envs/pygmt/lib/python3.11/site-packages/shapely/linear.py:90: RuntimeWarning: invalid value encountered in line_locate_point\n",
      "  return lib.line_locate_point(line, other)\n"
     ]
    },
    {
     "name": "stdout",
     "output_type": "stream",
     "text": [
      "finding affine basis took 16.478364\n",
      "intermediate time 194.346911\n",
      "157 neighbors\n",
      "setting up df took 1.192942\n"
     ]
    },
    {
     "name": "stderr",
     "output_type": "stream",
     "text": [
      "/home/pierre/anaconda3/conda/envs/pygmt/lib/python3.11/site-packages/shapely/linear.py:90: RuntimeWarning: invalid value encountered in line_locate_point\n",
      "  return lib.line_locate_point(line, other)\n"
     ]
    },
    {
     "name": "stdout",
     "output_type": "stream",
     "text": [
      "finding affine basis took 9.608219\n",
      "intermediate time 205.148193\n",
      "10/971\n",
      "151 neighbors\n",
      "setting up df took 1.182984\n"
     ]
    },
    {
     "name": "stderr",
     "output_type": "stream",
     "text": [
      "/home/pierre/anaconda3/conda/envs/pygmt/lib/python3.11/site-packages/shapely/linear.py:90: RuntimeWarning: invalid value encountered in line_locate_point\n",
      "  return lib.line_locate_point(line, other)\n"
     ]
    },
    {
     "name": "stdout",
     "output_type": "stream",
     "text": [
      "finding affine basis took 14.092365\n",
      "intermediate time 220.423612\n",
      "149 neighbors\n",
      "setting up df took 1.110006\n"
     ]
    },
    {
     "name": "stderr",
     "output_type": "stream",
     "text": [
      "/home/pierre/anaconda3/conda/envs/pygmt/lib/python3.11/site-packages/shapely/linear.py:90: RuntimeWarning: invalid value encountered in line_locate_point\n",
      "  return lib.line_locate_point(line, other)\n"
     ]
    },
    {
     "name": "stdout",
     "output_type": "stream",
     "text": [
      "finding affine basis took 12.003736\n",
      "intermediate time 233.537435\n",
      "143 neighbors\n",
      "setting up df took 1.157257\n"
     ]
    },
    {
     "name": "stderr",
     "output_type": "stream",
     "text": [
      "/home/pierre/anaconda3/conda/envs/pygmt/lib/python3.11/site-packages/shapely/linear.py:90: RuntimeWarning: invalid value encountered in line_locate_point\n",
      "  return lib.line_locate_point(line, other)\n"
     ]
    },
    {
     "name": "stdout",
     "output_type": "stream",
     "text": [
      "finding affine basis took 9.653388\n",
      "intermediate time 244.348144\n",
      "141 neighbors\n",
      "setting up df took 1.069574\n"
     ]
    },
    {
     "name": "stderr",
     "output_type": "stream",
     "text": [
      "/home/pierre/anaconda3/conda/envs/pygmt/lib/python3.11/site-packages/shapely/linear.py:90: RuntimeWarning: invalid value encountered in line_locate_point\n",
      "  return lib.line_locate_point(line, other)\n"
     ]
    },
    {
     "name": "stdout",
     "output_type": "stream",
     "text": [
      "finding affine basis took 14.089653\n",
      "intermediate time 259.507433\n",
      "136 neighbors\n",
      "setting up df took 1.067876\n"
     ]
    },
    {
     "name": "stderr",
     "output_type": "stream",
     "text": [
      "/home/pierre/anaconda3/conda/envs/pygmt/lib/python3.11/site-packages/shapely/linear.py:90: RuntimeWarning: invalid value encountered in line_locate_point\n",
      "  return lib.line_locate_point(line, other)\n"
     ]
    },
    {
     "name": "stdout",
     "output_type": "stream",
     "text": [
      "finding affine basis took 6.456953\n",
      "intermediate time 267.032328\n",
      "135 neighbors\n",
      "setting up df took 1.117540\n"
     ]
    },
    {
     "name": "stderr",
     "output_type": "stream",
     "text": [
      "/home/pierre/anaconda3/conda/envs/pygmt/lib/python3.11/site-packages/shapely/linear.py:90: RuntimeWarning: invalid value encountered in line_locate_point\n",
      "  return lib.line_locate_point(line, other)\n"
     ]
    },
    {
     "name": "stdout",
     "output_type": "stream",
     "text": [
      "finding affine basis took 4.701945\n",
      "intermediate time 272.851882\n",
      "127 neighbors\n",
      "setting up df took 1.040703\n"
     ]
    },
    {
     "name": "stderr",
     "output_type": "stream",
     "text": [
      "/home/pierre/anaconda3/conda/envs/pygmt/lib/python3.11/site-packages/shapely/linear.py:90: RuntimeWarning: invalid value encountered in line_locate_point\n",
      "  return lib.line_locate_point(line, other)\n"
     ]
    },
    {
     "name": "stdout",
     "output_type": "stream",
     "text": [
      "finding affine basis took 5.367908\n",
      "intermediate time 279.260560\n",
      "127 neighbors\n",
      "setting up df took 1.067694\n"
     ]
    },
    {
     "name": "stderr",
     "output_type": "stream",
     "text": [
      "/home/pierre/anaconda3/conda/envs/pygmt/lib/python3.11/site-packages/shapely/linear.py:90: RuntimeWarning: invalid value encountered in line_locate_point\n",
      "  return lib.line_locate_point(line, other)\n"
     ]
    },
    {
     "name": "stdout",
     "output_type": "stream",
     "text": [
      "finding affine basis took 11.351381\n",
      "intermediate time 291.679737\n",
      "124 neighbors\n",
      "setting up df took 1.130294\n"
     ]
    },
    {
     "name": "stderr",
     "output_type": "stream",
     "text": [
      "/home/pierre/anaconda3/conda/envs/pygmt/lib/python3.11/site-packages/shapely/linear.py:90: RuntimeWarning: invalid value encountered in line_locate_point\n",
      "  return lib.line_locate_point(line, other)\n"
     ]
    },
    {
     "name": "stdout",
     "output_type": "stream",
     "text": [
      "finding affine basis took 6.472137\n",
      "intermediate time 299.282254\n",
      "109 neighbors\n",
      "setting up df took 1.353713\n"
     ]
    },
    {
     "name": "stderr",
     "output_type": "stream",
     "text": [
      "/home/pierre/anaconda3/conda/envs/pygmt/lib/python3.11/site-packages/shapely/linear.py:90: RuntimeWarning: invalid value encountered in line_locate_point\n",
      "  return lib.line_locate_point(line, other)\n"
     ]
    },
    {
     "name": "stdout",
     "output_type": "stream",
     "text": [
      "finding affine basis took 4.444660\n",
      "intermediate time 305.080694\n",
      "20/971\n",
      "105 neighbors\n",
      "setting up df took 1.130882\n"
     ]
    },
    {
     "name": "stderr",
     "output_type": "stream",
     "text": [
      "/home/pierre/anaconda3/conda/envs/pygmt/lib/python3.11/site-packages/shapely/linear.py:90: RuntimeWarning: invalid value encountered in line_locate_point\n",
      "  return lib.line_locate_point(line, other)\n"
     ]
    },
    {
     "name": "stdout",
     "output_type": "stream",
     "text": [
      "finding affine basis took 4.612876\n",
      "intermediate time 310.824532\n",
      "105 neighbors\n",
      "setting up df took 1.196426\n"
     ]
    },
    {
     "name": "stderr",
     "output_type": "stream",
     "text": [
      "/home/pierre/anaconda3/conda/envs/pygmt/lib/python3.11/site-packages/shapely/linear.py:90: RuntimeWarning: invalid value encountered in line_locate_point\n",
      "  return lib.line_locate_point(line, other)\n"
     ]
    },
    {
     "name": "stdout",
     "output_type": "stream",
     "text": [
      "finding affine basis took 3.055607\n",
      "intermediate time 315.076630\n",
      "101 neighbors\n",
      "setting up df took 1.086919\n"
     ]
    },
    {
     "name": "stderr",
     "output_type": "stream",
     "text": [
      "/home/pierre/anaconda3/conda/envs/pygmt/lib/python3.11/site-packages/shapely/linear.py:90: RuntimeWarning: invalid value encountered in line_locate_point\n",
      "  return lib.line_locate_point(line, other)\n"
     ]
    },
    {
     "name": "stdout",
     "output_type": "stream",
     "text": [
      "finding affine basis took 2.848702\n",
      "intermediate time 319.012331\n",
      "89 neighbors\n",
      "setting up df took 1.110258\n"
     ]
    },
    {
     "name": "stderr",
     "output_type": "stream",
     "text": [
      "/home/pierre/anaconda3/conda/envs/pygmt/lib/python3.11/site-packages/shapely/linear.py:90: RuntimeWarning: invalid value encountered in line_locate_point\n",
      "  return lib.line_locate_point(line, other)\n"
     ]
    },
    {
     "name": "stdout",
     "output_type": "stream",
     "text": [
      "finding affine basis took 4.087636\n",
      "intermediate time 324.210304\n",
      "86 neighbors\n",
      "setting up df took 1.070154\n"
     ]
    },
    {
     "name": "stderr",
     "output_type": "stream",
     "text": [
      "/home/pierre/anaconda3/conda/envs/pygmt/lib/python3.11/site-packages/shapely/linear.py:90: RuntimeWarning: invalid value encountered in line_locate_point\n",
      "  return lib.line_locate_point(line, other)\n"
     ]
    },
    {
     "name": "stdout",
     "output_type": "stream",
     "text": [
      "finding affine basis took 2.735684\n",
      "intermediate time 328.016203\n",
      "81 neighbors\n",
      "setting up df took 1.017807\n"
     ]
    },
    {
     "name": "stderr",
     "output_type": "stream",
     "text": [
      "/home/pierre/anaconda3/conda/envs/pygmt/lib/python3.11/site-packages/shapely/linear.py:90: RuntimeWarning: invalid value encountered in line_locate_point\n",
      "  return lib.line_locate_point(line, other)\n"
     ]
    },
    {
     "name": "stdout",
     "output_type": "stream",
     "text": [
      "finding affine basis took 1.816410\n",
      "intermediate time 330.850487\n",
      "81 neighbors\n",
      "setting up df took 1.067942\n"
     ]
    },
    {
     "name": "stderr",
     "output_type": "stream",
     "text": [
      "/home/pierre/anaconda3/conda/envs/pygmt/lib/python3.11/site-packages/shapely/linear.py:90: RuntimeWarning: invalid value encountered in line_locate_point\n",
      "  return lib.line_locate_point(line, other)\n"
     ]
    },
    {
     "name": "stdout",
     "output_type": "stream",
     "text": [
      "finding affine basis took 2.518257\n",
      "intermediate time 334.436748\n",
      "76 neighbors\n",
      "setting up df took 1.094885\n"
     ]
    },
    {
     "name": "stderr",
     "output_type": "stream",
     "text": [
      "/home/pierre/anaconda3/conda/envs/pygmt/lib/python3.11/site-packages/shapely/linear.py:90: RuntimeWarning: invalid value encountered in line_locate_point\n",
      "  return lib.line_locate_point(line, other)\n"
     ]
    },
    {
     "name": "stdout",
     "output_type": "stream",
     "text": [
      "finding affine basis took 2.444505\n",
      "intermediate time 337.976200\n",
      "73 neighbors\n",
      "setting up df took 1.044634\n"
     ]
    },
    {
     "name": "stderr",
     "output_type": "stream",
     "text": [
      "/home/pierre/anaconda3/conda/envs/pygmt/lib/python3.11/site-packages/shapely/linear.py:90: RuntimeWarning: invalid value encountered in line_locate_point\n",
      "  return lib.line_locate_point(line, other)\n"
     ]
    },
    {
     "name": "stdout",
     "output_type": "stream",
     "text": [
      "finding affine basis took 1.781180\n",
      "intermediate time 340.802107\n",
      "72 neighbors\n",
      "setting up df took 1.234992\n"
     ]
    },
    {
     "name": "stderr",
     "output_type": "stream",
     "text": [
      "/home/pierre/anaconda3/conda/envs/pygmt/lib/python3.11/site-packages/shapely/linear.py:90: RuntimeWarning: invalid value encountered in line_locate_point\n",
      "  return lib.line_locate_point(line, other)\n"
     ]
    },
    {
     "name": "stdout",
     "output_type": "stream",
     "text": [
      "finding affine basis took 1.848619\n",
      "intermediate time 343.885795\n",
      "30/971\n",
      "71 neighbors\n",
      "setting up df took 1.409842\n"
     ]
    },
    {
     "name": "stderr",
     "output_type": "stream",
     "text": [
      "/home/pierre/anaconda3/conda/envs/pygmt/lib/python3.11/site-packages/shapely/linear.py:90: RuntimeWarning: invalid value encountered in line_locate_point\n",
      "  return lib.line_locate_point(line, other)\n"
     ]
    },
    {
     "name": "stdout",
     "output_type": "stream",
     "text": [
      "finding affine basis took 1.942003\n",
      "intermediate time 347.237715\n",
      "70 neighbors\n",
      "setting up df took 1.137696\n"
     ]
    },
    {
     "name": "stderr",
     "output_type": "stream",
     "text": [
      "/home/pierre/anaconda3/conda/envs/pygmt/lib/python3.11/site-packages/shapely/linear.py:90: RuntimeWarning: invalid value encountered in line_locate_point\n",
      "  return lib.line_locate_point(line, other)\n"
     ]
    },
    {
     "name": "stdout",
     "output_type": "stream",
     "text": [
      "finding affine basis took 2.319545\n",
      "intermediate time 350.695081\n",
      "69 neighbors\n",
      "setting up df took 1.128440\n"
     ]
    },
    {
     "name": "stderr",
     "output_type": "stream",
     "text": [
      "/home/pierre/anaconda3/conda/envs/pygmt/lib/python3.11/site-packages/shapely/linear.py:90: RuntimeWarning: invalid value encountered in line_locate_point\n",
      "  return lib.line_locate_point(line, other)\n"
     ]
    },
    {
     "name": "stdout",
     "output_type": "stream",
     "text": [
      "finding affine basis took 1.968096\n",
      "intermediate time 353.791708\n",
      "68 neighbors\n",
      "setting up df took 1.183798\n"
     ]
    },
    {
     "name": "stderr",
     "output_type": "stream",
     "text": [
      "/home/pierre/anaconda3/conda/envs/pygmt/lib/python3.11/site-packages/shapely/linear.py:90: RuntimeWarning: invalid value encountered in line_locate_point\n",
      "  return lib.line_locate_point(line, other)\n"
     ]
    },
    {
     "name": "stdout",
     "output_type": "stream",
     "text": [
      "finding affine basis took 1.742535\n",
      "intermediate time 356.718181\n",
      "68 neighbors\n",
      "setting up df took 1.018631\n"
     ]
    },
    {
     "name": "stderr",
     "output_type": "stream",
     "text": [
      "/home/pierre/anaconda3/conda/envs/pygmt/lib/python3.11/site-packages/shapely/linear.py:90: RuntimeWarning: invalid value encountered in line_locate_point\n",
      "  return lib.line_locate_point(line, other)\n"
     ]
    },
    {
     "name": "stdout",
     "output_type": "stream",
     "text": [
      "finding affine basis took 1.854266\n",
      "intermediate time 359.591135\n",
      "64 neighbors\n",
      "setting up df took 1.052801\n"
     ]
    },
    {
     "name": "stderr",
     "output_type": "stream",
     "text": [
      "/home/pierre/anaconda3/conda/envs/pygmt/lib/python3.11/site-packages/shapely/linear.py:90: RuntimeWarning: invalid value encountered in line_locate_point\n",
      "  return lib.line_locate_point(line, other)\n"
     ]
    },
    {
     "name": "stdout",
     "output_type": "stream",
     "text": [
      "finding affine basis took 1.453858\n",
      "intermediate time 362.097863\n",
      "59 neighbors\n",
      "setting up df took 1.065970\n"
     ]
    },
    {
     "name": "stderr",
     "output_type": "stream",
     "text": [
      "/home/pierre/anaconda3/conda/envs/pygmt/lib/python3.11/site-packages/shapely/linear.py:90: RuntimeWarning: invalid value encountered in line_locate_point\n",
      "  return lib.line_locate_point(line, other)\n"
     ]
    },
    {
     "name": "stdout",
     "output_type": "stream",
     "text": [
      "finding affine basis took 2.006435\n",
      "intermediate time 365.170331\n",
      "59 neighbors\n",
      "setting up df took 1.055394\n"
     ]
    },
    {
     "name": "stderr",
     "output_type": "stream",
     "text": [
      "/home/pierre/anaconda3/conda/envs/pygmt/lib/python3.11/site-packages/shapely/linear.py:90: RuntimeWarning: invalid value encountered in line_locate_point\n",
      "  return lib.line_locate_point(line, other)\n"
     ]
    },
    {
     "name": "stdout",
     "output_type": "stream",
     "text": [
      "finding affine basis took 1.764771\n",
      "intermediate time 367.990582\n",
      "59 neighbors\n",
      "setting up df took 1.102643\n"
     ]
    },
    {
     "name": "stderr",
     "output_type": "stream",
     "text": [
      "/home/pierre/anaconda3/conda/envs/pygmt/lib/python3.11/site-packages/shapely/linear.py:90: RuntimeWarning: invalid value encountered in line_locate_point\n",
      "  return lib.line_locate_point(line, other)\n"
     ]
    },
    {
     "name": "stdout",
     "output_type": "stream",
     "text": [
      "finding affine basis took 2.247760\n",
      "intermediate time 371.341048\n",
      "56 neighbors\n",
      "setting up df took 1.110316\n"
     ]
    },
    {
     "name": "stderr",
     "output_type": "stream",
     "text": [
      "/home/pierre/anaconda3/conda/envs/pygmt/lib/python3.11/site-packages/shapely/linear.py:90: RuntimeWarning: invalid value encountered in line_locate_point\n",
      "  return lib.line_locate_point(line, other)\n"
     ]
    },
    {
     "name": "stdout",
     "output_type": "stream",
     "text": [
      "finding affine basis took 1.380730\n",
      "intermediate time 373.832161\n",
      "40/971\n",
      "53 neighbors\n",
      "setting up df took 1.097803\n"
     ]
    },
    {
     "name": "stderr",
     "output_type": "stream",
     "text": [
      "/home/pierre/anaconda3/conda/envs/pygmt/lib/python3.11/site-packages/shapely/linear.py:90: RuntimeWarning: invalid value encountered in line_locate_point\n",
      "  return lib.line_locate_point(line, other)\n"
     ]
    },
    {
     "name": "stdout",
     "output_type": "stream",
     "text": [
      "finding affine basis took 1.882353\n",
      "intermediate time 376.812395\n",
      "53 neighbors\n",
      "setting up df took 1.084676\n"
     ]
    },
    {
     "name": "stderr",
     "output_type": "stream",
     "text": [
      "/home/pierre/anaconda3/conda/envs/pygmt/lib/python3.11/site-packages/shapely/linear.py:90: RuntimeWarning: invalid value encountered in line_locate_point\n",
      "  return lib.line_locate_point(line, other)\n"
     ]
    },
    {
     "name": "stdout",
     "output_type": "stream",
     "text": [
      "finding affine basis took 1.421509\n",
      "intermediate time 379.318644\n",
      "50 neighbors\n",
      "setting up df took 1.410053\n"
     ]
    },
    {
     "name": "stderr",
     "output_type": "stream",
     "text": [
      "/home/pierre/anaconda3/conda/envs/pygmt/lib/python3.11/site-packages/shapely/linear.py:90: RuntimeWarning: invalid value encountered in line_locate_point\n",
      "  return lib.line_locate_point(line, other)\n"
     ]
    },
    {
     "name": "stdout",
     "output_type": "stream",
     "text": [
      "finding affine basis took 1.743237\n",
      "intermediate time 382.472053\n",
      "48 neighbors\n",
      "setting up df took 1.048294\n"
     ]
    },
    {
     "name": "stderr",
     "output_type": "stream",
     "text": [
      "/home/pierre/anaconda3/conda/envs/pygmt/lib/python3.11/site-packages/shapely/linear.py:90: RuntimeWarning: invalid value encountered in line_locate_point\n",
      "  return lib.line_locate_point(line, other)\n"
     ]
    },
    {
     "name": "stdout",
     "output_type": "stream",
     "text": [
      "finding affine basis took 1.623816\n",
      "intermediate time 385.144229\n",
      "47 neighbors\n",
      "setting up df took 0.972880\n"
     ]
    },
    {
     "name": "stderr",
     "output_type": "stream",
     "text": [
      "/home/pierre/anaconda3/conda/envs/pygmt/lib/python3.11/site-packages/shapely/linear.py:90: RuntimeWarning: invalid value encountered in line_locate_point\n",
      "  return lib.line_locate_point(line, other)\n"
     ]
    },
    {
     "name": "stdout",
     "output_type": "stream",
     "text": [
      "finding affine basis took 1.359239\n",
      "intermediate time 387.476412\n",
      "47 neighbors\n",
      "setting up df took 0.973284\n"
     ]
    },
    {
     "name": "stderr",
     "output_type": "stream",
     "text": [
      "/home/pierre/anaconda3/conda/envs/pygmt/lib/python3.11/site-packages/shapely/linear.py:90: RuntimeWarning: invalid value encountered in line_locate_point\n",
      "  return lib.line_locate_point(line, other)\n"
     ]
    },
    {
     "name": "stdout",
     "output_type": "stream",
     "text": [
      "finding affine basis took 2.264856\n",
      "intermediate time 390.714620\n",
      "45 neighbors\n",
      "setting up df took 1.019612\n"
     ]
    },
    {
     "name": "stderr",
     "output_type": "stream",
     "text": [
      "/home/pierre/anaconda3/conda/envs/pygmt/lib/python3.11/site-packages/shapely/linear.py:90: RuntimeWarning: invalid value encountered in line_locate_point\n",
      "  return lib.line_locate_point(line, other)\n"
     ]
    },
    {
     "name": "stdout",
     "output_type": "stream",
     "text": [
      "finding affine basis took 1.803690\n",
      "intermediate time 393.537987\n",
      "44 neighbors\n",
      "setting up df took 1.040101\n"
     ]
    },
    {
     "name": "stderr",
     "output_type": "stream",
     "text": [
      "/home/pierre/anaconda3/conda/envs/pygmt/lib/python3.11/site-packages/shapely/linear.py:90: RuntimeWarning: invalid value encountered in line_locate_point\n",
      "  return lib.line_locate_point(line, other)\n"
     ]
    },
    {
     "name": "stdout",
     "output_type": "stream",
     "text": [
      "finding affine basis took 1.638285\n",
      "intermediate time 396.216501\n",
      "44 neighbors\n",
      "setting up df took 1.128314\n"
     ]
    },
    {
     "name": "stderr",
     "output_type": "stream",
     "text": [
      "/home/pierre/anaconda3/conda/envs/pygmt/lib/python3.11/site-packages/shapely/linear.py:90: RuntimeWarning: invalid value encountered in line_locate_point\n",
      "  return lib.line_locate_point(line, other)\n"
     ]
    },
    {
     "name": "stdout",
     "output_type": "stream",
     "text": [
      "finding affine basis took 1.283019\n",
      "intermediate time 398.627911\n",
      "44 neighbors\n",
      "setting up df took 1.008371\n"
     ]
    },
    {
     "name": "stderr",
     "output_type": "stream",
     "text": [
      "/home/pierre/anaconda3/conda/envs/pygmt/lib/python3.11/site-packages/shapely/linear.py:90: RuntimeWarning: invalid value encountered in line_locate_point\n",
      "  return lib.line_locate_point(line, other)\n"
     ]
    },
    {
     "name": "stdout",
     "output_type": "stream",
     "text": [
      "finding affine basis took 1.403261\n",
      "intermediate time 401.039608\n",
      "50/971\n",
      "44 neighbors\n",
      "setting up df took 1.051834\n"
     ]
    },
    {
     "name": "stderr",
     "output_type": "stream",
     "text": [
      "/home/pierre/anaconda3/conda/envs/pygmt/lib/python3.11/site-packages/shapely/linear.py:90: RuntimeWarning: invalid value encountered in line_locate_point\n",
      "  return lib.line_locate_point(line, other)\n"
     ]
    },
    {
     "name": "stdout",
     "output_type": "stream",
     "text": [
      "finding affine basis took 1.465546\n",
      "intermediate time 403.557066\n",
      "43 neighbors\n",
      "setting up df took 0.978023\n"
     ]
    },
    {
     "name": "stderr",
     "output_type": "stream",
     "text": [
      "/home/pierre/anaconda3/conda/envs/pygmt/lib/python3.11/site-packages/shapely/linear.py:90: RuntimeWarning: invalid value encountered in line_locate_point\n",
      "  return lib.line_locate_point(line, other)\n"
     ]
    },
    {
     "name": "stdout",
     "output_type": "stream",
     "text": [
      "finding affine basis took 1.186644\n",
      "intermediate time 405.721799\n",
      "42 neighbors\n",
      "setting up df took 1.013561\n"
     ]
    },
    {
     "name": "stderr",
     "output_type": "stream",
     "text": [
      "/home/pierre/anaconda3/conda/envs/pygmt/lib/python3.11/site-packages/shapely/linear.py:90: RuntimeWarning: invalid value encountered in line_locate_point\n",
      "  return lib.line_locate_point(line, other)\n"
     ]
    },
    {
     "name": "stdout",
     "output_type": "stream",
     "text": [
      "finding affine basis took 1.097034\n",
      "intermediate time 407.832458\n",
      "41 neighbors\n",
      "setting up df took 1.062720\n"
     ]
    },
    {
     "name": "stderr",
     "output_type": "stream",
     "text": [
      "/home/pierre/anaconda3/conda/envs/pygmt/lib/python3.11/site-packages/shapely/linear.py:90: RuntimeWarning: invalid value encountered in line_locate_point\n",
      "  return lib.line_locate_point(line, other)\n"
     ]
    },
    {
     "name": "stdout",
     "output_type": "stream",
     "text": [
      "finding affine basis took 1.062800\n",
      "intermediate time 409.958044\n",
      "41 neighbors\n",
      "setting up df took 1.050598\n"
     ]
    },
    {
     "name": "stderr",
     "output_type": "stream",
     "text": [
      "/home/pierre/anaconda3/conda/envs/pygmt/lib/python3.11/site-packages/shapely/linear.py:90: RuntimeWarning: invalid value encountered in line_locate_point\n",
      "  return lib.line_locate_point(line, other)\n"
     ]
    },
    {
     "name": "stdout",
     "output_type": "stream",
     "text": [
      "finding affine basis took 1.640882\n",
      "intermediate time 412.649691\n",
      "41 neighbors\n",
      "setting up df took 0.997011\n"
     ]
    },
    {
     "name": "stderr",
     "output_type": "stream",
     "text": [
      "/home/pierre/anaconda3/conda/envs/pygmt/lib/python3.11/site-packages/shapely/linear.py:90: RuntimeWarning: invalid value encountered in line_locate_point\n",
      "  return lib.line_locate_point(line, other)\n"
     ]
    },
    {
     "name": "stdout",
     "output_type": "stream",
     "text": [
      "finding affine basis took 1.643873\n",
      "intermediate time 415.290643\n",
      "41 neighbors\n",
      "setting up df took 0.967404\n"
     ]
    },
    {
     "name": "stderr",
     "output_type": "stream",
     "text": [
      "/home/pierre/anaconda3/conda/envs/pygmt/lib/python3.11/site-packages/shapely/linear.py:90: RuntimeWarning: invalid value encountered in line_locate_point\n",
      "  return lib.line_locate_point(line, other)\n"
     ]
    },
    {
     "name": "stdout",
     "output_type": "stream",
     "text": [
      "finding affine basis took 1.121977\n",
      "intermediate time 417.380089\n",
      "41 neighbors\n",
      "setting up df took 1.107615\n"
     ]
    },
    {
     "name": "stderr",
     "output_type": "stream",
     "text": [
      "/home/pierre/anaconda3/conda/envs/pygmt/lib/python3.11/site-packages/shapely/linear.py:90: RuntimeWarning: invalid value encountered in line_locate_point\n",
      "  return lib.line_locate_point(line, other)\n"
     ]
    },
    {
     "name": "stdout",
     "output_type": "stream",
     "text": [
      "finding affine basis took 0.974069\n",
      "intermediate time 419.461838\n",
      "40 neighbors\n",
      "setting up df took 1.027699\n"
     ]
    },
    {
     "name": "stderr",
     "output_type": "stream",
     "text": [
      "/home/pierre/anaconda3/conda/envs/pygmt/lib/python3.11/site-packages/shapely/linear.py:90: RuntimeWarning: invalid value encountered in line_locate_point\n",
      "  return lib.line_locate_point(line, other)\n"
     ]
    },
    {
     "name": "stdout",
     "output_type": "stream",
     "text": [
      "finding affine basis took 1.335814\n",
      "intermediate time 421.825461\n",
      "40 neighbors\n",
      "setting up df took 1.152318\n"
     ]
    },
    {
     "name": "stderr",
     "output_type": "stream",
     "text": [
      "/home/pierre/anaconda3/conda/envs/pygmt/lib/python3.11/site-packages/shapely/linear.py:90: RuntimeWarning: invalid value encountered in line_locate_point\n",
      "  return lib.line_locate_point(line, other)\n"
     ]
    },
    {
     "name": "stdout",
     "output_type": "stream",
     "text": [
      "finding affine basis took 1.733203\n",
      "intermediate time 424.711044\n",
      "60/971\n",
      "40 neighbors\n",
      "setting up df took 1.153902\n"
     ]
    },
    {
     "name": "stderr",
     "output_type": "stream",
     "text": [
      "/home/pierre/anaconda3/conda/envs/pygmt/lib/python3.11/site-packages/shapely/linear.py:90: RuntimeWarning: invalid value encountered in line_locate_point\n",
      "  return lib.line_locate_point(line, other)\n"
     ]
    },
    {
     "name": "stdout",
     "output_type": "stream",
     "text": [
      "finding affine basis took 1.789482\n",
      "intermediate time 427.654504\n",
      "40 neighbors\n",
      "setting up df took 1.036633\n"
     ]
    },
    {
     "name": "stderr",
     "output_type": "stream",
     "text": [
      "/home/pierre/anaconda3/conda/envs/pygmt/lib/python3.11/site-packages/shapely/linear.py:90: RuntimeWarning: invalid value encountered in line_locate_point\n",
      "  return lib.line_locate_point(line, other)\n"
     ]
    },
    {
     "name": "stdout",
     "output_type": "stream",
     "text": [
      "finding affine basis took 1.837884\n",
      "intermediate time 430.529082\n",
      "39 neighbors\n",
      "setting up df took 1.079087\n"
     ]
    },
    {
     "name": "stderr",
     "output_type": "stream",
     "text": [
      "/home/pierre/anaconda3/conda/envs/pygmt/lib/python3.11/site-packages/shapely/linear.py:90: RuntimeWarning: invalid value encountered in line_locate_point\n",
      "  return lib.line_locate_point(line, other)\n"
     ]
    },
    {
     "name": "stdout",
     "output_type": "stream",
     "text": [
      "finding affine basis took 0.970054\n",
      "intermediate time 432.578299\n",
      "39 neighbors\n",
      "setting up df took 1.624828\n"
     ]
    },
    {
     "name": "stderr",
     "output_type": "stream",
     "text": [
      "/home/pierre/anaconda3/conda/envs/pygmt/lib/python3.11/site-packages/shapely/linear.py:90: RuntimeWarning: invalid value encountered in line_locate_point\n",
      "  return lib.line_locate_point(line, other)\n"
     ]
    },
    {
     "name": "stdout",
     "output_type": "stream",
     "text": [
      "finding affine basis took 1.716984\n",
      "intermediate time 435.920209\n",
      "39 neighbors\n",
      "setting up df took 1.303278\n"
     ]
    },
    {
     "name": "stderr",
     "output_type": "stream",
     "text": [
      "/home/pierre/anaconda3/conda/envs/pygmt/lib/python3.11/site-packages/shapely/linear.py:90: RuntimeWarning: invalid value encountered in line_locate_point\n",
      "  return lib.line_locate_point(line, other)\n"
     ]
    },
    {
     "name": "stdout",
     "output_type": "stream",
     "text": [
      "finding affine basis took 1.342459\n",
      "intermediate time 438.566054\n",
      "39 neighbors\n",
      "setting up df took 1.053530\n"
     ]
    },
    {
     "name": "stderr",
     "output_type": "stream",
     "text": [
      "/home/pierre/anaconda3/conda/envs/pygmt/lib/python3.11/site-packages/shapely/linear.py:90: RuntimeWarning: invalid value encountered in line_locate_point\n",
      "  return lib.line_locate_point(line, other)\n"
     ]
    },
    {
     "name": "stdout",
     "output_type": "stream",
     "text": [
      "finding affine basis took 1.728761\n",
      "intermediate time 441.348410\n",
      "38 neighbors\n",
      "setting up df took 1.212956\n"
     ]
    },
    {
     "name": "stderr",
     "output_type": "stream",
     "text": [
      "/home/pierre/anaconda3/conda/envs/pygmt/lib/python3.11/site-packages/shapely/linear.py:90: RuntimeWarning: invalid value encountered in line_locate_point\n",
      "  return lib.line_locate_point(line, other)\n"
     ]
    },
    {
     "name": "stdout",
     "output_type": "stream",
     "text": [
      "finding affine basis took 1.182352\n",
      "intermediate time 443.743785\n",
      "38 neighbors\n",
      "setting up df took 1.159569\n"
     ]
    },
    {
     "name": "stderr",
     "output_type": "stream",
     "text": [
      "/home/pierre/anaconda3/conda/envs/pygmt/lib/python3.11/site-packages/shapely/linear.py:90: RuntimeWarning: invalid value encountered in line_locate_point\n",
      "  return lib.line_locate_point(line, other)\n"
     ]
    },
    {
     "name": "stdout",
     "output_type": "stream",
     "text": [
      "finding affine basis took 1.212127\n",
      "intermediate time 446.115540\n",
      "38 neighbors\n",
      "setting up df took 1.088109\n"
     ]
    },
    {
     "name": "stderr",
     "output_type": "stream",
     "text": [
      "/home/pierre/anaconda3/conda/envs/pygmt/lib/python3.11/site-packages/shapely/linear.py:90: RuntimeWarning: invalid value encountered in line_locate_point\n",
      "  return lib.line_locate_point(line, other)\n"
     ]
    },
    {
     "name": "stdout",
     "output_type": "stream",
     "text": [
      "finding affine basis took 1.435256\n",
      "intermediate time 448.638972\n",
      "37 neighbors\n",
      "setting up df took 1.140547\n"
     ]
    },
    {
     "name": "stderr",
     "output_type": "stream",
     "text": [
      "/home/pierre/anaconda3/conda/envs/pygmt/lib/python3.11/site-packages/shapely/linear.py:90: RuntimeWarning: invalid value encountered in line_locate_point\n",
      "  return lib.line_locate_point(line, other)\n"
     ]
    },
    {
     "name": "stdout",
     "output_type": "stream",
     "text": [
      "finding affine basis took 2.103259\n",
      "intermediate time 451.882850\n",
      "70/971\n",
      "36 neighbors\n",
      "setting up df took 1.452746\n"
     ]
    },
    {
     "name": "stderr",
     "output_type": "stream",
     "text": [
      "/home/pierre/anaconda3/conda/envs/pygmt/lib/python3.11/site-packages/shapely/linear.py:90: RuntimeWarning: invalid value encountered in line_locate_point\n",
      "  return lib.line_locate_point(line, other)\n"
     ]
    },
    {
     "name": "stdout",
     "output_type": "stream",
     "text": [
      "finding affine basis took 1.721096\n",
      "intermediate time 455.056777\n",
      "36 neighbors\n",
      "setting up df took 1.182035\n"
     ]
    },
    {
     "name": "stderr",
     "output_type": "stream",
     "text": [
      "/home/pierre/anaconda3/conda/envs/pygmt/lib/python3.11/site-packages/shapely/linear.py:90: RuntimeWarning: invalid value encountered in line_locate_point\n",
      "  return lib.line_locate_point(line, other)\n"
     ]
    },
    {
     "name": "stdout",
     "output_type": "stream",
     "text": [
      "finding affine basis took 1.324184\n",
      "intermediate time 457.563060\n",
      "36 neighbors\n",
      "setting up df took 1.049577\n"
     ]
    },
    {
     "name": "stderr",
     "output_type": "stream",
     "text": [
      "/home/pierre/anaconda3/conda/envs/pygmt/lib/python3.11/site-packages/shapely/linear.py:90: RuntimeWarning: invalid value encountered in line_locate_point\n",
      "  return lib.line_locate_point(line, other)\n"
     ]
    },
    {
     "name": "stdout",
     "output_type": "stream",
     "text": [
      "finding affine basis took 1.799455\n",
      "intermediate time 460.412152\n",
      "36 neighbors\n",
      "setting up df took 1.026518\n"
     ]
    },
    {
     "name": "stderr",
     "output_type": "stream",
     "text": [
      "/home/pierre/anaconda3/conda/envs/pygmt/lib/python3.11/site-packages/shapely/linear.py:90: RuntimeWarning: invalid value encountered in line_locate_point\n",
      "  return lib.line_locate_point(line, other)\n"
     ]
    },
    {
     "name": "stdout",
     "output_type": "stream",
     "text": [
      "finding affine basis took 1.117557\n",
      "intermediate time 462.556292\n",
      "35 neighbors\n",
      "setting up df took 0.927685\n"
     ]
    },
    {
     "name": "stderr",
     "output_type": "stream",
     "text": [
      "/home/pierre/anaconda3/conda/envs/pygmt/lib/python3.11/site-packages/shapely/linear.py:90: RuntimeWarning: invalid value encountered in line_locate_point\n",
      "  return lib.line_locate_point(line, other)\n"
     ]
    },
    {
     "name": "stdout",
     "output_type": "stream",
     "text": [
      "finding affine basis took 1.030174\n",
      "intermediate time 464.514214\n",
      "35 neighbors\n",
      "setting up df took 0.987825\n"
     ]
    },
    {
     "name": "stderr",
     "output_type": "stream",
     "text": [
      "/home/pierre/anaconda3/conda/envs/pygmt/lib/python3.11/site-packages/shapely/linear.py:90: RuntimeWarning: invalid value encountered in line_locate_point\n",
      "  return lib.line_locate_point(line, other)\n"
     ]
    },
    {
     "name": "stdout",
     "output_type": "stream",
     "text": [
      "finding affine basis took 1.361336\n",
      "intermediate time 466.863439\n",
      "35 neighbors\n",
      "setting up df took 1.118232\n"
     ]
    },
    {
     "name": "stderr",
     "output_type": "stream",
     "text": [
      "/home/pierre/anaconda3/conda/envs/pygmt/lib/python3.11/site-packages/shapely/linear.py:90: RuntimeWarning: invalid value encountered in line_locate_point\n",
      "  return lib.line_locate_point(line, other)\n"
     ]
    },
    {
     "name": "stdout",
     "output_type": "stream",
     "text": [
      "finding affine basis took 1.564925\n",
      "intermediate time 469.546654\n",
      "35 neighbors\n",
      "setting up df took 1.446186\n"
     ]
    },
    {
     "name": "stderr",
     "output_type": "stream",
     "text": [
      "/home/pierre/anaconda3/conda/envs/pygmt/lib/python3.11/site-packages/shapely/linear.py:90: RuntimeWarning: invalid value encountered in line_locate_point\n",
      "  return lib.line_locate_point(line, other)\n"
     ]
    },
    {
     "name": "stdout",
     "output_type": "stream",
     "text": [
      "finding affine basis took 1.503695\n",
      "intermediate time 472.496960\n",
      "35 neighbors\n",
      "setting up df took 1.032092\n"
     ]
    },
    {
     "name": "stderr",
     "output_type": "stream",
     "text": [
      "/home/pierre/anaconda3/conda/envs/pygmt/lib/python3.11/site-packages/shapely/linear.py:90: RuntimeWarning: invalid value encountered in line_locate_point\n",
      "  return lib.line_locate_point(line, other)\n"
     ]
    },
    {
     "name": "stdout",
     "output_type": "stream",
     "text": [
      "finding affine basis took 1.819989\n",
      "intermediate time 475.349108\n",
      "35 neighbors\n",
      "setting up df took 1.126966\n"
     ]
    },
    {
     "name": "stderr",
     "output_type": "stream",
     "text": [
      "/home/pierre/anaconda3/conda/envs/pygmt/lib/python3.11/site-packages/shapely/linear.py:90: RuntimeWarning: invalid value encountered in line_locate_point\n",
      "  return lib.line_locate_point(line, other)\n"
     ]
    },
    {
     "name": "stdout",
     "output_type": "stream",
     "text": [
      "finding affine basis took 1.131173\n",
      "intermediate time 477.607336\n",
      "80/971\n",
      "34 neighbors\n",
      "setting up df took 1.136419\n"
     ]
    },
    {
     "name": "stderr",
     "output_type": "stream",
     "text": [
      "/home/pierre/anaconda3/conda/envs/pygmt/lib/python3.11/site-packages/shapely/linear.py:90: RuntimeWarning: invalid value encountered in line_locate_point\n",
      "  return lib.line_locate_point(line, other)\n"
     ]
    },
    {
     "name": "stdout",
     "output_type": "stream",
     "text": [
      "finding affine basis took 1.496137\n",
      "intermediate time 480.239961\n",
      "34 neighbors\n",
      "setting up df took 0.729021\n"
     ]
    },
    {
     "name": "stderr",
     "output_type": "stream",
     "text": [
      "/home/pierre/anaconda3/conda/envs/pygmt/lib/python3.11/site-packages/shapely/linear.py:90: RuntimeWarning: invalid value encountered in line_locate_point\n",
      "  return lib.line_locate_point(line, other)\n"
     ]
    },
    {
     "name": "stdout",
     "output_type": "stream",
     "text": [
      "finding affine basis took 0.605549\n",
      "intermediate time 481.574603\n",
      "34 neighbors\n",
      "setting up df took 1.112776\n"
     ]
    },
    {
     "name": "stderr",
     "output_type": "stream",
     "text": [
      "/home/pierre/anaconda3/conda/envs/pygmt/lib/python3.11/site-packages/shapely/linear.py:90: RuntimeWarning: invalid value encountered in line_locate_point\n",
      "  return lib.line_locate_point(line, other)\n"
     ]
    },
    {
     "name": "stdout",
     "output_type": "stream",
     "text": [
      "finding affine basis took 1.317194\n",
      "intermediate time 484.004638\n",
      "34 neighbors\n",
      "setting up df took 1.023594\n"
     ]
    },
    {
     "name": "stderr",
     "output_type": "stream",
     "text": [
      "/home/pierre/anaconda3/conda/envs/pygmt/lib/python3.11/site-packages/shapely/linear.py:90: RuntimeWarning: invalid value encountered in line_locate_point\n",
      "  return lib.line_locate_point(line, other)\n"
     ]
    },
    {
     "name": "stdout",
     "output_type": "stream",
     "text": [
      "finding affine basis took 1.274365\n",
      "intermediate time 486.302658\n",
      "34 neighbors\n",
      "setting up df took 1.035466\n"
     ]
    },
    {
     "name": "stderr",
     "output_type": "stream",
     "text": [
      "/home/pierre/anaconda3/conda/envs/pygmt/lib/python3.11/site-packages/shapely/linear.py:90: RuntimeWarning: invalid value encountered in line_locate_point\n",
      "  return lib.line_locate_point(line, other)\n"
     ]
    },
    {
     "name": "stdout",
     "output_type": "stream",
     "text": [
      "finding affine basis took 1.746673\n",
      "intermediate time 489.084856\n",
      "33 neighbors\n",
      "setting up df took 1.110269\n"
     ]
    },
    {
     "name": "stderr",
     "output_type": "stream",
     "text": [
      "/home/pierre/anaconda3/conda/envs/pygmt/lib/python3.11/site-packages/shapely/linear.py:90: RuntimeWarning: invalid value encountered in line_locate_point\n",
      "  return lib.line_locate_point(line, other)\n"
     ]
    },
    {
     "name": "stdout",
     "output_type": "stream",
     "text": [
      "finding affine basis took 1.290922\n",
      "intermediate time 491.486106\n",
      "33 neighbors\n",
      "setting up df took 0.943280\n"
     ]
    },
    {
     "name": "stderr",
     "output_type": "stream",
     "text": [
      "/home/pierre/anaconda3/conda/envs/pygmt/lib/python3.11/site-packages/shapely/linear.py:90: RuntimeWarning: invalid value encountered in line_locate_point\n",
      "  return lib.line_locate_point(line, other)\n"
     ]
    },
    {
     "name": "stdout",
     "output_type": "stream",
     "text": [
      "finding affine basis took 0.876168\n",
      "intermediate time 493.305620\n",
      "33 neighbors\n",
      "setting up df took 1.012556\n"
     ]
    },
    {
     "name": "stderr",
     "output_type": "stream",
     "text": [
      "/home/pierre/anaconda3/conda/envs/pygmt/lib/python3.11/site-packages/shapely/linear.py:90: RuntimeWarning: invalid value encountered in line_locate_point\n",
      "  return lib.line_locate_point(line, other)\n"
     ]
    },
    {
     "name": "stdout",
     "output_type": "stream",
     "text": [
      "finding affine basis took 1.060328\n",
      "intermediate time 495.378655\n",
      "32 neighbors\n",
      "setting up df took 0.703159\n"
     ]
    },
    {
     "name": "stderr",
     "output_type": "stream",
     "text": [
      "/home/pierre/anaconda3/conda/envs/pygmt/lib/python3.11/site-packages/shapely/linear.py:90: RuntimeWarning: invalid value encountered in line_locate_point\n",
      "  return lib.line_locate_point(line, other)\n"
     ]
    },
    {
     "name": "stdout",
     "output_type": "stream",
     "text": [
      "finding affine basis took 0.281092\n",
      "intermediate time 496.362989\n",
      "32 neighbors\n",
      "setting up df took 0.941301\n"
     ]
    },
    {
     "name": "stderr",
     "output_type": "stream",
     "text": [
      "/home/pierre/anaconda3/conda/envs/pygmt/lib/python3.11/site-packages/shapely/linear.py:90: RuntimeWarning: invalid value encountered in line_locate_point\n",
      "  return lib.line_locate_point(line, other)\n"
     ]
    },
    {
     "name": "stdout",
     "output_type": "stream",
     "text": [
      "finding affine basis took 0.965698\n",
      "intermediate time 498.270072\n",
      "90/971\n",
      "32 neighbors\n",
      "setting up df took 1.019425\n"
     ]
    },
    {
     "name": "stderr",
     "output_type": "stream",
     "text": [
      "/home/pierre/anaconda3/conda/envs/pygmt/lib/python3.11/site-packages/shapely/linear.py:90: RuntimeWarning: invalid value encountered in line_locate_point\n",
      "  return lib.line_locate_point(line, other)\n"
     ]
    },
    {
     "name": "stdout",
     "output_type": "stream",
     "text": [
      "finding affine basis took 1.130424\n",
      "intermediate time 500.419986\n",
      "32 neighbors\n",
      "setting up df took 0.716274\n"
     ]
    },
    {
     "name": "stderr",
     "output_type": "stream",
     "text": [
      "/home/pierre/anaconda3/conda/envs/pygmt/lib/python3.11/site-packages/shapely/linear.py:90: RuntimeWarning: invalid value encountered in line_locate_point\n",
      "  return lib.line_locate_point(line, other)\n"
     ]
    },
    {
     "name": "stdout",
     "output_type": "stream",
     "text": [
      "finding affine basis took 0.382644\n",
      "intermediate time 501.518985\n",
      "32 neighbors\n",
      "setting up df took 1.022546\n"
     ]
    },
    {
     "name": "stderr",
     "output_type": "stream",
     "text": [
      "/home/pierre/anaconda3/conda/envs/pygmt/lib/python3.11/site-packages/shapely/linear.py:90: RuntimeWarning: invalid value encountered in line_locate_point\n",
      "  return lib.line_locate_point(line, other)\n"
     ]
    },
    {
     "name": "stdout",
     "output_type": "stream",
     "text": [
      "finding affine basis took 1.055127\n",
      "intermediate time 503.596772\n",
      "31 neighbors\n",
      "setting up df took 0.899773\n"
     ]
    },
    {
     "name": "stderr",
     "output_type": "stream",
     "text": [
      "/home/pierre/anaconda3/conda/envs/pygmt/lib/python3.11/site-packages/shapely/linear.py:90: RuntimeWarning: invalid value encountered in line_locate_point\n",
      "  return lib.line_locate_point(line, other)\n"
     ]
    },
    {
     "name": "stdout",
     "output_type": "stream",
     "text": [
      "finding affine basis took 0.444483\n",
      "intermediate time 504.941137\n",
      "30 neighbors\n",
      "setting up df took 1.042845\n"
     ]
    },
    {
     "name": "stderr",
     "output_type": "stream",
     "text": [
      "/home/pierre/anaconda3/conda/envs/pygmt/lib/python3.11/site-packages/shapely/linear.py:90: RuntimeWarning: invalid value encountered in line_locate_point\n",
      "  return lib.line_locate_point(line, other)\n"
     ]
    },
    {
     "name": "stdout",
     "output_type": "stream",
     "text": [
      "finding affine basis took 1.255591\n",
      "intermediate time 507.239633\n",
      "30 neighbors\n",
      "setting up df took 1.058173\n"
     ]
    },
    {
     "name": "stderr",
     "output_type": "stream",
     "text": [
      "/home/pierre/anaconda3/conda/envs/pygmt/lib/python3.11/site-packages/shapely/linear.py:90: RuntimeWarning: invalid value encountered in line_locate_point\n",
      "  return lib.line_locate_point(line, other)\n"
     ]
    },
    {
     "name": "stdout",
     "output_type": "stream",
     "text": [
      "finding affine basis took 1.087460\n",
      "intermediate time 509.385390\n",
      "29 neighbors\n",
      "setting up df took 0.941603\n"
     ]
    },
    {
     "name": "stderr",
     "output_type": "stream",
     "text": [
      "/home/pierre/anaconda3/conda/envs/pygmt/lib/python3.11/site-packages/shapely/linear.py:90: RuntimeWarning: invalid value encountered in line_locate_point\n",
      "  return lib.line_locate_point(line, other)\n"
     ]
    },
    {
     "name": "stdout",
     "output_type": "stream",
     "text": [
      "finding affine basis took 0.470488\n",
      "intermediate time 510.797589\n",
      "29 neighbors\n",
      "setting up df took 0.913165\n"
     ]
    },
    {
     "name": "stderr",
     "output_type": "stream",
     "text": [
      "/home/pierre/anaconda3/conda/envs/pygmt/lib/python3.11/site-packages/shapely/linear.py:90: RuntimeWarning: invalid value encountered in line_locate_point\n",
      "  return lib.line_locate_point(line, other)\n"
     ]
    },
    {
     "name": "stdout",
     "output_type": "stream",
     "text": [
      "finding affine basis took 0.868033\n",
      "intermediate time 512.578854\n",
      "29 neighbors\n",
      "setting up df took 1.051733\n"
     ]
    },
    {
     "name": "stderr",
     "output_type": "stream",
     "text": [
      "/home/pierre/anaconda3/conda/envs/pygmt/lib/python3.11/site-packages/shapely/linear.py:90: RuntimeWarning: invalid value encountered in line_locate_point\n",
      "  return lib.line_locate_point(line, other)\n"
     ]
    },
    {
     "name": "stdout",
     "output_type": "stream",
     "text": [
      "finding affine basis took 1.366236\n",
      "intermediate time 514.996883\n",
      "29 neighbors\n",
      "setting up df took 1.099410\n"
     ]
    },
    {
     "name": "stderr",
     "output_type": "stream",
     "text": [
      "/home/pierre/anaconda3/conda/envs/pygmt/lib/python3.11/site-packages/shapely/linear.py:90: RuntimeWarning: invalid value encountered in line_locate_point\n",
      "  return lib.line_locate_point(line, other)\n"
     ]
    },
    {
     "name": "stdout",
     "output_type": "stream",
     "text": [
      "finding affine basis took 1.365016\n",
      "intermediate time 517.461368\n",
      "100/971\n",
      "29 neighbors\n",
      "setting up df took 0.936607\n"
     ]
    },
    {
     "name": "stderr",
     "output_type": "stream",
     "text": [
      "/home/pierre/anaconda3/conda/envs/pygmt/lib/python3.11/site-packages/shapely/linear.py:90: RuntimeWarning: invalid value encountered in line_locate_point\n",
      "  return lib.line_locate_point(line, other)\n"
     ]
    },
    {
     "name": "stdout",
     "output_type": "stream",
     "text": [
      "finding affine basis took 0.997610\n",
      "intermediate time 519.395719\n",
      "29 neighbors\n",
      "setting up df took 1.047637\n"
     ]
    },
    {
     "name": "stderr",
     "output_type": "stream",
     "text": [
      "/home/pierre/anaconda3/conda/envs/pygmt/lib/python3.11/site-packages/shapely/linear.py:90: RuntimeWarning: invalid value encountered in line_locate_point\n",
      "  return lib.line_locate_point(line, other)\n"
     ]
    },
    {
     "name": "stdout",
     "output_type": "stream",
     "text": [
      "finding affine basis took 1.316371\n",
      "intermediate time 521.759897\n",
      "29 neighbors\n",
      "setting up df took 1.020393\n"
     ]
    },
    {
     "name": "stderr",
     "output_type": "stream",
     "text": [
      "/home/pierre/anaconda3/conda/envs/pygmt/lib/python3.11/site-packages/shapely/linear.py:90: RuntimeWarning: invalid value encountered in line_locate_point\n",
      "  return lib.line_locate_point(line, other)\n"
     ]
    },
    {
     "name": "stdout",
     "output_type": "stream",
     "text": [
      "finding affine basis took 1.273879\n",
      "intermediate time 524.054236\n",
      "28 neighbors\n",
      "setting up df took 0.910208\n"
     ]
    },
    {
     "name": "stderr",
     "output_type": "stream",
     "text": [
      "/home/pierre/anaconda3/conda/envs/pygmt/lib/python3.11/site-packages/shapely/linear.py:90: RuntimeWarning: invalid value encountered in line_locate_point\n",
      "  return lib.line_locate_point(line, other)\n"
     ]
    },
    {
     "name": "stdout",
     "output_type": "stream",
     "text": [
      "finding affine basis took 0.519591\n",
      "intermediate time 525.484096\n",
      "28 neighbors\n",
      "setting up df took 0.711636\n"
     ]
    },
    {
     "name": "stderr",
     "output_type": "stream",
     "text": [
      "/home/pierre/anaconda3/conda/envs/pygmt/lib/python3.11/site-packages/shapely/linear.py:90: RuntimeWarning: invalid value encountered in line_locate_point\n",
      "  return lib.line_locate_point(line, other)\n"
     ]
    },
    {
     "name": "stdout",
     "output_type": "stream",
     "text": [
      "finding affine basis took 0.252487\n",
      "intermediate time 526.448371\n",
      "28 neighbors\n",
      "setting up df took 0.630244\n"
     ]
    },
    {
     "name": "stderr",
     "output_type": "stream",
     "text": [
      "/home/pierre/anaconda3/conda/envs/pygmt/lib/python3.11/site-packages/shapely/linear.py:90: RuntimeWarning: invalid value encountered in line_locate_point\n",
      "  return lib.line_locate_point(line, other)\n"
     ]
    },
    {
     "name": "stdout",
     "output_type": "stream",
     "text": [
      "finding affine basis took 0.436903\n",
      "intermediate time 527.515578\n",
      "27 neighbors\n",
      "setting up df took 0.664816\n",
      "finding affine basis took 0.046880\n",
      "intermediate time 528.227337\n",
      "27 neighbors\n"
     ]
    },
    {
     "name": "stderr",
     "output_type": "stream",
     "text": [
      "/home/pierre/anaconda3/conda/envs/pygmt/lib/python3.11/site-packages/shapely/linear.py:90: RuntimeWarning: invalid value encountered in line_locate_point\n",
      "  return lib.line_locate_point(line, other)\n"
     ]
    },
    {
     "name": "stdout",
     "output_type": "stream",
     "text": [
      "setting up df took 0.711492\n"
     ]
    },
    {
     "name": "stderr",
     "output_type": "stream",
     "text": [
      "/home/pierre/anaconda3/conda/envs/pygmt/lib/python3.11/site-packages/shapely/linear.py:90: RuntimeWarning: invalid value encountered in line_locate_point\n",
      "  return lib.line_locate_point(line, other)\n"
     ]
    },
    {
     "name": "stdout",
     "output_type": "stream",
     "text": [
      "finding affine basis took 0.285381\n",
      "intermediate time 529.224247\n",
      "27 neighbors\n",
      "setting up df took 0.943898\n"
     ]
    },
    {
     "name": "stderr",
     "output_type": "stream",
     "text": [
      "/home/pierre/anaconda3/conda/envs/pygmt/lib/python3.11/site-packages/shapely/linear.py:90: RuntimeWarning: invalid value encountered in line_locate_point\n",
      "  return lib.line_locate_point(line, other)\n"
     ]
    },
    {
     "name": "stdout",
     "output_type": "stream",
     "text": [
      "finding affine basis took 0.549892\n",
      "intermediate time 530.718107\n",
      "27 neighbors\n",
      "setting up df took 0.642811\n"
     ]
    },
    {
     "name": "stderr",
     "output_type": "stream",
     "text": [
      "/home/pierre/anaconda3/conda/envs/pygmt/lib/python3.11/site-packages/shapely/linear.py:90: RuntimeWarning: invalid value encountered in line_locate_point\n",
      "  return lib.line_locate_point(line, other)\n"
     ]
    },
    {
     "name": "stdout",
     "output_type": "stream",
     "text": [
      "finding affine basis took 0.216317\n",
      "intermediate time 531.577294\n",
      "110/971\n",
      "27 neighbors\n",
      "setting up df took 1.031028\n"
     ]
    },
    {
     "name": "stderr",
     "output_type": "stream",
     "text": [
      "/home/pierre/anaconda3/conda/envs/pygmt/lib/python3.11/site-packages/shapely/linear.py:90: RuntimeWarning: invalid value encountered in line_locate_point\n",
      "  return lib.line_locate_point(line, other)\n"
     ]
    },
    {
     "name": "stdout",
     "output_type": "stream",
     "text": [
      "finding affine basis took 1.475292\n",
      "intermediate time 534.083679\n",
      "27 neighbors\n",
      "setting up df took 1.162959\n"
     ]
    },
    {
     "name": "stderr",
     "output_type": "stream",
     "text": [
      "/home/pierre/anaconda3/conda/envs/pygmt/lib/python3.11/site-packages/shapely/linear.py:90: RuntimeWarning: invalid value encountered in line_locate_point\n",
      "  return lib.line_locate_point(line, other)\n"
     ]
    },
    {
     "name": "stdout",
     "output_type": "stream",
     "text": [
      "finding affine basis took 1.649631\n",
      "intermediate time 536.896530\n",
      "26 neighbors\n",
      "setting up df took 0.659512\n",
      "finding affine basis took 0.163218\n",
      "intermediate time 537.719349\n",
      "26 neighbors\n"
     ]
    },
    {
     "name": "stderr",
     "output_type": "stream",
     "text": [
      "/home/pierre/anaconda3/conda/envs/pygmt/lib/python3.11/site-packages/shapely/linear.py:90: RuntimeWarning: invalid value encountered in line_locate_point\n",
      "  return lib.line_locate_point(line, other)\n"
     ]
    },
    {
     "name": "stdout",
     "output_type": "stream",
     "text": [
      "setting up df took 0.984094\n"
     ]
    },
    {
     "name": "stderr",
     "output_type": "stream",
     "text": [
      "/home/pierre/anaconda3/conda/envs/pygmt/lib/python3.11/site-packages/shapely/linear.py:90: RuntimeWarning: invalid value encountered in line_locate_point\n",
      "  return lib.line_locate_point(line, other)\n"
     ]
    },
    {
     "name": "stdout",
     "output_type": "stream",
     "text": [
      "finding affine basis took 0.808439\n",
      "intermediate time 539.511917\n",
      "26 neighbors\n",
      "setting up df took 0.903720\n"
     ]
    },
    {
     "name": "stderr",
     "output_type": "stream",
     "text": [
      "/home/pierre/anaconda3/conda/envs/pygmt/lib/python3.11/site-packages/shapely/linear.py:90: RuntimeWarning: invalid value encountered in line_locate_point\n",
      "  return lib.line_locate_point(line, other)\n"
     ]
    },
    {
     "name": "stdout",
     "output_type": "stream",
     "text": [
      "finding affine basis took 0.692972\n",
      "intermediate time 541.108674\n",
      "26 neighbors\n",
      "setting up df took 0.930600\n"
     ]
    },
    {
     "name": "stderr",
     "output_type": "stream",
     "text": [
      "/home/pierre/anaconda3/conda/envs/pygmt/lib/python3.11/site-packages/shapely/linear.py:90: RuntimeWarning: invalid value encountered in line_locate_point\n",
      "  return lib.line_locate_point(line, other)\n"
     ]
    },
    {
     "name": "stdout",
     "output_type": "stream",
     "text": [
      "finding affine basis took 0.533838\n",
      "intermediate time 542.573175\n",
      "26 neighbors\n",
      "setting up df took 0.985492\n"
     ]
    },
    {
     "name": "stderr",
     "output_type": "stream",
     "text": [
      "/home/pierre/anaconda3/conda/envs/pygmt/lib/python3.11/site-packages/shapely/linear.py:90: RuntimeWarning: invalid value encountered in line_locate_point\n",
      "  return lib.line_locate_point(line, other)\n"
     ]
    },
    {
     "name": "stdout",
     "output_type": "stream",
     "text": [
      "finding affine basis took 0.575976\n",
      "intermediate time 544.134701\n",
      "25 neighbors\n",
      "setting up df took 0.634374\n"
     ]
    },
    {
     "name": "stderr",
     "output_type": "stream",
     "text": [
      "/home/pierre/anaconda3/conda/envs/pygmt/lib/python3.11/site-packages/shapely/linear.py:90: RuntimeWarning: invalid value encountered in line_locate_point\n",
      "  return lib.line_locate_point(line, other)\n"
     ]
    },
    {
     "name": "stdout",
     "output_type": "stream",
     "text": [
      "finding affine basis took 0.302692\n",
      "intermediate time 545.071826\n",
      "25 neighbors\n",
      "setting up df took 0.872010\n"
     ]
    },
    {
     "name": "stderr",
     "output_type": "stream",
     "text": [
      "/home/pierre/anaconda3/conda/envs/pygmt/lib/python3.11/site-packages/shapely/linear.py:90: RuntimeWarning: invalid value encountered in line_locate_point\n",
      "  return lib.line_locate_point(line, other)\n"
     ]
    },
    {
     "name": "stdout",
     "output_type": "stream",
     "text": [
      "finding affine basis took 0.538079\n",
      "intermediate time 546.481975\n",
      "25 neighbors\n",
      "setting up df took 1.027163\n"
     ]
    },
    {
     "name": "stderr",
     "output_type": "stream",
     "text": [
      "/home/pierre/anaconda3/conda/envs/pygmt/lib/python3.11/site-packages/shapely/linear.py:90: RuntimeWarning: invalid value encountered in line_locate_point\n",
      "  return lib.line_locate_point(line, other)\n"
     ]
    },
    {
     "name": "stdout",
     "output_type": "stream",
     "text": [
      "finding affine basis took 1.087516\n",
      "intermediate time 548.596723\n",
      "120/971\n",
      "25 neighbors\n",
      "setting up df took 0.647889\n"
     ]
    },
    {
     "name": "stderr",
     "output_type": "stream",
     "text": [
      "/home/pierre/anaconda3/conda/envs/pygmt/lib/python3.11/site-packages/shapely/linear.py:90: RuntimeWarning: invalid value encountered in line_locate_point\n",
      "  return lib.line_locate_point(line, other)\n"
     ]
    },
    {
     "name": "stdout",
     "output_type": "stream",
     "text": [
      "finding affine basis took 0.354376\n",
      "intermediate time 549.599059\n",
      "24 neighbors\n",
      "setting up df took 0.659001\n"
     ]
    },
    {
     "name": "stderr",
     "output_type": "stream",
     "text": [
      "/home/pierre/anaconda3/conda/envs/pygmt/lib/python3.11/site-packages/shapely/linear.py:90: RuntimeWarning: invalid value encountered in line_locate_point\n",
      "  return lib.line_locate_point(line, other)\n"
     ]
    },
    {
     "name": "stdout",
     "output_type": "stream",
     "text": [
      "finding affine basis took 0.312802\n",
      "intermediate time 550.570966\n",
      "24 neighbors\n",
      "setting up df took 0.934890\n"
     ]
    },
    {
     "name": "stderr",
     "output_type": "stream",
     "text": [
      "/home/pierre/anaconda3/conda/envs/pygmt/lib/python3.11/site-packages/shapely/linear.py:90: RuntimeWarning: invalid value encountered in line_locate_point\n",
      "  return lib.line_locate_point(line, other)\n"
     ]
    },
    {
     "name": "stdout",
     "output_type": "stream",
     "text": [
      "finding affine basis took 0.536024\n",
      "intermediate time 552.041939\n",
      "23 neighbors\n",
      "setting up df took 0.570382\n",
      "finding affine basis took 0.057302\n",
      "intermediate time 552.669705\n",
      "23 neighbors\n"
     ]
    },
    {
     "name": "stderr",
     "output_type": "stream",
     "text": [
      "/home/pierre/anaconda3/conda/envs/pygmt/lib/python3.11/site-packages/shapely/linear.py:90: RuntimeWarning: invalid value encountered in line_locate_point\n",
      "  return lib.line_locate_point(line, other)\n"
     ]
    },
    {
     "name": "stdout",
     "output_type": "stream",
     "text": [
      "setting up df took 0.994874\n"
     ]
    },
    {
     "name": "stderr",
     "output_type": "stream",
     "text": [
      "/home/pierre/anaconda3/conda/envs/pygmt/lib/python3.11/site-packages/shapely/linear.py:90: RuntimeWarning: invalid value encountered in line_locate_point\n",
      "  return lib.line_locate_point(line, other)\n"
     ]
    },
    {
     "name": "stdout",
     "output_type": "stream",
     "text": [
      "finding affine basis took 0.661218\n",
      "intermediate time 554.325830\n",
      "23 neighbors\n",
      "setting up df took 0.730837\n"
     ]
    },
    {
     "name": "stderr",
     "output_type": "stream",
     "text": [
      "/home/pierre/anaconda3/conda/envs/pygmt/lib/python3.11/site-packages/shapely/linear.py:90: RuntimeWarning: invalid value encountered in line_locate_point\n",
      "  return lib.line_locate_point(line, other)\n"
     ]
    },
    {
     "name": "stdout",
     "output_type": "stream",
     "text": [
      "finding affine basis took 0.253566\n",
      "intermediate time 555.310306\n",
      "23 neighbors\n",
      "setting up df took 0.687195\n",
      "finding affine basis took 0.194685\n",
      "intermediate time 556.192253\n",
      "23 neighbors\n"
     ]
    },
    {
     "name": "stderr",
     "output_type": "stream",
     "text": [
      "/home/pierre/anaconda3/conda/envs/pygmt/lib/python3.11/site-packages/shapely/linear.py:90: RuntimeWarning: invalid value encountered in line_locate_point\n",
      "  return lib.line_locate_point(line, other)\n"
     ]
    },
    {
     "name": "stdout",
     "output_type": "stream",
     "text": [
      "setting up df took 0.719244\n"
     ]
    },
    {
     "name": "stderr",
     "output_type": "stream",
     "text": [
      "/home/pierre/anaconda3/conda/envs/pygmt/lib/python3.11/site-packages/shapely/linear.py:90: RuntimeWarning: invalid value encountered in line_locate_point\n",
      "  return lib.line_locate_point(line, other)\n"
     ]
    },
    {
     "name": "stdout",
     "output_type": "stream",
     "text": [
      "finding affine basis took 0.205721\n",
      "intermediate time 557.117256\n",
      "22 neighbors\n",
      "setting up df took 0.651378\n",
      "finding affine basis took 0.089712\n",
      "intermediate time 557.858413\n",
      "22 neighbors\n"
     ]
    },
    {
     "name": "stderr",
     "output_type": "stream",
     "text": [
      "/home/pierre/anaconda3/conda/envs/pygmt/lib/python3.11/site-packages/shapely/linear.py:90: RuntimeWarning: invalid value encountered in line_locate_point\n",
      "  return lib.line_locate_point(line, other)\n"
     ]
    },
    {
     "name": "stdout",
     "output_type": "stream",
     "text": [
      "setting up df took 0.672316\n",
      "finding affine basis took 0.082255\n",
      "intermediate time 558.613030\n",
      "130/971\n",
      "22 neighbors\n"
     ]
    },
    {
     "name": "stderr",
     "output_type": "stream",
     "text": [
      "/home/pierre/anaconda3/conda/envs/pygmt/lib/python3.11/site-packages/shapely/linear.py:90: RuntimeWarning: invalid value encountered in line_locate_point\n",
      "  return lib.line_locate_point(line, other)\n"
     ]
    },
    {
     "name": "stdout",
     "output_type": "stream",
     "text": [
      "setting up df took 0.659452\n"
     ]
    },
    {
     "name": "stderr",
     "output_type": "stream",
     "text": [
      "/home/pierre/anaconda3/conda/envs/pygmt/lib/python3.11/site-packages/shapely/linear.py:90: RuntimeWarning: invalid value encountered in line_locate_point\n",
      "  return lib.line_locate_point(line, other)\n"
     ]
    },
    {
     "name": "stdout",
     "output_type": "stream",
     "text": [
      "finding affine basis took 0.290440\n",
      "intermediate time 559.562958\n",
      "22 neighbors\n",
      "setting up df took 0.632619\n",
      "finding affine basis took 0.160830\n",
      "intermediate time 560.356475\n",
      "22 neighbors\n"
     ]
    },
    {
     "name": "stderr",
     "output_type": "stream",
     "text": [
      "/home/pierre/anaconda3/conda/envs/pygmt/lib/python3.11/site-packages/shapely/linear.py:90: RuntimeWarning: invalid value encountered in line_locate_point\n",
      "  return lib.line_locate_point(line, other)\n"
     ]
    },
    {
     "name": "stdout",
     "output_type": "stream",
     "text": [
      "setting up df took 0.650646\n"
     ]
    },
    {
     "name": "stderr",
     "output_type": "stream",
     "text": [
      "/home/pierre/anaconda3/conda/envs/pygmt/lib/python3.11/site-packages/shapely/linear.py:90: RuntimeWarning: invalid value encountered in line_locate_point\n",
      "  return lib.line_locate_point(line, other)\n"
     ]
    },
    {
     "name": "stdout",
     "output_type": "stream",
     "text": [
      "finding affine basis took 0.404406\n",
      "intermediate time 561.411561\n",
      "22 neighbors\n",
      "setting up df took 0.669167\n"
     ]
    },
    {
     "name": "stderr",
     "output_type": "stream",
     "text": [
      "/home/pierre/anaconda3/conda/envs/pygmt/lib/python3.11/site-packages/shapely/linear.py:90: RuntimeWarning: invalid value encountered in line_locate_point\n",
      "  return lib.line_locate_point(line, other)\n"
     ]
    },
    {
     "name": "stdout",
     "output_type": "stream",
     "text": [
      "finding affine basis took 0.388281\n",
      "intermediate time 562.469067\n",
      "22 neighbors\n",
      "setting up df took 0.680155\n"
     ]
    },
    {
     "name": "stderr",
     "output_type": "stream",
     "text": [
      "/home/pierre/anaconda3/conda/envs/pygmt/lib/python3.11/site-packages/shapely/linear.py:90: RuntimeWarning: invalid value encountered in line_locate_point\n",
      "  return lib.line_locate_point(line, other)\n"
     ]
    },
    {
     "name": "stdout",
     "output_type": "stream",
     "text": [
      "finding affine basis took 0.277416\n",
      "intermediate time 563.426708\n",
      "21 neighbors\n",
      "setting up df took 0.701375\n"
     ]
    },
    {
     "name": "stderr",
     "output_type": "stream",
     "text": [
      "/home/pierre/anaconda3/conda/envs/pygmt/lib/python3.11/site-packages/shapely/linear.py:90: RuntimeWarning: invalid value encountered in line_locate_point\n",
      "  return lib.line_locate_point(line, other)\n"
     ]
    },
    {
     "name": "stdout",
     "output_type": "stream",
     "text": [
      "finding affine basis took 0.221276\n",
      "intermediate time 564.349718\n",
      "21 neighbors\n",
      "setting up df took 0.566935\n"
     ]
    },
    {
     "name": "stderr",
     "output_type": "stream",
     "text": [
      "/home/pierre/anaconda3/conda/envs/pygmt/lib/python3.11/site-packages/shapely/linear.py:90: RuntimeWarning: invalid value encountered in line_locate_point\n",
      "  return lib.line_locate_point(line, other)\n"
     ]
    },
    {
     "name": "stdout",
     "output_type": "stream",
     "text": [
      "finding affine basis took 0.206968\n",
      "intermediate time 565.123686\n",
      "21 neighbors\n",
      "setting up df took 0.655508\n"
     ]
    },
    {
     "name": "stderr",
     "output_type": "stream",
     "text": [
      "/home/pierre/anaconda3/conda/envs/pygmt/lib/python3.11/site-packages/shapely/linear.py:90: RuntimeWarning: invalid value encountered in line_locate_point\n",
      "  return lib.line_locate_point(line, other)\n"
     ]
    },
    {
     "name": "stdout",
     "output_type": "stream",
     "text": [
      "finding affine basis took 0.282135\n",
      "intermediate time 566.061395\n",
      "21 neighbors\n",
      "setting up df took 0.665782\n"
     ]
    },
    {
     "name": "stderr",
     "output_type": "stream",
     "text": [
      "/home/pierre/anaconda3/conda/envs/pygmt/lib/python3.11/site-packages/shapely/linear.py:90: RuntimeWarning: invalid value encountered in line_locate_point\n",
      "  return lib.line_locate_point(line, other)\n"
     ]
    },
    {
     "name": "stdout",
     "output_type": "stream",
     "text": [
      "finding affine basis took 0.221938\n",
      "intermediate time 566.949188\n",
      "21 neighbors\n",
      "setting up df took 0.659928\n"
     ]
    },
    {
     "name": "stderr",
     "output_type": "stream",
     "text": [
      "/home/pierre/anaconda3/conda/envs/pygmt/lib/python3.11/site-packages/shapely/linear.py:90: RuntimeWarning: invalid value encountered in line_locate_point\n",
      "  return lib.line_locate_point(line, other)\n"
     ]
    },
    {
     "name": "stdout",
     "output_type": "stream",
     "text": [
      "finding affine basis took 0.222003\n",
      "intermediate time 567.831178\n",
      "140/971\n",
      "20 neighbors\n",
      "setting up df took 0.634461\n",
      "finding affine basis took 0.087980\n",
      "intermediate time 568.553681\n",
      "20 neighbors\n"
     ]
    },
    {
     "name": "stderr",
     "output_type": "stream",
     "text": [
      "/home/pierre/anaconda3/conda/envs/pygmt/lib/python3.11/site-packages/shapely/linear.py:90: RuntimeWarning: invalid value encountered in line_locate_point\n",
      "  return lib.line_locate_point(line, other)\n"
     ]
    },
    {
     "name": "stdout",
     "output_type": "stream",
     "text": [
      "setting up df took 0.690549\n",
      "finding affine basis took 0.125886\n",
      "intermediate time 569.370151\n",
      "20 neighbors\n"
     ]
    },
    {
     "name": "stderr",
     "output_type": "stream",
     "text": [
      "/home/pierre/anaconda3/conda/envs/pygmt/lib/python3.11/site-packages/shapely/linear.py:90: RuntimeWarning: invalid value encountered in line_locate_point\n",
      "  return lib.line_locate_point(line, other)\n"
     ]
    },
    {
     "name": "stdout",
     "output_type": "stream",
     "text": [
      "setting up df took 0.684248\n"
     ]
    },
    {
     "name": "stderr",
     "output_type": "stream",
     "text": [
      "/home/pierre/anaconda3/conda/envs/pygmt/lib/python3.11/site-packages/shapely/linear.py:90: RuntimeWarning: invalid value encountered in line_locate_point\n",
      "  return lib.line_locate_point(line, other)\n"
     ]
    },
    {
     "name": "stdout",
     "output_type": "stream",
     "text": [
      "finding affine basis took 0.416490\n",
      "intermediate time 570.470922\n",
      "20 neighbors\n",
      "setting up df took 0.625644\n"
     ]
    },
    {
     "name": "stderr",
     "output_type": "stream",
     "text": [
      "/home/pierre/anaconda3/conda/envs/pygmt/lib/python3.11/site-packages/shapely/linear.py:90: RuntimeWarning: invalid value encountered in line_locate_point\n",
      "  return lib.line_locate_point(line, other)\n"
     ]
    },
    {
     "name": "stdout",
     "output_type": "stream",
     "text": [
      "finding affine basis took 0.313159\n",
      "intermediate time 571.409785\n",
      "19 neighbors\n",
      "setting up df took 0.576679\n",
      "finding affine basis took 0.017933\n",
      "intermediate time 572.004456\n",
      "19 neighbors\n"
     ]
    },
    {
     "name": "stderr",
     "output_type": "stream",
     "text": [
      "/home/pierre/anaconda3/conda/envs/pygmt/lib/python3.11/site-packages/shapely/linear.py:90: RuntimeWarning: invalid value encountered in line_locate_point\n",
      "  return lib.line_locate_point(line, other)\n"
     ]
    },
    {
     "name": "stdout",
     "output_type": "stream",
     "text": [
      "setting up df took 0.617090\n",
      "finding affine basis took 0.037114\n",
      "intermediate time 572.658692\n",
      "19 neighbors\n"
     ]
    },
    {
     "name": "stderr",
     "output_type": "stream",
     "text": [
      "/home/pierre/anaconda3/conda/envs/pygmt/lib/python3.11/site-packages/shapely/linear.py:90: RuntimeWarning: invalid value encountered in line_locate_point\n",
      "  return lib.line_locate_point(line, other)\n"
     ]
    },
    {
     "name": "stdout",
     "output_type": "stream",
     "text": [
      "setting up df took 0.719920\n"
     ]
    },
    {
     "name": "stderr",
     "output_type": "stream",
     "text": [
      "/home/pierre/anaconda3/conda/envs/pygmt/lib/python3.11/site-packages/shapely/linear.py:90: RuntimeWarning: invalid value encountered in line_locate_point\n",
      "  return lib.line_locate_point(line, other)\n"
     ]
    },
    {
     "name": "stdout",
     "output_type": "stream",
     "text": [
      "finding affine basis took 0.214940\n",
      "intermediate time 573.593588\n",
      "19 neighbors\n",
      "setting up df took 0.675651\n"
     ]
    },
    {
     "name": "stderr",
     "output_type": "stream",
     "text": [
      "/home/pierre/anaconda3/conda/envs/pygmt/lib/python3.11/site-packages/shapely/linear.py:90: RuntimeWarning: invalid value encountered in line_locate_point\n",
      "  return lib.line_locate_point(line, other)\n"
     ]
    },
    {
     "name": "stdout",
     "output_type": "stream",
     "text": [
      "finding affine basis took 0.212159\n",
      "intermediate time 574.481472\n",
      "19 neighbors\n",
      "setting up df took 0.627269\n",
      "finding affine basis took 0.112249\n",
      "intermediate time 575.221074\n",
      "19 neighbors\n"
     ]
    },
    {
     "name": "stderr",
     "output_type": "stream",
     "text": [
      "/home/pierre/anaconda3/conda/envs/pygmt/lib/python3.11/site-packages/shapely/linear.py:90: RuntimeWarning: invalid value encountered in line_locate_point\n",
      "  return lib.line_locate_point(line, other)\n"
     ]
    },
    {
     "name": "stdout",
     "output_type": "stream",
     "text": [
      "setting up df took 0.538964\n",
      "finding affine basis took 0.029209\n",
      "intermediate time 575.789279\n",
      "150/971\n",
      "19 neighbors\n"
     ]
    },
    {
     "name": "stderr",
     "output_type": "stream",
     "text": [
      "/home/pierre/anaconda3/conda/envs/pygmt/lib/python3.11/site-packages/shapely/linear.py:90: RuntimeWarning: invalid value encountered in line_locate_point\n",
      "  return lib.line_locate_point(line, other)\n"
     ]
    },
    {
     "name": "stdout",
     "output_type": "stream",
     "text": [
      "setting up df took 0.703759\n",
      "finding affine basis took 0.202174\n",
      "intermediate time 576.695247\n",
      "18 neighbors\n"
     ]
    },
    {
     "name": "stderr",
     "output_type": "stream",
     "text": [
      "/home/pierre/anaconda3/conda/envs/pygmt/lib/python3.11/site-packages/shapely/linear.py:90: RuntimeWarning: invalid value encountered in line_locate_point\n",
      "  return lib.line_locate_point(line, other)\n"
     ]
    },
    {
     "name": "stdout",
     "output_type": "stream",
     "text": [
      "setting up df took 0.568383\n",
      "finding affine basis took 0.152931\n",
      "intermediate time 577.416596\n",
      "18 neighbors\n"
     ]
    },
    {
     "name": "stderr",
     "output_type": "stream",
     "text": [
      "/home/pierre/anaconda3/conda/envs/pygmt/lib/python3.11/site-packages/shapely/linear.py:90: RuntimeWarning: invalid value encountered in line_locate_point\n",
      "  return lib.line_locate_point(line, other)\n"
     ]
    },
    {
     "name": "stdout",
     "output_type": "stream",
     "text": [
      "setting up df took 0.654688\n",
      "finding affine basis took 0.179945\n",
      "intermediate time 578.251282\n",
      "18 neighbors\n"
     ]
    },
    {
     "name": "stderr",
     "output_type": "stream",
     "text": [
      "/home/pierre/anaconda3/conda/envs/pygmt/lib/python3.11/site-packages/shapely/linear.py:90: RuntimeWarning: invalid value encountered in line_locate_point\n",
      "  return lib.line_locate_point(line, other)\n"
     ]
    },
    {
     "name": "stdout",
     "output_type": "stream",
     "text": [
      "setting up df took 0.673992\n"
     ]
    },
    {
     "name": "stderr",
     "output_type": "stream",
     "text": [
      "/home/pierre/anaconda3/conda/envs/pygmt/lib/python3.11/site-packages/shapely/linear.py:90: RuntimeWarning: invalid value encountered in line_locate_point\n",
      "  return lib.line_locate_point(line, other)\n"
     ]
    },
    {
     "name": "stdout",
     "output_type": "stream",
     "text": [
      "finding affine basis took 0.276711\n",
      "intermediate time 579.202016\n",
      "18 neighbors\n",
      "setting up df took 0.674102\n"
     ]
    },
    {
     "name": "stderr",
     "output_type": "stream",
     "text": [
      "/home/pierre/anaconda3/conda/envs/pygmt/lib/python3.11/site-packages/shapely/linear.py:90: RuntimeWarning: invalid value encountered in line_locate_point\n",
      "  return lib.line_locate_point(line, other)\n"
     ]
    },
    {
     "name": "stdout",
     "output_type": "stream",
     "text": [
      "finding affine basis took 0.642683\n",
      "intermediate time 580.518860\n",
      "17 neighbors\n",
      "setting up df took 0.658770\n"
     ]
    },
    {
     "name": "stderr",
     "output_type": "stream",
     "text": [
      "/home/pierre/anaconda3/conda/envs/pygmt/lib/python3.11/site-packages/shapely/linear.py:90: RuntimeWarning: invalid value encountered in line_locate_point\n",
      "  return lib.line_locate_point(line, other)\n"
     ]
    },
    {
     "name": "stdout",
     "output_type": "stream",
     "text": [
      "finding affine basis took 0.473134\n",
      "intermediate time 581.650834\n",
      "17 neighbors\n",
      "setting up df took 0.570859\n",
      "finding affine basis took 0.071464\n",
      "intermediate time 582.293216\n",
      "17 neighbors\n"
     ]
    },
    {
     "name": "stderr",
     "output_type": "stream",
     "text": [
      "/home/pierre/anaconda3/conda/envs/pygmt/lib/python3.11/site-packages/shapely/linear.py:90: RuntimeWarning: invalid value encountered in line_locate_point\n",
      "  return lib.line_locate_point(line, other)\n"
     ]
    },
    {
     "name": "stdout",
     "output_type": "stream",
     "text": [
      "setting up df took 0.579575\n"
     ]
    },
    {
     "name": "stderr",
     "output_type": "stream",
     "text": [
      "/home/pierre/anaconda3/conda/envs/pygmt/lib/python3.11/site-packages/shapely/linear.py:90: RuntimeWarning: invalid value encountered in line_locate_point\n",
      "  return lib.line_locate_point(line, other)\n"
     ]
    },
    {
     "name": "stdout",
     "output_type": "stream",
     "text": [
      "finding affine basis took 0.238505\n",
      "intermediate time 583.111327\n",
      "17 neighbors\n",
      "setting up df took 0.562848\n"
     ]
    },
    {
     "name": "stderr",
     "output_type": "stream",
     "text": [
      "/home/pierre/anaconda3/conda/envs/pygmt/lib/python3.11/site-packages/shapely/linear.py:90: RuntimeWarning: invalid value encountered in line_locate_point\n",
      "  return lib.line_locate_point(line, other)\n"
     ]
    },
    {
     "name": "stdout",
     "output_type": "stream",
     "text": [
      "finding affine basis took 0.271513\n",
      "intermediate time 583.945750\n",
      "17 neighbors\n",
      "setting up df took 0.617781\n",
      "finding affine basis took 0.154207\n",
      "intermediate time 584.717807\n",
      "160/971\n",
      "17 neighbors\n"
     ]
    },
    {
     "name": "stderr",
     "output_type": "stream",
     "text": [
      "/home/pierre/anaconda3/conda/envs/pygmt/lib/python3.11/site-packages/shapely/linear.py:90: RuntimeWarning: invalid value encountered in line_locate_point\n",
      "  return lib.line_locate_point(line, other)\n"
     ]
    },
    {
     "name": "stdout",
     "output_type": "stream",
     "text": [
      "setting up df took 0.551408\n",
      "finding affine basis took 0.079364\n",
      "intermediate time 585.348627\n",
      "16 neighbors\n"
     ]
    },
    {
     "name": "stderr",
     "output_type": "stream",
     "text": [
      "/home/pierre/anaconda3/conda/envs/pygmt/lib/python3.11/site-packages/shapely/linear.py:90: RuntimeWarning: invalid value encountered in line_locate_point\n",
      "  return lib.line_locate_point(line, other)\n"
     ]
    },
    {
     "name": "stdout",
     "output_type": "stream",
     "text": [
      "setting up df took 0.558004\n",
      "finding affine basis took 0.094848\n",
      "intermediate time 586.001511\n",
      "16 neighbors\n"
     ]
    },
    {
     "name": "stderr",
     "output_type": "stream",
     "text": [
      "/home/pierre/anaconda3/conda/envs/pygmt/lib/python3.11/site-packages/shapely/linear.py:90: RuntimeWarning: invalid value encountered in line_locate_point\n",
      "  return lib.line_locate_point(line, other)\n"
     ]
    },
    {
     "name": "stdout",
     "output_type": "stream",
     "text": [
      "setting up df took 0.601743\n",
      "finding affine basis took 0.137229\n",
      "intermediate time 586.740516\n",
      "16 neighbors\n"
     ]
    },
    {
     "name": "stderr",
     "output_type": "stream",
     "text": [
      "/home/pierre/anaconda3/conda/envs/pygmt/lib/python3.11/site-packages/shapely/linear.py:90: RuntimeWarning: invalid value encountered in line_locate_point\n",
      "  return lib.line_locate_point(line, other)\n"
     ]
    },
    {
     "name": "stdout",
     "output_type": "stream",
     "text": [
      "setting up df took 0.903220\n"
     ]
    },
    {
     "name": "stderr",
     "output_type": "stream",
     "text": [
      "/home/pierre/anaconda3/conda/envs/pygmt/lib/python3.11/site-packages/shapely/linear.py:90: RuntimeWarning: invalid value encountered in line_locate_point\n",
      "  return lib.line_locate_point(line, other)\n"
     ]
    },
    {
     "name": "stdout",
     "output_type": "stream",
     "text": [
      "finding affine basis took 0.493264\n",
      "intermediate time 588.137036\n",
      "16 neighbors\n",
      "setting up df took 0.541132\n",
      "finding affine basis took 0.031227\n",
      "intermediate time 588.709472\n",
      "16 neighbors\n"
     ]
    },
    {
     "name": "stderr",
     "output_type": "stream",
     "text": [
      "/home/pierre/anaconda3/conda/envs/pygmt/lib/python3.11/site-packages/shapely/linear.py:90: RuntimeWarning: invalid value encountered in line_locate_point\n",
      "  return lib.line_locate_point(line, other)\n"
     ]
    },
    {
     "name": "stdout",
     "output_type": "stream",
     "text": [
      "setting up df took 0.694829\n"
     ]
    },
    {
     "name": "stderr",
     "output_type": "stream",
     "text": [
      "/home/pierre/anaconda3/conda/envs/pygmt/lib/python3.11/site-packages/shapely/linear.py:90: RuntimeWarning: invalid value encountered in line_locate_point\n",
      "  return lib.line_locate_point(line, other)\n"
     ]
    },
    {
     "name": "stdout",
     "output_type": "stream",
     "text": [
      "finding affine basis took 0.308868\n",
      "intermediate time 589.713213\n",
      "15 neighbors\n",
      "setting up df took 0.560954\n",
      "finding affine basis took 0.017041\n",
      "intermediate time 590.291276\n",
      "15 neighbors\n"
     ]
    },
    {
     "name": "stderr",
     "output_type": "stream",
     "text": [
      "/home/pierre/anaconda3/conda/envs/pygmt/lib/python3.11/site-packages/shapely/linear.py:90: RuntimeWarning: invalid value encountered in line_locate_point\n",
      "  return lib.line_locate_point(line, other)\n"
     ]
    },
    {
     "name": "stdout",
     "output_type": "stream",
     "text": [
      "setting up df took 0.527613\n",
      "finding affine basis took 0.016977\n",
      "intermediate time 590.835923\n",
      "15 neighbors\n"
     ]
    },
    {
     "name": "stderr",
     "output_type": "stream",
     "text": [
      "/home/pierre/anaconda3/conda/envs/pygmt/lib/python3.11/site-packages/shapely/linear.py:90: RuntimeWarning: invalid value encountered in line_locate_point\n",
      "  return lib.line_locate_point(line, other)\n"
     ]
    },
    {
     "name": "stdout",
     "output_type": "stream",
     "text": [
      "setting up df took 0.552655\n",
      "finding affine basis took 0.064099\n",
      "intermediate time 591.452709\n",
      "15 neighbors\n"
     ]
    },
    {
     "name": "stderr",
     "output_type": "stream",
     "text": [
      "/home/pierre/anaconda3/conda/envs/pygmt/lib/python3.11/site-packages/shapely/linear.py:90: RuntimeWarning: invalid value encountered in line_locate_point\n",
      "  return lib.line_locate_point(line, other)\n"
     ]
    },
    {
     "name": "stdout",
     "output_type": "stream",
     "text": [
      "setting up df took 0.635685\n",
      "finding affine basis took 0.167508\n",
      "intermediate time 592.255939\n",
      "170/971\n",
      "15 neighbors\n"
     ]
    },
    {
     "name": "stderr",
     "output_type": "stream",
     "text": [
      "/home/pierre/anaconda3/conda/envs/pygmt/lib/python3.11/site-packages/shapely/linear.py:90: RuntimeWarning: invalid value encountered in line_locate_point\n",
      "  return lib.line_locate_point(line, other)\n"
     ]
    },
    {
     "name": "stdout",
     "output_type": "stream",
     "text": [
      "setting up df took 0.699660\n"
     ]
    },
    {
     "name": "stderr",
     "output_type": "stream",
     "text": [
      "/home/pierre/anaconda3/conda/envs/pygmt/lib/python3.11/site-packages/shapely/linear.py:90: RuntimeWarning: invalid value encountered in line_locate_point\n",
      "  return lib.line_locate_point(line, other)\n"
     ]
    },
    {
     "name": "stdout",
     "output_type": "stream",
     "text": [
      "finding affine basis took 0.366030\n",
      "intermediate time 593.321666\n",
      "15 neighbors\n",
      "setting up df took 0.662123\n",
      "finding affine basis took 0.154917\n",
      "intermediate time 594.138767\n",
      "15 neighbors\n"
     ]
    },
    {
     "name": "stderr",
     "output_type": "stream",
     "text": [
      "/home/pierre/anaconda3/conda/envs/pygmt/lib/python3.11/site-packages/shapely/linear.py:90: RuntimeWarning: invalid value encountered in line_locate_point\n",
      "  return lib.line_locate_point(line, other)\n"
     ]
    },
    {
     "name": "stdout",
     "output_type": "stream",
     "text": [
      "setting up df took 0.690922\n"
     ]
    },
    {
     "name": "stderr",
     "output_type": "stream",
     "text": [
      "/home/pierre/anaconda3/conda/envs/pygmt/lib/python3.11/site-packages/shapely/linear.py:90: RuntimeWarning: invalid value encountered in line_locate_point\n",
      "  return lib.line_locate_point(line, other)\n"
     ]
    },
    {
     "name": "stdout",
     "output_type": "stream",
     "text": [
      "finding affine basis took 0.378410\n",
      "intermediate time 595.208170\n",
      "15 neighbors\n",
      "setting up df took 0.620985\n"
     ]
    },
    {
     "name": "stderr",
     "output_type": "stream",
     "text": [
      "/home/pierre/anaconda3/conda/envs/pygmt/lib/python3.11/site-packages/shapely/linear.py:90: RuntimeWarning: invalid value encountered in line_locate_point\n",
      "  return lib.line_locate_point(line, other)\n"
     ]
    },
    {
     "name": "stdout",
     "output_type": "stream",
     "text": [
      "finding affine basis took 0.292751\n",
      "intermediate time 596.121966\n",
      "15 neighbors\n",
      "setting up df took 0.577380\n"
     ]
    },
    {
     "name": "stderr",
     "output_type": "stream",
     "text": [
      "/home/pierre/anaconda3/conda/envs/pygmt/lib/python3.11/site-packages/shapely/linear.py:90: RuntimeWarning: invalid value encountered in line_locate_point\n",
      "  return lib.line_locate_point(line, other)\n"
     ]
    },
    {
     "name": "stdout",
     "output_type": "stream",
     "text": [
      "finding affine basis took 0.237138\n",
      "intermediate time 596.936579\n",
      "15 neighbors\n",
      "setting up df took 0.564238\n"
     ]
    },
    {
     "name": "stderr",
     "output_type": "stream",
     "text": [
      "/home/pierre/anaconda3/conda/envs/pygmt/lib/python3.11/site-packages/shapely/linear.py:90: RuntimeWarning: invalid value encountered in line_locate_point\n",
      "  return lib.line_locate_point(line, other)\n"
     ]
    },
    {
     "name": "stdout",
     "output_type": "stream",
     "text": [
      "finding affine basis took 0.327535\n",
      "intermediate time 597.828419\n",
      "14 neighbors\n",
      "setting up df took 0.544992\n",
      "finding affine basis took 0.014786\n",
      "intermediate time 598.388303\n",
      "14 neighbors\n",
      "setting up df took 0.079784\n",
      "finding affine basis took 0.009637\n",
      "intermediate time 598.477756\n",
      "14 neighbors\n"
     ]
    },
    {
     "name": "stderr",
     "output_type": "stream",
     "text": [
      "/home/pierre/anaconda3/conda/envs/pygmt/lib/python3.11/site-packages/shapely/linear.py:90: RuntimeWarning: invalid value encountered in line_locate_point\n",
      "  return lib.line_locate_point(line, other)\n"
     ]
    },
    {
     "name": "stdout",
     "output_type": "stream",
     "text": [
      "setting up df took 0.568274\n",
      "finding affine basis took 0.188716\n",
      "intermediate time 599.234775\n",
      "14 neighbors\n"
     ]
    },
    {
     "name": "stderr",
     "output_type": "stream",
     "text": [
      "/home/pierre/anaconda3/conda/envs/pygmt/lib/python3.11/site-packages/shapely/linear.py:90: RuntimeWarning: invalid value encountered in line_locate_point\n",
      "  return lib.line_locate_point(line, other)\n"
     ]
    },
    {
     "name": "stdout",
     "output_type": "stream",
     "text": [
      "setting up df took 0.560813\n",
      "finding affine basis took 0.076390\n",
      "intermediate time 599.872010\n",
      "180/971\n",
      "14 neighbors\n"
     ]
    },
    {
     "name": "stderr",
     "output_type": "stream",
     "text": [
      "/home/pierre/anaconda3/conda/envs/pygmt/lib/python3.11/site-packages/shapely/linear.py:90: RuntimeWarning: invalid value encountered in line_locate_point\n",
      "  return lib.line_locate_point(line, other)\n"
     ]
    },
    {
     "name": "stdout",
     "output_type": "stream",
     "text": [
      "setting up df took 0.549286\n",
      "finding affine basis took 0.054655\n",
      "intermediate time 600.475988\n",
      "14 neighbors\n"
     ]
    },
    {
     "name": "stderr",
     "output_type": "stream",
     "text": [
      "/home/pierre/anaconda3/conda/envs/pygmt/lib/python3.11/site-packages/shapely/linear.py:90: RuntimeWarning: invalid value encountered in line_locate_point\n",
      "  return lib.line_locate_point(line, other)\n"
     ]
    },
    {
     "name": "stdout",
     "output_type": "stream",
     "text": [
      "setting up df took 0.576021\n",
      "finding affine basis took 0.090986\n",
      "intermediate time 601.143037\n",
      "14 neighbors\n"
     ]
    },
    {
     "name": "stderr",
     "output_type": "stream",
     "text": [
      "/home/pierre/anaconda3/conda/envs/pygmt/lib/python3.11/site-packages/shapely/linear.py:90: RuntimeWarning: invalid value encountered in line_locate_point\n",
      "  return lib.line_locate_point(line, other)\n"
     ]
    },
    {
     "name": "stdout",
     "output_type": "stream",
     "text": [
      "setting up df took 0.583872\n",
      "finding affine basis took 0.118110\n",
      "intermediate time 601.845055\n",
      "14 neighbors\n"
     ]
    },
    {
     "name": "stderr",
     "output_type": "stream",
     "text": [
      "/home/pierre/anaconda3/conda/envs/pygmt/lib/python3.11/site-packages/shapely/linear.py:90: RuntimeWarning: invalid value encountered in line_locate_point\n",
      "  return lib.line_locate_point(line, other)\n"
     ]
    },
    {
     "name": "stdout",
     "output_type": "stream",
     "text": [
      "setting up df took 0.552936\n",
      "finding affine basis took 0.135725\n",
      "intermediate time 602.533752\n",
      "14 neighbors\n"
     ]
    },
    {
     "name": "stderr",
     "output_type": "stream",
     "text": [
      "/home/pierre/anaconda3/conda/envs/pygmt/lib/python3.11/site-packages/shapely/linear.py:90: RuntimeWarning: invalid value encountered in line_locate_point\n",
      "  return lib.line_locate_point(line, other)\n"
     ]
    },
    {
     "name": "stdout",
     "output_type": "stream",
     "text": [
      "setting up df took 0.525235\n",
      "finding affine basis took 0.030529\n",
      "intermediate time 603.089552\n",
      "14 neighbors\n"
     ]
    },
    {
     "name": "stderr",
     "output_type": "stream",
     "text": [
      "/home/pierre/anaconda3/conda/envs/pygmt/lib/python3.11/site-packages/shapely/linear.py:90: RuntimeWarning: invalid value encountered in line_locate_point\n",
      "  return lib.line_locate_point(line, other)\n"
     ]
    },
    {
     "name": "stdout",
     "output_type": "stream",
     "text": [
      "setting up df took 0.657174\n"
     ]
    },
    {
     "name": "stderr",
     "output_type": "stream",
     "text": [
      "/home/pierre/anaconda3/conda/envs/pygmt/lib/python3.11/site-packages/shapely/linear.py:90: RuntimeWarning: invalid value encountered in line_locate_point\n",
      "  return lib.line_locate_point(line, other)\n"
     ]
    },
    {
     "name": "stdout",
     "output_type": "stream",
     "text": [
      "finding affine basis took 0.303753\n",
      "intermediate time 604.050510\n",
      "14 neighbors\n",
      "setting up df took 0.657392\n"
     ]
    },
    {
     "name": "stderr",
     "output_type": "stream",
     "text": [
      "/home/pierre/anaconda3/conda/envs/pygmt/lib/python3.11/site-packages/shapely/linear.py:90: RuntimeWarning: invalid value encountered in line_locate_point\n",
      "  return lib.line_locate_point(line, other)\n"
     ]
    },
    {
     "name": "stdout",
     "output_type": "stream",
     "text": [
      "finding affine basis took 0.414256\n",
      "intermediate time 605.122242\n",
      "13 neighbors\n",
      "setting up df took 0.522084\n",
      "finding affine basis took 0.018404\n",
      "intermediate time 605.662792\n",
      "13 neighbors\n"
     ]
    },
    {
     "name": "stderr",
     "output_type": "stream",
     "text": [
      "/home/pierre/anaconda3/conda/envs/pygmt/lib/python3.11/site-packages/shapely/linear.py:90: RuntimeWarning: invalid value encountered in line_locate_point\n",
      "  return lib.line_locate_point(line, other)\n"
     ]
    },
    {
     "name": "stdout",
     "output_type": "stream",
     "text": [
      "setting up df took 0.710393\n"
     ]
    },
    {
     "name": "stderr",
     "output_type": "stream",
     "text": [
      "/home/pierre/anaconda3/conda/envs/pygmt/lib/python3.11/site-packages/shapely/linear.py:90: RuntimeWarning: invalid value encountered in line_locate_point\n",
      "  return lib.line_locate_point(line, other)\n"
     ]
    },
    {
     "name": "stdout",
     "output_type": "stream",
     "text": [
      "finding affine basis took 0.318214\n",
      "intermediate time 606.691429\n",
      "12 neighbors\n",
      "setting up df took 0.515523\n",
      "finding affine basis took 0.016255\n",
      "intermediate time 607.223276\n",
      "190/971\n",
      "12 neighbors\n"
     ]
    },
    {
     "name": "stderr",
     "output_type": "stream",
     "text": [
      "/home/pierre/anaconda3/conda/envs/pygmt/lib/python3.11/site-packages/shapely/linear.py:90: RuntimeWarning: invalid value encountered in line_locate_point\n",
      "  return lib.line_locate_point(line, other)\n"
     ]
    },
    {
     "name": "stdout",
     "output_type": "stream",
     "text": [
      "setting up df took 0.518914\n",
      "finding affine basis took 0.021934\n",
      "intermediate time 607.764159\n",
      "12 neighbors\n"
     ]
    },
    {
     "name": "stderr",
     "output_type": "stream",
     "text": [
      "/home/pierre/anaconda3/conda/envs/pygmt/lib/python3.11/site-packages/shapely/linear.py:90: RuntimeWarning: invalid value encountered in line_locate_point\n",
      "  return lib.line_locate_point(line, other)\n"
     ]
    },
    {
     "name": "stdout",
     "output_type": "stream",
     "text": [
      "setting up df took 0.477660\n",
      "finding affine basis took 0.015583\n",
      "intermediate time 608.257433\n",
      "12 neighbors\n"
     ]
    },
    {
     "name": "stderr",
     "output_type": "stream",
     "text": [
      "/home/pierre/anaconda3/conda/envs/pygmt/lib/python3.11/site-packages/shapely/linear.py:90: RuntimeWarning: invalid value encountered in line_locate_point\n",
      "  return lib.line_locate_point(line, other)\n"
     ]
    },
    {
     "name": "stdout",
     "output_type": "stream",
     "text": [
      "setting up df took 0.510099\n",
      "finding affine basis took 0.028007\n",
      "intermediate time 608.795571\n",
      "12 neighbors\n"
     ]
    },
    {
     "name": "stderr",
     "output_type": "stream",
     "text": [
      "/home/pierre/anaconda3/conda/envs/pygmt/lib/python3.11/site-packages/shapely/linear.py:90: RuntimeWarning: invalid value encountered in line_locate_point\n",
      "  return lib.line_locate_point(line, other)\n"
     ]
    },
    {
     "name": "stdout",
     "output_type": "stream",
     "text": [
      "setting up df took 0.501570\n",
      "finding affine basis took 0.039459\n",
      "intermediate time 609.336635\n",
      "12 neighbors\n"
     ]
    },
    {
     "name": "stderr",
     "output_type": "stream",
     "text": [
      "/home/pierre/anaconda3/conda/envs/pygmt/lib/python3.11/site-packages/shapely/linear.py:90: RuntimeWarning: invalid value encountered in line_locate_point\n",
      "  return lib.line_locate_point(line, other)\n"
     ]
    },
    {
     "name": "stdout",
     "output_type": "stream",
     "text": [
      "setting up df took 0.507066\n",
      "finding affine basis took 0.054587\n",
      "intermediate time 609.898319\n",
      "12 neighbors\n"
     ]
    },
    {
     "name": "stderr",
     "output_type": "stream",
     "text": [
      "/home/pierre/anaconda3/conda/envs/pygmt/lib/python3.11/site-packages/shapely/linear.py:90: RuntimeWarning: invalid value encountered in line_locate_point\n",
      "  return lib.line_locate_point(line, other)\n"
     ]
    },
    {
     "name": "stdout",
     "output_type": "stream",
     "text": [
      "setting up df took 0.564825\n"
     ]
    },
    {
     "name": "stderr",
     "output_type": "stream",
     "text": [
      "/home/pierre/anaconda3/conda/envs/pygmt/lib/python3.11/site-packages/shapely/linear.py:90: RuntimeWarning: invalid value encountered in line_locate_point\n",
      "  return lib.line_locate_point(line, other)\n"
     ]
    },
    {
     "name": "stdout",
     "output_type": "stream",
     "text": [
      "finding affine basis took 0.256000\n",
      "intermediate time 610.719178\n",
      "12 neighbors\n",
      "setting up df took 0.570979\n",
      "finding affine basis took 0.039027\n",
      "intermediate time 611.329253\n",
      "11 neighbors\n"
     ]
    },
    {
     "name": "stderr",
     "output_type": "stream",
     "text": [
      "/home/pierre/anaconda3/conda/envs/pygmt/lib/python3.11/site-packages/shapely/linear.py:90: RuntimeWarning: invalid value encountered in line_locate_point\n",
      "  return lib.line_locate_point(line, other)\n"
     ]
    },
    {
     "name": "stdout",
     "output_type": "stream",
     "text": [
      "setting up df took 0.632642\n"
     ]
    },
    {
     "name": "stderr",
     "output_type": "stream",
     "text": [
      "/home/pierre/anaconda3/conda/envs/pygmt/lib/python3.11/site-packages/shapely/linear.py:90: RuntimeWarning: invalid value encountered in line_locate_point\n",
      "  return lib.line_locate_point(line, other)\n"
     ]
    },
    {
     "name": "stdout",
     "output_type": "stream",
     "text": [
      "finding affine basis took 0.483041\n",
      "intermediate time 612.444970\n",
      "11 neighbors\n",
      "setting up df took 0.539122\n",
      "finding affine basis took 0.015910\n",
      "intermediate time 613.000060\n",
      "11 neighbors\n"
     ]
    },
    {
     "name": "stderr",
     "output_type": "stream",
     "text": [
      "/home/pierre/anaconda3/conda/envs/pygmt/lib/python3.11/site-packages/shapely/linear.py:90: RuntimeWarning: invalid value encountered in line_locate_point\n",
      "  return lib.line_locate_point(line, other)\n"
     ]
    },
    {
     "name": "stdout",
     "output_type": "stream",
     "text": [
      "setting up df took 0.630772\n"
     ]
    },
    {
     "name": "stderr",
     "output_type": "stream",
     "text": [
      "/home/pierre/anaconda3/conda/envs/pygmt/lib/python3.11/site-packages/shapely/linear.py:90: RuntimeWarning: invalid value encountered in line_locate_point\n",
      "  return lib.line_locate_point(line, other)\n"
     ]
    },
    {
     "name": "stdout",
     "output_type": "stream",
     "text": [
      "finding affine basis took 0.247767\n",
      "intermediate time 613.878656\n",
      "200/971\n",
      "11 neighbors\n",
      "setting up df took 0.512340\n",
      "finding affine basis took 0.016373\n",
      "intermediate time 614.407433\n",
      "11 neighbors\n"
     ]
    },
    {
     "name": "stderr",
     "output_type": "stream",
     "text": [
      "/home/pierre/anaconda3/conda/envs/pygmt/lib/python3.11/site-packages/shapely/linear.py:90: RuntimeWarning: invalid value encountered in line_locate_point\n",
      "  return lib.line_locate_point(line, other)\n"
     ]
    },
    {
     "name": "stdout",
     "output_type": "stream",
     "text": [
      "setting up df took 0.677603\n"
     ]
    },
    {
     "name": "stderr",
     "output_type": "stream",
     "text": [
      "/home/pierre/anaconda3/conda/envs/pygmt/lib/python3.11/site-packages/shapely/linear.py:90: RuntimeWarning: invalid value encountered in line_locate_point\n",
      "  return lib.line_locate_point(line, other)\n"
     ]
    },
    {
     "name": "stdout",
     "output_type": "stream",
     "text": [
      "finding affine basis took 0.209689\n",
      "intermediate time 615.294758\n",
      "10 neighbors\n",
      "setting up df took 0.209669\n",
      "finding affine basis took 0.149300\n",
      "intermediate time 615.653786\n",
      "10 neighbors\n"
     ]
    },
    {
     "name": "stderr",
     "output_type": "stream",
     "text": [
      "/home/pierre/anaconda3/conda/envs/pygmt/lib/python3.11/site-packages/shapely/linear.py:90: RuntimeWarning: invalid value encountered in line_locate_point\n",
      "  return lib.line_locate_point(line, other)\n"
     ]
    },
    {
     "name": "stdout",
     "output_type": "stream",
     "text": [
      "setting up df took 0.107652\n",
      "finding affine basis took 0.015324\n",
      "intermediate time 615.776810\n",
      "9 neighbors\n",
      "setting up df took 0.561620\n",
      "finding affine basis took 0.058349\n",
      "intermediate time 616.396814\n",
      "9 neighbors\n"
     ]
    },
    {
     "name": "stderr",
     "output_type": "stream",
     "text": [
      "/home/pierre/anaconda3/conda/envs/pygmt/lib/python3.11/site-packages/shapely/linear.py:90: RuntimeWarning: invalid value encountered in line_locate_point\n",
      "  return lib.line_locate_point(line, other)\n"
     ]
    },
    {
     "name": "stdout",
     "output_type": "stream",
     "text": [
      "setting up df took 0.156394\n",
      "finding affine basis took 0.029833\n",
      "intermediate time 616.583073\n",
      "9 neighbors\n"
     ]
    },
    {
     "name": "stderr",
     "output_type": "stream",
     "text": [
      "/home/pierre/anaconda3/conda/envs/pygmt/lib/python3.11/site-packages/shapely/linear.py:90: RuntimeWarning: invalid value encountered in line_locate_point\n",
      "  return lib.line_locate_point(line, other)\n"
     ]
    },
    {
     "name": "stdout",
     "output_type": "stream",
     "text": [
      "setting up df took 0.782885\n",
      "finding affine basis took 0.194853\n",
      "intermediate time 617.560843\n",
      "9 neighbors\n"
     ]
    },
    {
     "name": "stderr",
     "output_type": "stream",
     "text": [
      "/home/pierre/anaconda3/conda/envs/pygmt/lib/python3.11/site-packages/shapely/linear.py:90: RuntimeWarning: invalid value encountered in line_locate_point\n",
      "  return lib.line_locate_point(line, other)\n"
     ]
    },
    {
     "name": "stdout",
     "output_type": "stream",
     "text": [
      "setting up df took 0.020818\n",
      "finding affine basis took 0.006023\n",
      "intermediate time 617.587717\n",
      "8 neighbors\n",
      "setting up df took 0.553196\n",
      "finding affine basis took 0.052390\n",
      "intermediate time 618.193356\n",
      "8 neighbors\n"
     ]
    },
    {
     "name": "stderr",
     "output_type": "stream",
     "text": [
      "/home/pierre/anaconda3/conda/envs/pygmt/lib/python3.11/site-packages/shapely/linear.py:90: RuntimeWarning: invalid value encountered in line_locate_point\n",
      "  return lib.line_locate_point(line, other)\n"
     ]
    },
    {
     "name": "stdout",
     "output_type": "stream",
     "text": [
      "setting up df took 0.519705\n",
      "finding affine basis took 0.030793\n",
      "intermediate time 618.743901\n",
      "210/971\n",
      "8 neighbors\n",
      "setting up df took 0.048980\n",
      "finding affine basis took 0.004150\n",
      "intermediate time 618.797092\n",
      "8 neighbors\n",
      "setting up df took 0.075181\n",
      "finding affine basis took 0.021272\n",
      "intermediate time 618.893575\n",
      "8 neighbors\n"
     ]
    },
    {
     "name": "stderr",
     "output_type": "stream",
     "text": [
      "/home/pierre/anaconda3/conda/envs/pygmt/lib/python3.11/site-packages/shapely/linear.py:90: RuntimeWarning: invalid value encountered in line_locate_point\n",
      "  return lib.line_locate_point(line, other)\n"
     ]
    },
    {
     "name": "stdout",
     "output_type": "stream",
     "text": [
      "setting up df took 0.572323\n",
      "finding affine basis took 0.015537\n",
      "intermediate time 619.481481\n",
      "7 neighbors\n"
     ]
    },
    {
     "name": "stderr",
     "output_type": "stream",
     "text": [
      "/home/pierre/anaconda3/conda/envs/pygmt/lib/python3.11/site-packages/shapely/linear.py:90: RuntimeWarning: invalid value encountered in line_locate_point\n",
      "  return lib.line_locate_point(line, other)\n"
     ]
    },
    {
     "name": "stdout",
     "output_type": "stream",
     "text": [
      "setting up df took 0.541244\n",
      "finding affine basis took 0.028587\n",
      "intermediate time 620.051347\n",
      "7 neighbors\n"
     ]
    },
    {
     "name": "stderr",
     "output_type": "stream",
     "text": [
      "/home/pierre/anaconda3/conda/envs/pygmt/lib/python3.11/site-packages/shapely/linear.py:90: RuntimeWarning: invalid value encountered in line_locate_point\n",
      "  return lib.line_locate_point(line, other)\n"
     ]
    },
    {
     "name": "stdout",
     "output_type": "stream",
     "text": [
      "setting up df took 0.207008\n",
      "finding affine basis took 0.064802\n",
      "intermediate time 620.323215\n",
      "7 neighbors\n",
      "setting up df took 0.026135\n",
      "finding affine basis took 0.004604\n",
      "intermediate time 620.353989\n",
      "7 neighbors\n"
     ]
    },
    {
     "name": "stderr",
     "output_type": "stream",
     "text": [
      "/home/pierre/anaconda3/conda/envs/pygmt/lib/python3.11/site-packages/shapely/linear.py:90: RuntimeWarning: invalid value encountered in line_locate_point\n",
      "  return lib.line_locate_point(line, other)\n"
     ]
    },
    {
     "name": "stdout",
     "output_type": "stream",
     "text": [
      "setting up df took 0.135858\n",
      "finding affine basis took 0.037502\n",
      "intermediate time 620.527379\n",
      "7 neighbors\n",
      "setting up df took 0.108371\n",
      "finding affine basis took 0.020818\n",
      "intermediate time 620.656603\n",
      "7 neighbors\n"
     ]
    },
    {
     "name": "stderr",
     "output_type": "stream",
     "text": [
      "/home/pierre/anaconda3/conda/envs/pygmt/lib/python3.11/site-packages/shapely/linear.py:90: RuntimeWarning: invalid value encountered in line_locate_point\n",
      "  return lib.line_locate_point(line, other)\n"
     ]
    },
    {
     "name": "stdout",
     "output_type": "stream",
     "text": [
      "setting up df took 0.558929\n",
      "finding affine basis took 0.085525\n",
      "intermediate time 621.301097\n",
      "7 neighbors\n",
      "setting up df took 0.022797\n",
      "finding affine basis took 0.008448\n",
      "intermediate time 621.332376\n",
      "220/971\n",
      "6 neighbors\n",
      "setting up df took 0.005846\n",
      "finding affine basis took 0.002805\n",
      "intermediate time 621.341058\n",
      "6 neighbors\n"
     ]
    },
    {
     "name": "stderr",
     "output_type": "stream",
     "text": [
      "/home/pierre/anaconda3/conda/envs/pygmt/lib/python3.11/site-packages/shapely/linear.py:90: RuntimeWarning: invalid value encountered in line_locate_point\n",
      "  return lib.line_locate_point(line, other)\n"
     ]
    },
    {
     "name": "stdout",
     "output_type": "stream",
     "text": [
      "setting up df took 0.178802\n",
      "finding affine basis took 0.027503\n",
      "intermediate time 621.547388\n",
      "6 neighbors\n"
     ]
    },
    {
     "name": "stderr",
     "output_type": "stream",
     "text": [
      "/home/pierre/anaconda3/conda/envs/pygmt/lib/python3.11/site-packages/shapely/linear.py:90: RuntimeWarning: invalid value encountered in line_locate_point\n",
      "  return lib.line_locate_point(line, other)\n"
     ]
    },
    {
     "name": "stdout",
     "output_type": "stream",
     "text": [
      "setting up df took 0.182982\n",
      "finding affine basis took 0.052818\n",
      "intermediate time 621.783284\n",
      "6 neighbors\n"
     ]
    },
    {
     "name": "stderr",
     "output_type": "stream",
     "text": [
      "/home/pierre/anaconda3/conda/envs/pygmt/lib/python3.11/site-packages/shapely/linear.py:90: RuntimeWarning: invalid value encountered in line_locate_point\n",
      "  return lib.line_locate_point(line, other)\n"
     ]
    },
    {
     "name": "stdout",
     "output_type": "stream",
     "text": [
      "setting up df took 0.181320\n",
      "finding affine basis took 0.029635\n",
      "intermediate time 621.994274\n",
      "6 neighbors\n"
     ]
    },
    {
     "name": "stderr",
     "output_type": "stream",
     "text": [
      "/home/pierre/anaconda3/conda/envs/pygmt/lib/python3.11/site-packages/shapely/linear.py:90: RuntimeWarning: invalid value encountered in line_locate_point\n",
      "  return lib.line_locate_point(line, other)\n"
     ]
    },
    {
     "name": "stdout",
     "output_type": "stream",
     "text": [
      "setting up df took 0.235107\n",
      "finding affine basis took 0.056011\n",
      "intermediate time 622.285434\n",
      "6 neighbors\n"
     ]
    },
    {
     "name": "stderr",
     "output_type": "stream",
     "text": [
      "/home/pierre/anaconda3/conda/envs/pygmt/lib/python3.11/site-packages/shapely/linear.py:90: RuntimeWarning: invalid value encountered in line_locate_point\n",
      "  return lib.line_locate_point(line, other)\n"
     ]
    },
    {
     "name": "stdout",
     "output_type": "stream",
     "text": [
      "setting up df took 0.177833\n",
      "finding affine basis took 0.069764\n",
      "intermediate time 622.533105\n",
      "6 neighbors\n"
     ]
    },
    {
     "name": "stderr",
     "output_type": "stream",
     "text": [
      "/home/pierre/anaconda3/conda/envs/pygmt/lib/python3.11/site-packages/shapely/linear.py:90: RuntimeWarning: invalid value encountered in line_locate_point\n",
      "  return lib.line_locate_point(line, other)\n"
     ]
    },
    {
     "name": "stdout",
     "output_type": "stream",
     "text": [
      "setting up df took 0.240722\n",
      "finding affine basis took 0.077249\n",
      "intermediate time 622.851139\n",
      "6 neighbors\n",
      "setting up df took 0.026699\n",
      "finding affine basis took 0.003468\n",
      "intermediate time 622.881340\n",
      "6 neighbors\n",
      "setting up df took 0.065768\n",
      "finding affine basis took 0.009619\n",
      "intermediate time 622.956756\n",
      "6 neighbors\n"
     ]
    },
    {
     "name": "stderr",
     "output_type": "stream",
     "text": [
      "/home/pierre/anaconda3/conda/envs/pygmt/lib/python3.11/site-packages/shapely/linear.py:90: RuntimeWarning: invalid value encountered in line_locate_point\n",
      "  return lib.line_locate_point(line, other)\n"
     ]
    },
    {
     "name": "stdout",
     "output_type": "stream",
     "text": [
      "setting up df took 0.180195\n",
      "finding affine basis took 0.052670\n",
      "intermediate time 623.189651\n",
      "230/971\n",
      "6 neighbors\n",
      "setting up df took 0.072826\n",
      "finding affine basis took 0.011370\n",
      "intermediate time 623.273884\n",
      "6 neighbors\n",
      "setting up df took 0.016439\n",
      "finding affine basis took 0.006409\n",
      "intermediate time 623.296767\n",
      "6 neighbors\n"
     ]
    },
    {
     "name": "stderr",
     "output_type": "stream",
     "text": [
      "/home/pierre/anaconda3/conda/envs/pygmt/lib/python3.11/site-packages/shapely/linear.py:90: RuntimeWarning: invalid value encountered in line_locate_point\n",
      "  return lib.line_locate_point(line, other)\n"
     ]
    },
    {
     "name": "stdout",
     "output_type": "stream",
     "text": [
      "setting up df took 0.114028\n",
      "finding affine basis took 0.017706\n",
      "intermediate time 623.428529\n",
      "6 neighbors\n",
      "setting up df took 0.121998\n",
      "finding affine basis took 0.018000\n",
      "intermediate time 623.568568\n",
      "5 neighbors\n"
     ]
    },
    {
     "name": "stderr",
     "output_type": "stream",
     "text": [
      "/home/pierre/anaconda3/conda/envs/pygmt/lib/python3.11/site-packages/shapely/linear.py:90: RuntimeWarning: invalid value encountered in line_locate_point\n",
      "  return lib.line_locate_point(line, other)\n",
      "/home/pierre/anaconda3/conda/envs/pygmt/lib/python3.11/site-packages/shapely/linear.py:90: RuntimeWarning: invalid value encountered in line_locate_point\n",
      "  return lib.line_locate_point(line, other)\n"
     ]
    },
    {
     "name": "stdout",
     "output_type": "stream",
     "text": [
      "setting up df took 0.187958\n",
      "finding affine basis took 0.060361\n",
      "intermediate time 623.816913\n",
      "5 neighbors\n",
      "setting up df took 0.080504\n",
      "finding affine basis took 0.013310\n",
      "intermediate time 623.910764\n",
      "5 neighbors\n"
     ]
    },
    {
     "name": "stderr",
     "output_type": "stream",
     "text": [
      "/home/pierre/anaconda3/conda/envs/pygmt/lib/python3.11/site-packages/shapely/linear.py:90: RuntimeWarning: invalid value encountered in line_locate_point\n",
      "  return lib.line_locate_point(line, other)\n"
     ]
    },
    {
     "name": "stdout",
     "output_type": "stream",
     "text": [
      "setting up df took 0.152731\n",
      "finding affine basis took 0.018102\n",
      "intermediate time 624.081632\n",
      "5 neighbors\n"
     ]
    },
    {
     "name": "stderr",
     "output_type": "stream",
     "text": [
      "/home/pierre/anaconda3/conda/envs/pygmt/lib/python3.11/site-packages/shapely/linear.py:90: RuntimeWarning: invalid value encountered in line_locate_point\n",
      "  return lib.line_locate_point(line, other)\n"
     ]
    },
    {
     "name": "stdout",
     "output_type": "stream",
     "text": [
      "setting up df took 0.230479\n",
      "finding affine basis took 0.061563\n",
      "intermediate time 624.373744\n",
      "5 neighbors\n"
     ]
    },
    {
     "name": "stderr",
     "output_type": "stream",
     "text": [
      "/home/pierre/anaconda3/conda/envs/pygmt/lib/python3.11/site-packages/shapely/linear.py:90: RuntimeWarning: invalid value encountered in line_locate_point\n",
      "  return lib.line_locate_point(line, other)\n"
     ]
    },
    {
     "name": "stdout",
     "output_type": "stream",
     "text": [
      "setting up df took 0.327648\n",
      "finding affine basis took 0.118791\n",
      "intermediate time 624.820256\n",
      "5 neighbors\n"
     ]
    },
    {
     "name": "stderr",
     "output_type": "stream",
     "text": [
      "/home/pierre/anaconda3/conda/envs/pygmt/lib/python3.11/site-packages/shapely/linear.py:90: RuntimeWarning: invalid value encountered in line_locate_point\n",
      "  return lib.line_locate_point(line, other)\n"
     ]
    },
    {
     "name": "stdout",
     "output_type": "stream",
     "text": [
      "setting up df took 0.224995\n",
      "finding affine basis took 0.117157\n",
      "intermediate time 625.162442\n",
      "240/971\n",
      "5 neighbors\n",
      "setting up df took 0.008214\n",
      "finding affine basis took 0.005814\n",
      "intermediate time 625.176525\n",
      "5 neighbors\n"
     ]
    },
    {
     "name": "stderr",
     "output_type": "stream",
     "text": [
      "/home/pierre/anaconda3/conda/envs/pygmt/lib/python3.11/site-packages/shapely/linear.py:90: RuntimeWarning: invalid value encountered in line_locate_point\n",
      "  return lib.line_locate_point(line, other)\n"
     ]
    },
    {
     "name": "stdout",
     "output_type": "stream",
     "text": [
      "setting up df took 0.226487\n",
      "finding affine basis took 0.049298\n",
      "intermediate time 625.452354\n",
      "5 neighbors\n",
      "setting up df took 0.042229\n",
      "finding affine basis took 0.007187\n",
      "intermediate time 625.501803\n",
      "5 neighbors\n"
     ]
    },
    {
     "name": "stderr",
     "output_type": "stream",
     "text": [
      "/home/pierre/anaconda3/conda/envs/pygmt/lib/python3.11/site-packages/shapely/linear.py:90: RuntimeWarning: invalid value encountered in line_locate_point\n",
      "  return lib.line_locate_point(line, other)\n"
     ]
    },
    {
     "name": "stdout",
     "output_type": "stream",
     "text": [
      "setting up df took 0.164346\n",
      "finding affine basis took 0.052212\n",
      "intermediate time 625.718399\n",
      "5 neighbors\n"
     ]
    },
    {
     "name": "stderr",
     "output_type": "stream",
     "text": [
      "/home/pierre/anaconda3/conda/envs/pygmt/lib/python3.11/site-packages/shapely/linear.py:90: RuntimeWarning: invalid value encountered in line_locate_point\n",
      "  return lib.line_locate_point(line, other)\n"
     ]
    },
    {
     "name": "stdout",
     "output_type": "stream",
     "text": [
      "setting up df took 0.159519\n",
      "finding affine basis took 0.044127\n",
      "intermediate time 625.922098\n",
      "5 neighbors\n"
     ]
    },
    {
     "name": "stderr",
     "output_type": "stream",
     "text": [
      "/home/pierre/anaconda3/conda/envs/pygmt/lib/python3.11/site-packages/shapely/linear.py:90: RuntimeWarning: invalid value encountered in line_locate_point\n",
      "  return lib.line_locate_point(line, other)\n"
     ]
    },
    {
     "name": "stdout",
     "output_type": "stream",
     "text": [
      "setting up df took 0.211789\n",
      "finding affine basis took 0.078197\n",
      "intermediate time 626.212119\n",
      "5 neighbors\n"
     ]
    },
    {
     "name": "stderr",
     "output_type": "stream",
     "text": [
      "/home/pierre/anaconda3/conda/envs/pygmt/lib/python3.11/site-packages/shapely/linear.py:90: RuntimeWarning: invalid value encountered in line_locate_point\n",
      "  return lib.line_locate_point(line, other)\n"
     ]
    },
    {
     "name": "stdout",
     "output_type": "stream",
     "text": [
      "setting up df took 0.134801\n",
      "finding affine basis took 0.016583\n",
      "intermediate time 626.363821\n",
      "5 neighbors\n"
     ]
    },
    {
     "name": "stderr",
     "output_type": "stream",
     "text": [
      "/home/pierre/anaconda3/conda/envs/pygmt/lib/python3.11/site-packages/shapely/linear.py:90: RuntimeWarning: invalid value encountered in line_locate_point\n",
      "  return lib.line_locate_point(line, other)\n"
     ]
    },
    {
     "name": "stdout",
     "output_type": "stream",
     "text": [
      "setting up df took 0.196957\n",
      "finding affine basis took 0.088806\n",
      "intermediate time 626.649676\n",
      "5 neighbors\n"
     ]
    },
    {
     "name": "stderr",
     "output_type": "stream",
     "text": [
      "/home/pierre/anaconda3/conda/envs/pygmt/lib/python3.11/site-packages/shapely/linear.py:90: RuntimeWarning: invalid value encountered in line_locate_point\n",
      "  return lib.line_locate_point(line, other)\n"
     ]
    },
    {
     "name": "stdout",
     "output_type": "stream",
     "text": [
      "setting up df took 0.190134\n",
      "finding affine basis took 0.091253\n",
      "intermediate time 626.931097\n",
      "5 neighbors\n"
     ]
    },
    {
     "name": "stderr",
     "output_type": "stream",
     "text": [
      "/home/pierre/anaconda3/conda/envs/pygmt/lib/python3.11/site-packages/shapely/linear.py:90: RuntimeWarning: invalid value encountered in line_locate_point\n",
      "  return lib.line_locate_point(line, other)\n"
     ]
    },
    {
     "name": "stdout",
     "output_type": "stream",
     "text": [
      "setting up df took 0.253837\n",
      "finding affine basis took 0.011790\n",
      "intermediate time 627.196759\n",
      "250/971\n",
      "5 neighbors\n",
      "setting up df took 0.025996\n",
      "finding affine basis took 0.006813\n",
      "intermediate time 627.229600\n",
      "5 neighbors\n",
      "setting up df took 0.010769\n",
      "finding affine basis took 0.010189\n",
      "intermediate time 627.250613\n",
      "5 neighbors\n",
      "setting up df took 0.013818\n",
      "finding affine basis took 0.004828\n",
      "intermediate time 627.269296\n",
      "5 neighbors\n",
      "setting up df took 0.010294\n",
      "finding affine basis took 0.004840\n",
      "intermediate time 627.284464\n",
      "4 neighbors\n",
      "setting up df took 0.044326\n",
      "finding affine basis took 0.004790\n",
      "intermediate time 627.333615\n",
      "4 neighbors\n",
      "setting up df took 0.023700\n",
      "finding affine basis took 0.003666\n",
      "intermediate time 627.361027\n",
      "4 neighbors\n"
     ]
    },
    {
     "name": "stderr",
     "output_type": "stream",
     "text": [
      "/home/pierre/anaconda3/conda/envs/pygmt/lib/python3.11/site-packages/shapely/linear.py:90: RuntimeWarning: invalid value encountered in line_locate_point\n",
      "  return lib.line_locate_point(line, other)\n",
      "/home/pierre/anaconda3/conda/envs/pygmt/lib/python3.11/site-packages/shapely/linear.py:90: RuntimeWarning: invalid value encountered in line_locate_point\n",
      "  return lib.line_locate_point(line, other)\n",
      "/home/pierre/anaconda3/conda/envs/pygmt/lib/python3.11/site-packages/shapely/linear.py:90: RuntimeWarning: invalid value encountered in line_locate_point\n",
      "  return lib.line_locate_point(line, other)\n"
     ]
    },
    {
     "name": "stdout",
     "output_type": "stream",
     "text": [
      "setting up df took 0.072248\n",
      "finding affine basis took 0.004780\n",
      "intermediate time 627.438091\n",
      "4 neighbors\n",
      "setting up df took 0.085025\n",
      "finding affine basis took 0.004813\n",
      "intermediate time 627.527972\n",
      "4 neighbors\n",
      "setting up df took 0.080874\n",
      "finding affine basis took 0.006425\n",
      "intermediate time 627.615320\n",
      "4 neighbors\n",
      "setting up df took 0.009549\n",
      "finding affine basis took 0.005812\n",
      "intermediate time 627.630714\n",
      "260/971\n",
      "4 neighbors\n"
     ]
    },
    {
     "name": "stderr",
     "output_type": "stream",
     "text": [
      "/home/pierre/anaconda3/conda/envs/pygmt/lib/python3.11/site-packages/shapely/linear.py:90: RuntimeWarning: invalid value encountered in line_locate_point\n",
      "  return lib.line_locate_point(line, other)\n",
      "/home/pierre/anaconda3/conda/envs/pygmt/lib/python3.11/site-packages/shapely/linear.py:90: RuntimeWarning: invalid value encountered in line_locate_point\n",
      "  return lib.line_locate_point(line, other)\n"
     ]
    },
    {
     "name": "stdout",
     "output_type": "stream",
     "text": [
      "setting up df took 0.066906\n",
      "finding affine basis took 0.005463\n",
      "intermediate time 627.703135\n",
      "4 neighbors\n",
      "setting up df took 0.094582\n",
      "finding affine basis took 0.007588\n",
      "intermediate time 627.805332\n",
      "4 neighbors\n",
      "setting up df took 0.005524\n",
      "finding affine basis took 0.002786\n",
      "intermediate time 627.813669\n",
      "4 neighbors\n"
     ]
    },
    {
     "name": "stderr",
     "output_type": "stream",
     "text": [
      "/home/pierre/anaconda3/conda/envs/pygmt/lib/python3.11/site-packages/shapely/linear.py:90: RuntimeWarning: invalid value encountered in line_locate_point\n",
      "  return lib.line_locate_point(line, other)\n"
     ]
    },
    {
     "name": "stdout",
     "output_type": "stream",
     "text": [
      "setting up df took 0.211113\n",
      "finding affine basis took 0.027814\n",
      "intermediate time 628.052623\n",
      "4 neighbors\n",
      "setting up df took 0.007785\n",
      "finding affine basis took 0.004989\n",
      "intermediate time 628.065436\n",
      "4 neighbors\n",
      "setting up df took 0.084226\n",
      "finding affine basis took 0.005931\n",
      "intermediate time 628.155648\n",
      "4 neighbors\n",
      "setting up df took 0.024176\n",
      "finding affine basis took 0.004695\n",
      "intermediate time 628.184576\n",
      "4 neighbors\n"
     ]
    },
    {
     "name": "stderr",
     "output_type": "stream",
     "text": [
      "/home/pierre/anaconda3/conda/envs/pygmt/lib/python3.11/site-packages/shapely/linear.py:90: RuntimeWarning: invalid value encountered in line_locate_point\n",
      "  return lib.line_locate_point(line, other)\n"
     ]
    },
    {
     "name": "stdout",
     "output_type": "stream",
     "text": [
      "setting up df took 0.196540\n",
      "finding affine basis took 0.039568\n",
      "intermediate time 628.420726\n",
      "4 neighbors\n"
     ]
    },
    {
     "name": "stderr",
     "output_type": "stream",
     "text": [
      "/home/pierre/anaconda3/conda/envs/pygmt/lib/python3.11/site-packages/shapely/linear.py:90: RuntimeWarning: invalid value encountered in line_locate_point\n",
      "  return lib.line_locate_point(line, other)\n"
     ]
    },
    {
     "name": "stdout",
     "output_type": "stream",
     "text": [
      "setting up df took 0.186982\n",
      "finding affine basis took 0.037578\n",
      "intermediate time 628.645316\n",
      "4 neighbors\n",
      "setting up df took 0.089045\n",
      "finding affine basis took 0.009680\n",
      "intermediate time 628.744073\n",
      "270/971\n",
      "4 neighbors\n"
     ]
    },
    {
     "name": "stderr",
     "output_type": "stream",
     "text": [
      "/home/pierre/anaconda3/conda/envs/pygmt/lib/python3.11/site-packages/shapely/linear.py:90: RuntimeWarning: invalid value encountered in line_locate_point\n",
      "  return lib.line_locate_point(line, other)\n",
      "/home/pierre/anaconda3/conda/envs/pygmt/lib/python3.11/site-packages/shapely/linear.py:90: RuntimeWarning: invalid value encountered in line_locate_point\n",
      "  return lib.line_locate_point(line, other)\n"
     ]
    },
    {
     "name": "stdout",
     "output_type": "stream",
     "text": [
      "setting up df took 0.196894\n",
      "finding affine basis took 0.054034\n",
      "intermediate time 628.995057\n",
      "4 neighbors\n"
     ]
    },
    {
     "name": "stderr",
     "output_type": "stream",
     "text": [
      "/home/pierre/anaconda3/conda/envs/pygmt/lib/python3.11/site-packages/shapely/linear.py:90: RuntimeWarning: invalid value encountered in line_locate_point\n",
      "  return lib.line_locate_point(line, other)\n"
     ]
    },
    {
     "name": "stdout",
     "output_type": "stream",
     "text": [
      "setting up df took 0.191953\n",
      "finding affine basis took 0.028980\n",
      "intermediate time 629.216022\n",
      "4 neighbors\n"
     ]
    },
    {
     "name": "stderr",
     "output_type": "stream",
     "text": [
      "/home/pierre/anaconda3/conda/envs/pygmt/lib/python3.11/site-packages/shapely/linear.py:90: RuntimeWarning: invalid value encountered in line_locate_point\n",
      "  return lib.line_locate_point(line, other)\n"
     ]
    },
    {
     "name": "stdout",
     "output_type": "stream",
     "text": [
      "setting up df took 0.266270\n",
      "finding affine basis took 0.008573\n",
      "intermediate time 629.490894\n",
      "4 neighbors\n",
      "setting up df took 0.006237\n",
      "finding affine basis took 0.004453\n",
      "intermediate time 629.501612\n",
      "4 neighbors\n"
     ]
    },
    {
     "name": "stderr",
     "output_type": "stream",
     "text": [
      "/home/pierre/anaconda3/conda/envs/pygmt/lib/python3.11/site-packages/shapely/linear.py:90: RuntimeWarning: invalid value encountered in line_locate_point\n",
      "  return lib.line_locate_point(line, other)\n"
     ]
    },
    {
     "name": "stdout",
     "output_type": "stream",
     "text": [
      "setting up df took 0.191534\n",
      "finding affine basis took 0.054838\n",
      "intermediate time 629.748010\n",
      "4 neighbors\n",
      "setting up df took 0.097632\n",
      "finding affine basis took 0.019744\n",
      "intermediate time 629.865434\n",
      "4 neighbors\n"
     ]
    },
    {
     "name": "stderr",
     "output_type": "stream",
     "text": [
      "/home/pierre/anaconda3/conda/envs/pygmt/lib/python3.11/site-packages/shapely/linear.py:90: RuntimeWarning: invalid value encountered in line_locate_point\n",
      "  return lib.line_locate_point(line, other)\n",
      "/home/pierre/anaconda3/conda/envs/pygmt/lib/python3.11/site-packages/shapely/linear.py:90: RuntimeWarning: invalid value encountered in line_locate_point\n",
      "  return lib.line_locate_point(line, other)\n"
     ]
    },
    {
     "name": "stdout",
     "output_type": "stream",
     "text": [
      "setting up df took 0.145683\n",
      "finding affine basis took 0.013801\n",
      "intermediate time 630.024966\n",
      "4 neighbors\n",
      "setting up df took 0.095737\n",
      "finding affine basis took 0.017384\n",
      "intermediate time 630.138134\n",
      "4 neighbors\n",
      "setting up df took 0.071354\n",
      "finding affine basis took 0.005813\n",
      "intermediate time 630.215340\n",
      "4 neighbors\n"
     ]
    },
    {
     "name": "stderr",
     "output_type": "stream",
     "text": [
      "/home/pierre/anaconda3/conda/envs/pygmt/lib/python3.11/site-packages/shapely/linear.py:90: RuntimeWarning: invalid value encountered in line_locate_point\n",
      "  return lib.line_locate_point(line, other)\n"
     ]
    },
    {
     "name": "stdout",
     "output_type": "stream",
     "text": [
      "setting up df took 0.022623\n",
      "finding affine basis took 0.004608\n",
      "intermediate time 630.242610\n",
      "280/971\n",
      "4 neighbors\n",
      "setting up df took 0.021362\n",
      "finding affine basis took 0.007675\n",
      "intermediate time 630.271689\n",
      "4 neighbors\n",
      "setting up df took 0.027807\n",
      "finding affine basis took 0.005489\n",
      "intermediate time 630.305020\n",
      "4 neighbors\n",
      "setting up df took 0.078026\n",
      "finding affine basis took 0.006924\n",
      "intermediate time 630.390004\n",
      "4 neighbors\n",
      "setting up df took 0.013278\n",
      "finding affine basis took 0.004199\n",
      "intermediate time 630.407513\n",
      "4 neighbors\n"
     ]
    },
    {
     "name": "stderr",
     "output_type": "stream",
     "text": [
      "/home/pierre/anaconda3/conda/envs/pygmt/lib/python3.11/site-packages/shapely/linear.py:90: RuntimeWarning: invalid value encountered in line_locate_point\n",
      "  return lib.line_locate_point(line, other)\n",
      "/home/pierre/anaconda3/conda/envs/pygmt/lib/python3.11/site-packages/shapely/linear.py:90: RuntimeWarning: invalid value encountered in line_locate_point\n",
      "  return lib.line_locate_point(line, other)\n"
     ]
    },
    {
     "name": "stdout",
     "output_type": "stream",
     "text": [
      "setting up df took 0.092145\n",
      "finding affine basis took 0.009325\n",
      "intermediate time 630.509020\n",
      "4 neighbors\n",
      "setting up df took 0.020790\n",
      "finding affine basis took 0.010818\n",
      "intermediate time 630.540684\n",
      "3 neighbors\n",
      "setting up df took 0.014249\n",
      "finding affine basis took 0.003713\n",
      "intermediate time 630.558690\n",
      "3 neighbors\n",
      "setting up df took 0.032319\n",
      "finding affine basis took 0.005229\n",
      "intermediate time 630.596271\n",
      "3 neighbors\n",
      "setting up df took 0.090733\n",
      "finding affine basis took 0.006836\n",
      "intermediate time 630.693880\n",
      "3 neighbors\n"
     ]
    },
    {
     "name": "stderr",
     "output_type": "stream",
     "text": [
      "/home/pierre/anaconda3/conda/envs/pygmt/lib/python3.11/site-packages/shapely/linear.py:90: RuntimeWarning: invalid value encountered in line_locate_point\n",
      "  return lib.line_locate_point(line, other)\n",
      "/home/pierre/anaconda3/conda/envs/pygmt/lib/python3.11/site-packages/shapely/linear.py:90: RuntimeWarning: invalid value encountered in line_locate_point\n",
      "  return lib.line_locate_point(line, other)\n",
      "/home/pierre/anaconda3/conda/envs/pygmt/lib/python3.11/site-packages/shapely/linear.py:90: RuntimeWarning: invalid value encountered in line_locate_point\n",
      "  return lib.line_locate_point(line, other)\n"
     ]
    },
    {
     "name": "stdout",
     "output_type": "stream",
     "text": [
      "setting up df took 0.082183\n",
      "finding affine basis took 0.006622\n",
      "intermediate time 630.782715\n",
      "290/971\n",
      "3 neighbors\n",
      "setting up df took 0.016151\n",
      "finding affine basis took 0.003327\n",
      "intermediate time 630.802222\n",
      "3 neighbors\n",
      "setting up df took 0.078413\n",
      "finding affine basis took 0.006589\n",
      "intermediate time 630.887250\n",
      "3 neighbors\n",
      "setting up df took 0.006793\n",
      "finding affine basis took 0.003748\n",
      "intermediate time 630.897817\n",
      "3 neighbors\n",
      "setting up df took 0.010648\n",
      "finding affine basis took 0.002832\n",
      "intermediate time 630.911340\n",
      "3 neighbors\n",
      "setting up df took 0.007745\n",
      "finding affine basis took 0.002867\n",
      "intermediate time 630.921977\n",
      "3 neighbors\n",
      "setting up df took 0.005495\n",
      "finding affine basis took 0.002924\n",
      "intermediate time 630.930424\n",
      "3 neighbors\n",
      "setting up df took 0.070519\n",
      "finding affine basis took 0.005682\n",
      "intermediate time 631.006651\n",
      "3 neighbors\n",
      "setting up df took 0.005466\n",
      "finding affine basis took 0.003242\n",
      "intermediate time 631.015388\n",
      "3 neighbors\n",
      "setting up df took 0.007298\n",
      "finding affine basis took 0.003176\n",
      "intermediate time 631.025889\n",
      "3 neighbors\n",
      "setting up df took 0.007260\n",
      "finding affine basis took 0.002806\n",
      "intermediate time 631.035981\n",
      "300/971\n",
      "3 neighbors\n",
      "setting up df took 0.006601\n",
      "finding affine basis took 0.003022\n",
      "intermediate time 631.045635\n",
      "3 neighbors\n",
      "setting up df took 0.004788\n",
      "finding affine basis took 0.003693\n",
      "intermediate time 631.054142\n",
      "3 neighbors\n",
      "setting up df took 0.005282\n",
      "finding affine basis took 0.003893\n",
      "intermediate time 631.063343\n",
      "3 neighbors\n",
      "setting up df took 0.045734\n",
      "finding affine basis took 0.006231\n",
      "intermediate time 631.115333\n",
      "3 neighbors\n",
      "setting up df took 0.013140\n",
      "finding affine basis took 0.003068\n",
      "intermediate time 631.131584\n",
      "3 neighbors\n",
      "setting up df took 0.004800\n",
      "finding affine basis took 0.003076\n",
      "intermediate time 631.139488\n",
      "3 neighbors\n",
      "setting up df took 0.006468\n",
      "finding affine basis took 0.002826\n",
      "intermediate time 631.148808\n",
      "3 neighbors\n"
     ]
    },
    {
     "name": "stderr",
     "output_type": "stream",
     "text": [
      "/home/pierre/anaconda3/conda/envs/pygmt/lib/python3.11/site-packages/shapely/linear.py:90: RuntimeWarning: invalid value encountered in line_locate_point\n",
      "  return lib.line_locate_point(line, other)\n",
      "/home/pierre/anaconda3/conda/envs/pygmt/lib/python3.11/site-packages/shapely/linear.py:90: RuntimeWarning: invalid value encountered in line_locate_point\n",
      "  return lib.line_locate_point(line, other)\n"
     ]
    },
    {
     "name": "stdout",
     "output_type": "stream",
     "text": [
      "setting up df took 0.112165\n",
      "finding affine basis took 0.009706\n",
      "intermediate time 631.270702\n",
      "3 neighbors\n",
      "setting up df took 0.016373\n",
      "finding affine basis took 0.002851\n",
      "intermediate time 631.289952\n",
      "3 neighbors\n",
      "setting up df took 0.075740\n",
      "finding affine basis took 0.011406\n",
      "intermediate time 631.377124\n",
      "310/971\n",
      "3 neighbors\n"
     ]
    },
    {
     "name": "stderr",
     "output_type": "stream",
     "text": [
      "/home/pierre/anaconda3/conda/envs/pygmt/lib/python3.11/site-packages/shapely/linear.py:90: RuntimeWarning: invalid value encountered in line_locate_point\n",
      "  return lib.line_locate_point(line, other)\n",
      "/home/pierre/anaconda3/conda/envs/pygmt/lib/python3.11/site-packages/shapely/linear.py:90: RuntimeWarning: invalid value encountered in line_locate_point\n",
      "  return lib.line_locate_point(line, other)\n"
     ]
    },
    {
     "name": "stdout",
     "output_type": "stream",
     "text": [
      "setting up df took 0.119270\n",
      "finding affine basis took 0.014236\n",
      "intermediate time 631.510664\n",
      "3 neighbors\n",
      "setting up df took 0.006268\n",
      "finding affine basis took 0.002784\n",
      "intermediate time 631.519745\n",
      "3 neighbors\n",
      "setting up df took 0.007703\n",
      "finding affine basis took 0.003534\n",
      "intermediate time 631.531007\n",
      "3 neighbors\n",
      "setting up df took 0.022213\n",
      "finding affine basis took 0.003195\n",
      "intermediate time 631.556470\n",
      "3 neighbors\n",
      "setting up df took 0.118279\n"
     ]
    },
    {
     "name": "stderr",
     "output_type": "stream",
     "text": [
      "/home/pierre/anaconda3/conda/envs/pygmt/lib/python3.11/site-packages/shapely/linear.py:90: RuntimeWarning: invalid value encountered in line_locate_point\n",
      "  return lib.line_locate_point(line, other)\n",
      "/home/pierre/anaconda3/conda/envs/pygmt/lib/python3.11/site-packages/shapely/linear.py:90: RuntimeWarning: invalid value encountered in line_locate_point\n",
      "  return lib.line_locate_point(line, other)\n"
     ]
    },
    {
     "name": "stdout",
     "output_type": "stream",
     "text": [
      "finding affine basis took 0.035644\n",
      "intermediate time 631.710422\n",
      "3 neighbors\n",
      "setting up df took 0.048792\n",
      "finding affine basis took 0.005415\n",
      "intermediate time 631.764721\n",
      "3 neighbors\n"
     ]
    },
    {
     "name": "stderr",
     "output_type": "stream",
     "text": [
      "/home/pierre/anaconda3/conda/envs/pygmt/lib/python3.11/site-packages/shapely/linear.py:90: RuntimeWarning: invalid value encountered in line_locate_point\n",
      "  return lib.line_locate_point(line, other)\n",
      "/home/pierre/anaconda3/conda/envs/pygmt/lib/python3.11/site-packages/shapely/linear.py:90: RuntimeWarning: invalid value encountered in line_locate_point\n",
      "  return lib.line_locate_point(line, other)\n"
     ]
    },
    {
     "name": "stdout",
     "output_type": "stream",
     "text": [
      "setting up df took 0.170277\n",
      "finding affine basis took 0.039288\n",
      "intermediate time 631.974319\n",
      "3 neighbors\n",
      "setting up df took 0.116574\n",
      "finding affine basis took 0.026742\n",
      "intermediate time 632.117666\n",
      "3 neighbors\n",
      "setting up df took 0.005591\n",
      "finding affine basis took 0.002767\n",
      "intermediate time 632.126054\n",
      "3 neighbors\n"
     ]
    },
    {
     "name": "stderr",
     "output_type": "stream",
     "text": [
      "/home/pierre/anaconda3/conda/envs/pygmt/lib/python3.11/site-packages/shapely/linear.py:90: RuntimeWarning: invalid value encountered in line_locate_point\n",
      "  return lib.line_locate_point(line, other)\n"
     ]
    },
    {
     "name": "stdout",
     "output_type": "stream",
     "text": [
      "setting up df took 0.019442\n",
      "finding affine basis took 0.008164\n",
      "intermediate time 632.153686\n",
      "320/971\n",
      "3 neighbors\n",
      "setting up df took 0.035719\n",
      "finding affine basis took 0.005700\n",
      "intermediate time 632.195137\n",
      "3 neighbors\n",
      "setting up df took 0.005523\n",
      "finding affine basis took 0.002737\n",
      "intermediate time 632.203423\n",
      "3 neighbors\n",
      "setting up df took 0.005747\n",
      "finding affine basis took 0.004125\n",
      "intermediate time 632.213320\n",
      "3 neighbors\n",
      "setting up df took 0.121593\n"
     ]
    },
    {
     "name": "stderr",
     "output_type": "stream",
     "text": [
      "/home/pierre/anaconda3/conda/envs/pygmt/lib/python3.11/site-packages/shapely/linear.py:90: RuntimeWarning: invalid value encountered in line_locate_point\n",
      "  return lib.line_locate_point(line, other)\n",
      "/home/pierre/anaconda3/conda/envs/pygmt/lib/python3.11/site-packages/shapely/linear.py:90: RuntimeWarning: invalid value encountered in line_locate_point\n",
      "  return lib.line_locate_point(line, other)\n"
     ]
    },
    {
     "name": "stdout",
     "output_type": "stream",
     "text": [
      "finding affine basis took 0.015937\n",
      "intermediate time 632.350877\n",
      "3 neighbors\n",
      "setting up df took 0.012480\n",
      "finding affine basis took 0.003295\n",
      "intermediate time 632.366718\n",
      "3 neighbors\n",
      "setting up df took 0.026782\n",
      "finding affine basis took 0.005295\n",
      "intermediate time 632.398822\n",
      "3 neighbors\n",
      "setting up df took 0.017240\n",
      "finding affine basis took 0.005593\n",
      "intermediate time 632.421682\n",
      "3 neighbors\n",
      "setting up df took 0.012733\n",
      "finding affine basis took 0.002931\n",
      "intermediate time 632.437375\n",
      "3 neighbors\n",
      "setting up df took 0.008300\n",
      "finding affine basis took 0.003088\n",
      "intermediate time 632.448790\n",
      "3 neighbors\n",
      "setting up df took 0.008299\n",
      "finding affine basis took 0.003880\n",
      "intermediate time 632.460996\n",
      "330/971\n",
      "3 neighbors\n",
      "setting up df took 0.061583\n",
      "finding affine basis took 0.006269\n",
      "intermediate time 632.528883\n",
      "3 neighbors\n",
      "setting up df took 0.111542\n",
      "finding affine basis took 0.020498\n",
      "intermediate time 632.660985\n",
      "3 neighbors\n",
      "setting up df took 0.074958\n",
      "finding affine basis took 0.011113\n",
      "intermediate time 632.747085\n",
      "3 neighbors\n"
     ]
    },
    {
     "name": "stderr",
     "output_type": "stream",
     "text": [
      "/home/pierre/anaconda3/conda/envs/pygmt/lib/python3.11/site-packages/shapely/linear.py:90: RuntimeWarning: invalid value encountered in line_locate_point\n",
      "  return lib.line_locate_point(line, other)\n",
      "/home/pierre/anaconda3/conda/envs/pygmt/lib/python3.11/site-packages/shapely/linear.py:90: RuntimeWarning: invalid value encountered in line_locate_point\n",
      "  return lib.line_locate_point(line, other)\n"
     ]
    },
    {
     "name": "stdout",
     "output_type": "stream",
     "text": [
      "setting up df took 0.120688\n",
      "finding affine basis took 0.030008\n",
      "intermediate time 632.897808\n",
      "3 neighbors\n",
      "setting up df took 0.067387\n",
      "finding affine basis took 0.009522\n",
      "intermediate time 632.974783\n",
      "3 neighbors\n",
      "setting up df took 0.007589\n",
      "finding affine basis took 0.003674\n",
      "intermediate time 632.986077\n",
      "3 neighbors\n",
      "setting up df took 0.005205\n",
      "finding affine basis took 0.003171\n",
      "intermediate time 632.994482\n",
      "3 neighbors\n"
     ]
    },
    {
     "name": "stderr",
     "output_type": "stream",
     "text": [
      "/home/pierre/anaconda3/conda/envs/pygmt/lib/python3.11/site-packages/shapely/linear.py:90: RuntimeWarning: invalid value encountered in line_locate_point\n",
      "  return lib.line_locate_point(line, other)\n"
     ]
    },
    {
     "name": "stdout",
     "output_type": "stream",
     "text": [
      "setting up df took 0.201765\n",
      "finding affine basis took 0.039959\n",
      "intermediate time 633.236234\n",
      "3 neighbors\n",
      "setting up df took 0.023383\n",
      "finding affine basis took 0.004614\n",
      "intermediate time 633.264274\n",
      "3 neighbors\n",
      "setting up df took 0.007568\n",
      "finding affine basis took 0.003958\n",
      "intermediate time 633.275836\n",
      "340/971\n",
      "3 neighbors\n",
      "setting up df took 0.014448\n",
      "finding affine basis took 0.003733\n",
      "intermediate time 633.294054\n",
      "3 neighbors\n",
      "setting up df took 0.069849\n",
      "finding affine basis took 0.008883\n",
      "intermediate time 633.372819\n",
      "3 neighbors\n",
      "setting up df took 0.010301\n",
      "finding affine basis took 0.003932\n",
      "intermediate time 633.387081\n",
      "3 neighbors\n",
      "setting up df took 0.006698\n",
      "finding affine basis took 0.003362\n",
      "intermediate time 633.397180\n",
      "3 neighbors\n"
     ]
    },
    {
     "name": "stderr",
     "output_type": "stream",
     "text": [
      "/home/pierre/anaconda3/conda/envs/pygmt/lib/python3.11/site-packages/shapely/linear.py:90: RuntimeWarning: invalid value encountered in line_locate_point\n",
      "  return lib.line_locate_point(line, other)\n"
     ]
    },
    {
     "name": "stdout",
     "output_type": "stream",
     "text": [
      "setting up df took 0.014980\n",
      "finding affine basis took 0.007260\n",
      "intermediate time 633.419448\n",
      "3 neighbors\n",
      "setting up df took 0.058117\n",
      "finding affine basis took 0.003852\n",
      "intermediate time 633.481450\n",
      "3 neighbors\n",
      "setting up df took 0.054142\n",
      "finding affine basis took 0.003767\n",
      "intermediate time 633.539386\n",
      "3 neighbors\n",
      "setting up df took 0.057794\n",
      "finding affine basis took 0.008996\n",
      "intermediate time 633.606204\n",
      "3 neighbors\n",
      "setting up df took 0.008895\n",
      "finding affine basis took 0.011139\n",
      "intermediate time 633.626266\n",
      "3 neighbors\n",
      "setting up df took 0.022709\n",
      "finding affine basis took 0.010101\n",
      "intermediate time 633.659107\n",
      "350/971\n",
      "3 neighbors\n",
      "setting up df took 0.006346\n",
      "finding affine basis took 0.002778\n",
      "intermediate time 633.668264\n",
      "3 neighbors\n",
      "setting up df took 0.168409\n",
      "finding affine basis took 0.058789\n",
      "intermediate time 633.895490\n",
      "3 neighbors\n",
      "setting up df took 0.033134\n",
      "finding affine basis took 0.018155\n",
      "intermediate time 633.946810\n",
      "3 neighbors\n",
      "setting up df took 0.026807\n",
      "finding affine basis took 0.011088\n",
      "intermediate time 633.984797\n",
      "3 neighbors\n",
      "setting up df took 0.008520\n",
      "finding affine basis took 0.011319\n",
      "intermediate time 634.004677\n",
      "2 neighbors\n",
      "setting up df took 0.005833\n",
      "finding affine basis took 0.003972\n",
      "intermediate time 634.014519\n",
      "2 neighbors\n",
      "setting up df took 0.012972\n",
      "finding affine basis took 0.004727\n",
      "intermediate time 634.032257\n",
      "2 neighbors\n"
     ]
    },
    {
     "name": "stderr",
     "output_type": "stream",
     "text": [
      "/home/pierre/anaconda3/conda/envs/pygmt/lib/python3.11/site-packages/shapely/linear.py:90: RuntimeWarning: invalid value encountered in line_locate_point\n",
      "  return lib.line_locate_point(line, other)\n"
     ]
    },
    {
     "name": "stdout",
     "output_type": "stream",
     "text": [
      "setting up df took 0.024872\n",
      "finding affine basis took 0.004207\n",
      "intermediate time 634.061387\n",
      "2 neighbors\n",
      "setting up df took 0.011583\n",
      "finding affine basis took 0.003553\n",
      "intermediate time 634.076557\n",
      "2 neighbors\n",
      "setting up df took 0.007968\n",
      "finding affine basis took 0.004074\n",
      "intermediate time 634.088629\n",
      "360/971\n",
      "2 neighbors\n",
      "setting up df took 0.006025\n",
      "finding affine basis took 0.003811\n",
      "intermediate time 634.098507\n",
      "2 neighbors\n",
      "setting up df took 0.009513\n",
      "finding affine basis took 0.003251\n",
      "intermediate time 634.111305\n",
      "2 neighbors\n",
      "setting up df took 0.010841\n",
      "finding affine basis took 0.003329\n",
      "intermediate time 634.125505\n",
      "2 neighbors\n",
      "setting up df took 0.077552\n",
      "finding affine basis took 0.005303\n",
      "intermediate time 634.208389\n",
      "2 neighbors\n"
     ]
    },
    {
     "name": "stderr",
     "output_type": "stream",
     "text": [
      "/home/pierre/anaconda3/conda/envs/pygmt/lib/python3.11/site-packages/shapely/linear.py:90: RuntimeWarning: invalid value encountered in line_locate_point\n",
      "  return lib.line_locate_point(line, other)\n"
     ]
    },
    {
     "name": "stdout",
     "output_type": "stream",
     "text": [
      "setting up df took 0.067799\n",
      "finding affine basis took 0.007349\n",
      "intermediate time 634.283564\n",
      "2 neighbors\n",
      "setting up df took 0.009581\n",
      "finding affine basis took 0.004062\n",
      "intermediate time 634.297282\n",
      "2 neighbors\n",
      "setting up df took 0.066054\n",
      "finding affine basis took 0.006170\n",
      "intermediate time 634.369548\n",
      "2 neighbors\n",
      "setting up df took 0.006274\n",
      "finding affine basis took 0.003335\n",
      "intermediate time 634.379224\n",
      "2 neighbors\n",
      "setting up df took 0.029553\n",
      "finding affine basis took 0.007560\n",
      "intermediate time 634.416368\n",
      "2 neighbors\n",
      "setting up df took 0.011219\n",
      "finding affine basis took 0.006786\n",
      "intermediate time 634.434451\n",
      "370/971\n",
      "2 neighbors\n",
      "setting up df took 0.014472\n",
      "finding affine basis took 0.003884\n",
      "intermediate time 634.452922\n",
      "2 neighbors\n",
      "setting up df took 0.007568\n",
      "finding affine basis took 0.003863\n",
      "intermediate time 634.464390\n",
      "2 neighbors\n",
      "setting up df took 0.010682\n",
      "finding affine basis took 0.003720\n",
      "intermediate time 634.478829\n",
      "2 neighbors\n",
      "setting up df took 0.011557\n",
      "finding affine basis took 0.003839\n",
      "intermediate time 634.494265\n",
      "2 neighbors\n",
      "setting up df took 0.006133\n",
      "finding affine basis took 0.003602\n",
      "intermediate time 634.504031\n",
      "2 neighbors\n",
      "setting up df took 0.023025\n",
      "finding affine basis took 0.004446\n",
      "intermediate time 634.531539\n",
      "2 neighbors\n",
      "setting up df took 0.005455\n",
      "finding affine basis took 0.003201\n",
      "intermediate time 634.540229\n",
      "2 neighbors\n",
      "setting up df took 0.005911\n",
      "finding affine basis took 0.003023\n",
      "intermediate time 634.549193\n",
      "2 neighbors\n",
      "setting up df took 0.004754\n",
      "finding affine basis took 0.003197\n",
      "intermediate time 634.557171\n",
      "2 neighbors\n",
      "setting up df took 0.006073\n",
      "finding affine basis took 0.002938\n",
      "intermediate time 634.566212\n",
      "380/971\n",
      "2 neighbors\n",
      "setting up df took 0.005241\n",
      "finding affine basis took 0.002698\n",
      "intermediate time 634.574180\n",
      "2 neighbors\n",
      "setting up df took 0.007245\n",
      "finding affine basis took 0.003093\n",
      "intermediate time 634.584543\n",
      "2 neighbors\n",
      "setting up df took 0.005685\n",
      "finding affine basis took 0.002713\n",
      "intermediate time 634.592966\n",
      "2 neighbors\n",
      "setting up df took 0.004824\n",
      "finding affine basis took 0.002733\n",
      "intermediate time 634.600549\n",
      "2 neighbors\n",
      "setting up df took 0.004966\n",
      "finding affine basis took 0.003010\n",
      "intermediate time 634.608550\n",
      "2 neighbors\n",
      "setting up df took 0.066197\n",
      "finding affine basis took 0.004555\n",
      "intermediate time 634.679332\n",
      "2 neighbors\n"
     ]
    },
    {
     "name": "stderr",
     "output_type": "stream",
     "text": [
      "/home/pierre/anaconda3/conda/envs/pygmt/lib/python3.11/site-packages/shapely/linear.py:90: RuntimeWarning: invalid value encountered in line_locate_point\n",
      "  return lib.line_locate_point(line, other)\n"
     ]
    },
    {
     "name": "stdout",
     "output_type": "stream",
     "text": [
      "setting up df took 0.068057\n",
      "finding affine basis took 0.006353\n",
      "intermediate time 634.753780\n",
      "2 neighbors\n",
      "setting up df took 0.062453\n",
      "finding affine basis took 0.014159\n",
      "intermediate time 634.830418\n",
      "2 neighbors\n",
      "setting up df took 0.053880\n",
      "finding affine basis took 0.007538\n",
      "intermediate time 634.891878\n",
      "2 neighbors\n",
      "setting up df took 0.055711\n",
      "finding affine basis took 0.007284\n",
      "intermediate time 634.954901\n",
      "390/971\n",
      "2 neighbors\n",
      "setting up df took 0.057896\n",
      "finding affine basis took 0.007185\n",
      "intermediate time 635.020047\n",
      "2 neighbors\n",
      "setting up df took 0.016310\n",
      "finding affine basis took 0.002896\n",
      "intermediate time 635.039279\n",
      "2 neighbors\n",
      "setting up df took 0.017439\n",
      "finding affine basis took 0.003509\n",
      "intermediate time 635.060253\n",
      "2 neighbors\n",
      "setting up df took 0.005875\n",
      "finding affine basis took 0.002702\n",
      "intermediate time 635.068855\n",
      "2 neighbors\n",
      "setting up df took 0.005304\n",
      "finding affine basis took 0.002620\n",
      "intermediate time 635.076806\n",
      "2 neighbors\n",
      "setting up df took 0.005248\n",
      "finding affine basis took 0.002659\n",
      "intermediate time 635.084735\n",
      "2 neighbors\n",
      "setting up df took 0.011755\n",
      "finding affine basis took 0.003334\n",
      "intermediate time 635.099848\n",
      "2 neighbors\n",
      "setting up df took 0.007812\n",
      "finding affine basis took 0.003019\n",
      "intermediate time 635.110706\n",
      "2 neighbors\n",
      "setting up df took 0.006014\n",
      "finding affine basis took 0.003637\n",
      "intermediate time 635.120383\n",
      "2 neighbors\n",
      "setting up df took 0.059422\n",
      "finding affine basis took 0.004907\n",
      "intermediate time 635.184738\n",
      "400/971\n",
      "2 neighbors\n",
      "setting up df took 0.008962\n",
      "finding affine basis took 0.003046\n",
      "intermediate time 635.196774\n",
      "2 neighbors\n",
      "setting up df took 0.004862\n",
      "finding affine basis took 0.003035\n",
      "intermediate time 635.204697\n",
      "2 neighbors\n",
      "setting up df took 0.007079\n",
      "finding affine basis took 0.002997\n",
      "intermediate time 635.214799\n",
      "2 neighbors\n",
      "setting up df took 0.007751\n",
      "finding affine basis took 0.002833\n",
      "intermediate time 635.225410\n",
      "2 neighbors\n",
      "setting up df took 0.010079\n",
      "finding affine basis took 0.003488\n",
      "intermediate time 635.239003\n",
      "2 neighbors\n",
      "setting up df took 0.011175\n",
      "finding affine basis took 0.003316\n",
      "intermediate time 635.253522\n",
      "2 neighbors\n",
      "setting up df took 0.004715\n",
      "finding affine basis took 0.003004\n",
      "intermediate time 635.261269\n",
      "2 neighbors\n",
      "setting up df took 0.004751\n",
      "finding affine basis took 0.002859\n",
      "intermediate time 635.268903\n",
      "2 neighbors\n",
      "setting up df took 0.023958\n",
      "finding affine basis took 0.004034\n",
      "intermediate time 635.296920\n",
      "2 neighbors\n",
      "setting up df took 0.007054\n",
      "finding affine basis took 0.004149\n",
      "intermediate time 635.308151\n",
      "410/971\n",
      "2 neighbors\n",
      "setting up df took 0.004966\n",
      "finding affine basis took 0.002989\n",
      "intermediate time 635.316138\n",
      "2 neighbors\n",
      "setting up df took 0.004630\n",
      "finding affine basis took 0.003269\n",
      "intermediate time 635.324062\n",
      "2 neighbors\n",
      "setting up df took 0.006279\n",
      "finding affine basis took 0.005284\n",
      "intermediate time 635.335648\n",
      "2 neighbors\n",
      "setting up df took 0.010148\n",
      "finding affine basis took 0.003470\n",
      "intermediate time 635.349296\n",
      "2 neighbors\n",
      "setting up df took 0.005808\n",
      "finding affine basis took 0.003077\n",
      "intermediate time 635.358206\n",
      "2 neighbors\n",
      "setting up df took 0.008845\n",
      "finding affine basis took 0.002773\n",
      "intermediate time 635.369849\n",
      "2 neighbors\n"
     ]
    },
    {
     "name": "stderr",
     "output_type": "stream",
     "text": [
      "/home/pierre/anaconda3/conda/envs/pygmt/lib/python3.11/site-packages/shapely/linear.py:90: RuntimeWarning: invalid value encountered in line_locate_point\n",
      "  return lib.line_locate_point(line, other)\n"
     ]
    },
    {
     "name": "stdout",
     "output_type": "stream",
     "text": [
      "setting up df took 0.056659\n",
      "finding affine basis took 0.005222\n",
      "intermediate time 635.431757\n",
      "2 neighbors\n",
      "setting up df took 0.013663\n",
      "finding affine basis took 0.003697\n",
      "intermediate time 635.449144\n",
      "2 neighbors\n",
      "setting up df took 0.012365\n",
      "finding affine basis took 0.002879\n",
      "intermediate time 635.464414\n",
      "2 neighbors\n",
      "setting up df took 0.117127\n",
      "finding affine basis took 0.014570\n",
      "intermediate time 635.596137\n",
      "420/971\n",
      "2 neighbors\n"
     ]
    },
    {
     "name": "stderr",
     "output_type": "stream",
     "text": [
      "/home/pierre/anaconda3/conda/envs/pygmt/lib/python3.11/site-packages/shapely/linear.py:90: RuntimeWarning: invalid value encountered in line_locate_point\n",
      "  return lib.line_locate_point(line, other)\n",
      "/home/pierre/anaconda3/conda/envs/pygmt/lib/python3.11/site-packages/shapely/linear.py:90: RuntimeWarning: invalid value encountered in line_locate_point\n",
      "  return lib.line_locate_point(line, other)\n",
      "/home/pierre/anaconda3/conda/envs/pygmt/lib/python3.11/site-packages/shapely/linear.py:90: RuntimeWarning: invalid value encountered in line_locate_point\n",
      "  return lib.line_locate_point(line, other)\n"
     ]
    },
    {
     "name": "stdout",
     "output_type": "stream",
     "text": [
      "setting up df took 0.072757\n",
      "finding affine basis took 0.004005\n",
      "intermediate time 635.672932\n",
      "2 neighbors\n",
      "setting up df took 0.005111\n",
      "finding affine basis took 0.002844\n",
      "intermediate time 635.680913\n",
      "2 neighbors\n",
      "setting up df took 0.078877\n",
      "finding affine basis took 0.006500\n",
      "intermediate time 635.766314\n",
      "2 neighbors\n",
      "setting up df took 0.079161\n",
      "finding affine basis took 0.007991\n",
      "intermediate time 635.853493\n",
      "2 neighbors\n"
     ]
    },
    {
     "name": "stderr",
     "output_type": "stream",
     "text": [
      "/home/pierre/anaconda3/conda/envs/pygmt/lib/python3.11/site-packages/shapely/linear.py:90: RuntimeWarning: invalid value encountered in line_locate_point\n",
      "  return lib.line_locate_point(line, other)\n",
      "/home/pierre/anaconda3/conda/envs/pygmt/lib/python3.11/site-packages/shapely/linear.py:90: RuntimeWarning: invalid value encountered in line_locate_point\n",
      "  return lib.line_locate_point(line, other)\n"
     ]
    },
    {
     "name": "stdout",
     "output_type": "stream",
     "text": [
      "setting up df took 0.176556\n",
      "finding affine basis took 0.031087\n",
      "intermediate time 636.061162\n",
      "2 neighbors\n",
      "setting up df took 0.170745\n"
     ]
    },
    {
     "name": "stderr",
     "output_type": "stream",
     "text": [
      "/home/pierre/anaconda3/conda/envs/pygmt/lib/python3.11/site-packages/shapely/linear.py:90: RuntimeWarning: invalid value encountered in line_locate_point\n",
      "  return lib.line_locate_point(line, other)\n"
     ]
    },
    {
     "name": "stdout",
     "output_type": "stream",
     "text": [
      "finding affine basis took 0.023196\n",
      "intermediate time 636.255140\n",
      "2 neighbors\n",
      "setting up df took 0.040058\n",
      "finding affine basis took 0.006285\n",
      "intermediate time 636.301576\n",
      "2 neighbors\n",
      "setting up df took 0.006533\n",
      "finding affine basis took 0.005079\n",
      "intermediate time 636.313227\n",
      "2 neighbors\n",
      "setting up df took 0.034471\n",
      "finding affine basis took 0.009078\n",
      "intermediate time 636.356839\n",
      "2 neighbors\n",
      "setting up df took 0.009115\n",
      "finding affine basis took 0.004433\n",
      "intermediate time 636.370470\n",
      "430/971\n",
      "2 neighbors\n",
      "setting up df took 0.023236\n",
      "finding affine basis took 0.006289\n",
      "intermediate time 636.400034\n",
      "2 neighbors\n",
      "setting up df took 0.006734\n",
      "finding affine basis took 0.004773\n",
      "intermediate time 636.411589\n",
      "2 neighbors\n",
      "setting up df took 0.016650\n",
      "finding affine basis took 0.004724\n",
      "intermediate time 636.433005\n",
      "2 neighbors\n",
      "setting up df took 0.020264\n",
      "finding affine basis took 0.006733\n",
      "intermediate time 636.460039\n",
      "2 neighbors\n",
      "setting up df took 0.011838\n",
      "finding affine basis took 0.004314\n",
      "intermediate time 636.476263\n",
      "2 neighbors\n",
      "setting up df took 0.008187\n",
      "finding affine basis took 0.004124\n",
      "intermediate time 636.488608\n",
      "2 neighbors\n",
      "setting up df took 0.015323\n",
      "finding affine basis took 0.004837\n",
      "intermediate time 636.508842\n",
      "2 neighbors\n",
      "setting up df took 0.010417\n",
      "finding affine basis took 0.003807\n",
      "intermediate time 636.523097\n",
      "2 neighbors\n",
      "setting up df took 0.016553\n",
      "finding affine basis took 0.004735\n",
      "intermediate time 636.544415\n",
      "2 neighbors\n",
      "setting up df took 0.015270\n",
      "finding affine basis took 0.003933\n",
      "intermediate time 636.563647\n",
      "440/971\n",
      "2 neighbors\n",
      "setting up df took 0.014521\n",
      "finding affine basis took 0.003008\n",
      "intermediate time 636.581218\n",
      "2 neighbors\n",
      "setting up df took 0.005138\n",
      "finding affine basis took 0.002850\n",
      "intermediate time 636.589234\n",
      "2 neighbors\n",
      "setting up df took 0.014806\n",
      "finding affine basis took 0.002905\n",
      "intermediate time 636.606969\n",
      "2 neighbors\n",
      "setting up df took 0.010113\n",
      "finding affine basis took 0.002963\n",
      "intermediate time 636.620071\n",
      "2 neighbors\n",
      "setting up df took 0.006929\n",
      "finding affine basis took 0.003231\n",
      "intermediate time 636.630256\n",
      "2 neighbors\n",
      "setting up df took 0.012234\n",
      "finding affine basis took 0.003619\n",
      "intermediate time 636.646137\n",
      "2 neighbors\n",
      "setting up df took 0.006654\n",
      "finding affine basis took 0.002902\n",
      "intermediate time 636.655716\n",
      "2 neighbors\n"
     ]
    },
    {
     "name": "stderr",
     "output_type": "stream",
     "text": [
      "/home/pierre/anaconda3/conda/envs/pygmt/lib/python3.11/site-packages/shapely/linear.py:90: RuntimeWarning: invalid value encountered in line_locate_point\n",
      "  return lib.line_locate_point(line, other)\n"
     ]
    },
    {
     "name": "stdout",
     "output_type": "stream",
     "text": [
      "setting up df took 0.007284\n",
      "finding affine basis took 0.003577\n",
      "intermediate time 636.666604\n",
      "2 neighbors\n",
      "setting up df took 0.006853\n",
      "finding affine basis took 0.004014\n",
      "intermediate time 636.677502\n",
      "2 neighbors\n",
      "setting up df took 0.012794\n",
      "finding affine basis took 0.003792\n",
      "intermediate time 636.694114\n",
      "450/971\n",
      "2 neighbors\n",
      "setting up df took 0.006916\n",
      "finding affine basis took 0.004101\n",
      "intermediate time 636.705160\n",
      "2 neighbors\n",
      "setting up df took 0.004908\n",
      "finding affine basis took 0.003145\n",
      "intermediate time 636.713242\n",
      "2 neighbors\n",
      "setting up df took 0.006361\n",
      "finding affine basis took 0.003094\n",
      "intermediate time 636.722731\n",
      "2 neighbors\n",
      "setting up df took 0.057788\n",
      "finding affine basis took 0.008889\n",
      "intermediate time 636.789435\n",
      "2 neighbors\n",
      "setting up df took 0.053982\n",
      "finding affine basis took 0.011528\n",
      "intermediate time 636.854974\n",
      "2 neighbors\n",
      "setting up df took 0.056875\n",
      "finding affine basis took 0.012326\n",
      "intermediate time 636.924206\n",
      "2 neighbors\n",
      "setting up df took 0.006344\n",
      "finding affine basis took 0.003186\n",
      "intermediate time 636.933769\n",
      "2 neighbors\n",
      "setting up df took 0.073555\n",
      "finding affine basis took 0.009273\n",
      "intermediate time 637.016623\n",
      "2 neighbors\n",
      "setting up df took 0.005619\n",
      "finding affine basis took 0.002836\n",
      "intermediate time 637.025106\n",
      "2 neighbors\n",
      "setting up df took 0.006645\n",
      "finding affine basis took 0.003042\n",
      "intermediate time 637.034820\n",
      "460/971\n",
      "2 neighbors\n",
      "setting up df took 0.006980\n",
      "finding affine basis took 0.003269\n",
      "intermediate time 637.045102\n",
      "2 neighbors\n",
      "setting up df took 0.006047\n",
      "finding affine basis took 0.003051\n",
      "intermediate time 637.054225\n",
      "2 neighbors\n",
      "setting up df took 0.014838\n",
      "finding affine basis took 0.002789\n",
      "intermediate time 637.071880\n",
      "2 neighbors\n",
      "setting up df took 0.006120\n",
      "finding affine basis took 0.003199\n",
      "intermediate time 637.081225\n",
      "2 neighbors\n",
      "setting up df took 0.005737\n",
      "finding affine basis took 0.003008\n",
      "intermediate time 637.090002\n",
      "2 neighbors\n",
      "setting up df took 0.012136\n",
      "finding affine basis took 0.004531\n",
      "intermediate time 637.106699\n",
      "2 neighbors\n"
     ]
    },
    {
     "name": "stderr",
     "output_type": "stream",
     "text": [
      "/home/pierre/anaconda3/conda/envs/pygmt/lib/python3.11/site-packages/shapely/linear.py:90: RuntimeWarning: invalid value encountered in line_locate_point\n",
      "  return lib.line_locate_point(line, other)\n",
      "/home/pierre/anaconda3/conda/envs/pygmt/lib/python3.11/site-packages/shapely/linear.py:90: RuntimeWarning: invalid value encountered in line_locate_point\n",
      "  return lib.line_locate_point(line, other)\n"
     ]
    },
    {
     "name": "stdout",
     "output_type": "stream",
     "text": [
      "setting up df took 0.018004\n",
      "finding affine basis took 0.003939\n",
      "intermediate time 637.128669\n",
      "2 neighbors\n",
      "setting up df took 0.016086\n",
      "finding affine basis took 0.003536\n",
      "intermediate time 637.148320\n",
      "2 neighbors\n",
      "setting up df took 0.015857\n",
      "finding affine basis took 0.003098\n",
      "intermediate time 637.167304\n",
      "2 neighbors\n",
      "setting up df took 0.137676\n",
      "finding affine basis took 0.013781\n",
      "intermediate time 637.318787\n",
      "470/971\n",
      "2 neighbors\n",
      "setting up df took 0.005613\n"
     ]
    },
    {
     "name": "stderr",
     "output_type": "stream",
     "text": [
      "/home/pierre/anaconda3/conda/envs/pygmt/lib/python3.11/site-packages/shapely/linear.py:90: RuntimeWarning: invalid value encountered in line_locate_point\n",
      "  return lib.line_locate_point(line, other)\n"
     ]
    },
    {
     "name": "stdout",
     "output_type": "stream",
     "text": [
      "finding affine basis took 0.003379\n",
      "intermediate time 637.327813\n",
      "2 neighbors\n",
      "setting up df took 0.007026\n",
      "finding affine basis took 0.003776\n",
      "intermediate time 637.338679\n",
      "2 neighbors\n",
      "setting up df took 0.004523\n",
      "finding affine basis took 0.002886\n",
      "intermediate time 637.346114\n",
      "2 neighbors\n",
      "setting up df took 0.005345\n",
      "finding affine basis took 0.004093\n",
      "intermediate time 637.355579\n",
      "2 neighbors\n",
      "setting up df took 0.005542\n",
      "finding affine basis took 0.003146\n",
      "intermediate time 637.364292\n",
      "2 neighbors\n",
      "setting up df took 0.004963\n",
      "finding affine basis took 0.003077\n",
      "intermediate time 637.372357\n",
      "2 neighbors\n",
      "setting up df took 0.005498\n",
      "finding affine basis took 0.004091\n",
      "intermediate time 637.381974\n",
      "2 neighbors\n",
      "setting up df took 0.008762\n",
      "finding affine basis took 0.003827\n",
      "intermediate time 637.394590\n",
      "2 neighbors\n",
      "setting up df took 0.004564\n",
      "finding affine basis took 0.002808\n",
      "intermediate time 637.401989\n",
      "2 neighbors\n",
      "setting up df took 0.004574\n",
      "finding affine basis took 0.004803\n",
      "intermediate time 637.411391\n",
      "480/971\n",
      "2 neighbors\n",
      "setting up df took 0.006131\n",
      "finding affine basis took 0.002831\n",
      "intermediate time 637.420382\n",
      "2 neighbors\n",
      "setting up df took 0.005535\n",
      "finding affine basis took 0.003957\n",
      "intermediate time 637.429902\n",
      "2 neighbors\n",
      "setting up df took 0.065436\n",
      "finding affine basis took 0.005867\n",
      "intermediate time 637.501233\n",
      "2 neighbors\n",
      "setting up df took 0.063583\n",
      "finding affine basis took 0.004325\n",
      "intermediate time 637.569173\n",
      "2 neighbors\n",
      "setting up df took 0.060407\n",
      "finding affine basis took 0.006593\n",
      "intermediate time 637.636200\n",
      "2 neighbors\n",
      "setting up df took 0.004945\n",
      "finding affine basis took 0.003042\n",
      "intermediate time 637.644219\n",
      "2 neighbors\n",
      "setting up df took 0.009492\n",
      "finding affine basis took 0.004692\n",
      "intermediate time 637.658429\n",
      "2 neighbors\n",
      "setting up df took 0.009297\n",
      "finding affine basis took 0.007948\n",
      "intermediate time 637.675700\n",
      "2 neighbors\n",
      "setting up df took 0.118311\n",
      "finding affine basis took 0.009936\n",
      "intermediate time 637.803972\n",
      "2 neighbors\n",
      "setting up df took 0.005852\n",
      "finding affine basis took 0.003349\n",
      "intermediate time 637.813203\n",
      "490/971\n",
      "1 neighbors\n",
      "setting up df took 0.007224\n",
      "finding affine basis took 0.003198\n",
      "intermediate time 637.823678\n",
      "1 neighbors\n",
      "setting up df took 0.005528\n",
      "finding affine basis took 0.004396\n",
      "intermediate time 637.833629\n",
      "1 neighbors\n",
      "setting up df took 0.007290\n",
      "finding affine basis took 0.002959\n",
      "intermediate time 637.843912\n",
      "1 neighbors\n",
      "setting up df took 0.024308\n",
      "finding affine basis took 0.003603\n",
      "intermediate time 637.872051\n",
      "1 neighbors\n",
      "setting up df took 0.013076\n",
      "finding affine basis took 0.003441\n",
      "intermediate time 637.888596\n",
      "1 neighbors\n",
      "setting up df took 0.008223\n",
      "finding affine basis took 0.004804\n",
      "intermediate time 637.901650\n",
      "1 neighbors\n",
      "setting up df took 0.006332\n",
      "finding affine basis took 0.003162\n",
      "intermediate time 637.911183\n",
      "1 neighbors\n",
      "setting up df took 0.006316\n",
      "finding affine basis took 0.003232\n",
      "intermediate time 637.920760\n",
      "1 neighbors\n",
      "setting up df took 0.011724\n",
      "finding affine basis took 0.003391\n",
      "intermediate time 637.935905\n",
      "1 neighbors\n",
      "setting up df took 0.011374\n",
      "finding affine basis took 0.003049\n",
      "intermediate time 637.950360\n",
      "500/971\n",
      "1 neighbors\n",
      "setting up df took 0.007542\n",
      "finding affine basis took 0.002765\n",
      "intermediate time 637.960696\n",
      "1 neighbors\n",
      "setting up df took 0.004719\n",
      "finding affine basis took 0.002660\n",
      "intermediate time 637.968101\n",
      "1 neighbors\n",
      "setting up df took 0.008502\n",
      "finding affine basis took 0.002798\n",
      "intermediate time 637.979425\n",
      "1 neighbors\n",
      "setting up df took 0.004588\n",
      "finding affine basis took 0.002734\n",
      "intermediate time 637.986773\n",
      "1 neighbors\n",
      "setting up df took 0.004675\n",
      "finding affine basis took 0.002772\n",
      "intermediate time 637.994246\n",
      "1 neighbors\n"
     ]
    },
    {
     "name": "stderr",
     "output_type": "stream",
     "text": [
      "/home/pierre/anaconda3/conda/envs/pygmt/lib/python3.11/site-packages/shapely/linear.py:90: RuntimeWarning: invalid value encountered in line_locate_point\n",
      "  return lib.line_locate_point(line, other)\n"
     ]
    },
    {
     "name": "stdout",
     "output_type": "stream",
     "text": [
      "setting up df took 0.007056\n",
      "finding affine basis took 0.003503\n",
      "intermediate time 638.004832\n",
      "1 neighbors\n",
      "setting up df took 0.005334\n",
      "finding affine basis took 0.002991\n",
      "intermediate time 638.013187\n",
      "1 neighbors\n",
      "setting up df took 0.006146\n",
      "finding affine basis took 0.003004\n",
      "intermediate time 638.022368\n",
      "1 neighbors\n",
      "setting up df took 0.010191\n",
      "finding affine basis took 0.002854\n",
      "intermediate time 638.035441\n",
      "1 neighbors\n",
      "setting up df took 0.004513\n",
      "finding affine basis took 0.002714\n",
      "intermediate time 638.042695\n",
      "510/971\n",
      "1 neighbors\n",
      "setting up df took 0.004747\n",
      "finding affine basis took 0.002819\n",
      "intermediate time 638.050291\n",
      "1 neighbors\n",
      "setting up df took 0.004853\n",
      "finding affine basis took 0.002675\n",
      "intermediate time 638.057846\n",
      "1 neighbors\n",
      "setting up df took 0.004623\n",
      "finding affine basis took 0.002774\n",
      "intermediate time 638.065269\n",
      "1 neighbors\n",
      "setting up df took 0.004611\n",
      "finding affine basis took 0.002863\n",
      "intermediate time 638.072770\n",
      "1 neighbors\n",
      "setting up df took 0.016032\n",
      "finding affine basis took 0.002873\n",
      "intermediate time 638.091700\n",
      "1 neighbors\n",
      "setting up df took 0.013594\n",
      "finding affine basis took 0.003226\n",
      "intermediate time 638.108548\n",
      "1 neighbors\n",
      "setting up df took 0.005014\n",
      "finding affine basis took 0.002887\n",
      "intermediate time 638.116474\n",
      "1 neighbors\n",
      "setting up df took 0.012433\n",
      "finding affine basis took 0.002887\n",
      "intermediate time 638.131821\n",
      "1 neighbors\n",
      "setting up df took 0.007802\n",
      "finding affine basis took 0.002979\n",
      "intermediate time 638.142628\n",
      "1 neighbors\n",
      "setting up df took 0.004459\n",
      "finding affine basis took 0.002872\n",
      "intermediate time 638.149987\n",
      "520/971\n",
      "1 neighbors\n",
      "setting up df took 0.015846\n",
      "finding affine basis took 0.002866\n",
      "intermediate time 638.168730\n",
      "1 neighbors\n",
      "setting up df took 0.004552\n",
      "finding affine basis took 0.002754\n",
      "intermediate time 638.176064\n",
      "1 neighbors\n",
      "setting up df took 0.004769\n",
      "finding affine basis took 0.002925\n",
      "intermediate time 638.183784\n",
      "1 neighbors\n",
      "setting up df took 0.004969\n",
      "finding affine basis took 0.002743\n",
      "intermediate time 638.191537\n",
      "1 neighbors\n",
      "setting up df took 0.126603\n",
      "finding affine basis took 0.005495\n",
      "intermediate time 638.323658\n",
      "1 neighbors\n",
      "setting up df took 0.101064\n",
      "finding affine basis took 0.005305\n",
      "intermediate time 638.430059\n",
      "1 neighbors\n",
      "setting up df took 0.010743\n",
      "finding affine basis took 0.003093\n",
      "intermediate time 638.443933\n",
      "1 neighbors\n",
      "setting up df took 0.006171\n",
      "finding affine basis took 0.002833\n",
      "intermediate time 638.453020\n",
      "1 neighbors\n",
      "setting up df took 0.004841\n",
      "finding affine basis took 0.002908\n",
      "intermediate time 638.460797\n",
      "1 neighbors\n",
      "setting up df took 0.004825\n",
      "finding affine basis took 0.003230\n",
      "intermediate time 638.468879\n",
      "530/971\n",
      "1 neighbors\n",
      "setting up df took 0.004584\n",
      "finding affine basis took 0.003160\n",
      "intermediate time 638.476668\n",
      "1 neighbors\n",
      "setting up df took 0.004602\n",
      "finding affine basis took 0.002792\n",
      "intermediate time 638.484091\n",
      "1 neighbors\n",
      "setting up df took 0.004390\n",
      "finding affine basis took 0.002753\n",
      "intermediate time 638.491259\n",
      "1 neighbors\n",
      "setting up df took 0.004565\n",
      "finding affine basis took 0.002685\n",
      "intermediate time 638.498535\n",
      "1 neighbors\n",
      "setting up df took 0.004448\n",
      "finding affine basis took 0.002872\n",
      "intermediate time 638.505880\n",
      "1 neighbors\n",
      "setting up df took 0.004563\n",
      "finding affine basis took 0.002695\n",
      "intermediate time 638.513166\n",
      "1 neighbors\n",
      "setting up df took 0.004458\n"
     ]
    },
    {
     "name": "stderr",
     "output_type": "stream",
     "text": [
      "/home/pierre/anaconda3/conda/envs/pygmt/lib/python3.11/site-packages/shapely/linear.py:90: RuntimeWarning: invalid value encountered in line_locate_point\n",
      "  return lib.line_locate_point(line, other)\n",
      "/home/pierre/anaconda3/conda/envs/pygmt/lib/python3.11/site-packages/shapely/linear.py:90: RuntimeWarning: invalid value encountered in line_locate_point\n",
      "  return lib.line_locate_point(line, other)\n"
     ]
    },
    {
     "name": "stdout",
     "output_type": "stream",
     "text": [
      "finding affine basis took 0.003213\n",
      "intermediate time 638.520864\n",
      "1 neighbors\n",
      "setting up df took 0.058406\n",
      "finding affine basis took 0.003587\n",
      "intermediate time 638.582915\n",
      "1 neighbors\n",
      "setting up df took 0.005022\n",
      "finding affine basis took 0.002953\n",
      "intermediate time 638.590917\n",
      "1 neighbors\n",
      "setting up df took 0.005133\n",
      "finding affine basis took 0.002699\n",
      "intermediate time 638.598775\n",
      "540/971\n",
      "1 neighbors\n",
      "setting up df took 0.019193\n",
      "finding affine basis took 0.003129\n",
      "intermediate time 638.621127\n",
      "1 neighbors\n",
      "setting up df took 0.014791\n",
      "finding affine basis took 0.003309\n",
      "intermediate time 638.639255\n",
      "1 neighbors\n",
      "setting up df took 0.005155\n",
      "finding affine basis took 0.002882\n",
      "intermediate time 638.647318\n",
      "1 neighbors\n",
      "setting up df took 0.004558\n",
      "finding affine basis took 0.002769\n",
      "intermediate time 638.654739\n",
      "1 neighbors\n",
      "setting up df took 0.004211\n",
      "finding affine basis took 0.002738\n",
      "intermediate time 638.661713\n",
      "1 neighbors\n",
      "setting up df took 0.005307\n",
      "finding affine basis took 0.002826\n",
      "intermediate time 638.669870\n",
      "1 neighbors\n",
      "setting up df took 0.004430\n",
      "finding affine basis took 0.002774\n",
      "intermediate time 638.677101\n",
      "1 neighbors\n",
      "setting up df took 0.014457\n",
      "finding affine basis took 0.003387\n",
      "intermediate time 638.694971\n",
      "1 neighbors\n",
      "setting up df took 0.005040\n",
      "finding affine basis took 0.002993\n",
      "intermediate time 638.703031\n",
      "1 neighbors\n",
      "setting up df took 0.005857\n",
      "finding affine basis took 0.002845\n",
      "intermediate time 638.711759\n",
      "550/971\n",
      "1 neighbors\n",
      "setting up df took 0.004902\n",
      "finding affine basis took 0.002777\n",
      "intermediate time 638.719470\n",
      "1 neighbors\n",
      "setting up df took 0.004357\n"
     ]
    },
    {
     "name": "stderr",
     "output_type": "stream",
     "text": [
      "/home/pierre/anaconda3/conda/envs/pygmt/lib/python3.11/site-packages/shapely/linear.py:90: RuntimeWarning: invalid value encountered in line_locate_point\n",
      "  return lib.line_locate_point(line, other)\n",
      "/home/pierre/anaconda3/conda/envs/pygmt/lib/python3.11/site-packages/shapely/linear.py:90: RuntimeWarning: invalid value encountered in line_locate_point\n",
      "  return lib.line_locate_point(line, other)\n",
      "/home/pierre/anaconda3/conda/envs/pygmt/lib/python3.11/site-packages/shapely/linear.py:90: RuntimeWarning: invalid value encountered in line_locate_point\n",
      "  return lib.line_locate_point(line, other)\n"
     ]
    },
    {
     "name": "stdout",
     "output_type": "stream",
     "text": [
      "finding affine basis took 0.003298\n",
      "intermediate time 638.727149\n",
      "1 neighbors\n",
      "setting up df took 0.007128\n",
      "finding affine basis took 0.002862\n",
      "intermediate time 638.737194\n",
      "1 neighbors\n",
      "setting up df took 0.005459\n",
      "finding affine basis took 0.002840\n",
      "intermediate time 638.745521\n",
      "1 neighbors\n",
      "setting up df took 0.005418\n",
      "finding affine basis took 0.002810\n",
      "intermediate time 638.753776\n",
      "1 neighbors\n",
      "setting up df took 0.010308\n",
      "finding affine basis took 0.002884\n",
      "intermediate time 638.766993\n",
      "1 neighbors\n",
      "setting up df took 0.004489\n",
      "finding affine basis took 0.002787\n",
      "intermediate time 638.774296\n",
      "1 neighbors\n",
      "setting up df took 0.004330\n",
      "finding affine basis took 0.002761\n",
      "intermediate time 638.781412\n",
      "1 neighbors\n",
      "setting up df took 0.004259\n",
      "finding affine basis took 0.002881\n",
      "intermediate time 638.788576\n",
      "1 neighbors\n",
      "setting up df took 0.006617\n",
      "finding affine basis took 0.003109\n",
      "intermediate time 638.798331\n",
      "560/971\n",
      "1 neighbors\n",
      "setting up df took 0.005973\n",
      "finding affine basis took 0.002980\n",
      "intermediate time 638.807321\n",
      "1 neighbors\n",
      "setting up df took 0.004671\n",
      "finding affine basis took 0.002996\n",
      "intermediate time 638.815017\n",
      "1 neighbors\n",
      "setting up df took 0.004606\n",
      "finding affine basis took 0.002859\n",
      "intermediate time 638.822509\n",
      "1 neighbors\n",
      "setting up df took 0.005222\n",
      "finding affine basis took 0.002733\n",
      "intermediate time 638.830491\n",
      "1 neighbors\n",
      "setting up df took 0.005572\n",
      "finding affine basis took 0.003327\n",
      "intermediate time 638.839416\n",
      "1 neighbors\n",
      "setting up df took 0.004468\n",
      "finding affine basis took 0.002972\n",
      "intermediate time 638.846881\n",
      "1 neighbors\n",
      "setting up df took 0.007813\n",
      "finding affine basis took 0.002886\n",
      "intermediate time 638.857604\n",
      "1 neighbors\n",
      "setting up df took 0.004612\n",
      "finding affine basis took 0.002970\n",
      "intermediate time 638.865211\n",
      "1 neighbors\n",
      "setting up df took 0.014263\n",
      "finding affine basis took 0.002886\n",
      "intermediate time 638.882385\n",
      "1 neighbors\n",
      "setting up df took 0.008277\n",
      "finding affine basis took 0.002784\n",
      "intermediate time 638.893472\n",
      "570/971\n",
      "1 neighbors\n",
      "setting up df took 0.004517\n",
      "finding affine basis took 0.002690\n",
      "intermediate time 638.900709\n",
      "1 neighbors\n",
      "setting up df took 0.004729\n",
      "finding affine basis took 0.002748\n",
      "intermediate time 638.908211\n",
      "1 neighbors\n",
      "setting up df took 0.007930\n",
      "finding affine basis took 0.002923\n",
      "intermediate time 638.919090\n",
      "1 neighbors\n",
      "setting up df took 0.010119\n",
      "finding affine basis took 0.003523\n",
      "intermediate time 638.932760\n",
      "1 neighbors\n",
      "setting up df took 0.008166\n",
      "finding affine basis took 0.002833\n",
      "intermediate time 638.943792\n",
      "1 neighbors\n",
      "setting up df took 0.008130\n",
      "finding affine basis took 0.002909\n",
      "intermediate time 638.954856\n",
      "1 neighbors\n",
      "setting up df took 0.008079\n",
      "finding affine basis took 0.002749\n",
      "intermediate time 638.965712\n",
      "1 neighbors\n",
      "setting up df took 0.004379\n",
      "finding affine basis took 0.002653\n",
      "intermediate time 638.972769\n",
      "1 neighbors\n",
      "setting up df took 0.004505\n",
      "finding affine basis took 0.002755\n",
      "intermediate time 638.980054\n",
      "1 neighbors\n",
      "setting up df took 0.004841\n",
      "finding affine basis took 0.002868\n",
      "intermediate time 638.987791\n",
      "580/971\n",
      "1 neighbors\n",
      "setting up df took 0.005719\n",
      "finding affine basis took 0.003096\n",
      "intermediate time 638.996635\n",
      "1 neighbors\n",
      "setting up df took 0.008172\n",
      "finding affine basis took 0.003005\n",
      "intermediate time 639.007838\n",
      "1 neighbors\n",
      "setting up df took 0.005786\n",
      "finding affine basis took 0.003322\n",
      "intermediate time 639.016979\n",
      "1 neighbors\n",
      "setting up df took 0.004839\n",
      "finding affine basis took 0.002976\n",
      "intermediate time 639.024823\n",
      "1 neighbors\n",
      "setting up df took 0.004813\n",
      "finding affine basis took 0.002721\n",
      "intermediate time 639.032385\n",
      "1 neighbors\n",
      "setting up df took 0.005206\n",
      "finding affine basis took 0.003308\n",
      "intermediate time 639.040927\n",
      "1 neighbors\n",
      "setting up df took 0.008175\n",
      "finding affine basis took 0.002890\n",
      "intermediate time 639.052026\n",
      "1 neighbors\n",
      "setting up df took 0.005993\n",
      "finding affine basis took 0.002715\n",
      "intermediate time 639.060759\n",
      "1 neighbors\n",
      "setting up df took 0.005047\n",
      "finding affine basis took 0.003738\n",
      "intermediate time 639.069569\n",
      "1 neighbors\n",
      "setting up df took 0.004275\n",
      "finding affine basis took 0.002653\n",
      "intermediate time 639.076530\n",
      "590/971\n",
      "1 neighbors\n",
      "setting up df took 0.004528\n",
      "finding affine basis took 0.002908\n",
      "intermediate time 639.083993\n",
      "1 neighbors\n",
      "setting up df took 0.004586\n",
      "finding affine basis took 0.002896\n",
      "intermediate time 639.091501\n",
      "1 neighbors\n",
      "setting up df took 0.004641\n",
      "finding affine basis took 0.003217\n",
      "intermediate time 639.099383\n",
      "1 neighbors\n",
      "setting up df took 0.005194\n",
      "finding affine basis took 0.002794\n",
      "intermediate time 639.107405\n",
      "1 neighbors\n",
      "setting up df took 0.004686\n",
      "finding affine basis took 0.002642\n",
      "intermediate time 639.114757\n",
      "1 neighbors\n",
      "setting up df took 0.004501\n",
      "finding affine basis took 0.003096\n",
      "intermediate time 639.122378\n",
      "1 neighbors\n",
      "setting up df took 0.004596\n",
      "finding affine basis took 0.002704\n",
      "intermediate time 639.129703\n",
      "1 neighbors\n",
      "setting up df took 0.007861\n",
      "finding affine basis took 0.003275\n",
      "intermediate time 639.140865\n",
      "1 neighbors\n",
      "setting up df took 0.004655\n",
      "finding affine basis took 0.003288\n",
      "intermediate time 639.148837\n",
      "1 neighbors\n",
      "setting up df took 0.004662\n",
      "finding affine basis took 0.003122\n",
      "intermediate time 639.156647\n",
      "600/971\n",
      "1 neighbors\n",
      "setting up df took 0.016125\n",
      "finding affine basis took 0.003153\n",
      "intermediate time 639.175956\n",
      "1 neighbors\n",
      "setting up df took 0.004409\n",
      "finding affine basis took 0.002765\n",
      "intermediate time 639.183158\n",
      "1 neighbors\n",
      "setting up df took 0.005035\n",
      "finding affine basis took 0.002777\n",
      "intermediate time 639.190996\n",
      "1 neighbors\n",
      "setting up df took 0.012925\n",
      "finding affine basis took 0.002958\n",
      "intermediate time 639.206904\n",
      "1 neighbors\n",
      "setting up df took 0.067657\n",
      "finding affine basis took 0.004312\n",
      "intermediate time 639.278900\n",
      "1 neighbors\n",
      "setting up df took 0.005850\n",
      "finding affine basis took 0.002787\n",
      "intermediate time 639.287562\n",
      "1 neighbors\n",
      "setting up df took 0.004755\n",
      "finding affine basis took 0.002835\n",
      "intermediate time 639.295177\n",
      "1 neighbors\n",
      "setting up df took 0.004973\n",
      "finding affine basis took 0.002634\n",
      "intermediate time 639.302809\n",
      "1 neighbors\n",
      "setting up df took 0.004742\n",
      "finding affine basis took 0.002646\n",
      "intermediate time 639.310221\n",
      "1 neighbors\n",
      "setting up df took 0.007276\n",
      "finding affine basis took 0.003237\n",
      "intermediate time 639.320761\n",
      "610/971\n",
      "1 neighbors\n",
      "setting up df took 0.005188\n",
      "finding affine basis took 0.003340\n",
      "intermediate time 639.329319\n",
      "1 neighbors\n"
     ]
    },
    {
     "name": "stderr",
     "output_type": "stream",
     "text": [
      "/home/pierre/anaconda3/conda/envs/pygmt/lib/python3.11/site-packages/shapely/linear.py:90: RuntimeWarning: invalid value encountered in line_locate_point\n",
      "  return lib.line_locate_point(line, other)\n",
      "/home/pierre/anaconda3/conda/envs/pygmt/lib/python3.11/site-packages/shapely/linear.py:90: RuntimeWarning: invalid value encountered in line_locate_point\n",
      "  return lib.line_locate_point(line, other)\n",
      "/home/pierre/anaconda3/conda/envs/pygmt/lib/python3.11/site-packages/shapely/linear.py:90: RuntimeWarning: invalid value encountered in line_locate_point\n",
      "  return lib.line_locate_point(line, other)\n"
     ]
    },
    {
     "name": "stdout",
     "output_type": "stream",
     "text": [
      "setting up df took 0.073839\n",
      "finding affine basis took 0.004253\n",
      "intermediate time 639.407437\n",
      "1 neighbors\n",
      "setting up df took 0.068088\n",
      "finding affine basis took 0.004458\n",
      "intermediate time 639.480007\n",
      "1 neighbors\n",
      "setting up df took 0.015711\n",
      "finding affine basis took 0.002843\n",
      "intermediate time 639.498626\n",
      "1 neighbors\n",
      "setting up df took 0.058180\n",
      "finding affine basis took 0.004124\n",
      "intermediate time 639.560957\n",
      "1 neighbors\n",
      "setting up df took 0.056206\n",
      "finding affine basis took 0.005620\n",
      "intermediate time 639.622810\n",
      "1 neighbors\n",
      "setting up df took 0.014983\n",
      "finding affine basis took 0.003016\n",
      "intermediate time 639.640836\n",
      "1 neighbors\n",
      "setting up df took 0.005221\n",
      "finding affine basis took 0.002708\n",
      "intermediate time 639.648792\n",
      "1 neighbors\n",
      "setting up df took 0.009969\n",
      "finding affine basis took 0.004873\n",
      "intermediate time 639.663661\n",
      "1 neighbors\n",
      "setting up df took 0.010362\n",
      "finding affine basis took 0.002862\n",
      "intermediate time 639.676927\n",
      "620/971\n",
      "1 neighbors\n",
      "setting up df took 0.004521\n",
      "finding affine basis took 0.002702\n",
      "intermediate time 639.684179\n",
      "1 neighbors\n",
      "setting up df took 0.004506\n",
      "finding affine basis took 0.002695\n",
      "intermediate time 639.691406\n",
      "1 neighbors\n",
      "setting up df took 0.004361\n",
      "finding affine basis took 0.002825\n",
      "intermediate time 639.698617\n",
      "1 neighbors\n",
      "setting up df took 0.004402\n",
      "finding affine basis took 0.002935\n",
      "intermediate time 639.705978\n",
      "1 neighbors\n",
      "setting up df took 0.014653\n",
      "finding affine basis took 0.003110\n",
      "intermediate time 639.723767\n",
      "1 neighbors\n",
      "setting up df took 0.056371\n",
      "finding affine basis took 0.011836\n",
      "intermediate time 639.792002\n",
      "1 neighbors\n",
      "setting up df took 0.006199\n",
      "finding affine basis took 0.002692\n",
      "intermediate time 639.800921\n",
      "1 neighbors\n",
      "setting up df took 0.005780\n",
      "finding affine basis took 0.003308\n",
      "intermediate time 639.810035\n",
      "1 neighbors\n",
      "setting up df took 0.006602\n",
      "finding affine basis took 0.003733\n",
      "intermediate time 639.820399\n",
      "1 neighbors\n",
      "setting up df took 0.005829\n",
      "finding affine basis took 0.002748\n",
      "intermediate time 639.829052\n",
      "630/971\n",
      "1 neighbors\n",
      "setting up df took 0.061793\n",
      "finding affine basis took 0.004201\n",
      "intermediate time 639.895076\n",
      "1 neighbors\n",
      "setting up df took 0.004836\n",
      "finding affine basis took 0.002771\n",
      "intermediate time 639.902709\n",
      "1 neighbors\n",
      "setting up df took 0.004744\n",
      "finding affine basis took 0.002840\n",
      "intermediate time 639.910316\n",
      "1 neighbors\n",
      "setting up df took 0.005133\n",
      "finding affine basis took 0.002640\n",
      "intermediate time 639.918114\n",
      "1 neighbors\n",
      "setting up df took 0.005247\n",
      "finding affine basis took 0.002802\n",
      "intermediate time 639.926190\n",
      "1 neighbors\n",
      "setting up df took 0.004680\n",
      "finding affine basis took 0.002715\n",
      "intermediate time 639.933612\n",
      "1 neighbors\n",
      "setting up df took 0.004447\n",
      "finding affine basis took 0.002687\n",
      "intermediate time 639.940772\n",
      "1 neighbors\n",
      "setting up df took 0.005491\n",
      "finding affine basis took 0.002706\n",
      "intermediate time 639.948993\n",
      "1 neighbors\n",
      "setting up df took 0.004608\n",
      "finding affine basis took 0.002829\n",
      "intermediate time 639.956457\n",
      "1 neighbors\n",
      "setting up df took 0.010874\n",
      "finding affine basis took 0.002848\n",
      "intermediate time 639.970205\n",
      "640/971\n",
      "1 neighbors\n",
      "setting up df took 0.004533\n",
      "finding affine basis took 0.003695\n",
      "intermediate time 639.978481\n",
      "1 neighbors\n",
      "setting up df took 0.004706\n",
      "finding affine basis took 0.003413\n",
      "intermediate time 639.986634\n",
      "1 neighbors\n",
      "setting up df took 0.014290\n",
      "finding affine basis took 0.002781\n",
      "intermediate time 640.003738\n",
      "1 neighbors\n",
      "setting up df took 0.004642\n",
      "finding affine basis took 0.002890\n",
      "intermediate time 640.011297\n",
      "1 neighbors\n",
      "setting up df took 0.004381\n",
      "finding affine basis took 0.002688\n",
      "intermediate time 640.018391\n",
      "1 neighbors\n"
     ]
    },
    {
     "name": "stderr",
     "output_type": "stream",
     "text": [
      "/home/pierre/anaconda3/conda/envs/pygmt/lib/python3.11/site-packages/shapely/linear.py:90: RuntimeWarning: invalid value encountered in line_locate_point\n",
      "  return lib.line_locate_point(line, other)\n",
      "/home/pierre/anaconda3/conda/envs/pygmt/lib/python3.11/site-packages/shapely/linear.py:90: RuntimeWarning: invalid value encountered in line_locate_point\n",
      "  return lib.line_locate_point(line, other)\n"
     ]
    },
    {
     "name": "stdout",
     "output_type": "stream",
     "text": [
      "setting up df took 0.005097\n",
      "finding affine basis took 0.003407\n",
      "intermediate time 640.026922\n",
      "1 neighbors\n",
      "setting up df took 0.008566\n",
      "finding affine basis took 0.002915\n",
      "intermediate time 640.038431\n",
      "1 neighbors\n",
      "setting up df took 0.008151\n",
      "finding affine basis took 0.002890\n",
      "intermediate time 640.049500\n",
      "1 neighbors\n",
      "setting up df took 0.005271\n",
      "finding affine basis took 0.002688\n",
      "intermediate time 640.057485\n",
      "1 neighbors\n",
      "setting up df took 0.005085\n",
      "finding affine basis took 0.003017\n",
      "intermediate time 640.065613\n",
      "650/971\n",
      "1 neighbors\n",
      "setting up df took 0.004761\n",
      "finding affine basis took 0.002707\n",
      "intermediate time 640.073112\n",
      "1 neighbors\n",
      "setting up df took 0.004408\n",
      "finding affine basis took 0.002681\n",
      "intermediate time 640.080226\n",
      "1 neighbors\n",
      "setting up df took 0.004651\n",
      "finding affine basis took 0.002654\n",
      "intermediate time 640.087556\n",
      "1 neighbors\n",
      "setting up df took 0.067769\n",
      "finding affine basis took 0.005157\n",
      "intermediate time 640.160507\n",
      "1 neighbors\n",
      "setting up df took 0.005571\n",
      "finding affine basis took 0.002749\n",
      "intermediate time 640.168895\n",
      "1 neighbors\n",
      "setting up df took 0.008587\n",
      "finding affine basis took 0.002965\n",
      "intermediate time 640.180474\n",
      "1 neighbors\n",
      "setting up df took 0.008443\n",
      "finding affine basis took 0.002875\n",
      "intermediate time 640.191818\n",
      "1 neighbors\n",
      "setting up df took 0.009007\n",
      "finding affine basis took 0.003187\n",
      "intermediate time 640.204042\n",
      "1 neighbors\n",
      "setting up df took 0.006656\n",
      "finding affine basis took 0.003095\n",
      "intermediate time 640.213822\n",
      "1 neighbors\n",
      "setting up df took 0.006248\n",
      "finding affine basis took 0.002754\n",
      "intermediate time 640.222850\n",
      "660/971\n",
      "1 neighbors\n",
      "setting up df took 0.004592\n"
     ]
    },
    {
     "name": "stderr",
     "output_type": "stream",
     "text": [
      "/home/pierre/anaconda3/conda/envs/pygmt/lib/python3.11/site-packages/shapely/linear.py:90: RuntimeWarning: invalid value encountered in line_locate_point\n",
      "  return lib.line_locate_point(line, other)\n",
      "/home/pierre/anaconda3/conda/envs/pygmt/lib/python3.11/site-packages/shapely/linear.py:90: RuntimeWarning: invalid value encountered in line_locate_point\n",
      "  return lib.line_locate_point(line, other)\n",
      "/home/pierre/anaconda3/conda/envs/pygmt/lib/python3.11/site-packages/shapely/linear.py:90: RuntimeWarning: invalid value encountered in line_locate_point\n",
      "  return lib.line_locate_point(line, other)\n",
      "/home/pierre/anaconda3/conda/envs/pygmt/lib/python3.11/site-packages/shapely/linear.py:90: RuntimeWarning: invalid value encountered in line_locate_point\n",
      "  return lib.line_locate_point(line, other)\n",
      "/home/pierre/anaconda3/conda/envs/pygmt/lib/python3.11/site-packages/shapely/linear.py:90: RuntimeWarning: invalid value encountered in line_locate_point\n",
      "  return lib.line_locate_point(line, other)\n"
     ]
    },
    {
     "name": "stdout",
     "output_type": "stream",
     "text": [
      "finding affine basis took 0.003486\n",
      "intermediate time 640.230958\n",
      "1 neighbors\n",
      "setting up df took 0.006248\n",
      "finding affine basis took 0.003408\n",
      "intermediate time 640.240687\n",
      "1 neighbors\n",
      "setting up df took 0.008506\n",
      "finding affine basis took 0.002849\n",
      "intermediate time 640.252069\n",
      "1 neighbors\n",
      "setting up df took 0.007816\n",
      "finding affine basis took 0.003361\n",
      "intermediate time 640.263271\n",
      "1 neighbors\n",
      "setting up df took 0.007288\n",
      "finding affine basis took 0.002837\n",
      "intermediate time 640.273422\n",
      "1 neighbors\n",
      "setting up df took 0.007152\n",
      "finding affine basis took 0.002915\n",
      "intermediate time 640.283515\n",
      "1 neighbors\n",
      "setting up df took 0.014365\n",
      "finding affine basis took 0.003020\n",
      "intermediate time 640.300932\n",
      "1 neighbors\n",
      "setting up df took 0.004907\n",
      "finding affine basis took 0.002873\n",
      "intermediate time 640.308737\n",
      "1 neighbors\n",
      "setting up df took 0.004514\n",
      "finding affine basis took 0.002759\n",
      "intermediate time 640.316035\n",
      "1 neighbors\n",
      "setting up df took 0.004780\n",
      "finding affine basis took 0.002667\n",
      "intermediate time 640.323509\n",
      "670/971\n",
      "1 neighbors\n",
      "setting up df took 0.004479\n",
      "finding affine basis took 0.003053\n",
      "intermediate time 640.331073\n",
      "1 neighbors\n",
      "setting up df took 0.004442\n",
      "finding affine basis took 0.002654\n",
      "intermediate time 640.338194\n",
      "1 neighbors\n",
      "setting up df took 0.007497\n",
      "finding affine basis took 0.002872\n",
      "intermediate time 640.348590\n",
      "1 neighbors\n",
      "setting up df took 0.008407\n",
      "finding affine basis took 0.003321\n",
      "intermediate time 640.360347\n",
      "1 neighbors\n",
      "setting up df took 0.005023\n",
      "finding affine basis took 0.002916\n",
      "intermediate time 640.368318\n",
      "1 neighbors\n",
      "setting up df took 0.057611\n",
      "finding affine basis took 0.014924\n",
      "intermediate time 640.440881\n",
      "1 neighbors\n",
      "setting up df took 0.005054\n",
      "finding affine basis took 0.002679\n",
      "intermediate time 640.448673\n",
      "1 neighbors\n",
      "setting up df took 0.005883\n",
      "finding affine basis took 0.003609\n",
      "intermediate time 640.458190\n",
      "1 neighbors\n",
      "setting up df took 0.005703\n",
      "finding affine basis took 0.003074\n",
      "intermediate time 640.467009\n",
      "1 neighbors\n",
      "setting up df took 0.011396\n",
      "finding affine basis took 0.003078\n",
      "intermediate time 640.481508\n",
      "680/971\n",
      "1 neighbors\n",
      "setting up df took 0.006398\n",
      "finding affine basis took 0.003008\n",
      "intermediate time 640.490945\n",
      "1 neighbors\n",
      "setting up df took 0.005393\n",
      "finding affine basis took 0.002900\n",
      "intermediate time 640.499265\n",
      "1 neighbors\n",
      "setting up df took 0.005110\n",
      "finding affine basis took 0.002910\n",
      "intermediate time 640.507312\n",
      "1 neighbors\n",
      "setting up df took 0.006701\n",
      "finding affine basis took 0.002776\n",
      "intermediate time 640.516815\n",
      "1 neighbors\n",
      "setting up df took 0.004726\n",
      "finding affine basis took 0.002731\n",
      "intermediate time 640.524297\n",
      "1 neighbors\n",
      "setting up df took 0.004780\n",
      "finding affine basis took 0.002950\n",
      "intermediate time 640.532053\n",
      "1 neighbors\n",
      "setting up df took 0.015665\n",
      "finding affine basis took 0.004759\n",
      "intermediate time 640.552501\n",
      "1 neighbors\n",
      "setting up df took 0.007395\n",
      "finding affine basis took 0.005997\n",
      "intermediate time 640.565928\n",
      "1 neighbors\n",
      "setting up df took 0.006630\n",
      "finding affine basis took 0.005075\n",
      "intermediate time 640.577675\n",
      "1 neighbors\n",
      "setting up df took 0.007367\n",
      "finding affine basis took 0.004172\n",
      "intermediate time 640.589254\n",
      "690/971\n",
      "1 neighbors\n",
      "setting up df took 0.008191\n",
      "finding affine basis took 0.004068\n",
      "intermediate time 640.601552\n",
      "1 neighbors\n",
      "setting up df took 0.007007\n",
      "finding affine basis took 0.004535\n",
      "intermediate time 640.613133\n",
      "1 neighbors\n",
      "setting up df took 0.006565\n",
      "finding affine basis took 0.004007\n",
      "intermediate time 640.623743\n",
      "1 neighbors\n",
      "setting up df took 0.006249\n",
      "finding affine basis took 0.004443\n",
      "intermediate time 640.634488\n",
      "1 neighbors\n",
      "setting up df took 0.008345\n",
      "finding affine basis took 0.005385\n",
      "intermediate time 640.648254\n",
      "1 neighbors\n",
      "setting up df took 0.043587\n",
      "finding affine basis took 0.010145\n",
      "intermediate time 640.702049\n",
      "1 neighbors\n",
      "setting up df took 0.027967\n",
      "finding affine basis took 0.005929\n",
      "intermediate time 640.736003\n",
      "1 neighbors\n",
      "setting up df took 0.011196\n",
      "finding affine basis took 0.003866\n",
      "intermediate time 640.751115\n",
      "1 neighbors\n",
      "setting up df took 0.006588\n",
      "finding affine basis took 0.003849\n",
      "intermediate time 640.761585\n",
      "1 neighbors\n",
      "setting up df took 0.025432\n",
      "finding affine basis took 0.005052\n",
      "intermediate time 640.792104\n",
      "700/971\n",
      "1 neighbors\n",
      "setting up df took 0.015529\n",
      "finding affine basis took 0.003701\n",
      "intermediate time 640.811378\n",
      "1 neighbors\n",
      "setting up df took 0.005469\n",
      "finding affine basis took 0.003163\n",
      "intermediate time 640.820039\n",
      "1 neighbors\n",
      "setting up df took 0.010342\n",
      "finding affine basis took 0.003246\n",
      "intermediate time 640.833654\n",
      "1 neighbors\n"
     ]
    },
    {
     "name": "stderr",
     "output_type": "stream",
     "text": [
      "/home/pierre/anaconda3/conda/envs/pygmt/lib/python3.11/site-packages/shapely/linear.py:90: RuntimeWarning: invalid value encountered in line_locate_point\n",
      "  return lib.line_locate_point(line, other)\n",
      "/home/pierre/anaconda3/conda/envs/pygmt/lib/python3.11/site-packages/shapely/linear.py:90: RuntimeWarning: invalid value encountered in line_locate_point\n",
      "  return lib.line_locate_point(line, other)\n",
      "/home/pierre/anaconda3/conda/envs/pygmt/lib/python3.11/site-packages/shapely/linear.py:90: RuntimeWarning: invalid value encountered in line_locate_point\n",
      "  return lib.line_locate_point(line, other)\n"
     ]
    },
    {
     "name": "stdout",
     "output_type": "stream",
     "text": [
      "setting up df took 0.132845\n",
      "finding affine basis took 0.044626\n",
      "intermediate time 641.011198\n",
      "1 neighbors\n",
      "setting up df took 0.005836\n",
      "finding affine basis took 0.003397\n",
      "intermediate time 641.020476\n",
      "1 neighbors\n",
      "setting up df took 0.006746\n",
      "finding affine basis took 0.003428\n",
      "intermediate time 641.030678\n",
      "1 neighbors\n",
      "setting up df took 0.005581\n",
      "finding affine basis took 0.003270\n",
      "intermediate time 641.039560\n",
      "1 neighbors\n",
      "setting up df took 0.007373\n",
      "finding affine basis took 0.003660\n",
      "intermediate time 641.050632\n",
      "1 neighbors\n",
      "setting up df took 0.026541\n",
      "finding affine basis took 0.004411\n",
      "intermediate time 641.081613\n",
      "1 neighbors\n",
      "setting up df took 0.015560\n",
      "finding affine basis took 0.003309\n",
      "intermediate time 641.100511\n",
      "710/971\n",
      "1 neighbors\n",
      "setting up df took 0.006544\n",
      "finding affine basis took 0.003891\n",
      "intermediate time 641.110975\n",
      "1 neighbors\n",
      "setting up df took 0.005517\n",
      "finding affine basis took 0.003187\n",
      "intermediate time 641.119721\n",
      "1 neighbors\n",
      "setting up df took 0.007339\n",
      "finding affine basis took 0.003248\n",
      "intermediate time 641.130333\n",
      "1 neighbors\n",
      "setting up df took 0.035421\n",
      "finding affine basis took 0.003623\n",
      "intermediate time 641.169408\n",
      "1 neighbors\n"
     ]
    },
    {
     "name": "stderr",
     "output_type": "stream",
     "text": [
      "/home/pierre/anaconda3/conda/envs/pygmt/lib/python3.11/site-packages/shapely/linear.py:90: RuntimeWarning: invalid value encountered in line_locate_point\n",
      "  return lib.line_locate_point(line, other)\n",
      "/home/pierre/anaconda3/conda/envs/pygmt/lib/python3.11/site-packages/shapely/linear.py:90: RuntimeWarning: invalid value encountered in line_locate_point\n",
      "  return lib.line_locate_point(line, other)\n"
     ]
    },
    {
     "name": "stdout",
     "output_type": "stream",
     "text": [
      "setting up df took 0.009154\n",
      "finding affine basis took 0.004125\n",
      "intermediate time 641.182710\n",
      "1 neighbors\n",
      "setting up df took 0.007697\n",
      "finding affine basis took 0.004753\n",
      "intermediate time 641.195188\n",
      "1 neighbors\n",
      "setting up df took 0.077526\n",
      "finding affine basis took 0.005196\n",
      "intermediate time 641.277951\n",
      "1 neighbors\n",
      "setting up df took 0.004797\n",
      "finding affine basis took 0.002749\n",
      "intermediate time 641.285524\n",
      "1 neighbors\n",
      "setting up df took 0.004436\n",
      "finding affine basis took 0.003678\n",
      "intermediate time 641.293664\n",
      "1 neighbors\n",
      "setting up df took 0.005267\n",
      "finding affine basis took 0.002811\n",
      "intermediate time 641.301772\n",
      "720/971\n",
      "1 neighbors\n",
      "setting up df took 0.076205\n"
     ]
    },
    {
     "name": "stderr",
     "output_type": "stream",
     "text": [
      "/home/pierre/anaconda3/conda/envs/pygmt/lib/python3.11/site-packages/shapely/linear.py:90: RuntimeWarning: invalid value encountered in line_locate_point\n",
      "  return lib.line_locate_point(line, other)\n",
      "/home/pierre/anaconda3/conda/envs/pygmt/lib/python3.11/site-packages/shapely/linear.py:90: RuntimeWarning: invalid value encountered in line_locate_point\n",
      "  return lib.line_locate_point(line, other)\n"
     ]
    },
    {
     "name": "stdout",
     "output_type": "stream",
     "text": [
      "finding affine basis took 0.014997\n",
      "intermediate time 641.393004\n",
      "1 neighbors\n",
      "setting up df took 0.142203\n",
      "finding affine basis took 0.016362\n",
      "intermediate time 641.551647\n",
      "1 neighbors\n",
      "setting up df took 0.005293\n",
      "finding affine basis took 0.003385\n",
      "intermediate time 641.560366\n",
      "1 neighbors\n",
      "setting up df took 0.007135\n",
      "finding affine basis took 0.003475\n",
      "intermediate time 641.571009\n",
      "1 neighbors\n",
      "setting up df took 0.005022\n",
      "finding affine basis took 0.003098\n",
      "intermediate time 641.579156\n",
      "1 neighbors\n",
      "setting up df took 0.004982\n",
      "finding affine basis took 0.005367\n",
      "intermediate time 641.589534\n",
      "1 neighbors\n",
      "setting up df took 0.020581\n",
      "finding affine basis took 0.005200\n",
      "intermediate time 641.615353\n",
      "1 neighbors\n",
      "setting up df took 0.006547\n",
      "finding affine basis took 0.005311\n",
      "intermediate time 641.627241\n",
      "1 neighbors\n",
      "setting up df took 0.026465\n",
      "finding affine basis took 0.004322\n",
      "intermediate time 641.658074\n",
      "1 neighbors\n",
      "setting up df took 0.006135\n",
      "finding affine basis took 0.003765\n",
      "intermediate time 641.668009\n",
      "730/971\n",
      "1 neighbors\n",
      "setting up df took 0.006431\n",
      "finding affine basis took 0.004560\n",
      "intermediate time 641.679036\n",
      "1 neighbors\n",
      "setting up df took 0.006092\n",
      "finding affine basis took 0.003267\n",
      "intermediate time 641.688437\n",
      "1 neighbors\n",
      "setting up df took 0.011646\n",
      "finding affine basis took 0.003075\n",
      "intermediate time 641.703187\n",
      "1 neighbors\n",
      "setting up df took 0.013867\n",
      "finding affine basis took 0.003334\n",
      "intermediate time 641.720417\n",
      "1 neighbors\n",
      "setting up df took 0.012008\n",
      "finding affine basis took 0.003314\n",
      "intermediate time 641.735769\n",
      "1 neighbors\n",
      "setting up df took 0.005311\n",
      "finding affine basis took 0.003373\n",
      "intermediate time 641.744482\n",
      "1 neighbors\n",
      "setting up df took 0.136067\n",
      "finding affine basis took 0.022770\n",
      "intermediate time 641.903348\n",
      "1 neighbors\n",
      "setting up df took 0.014448\n",
      "finding affine basis took 0.005803\n",
      "intermediate time 641.923635\n",
      "1 neighbors\n",
      "setting up df took 0.042385\n",
      "finding affine basis took 0.004731\n",
      "intermediate time 641.970816\n",
      "1 neighbors\n",
      "setting up df took 0.011163\n",
      "finding affine basis took 0.007361\n",
      "intermediate time 641.989381\n",
      "740/971\n",
      "1 neighbors\n",
      "setting up df took 0.010569\n",
      "finding affine basis took 0.006261\n",
      "intermediate time 642.006260\n",
      "1 neighbors\n",
      "setting up df took 0.014610\n",
      "finding affine basis took 0.005674\n",
      "intermediate time 642.026650\n",
      "1 neighbors\n",
      "setting up df took 0.016443\n",
      "finding affine basis took 0.006142\n",
      "intermediate time 642.049297\n",
      "1 neighbors\n",
      "setting up df took 0.017027\n",
      "finding affine basis took 0.006422\n",
      "intermediate time 642.072849\n",
      "1 neighbors\n"
     ]
    },
    {
     "name": "stderr",
     "output_type": "stream",
     "text": [
      "/home/pierre/anaconda3/conda/envs/pygmt/lib/python3.11/site-packages/shapely/linear.py:90: RuntimeWarning: invalid value encountered in line_locate_point\n",
      "  return lib.line_locate_point(line, other)\n"
     ]
    },
    {
     "name": "stdout",
     "output_type": "stream",
     "text": [
      "setting up df took 0.014238\n",
      "finding affine basis took 0.008096\n",
      "intermediate time 642.095225\n",
      "1 neighbors\n",
      "setting up df took 0.027995\n",
      "finding affine basis took 0.007493\n",
      "intermediate time 642.130817\n",
      "1 neighbors\n",
      "setting up df took 0.009438\n",
      "finding affine basis took 0.005118\n",
      "intermediate time 642.145437\n",
      "1 neighbors\n",
      "setting up df took 0.009209\n",
      "finding affine basis took 0.004543\n",
      "intermediate time 642.159233\n",
      "1 neighbors\n",
      "setting up df took 0.007169\n",
      "finding affine basis took 0.004097\n",
      "intermediate time 642.170541\n",
      "1 neighbors\n",
      "setting up df took 0.008412\n",
      "finding affine basis took 0.006134\n",
      "intermediate time 642.185132\n",
      "750/971\n",
      "1 neighbors\n",
      "setting up df took 0.009521\n",
      "finding affine basis took 0.005160\n",
      "intermediate time 642.200001\n",
      "1 neighbors\n",
      "setting up df took 0.008119\n",
      "finding affine basis took 0.005858\n",
      "intermediate time 642.214032\n",
      "1 neighbors\n",
      "setting up df took 0.120541\n",
      "finding affine basis took 0.015779\n",
      "intermediate time 642.350394\n",
      "1 neighbors\n",
      "setting up df took 0.004827\n",
      "finding affine basis took 0.002943\n",
      "intermediate time 642.358197\n",
      "1 neighbors\n",
      "setting up df took 0.008293\n",
      "finding affine basis took 0.003023\n",
      "intermediate time 642.369556\n",
      "1 neighbors\n",
      "setting up df took 0.006658\n",
      "finding affine basis took 0.003236\n",
      "intermediate time 642.379478\n",
      "1 neighbors\n",
      "setting up df took 0.008897\n",
      "finding affine basis took 0.003667\n",
      "intermediate time 642.392072\n",
      "1 neighbors\n",
      "setting up df took 0.008184\n",
      "finding affine basis took 0.003558\n",
      "intermediate time 642.403849\n",
      "1 neighbors\n",
      "setting up df took 0.005246\n",
      "finding affine basis took 0.003258\n",
      "intermediate time 642.412386\n",
      "1 neighbors\n",
      "setting up df took 0.006934\n",
      "finding affine basis took 0.003108\n",
      "intermediate time 642.422477\n",
      "760/971\n",
      "1 neighbors\n",
      "setting up df took 0.017713\n",
      "finding affine basis took 0.004224\n",
      "intermediate time 642.444444\n",
      "1 neighbors\n",
      "setting up df took 0.008585\n",
      "finding affine basis took 0.003084\n",
      "intermediate time 642.456144\n",
      "1 neighbors\n",
      "setting up df took 0.009120\n",
      "finding affine basis took 0.003633\n",
      "intermediate time 642.468925\n",
      "1 neighbors\n",
      "setting up df took 0.012059\n",
      "finding affine basis took 0.003293\n",
      "intermediate time 642.484306\n",
      "1 neighbors\n",
      "setting up df took 0.010446\n",
      "finding affine basis took 0.003234\n",
      "intermediate time 642.498015\n",
      "1 neighbors\n",
      "setting up df took 0.010319\n",
      "finding affine basis took 0.004138\n",
      "intermediate time 642.512499\n",
      "1 neighbors\n",
      "setting up df took 0.010643\n",
      "finding affine basis took 0.003890\n",
      "intermediate time 642.527164\n",
      "1 neighbors\n"
     ]
    },
    {
     "name": "stderr",
     "output_type": "stream",
     "text": [
      "/home/pierre/anaconda3/conda/envs/pygmt/lib/python3.11/site-packages/shapely/linear.py:90: RuntimeWarning: invalid value encountered in line_locate_point\n",
      "  return lib.line_locate_point(line, other)\n"
     ]
    },
    {
     "name": "stdout",
     "output_type": "stream",
     "text": [
      "setting up df took 0.019152\n",
      "finding affine basis took 0.005103\n",
      "intermediate time 642.551452\n",
      "1 neighbors\n",
      "setting up df took 0.020958\n",
      "finding affine basis took 0.004269\n",
      "intermediate time 642.576713\n",
      "1 neighbors\n",
      "setting up df took 0.021640\n",
      "finding affine basis took 0.004503\n",
      "intermediate time 642.602901\n",
      "770/971\n",
      "1 neighbors\n",
      "setting up df took 0.016812\n",
      "finding affine basis took 0.003593\n",
      "intermediate time 642.623341\n",
      "1 neighbors\n",
      "setting up df took 0.009634\n",
      "finding affine basis took 0.003234\n",
      "intermediate time 642.636239\n",
      "1 neighbors\n",
      "setting up df took 0.014858\n",
      "finding affine basis took 0.003803\n",
      "intermediate time 642.654929\n",
      "1 neighbors\n",
      "setting up df took 0.006253\n",
      "finding affine basis took 0.003514\n",
      "intermediate time 642.664723\n",
      "1 neighbors\n",
      "setting up df took 0.005327\n",
      "finding affine basis took 0.002864\n",
      "intermediate time 642.672946\n",
      "1 neighbors\n",
      "setting up df took 0.009539\n",
      "finding affine basis took 0.003371\n",
      "intermediate time 642.685890\n",
      "1 neighbors\n",
      "setting up df took 0.006396\n",
      "finding affine basis took 0.003826\n",
      "intermediate time 642.696145\n",
      "1 neighbors\n",
      "setting up df took 0.005325\n",
      "finding affine basis took 0.004068\n",
      "intermediate time 642.705574\n",
      "1 neighbors\n",
      "setting up df took 0.009853\n",
      "finding affine basis took 0.004373\n",
      "intermediate time 642.719842\n",
      "1 neighbors\n",
      "setting up df took 0.005350\n",
      "finding affine basis took 0.003165\n",
      "intermediate time 642.728390\n",
      "780/971\n",
      "1 neighbors\n",
      "setting up df took 0.005778\n",
      "finding affine basis took 0.003338\n",
      "intermediate time 642.737539\n",
      "1 neighbors\n",
      "setting up df took 0.005948\n"
     ]
    },
    {
     "name": "stderr",
     "output_type": "stream",
     "text": [
      "/home/pierre/anaconda3/conda/envs/pygmt/lib/python3.11/site-packages/shapely/linear.py:90: RuntimeWarning: invalid value encountered in line_locate_point\n",
      "  return lib.line_locate_point(line, other)\n"
     ]
    },
    {
     "name": "stdout",
     "output_type": "stream",
     "text": [
      "finding affine basis took 0.004856\n",
      "intermediate time 642.748370\n",
      "1 neighbors\n",
      "setting up df took 0.009805\n",
      "finding affine basis took 0.007451\n",
      "intermediate time 642.765715\n",
      "1 neighbors\n",
      "setting up df took 0.006883\n",
      "finding affine basis took 0.005410\n",
      "intermediate time 642.778044\n",
      "1 neighbors\n",
      "setting up df took 0.005232\n",
      "finding affine basis took 0.004348\n",
      "intermediate time 642.787656\n",
      "1 neighbors\n",
      "setting up df took 0.005715\n",
      "finding affine basis took 0.004579\n",
      "intermediate time 642.798006\n",
      "1 neighbors\n",
      "setting up df took 0.007048\n",
      "finding affine basis took 0.003630\n",
      "intermediate time 642.808719\n",
      "1 neighbors\n",
      "setting up df took 0.005416\n",
      "finding affine basis took 0.003109\n",
      "intermediate time 642.817277\n",
      "1 neighbors\n",
      "setting up df took 0.007174\n",
      "finding affine basis took 0.003648\n",
      "intermediate time 642.828125\n",
      "1 neighbors\n",
      "setting up df took 0.008539\n",
      "finding affine basis took 0.003513\n",
      "intermediate time 642.840210\n",
      "790/971\n",
      "1 neighbors\n",
      "setting up df took 0.005049\n",
      "finding affine basis took 0.002999\n",
      "intermediate time 642.848289\n",
      "1 neighbors\n",
      "setting up df took 0.023671\n",
      "finding affine basis took 0.004167\n",
      "intermediate time 642.876155\n",
      "1 neighbors\n",
      "setting up df took 0.006841\n",
      "finding affine basis took 0.004287\n",
      "intermediate time 642.887322\n",
      "1 neighbors\n",
      "setting up df took 0.009536\n",
      "finding affine basis took 0.004480\n",
      "intermediate time 642.901379\n",
      "1 neighbors\n",
      "setting up df took 0.012908\n",
      "finding affine basis took 0.003309\n",
      "intermediate time 642.917628\n",
      "1 neighbors\n",
      "setting up df took 0.007011\n",
      "finding affine basis took 0.003236\n",
      "intermediate time 642.927905\n",
      "1 neighbors\n",
      "setting up df took 0.007114\n",
      "finding affine basis took 0.003757\n",
      "intermediate time 642.938806\n",
      "1 neighbors\n",
      "setting up df took 0.010743\n",
      "finding affine basis took 0.003990\n",
      "intermediate time 642.953565\n",
      "1 neighbors\n",
      "setting up df took 0.009720\n",
      "finding affine basis took 0.004326\n",
      "intermediate time 642.967665\n",
      "1 neighbors\n",
      "setting up df took 0.007102\n",
      "finding affine basis took 0.003434\n",
      "intermediate time 642.978248\n",
      "800/971\n",
      "1 neighbors\n",
      "setting up df took 0.008091\n",
      "finding affine basis took 0.003595\n",
      "intermediate time 642.989975\n",
      "1 neighbors\n",
      "setting up df took 0.005780\n",
      "finding affine basis took 0.003100\n",
      "intermediate time 642.998881\n",
      "1 neighbors\n",
      "setting up df took 0.188684\n",
      "finding affine basis took 0.080014\n",
      "intermediate time 643.267607\n",
      "1 neighbors\n",
      "setting up df took 0.006109\n",
      "finding affine basis took 0.006329\n",
      "intermediate time 643.280097\n",
      "1 neighbors\n",
      "setting up df took 0.076946\n",
      "finding affine basis took 0.024144\n",
      "intermediate time 643.381239\n",
      "1 neighbors\n",
      "setting up df took 0.009135\n"
     ]
    },
    {
     "name": "stderr",
     "output_type": "stream",
     "text": [
      "/home/pierre/anaconda3/conda/envs/pygmt/lib/python3.11/site-packages/shapely/linear.py:90: RuntimeWarning: invalid value encountered in line_locate_point\n",
      "  return lib.line_locate_point(line, other)\n"
     ]
    },
    {
     "name": "stdout",
     "output_type": "stream",
     "text": [
      "finding affine basis took 0.005715\n",
      "intermediate time 643.396146\n",
      "1 neighbors\n",
      "setting up df took 0.018191\n",
      "finding affine basis took 0.004454\n",
      "intermediate time 643.418849\n",
      "1 neighbors\n",
      "setting up df took 0.022032\n",
      "finding affine basis took 0.004707\n",
      "intermediate time 643.445630\n",
      "1 neighbors\n",
      "setting up df took 0.011796\n",
      "finding affine basis took 0.004486\n",
      "intermediate time 643.461967\n",
      "1 neighbors\n",
      "setting up df took 0.034767\n",
      "finding affine basis took 0.010045\n",
      "intermediate time 643.506850\n",
      "810/971\n",
      "1 neighbors\n",
      "setting up df took 0.020597\n",
      "finding affine basis took 0.004779\n",
      "intermediate time 643.532274\n",
      "1 neighbors\n",
      "setting up df took 0.012962\n",
      "finding affine basis took 0.005911\n",
      "intermediate time 643.551188\n",
      "1 neighbors\n",
      "setting up df took 0.011225\n",
      "finding affine basis took 0.003448\n",
      "intermediate time 643.565900\n",
      "1 neighbors\n",
      "setting up df took 0.010631\n",
      "finding affine basis took 0.004179\n",
      "intermediate time 643.580739\n",
      "1 neighbors\n",
      "setting up df took 0.009644\n",
      "finding affine basis took 0.003603\n",
      "intermediate time 643.594034\n",
      "1 neighbors\n"
     ]
    },
    {
     "name": "stderr",
     "output_type": "stream",
     "text": [
      "/home/pierre/anaconda3/conda/envs/pygmt/lib/python3.11/site-packages/shapely/linear.py:90: RuntimeWarning: invalid value encountered in line_locate_point\n",
      "  return lib.line_locate_point(line, other)\n",
      "/home/pierre/anaconda3/conda/envs/pygmt/lib/python3.11/site-packages/shapely/linear.py:90: RuntimeWarning: invalid value encountered in line_locate_point\n",
      "  return lib.line_locate_point(line, other)\n",
      "/home/pierre/anaconda3/conda/envs/pygmt/lib/python3.11/site-packages/shapely/linear.py:90: RuntimeWarning: invalid value encountered in line_locate_point\n",
      "  return lib.line_locate_point(line, other)\n"
     ]
    },
    {
     "name": "stdout",
     "output_type": "stream",
     "text": [
      "setting up df took 0.046727\n",
      "finding affine basis took 0.004775\n",
      "intermediate time 643.645573\n",
      "1 neighbors\n",
      "setting up df took 0.045346\n",
      "finding affine basis took 0.004129\n",
      "intermediate time 643.695076\n",
      "1 neighbors\n",
      "setting up df took 0.005417\n",
      "finding affine basis took 0.002702\n",
      "intermediate time 643.703221\n",
      "1 neighbors\n",
      "setting up df took 0.004938\n",
      "finding affine basis took 0.005175\n",
      "intermediate time 643.713359\n",
      "1 neighbors\n",
      "setting up df took 0.006066\n",
      "finding affine basis took 0.003160\n",
      "intermediate time 643.722620\n",
      "820/971\n",
      "1 neighbors\n",
      "setting up df took 0.005691\n",
      "finding affine basis took 0.003862\n",
      "intermediate time 643.732208\n",
      "1 neighbors\n",
      "setting up df took 0.005257\n",
      "finding affine basis took 0.003364\n",
      "intermediate time 643.740857\n",
      "1 neighbors\n",
      "setting up df took 0.006745\n",
      "finding affine basis took 0.004003\n",
      "intermediate time 643.751638\n",
      "1 neighbors\n",
      "setting up df took 0.005433\n",
      "finding affine basis took 0.003371\n",
      "intermediate time 643.760484\n",
      "1 neighbors\n",
      "setting up df took 0.006470\n",
      "finding affine basis took 0.003180\n",
      "intermediate time 643.770169\n",
      "1 neighbors\n",
      "setting up df took 0.013813\n",
      "finding affine basis took 0.007897\n",
      "intermediate time 643.791919\n",
      "1 neighbors\n",
      "setting up df took 0.006457\n",
      "finding affine basis took 0.003103\n",
      "intermediate time 643.801512\n",
      "1 neighbors\n",
      "setting up df took 0.005499\n",
      "finding affine basis took 0.003458\n",
      "intermediate time 643.810498\n",
      "1 neighbors\n",
      "setting up df took 0.005447\n",
      "finding affine basis took 0.003066\n",
      "intermediate time 643.819045\n",
      "1 neighbors\n",
      "setting up df took 0.078772\n",
      "finding affine basis took 0.005214\n",
      "intermediate time 643.903063\n",
      "830/971\n",
      "1 neighbors\n",
      "setting up df took 0.069232\n",
      "finding affine basis took 0.006362\n",
      "intermediate time 643.978688\n",
      "1 neighbors\n",
      "setting up df took 0.006666\n",
      "finding affine basis took 0.002830\n",
      "intermediate time 643.988213\n",
      "1 neighbors\n",
      "setting up df took 0.005622\n",
      "finding affine basis took 0.003512\n",
      "intermediate time 643.997373\n",
      "1 neighbors\n",
      "setting up df took 0.004682\n",
      "finding affine basis took 0.002930\n",
      "intermediate time 644.005013\n",
      "1 neighbors\n",
      "setting up df took 0.007408\n",
      "finding affine basis took 0.004109\n",
      "intermediate time 644.016557\n",
      "1 neighbors\n",
      "setting up df took 0.005490\n",
      "finding affine basis took 0.003830\n",
      "intermediate time 644.025907\n",
      "0 neighbors\n",
      "0 neighbors\n",
      "0 neighbors\n",
      "0 neighbors\n",
      "840/971\n",
      "0 neighbors\n",
      "0 neighbors\n",
      "0 neighbors\n",
      "0 neighbors\n",
      "0 neighbors\n",
      "0 neighbors\n",
      "0 neighbors\n",
      "0 neighbors\n",
      "0 neighbors\n",
      "0 neighbors\n",
      "850/971\n",
      "0 neighbors\n",
      "0 neighbors\n",
      "0 neighbors\n",
      "0 neighbors\n",
      "0 neighbors\n",
      "0 neighbors\n",
      "0 neighbors\n",
      "0 neighbors\n",
      "0 neighbors\n",
      "0 neighbors\n",
      "860/971\n",
      "0 neighbors\n",
      "0 neighbors\n",
      "0 neighbors\n",
      "0 neighbors\n",
      "0 neighbors\n",
      "0 neighbors\n",
      "0 neighbors\n",
      "0 neighbors\n",
      "0 neighbors\n",
      "0 neighbors\n",
      "870/971\n",
      "0 neighbors\n",
      "0 neighbors\n",
      "0 neighbors\n",
      "0 neighbors\n",
      "0 neighbors\n",
      "0 neighbors\n",
      "0 neighbors\n",
      "0 neighbors\n",
      "0 neighbors\n",
      "0 neighbors\n",
      "880/971\n",
      "0 neighbors\n",
      "0 neighbors\n",
      "0 neighbors\n",
      "0 neighbors\n",
      "0 neighbors\n",
      "0 neighbors\n",
      "0 neighbors\n",
      "0 neighbors\n",
      "0 neighbors\n",
      "0 neighbors\n",
      "890/971\n",
      "0 neighbors\n",
      "0 neighbors\n",
      "0 neighbors\n",
      "0 neighbors\n",
      "0 neighbors\n",
      "0 neighbors\n",
      "0 neighbors\n",
      "0 neighbors\n",
      "0 neighbors\n",
      "0 neighbors\n",
      "900/971\n",
      "0 neighbors\n",
      "0 neighbors\n",
      "0 neighbors\n",
      "0 neighbors\n",
      "0 neighbors\n",
      "0 neighbors\n",
      "0 neighbors\n",
      "0 neighbors\n",
      "0 neighbors\n",
      "0 neighbors\n",
      "910/971\n",
      "0 neighbors\n",
      "0 neighbors\n",
      "0 neighbors\n",
      "0 neighbors\n",
      "0 neighbors\n",
      "0 neighbors\n",
      "0 neighbors\n",
      "0 neighbors\n",
      "0 neighbors\n",
      "0 neighbors\n",
      "920/971\n",
      "0 neighbors\n",
      "0 neighbors\n",
      "0 neighbors\n",
      "0 neighbors\n",
      "0 neighbors\n",
      "0 neighbors\n",
      "0 neighbors\n",
      "0 neighbors\n",
      "0 neighbors\n",
      "0 neighbors\n",
      "930/971\n",
      "0 neighbors\n",
      "0 neighbors\n",
      "0 neighbors\n",
      "0 neighbors\n",
      "0 neighbors\n",
      "0 neighbors\n",
      "0 neighbors\n",
      "0 neighbors\n",
      "0 neighbors\n",
      "0 neighbors\n",
      "940/971\n",
      "0 neighbors\n",
      "0 neighbors\n",
      "0 neighbors\n",
      "0 neighbors\n",
      "0 neighbors\n",
      "0 neighbors\n",
      "0 neighbors\n",
      "0 neighbors\n",
      "0 neighbors\n",
      "0 neighbors\n",
      "950/971\n",
      "0 neighbors\n",
      "0 neighbors\n",
      "0 neighbors\n",
      "0 neighbors\n",
      "0 neighbors\n",
      "0 neighbors\n",
      "0 neighbors\n",
      "0 neighbors\n",
      "0 neighbors\n",
      "0 neighbors\n",
      "960/971\n",
      "0 neighbors\n",
      "0 neighbors\n",
      "0 neighbors\n",
      "0 neighbors\n",
      "0 neighbors\n",
      "0 neighbors\n",
      "0 neighbors\n",
      "0 neighbors\n",
      "0 neighbors\n",
      "0 neighbors\n",
      "970/971\n",
      "0 neighbors\n",
      "0 neighbors\n",
      "644.0269525051117\n"
     ]
    },
    {
     "name": "stderr",
     "output_type": "stream",
     "text": [
      "/home/pierre/anaconda3/conda/envs/pygmt/lib/python3.11/site-packages/shapely/linear.py:90: RuntimeWarning: invalid value encountered in line_locate_point\n",
      "  return lib.line_locate_point(line, other)\n"
     ]
    }
   ],
   "source": [
    "max_nb_neighbors=float('inf')\n",
    "t1=time.time()\n",
    "nodes_data['elevation']=None\n",
    "contour_line_ids=nodes_data['contour_line_id'].unique()\n",
    "contour_lines_ids=sorted(contour_line_ids,key=lambda contour_line_id:len(list(G.neighbors(contour_line_id))))\n",
    "contour_lines_ids=contour_lines_ids[::-1]\n",
    "print('sorted')\n",
    "for k,root_contour_line_id in enumerate(contour_lines_ids):\n",
    "    if (k+1)%10==0:\n",
    "        print('%i/%i'%(k+1,len(contour_line_ids)))\n",
    "    neighbor_contour_line_ids=list(G.neighbors(root_contour_line_id))\n",
    "    print('%i neighbors'%len(neighbor_contour_line_ids))\n",
    "    if 0<len(neighbor_contour_line_ids)<max_nb_neighbors:\n",
    "        t3=time.time()\n",
    "        local_contours_line_ids=[root_contour_line_id]+neighbor_contour_line_ids\n",
    "        local_contour_data=get_nodes_data(cursor,local_contours_line_ids)\n",
    "        local_contour_data=local_contour_data.to_crs(crs)\n",
    "        local_contour_data=local_contour_data.set_index('id')\n",
    "        t4=time.time()\n",
    "        print('setting up df took %f'%(t4-t3))\n",
    "        local_nodes_data=nodes_data[nodes_data.contour_line_id==root_contour_line_id].copy()\n",
    "        local_nodes_data['elevation']=local_nodes_data['geometry'].apply(lambda osm_pt:get_osm_node_elevation(osm_pt,local_contour_data))\n",
    "        nodes_data.loc[nodes_data.contour_line_id==root_contour_line_id,'elevation']=local_nodes_data.loc[:,'elevation']\n",
    "    \n",
    "        t5=time.time()\n",
    "        print('finding affine basis took %f'%(t5-t4))\n",
    "        print('intermediate time %f'%(t5-t1))\n",
    "t2=time.time()\n",
    "print(t2-t1)"
   ]
  },
  {
   "cell_type": "code",
   "execution_count": 7,
   "id": "04933ac7-af50-4ccf-8e06-0e658e4bdd3e",
   "metadata": {},
   "outputs": [
    {
     "data": {
      "text/plain": [
       "(-0.4596825749848179, 2.514590478087124, 2.5335205308406734, 4.999915106494939)"
      ]
     },
     "execution_count": 7,
     "metadata": {},
     "output_type": "execute_result"
    }
   ],
   "source": [
    "nodes_data=nodes_data[nodes_data.elevation==nodes_data.elevation]\n",
    "diffs=nodes_data['elevation']-nodes_data['contour_line_id'].apply(lambda node:G.nodes()[node]['elevation'])\n",
    "np.min(diffs),np.mean(diffs),np.median(diffs),np.max(diffs)\n",
    "                                                                  "
   ]
  },
  {
   "cell_type": "code",
   "execution_count": 8,
   "id": "943e0621-cc8a-4bc2-aa52-1455f1e5e244",
   "metadata": {},
   "outputs": [
    {
     "name": "stdout",
     "output_type": "stream",
     "text": [
      "1.2758359909057617\n"
     ]
    },
    {
     "data": {
      "text/plain": [
       "2"
      ]
     },
     "execution_count": 8,
     "metadata": {},
     "output_type": "execute_result"
    }
   ],
   "source": [
    "UPDATE_ELEVATION=True\n",
    "if UPDATE_ELEVATION:\n",
    "    t1=time.time()\n",
    "    cmd=\"\"\"CREATE TEMPORARY TABLE temp (\n",
    "    `osm_id` BIGINT NOT NULL,\n",
    "    `elevation` FLOAT NOT NULL\n",
    "\n",
    "    );\"\"\"\n",
    "    cursor.execute(cmd)\n",
    "\n",
    "    cmd=\"INSERT INTO temp(`osm_id`,`elevation`) VALUES %s\"%',\\n'.join(['(%i,%f)'%(osm_id,row['elevation']) for osm_id,row in nodes_data.iterrows()])\n",
    "    cursor.execute(cmd)\n",
    "\n",
    "    cmd=\"\"\" UPDATE %s JOIN temp\n",
    "    ON %s.osm_id=temp.osm_id\n",
    "    SET %s.elevation=temp.elevation\n",
    "\n",
    "    ;\"\"\"%(osm_nodes_table_name,osm_nodes_table_name,osm_nodes_table_name)\n",
    "    cursor.execute(cmd)\n",
    "    \n",
    "    cmd=\"DROP TABLE temp\"\n",
    "    cursor.execute(cmd)\n",
    "    t2=time.time()\n",
    "    print(t2-t1)\n",
    "2"
   ]
  },
  {
   "cell_type": "code",
   "execution_count": null,
   "id": "b62a5307-0b49-47ee-b78d-72395111e08c",
   "metadata": {},
   "outputs": [],
   "source": []
  }
 ],
 "metadata": {
  "kernelspec": {
   "display_name": "pygmt",
   "language": "python",
   "name": "pygmt"
  },
  "language_info": {
   "codemirror_mode": {
    "name": "ipython",
    "version": 3
   },
   "file_extension": ".py",
   "mimetype": "text/x-python",
   "name": "python",
   "nbconvert_exporter": "python",
   "pygments_lexer": "ipython3",
   "version": "3.11.5"
  }
 },
 "nbformat": 4,
 "nbformat_minor": 5
}
