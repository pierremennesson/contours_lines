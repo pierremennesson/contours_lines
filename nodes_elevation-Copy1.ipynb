{
 "cells": [
  {
   "cell_type": "code",
   "execution_count": 1,
   "id": "91cb1570-0726-4199-86ee-4590d33ab05f",
   "metadata": {},
   "outputs": [],
   "source": [
    "%load_ext autoreload\n",
    "%autoreload 2\n",
    "%reload_ext autoreload\n",
    "import mysql.connector\n",
    "import networkx as nx\n",
    "import geopandas as gpd\n",
    "import pandas as pd\n",
    "from shapely.geometry import Polygon,MultiPolygon,LineString,MultiLineString,LinearRing,Point\n",
    "from shapely import symmetric_difference\n",
    "from shapely.ops import nearest_points\n",
    "from shapely.wkt import loads\n",
    "import scipy\n",
    "import time\n",
    "import numpy as np\n",
    "import random\n",
    "from networkx.drawing.nx_pydot import graphviz_layout\n",
    "import matplotlib.pyplot as plt\n",
    "import osmnx as ox\n",
    "import glob\n",
    "from itertools import combinations,product\n",
    "from copy import deepcopy\n",
    "import os\n",
    "from lib_contour_lines import *\n",
    "import mysql.connector\n"
   ]
  },
  {
   "cell_type": "code",
   "execution_count": 2,
   "id": "c9f989f5-f6ac-4235-9d4e-b8e678dcdf12",
   "metadata": {},
   "outputs": [
    {
     "data": {
      "text/plain": [
       "2"
      ]
     },
     "execution_count": 2,
     "metadata": {},
     "output_type": "execute_result"
    }
   ],
   "source": [
    "\n",
    "cnx = mysql.connector.connect(user='spirz', \n",
    "                              password='this_is_my_PASSWORD_m8',\n",
    "                              host='localhost',\n",
    "                              database='dem_from_contours_lines',\n",
    "                              autocommit=True)\n",
    "cursor = cnx.cursor(buffered=True,dictionary=True)\n",
    "contours_lines_table_name='contours_lines'\n",
    "tree_edges_table_name=\"tree_edges\"\n",
    "osm_nodes_table_name=\"osm_nodes\"\n",
    "osm_intersections_table_name=\"osm_intersections\"\n",
    "2"
   ]
  },
  {
   "cell_type": "code",
   "execution_count": 3,
   "id": "fafb598b-0ea8-45d5-8e37-13886b3c388b",
   "metadata": {},
   "outputs": [
    {
     "name": "stdout",
     "output_type": "stream",
     "text": [
      "0.6780967712402344\n"
     ]
    }
   ],
   "source": [
    "t1=time.time()\n",
    "G=build_graph(cursor)\n",
    "t2=time.time()\n",
    "print(t2-t1)"
   ]
  },
  {
   "cell_type": "code",
   "execution_count": 4,
   "id": "96ae45d5-55e3-4684-9d24-e45c16165174",
   "metadata": {},
   "outputs": [
    {
     "name": "stdout",
     "output_type": "stream",
     "text": [
      "1.5086908340454102\n"
     ]
    }
   ],
   "source": [
    "t1=time.time()\n",
    "cmd=\"SELECT osm_id,contour_line_id,ST_asText(geometry) AS geometry FROM %s WHERE contour_line_id IS NOT NULL\"%osm_nodes_table_name\n",
    "cursor.execute(cmd)\n",
    "nodes_data=pd.DataFrame(cursor.fetchall())\n",
    "nodes_data['geometry']=nodes_data['geometry'].apply(lambda pt:loads(pt))\n",
    "nodes_data=nodes_data.set_index('osm_id',drop=False)\n",
    "nodes_data=gpd.GeoDataFrame(nodes_data,geometry='geometry',crs='epsg:4326')\n",
    "nodes_data['old_geometry']=nodes_data['geometry'].copy()\n",
    "crs=nodes_data.estimate_utm_crs()\n",
    "nodes_data=nodes_data.to_crs(crs)\n",
    "nodes_data['depth']=nodes_data['contour_line_id'].apply(lambda contour_line_id:G.nodes()[contour_line_id]['depth'])\n",
    "t2=time.time()\n",
    "print(t2-t1)"
   ]
  },
  {
   "cell_type": "code",
   "execution_count": 5,
   "id": "ac791395-4d04-4d96-887c-06f042a17953",
   "metadata": {},
   "outputs": [
    {
     "data": {
      "text/plain": [
       "[21765,\n",
       " 115880,\n",
       " 54878,\n",
       " 4643,\n",
       " 4538,\n",
       " 5305,\n",
       " 115887,\n",
       " 51572,\n",
       " 115988,\n",
       " 24110,\n",
       " 116089,\n",
       " 56085,\n",
       " 54393,\n",
       " 1380,\n",
       " 51038,\n",
       " 13742,\n",
       " 115908,\n",
       " 8474,\n",
       " 115873,\n",
       " 115882,\n",
       " 11416,\n",
       " 54588,\n",
       " 53737,\n",
       " 115891]"
      ]
     },
     "execution_count": 5,
     "metadata": {},
     "output_type": "execute_result"
    }
   ],
   "source": [
    "contour_line_ids=nodes_data[nodes_data.depth>400]['contour_line_id'].unique()\n",
    "contour_line_ids=[contour_line_id for contour_line_id in contour_line_ids if len(list(G.neighbors(contour_line_id)))>1]\n",
    "contour_line_ids"
   ]
  },
  {
   "cell_type": "code",
   "execution_count": 19,
   "id": "97b9aeab-27d6-44ea-8ed1-0b983293ab06",
   "metadata": {},
   "outputs": [
    {
     "data": {
      "text/plain": [
       "24110"
      ]
     },
     "execution_count": 19,
     "metadata": {},
     "output_type": "execute_result"
    }
   ],
   "source": [
    "root_contour_line_id"
   ]
  },
  {
   "cell_type": "code",
   "execution_count": null,
   "id": "de809301-cb6a-447b-bb5b-81fb738e503f",
   "metadata": {},
   "outputs": [
    {
     "name": "stdout",
     "output_type": "stream",
     "text": [
      "184 neighbors\n",
      "setting up df took 0.905825\n"
     ]
    },
    {
     "name": "stderr",
     "output_type": "stream",
     "text": [
      "/home/pierre/anaconda3/conda/envs/pygmt/lib/python3.11/site-packages/shapely/linear.py:90: RuntimeWarning: invalid value encountered in line_locate_point\n",
      "  return lib.line_locate_point(line, other)\n"
     ]
    },
    {
     "name": "stdout",
     "output_type": "stream",
     "text": [
      "finding affine basis took 77.642824\n",
      "168 neighbors\n",
      "setting up df took 1.012918\n"
     ]
    },
    {
     "name": "stderr",
     "output_type": "stream",
     "text": [
      "/home/pierre/anaconda3/conda/envs/pygmt/lib/python3.11/site-packages/shapely/linear.py:90: RuntimeWarning: invalid value encountered in line_locate_point\n",
      "  return lib.line_locate_point(line, other)\n"
     ]
    },
    {
     "name": "stdout",
     "output_type": "stream",
     "text": [
      "finding affine basis took 65.331997\n",
      "3 neighbors\n",
      "setting up df took 0.027647\n",
      "finding affine basis took 0.031157\n",
      "4 neighbors\n",
      "setting up df took 0.017521\n",
      "finding affine basis took 0.018185\n",
      "2 neighbors\n",
      "setting up df took 0.005539\n",
      "finding affine basis took 0.004379\n",
      "174 neighbors\n",
      "setting up df took 0.959767\n"
     ]
    },
    {
     "name": "stderr",
     "output_type": "stream",
     "text": [
      "/home/pierre/anaconda3/conda/envs/pygmt/lib/python3.11/site-packages/shapely/linear.py:90: RuntimeWarning: invalid value encountered in line_locate_point\n",
      "  return lib.line_locate_point(line, other)\n"
     ]
    },
    {
     "name": "stdout",
     "output_type": "stream",
     "text": [
      "finding affine basis took 68.819447\n",
      "136 neighbors\n",
      "setting up df took 1.127676\n"
     ]
    },
    {
     "name": "stderr",
     "output_type": "stream",
     "text": [
      "/home/pierre/anaconda3/conda/envs/pygmt/lib/python3.11/site-packages/shapely/linear.py:90: RuntimeWarning: invalid value encountered in line_locate_point\n",
      "  return lib.line_locate_point(line, other)\n"
     ]
    },
    {
     "name": "stdout",
     "output_type": "stream",
     "text": [
      "finding affine basis took 28.723086\n",
      "127 neighbors\n",
      "setting up df took 1.099058\n"
     ]
    },
    {
     "name": "stderr",
     "output_type": "stream",
     "text": [
      "/home/pierre/anaconda3/conda/envs/pygmt/lib/python3.11/site-packages/shapely/linear.py:90: RuntimeWarning: invalid value encountered in line_locate_point\n",
      "  return lib.line_locate_point(line, other)\n"
     ]
    },
    {
     "name": "stdout",
     "output_type": "stream",
     "text": [
      "finding affine basis took 46.195301\n",
      "149 neighbors\n",
      "setting up df took 1.071121\n"
     ]
    },
    {
     "name": "stderr",
     "output_type": "stream",
     "text": [
      "/home/pierre/anaconda3/conda/envs/pygmt/lib/python3.11/site-packages/shapely/linear.py:90: RuntimeWarning: invalid value encountered in line_locate_point\n",
      "  return lib.line_locate_point(line, other)\n"
     ]
    },
    {
     "name": "stdout",
     "output_type": "stream",
     "text": [
      "finding affine basis took 48.408479\n",
      "10/4337\n",
      "607 neighbors\n",
      "setting up df took 0.687963\n"
     ]
    },
    {
     "name": "stderr",
     "output_type": "stream",
     "text": [
      "/home/pierre/anaconda3/conda/envs/pygmt/lib/python3.11/site-packages/shapely/linear.py:90: RuntimeWarning: invalid value encountered in line_locate_point\n",
      "  return lib.line_locate_point(line, other)\n"
     ]
    },
    {
     "name": "stdout",
     "output_type": "stream",
     "text": [
      "finding affine basis took 251.627919\n",
      "1 neighbors\n",
      "setting up df took 0.011067\n",
      "finding affine basis took 0.012639\n",
      "205 neighbors\n",
      "setting up df took 1.056543\n"
     ]
    },
    {
     "name": "stderr",
     "output_type": "stream",
     "text": [
      "/home/pierre/anaconda3/conda/envs/pygmt/lib/python3.11/site-packages/shapely/linear.py:90: RuntimeWarning: invalid value encountered in line_locate_point\n",
      "  return lib.line_locate_point(line, other)\n"
     ]
    },
    {
     "name": "stdout",
     "output_type": "stream",
     "text": [
      "finding affine basis took 106.028444\n",
      "187 neighbors\n",
      "setting up df took 0.895688\n"
     ]
    },
    {
     "name": "stderr",
     "output_type": "stream",
     "text": [
      "/home/pierre/anaconda3/conda/envs/pygmt/lib/python3.11/site-packages/shapely/linear.py:90: RuntimeWarning: invalid value encountered in line_locate_point\n",
      "  return lib.line_locate_point(line, other)\n"
     ]
    },
    {
     "name": "stdout",
     "output_type": "stream",
     "text": [
      "finding affine basis took 77.979290\n",
      "172 neighbors\n",
      "setting up df took 0.988549\n"
     ]
    },
    {
     "name": "stderr",
     "output_type": "stream",
     "text": [
      "/home/pierre/anaconda3/conda/envs/pygmt/lib/python3.11/site-packages/shapely/linear.py:90: RuntimeWarning: invalid value encountered in line_locate_point\n",
      "  return lib.line_locate_point(line, other)\n"
     ]
    },
    {
     "name": "stdout",
     "output_type": "stream",
     "text": [
      "finding affine basis took 53.643404\n",
      "157 neighbors\n",
      "setting up df took 1.091828\n"
     ]
    },
    {
     "name": "stderr",
     "output_type": "stream",
     "text": [
      "/home/pierre/anaconda3/conda/envs/pygmt/lib/python3.11/site-packages/shapely/linear.py:90: RuntimeWarning: invalid value encountered in line_locate_point\n",
      "  return lib.line_locate_point(line, other)\n"
     ]
    },
    {
     "name": "stdout",
     "output_type": "stream",
     "text": [
      "finding affine basis took 33.150312\n",
      "1 neighbors\n",
      "setting up df took 0.007109\n",
      "finding affine basis took 0.004687\n",
      "5 neighbors\n",
      "setting up df took 0.025452\n",
      "finding affine basis took 0.005362\n",
      "1 neighbors\n",
      "setting up df took 0.006801\n",
      "finding affine basis took 0.003305\n",
      "2 neighbors\n",
      "setting up df took 0.008132\n",
      "finding affine basis took 0.004137\n",
      "20/4337\n",
      "141 neighbors\n",
      "setting up df took 1.006309\n"
     ]
    },
    {
     "name": "stderr",
     "output_type": "stream",
     "text": [
      "/home/pierre/anaconda3/conda/envs/pygmt/lib/python3.11/site-packages/shapely/linear.py:90: RuntimeWarning: invalid value encountered in line_locate_point\n",
      "  return lib.line_locate_point(line, other)\n"
     ]
    }
   ],
   "source": [
    "t1=time.time()\n",
    "contour_line_ids=nodes_data['contour_line_id'].unique()\n",
    "for k,root_contour_line_id in enumerate(contour_line_ids):\n",
    "    if (k+1)%10==0:\n",
    "        print('%i/%i'%(k+1,len(contour_line_ids)))\n",
    "    t3=time.time()\n",
    "    neighbor_contour_line_ids=list(G.neighbors(root_contour_line_id))\n",
    "    print('%i neighbors'%len(neighbor_contour_line_ids))\n",
    "    local_contours_line_ids=[root_contour_line_id]+neighbor_contour_line_ids\n",
    "    local_contour_data=get_nodes_data(cursor,local_contours_line_ids)\n",
    "    local_contour_data=local_contour_data.to_crs(crs)\n",
    "    local_contour_data=local_contour_data.set_index('id')\n",
    "    t4=time.time()\n",
    "    print('setting up df took %f'%(t4-t3))\n",
    "    local_nodes_data=nodes_data[nodes_data.contour_line_id==root_contour_line_id].copy()\n",
    "    local_nodes_data=select_affine_basis_for_data_frame(local_nodes_data,local_contour_data)\n",
    "    t5=time.time()\n",
    "    print('finding affine basis took %f'%(t5-t4))\n",
    "t2=time.time()\n",
    "print(t2-t1)"
   ]
  },
  {
   "cell_type": "code",
   "execution_count": null,
   "id": "5c83df65-123c-41f4-9491-0ca92dcac9b7",
   "metadata": {},
   "outputs": [],
   "source": []
  }
 ],
 "metadata": {
  "kernelspec": {
   "display_name": "pygmt",
   "language": "python",
   "name": "pygmt"
  },
  "language_info": {
   "codemirror_mode": {
    "name": "ipython",
    "version": 3
   },
   "file_extension": ".py",
   "mimetype": "text/x-python",
   "name": "python",
   "nbconvert_exporter": "python",
   "pygments_lexer": "ipython3",
   "version": "3.11.5"
  }
 },
 "nbformat": 4,
 "nbformat_minor": 5
}
